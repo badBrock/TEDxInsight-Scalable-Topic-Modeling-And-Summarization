{
 "cells": [
  {
   "cell_type": "code",
   "execution_count": 1,
   "metadata": {},
   "outputs": [],
   "source": [
    "import pickle\n",
    "from collections import defaultdict\n",
    "import os\n",
    "import google_auth_oauthlib.flow\n",
    "import googleapiclient.discovery\n",
    "import googleapiclient.errors\n",
    "from pymongo import MongoClient\n",
    "import os\n",
    "import pandas as pd\n"
   ]
  },
  {
   "cell_type": "code",
   "execution_count": 2,
   "metadata": {},
   "outputs": [
    {
     "data": {
      "text/plain": [
       "['admin', 'config', 'local', 'ted']"
      ]
     },
     "execution_count": 2,
     "metadata": {},
     "output_type": "execute_result"
    }
   ],
   "source": [
    "client = MongoClient()\n",
    "client.list_database_names()"
   ]
  },
  {
   "cell_type": "code",
   "execution_count": 4,
   "metadata": {},
   "outputs": [
    {
     "data": {
      "text/plain": [
       "Collection(Database(MongoClient(host=['localhost:27017'], document_class=dict, tz_aware=False, connect=True), 'ted'), 'ted_stats_new')"
      ]
     },
     "execution_count": 4,
     "metadata": {},
     "output_type": "execute_result"
    }
   ],
   "source": [
    "db = client['ted']\n",
    "db.create_collection(\"ted_stats_new\")"
   ]
  },
  {
   "cell_type": "code",
   "execution_count": 5,
   "metadata": {},
   "outputs": [],
   "source": [
    "ted_stats = db.get_collection('ted_stats_new')\n"
   ]
  },
  {
   "cell_type": "code",
   "execution_count": 6,
   "metadata": {},
   "outputs": [],
   "source": [
    "with open('E:\\\\NLP_Recommender_System\\\\scraping\\\\random_processes\\\\scraped_links_2025.pkl', 'rb') as picklefile:\n",
    "    links_video_ted = pickle.load(picklefile)"
   ]
  },
  {
   "cell_type": "code",
   "execution_count": 7,
   "metadata": {},
   "outputs": [
    {
     "name": "stdout",
     "output_type": "stream",
     "text": [
      "3212\n"
     ]
    }
   ],
   "source": [
    "import pickle\n",
    "\n",
    "def pickle_to_list(file_path):\n",
    "    \"\"\"\n",
    "    Load a pickle file and convert its contents into a list.\n",
    "    \n",
    "    Parameters:\n",
    "        file_path (str): Path to the pickle file.\n",
    "    \n",
    "    Returns:\n",
    "        list: A list containing each element from the pickle file.\n",
    "    \"\"\"\n",
    "    try:\n",
    "        with open(file_path, 'rb') as file:\n",
    "            data = pickle.load(file)\n",
    "            return list(data) if hasattr(data, '__iter__') else [data]\n",
    "    except (FileNotFoundError, pickle.UnpicklingError) as e:\n",
    "        print(f\"Error loading pickle file: {e}\")\n",
    "        return []\n",
    "\n",
    "# Example usage:\n",
    "my_list = pickle_to_list('E:\\\\NLP_Recommender_System\\\\scraping\\\\random_processes\\\\scraped_links_2025.pkl')\n",
    "print(len(my_list))"
   ]
  },
  {
   "cell_type": "code",
   "execution_count": 8,
   "metadata": {},
   "outputs": [],
   "source": [
    "links_video_ted=my_list"
   ]
  },
  {
   "cell_type": "code",
   "execution_count": 9,
   "metadata": {},
   "outputs": [
    {
     "data": {
      "text/plain": [
       "3212"
      ]
     },
     "execution_count": 9,
     "metadata": {},
     "output_type": "execute_result"
    }
   ],
   "source": [
    "len(links_video_ted)"
   ]
  },
  {
   "cell_type": "code",
   "execution_count": 10,
   "metadata": {},
   "outputs": [
    {
     "name": "stdout",
     "output_type": "stream",
     "text": [
      "Please visit this URL to authorize this application: https://accounts.google.com/o/oauth2/auth?response_type=code&client_id=974472596179-tcgvota4j3r5eopj9nlmp089kqlitcv9.apps.googleusercontent.com&redirect_uri=http%3A%2F%2Flocalhost%3A8080%2F&scope=https%3A%2F%2Fwww.googleapis.com%2Fauth%2Fyoutube.readonly&state=0NJW8acI45P3BWNfKFf6yQgMRuL1hy&prompt=consent&access_type=offline\n"
     ]
    },
    {
     "name": "stderr",
     "output_type": "stream",
     "text": [
      "Fetching Video Stats: 100%|██████████| 3212/3212 [10:09<00:00,  5.27video/s]  \n"
     ]
    }
   ],
   "source": [
    "import os\n",
    "import google_auth_oauthlib.flow\n",
    "import googleapiclient.discovery\n",
    "from tqdm import tqdm\n",
    "\n",
    "def load_processed_videos():\n",
    "    \"\"\"Load processed video IDs from a file.\"\"\"\n",
    "    try:\n",
    "        with open(\"processed_videos.txt\", \"r\") as f:\n",
    "            return set(f.read().splitlines())\n",
    "    except FileNotFoundError:\n",
    "        return set()\n",
    "\n",
    "def save_processed_video(video_id):\n",
    "    \"\"\"Save a processed video ID to the file.\"\"\"\n",
    "    with open(\"processed_videos.txt\", \"a\") as f:\n",
    "        f.write(video_id + \"\\n\")\n",
    "\n",
    "def main():\n",
    "    # Disable OAuthlib's HTTPS verification when running locally.\n",
    "    # *DO NOT* leave this option enabled in production.\n",
    "    os.environ[\"OAUTHLIB_INSECURE_TRANSPORT\"] = \"1\"\n",
    "\n",
    "    api_service_name = \"youtube\"\n",
    "    api_version = \"v3\"\n",
    "    client_secrets_file = \"D:\\\\client_secret_974472596179-tcgvota4j3r5eopj9nlmp089kqlitcv9.apps.googleusercontent.com.json\"\n",
    "\n",
    "    # Get credentials and create an API client\n",
    "    flow = google_auth_oauthlib.flow.InstalledAppFlow.from_client_secrets_file(\n",
    "        client_secrets_file, [\"https://www.googleapis.com/auth/youtube.readonly\"])\n",
    "    credentials = flow.run_local_server(port=8080, prompt='consent')\n",
    "    youtube = googleapiclient.discovery.build(\n",
    "        api_service_name, api_version, credentials=credentials)\n",
    "    \n",
    "    # List of video links (Replace with actual video IDs)  \n",
    "    processed_videos = load_processed_videos()  # Load already processed videos\n",
    "\n",
    "    for url in tqdm(links_video_ted, desc=\"Fetching Video Stats\", unit=\"video\"):\n",
    "        if url in processed_videos:\n",
    "            continue  # Skip already processed videos\n",
    "        \n",
    "        try:\n",
    "            request = youtube.videos().list(part=\"snippet,contentDetails,statistics\", id=url)\n",
    "            response = request.execute()\n",
    "            ted_stats.insert_one(response)\n",
    "            save_processed_video(url)  # Save progress\n",
    "        except Exception as e:\n",
    "            print(f\"Error fetching {url}: {e}\")\n",
    "            continue\n",
    "\n",
    "if __name__ == \"__main__\":\n",
    "    main()"
   ]
  },
  {
   "cell_type": "code",
   "execution_count": null,
   "metadata": {},
   "outputs": [],
   "source": []
  }
 ],
 "metadata": {
  "kernelspec": {
   "display_name": "Python 3",
   "language": "python",
   "name": "python3"
  },
  "language_info": {
   "codemirror_mode": {
    "name": "ipython",
    "version": 3
   },
   "file_extension": ".py",
   "mimetype": "text/x-python",
   "name": "python",
   "nbconvert_exporter": "python",
   "pygments_lexer": "ipython3",
   "version": "3.12.4"
  }
 },
 "nbformat": 4,
 "nbformat_minor": 2
}
