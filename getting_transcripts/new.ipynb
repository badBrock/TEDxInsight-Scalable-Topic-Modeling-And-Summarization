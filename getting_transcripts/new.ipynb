{
 "cells": [
  {
   "cell_type": "code",
   "execution_count": 1,
   "metadata": {},
   "outputs": [],
   "source": [
    "from youtube_transcript_api import YouTubeTranscriptApi, TranscriptsDisabled, VideoUnavailable\n",
    "from tqdm import tqdm\n",
    "from concurrent.futures import ThreadPoolExecutor\n",
    "import time\n",
    "import pickle\n",
    "from collections import defaultdict\n",
    "import os\n",
    "import google_auth_oauthlib.flow\n",
    "import googleapiclient.discovery\n",
    "import googleapiclient.errors\n",
    "from pymongo import MongoClient\n",
    "import os\n",
    "import pandas as pd"
   ]
  },
  {
   "cell_type": "code",
   "execution_count": 2,
   "metadata": {},
   "outputs": [],
   "source": [
    "\n",
    "with open('E:\\\\NLP_Recommender_System\\\\scraping\\\\random_processes\\\\scraped_links_2025.pkl', 'rb') as picklefile:\n",
    "    links_video_ted = pickle.load(picklefile)\n",
    "    \n"
   ]
  },
  {
   "cell_type": "code",
   "execution_count": 3,
   "metadata": {},
   "outputs": [
    {
     "data": {
      "text/plain": [
       "3212"
      ]
     },
     "execution_count": 3,
     "metadata": {},
     "output_type": "execute_result"
    }
   ],
   "source": [
    "len(links_video_ted)"
   ]
  },
  {
   "cell_type": "code",
   "execution_count": 4,
   "metadata": {},
   "outputs": [],
   "source": [
    "client = MongoClient()\n",
    "client.list_database_names()\n",
    "db = client['ted']\n"
   ]
  },
  {
   "cell_type": "code",
   "execution_count": 7,
   "metadata": {},
   "outputs": [],
   "source": [
    "\n",
    "db.create_collection(\"ted_transcript_new\")\n",
    "ted_transcripts = db.get_collection('ted_transcript_new')\n"
   ]
  },
  {
   "cell_type": "code",
   "execution_count": null,
   "metadata": {},
   "outputs": [
    {
     "name": "stdout",
     "output_type": "stream",
     "text": [
      "🟢 3212 videos left to process.\n"
     ]
    },
    {
     "name": "stderr",
     "output_type": "stream",
     "text": [
      "Fetching Transcripts: 100%|█████████▉| 3211/3212 [16:17<00:00,  1.77video/s]"
     ]
    }
   ],
   "source": [
    "from youtube_transcript_api import YouTubeTranscriptApi, TranscriptsDisabled, VideoUnavailable\n",
    "from tqdm import tqdm\n",
    "from concurrent.futures import ThreadPoolExecutor\n",
    "import time\n",
    "\n",
    "# Fetch already processed video IDs from MongoDB\n",
    "existing_videos = set(doc['url'] for doc in ted_transcripts.find({}, {'url': 1}))\n",
    "remaining_videos = [vid for vid in links_video_ted if vid not in existing_videos]\n",
    "\n",
    "print(f\"🟢 {len(remaining_videos)} videos left to process.\")\n",
    "\n",
    "# Use tqdm with manual updates\n",
    "progress_bar = tqdm(total=len(remaining_videos), desc=\"Fetching Transcripts\", unit=\"video\")\n",
    "\n",
    "# Function to fetch transcript with timeout\n",
    "def fetch_transcript(video_id):\n",
    "    try:\n",
    "        start_time = time.time()\n",
    "        response = YouTubeTranscriptApi.get_transcript(video_id)\n",
    "        elapsed_time = time.time() - start_time\n",
    "\n",
    "        if elapsed_time > 10:  # Timeout condition\n",
    "            raise TimeoutError(\"Transcript request took too long\")\n",
    "\n",
    "        ted_transcripts.insert_one({'url': video_id, 'transcript': response})\n",
    "    \n",
    "    except (TranscriptsDisabled, VideoUnavailable, TimeoutError) as e:\n",
    "        ted_transcripts.insert_one({'url': video_id, 'transcript': f\"Error: {str(e)}\"})\n",
    "    \n",
    "    except Exception as e:\n",
    "        ted_transcripts.insert_one({'url': video_id, 'transcript': f\"Unknown Error: {str(e)}\"})\n",
    "    \n",
    "    finally:\n",
    "        progress_bar.update(1)  # Update tqdm progress\n",
    "\n",
    "# Use ThreadPoolExecutor with tqdm progress tracking\n",
    "with ThreadPoolExecutor(max_workers=5) as executor:\n",
    "    executor.map(fetch_transcript, remaining_videos)\n",
    "\n",
    "progress_bar.close()  # Close the progress bar after completion\n",
    "\n",
    "print(\"✅ Completed transcript extraction!\")\n"
   ]
  },
  {
   "cell_type": "code",
   "execution_count": null,
   "metadata": {},
   "outputs": [],
   "source": []
  }
 ],
 "metadata": {
  "kernelspec": {
   "display_name": "Python 3",
   "language": "python",
   "name": "python3"
  },
  "language_info": {
   "codemirror_mode": {
    "name": "ipython",
    "version": 3
   },
   "file_extension": ".py",
   "mimetype": "text/x-python",
   "name": "python",
   "nbconvert_exporter": "python",
   "pygments_lexer": "ipython3",
   "version": "3.12.4"
  }
 },
 "nbformat": 4,
 "nbformat_minor": 2
}
