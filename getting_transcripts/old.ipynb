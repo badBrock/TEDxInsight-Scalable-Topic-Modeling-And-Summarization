{
 "cells": [
  {
   "cell_type": "code",
   "execution_count": 2,
   "metadata": {},
   "outputs": [],
   "source": [
    "from youtube_transcript_api import YouTubeTranscriptApi, TranscriptsDisabled, VideoUnavailable\n",
    "from tqdm import tqdm\n",
    "from concurrent.futures import ThreadPoolExecutor\n",
    "import time\n",
    "import pickle\n",
    "from collections import defaultdict\n",
    "import os\n",
    "import google_auth_oauthlib.flow\n",
    "import googleapiclient.discovery\n",
    "import googleapiclient.errors\n",
    "from pymongo import MongoClient\n",
    "import os\n",
    "import pandas as pd"
   ]
  },
  {
   "cell_type": "code",
   "execution_count": 3,
   "metadata": {},
   "outputs": [],
   "source": [
    "\n",
    "with open('E:\\\\NLP_Recommender_System\\\\data\\\\ted_video_links_2730.pkl', 'rb') as picklefile:\n",
    "    links_video_ted = pickle.load(picklefile)\n",
    "    \n"
   ]
  },
  {
   "cell_type": "code",
   "execution_count": 8,
   "metadata": {},
   "outputs": [],
   "source": [
    "client = MongoClient()\n",
    "client.list_database_names()\n",
    "db = client['ted']\n",
    "\n",
    "# db.create_collection(\"ted_transcript_old\")\n",
    "ted_transcripts = db.get_collection('ted_transcript_old')\n"
   ]
  },
  {
   "cell_type": "code",
   "execution_count": 10,
   "metadata": {},
   "outputs": [
    {
     "data": {
      "text/plain": [
       "2730"
      ]
     },
     "execution_count": 10,
     "metadata": {},
     "output_type": "execute_result"
    }
   ],
   "source": [
    "\n",
    "# Assume you have 2700 videos\n",
    "total_videos = len(links_video_ted)\n",
    "total_videos\n"
   ]
  },
  {
   "cell_type": "code",
   "execution_count": null,
   "metadata": {},
   "outputs": [],
   "source": [
    "\n",
    "# **Resume from video 2254** (Adjust if needed)\n",
    "\n",
    "remaining_videos = links_video_ted\n",
    "\n",
    "# Function to fetch transcript with timeout\n",
    "def fetch_transcript(video_id):\n",
    "    try:\n",
    "        start_time = time.time()\n",
    "        response = YouTubeTranscriptApi.get_transcript(video_id)\n",
    "        elapsed_time = time.time() - start_time\n",
    "\n",
    "        if elapsed_time > 10:  # Timeout condition\n",
    "            raise TimeoutError(\"Transcript request took too long\")\n",
    "\n",
    "        ted_transcripts.insert_one({'url': video_id, 'transcript': response})\n",
    "    except (TranscriptsDisabled, VideoUnavailable, TimeoutError) as e:\n",
    "        ted_transcripts.insert_one({'url': video_id, 'transcript': f\"Error: {str(e)}\"})\n",
    "    except Exception as e:\n",
    "        ted_transcripts.insert_one({'url': video_id, 'transcript': f\"Unknown Error: {str(e)}\"})\n",
    "\n",
    "# **Use threading to speed up the process**\n",
    "with ThreadPoolExecutor(max_workers=5) as executor:\n",
    "    list(tqdm(executor.map(fetch_transcript, remaining_videos), total=len(remaining_videos), desc=\"Fetching Transcripts\", unit=\"video\"))\n",
    "\n",
    "print(\"✅ Completed transcript extraction!\")\n"
   ]
  },
  {
   "cell_type": "code",
   "execution_count": null,
   "metadata": {},
   "outputs": [],
   "source": []
  }
 ],
 "metadata": {
  "kernelspec": {
   "display_name": "Python 3",
   "language": "python",
   "name": "python3"
  },
  "language_info": {
   "codemirror_mode": {
    "name": "ipython",
    "version": 3
   },
   "file_extension": ".py",
   "mimetype": "text/x-python",
   "name": "python",
   "nbconvert_exporter": "python",
   "pygments_lexer": "ipython3",
   "version": "3.12.4"
  }
 },
 "nbformat": 4,
 "nbformat_minor": 2
}
