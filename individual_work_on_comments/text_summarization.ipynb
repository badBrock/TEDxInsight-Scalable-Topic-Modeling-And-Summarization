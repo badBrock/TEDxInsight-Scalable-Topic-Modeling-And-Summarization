{
 "cells": [
  {
   "cell_type": "code",
   "execution_count": 1,
   "id": "a6c91282",
   "metadata": {},
   "outputs": [],
   "source": [
    "import pickle"
   ]
  },
  {
   "cell_type": "code",
   "execution_count": 2,
   "id": "2fbf33c6",
   "metadata": {},
   "outputs": [],
   "source": [
    "with open(\"E:\\\\NLP_Recommender_System\\\\data\\\\transcript.pkl\", \"rb\") as f:\n",
    "    df=pickle.load(f)"
   ]
  },
  {
   "cell_type": "code",
   "execution_count": 3,
   "id": "8815ee49",
   "metadata": {},
   "outputs": [
    {
     "data": {
      "text/plain": [
       "(5766, 2)"
      ]
     },
     "execution_count": 3,
     "metadata": {},
     "output_type": "execute_result"
    }
   ],
   "source": [
    "df.shape"
   ]
  },
  {
   "cell_type": "code",
   "execution_count": 9,
   "id": "3c2177e6",
   "metadata": {},
   "outputs": [],
   "source": [
    "data=df.head()[\"transcript\"][0]"
   ]
  },
  {
   "cell_type": "code",
   "execution_count": null,
   "id": "6a7080b8",
   "metadata": {},
   "outputs": [],
   "source": [
    "cleaned_text = \" \".join([item['text'] for item in data])\n",
    "\n",
    "cleaned_text"
   ]
  },
  {
   "cell_type": "markdown",
   "id": "3c0d0054",
   "metadata": {},
   "source": [
    "Two weeks ago I was in my studio in Paris, and the phone rang and I heard, \"Hey, JR, you won the TED Prize 2011. You have to make a wish to save the world.\" I was lost. I mean, I can't save the world. Nobody can. The world is fucked up. Come on, you have dictators ruling the world, population is growing by millions, there's no more fish in the sea, the North Pole is melting and as the last TED Prize winner said, we're all becoming fat. (Laughter) Except maybe French people. Whatever. So I called back and I told her, \"Look, Amy, tell the TED guys I just won't show up. I can't do anything to save the world.\" She said, \"Hey, JR, your wish is not to save the world, but to change the world.\" \"Oh, all right.\" (Laughter) \"That's cool.\" I mean, technology, politics, business do change the world -- not always in a good way, but they do. What about art? Could art change the world? I started when I was 15 years old. And at that time, I was not thinking about changing the world. I was doing graffiti -- writing my name everywhere, using the city as a canvas. I was going in the tunnels of Paris, on the rooftops with my friends. Each trip was an excursion, was an adventure. It was like leaving our mark on society, to say, \"I was here,\" on the top of a building. So when I found a cheap camera on the subway, I started documenting those adventures with my friends and gave them back as photocopies -- really small photos just that size. That's how, at 17 years old, I started pasting them. And I did my first \"expo de rue,\" which means sidewalk gallery. And I framed it with color so you would not confuse it with advertising. I mean, the city's the best gallery I could imagine. I would never have to make a book and then present it to a gallery and let them decide if my work was nice enough to show it to people. I would control it directly with the public in the streets. So that's Paris. I would change -- depending on the places I would go -- the title of the exhibition. That's on the Champs-Elysees. I was quite proud of that one. Because I was just 18 and I was just up there on the top of the Champs-Elysees. Then when the photo left, the frame was still there. (Laughter) November 2005: the streets are burning. A large wave of riots had broken into the first projects of Paris. Everyone was glued to the TV, watching disturbing, frightening images taken from the edge of the neighborhood. I mean, these kids, without control, throwing Molotov cocktails, attacking the cops and the firemen, looting everything they could in the shops. These were criminals, thugs, dangerous, destroying their own environment. And then I saw it -- could it be possible? -- my photo on a wall revealed by a burning car -- a pasting I'd done a year earlier -- an illegal one -- still there. I mean, these were the faces of my friends. I know those guys. All of them are not angels, but they're not monsters either. So it was kind of weird to see those images and those eyes stare back at me through a television. So I went back there with a 28 mm lens. It was the only one I had at that time. But with that lens, you have to be as close as 10 inches from the person. So you can do it only with their trust. So I took full portraits of people from Le Bosquet. They were making scary faces to play the caricature of themselves. And then I pasted huge posters everywhere in the bourgeois area of Paris with the name, age, even building number of these guys. A year later, the exhibition was displayed in front of the city hall of Paris. And we go from thug images, who've been stolen and distorted by the media, who's now proudly taking over his own image. That's where I realized the power of paper and glue. So could art change the world? A year later, I was listening to all the noise about the Middle East conflict. I mean, at that time, trust me, they were only referring to the Israeli and Palestinian conflict. So with my friend Marco, we decided to go there and see who are the real Palestinians and who are the real Israelis. Are they so different? When we got there, we just went in the street, started talking with people everywhere, and we realized that things were a bit different from the rhetoric we heard in the media. So we decided to take portraits of Palestinians and Israelis doing the same jobs -- taxi-driver, lawyer, cooks. Asked them to make a face as a sign of commitment. Not a smile -- that really doesn't tell about who you are and what you feel. They all accepted to be pasted next to the other. I decided to paste in eight Israeli and Palestinian cities and on both sides of the wall. We launched the biggest illegal art exhibition ever. We called the project Face 2 Face. The experts said, \"No way. The people will not accept. The army will shoot you, and Hamas will kidnap you.\" We said, \"Okay, let's try and push as far as we can.\" I love the way that people will ask me, \"How big will my photo be?\" \"It will be as big as your house.\" When we did the wall, we did the Palestinian side. So we arrived with just our ladders and we realized that they were not high enough. And so Palestinians guys say, \"Calm down. No wait. I'm going to find you a solution.\" So he went to the Church of Nativity and brought back an old ladder that was so old that it could have seen Jesus being born. (Laughter) We did Face 2 Face with only six friends, two ladders, two brushes, a rented car, a camera and 20,000 square feet of paper. We had all sorts of help from all walks of life. Okay, for example, that's Palestine. We're in Ramallah right now. We're pasting portraits -- so both portraits in the streets in a crowded market. People come around us and start asking, \"What are you doing here?\" \"Oh, we're actually doing an art project and we are pasting an Israeli and a Palestinian doing the same job. And those ones are actually two taxi-drivers.\" And then there was always a silence. \"You mean you're pasting an Israeli face -- doing a face -- right here?\" \"Well, yeah, yeah, that's part of the project.\" And I would always leave that moment, and we would ask them, \"So can you tell me who is who?\" And most of them couldn't say. (Applause) We even pasted on Israeli military towers, and nothing happened. When you paste an image, it's just paper and glue. People can tear it, tag on it, or even pee on it -- some are a bit high for that, I agree -- but the people in the street, they are the curator. The rain and the wind will take them off anyway. They are not meant to stay. But exactly four years after, the photos, most of them are still there. Face 2 Face demonstrated that what we thought impossible was possible -- and, you know what, even easy. We didn't push the limit; we just showed that they were further than anyone thought. In the Middle East, I experienced my work in places without [many] museums. So the reactions in the street were kind of interesting. So I decided to go further in this direction and go in places where there were zero museums. When you go in these developing societies, women are the pillars of their community, but the men are still the ones holding the streets. So we were inspired to create a project where men will pay tribute to women by posting their photos. I called that project Women Are Heroes. When I listened to all the stories everywhere I went on the continents, I couldn't always understand the complicated circumstances of their conflict. I just observed. Sometimes there was no words, no sentence, just tears. I just took their pictures and pasted them. Women Are Heroes took me around the world. Most of the places I went to, I decided to go there because I've heard about it through the media. So for example, in June 2008, I was watching TV in Paris, and then I heard about this terrible thing that happened in Rio de Janeiro -- the first favela of Brazil named Providencia. Three kids -- that was three students -- were [detained] by the army because they were not carrying their papers. And the army took them, and instead of bringing them to the police station, they brought them to an enemy favela where they get chopped into pieces. I was shocked. All Brazil was shocked. I heard it was one of the most violent favelas, because the largest drug cartel controls it. So I decided to go there. When I arrived -- I mean, I didn't have any contact with any NGO. There was none in place -- no association, no NGOs, nothing -- no eyewitnesses. So we just walked around, and we met a woman, and I showed her my book. And she said, \"You know what? We're hungry for culture. We need culture out there.\" So I went out and I started with the kids. I just took a few photos of the kids, and the next day I came with the posters and we pasted them. The day after, I came back and they were already scratched. But that's okay. I wanted them to feel that this art belongs to them. Then the next day, I held a meeting on the main square and some women came. They were all linked to the three kids that got killed. There was the mother, the grandmother, the best friend -- they all wanted to shout the story. After that day, everyone in the favela gave me the green light. I took more photos, and we started the project. The drug lords were kind of worried about us filming in the place, so I told them, \"You know what? I'm not interested in filming the violence and the weapons. You see that enough in the media. What I want to show is the incredible life and energy. I've been seeing it around me the last few days.\" So that's a really symbolic pasting, because that's the first one we did that you couldn't see from the city. And that's where the three kids got arrested, and that's the grandmother of one of them. And on that stairs, that's where the traffickers always stand and there's a lot of exchange of fire. Everyone there understood the project. And then we pasted everywhere -- the whole hill. (Applause) What was interesting is that the media couldn't get in. I mean, you should see that. They would have to film us from a really long distance by helicopter and then have a really long lens, and we would see ourselves, on TV, pasting. And they would put a number: \"Please call this number if you know what's going on in Providencia.\" We just did a project and then left so the media wouldn't know. So how can we know about the project? So they had to go and find the women and get an explanation from them. So you create a bridge between the media and the anonymous women. We kept traveling. We went to Africa, Sudan, Sierra Leone, Liberia, Kenya. In war-torn places like Monrovia, people come straight to you. I mean, they want to know what you're up to. They kept asking me, \"What is the purpose of your project? Are you an NGO? Are you the media?\" Art. Just doing art. Some people question, \"Why is it in black and white? Don't you have color in France?\" (Laughter) Or they tell you, \"Are these people all dead?\" Some who understood the project would explain it to others. And to a man who did not understand, I heard someone say, \"You know, you've been here for a few hours trying to understand, discussing with your fellows. During that time, you haven't thought about what you're going to eat tomorrow. This is art.\" I think it's people's curiosity that motivates them to come into the projects. And then it becomes more. It becomes a desire, a need, an armor. On this bridge that's in Monrovia, ex-rebel soldiers helped us pasting a portrait of a woman that might have been raped during the war. Women are always the first ones targeted during conflict. This is Kibera, Kenya, one of the largest slums of Africa. You might have seen images about the post-election violence that happened there in 2008. This time we covered the roofs of the houses, but we didn't use paper, because paper doesn't prevent the rain from leaking inside the house -- vinyl does. Then art becomes useful. So the people kept it. You know what I love is, for example, when you see the biggest eye there, there are so [many] houses inside. And I went there a few months ago -- photos are still there -- and it was missing a piece of the eye. So I asked the people what happened. \"Oh, that guy just moved.\" (Laughter) When the roofs were covered, a woman said as a joke, \"Now God can see me.\" When you look at Kibera now, they look back. Okay, India. Before I start that, just so you know, each time we go to a place, we don't have authorization, so we set up like commandos -- we're a group of friends who arrive there, and we try to paste on the walls. But there are places where you just can't paste on a wall. In India it was just impossible to paste. I heard culturally and because of the law, they would just arrest us at the first pasting. So we decided to paste white, white on the walls. So imagine white guys pasting white papers. So people would come to us and ask us, \"Hey, what are you up to?\" \"Oh, you know, we're just doing art.\" \"Art?\" Of course, they were confused. But you know how India has a lot of dust in the streets, and the more dust you would have going up in the air, on the white paper you can almost see, but there is this sticky part like when you reverse a sticker. So the more dust you have, the more it will reveal the photo. So we could just walk in the street during the next days and the photos would get revealed by themselves. (Applause) Thank you. So we didn't get caught this time. Each project -- that's a film from Women Are Heroes. (Music) Okay. For each project we do a film. And most of what you see -- that's a trailer from \"Women Are Heroes\" -- its images, photography, taken one after the other. And the photos kept traveling even without us. (Laughter) (Applause) Hopefully, you'll see the film, and you'll understand the scope of the project and what the people felt when they saw those photos. Because that's a big part of it. There's layers behind each photo. Behind each image is a story. Women Are Heroes created a new dynamic in each of the communities, and the women kept that dynamic after we left. For example, we did books -- not for sale -- that all the community would get. But to get it, they would have to [get] it signed by one of the women. We did that in most of the places. We go back regularly. And so in Providencia, for example, in the favela, we have a cultural center running there. In Kibera, each year we cover more roofs. Because of course, when we left, the people who were just at the edge of the project said, \"Hey, what about my roof?\" So we decided to come the year after and keep doing the project. A really important point for me is that I don't use any brand or corporate sponsors. So I have no responsibility to anyone but myself and the subjects. (Applause) And that is for me one of the more important things in the work. I think, today, as important as the result is the way you do things. And that has always been a central part of the work. And what's interesting is that fine line that I have with images and advertising. We just did some pasting in Los Angeles on another project in the last weeks. And I was even invited to cover the MOCA museum. But yesterday the city called them and said, \"Look, you're going to have to tear it down. Because this can be taken for advertising, and because of the law, it has to be taken down.\" But tell me, advertising for what? The people I photograph were proud to participate in the project and to have their photo in the community. But they asked me for a promise basically. They asked me, \"Please, make our story travel with you.\" So I did. That's Paris. That's Rio. In each place, we built exhibitions with a story, and the story traveled. You understand the full scope of the project. That's London. New York. And today, they are with you in Long Beach. All right, recently I started a public art project where I don't use my artwork anymore. I use Man Ray, Helen Levitt, Giacomelli, other people's artwork. It doesn't matter today if it's your photo or not. The importance is what you do with the images, the statement it makes where it's pasted. So for example, I pasted the photo of the minaret in Switzerland a few weeks after they voted the law forbidding minarets in the country. (Applause) This image of three men wearing gas masks was taken in Chernobyl originally, and I pasted it in Southern Italy, where the mafia sometimes bury the garbage under the ground. In some ways, art can change the world. Art is not supposed to change the world, to change practical things, but to change perceptions. Art can change the way we see the world. Art can create an analogy. Actually the fact that art cannot change things makes it a neutral place for exchanges and discussions, and then enables you to change the world. When I do my work, I have two kinds of reactions. People say, \"Oh, why don't you go in Iraq or Afghanistan. They would be really useful.\" Or, \"How can we help?\" I presume that you belong to the second category, and that's good, because for that project, I'm going to ask you to take the photos and paste them. So now my wish is: (mock drum roll) (Laughter) I wish for you to stand up for what you care about by participating in a global art project, and together we'll turn the world inside out. And this starts right now. Yes, everyone in the room. Everyone watching. I wanted that wish to actually start now. So a subject you're passionate about, a person who you want to tell their story or even your own photos -- tell me what you stand for. Take the photos, the portraits, upload it -- I'll give you all the details -- and I'll send you back your poster. Join by groups and reveal things to the world. The full data is on the website -- insideoutproject.net -- that is launching today. What we see changes who we are. When we act together, the whole thing is much more than the sum of the parts. So I hope that, together, we'll create something that the world will remember. And this starts right now and depends on you. Thank you. (Applause) Thank you. (Applause)"
   ]
  },
  {
   "cell_type": "code",
   "execution_count": 26,
   "id": "9e5ea2ef",
   "metadata": {},
   "outputs": [
    {
     "data": {
      "text/plain": [
       "str"
      ]
     },
     "execution_count": 26,
     "metadata": {},
     "output_type": "execute_result"
    }
   ],
   "source": [
    "type(cleaned_text)"
   ]
  },
  {
   "cell_type": "code",
   "execution_count": 28,
   "id": "cc0dcc30",
   "metadata": {},
   "outputs": [],
   "source": [
    "import re\n",
    "\n",
    "def clean_transcript_string(transcript):\n",
    "    # Remove transcription noise like (Applause), [detained], [many]\n",
    "    transcript = re.sub(r'\\[.*?\\]|\\(.*?\\)', '', transcript)\n",
    "\n",
    "    # Normalize punctuation: keep periods, commas, question marks, exclamations\n",
    "    transcript = re.sub(r'[^a-zA-Z0-9\\s\\.\\,\\?\\!]', '', transcript)\n",
    "\n",
    "    # Normalize multiple spaces to single space\n",
    "    transcript = re.sub(r'\\s+', ' ', transcript)\n",
    "\n",
    "    # Convert to lowercase and strip\n",
    "    transcript = transcript.lower().strip()\n",
    "\n",
    "    # Split into sentences based on ., ?, or !\n",
    "    sentences = re.split(r'[.?!]', transcript)\n",
    "\n",
    "    # Clean up empty strings and strip extra whitespace\n",
    "    sentences = [s.strip() for s in sentences if s.strip()]\n",
    "\n",
    "    return sentences\n"
   ]
  },
  {
   "cell_type": "code",
   "execution_count": 29,
   "id": "e1d9f584",
   "metadata": {},
   "outputs": [
    {
     "data": {
      "text/plain": [
       "['two weeks ago i was in my studio in paris, and the phone rang and i heard, hey, jr, you won the ted prize 2011',\n",
       " 'you have to make a wish to save the world',\n",
       " 'i was lost',\n",
       " 'i mean, i cant save the world',\n",
       " 'nobody can',\n",
       " 'the world is fucked up',\n",
       " 'come on, you have dictators ruling the world, population is growing by millions, theres no more fish in the sea, the north pole is melting and as the last ted prize winner said, were all becoming fat',\n",
       " 'except maybe french people',\n",
       " 'whatever',\n",
       " 'so i called back and i told her, look, amy, tell the ted guys i just wont show up',\n",
       " 'i cant do anything to save the world',\n",
       " 'she said, hey, jr, your wish is not to save the world, but to change the world',\n",
       " 'oh, all right',\n",
       " 'thats cool',\n",
       " 'i mean, technology, politics, business do change the world not always in a good way, but they do',\n",
       " 'what about art',\n",
       " 'could art change the world',\n",
       " 'i started when i was 15 years old',\n",
       " 'and at that time, i was not thinking about changing the world',\n",
       " 'i was doing graffiti writing my name everywhere, using the city as a canvas',\n",
       " 'i was going in the tunnels of paris, on the rooftops with my friends',\n",
       " 'each trip was an excursion, was an adventure',\n",
       " 'it was like leaving our mark on society, to say, i was here, on the top of a building',\n",
       " 'so when i found a cheap camera on the subway, i started documenting those adventures with my friends and gave them back as photocopies really small photos just that size',\n",
       " 'thats how, at 17 years old, i started pasting them',\n",
       " 'and i did my first expo de rue, which means sidewalk gallery',\n",
       " 'and i framed it with color so you would not confuse it with advertising',\n",
       " 'i mean, the citys the best gallery i could imagine',\n",
       " 'i would never have to make a book and then present it to a gallery and let them decide if my work was nice enough to show it to people',\n",
       " 'i would control it directly with the public in the streets',\n",
       " 'so thats paris',\n",
       " 'i would change depending on the places i would go the title of the exhibition',\n",
       " 'thats on the champselysees',\n",
       " 'i was quite proud of that one',\n",
       " 'because i was just 18 and i was just up there on the top of the champselysees',\n",
       " 'then when the photo left, the frame was still there',\n",
       " 'november 2005 the streets are burning',\n",
       " 'a large wave of riots had broken into the first projects of paris',\n",
       " 'everyone was glued to the tv, watching disturbing, frightening images taken from the edge of the neighborhood',\n",
       " 'i mean, these kids, without control, throwing molotov cocktails, attacking the cops and the firemen, looting everything they could in the shops',\n",
       " 'these were criminals, thugs, dangerous, destroying their own environment',\n",
       " 'and then i saw it could it be possible',\n",
       " 'my photo on a wall revealed by a burning car a pasting id done a year earlier an illegal one still there',\n",
       " 'i mean, these were the faces of my friends',\n",
       " 'i know those guys',\n",
       " 'all of them are not angels, but theyre not monsters either',\n",
       " 'so it was kind of weird to see those images and those eyes stare back at me through a television',\n",
       " 'so i went back there with a 28 mm lens',\n",
       " 'it was the only one i had at that time',\n",
       " 'but with that lens, you have to be as close as 10 inches from the person',\n",
       " 'so you can do it only with their trust',\n",
       " 'so i took full portraits of people from le bosquet',\n",
       " 'they were making scary faces to play the caricature of themselves',\n",
       " 'and then i pasted huge posters everywhere in the bourgeois area of paris with the name, age, even building number of these guys',\n",
       " 'a year later, the exhibition was displayed in front of the city hall of paris',\n",
       " 'and we go from thug images, whove been stolen and distorted by the media, whos now proudly taking over his own image',\n",
       " 'thats where i realized the power of paper and glue',\n",
       " 'so could art change the world',\n",
       " 'a year later, i was listening to all the noise about the middle east conflict',\n",
       " 'i mean, at that time, trust me, they were only referring to the israeli and palestinian conflict',\n",
       " 'so with my friend marco, we decided to go there and see who are the real palestinians and who are the real israelis',\n",
       " 'are they so different',\n",
       " 'when we got there, we just went in the street, started talking with people everywhere, and we realized that things were a bit different from the rhetoric we heard in the media',\n",
       " 'so we decided to take portraits of palestinians and israelis doing the same jobs taxidriver, lawyer, cooks',\n",
       " 'asked them to make a face as a sign of commitment',\n",
       " 'not a smile that really doesnt tell about who you are and what you feel',\n",
       " 'they all accepted to be pasted next to the other',\n",
       " 'i decided to paste in eight israeli and palestinian cities and on both sides of the wall',\n",
       " 'we launched the biggest illegal art exhibition ever',\n",
       " 'we called the project face 2 face',\n",
       " 'the experts said, no way',\n",
       " 'the people will not accept',\n",
       " 'the army will shoot you, and hamas will kidnap you',\n",
       " 'we said, okay, lets try and push as far as we can',\n",
       " 'i love the way that people will ask me, how big will my photo be',\n",
       " 'it will be as big as your house',\n",
       " 'when we did the wall, we did the palestinian side',\n",
       " 'so we arrived with just our ladders and we realized that they were not high enough',\n",
       " 'and so palestinians guys say, calm down',\n",
       " 'no wait',\n",
       " 'im going to find you a solution',\n",
       " 'so he went to the church of nativity and brought back an old ladder that was so old that it could have seen jesus being born',\n",
       " 'we did face 2 face with only six friends, two ladders, two brushes, a rented car, a camera and 20,000 square feet of paper',\n",
       " 'we had all sorts of help from all walks of life',\n",
       " 'okay, for example, thats palestine',\n",
       " 'were in ramallah right now',\n",
       " 'were pasting portraits so both portraits in the streets in a crowded market',\n",
       " 'people come around us and start asking, what are you doing here',\n",
       " 'oh, were actually doing an art project and we are pasting an israeli and a palestinian doing the same job',\n",
       " 'and those ones are actually two taxidrivers',\n",
       " 'and then there was always a silence',\n",
       " 'you mean youre pasting an israeli face doing a face right here',\n",
       " 'well, yeah, yeah, thats part of the project',\n",
       " 'and i would always leave that moment, and we would ask them, so can you tell me who is who',\n",
       " 'and most of them couldnt say',\n",
       " 'we even pasted on israeli military towers, and nothing happened',\n",
       " 'when you paste an image, its just paper and glue',\n",
       " 'people can tear it, tag on it, or even pee on it some are a bit high for that, i agree but the people in the street, they are the curator',\n",
       " 'the rain and the wind will take them off anyway',\n",
       " 'they are not meant to stay',\n",
       " 'but exactly four years after, the photos, most of them are still there',\n",
       " 'face 2 face demonstrated that what we thought impossible was possible and, you know what, even easy',\n",
       " 'we didnt push the limit we just showed that they were further than anyone thought',\n",
       " 'in the middle east, i experienced my work in places without museums',\n",
       " 'so the reactions in the street were kind of interesting',\n",
       " 'so i decided to go further in this direction and go in places where there were zero museums',\n",
       " 'when you go in these developing societies, women are the pillars of their community, but the men are still the ones holding the streets',\n",
       " 'so we were inspired to create a project where men will pay tribute to women by posting their photos',\n",
       " 'i called that project women are heroes',\n",
       " 'when i listened to all the stories everywhere i went on the continents, i couldnt always understand the complicated circumstances of their conflict',\n",
       " 'i just observed',\n",
       " 'sometimes there was no words, no sentence, just tears',\n",
       " 'i just took their pictures and pasted them',\n",
       " 'women are heroes took me around the world',\n",
       " 'most of the places i went to, i decided to go there because ive heard about it through the media',\n",
       " 'so for example, in june 2008, i was watching tv in paris, and then i heard about this terrible thing that happened in rio de janeiro the first favela of brazil named providencia',\n",
       " 'three kids that was three students were by the army because they were not carrying their papers',\n",
       " 'and the army took them, and instead of bringing them to the police station, they brought them to an enemy favela where they get chopped into pieces',\n",
       " 'i was shocked',\n",
       " 'all brazil was shocked',\n",
       " 'i heard it was one of the most violent favelas, because the largest drug cartel controls it',\n",
       " 'so i decided to go there',\n",
       " 'when i arrived i mean, i didnt have any contact with any ngo',\n",
       " 'there was none in place no association, no ngos, nothing no eyewitnesses',\n",
       " 'so we just walked around, and we met a woman, and i showed her my book',\n",
       " 'and she said, you know what',\n",
       " 'were hungry for culture',\n",
       " 'we need culture out there',\n",
       " 'so i went out and i started with the kids',\n",
       " 'i just took a few photos of the kids, and the next day i came with the posters and we pasted them',\n",
       " 'the day after, i came back and they were already scratched',\n",
       " 'but thats okay',\n",
       " 'i wanted them to feel that this art belongs to them',\n",
       " 'then the next day, i held a meeting on the main square and some women came',\n",
       " 'they were all linked to the three kids that got killed',\n",
       " 'there was the mother, the grandmother, the best friend they all wanted to shout the story',\n",
       " 'after that day, everyone in the favela gave me the green light',\n",
       " 'i took more photos, and we started the project',\n",
       " 'the drug lords were kind of worried about us filming in the place, so i told them, you know what',\n",
       " 'im not interested in filming the violence and the weapons',\n",
       " 'you see that enough in the media',\n",
       " 'what i want to show is the incredible life and energy',\n",
       " 'ive been seeing it around me the last few days',\n",
       " 'so thats a really symbolic pasting, because thats the first one we did that you couldnt see from the city',\n",
       " 'and thats where the three kids got arrested, and thats the grandmother of one of them',\n",
       " 'and on that stairs, thats where the traffickers always stand and theres a lot of exchange of fire',\n",
       " 'everyone there understood the project',\n",
       " 'and then we pasted everywhere the whole hill',\n",
       " 'what was interesting is that the media couldnt get in',\n",
       " 'i mean, you should see that',\n",
       " 'they would have to film us from a really long distance by helicopter and then have a really long lens, and we would see ourselves, on tv, pasting',\n",
       " 'and they would put a number please call this number if you know whats going on in providencia',\n",
       " 'we just did a project and then left so the media wouldnt know',\n",
       " 'so how can we know about the project',\n",
       " 'so they had to go and find the women and get an explanation from them',\n",
       " 'so you create a bridge between the media and the anonymous women',\n",
       " 'we kept traveling',\n",
       " 'we went to africa, sudan, sierra leone, liberia, kenya',\n",
       " 'in wartorn places like monrovia, people come straight to you',\n",
       " 'i mean, they want to know what youre up to',\n",
       " 'they kept asking me, what is the purpose of your project',\n",
       " 'are you an ngo',\n",
       " 'are you the media',\n",
       " 'art',\n",
       " 'just doing art',\n",
       " 'some people question, why is it in black and white',\n",
       " 'dont you have color in france',\n",
       " 'or they tell you, are these people all dead',\n",
       " 'some who understood the project would explain it to others',\n",
       " 'and to a man who did not understand, i heard someone say, you know, youve been here for a few hours trying to understand, discussing with your fellows',\n",
       " 'during that time, you havent thought about what youre going to eat tomorrow',\n",
       " 'this is art',\n",
       " 'i think its peoples curiosity that motivates them to come into the projects',\n",
       " 'and then it becomes more',\n",
       " 'it becomes a desire, a need, an armor',\n",
       " 'on this bridge thats in monrovia, exrebel soldiers helped us pasting a portrait of a woman that might have been raped during the war',\n",
       " 'women are always the first ones targeted during conflict',\n",
       " 'this is kibera, kenya, one of the largest slums of africa',\n",
       " 'you might have seen images about the postelection violence that happened there in 2008',\n",
       " 'this time we covered the roofs of the houses, but we didnt use paper, because paper doesnt prevent the rain from leaking inside the house vinyl does',\n",
       " 'then art becomes useful',\n",
       " 'so the people kept it',\n",
       " 'you know what i love is, for example, when you see the biggest eye there, there are so houses inside',\n",
       " 'and i went there a few months ago photos are still there and it was missing a piece of the eye',\n",
       " 'so i asked the people what happened',\n",
       " 'oh, that guy just moved',\n",
       " 'when the roofs were covered, a woman said as a joke, now god can see me',\n",
       " 'when you look at kibera now, they look back',\n",
       " 'okay, india',\n",
       " 'before i start that, just so you know, each time we go to a place, we dont have authorization, so we set up like commandos were a group of friends who arrive there, and we try to paste on the walls',\n",
       " 'but there are places where you just cant paste on a wall',\n",
       " 'in india it was just impossible to paste',\n",
       " 'i heard culturally and because of the law, they would just arrest us at the first pasting',\n",
       " 'so we decided to paste white, white on the walls',\n",
       " 'so imagine white guys pasting white papers',\n",
       " 'so people would come to us and ask us, hey, what are you up to',\n",
       " 'oh, you know, were just doing art',\n",
       " 'art',\n",
       " 'of course, they were confused',\n",
       " 'but you know how india has a lot of dust in the streets, and the more dust you would have going up in the air, on the white paper you can almost see, but there is this sticky part like when you reverse a sticker',\n",
       " 'so the more dust you have, the more it will reveal the photo',\n",
       " 'so we could just walk in the street during the next days and the photos would get revealed by themselves',\n",
       " 'thank you',\n",
       " 'so we didnt get caught this time',\n",
       " 'each project thats a film from women are heroes',\n",
       " 'okay',\n",
       " 'for each project we do a film',\n",
       " 'and most of what you see thats a trailer from women are heroes its images, photography, taken one after the other',\n",
       " 'and the photos kept traveling even without us',\n",
       " 'hopefully, youll see the film, and youll understand the scope of the project and what the people felt when they saw those photos',\n",
       " 'because thats a big part of it',\n",
       " 'theres layers behind each photo',\n",
       " 'behind each image is a story',\n",
       " 'women are heroes created a new dynamic in each of the communities, and the women kept that dynamic after we left',\n",
       " 'for example, we did books not for sale that all the community would get',\n",
       " 'but to get it, they would have to it signed by one of the women',\n",
       " 'we did that in most of the places',\n",
       " 'we go back regularly',\n",
       " 'and so in providencia, for example, in the favela, we have a cultural center running there',\n",
       " 'in kibera, each year we cover more roofs',\n",
       " 'because of course, when we left, the people who were just at the edge of the project said, hey, what about my roof',\n",
       " 'so we decided to come the year after and keep doing the project',\n",
       " 'a really important point for me is that i dont use any brand or corporate sponsors',\n",
       " 'so i have no responsibility to anyone but myself and the subjects',\n",
       " 'and that is for me one of the more important things in the work',\n",
       " 'i think, today, as important as the result is the way you do things',\n",
       " 'and that has always been a central part of the work',\n",
       " 'and whats interesting is that fine line that i have with images and advertising',\n",
       " 'we just did some pasting in los angeles on another project in the last weeks',\n",
       " 'and i was even invited to cover the moca museum',\n",
       " 'but yesterday the city called them and said, look, youre going to have to tear it down',\n",
       " 'because this can be taken for advertising, and because of the law, it has to be taken down',\n",
       " 'but tell me, advertising for what',\n",
       " 'the people i photograph were proud to participate in the project and to have their photo in the community',\n",
       " 'but they asked me for a promise basically',\n",
       " 'they asked me, please, make our story travel with you',\n",
       " 'so i did',\n",
       " 'thats paris',\n",
       " 'thats rio',\n",
       " 'in each place, we built exhibitions with a story, and the story traveled',\n",
       " 'you understand the full scope of the project',\n",
       " 'thats london',\n",
       " 'new york',\n",
       " 'and today, they are with you in long beach',\n",
       " 'all right, recently i started a public art project where i dont use my artwork anymore',\n",
       " 'i use man ray, helen levitt, giacomelli, other peoples artwork',\n",
       " 'it doesnt matter today if its your photo or not',\n",
       " 'the importance is what you do with the images, the statement it makes where its pasted',\n",
       " 'so for example, i pasted the photo of the minaret in switzerland a few weeks after they voted the law forbidding minarets in the country',\n",
       " 'this image of three men wearing gas masks was taken in chernobyl originally, and i pasted it in southern italy, where the mafia sometimes bury the garbage under the ground',\n",
       " 'in some ways, art can change the world',\n",
       " 'art is not supposed to change the world, to change practical things, but to change perceptions',\n",
       " 'art can change the way we see the world',\n",
       " 'art can create an analogy',\n",
       " 'actually the fact that art cannot change things makes it a neutral place for exchanges and discussions, and then enables you to change the world',\n",
       " 'when i do my work, i have two kinds of reactions',\n",
       " 'people say, oh, why dont you go in iraq or afghanistan',\n",
       " 'they would be really useful',\n",
       " 'or, how can we help',\n",
       " 'i presume that you belong to the second category, and thats good, because for that project, im going to ask you to take the photos and paste them',\n",
       " 'so now my wish is i wish for you to stand up for what you care about by participating in a global art project, and together well turn the world inside out',\n",
       " 'and this starts right now',\n",
       " 'yes, everyone in the room',\n",
       " 'everyone watching',\n",
       " 'i wanted that wish to actually start now',\n",
       " 'so a subject youre passionate about, a person who you want to tell their story or even your own photos tell me what you stand for',\n",
       " 'take the photos, the portraits, upload it ill give you all the details and ill send you back your poster',\n",
       " 'join by groups and reveal things to the world',\n",
       " 'the full data is on the website insideoutproject',\n",
       " 'net that is launching today',\n",
       " 'what we see changes who we are',\n",
       " 'when we act together, the whole thing is much more than the sum of the parts',\n",
       " 'so i hope that, together, well create something that the world will remember',\n",
       " 'and this starts right now and depends on you',\n",
       " 'thank you',\n",
       " 'thank you']"
      ]
     },
     "execution_count": 29,
     "metadata": {},
     "output_type": "execute_result"
    }
   ],
   "source": [
    "clean_transcript_string(cleaned_text)"
   ]
  },
  {
   "cell_type": "code",
   "execution_count": 30,
   "id": "54fe9226",
   "metadata": {},
   "outputs": [
    {
     "data": {
      "text/plain": [
       "list"
      ]
     },
     "execution_count": 30,
     "metadata": {},
     "output_type": "execute_result"
    }
   ],
   "source": [
    "type(clean_transcript_string(cleaned_text))"
   ]
  },
  {
   "cell_type": "code",
   "execution_count": 31,
   "id": "da557163",
   "metadata": {},
   "outputs": [],
   "source": [
    "input_data=clean_transcript_string(cleaned_text)"
   ]
  },
  {
   "cell_type": "code",
   "execution_count": 57,
   "id": "f445dfab",
   "metadata": {},
   "outputs": [
    {
     "name": "stderr",
     "output_type": "stream",
     "text": [
      "[nltk_data] Downloading package punkt to\n",
      "[nltk_data]     C:\\Users\\Lenovo\\AppData\\Roaming\\nltk_data...\n",
      "[nltk_data]   Package punkt is already up-to-date!\n"
     ]
    }
   ],
   "source": [
    "# 🔧 Required imports\n",
    "from sumy.parsers.plaintext import PlaintextParser\n",
    "from sumy.nlp.tokenizers import Tokenizer\n",
    "from sumy.summarizers.lsa import LsaSummarizer\n",
    "from sumy.summarizers.luhn import LuhnSummarizer\n",
    "from sumy.summarizers.text_rank import TextRankSummarizer as SumyTextRank\n",
    "\n",
    "import spacy\n",
    "import pytextrank\n",
    "import nltk\n",
    "from sklearn.feature_extraction.text import TfidfVectorizer\n",
    "from sklearn.metrics.pairwise import cosine_similarity\n",
    "import re\n",
    "\n",
    "# 📥 One-time setup\n",
    "nltk.download('punkt')\n",
    "nlp = spacy.load(\"en_core_web_sm\")\n",
    "nlp.add_pipe(\"textrank\")\n",
    "\n",
    "# 🧹 Helper functions\n",
    "def clean_text(text):\n",
    "    return re.sub(r'\\s+', ' ', text).strip().lower()\n",
    "\n",
    "def cosine_score(summary, original):\n",
    "    vectorizer = TfidfVectorizer(stop_words='english')\n",
    "    try:\n",
    "        tfidf = vectorizer.fit_transform([summary, original])\n",
    "        return cosine_similarity(tfidf[0:1], tfidf[1:2])[0][0]\n",
    "    except:\n",
    "        return 0.0\n",
    "\n",
    "def coverage_score(summary, original):\n",
    "    summary_words = set(clean_text(summary).split())\n",
    "    original_words = set(clean_text(original).split())\n",
    "    if not summary_words:\n",
    "        return 0.0\n",
    "    return len(summary_words & original_words) / len(summary_words)\n",
    "\n",
    "def compression_ratio(summary, original):\n",
    "    return len(summary) / len(original) if len(original) > 0 else 0.0\n",
    "\n",
    "def score_summary(summary, original):\n",
    "    return {\n",
    "        \"cosine_similarity\": round(cosine_score(summary, original), 4),\n",
    "        \"coverage\": round(coverage_score(summary, original), 4),\n",
    "        \"compression_ratio\": round(compression_ratio(summary, original), 4)\n",
    "    }\n",
    "\n",
    "# 🧠 Summarizers\n",
    "def summarize_pytextrank(text, num_sentences=5):\n",
    "    doc = nlp(text)\n",
    "    return \" \".join([sent.text for sent in doc._.textrank.summary(limit_sentences=num_sentences)])\n",
    "\n",
    "def summarize_sumy(text, summarizer_class, num_sentences=5):\n",
    "    parser = PlaintextParser.from_string(text, Tokenizer(\"english\"))\n",
    "    summarizer = summarizer_class()\n",
    "    summary = summarizer(parser.document, num_sentences)\n",
    "    return \" \".join(str(sentence) for sentence in summary)\n",
    "\n",
    "# 🚀 Main function: Summarize Entire Transcript List as One\n",
    "def summarize_combined_transcripts(transcripts, num_sentences=5):\n",
    "    combined_text = \" \".join(transcripts)\n",
    "\n",
    "    summaries = {\n",
    "        \"pytextrank\": summarize_pytextrank(combined_text, num_sentences),\n",
    "        \"sumy_lsa\": summarize_sumy(combined_text, LsaSummarizer, num_sentences),\n",
    "        \"sumy_luhn\": summarize_sumy(combined_text, LuhnSummarizer, num_sentences),\n",
    "        \"sumy_textrank\": summarize_sumy(combined_text, SumyTextRank, num_sentences)\n",
    "    }\n",
    "\n",
    "    summary_data = {\n",
    "        method: {\n",
    "            \"summary\": summary,\n",
    "            \"scores\": score_summary(summary, combined_text)\n",
    "        }\n",
    "        for method, summary in summaries.items()\n",
    "    }\n",
    "\n",
    "    return summary_data\n"
   ]
  },
  {
   "cell_type": "code",
   "execution_count": 58,
   "id": "d484dafb",
   "metadata": {},
   "outputs": [],
   "source": [
    "summary_data=summarize_combined_transcripts(input_data)"
   ]
  },
  {
   "cell_type": "code",
   "execution_count": 59,
   "id": "1ed7eabf",
   "metadata": {},
   "outputs": [
    {
     "data": {
      "text/plain": [
       "{'pytextrank': {'summary': 'so i did thats paris thats rio in each place, we built exhibitions with a story, and the story traveled you understand the full scope of the project thats london new york and today, they are with you in long beach all right, recently i started a public art project where i dont use my artwork anymore i use man ray, helen levitt, giacomelli, other peoples artwork it doesnt matter today if its your photo or not the importance is what you do with the images, the statement it makes where its pasted so for example, i pasted the photo of the minaret in switzerland a few weeks after they voted the law forbidding minarets in the country this image of three men wearing gas masks was taken in chernobyl originally, and i pasted it in southern italy, where the mafia sometimes bury the garbage under the ground in some ways, art can change the world art is not supposed to change the world, to change practical things, but to change perceptions art can change the way we see the world art can create an analogy actually the fact that art cannot change things makes it a neutral place for exchanges and discussions, and then enables you to change the world when i do my work, i have two kinds of reactions people say, oh, why dont you go in iraq or afghanistan they would be really useful or, how can we help i presume that you belong to the second category, and thats good, because for that project, im going to ask you to take the photos and paste them so now my wish is i wish for you to stand up for what you care about by participating in a global art project, and together well turn the world inside out and this starts right now yes, everyone in the room everyone watching i wanted that wish to actually start now so a subject youre passionate about, a person who you want to tell their story or even your own photos tell me what you stand for take the photos, the portraits, upload it ill give you all the details and ill send you back your poster join by groups and reveal things to the world the full data is on the website insideoutproject net that is launching today what we see changes who we are when we act together, the whole thing is much more than the sum of the parts so i hope that, together, well create something that the world will remember and this starts right now and depends on you thank you thank you so i asked the people what happened oh, that guy just moved when the roofs were covered, a woman said as a joke, now god can see me when you look at kibera now, they look back okay, india before i start that, just so you know, each time we go to a place, we dont have authorization, so we set up like commandos were a group of friends who arrive there, and we try to paste on the walls but there are places where you just cant paste on a wall in india it was just impossible to paste i heard culturally and because of the law, they would just arrest us at the first pasting so we decided to paste white, white on the walls so imagine white guys pasting white papers so people would come to us and ask us, hey, what are you up to oh, you know, were just doing art art of course, they were confused but you know how india has a lot of dust in the streets, and the more dust you would have going up in the air, on the white paper you can almost see, but there is this sticky part like when you reverse a sticker and then i pasted huge posters everywhere in the bourgeois area of paris with the name, age, even building number of these guys a year later, the exhibition was displayed in front of the city hall of paris and we go from thug images, whove been stolen and distorted by the media, whos now proudly taking over his own image thats where i realized the power of paper and glue so could art change the world a year later, i was listening to all the noise about the middle east conflict i mean, at that time, trust me, they were only referring to the israeli and palestinian conflict so with my friend marco, we decided to go there and see who are the real palestinians and who are the real israelis are they so different when we got there, we just went in the street, started talking with people everywhere, and we realized that things were a bit different from the rhetoric we heard in the media so we decided to take portraits of palestinians and israelis doing the same jobs taxidriver, lawyer, cooks asked them to make a face as a sign of commitment not a smile that really doesnt tell about who you are and what you feel they all accepted to be pasted next to the other i decided to paste in eight israeli and palestinian cities and on both sides of the wall we launched the biggest illegal art exhibition ever we called the project face 2 face the experts said, no way the people will not accept the army will shoot you, and hamas will kidnap you we said, okay, lets try and push as far as we can i love the way that people will ask me, how big will my photo be it will be as big as your house when we did the wall, we did the palestinian side i wanted them to feel that this art belongs to them then the next day, i held a meeting on the main square and some women came they were all linked to the three kids that got killed there was the mother, the grandmother, the best friend they all wanted to shout the story after that day, everyone in the favela gave me the green light i took more photos, and we started the project the drug lords were kind of worried about us filming in the place, so i told them, you know what im not interested in filming the violence and the weapons you see that enough in the media what i want to show is the incredible life and energy ive been seeing it around me the last few days so thats a really symbolic pasting, because thats the first one we did that you couldnt see from the city and thats where the three kids got arrested, and thats the grandmother of one of them and on that stairs, thats where the traffickers always stand and theres a lot of exchange of fire everyone there understood the project and i framed it with color so you would not confuse it with advertising i mean, the citys the best gallery i could imagine i would never have to make a book and then present it to a gallery and let them decide if my work was nice enough to show it to people i would control it directly with the public in the streets so thats paris i would change depending on the places i would go the title of the exhibition thats on the champselysees i was quite proud of that one because i was just 18',\n",
       "  'scores': {'cosine_similarity': 0.8299,\n",
       "   'coverage': 1.0,\n",
       "   'compression_ratio': 0.3763}},\n",
       " 'sumy_lsa': {'summary': 'two weeks ago i was in my studio in paris, and the phone rang and i heard, hey, jr, you won the ted prize 2011 you have to make a wish to save the world i was lost i mean, i cant save the world nobody can the world is fucked up come on, you have dictators ruling the world, population is growing by millions, theres no more fish in the sea, the north pole is melting and as the last ted prize winner said, were all becoming fat except maybe french people whatever so i called back and i told her, look, amy, tell the ted guys i just wont show up i cant do anything to save the world she said, hey, jr, your wish is not to save the world, but to change the world oh, all right thats cool i mean, technology, politics, business do change the world not always in a good way, but they do what about art could art change the world i started when i was 15 years old and at that time, i was not thinking about changing the world i was doing graffiti writing my name everywhere, using the city as a canvas i was going in the tunnels of paris, on the rooftops with my friends each trip was an excursion, was an adventure it was like leaving our mark on society, to say, i was here, on the top of a building so when i found a cheap camera on the subway, i started documenting those adventures with my friends and gave them back as photocopies really small photos just that size thats how, at 17 years old, i started pasting them and i did my first expo de rue, which means sidewalk gallery and i framed it with color so you would not confuse it with advertising i mean, the citys the best gallery i could imagine i would never have to make a book and then present it to a gallery and let them decide if my work was nice enough to show it to people i would control it directly with the public in the streets so thats paris i would change depending on the places i would go the title of the exhibition thats on the champselysees i was quite proud of that one because i was just 18 and i was just up there on the top of the champselysees then when the photo left, the frame was still there november 2005 the streets are burning a large wave of riots had broken into the first projects of paris everyone was glued to the tv, watching disturbing, frightening images taken from the edge of the neighborhood i mean, these kids, without control, throwing molotov cocktails, attacking the cops and the firemen, looting everything they could in the shops these were criminals, thugs, dangerous, destroying their own environment and then i saw it could it be possible my photo on a wall revealed by a burning car a pasting id done a year earlier an illegal one still there i mean, these were the faces of my friends i know those guys all of them are not angels, but theyre not monsters either so it was kind of weird to see those images and those eyes stare back at me through a television so i went back there with a 28 mm lens it was the only one i had at that time but with that lens, you have to be as close as 10 inches from the person so you can do it only with their trust so i took full portraits of people from le bosquet they were making scary faces to play the caricature of themselves and then i pasted huge posters everywhere in the bourgeois area of paris with the name, age, even building number of these guys a year later, the exhibition was displayed in front of the city hall of paris and we go from thug images, whove been stolen and distorted by the media, whos now proudly taking over his own image thats where i realized the power of paper and glue so could art change the world a year later, i was listening to all the noise about the middle east conflict i mean, at that time, trust me, they were only referring to the israeli and palestinian conflict so with my friend marco, we decided to go there and see who are the real palestinians and who are the real israelis are they so different when we got there, we just went in the street, started talking with people everywhere, and we realized that things were a bit different from the rhetoric we heard in the media so we decided to take portraits of palestinians and israelis doing the same jobs taxidriver, lawyer, cooks asked them to make a face as a sign of commitment not a smile that really doesnt tell about who you are and what you feel they all accepted to be pasted next to the other i decided to paste in eight israeli and palestinian cities and on both sides of the wall we launched the biggest illegal art exhibition ever we called the project face 2 face the experts said, no way the people will not accept the army will shoot you, and hamas will kidnap you we said, okay, lets try and push as far as we can i love the way that people will ask me, how big will my photo be it will be as big as your house when we did the wall, we did the palestinian side so we arrived with just our ladders and we realized that they were not high enough and so palestinians guys say, calm down no wait im going to find you a solution so he went to the church of nativity and brought back an old ladder that was so old that it could have seen jesus being born we did face 2 face with only six friends, two ladders, two brushes, a rented car, a camera and 20,000 square feet of paper we had all sorts of help from all walks of life okay, for example, thats palestine were in ramallah right now were pasting portraits so both portraits in the streets in a crowded market people come around us and start asking, what are you doing here oh, were actually doing an art project and we are pasting an israeli and a palestinian doing the same job and those ones are actually two taxidrivers and then there was always a silence you mean youre pasting an israeli face doing a face right here well, yeah, yeah, thats part of the project and i would always leave that moment, and we would ask them, so can you tell me who is who and most of them couldnt say we even pasted on israeli military towers, and nothing happened when you paste an image, its just paper and glue people can tear it, tag on it, or even pee on it some are a bit high for that, i agree but the people in the street, they are the curator the rain and the wind will take them off anyway they are not meant to stay but exactly four years after, the photos, most of them are still there face 2 face demonstrated that what we thought impossible was possible and, you know what, even easy we didnt push the limit we just showed that they were further than anyone thought in the middle east, i experienced my work in places without museums so the reactions in the street were kind of interesting so i decided to go further in this direction and go in places where there were zero museums when you go in these developing societies, women are the pillars of their community, but the men are still the ones holding the streets so we were inspired to create a project where men will pay tribute to women by posting their photos i called that project women are heroes when i listened to all the stories everywhere i went on the continents, i couldnt always understand the complicated circumstances of their conflict i just observed sometimes there was no words, no sentence, just tears i just took their pictures and pasted them women are heroes took me around the world most of the places i went to, i decided to go there because ive heard about it through the media so for example, in june 2008, i was watching tv in paris, and then i heard about this terrible thing that happened in rio de janeiro the first favela of brazil named providencia three kids that was three students were by the army because they were not carrying their papers and the army took them, and instead of bringing them to the police station, they brought them to an enemy favela where they get chopped into pieces i was shocked all brazil was shocked i heard it was one of the most violent favelas, because the largest drug cartel controls it so i decided to go there when i arrived i mean, i didnt have any contact with any ngo there was none in place no association, no ngos, nothing no eyewitnesses so we just walked around, and we met a woman, and i showed her my book and she said, you know what were hungry for culture we need culture out there so i went out and i started with the kids i just took a few photos of the kids, and the next day i came with the posters and we pasted them the day after, i came back and they were already scratched but thats okay i wanted them to feel that this art belongs to them then the next day, i held a meeting on the main square and some women came they were all linked to the three kids that got killed there was the mother, the grandmother, the best friend they all wanted to shout the story after that day, everyone in the favela gave me the green light i took more photos, and we started the project the drug lords were kind of worried about us filming in the place, so i told them, you know what im not interested in filming the violence and the weapons you see that enough in the media what i want to show is the incredible life and energy ive been seeing it around me the last few days so thats a really symbolic pasting, because thats the first one we did that you couldnt see from the city and thats where the three kids got arrested, and thats the grandmother of one of them and on that stairs, thats where the traffickers always stand and theres a lot of exchange of fire everyone there understood the project and then we pasted everywhere the whole hill what was interesting is that the media couldnt get in i mean, you should see that they would have to film us from a really long distance by helicopter and then have a really long lens, and we would see ourselves, on tv, pasting and they would put a number please call this number if you know whats going on in providencia we just did a project and then left so the media wouldnt know so how can we know about the project so they had to go and find the women and get an explanation from them so you create a bridge between the media and the anonymous women we kept traveling we went to africa, sudan, sierra leone, liberia, kenya in wartorn places like monrovia, people come straight to you i mean, they want to know what youre up to they kept asking me, what is the purpose of your project are you an ngo are you the media art just doing art some people question, why is it in black and white dont you have color in france or they tell you, are these people all dead some who understood the project would explain it to others and to a man who did not understand, i heard someone say, you know, youve been here for a few hours trying to understand, discussing with your fellows during that time, you havent thought about what youre going to eat tomorrow this is art i think its peoples curiosity that motivates them to come into the projects and then it becomes more it becomes a desire, a need, an armor on this bridge thats in monrovia, exrebel soldiers helped us pasting a portrait of a woman that might have been raped during the war women are always the first ones targeted during conflict this is kibera, kenya, one of the largest slums of africa you might have seen images about the postelection violence that happened there in 2008 this time we covered the roofs of the houses, but we didnt use paper, because paper doesnt prevent the rain from leaking inside the house vinyl does then art becomes useful so the people kept it you know what i love is, for example, when you see the biggest eye there, there are so houses inside and i went there a few months ago photos are still there and it was missing a piece of the eye so i asked the people what happened oh, that guy just moved when the roofs were covered, a woman said as a joke, now god can see me when you look at kibera now, they look back okay, india before i start that, just so you know, each time we go to a place, we dont have authorization, so we set up like commandos were a group of friends who arrive there, and we try to paste on the walls but there are places where you just cant paste on a wall in india it was just impossible to paste i heard culturally and because of the law, they would just arrest us at the first pasting so we decided to paste white, white on the walls so imagine white guys pasting white papers so people would come to us and ask us, hey, what are you up to oh, you know, were just doing art art of course, they were confused but you know how india has a lot of dust in the streets, and the more dust you would have going up in the air, on the white paper you can almost see, but there is this sticky part like when you reverse a sticker so the more dust you have, the more it will reveal the photo so we could just walk in the street during the next days and the photos would get revealed by themselves thank you so we didnt get caught this time each project thats a film from women are heroes okay for each project we do a film and most of what you see thats a trailer from women are heroes its images, photography, taken one after the other and the photos kept traveling even without us hopefully, youll see the film, and youll understand the scope of the project and what the people felt when they saw those photos because thats a big part of it theres layers behind each photo behind each image is a story women are heroes created a new dynamic in each of the communities, and the women kept that dynamic after we left for example, we did books not for sale that all the community would get but to get it, they would have to it signed by one of the women we did that in most of the places we go back regularly and so in providencia, for example, in the favela, we have a cultural center running there in kibera, each year we cover more roofs because of course, when we left, the people who were just at the edge of the project said, hey, what about my roof so we decided to come the year after and keep doing the project a really important point for me is that i dont use any brand or corporate sponsors so i have no responsibility to anyone but myself and the subjects and that is for me one of the more important things in the work i think, today, as important as the result is the way you do things and that has always been a central part of the work and whats interesting is that fine line that i have with images and advertising we just did some pasting in los angeles on another project in the last weeks and i was even invited to cover the moca museum but yesterday the city called them and said, look, youre going to have to tear it down because this can be taken for advertising, and because of the law, it has to be taken down but tell me, advertising for what the people i photograph were proud to participate in the project and to have their photo in the community but they asked me for a promise basically they asked me, please, make our story travel with you so i did thats paris thats rio in each place, we built exhibitions with a story, and the story traveled you understand the full scope of the project thats london new york and today, they are with you in long beach all right, recently i started a public art project where i dont use my artwork anymore i use man ray, helen levitt, giacomelli, other peoples artwork it doesnt matter today if its your photo or not the importance is what you do with the images, the statement it makes where its pasted so for example, i pasted the photo of the minaret in switzerland a few weeks after they voted the law forbidding minarets in the country this image of three men wearing gas masks was taken in chernobyl originally, and i pasted it in southern italy, where the mafia sometimes bury the garbage under the ground in some ways, art can change the world art is not supposed to change the world, to change practical things, but to change perceptions art can change the way we see the world art can create an analogy actually the fact that art cannot change things makes it a neutral place for exchanges and discussions, and then enables you to change the world when i do my work, i have two kinds of reactions people say, oh, why dont you go in iraq or afghanistan they would be really useful or, how can we help i presume that you belong to the second category, and thats good, because for that project, im going to ask you to take the photos and paste them so now my wish is i wish for you to stand up for what you care about by participating in a global art project, and together well turn the world inside out and this starts right now yes, everyone in the room everyone watching i wanted that wish to actually start now so a subject youre passionate about, a person who you want to tell their story or even your own photos tell me what you stand for take the photos, the portraits, upload it ill give you all the details and ill send you back your poster join by groups and reveal things to the world the full data is on the website insideoutproject net that is launching today what we see changes who we are when we act together, the whole thing is much more than the sum of the parts so i hope that, together, well create something that the world will remember and this starts right now and depends on you thank you thank you',\n",
       "  'scores': {'cosine_similarity': 1.0,\n",
       "   'coverage': 1.0,\n",
       "   'compression_ratio': 1.0}},\n",
       " 'sumy_luhn': {'summary': 'two weeks ago i was in my studio in paris, and the phone rang and i heard, hey, jr, you won the ted prize 2011 you have to make a wish to save the world i was lost i mean, i cant save the world nobody can the world is fucked up come on, you have dictators ruling the world, population is growing by millions, theres no more fish in the sea, the north pole is melting and as the last ted prize winner said, were all becoming fat except maybe french people whatever so i called back and i told her, look, amy, tell the ted guys i just wont show up i cant do anything to save the world she said, hey, jr, your wish is not to save the world, but to change the world oh, all right thats cool i mean, technology, politics, business do change the world not always in a good way, but they do what about art could art change the world i started when i was 15 years old and at that time, i was not thinking about changing the world i was doing graffiti writing my name everywhere, using the city as a canvas i was going in the tunnels of paris, on the rooftops with my friends each trip was an excursion, was an adventure it was like leaving our mark on society, to say, i was here, on the top of a building so when i found a cheap camera on the subway, i started documenting those adventures with my friends and gave them back as photocopies really small photos just that size thats how, at 17 years old, i started pasting them and i did my first expo de rue, which means sidewalk gallery and i framed it with color so you would not confuse it with advertising i mean, the citys the best gallery i could imagine i would never have to make a book and then present it to a gallery and let them decide if my work was nice enough to show it to people i would control it directly with the public in the streets so thats paris i would change depending on the places i would go the title of the exhibition thats on the champselysees i was quite proud of that one because i was just 18 and i was just up there on the top of the champselysees then when the photo left, the frame was still there november 2005 the streets are burning a large wave of riots had broken into the first projects of paris everyone was glued to the tv, watching disturbing, frightening images taken from the edge of the neighborhood i mean, these kids, without control, throwing molotov cocktails, attacking the cops and the firemen, looting everything they could in the shops these were criminals, thugs, dangerous, destroying their own environment and then i saw it could it be possible my photo on a wall revealed by a burning car a pasting id done a year earlier an illegal one still there i mean, these were the faces of my friends i know those guys all of them are not angels, but theyre not monsters either so it was kind of weird to see those images and those eyes stare back at me through a television so i went back there with a 28 mm lens it was the only one i had at that time but with that lens, you have to be as close as 10 inches from the person so you can do it only with their trust so i took full portraits of people from le bosquet they were making scary faces to play the caricature of themselves and then i pasted huge posters everywhere in the bourgeois area of paris with the name, age, even building number of these guys a year later, the exhibition was displayed in front of the city hall of paris and we go from thug images, whove been stolen and distorted by the media, whos now proudly taking over his own image thats where i realized the power of paper and glue so could art change the world a year later, i was listening to all the noise about the middle east conflict i mean, at that time, trust me, they were only referring to the israeli and palestinian conflict so with my friend marco, we decided to go there and see who are the real palestinians and who are the real israelis are they so different when we got there, we just went in the street, started talking with people everywhere, and we realized that things were a bit different from the rhetoric we heard in the media so we decided to take portraits of palestinians and israelis doing the same jobs taxidriver, lawyer, cooks asked them to make a face as a sign of commitment not a smile that really doesnt tell about who you are and what you feel they all accepted to be pasted next to the other i decided to paste in eight israeli and palestinian cities and on both sides of the wall we launched the biggest illegal art exhibition ever we called the project face 2 face the experts said, no way the people will not accept the army will shoot you, and hamas will kidnap you we said, okay, lets try and push as far as we can i love the way that people will ask me, how big will my photo be it will be as big as your house when we did the wall, we did the palestinian side so we arrived with just our ladders and we realized that they were not high enough and so palestinians guys say, calm down no wait im going to find you a solution so he went to the church of nativity and brought back an old ladder that was so old that it could have seen jesus being born we did face 2 face with only six friends, two ladders, two brushes, a rented car, a camera and 20,000 square feet of paper we had all sorts of help from all walks of life okay, for example, thats palestine were in ramallah right now were pasting portraits so both portraits in the streets in a crowded market people come around us and start asking, what are you doing here oh, were actually doing an art project and we are pasting an israeli and a palestinian doing the same job and those ones are actually two taxidrivers and then there was always a silence you mean youre pasting an israeli face doing a face right here well, yeah, yeah, thats part of the project and i would always leave that moment, and we would ask them, so can you tell me who is who and most of them couldnt say we even pasted on israeli military towers, and nothing happened when you paste an image, its just paper and glue people can tear it, tag on it, or even pee on it some are a bit high for that, i agree but the people in the street, they are the curator the rain and the wind will take them off anyway they are not meant to stay but exactly four years after, the photos, most of them are still there face 2 face demonstrated that what we thought impossible was possible and, you know what, even easy we didnt push the limit we just showed that they were further than anyone thought in the middle east, i experienced my work in places without museums so the reactions in the street were kind of interesting so i decided to go further in this direction and go in places where there were zero museums when you go in these developing societies, women are the pillars of their community, but the men are still the ones holding the streets so we were inspired to create a project where men will pay tribute to women by posting their photos i called that project women are heroes when i listened to all the stories everywhere i went on the continents, i couldnt always understand the complicated circumstances of their conflict i just observed sometimes there was no words, no sentence, just tears i just took their pictures and pasted them women are heroes took me around the world most of the places i went to, i decided to go there because ive heard about it through the media so for example, in june 2008, i was watching tv in paris, and then i heard about this terrible thing that happened in rio de janeiro the first favela of brazil named providencia three kids that was three students were by the army because they were not carrying their papers and the army took them, and instead of bringing them to the police station, they brought them to an enemy favela where they get chopped into pieces i was shocked all brazil was shocked i heard it was one of the most violent favelas, because the largest drug cartel controls it so i decided to go there when i arrived i mean, i didnt have any contact with any ngo there was none in place no association, no ngos, nothing no eyewitnesses so we just walked around, and we met a woman, and i showed her my book and she said, you know what were hungry for culture we need culture out there so i went out and i started with the kids i just took a few photos of the kids, and the next day i came with the posters and we pasted them the day after, i came back and they were already scratched but thats okay i wanted them to feel that this art belongs to them then the next day, i held a meeting on the main square and some women came they were all linked to the three kids that got killed there was the mother, the grandmother, the best friend they all wanted to shout the story after that day, everyone in the favela gave me the green light i took more photos, and we started the project the drug lords were kind of worried about us filming in the place, so i told them, you know what im not interested in filming the violence and the weapons you see that enough in the media what i want to show is the incredible life and energy ive been seeing it around me the last few days so thats a really symbolic pasting, because thats the first one we did that you couldnt see from the city and thats where the three kids got arrested, and thats the grandmother of one of them and on that stairs, thats where the traffickers always stand and theres a lot of exchange of fire everyone there understood the project and then we pasted everywhere the whole hill what was interesting is that the media couldnt get in i mean, you should see that they would have to film us from a really long distance by helicopter and then have a really long lens, and we would see ourselves, on tv, pasting and they would put a number please call this number if you know whats going on in providencia we just did a project and then left so the media wouldnt know so how can we know about the project so they had to go and find the women and get an explanation from them so you create a bridge between the media and the anonymous women we kept traveling we went to africa, sudan, sierra leone, liberia, kenya in wartorn places like monrovia, people come straight to you i mean, they want to know what youre up to they kept asking me, what is the purpose of your project are you an ngo are you the media art just doing art some people question, why is it in black and white dont you have color in france or they tell you, are these people all dead some who understood the project would explain it to others and to a man who did not understand, i heard someone say, you know, youve been here for a few hours trying to understand, discussing with your fellows during that time, you havent thought about what youre going to eat tomorrow this is art i think its peoples curiosity that motivates them to come into the projects and then it becomes more it becomes a desire, a need, an armor on this bridge thats in monrovia, exrebel soldiers helped us pasting a portrait of a woman that might have been raped during the war women are always the first ones targeted during conflict this is kibera, kenya, one of the largest slums of africa you might have seen images about the postelection violence that happened there in 2008 this time we covered the roofs of the houses, but we didnt use paper, because paper doesnt prevent the rain from leaking inside the house vinyl does then art becomes useful so the people kept it you know what i love is, for example, when you see the biggest eye there, there are so houses inside and i went there a few months ago photos are still there and it was missing a piece of the eye so i asked the people what happened oh, that guy just moved when the roofs were covered, a woman said as a joke, now god can see me when you look at kibera now, they look back okay, india before i start that, just so you know, each time we go to a place, we dont have authorization, so we set up like commandos were a group of friends who arrive there, and we try to paste on the walls but there are places where you just cant paste on a wall in india it was just impossible to paste i heard culturally and because of the law, they would just arrest us at the first pasting so we decided to paste white, white on the walls so imagine white guys pasting white papers so people would come to us and ask us, hey, what are you up to oh, you know, were just doing art art of course, they were confused but you know how india has a lot of dust in the streets, and the more dust you would have going up in the air, on the white paper you can almost see, but there is this sticky part like when you reverse a sticker so the more dust you have, the more it will reveal the photo so we could just walk in the street during the next days and the photos would get revealed by themselves thank you so we didnt get caught this time each project thats a film from women are heroes okay for each project we do a film and most of what you see thats a trailer from women are heroes its images, photography, taken one after the other and the photos kept traveling even without us hopefully, youll see the film, and youll understand the scope of the project and what the people felt when they saw those photos because thats a big part of it theres layers behind each photo behind each image is a story women are heroes created a new dynamic in each of the communities, and the women kept that dynamic after we left for example, we did books not for sale that all the community would get but to get it, they would have to it signed by one of the women we did that in most of the places we go back regularly and so in providencia, for example, in the favela, we have a cultural center running there in kibera, each year we cover more roofs because of course, when we left, the people who were just at the edge of the project said, hey, what about my roof so we decided to come the year after and keep doing the project a really important point for me is that i dont use any brand or corporate sponsors so i have no responsibility to anyone but myself and the subjects and that is for me one of the more important things in the work i think, today, as important as the result is the way you do things and that has always been a central part of the work and whats interesting is that fine line that i have with images and advertising we just did some pasting in los angeles on another project in the last weeks and i was even invited to cover the moca museum but yesterday the city called them and said, look, youre going to have to tear it down because this can be taken for advertising, and because of the law, it has to be taken down but tell me, advertising for what the people i photograph were proud to participate in the project and to have their photo in the community but they asked me for a promise basically they asked me, please, make our story travel with you so i did thats paris thats rio in each place, we built exhibitions with a story, and the story traveled you understand the full scope of the project thats london new york and today, they are with you in long beach all right, recently i started a public art project where i dont use my artwork anymore i use man ray, helen levitt, giacomelli, other peoples artwork it doesnt matter today if its your photo or not the importance is what you do with the images, the statement it makes where its pasted so for example, i pasted the photo of the minaret in switzerland a few weeks after they voted the law forbidding minarets in the country this image of three men wearing gas masks was taken in chernobyl originally, and i pasted it in southern italy, where the mafia sometimes bury the garbage under the ground in some ways, art can change the world art is not supposed to change the world, to change practical things, but to change perceptions art can change the way we see the world art can create an analogy actually the fact that art cannot change things makes it a neutral place for exchanges and discussions, and then enables you to change the world when i do my work, i have two kinds of reactions people say, oh, why dont you go in iraq or afghanistan they would be really useful or, how can we help i presume that you belong to the second category, and thats good, because for that project, im going to ask you to take the photos and paste them so now my wish is i wish for you to stand up for what you care about by participating in a global art project, and together well turn the world inside out and this starts right now yes, everyone in the room everyone watching i wanted that wish to actually start now so a subject youre passionate about, a person who you want to tell their story or even your own photos tell me what you stand for take the photos, the portraits, upload it ill give you all the details and ill send you back your poster join by groups and reveal things to the world the full data is on the website insideoutproject net that is launching today what we see changes who we are when we act together, the whole thing is much more than the sum of the parts so i hope that, together, well create something that the world will remember and this starts right now and depends on you thank you thank you',\n",
       "  'scores': {'cosine_similarity': 1.0,\n",
       "   'coverage': 1.0,\n",
       "   'compression_ratio': 1.0}},\n",
       " 'sumy_textrank': {'summary': 'two weeks ago i was in my studio in paris, and the phone rang and i heard, hey, jr, you won the ted prize 2011 you have to make a wish to save the world i was lost i mean, i cant save the world nobody can the world is fucked up come on, you have dictators ruling the world, population is growing by millions, theres no more fish in the sea, the north pole is melting and as the last ted prize winner said, were all becoming fat except maybe french people whatever so i called back and i told her, look, amy, tell the ted guys i just wont show up i cant do anything to save the world she said, hey, jr, your wish is not to save the world, but to change the world oh, all right thats cool i mean, technology, politics, business do change the world not always in a good way, but they do what about art could art change the world i started when i was 15 years old and at that time, i was not thinking about changing the world i was doing graffiti writing my name everywhere, using the city as a canvas i was going in the tunnels of paris, on the rooftops with my friends each trip was an excursion, was an adventure it was like leaving our mark on society, to say, i was here, on the top of a building so when i found a cheap camera on the subway, i started documenting those adventures with my friends and gave them back as photocopies really small photos just that size thats how, at 17 years old, i started pasting them and i did my first expo de rue, which means sidewalk gallery and i framed it with color so you would not confuse it with advertising i mean, the citys the best gallery i could imagine i would never have to make a book and then present it to a gallery and let them decide if my work was nice enough to show it to people i would control it directly with the public in the streets so thats paris i would change depending on the places i would go the title of the exhibition thats on the champselysees i was quite proud of that one because i was just 18 and i was just up there on the top of the champselysees then when the photo left, the frame was still there november 2005 the streets are burning a large wave of riots had broken into the first projects of paris everyone was glued to the tv, watching disturbing, frightening images taken from the edge of the neighborhood i mean, these kids, without control, throwing molotov cocktails, attacking the cops and the firemen, looting everything they could in the shops these were criminals, thugs, dangerous, destroying their own environment and then i saw it could it be possible my photo on a wall revealed by a burning car a pasting id done a year earlier an illegal one still there i mean, these were the faces of my friends i know those guys all of them are not angels, but theyre not monsters either so it was kind of weird to see those images and those eyes stare back at me through a television so i went back there with a 28 mm lens it was the only one i had at that time but with that lens, you have to be as close as 10 inches from the person so you can do it only with their trust so i took full portraits of people from le bosquet they were making scary faces to play the caricature of themselves and then i pasted huge posters everywhere in the bourgeois area of paris with the name, age, even building number of these guys a year later, the exhibition was displayed in front of the city hall of paris and we go from thug images, whove been stolen and distorted by the media, whos now proudly taking over his own image thats where i realized the power of paper and glue so could art change the world a year later, i was listening to all the noise about the middle east conflict i mean, at that time, trust me, they were only referring to the israeli and palestinian conflict so with my friend marco, we decided to go there and see who are the real palestinians and who are the real israelis are they so different when we got there, we just went in the street, started talking with people everywhere, and we realized that things were a bit different from the rhetoric we heard in the media so we decided to take portraits of palestinians and israelis doing the same jobs taxidriver, lawyer, cooks asked them to make a face as a sign of commitment not a smile that really doesnt tell about who you are and what you feel they all accepted to be pasted next to the other i decided to paste in eight israeli and palestinian cities and on both sides of the wall we launched the biggest illegal art exhibition ever we called the project face 2 face the experts said, no way the people will not accept the army will shoot you, and hamas will kidnap you we said, okay, lets try and push as far as we can i love the way that people will ask me, how big will my photo be it will be as big as your house when we did the wall, we did the palestinian side so we arrived with just our ladders and we realized that they were not high enough and so palestinians guys say, calm down no wait im going to find you a solution so he went to the church of nativity and brought back an old ladder that was so old that it could have seen jesus being born we did face 2 face with only six friends, two ladders, two brushes, a rented car, a camera and 20,000 square feet of paper we had all sorts of help from all walks of life okay, for example, thats palestine were in ramallah right now were pasting portraits so both portraits in the streets in a crowded market people come around us and start asking, what are you doing here oh, were actually doing an art project and we are pasting an israeli and a palestinian doing the same job and those ones are actually two taxidrivers and then there was always a silence you mean youre pasting an israeli face doing a face right here well, yeah, yeah, thats part of the project and i would always leave that moment, and we would ask them, so can you tell me who is who and most of them couldnt say we even pasted on israeli military towers, and nothing happened when you paste an image, its just paper and glue people can tear it, tag on it, or even pee on it some are a bit high for that, i agree but the people in the street, they are the curator the rain and the wind will take them off anyway they are not meant to stay but exactly four years after, the photos, most of them are still there face 2 face demonstrated that what we thought impossible was possible and, you know what, even easy we didnt push the limit we just showed that they were further than anyone thought in the middle east, i experienced my work in places without museums so the reactions in the street were kind of interesting so i decided to go further in this direction and go in places where there were zero museums when you go in these developing societies, women are the pillars of their community, but the men are still the ones holding the streets so we were inspired to create a project where men will pay tribute to women by posting their photos i called that project women are heroes when i listened to all the stories everywhere i went on the continents, i couldnt always understand the complicated circumstances of their conflict i just observed sometimes there was no words, no sentence, just tears i just took their pictures and pasted them women are heroes took me around the world most of the places i went to, i decided to go there because ive heard about it through the media so for example, in june 2008, i was watching tv in paris, and then i heard about this terrible thing that happened in rio de janeiro the first favela of brazil named providencia three kids that was three students were by the army because they were not carrying their papers and the army took them, and instead of bringing them to the police station, they brought them to an enemy favela where they get chopped into pieces i was shocked all brazil was shocked i heard it was one of the most violent favelas, because the largest drug cartel controls it so i decided to go there when i arrived i mean, i didnt have any contact with any ngo there was none in place no association, no ngos, nothing no eyewitnesses so we just walked around, and we met a woman, and i showed her my book and she said, you know what were hungry for culture we need culture out there so i went out and i started with the kids i just took a few photos of the kids, and the next day i came with the posters and we pasted them the day after, i came back and they were already scratched but thats okay i wanted them to feel that this art belongs to them then the next day, i held a meeting on the main square and some women came they were all linked to the three kids that got killed there was the mother, the grandmother, the best friend they all wanted to shout the story after that day, everyone in the favela gave me the green light i took more photos, and we started the project the drug lords were kind of worried about us filming in the place, so i told them, you know what im not interested in filming the violence and the weapons you see that enough in the media what i want to show is the incredible life and energy ive been seeing it around me the last few days so thats a really symbolic pasting, because thats the first one we did that you couldnt see from the city and thats where the three kids got arrested, and thats the grandmother of one of them and on that stairs, thats where the traffickers always stand and theres a lot of exchange of fire everyone there understood the project and then we pasted everywhere the whole hill what was interesting is that the media couldnt get in i mean, you should see that they would have to film us from a really long distance by helicopter and then have a really long lens, and we would see ourselves, on tv, pasting and they would put a number please call this number if you know whats going on in providencia we just did a project and then left so the media wouldnt know so how can we know about the project so they had to go and find the women and get an explanation from them so you create a bridge between the media and the anonymous women we kept traveling we went to africa, sudan, sierra leone, liberia, kenya in wartorn places like monrovia, people come straight to you i mean, they want to know what youre up to they kept asking me, what is the purpose of your project are you an ngo are you the media art just doing art some people question, why is it in black and white dont you have color in france or they tell you, are these people all dead some who understood the project would explain it to others and to a man who did not understand, i heard someone say, you know, youve been here for a few hours trying to understand, discussing with your fellows during that time, you havent thought about what youre going to eat tomorrow this is art i think its peoples curiosity that motivates them to come into the projects and then it becomes more it becomes a desire, a need, an armor on this bridge thats in monrovia, exrebel soldiers helped us pasting a portrait of a woman that might have been raped during the war women are always the first ones targeted during conflict this is kibera, kenya, one of the largest slums of africa you might have seen images about the postelection violence that happened there in 2008 this time we covered the roofs of the houses, but we didnt use paper, because paper doesnt prevent the rain from leaking inside the house vinyl does then art becomes useful so the people kept it you know what i love is, for example, when you see the biggest eye there, there are so houses inside and i went there a few months ago photos are still there and it was missing a piece of the eye so i asked the people what happened oh, that guy just moved when the roofs were covered, a woman said as a joke, now god can see me when you look at kibera now, they look back okay, india before i start that, just so you know, each time we go to a place, we dont have authorization, so we set up like commandos were a group of friends who arrive there, and we try to paste on the walls but there are places where you just cant paste on a wall in india it was just impossible to paste i heard culturally and because of the law, they would just arrest us at the first pasting so we decided to paste white, white on the walls so imagine white guys pasting white papers so people would come to us and ask us, hey, what are you up to oh, you know, were just doing art art of course, they were confused but you know how india has a lot of dust in the streets, and the more dust you would have going up in the air, on the white paper you can almost see, but there is this sticky part like when you reverse a sticker so the more dust you have, the more it will reveal the photo so we could just walk in the street during the next days and the photos would get revealed by themselves thank you so we didnt get caught this time each project thats a film from women are heroes okay for each project we do a film and most of what you see thats a trailer from women are heroes its images, photography, taken one after the other and the photos kept traveling even without us hopefully, youll see the film, and youll understand the scope of the project and what the people felt when they saw those photos because thats a big part of it theres layers behind each photo behind each image is a story women are heroes created a new dynamic in each of the communities, and the women kept that dynamic after we left for example, we did books not for sale that all the community would get but to get it, they would have to it signed by one of the women we did that in most of the places we go back regularly and so in providencia, for example, in the favela, we have a cultural center running there in kibera, each year we cover more roofs because of course, when we left, the people who were just at the edge of the project said, hey, what about my roof so we decided to come the year after and keep doing the project a really important point for me is that i dont use any brand or corporate sponsors so i have no responsibility to anyone but myself and the subjects and that is for me one of the more important things in the work i think, today, as important as the result is the way you do things and that has always been a central part of the work and whats interesting is that fine line that i have with images and advertising we just did some pasting in los angeles on another project in the last weeks and i was even invited to cover the moca museum but yesterday the city called them and said, look, youre going to have to tear it down because this can be taken for advertising, and because of the law, it has to be taken down but tell me, advertising for what the people i photograph were proud to participate in the project and to have their photo in the community but they asked me for a promise basically they asked me, please, make our story travel with you so i did thats paris thats rio in each place, we built exhibitions with a story, and the story traveled you understand the full scope of the project thats london new york and today, they are with you in long beach all right, recently i started a public art project where i dont use my artwork anymore i use man ray, helen levitt, giacomelli, other peoples artwork it doesnt matter today if its your photo or not the importance is what you do with the images, the statement it makes where its pasted so for example, i pasted the photo of the minaret in switzerland a few weeks after they voted the law forbidding minarets in the country this image of three men wearing gas masks was taken in chernobyl originally, and i pasted it in southern italy, where the mafia sometimes bury the garbage under the ground in some ways, art can change the world art is not supposed to change the world, to change practical things, but to change perceptions art can change the way we see the world art can create an analogy actually the fact that art cannot change things makes it a neutral place for exchanges and discussions, and then enables you to change the world when i do my work, i have two kinds of reactions people say, oh, why dont you go in iraq or afghanistan they would be really useful or, how can we help i presume that you belong to the second category, and thats good, because for that project, im going to ask you to take the photos and paste them so now my wish is i wish for you to stand up for what you care about by participating in a global art project, and together well turn the world inside out and this starts right now yes, everyone in the room everyone watching i wanted that wish to actually start now so a subject youre passionate about, a person who you want to tell their story or even your own photos tell me what you stand for take the photos, the portraits, upload it ill give you all the details and ill send you back your poster join by groups and reveal things to the world the full data is on the website insideoutproject net that is launching today what we see changes who we are when we act together, the whole thing is much more than the sum of the parts so i hope that, together, well create something that the world will remember and this starts right now and depends on you thank you thank you',\n",
       "  'scores': {'cosine_similarity': 1.0,\n",
       "   'coverage': 1.0,\n",
       "   'compression_ratio': 1.0}}}"
      ]
     },
     "execution_count": 59,
     "metadata": {},
     "output_type": "execute_result"
    }
   ],
   "source": [
    "summary_data"
   ]
  },
  {
   "cell_type": "code",
   "execution_count": 60,
   "id": "6ccdc1cc",
   "metadata": {},
   "outputs": [],
   "source": [
    "import pandas as pd\n",
    "\n",
    "\n",
    "# Convert to DataFrame\n",
    "rows = []\n",
    "for method, content in summary_data.items():\n",
    "    rows.append({\n",
    "        \"Method\": method,\n",
    "        \"Summary\": content[\"summary\"],\n",
    "        \"Cosine Similarity\": content[\"scores\"][\"cosine_similarity\"],\n",
    "        \"Coverage\": content[\"scores\"][\"coverage\"],\n",
    "        \"Compression Ratio\": content[\"scores\"][\"compression_ratio\"]\n",
    "    })\n",
    "\n",
    "df = pd.DataFrame(rows)"
   ]
  },
  {
   "cell_type": "code",
   "execution_count": 61,
   "id": "17cc0998",
   "metadata": {},
   "outputs": [
    {
     "data": {
      "application/vnd.microsoft.datawrangler.viewer.v0+json": {
       "columns": [
        {
         "name": "index",
         "rawType": "int64",
         "type": "integer"
        },
        {
         "name": "Method",
         "rawType": "object",
         "type": "string"
        },
        {
         "name": "Summary",
         "rawType": "object",
         "type": "string"
        },
        {
         "name": "Cosine Similarity",
         "rawType": "float64",
         "type": "float"
        },
        {
         "name": "Coverage",
         "rawType": "float64",
         "type": "float"
        },
        {
         "name": "Compression Ratio",
         "rawType": "float64",
         "type": "float"
        }
       ],
       "conversionMethod": "pd.DataFrame",
       "ref": "758df194-2fbd-404f-86ee-19ed18624666",
       "rows": [
        [
         "0",
         "pytextrank",
         "so i did thats paris thats rio in each place, we built exhibitions with a story, and the story traveled you understand the full scope of the project thats london new york and today, they are with you in long beach all right, recently i started a public art project where i dont use my artwork anymore i use man ray, helen levitt, giacomelli, other peoples artwork it doesnt matter today if its your photo or not the importance is what you do with the images, the statement it makes where its pasted so for example, i pasted the photo of the minaret in switzerland a few weeks after they voted the law forbidding minarets in the country this image of three men wearing gas masks was taken in chernobyl originally, and i pasted it in southern italy, where the mafia sometimes bury the garbage under the ground in some ways, art can change the world art is not supposed to change the world, to change practical things, but to change perceptions art can change the way we see the world art can create an analogy actually the fact that art cannot change things makes it a neutral place for exchanges and discussions, and then enables you to change the world when i do my work, i have two kinds of reactions people say, oh, why dont you go in iraq or afghanistan they would be really useful or, how can we help i presume that you belong to the second category, and thats good, because for that project, im going to ask you to take the photos and paste them so now my wish is i wish for you to stand up for what you care about by participating in a global art project, and together well turn the world inside out and this starts right now yes, everyone in the room everyone watching i wanted that wish to actually start now so a subject youre passionate about, a person who you want to tell their story or even your own photos tell me what you stand for take the photos, the portraits, upload it ill give you all the details and ill send you back your poster join by groups and reveal things to the world the full data is on the website insideoutproject net that is launching today what we see changes who we are when we act together, the whole thing is much more than the sum of the parts so i hope that, together, well create something that the world will remember and this starts right now and depends on you thank you thank you so i asked the people what happened oh, that guy just moved when the roofs were covered, a woman said as a joke, now god can see me when you look at kibera now, they look back okay, india before i start that, just so you know, each time we go to a place, we dont have authorization, so we set up like commandos were a group of friends who arrive there, and we try to paste on the walls but there are places where you just cant paste on a wall in india it was just impossible to paste i heard culturally and because of the law, they would just arrest us at the first pasting so we decided to paste white, white on the walls so imagine white guys pasting white papers so people would come to us and ask us, hey, what are you up to oh, you know, were just doing art art of course, they were confused but you know how india has a lot of dust in the streets, and the more dust you would have going up in the air, on the white paper you can almost see, but there is this sticky part like when you reverse a sticker and then i pasted huge posters everywhere in the bourgeois area of paris with the name, age, even building number of these guys a year later, the exhibition was displayed in front of the city hall of paris and we go from thug images, whove been stolen and distorted by the media, whos now proudly taking over his own image thats where i realized the power of paper and glue so could art change the world a year later, i was listening to all the noise about the middle east conflict i mean, at that time, trust me, they were only referring to the israeli and palestinian conflict so with my friend marco, we decided to go there and see who are the real palestinians and who are the real israelis are they so different when we got there, we just went in the street, started talking with people everywhere, and we realized that things were a bit different from the rhetoric we heard in the media so we decided to take portraits of palestinians and israelis doing the same jobs taxidriver, lawyer, cooks asked them to make a face as a sign of commitment not a smile that really doesnt tell about who you are and what you feel they all accepted to be pasted next to the other i decided to paste in eight israeli and palestinian cities and on both sides of the wall we launched the biggest illegal art exhibition ever we called the project face 2 face the experts said, no way the people will not accept the army will shoot you, and hamas will kidnap you we said, okay, lets try and push as far as we can i love the way that people will ask me, how big will my photo be it will be as big as your house when we did the wall, we did the palestinian side i wanted them to feel that this art belongs to them then the next day, i held a meeting on the main square and some women came they were all linked to the three kids that got killed there was the mother, the grandmother, the best friend they all wanted to shout the story after that day, everyone in the favela gave me the green light i took more photos, and we started the project the drug lords were kind of worried about us filming in the place, so i told them, you know what im not interested in filming the violence and the weapons you see that enough in the media what i want to show is the incredible life and energy ive been seeing it around me the last few days so thats a really symbolic pasting, because thats the first one we did that you couldnt see from the city and thats where the three kids got arrested, and thats the grandmother of one of them and on that stairs, thats where the traffickers always stand and theres a lot of exchange of fire everyone there understood the project and i framed it with color so you would not confuse it with advertising i mean, the citys the best gallery i could imagine i would never have to make a book and then present it to a gallery and let them decide if my work was nice enough to show it to people i would control it directly with the public in the streets so thats paris i would change depending on the places i would go the title of the exhibition thats on the champselysees i was quite proud of that one because i was just 18",
         "0.8299",
         "1.0",
         "0.3763"
        ],
        [
         "1",
         "sumy_lsa",
         "two weeks ago i was in my studio in paris, and the phone rang and i heard, hey, jr, you won the ted prize 2011 you have to make a wish to save the world i was lost i mean, i cant save the world nobody can the world is fucked up come on, you have dictators ruling the world, population is growing by millions, theres no more fish in the sea, the north pole is melting and as the last ted prize winner said, were all becoming fat except maybe french people whatever so i called back and i told her, look, amy, tell the ted guys i just wont show up i cant do anything to save the world she said, hey, jr, your wish is not to save the world, but to change the world oh, all right thats cool i mean, technology, politics, business do change the world not always in a good way, but they do what about art could art change the world i started when i was 15 years old and at that time, i was not thinking about changing the world i was doing graffiti writing my name everywhere, using the city as a canvas i was going in the tunnels of paris, on the rooftops with my friends each trip was an excursion, was an adventure it was like leaving our mark on society, to say, i was here, on the top of a building so when i found a cheap camera on the subway, i started documenting those adventures with my friends and gave them back as photocopies really small photos just that size thats how, at 17 years old, i started pasting them and i did my first expo de rue, which means sidewalk gallery and i framed it with color so you would not confuse it with advertising i mean, the citys the best gallery i could imagine i would never have to make a book and then present it to a gallery and let them decide if my work was nice enough to show it to people i would control it directly with the public in the streets so thats paris i would change depending on the places i would go the title of the exhibition thats on the champselysees i was quite proud of that one because i was just 18 and i was just up there on the top of the champselysees then when the photo left, the frame was still there november 2005 the streets are burning a large wave of riots had broken into the first projects of paris everyone was glued to the tv, watching disturbing, frightening images taken from the edge of the neighborhood i mean, these kids, without control, throwing molotov cocktails, attacking the cops and the firemen, looting everything they could in the shops these were criminals, thugs, dangerous, destroying their own environment and then i saw it could it be possible my photo on a wall revealed by a burning car a pasting id done a year earlier an illegal one still there i mean, these were the faces of my friends i know those guys all of them are not angels, but theyre not monsters either so it was kind of weird to see those images and those eyes stare back at me through a television so i went back there with a 28 mm lens it was the only one i had at that time but with that lens, you have to be as close as 10 inches from the person so you can do it only with their trust so i took full portraits of people from le bosquet they were making scary faces to play the caricature of themselves and then i pasted huge posters everywhere in the bourgeois area of paris with the name, age, even building number of these guys a year later, the exhibition was displayed in front of the city hall of paris and we go from thug images, whove been stolen and distorted by the media, whos now proudly taking over his own image thats where i realized the power of paper and glue so could art change the world a year later, i was listening to all the noise about the middle east conflict i mean, at that time, trust me, they were only referring to the israeli and palestinian conflict so with my friend marco, we decided to go there and see who are the real palestinians and who are the real israelis are they so different when we got there, we just went in the street, started talking with people everywhere, and we realized that things were a bit different from the rhetoric we heard in the media so we decided to take portraits of palestinians and israelis doing the same jobs taxidriver, lawyer, cooks asked them to make a face as a sign of commitment not a smile that really doesnt tell about who you are and what you feel they all accepted to be pasted next to the other i decided to paste in eight israeli and palestinian cities and on both sides of the wall we launched the biggest illegal art exhibition ever we called the project face 2 face the experts said, no way the people will not accept the army will shoot you, and hamas will kidnap you we said, okay, lets try and push as far as we can i love the way that people will ask me, how big will my photo be it will be as big as your house when we did the wall, we did the palestinian side so we arrived with just our ladders and we realized that they were not high enough and so palestinians guys say, calm down no wait im going to find you a solution so he went to the church of nativity and brought back an old ladder that was so old that it could have seen jesus being born we did face 2 face with only six friends, two ladders, two brushes, a rented car, a camera and 20,000 square feet of paper we had all sorts of help from all walks of life okay, for example, thats palestine were in ramallah right now were pasting portraits so both portraits in the streets in a crowded market people come around us and start asking, what are you doing here oh, were actually doing an art project and we are pasting an israeli and a palestinian doing the same job and those ones are actually two taxidrivers and then there was always a silence you mean youre pasting an israeli face doing a face right here well, yeah, yeah, thats part of the project and i would always leave that moment, and we would ask them, so can you tell me who is who and most of them couldnt say we even pasted on israeli military towers, and nothing happened when you paste an image, its just paper and glue people can tear it, tag on it, or even pee on it some are a bit high for that, i agree but the people in the street, they are the curator the rain and the wind will take them off anyway they are not meant to stay but exactly four years after, the photos, most of them are still there face 2 face demonstrated that what we thought impossible was possible and, you know what, even easy we didnt push the limit we just showed that they were further than anyone thought in the middle east, i experienced my work in places without museums so the reactions in the street were kind of interesting so i decided to go further in this direction and go in places where there were zero museums when you go in these developing societies, women are the pillars of their community, but the men are still the ones holding the streets so we were inspired to create a project where men will pay tribute to women by posting their photos i called that project women are heroes when i listened to all the stories everywhere i went on the continents, i couldnt always understand the complicated circumstances of their conflict i just observed sometimes there was no words, no sentence, just tears i just took their pictures and pasted them women are heroes took me around the world most of the places i went to, i decided to go there because ive heard about it through the media so for example, in june 2008, i was watching tv in paris, and then i heard about this terrible thing that happened in rio de janeiro the first favela of brazil named providencia three kids that was three students were by the army because they were not carrying their papers and the army took them, and instead of bringing them to the police station, they brought them to an enemy favela where they get chopped into pieces i was shocked all brazil was shocked i heard it was one of the most violent favelas, because the largest drug cartel controls it so i decided to go there when i arrived i mean, i didnt have any contact with any ngo there was none in place no association, no ngos, nothing no eyewitnesses so we just walked around, and we met a woman, and i showed her my book and she said, you know what were hungry for culture we need culture out there so i went out and i started with the kids i just took a few photos of the kids, and the next day i came with the posters and we pasted them the day after, i came back and they were already scratched but thats okay i wanted them to feel that this art belongs to them then the next day, i held a meeting on the main square and some women came they were all linked to the three kids that got killed there was the mother, the grandmother, the best friend they all wanted to shout the story after that day, everyone in the favela gave me the green light i took more photos, and we started the project the drug lords were kind of worried about us filming in the place, so i told them, you know what im not interested in filming the violence and the weapons you see that enough in the media what i want to show is the incredible life and energy ive been seeing it around me the last few days so thats a really symbolic pasting, because thats the first one we did that you couldnt see from the city and thats where the three kids got arrested, and thats the grandmother of one of them and on that stairs, thats where the traffickers always stand and theres a lot of exchange of fire everyone there understood the project and then we pasted everywhere the whole hill what was interesting is that the media couldnt get in i mean, you should see that they would have to film us from a really long distance by helicopter and then have a really long lens, and we would see ourselves, on tv, pasting and they would put a number please call this number if you know whats going on in providencia we just did a project and then left so the media wouldnt know so how can we know about the project so they had to go and find the women and get an explanation from them so you create a bridge between the media and the anonymous women we kept traveling we went to africa, sudan, sierra leone, liberia, kenya in wartorn places like monrovia, people come straight to you i mean, they want to know what youre up to they kept asking me, what is the purpose of your project are you an ngo are you the media art just doing art some people question, why is it in black and white dont you have color in france or they tell you, are these people all dead some who understood the project would explain it to others and to a man who did not understand, i heard someone say, you know, youve been here for a few hours trying to understand, discussing with your fellows during that time, you havent thought about what youre going to eat tomorrow this is art i think its peoples curiosity that motivates them to come into the projects and then it becomes more it becomes a desire, a need, an armor on this bridge thats in monrovia, exrebel soldiers helped us pasting a portrait of a woman that might have been raped during the war women are always the first ones targeted during conflict this is kibera, kenya, one of the largest slums of africa you might have seen images about the postelection violence that happened there in 2008 this time we covered the roofs of the houses, but we didnt use paper, because paper doesnt prevent the rain from leaking inside the house vinyl does then art becomes useful so the people kept it you know what i love is, for example, when you see the biggest eye there, there are so houses inside and i went there a few months ago photos are still there and it was missing a piece of the eye so i asked the people what happened oh, that guy just moved when the roofs were covered, a woman said as a joke, now god can see me when you look at kibera now, they look back okay, india before i start that, just so you know, each time we go to a place, we dont have authorization, so we set up like commandos were a group of friends who arrive there, and we try to paste on the walls but there are places where you just cant paste on a wall in india it was just impossible to paste i heard culturally and because of the law, they would just arrest us at the first pasting so we decided to paste white, white on the walls so imagine white guys pasting white papers so people would come to us and ask us, hey, what are you up to oh, you know, were just doing art art of course, they were confused but you know how india has a lot of dust in the streets, and the more dust you would have going up in the air, on the white paper you can almost see, but there is this sticky part like when you reverse a sticker so the more dust you have, the more it will reveal the photo so we could just walk in the street during the next days and the photos would get revealed by themselves thank you so we didnt get caught this time each project thats a film from women are heroes okay for each project we do a film and most of what you see thats a trailer from women are heroes its images, photography, taken one after the other and the photos kept traveling even without us hopefully, youll see the film, and youll understand the scope of the project and what the people felt when they saw those photos because thats a big part of it theres layers behind each photo behind each image is a story women are heroes created a new dynamic in each of the communities, and the women kept that dynamic after we left for example, we did books not for sale that all the community would get but to get it, they would have to it signed by one of the women we did that in most of the places we go back regularly and so in providencia, for example, in the favela, we have a cultural center running there in kibera, each year we cover more roofs because of course, when we left, the people who were just at the edge of the project said, hey, what about my roof so we decided to come the year after and keep doing the project a really important point for me is that i dont use any brand or corporate sponsors so i have no responsibility to anyone but myself and the subjects and that is for me one of the more important things in the work i think, today, as important as the result is the way you do things and that has always been a central part of the work and whats interesting is that fine line that i have with images and advertising we just did some pasting in los angeles on another project in the last weeks and i was even invited to cover the moca museum but yesterday the city called them and said, look, youre going to have to tear it down because this can be taken for advertising, and because of the law, it has to be taken down but tell me, advertising for what the people i photograph were proud to participate in the project and to have their photo in the community but they asked me for a promise basically they asked me, please, make our story travel with you so i did thats paris thats rio in each place, we built exhibitions with a story, and the story traveled you understand the full scope of the project thats london new york and today, they are with you in long beach all right, recently i started a public art project where i dont use my artwork anymore i use man ray, helen levitt, giacomelli, other peoples artwork it doesnt matter today if its your photo or not the importance is what you do with the images, the statement it makes where its pasted so for example, i pasted the photo of the minaret in switzerland a few weeks after they voted the law forbidding minarets in the country this image of three men wearing gas masks was taken in chernobyl originally, and i pasted it in southern italy, where the mafia sometimes bury the garbage under the ground in some ways, art can change the world art is not supposed to change the world, to change practical things, but to change perceptions art can change the way we see the world art can create an analogy actually the fact that art cannot change things makes it a neutral place for exchanges and discussions, and then enables you to change the world when i do my work, i have two kinds of reactions people say, oh, why dont you go in iraq or afghanistan they would be really useful or, how can we help i presume that you belong to the second category, and thats good, because for that project, im going to ask you to take the photos and paste them so now my wish is i wish for you to stand up for what you care about by participating in a global art project, and together well turn the world inside out and this starts right now yes, everyone in the room everyone watching i wanted that wish to actually start now so a subject youre passionate about, a person who you want to tell their story or even your own photos tell me what you stand for take the photos, the portraits, upload it ill give you all the details and ill send you back your poster join by groups and reveal things to the world the full data is on the website insideoutproject net that is launching today what we see changes who we are when we act together, the whole thing is much more than the sum of the parts so i hope that, together, well create something that the world will remember and this starts right now and depends on you thank you thank you",
         "1.0",
         "1.0",
         "1.0"
        ],
        [
         "2",
         "sumy_luhn",
         "two weeks ago i was in my studio in paris, and the phone rang and i heard, hey, jr, you won the ted prize 2011 you have to make a wish to save the world i was lost i mean, i cant save the world nobody can the world is fucked up come on, you have dictators ruling the world, population is growing by millions, theres no more fish in the sea, the north pole is melting and as the last ted prize winner said, were all becoming fat except maybe french people whatever so i called back and i told her, look, amy, tell the ted guys i just wont show up i cant do anything to save the world she said, hey, jr, your wish is not to save the world, but to change the world oh, all right thats cool i mean, technology, politics, business do change the world not always in a good way, but they do what about art could art change the world i started when i was 15 years old and at that time, i was not thinking about changing the world i was doing graffiti writing my name everywhere, using the city as a canvas i was going in the tunnels of paris, on the rooftops with my friends each trip was an excursion, was an adventure it was like leaving our mark on society, to say, i was here, on the top of a building so when i found a cheap camera on the subway, i started documenting those adventures with my friends and gave them back as photocopies really small photos just that size thats how, at 17 years old, i started pasting them and i did my first expo de rue, which means sidewalk gallery and i framed it with color so you would not confuse it with advertising i mean, the citys the best gallery i could imagine i would never have to make a book and then present it to a gallery and let them decide if my work was nice enough to show it to people i would control it directly with the public in the streets so thats paris i would change depending on the places i would go the title of the exhibition thats on the champselysees i was quite proud of that one because i was just 18 and i was just up there on the top of the champselysees then when the photo left, the frame was still there november 2005 the streets are burning a large wave of riots had broken into the first projects of paris everyone was glued to the tv, watching disturbing, frightening images taken from the edge of the neighborhood i mean, these kids, without control, throwing molotov cocktails, attacking the cops and the firemen, looting everything they could in the shops these were criminals, thugs, dangerous, destroying their own environment and then i saw it could it be possible my photo on a wall revealed by a burning car a pasting id done a year earlier an illegal one still there i mean, these were the faces of my friends i know those guys all of them are not angels, but theyre not monsters either so it was kind of weird to see those images and those eyes stare back at me through a television so i went back there with a 28 mm lens it was the only one i had at that time but with that lens, you have to be as close as 10 inches from the person so you can do it only with their trust so i took full portraits of people from le bosquet they were making scary faces to play the caricature of themselves and then i pasted huge posters everywhere in the bourgeois area of paris with the name, age, even building number of these guys a year later, the exhibition was displayed in front of the city hall of paris and we go from thug images, whove been stolen and distorted by the media, whos now proudly taking over his own image thats where i realized the power of paper and glue so could art change the world a year later, i was listening to all the noise about the middle east conflict i mean, at that time, trust me, they were only referring to the israeli and palestinian conflict so with my friend marco, we decided to go there and see who are the real palestinians and who are the real israelis are they so different when we got there, we just went in the street, started talking with people everywhere, and we realized that things were a bit different from the rhetoric we heard in the media so we decided to take portraits of palestinians and israelis doing the same jobs taxidriver, lawyer, cooks asked them to make a face as a sign of commitment not a smile that really doesnt tell about who you are and what you feel they all accepted to be pasted next to the other i decided to paste in eight israeli and palestinian cities and on both sides of the wall we launched the biggest illegal art exhibition ever we called the project face 2 face the experts said, no way the people will not accept the army will shoot you, and hamas will kidnap you we said, okay, lets try and push as far as we can i love the way that people will ask me, how big will my photo be it will be as big as your house when we did the wall, we did the palestinian side so we arrived with just our ladders and we realized that they were not high enough and so palestinians guys say, calm down no wait im going to find you a solution so he went to the church of nativity and brought back an old ladder that was so old that it could have seen jesus being born we did face 2 face with only six friends, two ladders, two brushes, a rented car, a camera and 20,000 square feet of paper we had all sorts of help from all walks of life okay, for example, thats palestine were in ramallah right now were pasting portraits so both portraits in the streets in a crowded market people come around us and start asking, what are you doing here oh, were actually doing an art project and we are pasting an israeli and a palestinian doing the same job and those ones are actually two taxidrivers and then there was always a silence you mean youre pasting an israeli face doing a face right here well, yeah, yeah, thats part of the project and i would always leave that moment, and we would ask them, so can you tell me who is who and most of them couldnt say we even pasted on israeli military towers, and nothing happened when you paste an image, its just paper and glue people can tear it, tag on it, or even pee on it some are a bit high for that, i agree but the people in the street, they are the curator the rain and the wind will take them off anyway they are not meant to stay but exactly four years after, the photos, most of them are still there face 2 face demonstrated that what we thought impossible was possible and, you know what, even easy we didnt push the limit we just showed that they were further than anyone thought in the middle east, i experienced my work in places without museums so the reactions in the street were kind of interesting so i decided to go further in this direction and go in places where there were zero museums when you go in these developing societies, women are the pillars of their community, but the men are still the ones holding the streets so we were inspired to create a project where men will pay tribute to women by posting their photos i called that project women are heroes when i listened to all the stories everywhere i went on the continents, i couldnt always understand the complicated circumstances of their conflict i just observed sometimes there was no words, no sentence, just tears i just took their pictures and pasted them women are heroes took me around the world most of the places i went to, i decided to go there because ive heard about it through the media so for example, in june 2008, i was watching tv in paris, and then i heard about this terrible thing that happened in rio de janeiro the first favela of brazil named providencia three kids that was three students were by the army because they were not carrying their papers and the army took them, and instead of bringing them to the police station, they brought them to an enemy favela where they get chopped into pieces i was shocked all brazil was shocked i heard it was one of the most violent favelas, because the largest drug cartel controls it so i decided to go there when i arrived i mean, i didnt have any contact with any ngo there was none in place no association, no ngos, nothing no eyewitnesses so we just walked around, and we met a woman, and i showed her my book and she said, you know what were hungry for culture we need culture out there so i went out and i started with the kids i just took a few photos of the kids, and the next day i came with the posters and we pasted them the day after, i came back and they were already scratched but thats okay i wanted them to feel that this art belongs to them then the next day, i held a meeting on the main square and some women came they were all linked to the three kids that got killed there was the mother, the grandmother, the best friend they all wanted to shout the story after that day, everyone in the favela gave me the green light i took more photos, and we started the project the drug lords were kind of worried about us filming in the place, so i told them, you know what im not interested in filming the violence and the weapons you see that enough in the media what i want to show is the incredible life and energy ive been seeing it around me the last few days so thats a really symbolic pasting, because thats the first one we did that you couldnt see from the city and thats where the three kids got arrested, and thats the grandmother of one of them and on that stairs, thats where the traffickers always stand and theres a lot of exchange of fire everyone there understood the project and then we pasted everywhere the whole hill what was interesting is that the media couldnt get in i mean, you should see that they would have to film us from a really long distance by helicopter and then have a really long lens, and we would see ourselves, on tv, pasting and they would put a number please call this number if you know whats going on in providencia we just did a project and then left so the media wouldnt know so how can we know about the project so they had to go and find the women and get an explanation from them so you create a bridge between the media and the anonymous women we kept traveling we went to africa, sudan, sierra leone, liberia, kenya in wartorn places like monrovia, people come straight to you i mean, they want to know what youre up to they kept asking me, what is the purpose of your project are you an ngo are you the media art just doing art some people question, why is it in black and white dont you have color in france or they tell you, are these people all dead some who understood the project would explain it to others and to a man who did not understand, i heard someone say, you know, youve been here for a few hours trying to understand, discussing with your fellows during that time, you havent thought about what youre going to eat tomorrow this is art i think its peoples curiosity that motivates them to come into the projects and then it becomes more it becomes a desire, a need, an armor on this bridge thats in monrovia, exrebel soldiers helped us pasting a portrait of a woman that might have been raped during the war women are always the first ones targeted during conflict this is kibera, kenya, one of the largest slums of africa you might have seen images about the postelection violence that happened there in 2008 this time we covered the roofs of the houses, but we didnt use paper, because paper doesnt prevent the rain from leaking inside the house vinyl does then art becomes useful so the people kept it you know what i love is, for example, when you see the biggest eye there, there are so houses inside and i went there a few months ago photos are still there and it was missing a piece of the eye so i asked the people what happened oh, that guy just moved when the roofs were covered, a woman said as a joke, now god can see me when you look at kibera now, they look back okay, india before i start that, just so you know, each time we go to a place, we dont have authorization, so we set up like commandos were a group of friends who arrive there, and we try to paste on the walls but there are places where you just cant paste on a wall in india it was just impossible to paste i heard culturally and because of the law, they would just arrest us at the first pasting so we decided to paste white, white on the walls so imagine white guys pasting white papers so people would come to us and ask us, hey, what are you up to oh, you know, were just doing art art of course, they were confused but you know how india has a lot of dust in the streets, and the more dust you would have going up in the air, on the white paper you can almost see, but there is this sticky part like when you reverse a sticker so the more dust you have, the more it will reveal the photo so we could just walk in the street during the next days and the photos would get revealed by themselves thank you so we didnt get caught this time each project thats a film from women are heroes okay for each project we do a film and most of what you see thats a trailer from women are heroes its images, photography, taken one after the other and the photos kept traveling even without us hopefully, youll see the film, and youll understand the scope of the project and what the people felt when they saw those photos because thats a big part of it theres layers behind each photo behind each image is a story women are heroes created a new dynamic in each of the communities, and the women kept that dynamic after we left for example, we did books not for sale that all the community would get but to get it, they would have to it signed by one of the women we did that in most of the places we go back regularly and so in providencia, for example, in the favela, we have a cultural center running there in kibera, each year we cover more roofs because of course, when we left, the people who were just at the edge of the project said, hey, what about my roof so we decided to come the year after and keep doing the project a really important point for me is that i dont use any brand or corporate sponsors so i have no responsibility to anyone but myself and the subjects and that is for me one of the more important things in the work i think, today, as important as the result is the way you do things and that has always been a central part of the work and whats interesting is that fine line that i have with images and advertising we just did some pasting in los angeles on another project in the last weeks and i was even invited to cover the moca museum but yesterday the city called them and said, look, youre going to have to tear it down because this can be taken for advertising, and because of the law, it has to be taken down but tell me, advertising for what the people i photograph were proud to participate in the project and to have their photo in the community but they asked me for a promise basically they asked me, please, make our story travel with you so i did thats paris thats rio in each place, we built exhibitions with a story, and the story traveled you understand the full scope of the project thats london new york and today, they are with you in long beach all right, recently i started a public art project where i dont use my artwork anymore i use man ray, helen levitt, giacomelli, other peoples artwork it doesnt matter today if its your photo or not the importance is what you do with the images, the statement it makes where its pasted so for example, i pasted the photo of the minaret in switzerland a few weeks after they voted the law forbidding minarets in the country this image of three men wearing gas masks was taken in chernobyl originally, and i pasted it in southern italy, where the mafia sometimes bury the garbage under the ground in some ways, art can change the world art is not supposed to change the world, to change practical things, but to change perceptions art can change the way we see the world art can create an analogy actually the fact that art cannot change things makes it a neutral place for exchanges and discussions, and then enables you to change the world when i do my work, i have two kinds of reactions people say, oh, why dont you go in iraq or afghanistan they would be really useful or, how can we help i presume that you belong to the second category, and thats good, because for that project, im going to ask you to take the photos and paste them so now my wish is i wish for you to stand up for what you care about by participating in a global art project, and together well turn the world inside out and this starts right now yes, everyone in the room everyone watching i wanted that wish to actually start now so a subject youre passionate about, a person who you want to tell their story or even your own photos tell me what you stand for take the photos, the portraits, upload it ill give you all the details and ill send you back your poster join by groups and reveal things to the world the full data is on the website insideoutproject net that is launching today what we see changes who we are when we act together, the whole thing is much more than the sum of the parts so i hope that, together, well create something that the world will remember and this starts right now and depends on you thank you thank you",
         "1.0",
         "1.0",
         "1.0"
        ],
        [
         "3",
         "sumy_textrank",
         "two weeks ago i was in my studio in paris, and the phone rang and i heard, hey, jr, you won the ted prize 2011 you have to make a wish to save the world i was lost i mean, i cant save the world nobody can the world is fucked up come on, you have dictators ruling the world, population is growing by millions, theres no more fish in the sea, the north pole is melting and as the last ted prize winner said, were all becoming fat except maybe french people whatever so i called back and i told her, look, amy, tell the ted guys i just wont show up i cant do anything to save the world she said, hey, jr, your wish is not to save the world, but to change the world oh, all right thats cool i mean, technology, politics, business do change the world not always in a good way, but they do what about art could art change the world i started when i was 15 years old and at that time, i was not thinking about changing the world i was doing graffiti writing my name everywhere, using the city as a canvas i was going in the tunnels of paris, on the rooftops with my friends each trip was an excursion, was an adventure it was like leaving our mark on society, to say, i was here, on the top of a building so when i found a cheap camera on the subway, i started documenting those adventures with my friends and gave them back as photocopies really small photos just that size thats how, at 17 years old, i started pasting them and i did my first expo de rue, which means sidewalk gallery and i framed it with color so you would not confuse it with advertising i mean, the citys the best gallery i could imagine i would never have to make a book and then present it to a gallery and let them decide if my work was nice enough to show it to people i would control it directly with the public in the streets so thats paris i would change depending on the places i would go the title of the exhibition thats on the champselysees i was quite proud of that one because i was just 18 and i was just up there on the top of the champselysees then when the photo left, the frame was still there november 2005 the streets are burning a large wave of riots had broken into the first projects of paris everyone was glued to the tv, watching disturbing, frightening images taken from the edge of the neighborhood i mean, these kids, without control, throwing molotov cocktails, attacking the cops and the firemen, looting everything they could in the shops these were criminals, thugs, dangerous, destroying their own environment and then i saw it could it be possible my photo on a wall revealed by a burning car a pasting id done a year earlier an illegal one still there i mean, these were the faces of my friends i know those guys all of them are not angels, but theyre not monsters either so it was kind of weird to see those images and those eyes stare back at me through a television so i went back there with a 28 mm lens it was the only one i had at that time but with that lens, you have to be as close as 10 inches from the person so you can do it only with their trust so i took full portraits of people from le bosquet they were making scary faces to play the caricature of themselves and then i pasted huge posters everywhere in the bourgeois area of paris with the name, age, even building number of these guys a year later, the exhibition was displayed in front of the city hall of paris and we go from thug images, whove been stolen and distorted by the media, whos now proudly taking over his own image thats where i realized the power of paper and glue so could art change the world a year later, i was listening to all the noise about the middle east conflict i mean, at that time, trust me, they were only referring to the israeli and palestinian conflict so with my friend marco, we decided to go there and see who are the real palestinians and who are the real israelis are they so different when we got there, we just went in the street, started talking with people everywhere, and we realized that things were a bit different from the rhetoric we heard in the media so we decided to take portraits of palestinians and israelis doing the same jobs taxidriver, lawyer, cooks asked them to make a face as a sign of commitment not a smile that really doesnt tell about who you are and what you feel they all accepted to be pasted next to the other i decided to paste in eight israeli and palestinian cities and on both sides of the wall we launched the biggest illegal art exhibition ever we called the project face 2 face the experts said, no way the people will not accept the army will shoot you, and hamas will kidnap you we said, okay, lets try and push as far as we can i love the way that people will ask me, how big will my photo be it will be as big as your house when we did the wall, we did the palestinian side so we arrived with just our ladders and we realized that they were not high enough and so palestinians guys say, calm down no wait im going to find you a solution so he went to the church of nativity and brought back an old ladder that was so old that it could have seen jesus being born we did face 2 face with only six friends, two ladders, two brushes, a rented car, a camera and 20,000 square feet of paper we had all sorts of help from all walks of life okay, for example, thats palestine were in ramallah right now were pasting portraits so both portraits in the streets in a crowded market people come around us and start asking, what are you doing here oh, were actually doing an art project and we are pasting an israeli and a palestinian doing the same job and those ones are actually two taxidrivers and then there was always a silence you mean youre pasting an israeli face doing a face right here well, yeah, yeah, thats part of the project and i would always leave that moment, and we would ask them, so can you tell me who is who and most of them couldnt say we even pasted on israeli military towers, and nothing happened when you paste an image, its just paper and glue people can tear it, tag on it, or even pee on it some are a bit high for that, i agree but the people in the street, they are the curator the rain and the wind will take them off anyway they are not meant to stay but exactly four years after, the photos, most of them are still there face 2 face demonstrated that what we thought impossible was possible and, you know what, even easy we didnt push the limit we just showed that they were further than anyone thought in the middle east, i experienced my work in places without museums so the reactions in the street were kind of interesting so i decided to go further in this direction and go in places where there were zero museums when you go in these developing societies, women are the pillars of their community, but the men are still the ones holding the streets so we were inspired to create a project where men will pay tribute to women by posting their photos i called that project women are heroes when i listened to all the stories everywhere i went on the continents, i couldnt always understand the complicated circumstances of their conflict i just observed sometimes there was no words, no sentence, just tears i just took their pictures and pasted them women are heroes took me around the world most of the places i went to, i decided to go there because ive heard about it through the media so for example, in june 2008, i was watching tv in paris, and then i heard about this terrible thing that happened in rio de janeiro the first favela of brazil named providencia three kids that was three students were by the army because they were not carrying their papers and the army took them, and instead of bringing them to the police station, they brought them to an enemy favela where they get chopped into pieces i was shocked all brazil was shocked i heard it was one of the most violent favelas, because the largest drug cartel controls it so i decided to go there when i arrived i mean, i didnt have any contact with any ngo there was none in place no association, no ngos, nothing no eyewitnesses so we just walked around, and we met a woman, and i showed her my book and she said, you know what were hungry for culture we need culture out there so i went out and i started with the kids i just took a few photos of the kids, and the next day i came with the posters and we pasted them the day after, i came back and they were already scratched but thats okay i wanted them to feel that this art belongs to them then the next day, i held a meeting on the main square and some women came they were all linked to the three kids that got killed there was the mother, the grandmother, the best friend they all wanted to shout the story after that day, everyone in the favela gave me the green light i took more photos, and we started the project the drug lords were kind of worried about us filming in the place, so i told them, you know what im not interested in filming the violence and the weapons you see that enough in the media what i want to show is the incredible life and energy ive been seeing it around me the last few days so thats a really symbolic pasting, because thats the first one we did that you couldnt see from the city and thats where the three kids got arrested, and thats the grandmother of one of them and on that stairs, thats where the traffickers always stand and theres a lot of exchange of fire everyone there understood the project and then we pasted everywhere the whole hill what was interesting is that the media couldnt get in i mean, you should see that they would have to film us from a really long distance by helicopter and then have a really long lens, and we would see ourselves, on tv, pasting and they would put a number please call this number if you know whats going on in providencia we just did a project and then left so the media wouldnt know so how can we know about the project so they had to go and find the women and get an explanation from them so you create a bridge between the media and the anonymous women we kept traveling we went to africa, sudan, sierra leone, liberia, kenya in wartorn places like monrovia, people come straight to you i mean, they want to know what youre up to they kept asking me, what is the purpose of your project are you an ngo are you the media art just doing art some people question, why is it in black and white dont you have color in france or they tell you, are these people all dead some who understood the project would explain it to others and to a man who did not understand, i heard someone say, you know, youve been here for a few hours trying to understand, discussing with your fellows during that time, you havent thought about what youre going to eat tomorrow this is art i think its peoples curiosity that motivates them to come into the projects and then it becomes more it becomes a desire, a need, an armor on this bridge thats in monrovia, exrebel soldiers helped us pasting a portrait of a woman that might have been raped during the war women are always the first ones targeted during conflict this is kibera, kenya, one of the largest slums of africa you might have seen images about the postelection violence that happened there in 2008 this time we covered the roofs of the houses, but we didnt use paper, because paper doesnt prevent the rain from leaking inside the house vinyl does then art becomes useful so the people kept it you know what i love is, for example, when you see the biggest eye there, there are so houses inside and i went there a few months ago photos are still there and it was missing a piece of the eye so i asked the people what happened oh, that guy just moved when the roofs were covered, a woman said as a joke, now god can see me when you look at kibera now, they look back okay, india before i start that, just so you know, each time we go to a place, we dont have authorization, so we set up like commandos were a group of friends who arrive there, and we try to paste on the walls but there are places where you just cant paste on a wall in india it was just impossible to paste i heard culturally and because of the law, they would just arrest us at the first pasting so we decided to paste white, white on the walls so imagine white guys pasting white papers so people would come to us and ask us, hey, what are you up to oh, you know, were just doing art art of course, they were confused but you know how india has a lot of dust in the streets, and the more dust you would have going up in the air, on the white paper you can almost see, but there is this sticky part like when you reverse a sticker so the more dust you have, the more it will reveal the photo so we could just walk in the street during the next days and the photos would get revealed by themselves thank you so we didnt get caught this time each project thats a film from women are heroes okay for each project we do a film and most of what you see thats a trailer from women are heroes its images, photography, taken one after the other and the photos kept traveling even without us hopefully, youll see the film, and youll understand the scope of the project and what the people felt when they saw those photos because thats a big part of it theres layers behind each photo behind each image is a story women are heroes created a new dynamic in each of the communities, and the women kept that dynamic after we left for example, we did books not for sale that all the community would get but to get it, they would have to it signed by one of the women we did that in most of the places we go back regularly and so in providencia, for example, in the favela, we have a cultural center running there in kibera, each year we cover more roofs because of course, when we left, the people who were just at the edge of the project said, hey, what about my roof so we decided to come the year after and keep doing the project a really important point for me is that i dont use any brand or corporate sponsors so i have no responsibility to anyone but myself and the subjects and that is for me one of the more important things in the work i think, today, as important as the result is the way you do things and that has always been a central part of the work and whats interesting is that fine line that i have with images and advertising we just did some pasting in los angeles on another project in the last weeks and i was even invited to cover the moca museum but yesterday the city called them and said, look, youre going to have to tear it down because this can be taken for advertising, and because of the law, it has to be taken down but tell me, advertising for what the people i photograph were proud to participate in the project and to have their photo in the community but they asked me for a promise basically they asked me, please, make our story travel with you so i did thats paris thats rio in each place, we built exhibitions with a story, and the story traveled you understand the full scope of the project thats london new york and today, they are with you in long beach all right, recently i started a public art project where i dont use my artwork anymore i use man ray, helen levitt, giacomelli, other peoples artwork it doesnt matter today if its your photo or not the importance is what you do with the images, the statement it makes where its pasted so for example, i pasted the photo of the minaret in switzerland a few weeks after they voted the law forbidding minarets in the country this image of three men wearing gas masks was taken in chernobyl originally, and i pasted it in southern italy, where the mafia sometimes bury the garbage under the ground in some ways, art can change the world art is not supposed to change the world, to change practical things, but to change perceptions art can change the way we see the world art can create an analogy actually the fact that art cannot change things makes it a neutral place for exchanges and discussions, and then enables you to change the world when i do my work, i have two kinds of reactions people say, oh, why dont you go in iraq or afghanistan they would be really useful or, how can we help i presume that you belong to the second category, and thats good, because for that project, im going to ask you to take the photos and paste them so now my wish is i wish for you to stand up for what you care about by participating in a global art project, and together well turn the world inside out and this starts right now yes, everyone in the room everyone watching i wanted that wish to actually start now so a subject youre passionate about, a person who you want to tell their story or even your own photos tell me what you stand for take the photos, the portraits, upload it ill give you all the details and ill send you back your poster join by groups and reveal things to the world the full data is on the website insideoutproject net that is launching today what we see changes who we are when we act together, the whole thing is much more than the sum of the parts so i hope that, together, well create something that the world will remember and this starts right now and depends on you thank you thank you",
         "1.0",
         "1.0",
         "1.0"
        ]
       ],
       "shape": {
        "columns": 5,
        "rows": 4
       }
      },
      "text/html": [
       "<div>\n",
       "<style scoped>\n",
       "    .dataframe tbody tr th:only-of-type {\n",
       "        vertical-align: middle;\n",
       "    }\n",
       "\n",
       "    .dataframe tbody tr th {\n",
       "        vertical-align: top;\n",
       "    }\n",
       "\n",
       "    .dataframe thead th {\n",
       "        text-align: right;\n",
       "    }\n",
       "</style>\n",
       "<table border=\"1\" class=\"dataframe\">\n",
       "  <thead>\n",
       "    <tr style=\"text-align: right;\">\n",
       "      <th></th>\n",
       "      <th>Method</th>\n",
       "      <th>Summary</th>\n",
       "      <th>Cosine Similarity</th>\n",
       "      <th>Coverage</th>\n",
       "      <th>Compression Ratio</th>\n",
       "    </tr>\n",
       "  </thead>\n",
       "  <tbody>\n",
       "    <tr>\n",
       "      <th>0</th>\n",
       "      <td>pytextrank</td>\n",
       "      <td>so i did thats paris thats rio in each place, ...</td>\n",
       "      <td>0.8299</td>\n",
       "      <td>1.0</td>\n",
       "      <td>0.3763</td>\n",
       "    </tr>\n",
       "    <tr>\n",
       "      <th>1</th>\n",
       "      <td>sumy_lsa</td>\n",
       "      <td>two weeks ago i was in my studio in paris, and...</td>\n",
       "      <td>1.0000</td>\n",
       "      <td>1.0</td>\n",
       "      <td>1.0000</td>\n",
       "    </tr>\n",
       "    <tr>\n",
       "      <th>2</th>\n",
       "      <td>sumy_luhn</td>\n",
       "      <td>two weeks ago i was in my studio in paris, and...</td>\n",
       "      <td>1.0000</td>\n",
       "      <td>1.0</td>\n",
       "      <td>1.0000</td>\n",
       "    </tr>\n",
       "    <tr>\n",
       "      <th>3</th>\n",
       "      <td>sumy_textrank</td>\n",
       "      <td>two weeks ago i was in my studio in paris, and...</td>\n",
       "      <td>1.0000</td>\n",
       "      <td>1.0</td>\n",
       "      <td>1.0000</td>\n",
       "    </tr>\n",
       "  </tbody>\n",
       "</table>\n",
       "</div>"
      ],
      "text/plain": [
       "          Method                                            Summary  \\\n",
       "0     pytextrank  so i did thats paris thats rio in each place, ...   \n",
       "1       sumy_lsa  two weeks ago i was in my studio in paris, and...   \n",
       "2      sumy_luhn  two weeks ago i was in my studio in paris, and...   \n",
       "3  sumy_textrank  two weeks ago i was in my studio in paris, and...   \n",
       "\n",
       "   Cosine Similarity  Coverage  Compression Ratio  \n",
       "0             0.8299       1.0             0.3763  \n",
       "1             1.0000       1.0             1.0000  \n",
       "2             1.0000       1.0             1.0000  \n",
       "3             1.0000       1.0             1.0000  "
      ]
     },
     "execution_count": 61,
     "metadata": {},
     "output_type": "execute_result"
    }
   ],
   "source": [
    "df"
   ]
  },
  {
   "cell_type": "code",
   "execution_count": 42,
   "id": "12514ef4",
   "metadata": {},
   "outputs": [
    {
     "data": {
      "application/vnd.plotly.v1+json": {
       "config": {
        "plotlyServerURL": "https://plot.ly"
       },
       "data": [
        {
         "cells": {
          "align": "left",
          "fill": {
           "color": "lavender"
          },
          "values": [
           [
            "pytextrank",
            "sumy_lsa",
            "sumy_luhn",
            "sumy_textrank"
           ],
           [
            "so i did thats paris thats rio in each place, we built exhibitions with a story, and the story traveled you understand the full scope of the project thats london new york and today, they are with you in long beach all right, recently i started a public art project where i dont use my artwork anymore i use man ray, helen levitt, giacomelli, other peoples artwork it doesnt matter today if its your photo or not the importance is what you do with the images, the statement it makes where its pasted so for example, i pasted the photo of the minaret in switzerland a few weeks after they voted the law forbidding minarets in the country this image of three men wearing gas masks was taken in chernobyl originally, and i pasted it in southern italy, where the mafia sometimes bury the garbage under the ground in some ways, art can change the world art is not supposed to change the world, to change practical things, but to change perceptions art can change the way we see the world art can create an analogy actually the fact that art cannot change things makes it a neutral place for exchanges and discussions, and then enables you to change the world when i do my work, i have two kinds of reactions people say, oh, why dont you go in iraq or afghanistan they would be really useful or, how can we help i presume that you belong to the second category, and thats good, because for that project, im going to ask you to take the photos and paste them so now my wish is i wish for you to stand up for what you care about by participating in a global art project, and together well turn the world inside out and this starts right now yes, everyone in the room everyone watching i wanted that wish to actually start now so a subject youre passionate about, a person who you want to tell their story or even your own photos tell me what you stand for take the photos, the portraits, upload it ill give you all the details and ill send you back your poster join by groups and reveal things to the world the full data is on the website insideoutproject net that is launching today what we see changes who we are when we act together, the whole thing is much more than the sum of the parts so i hope that, together, well create something that the world will remember and this starts right now and depends on you thank you thank you so i asked the people what happened oh, that guy just moved when the roofs were covered, a woman said as a joke, now god can see me when you look at kibera now, they look back okay, india before i start that, just so you know, each time we go to a place, we dont have authorization, so we set up like commandos were a group of friends who arrive there, and we try to paste on the walls but there are places where you just cant paste on a wall in india it was just impossible to paste i heard culturally and because of the law, they would just arrest us at the first pasting so we decided to paste white, white on the walls so imagine white guys pasting white papers so people would come to us and ask us, hey, what are you up to oh, you know, were just doing art art of course, they were confused but you know how india has a lot of dust in the streets, and the more dust you would have going up in the air, on the white paper you can almost see, but there is this sticky part like when you reverse a sticker and then i pasted huge posters everywhere in the bourgeois area of paris with the name, age, even building number of these guys a year later, the exhibition was displayed in front of the city hall of paris and we go from thug images, whove been stolen and distorted by the media, whos now proudly taking over his own image thats where i realized the power of paper and glue so could art change the world a year later, i was listening to all the noise about the middle east conflict i mean, at that time, trust me, they were only referring to the israeli and palestinian conflict so with my friend marco, we decided to go there and see who are the real palestinians and who are the real israelis are they so different when we got there, we just went in the street, started talking with people everywhere, and we realized that things were a bit different from the rhetoric we heard in the media so we decided to take portraits of palestinians and israelis doing the same jobs taxidriver, lawyer, cooks asked them to make a face as a sign of commitment not a smile that really doesnt tell about who you are and what you feel they all accepted to be pasted next to the other i decided to paste in eight israeli and palestinian cities and on both sides of the wall we launched the biggest illegal art exhibition ever we called the project face 2 face the experts said, no way the people will not accept the army will shoot you, and hamas will kidnap you we said, okay, lets try and push as far as we can i love the way that people will ask me, how big will my photo be it will be as big as your house when we did the wall, we did the palestinian side i wanted them to feel that this art belongs to them then the next day, i held a meeting on the main square and some women came they were all linked to the three kids that got killed there was the mother, the grandmother, the best friend they all wanted to shout the story after that day, everyone in the favela gave me the green light i took more photos, and we started the project the drug lords were kind of worried about us filming in the place, so i told them, you know what im not interested in filming the violence and the weapons you see that enough in the media what i want to show is the incredible life and energy ive been seeing it around me the last few days so thats a really symbolic pasting, because thats the first one we did that you couldnt see from the city and thats where the three kids got arrested, and thats the grandmother of one of them and on that stairs, thats where the traffickers always stand and theres a lot of exchange of fire everyone there understood the project and i framed it with color so you would not confuse it with advertising i mean, the citys the best gallery i could imagine i would never have to make a book and then present it to a gallery and let them decide if my work was nice enough to show it to people i would control it directly with the public in the streets so thats paris i would change depending on the places i would go the title of the exhibition thats on the champselysees i was quite proud of that one because i was just 18",
            "two weeks ago i was in my studio in paris, and the phone rang and i heard, hey, jr, you won the ted prize 2011 you have to make a wish to save the world i was lost i mean, i cant save the world nobody can the world is fucked up come on, you have dictators ruling the world, population is growing by millions, theres no more fish in the sea, the north pole is melting and as the last ted prize winner said, were all becoming fat except maybe french people whatever so i called back and i told her, look, amy, tell the ted guys i just wont show up i cant do anything to save the world she said, hey, jr, your wish is not to save the world, but to change the world oh, all right thats cool i mean, technology, politics, business do change the world not always in a good way, but they do what about art could art change the world i started when i was 15 years old and at that time, i was not thinking about changing the world i was doing graffiti writing my name everywhere, using the city as a canvas i was going in the tunnels of paris, on the rooftops with my friends each trip was an excursion, was an adventure it was like leaving our mark on society, to say, i was here, on the top of a building so when i found a cheap camera on the subway, i started documenting those adventures with my friends and gave them back as photocopies really small photos just that size thats how, at 17 years old, i started pasting them and i did my first expo de rue, which means sidewalk gallery and i framed it with color so you would not confuse it with advertising i mean, the citys the best gallery i could imagine i would never have to make a book and then present it to a gallery and let them decide if my work was nice enough to show it to people i would control it directly with the public in the streets so thats paris i would change depending on the places i would go the title of the exhibition thats on the champselysees i was quite proud of that one because i was just 18 and i was just up there on the top of the champselysees then when the photo left, the frame was still there november 2005 the streets are burning a large wave of riots had broken into the first projects of paris everyone was glued to the tv, watching disturbing, frightening images taken from the edge of the neighborhood i mean, these kids, without control, throwing molotov cocktails, attacking the cops and the firemen, looting everything they could in the shops these were criminals, thugs, dangerous, destroying their own environment and then i saw it could it be possible my photo on a wall revealed by a burning car a pasting id done a year earlier an illegal one still there i mean, these were the faces of my friends i know those guys all of them are not angels, but theyre not monsters either so it was kind of weird to see those images and those eyes stare back at me through a television so i went back there with a 28 mm lens it was the only one i had at that time but with that lens, you have to be as close as 10 inches from the person so you can do it only with their trust so i took full portraits of people from le bosquet they were making scary faces to play the caricature of themselves and then i pasted huge posters everywhere in the bourgeois area of paris with the name, age, even building number of these guys a year later, the exhibition was displayed in front of the city hall of paris and we go from thug images, whove been stolen and distorted by the media, whos now proudly taking over his own image thats where i realized the power of paper and glue so could art change the world a year later, i was listening to all the noise about the middle east conflict i mean, at that time, trust me, they were only referring to the israeli and palestinian conflict so with my friend marco, we decided to go there and see who are the real palestinians and who are the real israelis are they so different when we got there, we just went in the street, started talking with people everywhere, and we realized that things were a bit different from the rhetoric we heard in the media so we decided to take portraits of palestinians and israelis doing the same jobs taxidriver, lawyer, cooks asked them to make a face as a sign of commitment not a smile that really doesnt tell about who you are and what you feel they all accepted to be pasted next to the other i decided to paste in eight israeli and palestinian cities and on both sides of the wall we launched the biggest illegal art exhibition ever we called the project face 2 face the experts said, no way the people will not accept the army will shoot you, and hamas will kidnap you we said, okay, lets try and push as far as we can i love the way that people will ask me, how big will my photo be it will be as big as your house when we did the wall, we did the palestinian side so we arrived with just our ladders and we realized that they were not high enough and so palestinians guys say, calm down no wait im going to find you a solution so he went to the church of nativity and brought back an old ladder that was so old that it could have seen jesus being born we did face 2 face with only six friends, two ladders, two brushes, a rented car, a camera and 20,000 square feet of paper we had all sorts of help from all walks of life okay, for example, thats palestine were in ramallah right now were pasting portraits so both portraits in the streets in a crowded market people come around us and start asking, what are you doing here oh, were actually doing an art project and we are pasting an israeli and a palestinian doing the same job and those ones are actually two taxidrivers and then there was always a silence you mean youre pasting an israeli face doing a face right here well, yeah, yeah, thats part of the project and i would always leave that moment, and we would ask them, so can you tell me who is who and most of them couldnt say we even pasted on israeli military towers, and nothing happened when you paste an image, its just paper and glue people can tear it, tag on it, or even pee on it some are a bit high for that, i agree but the people in the street, they are the curator the rain and the wind will take them off anyway they are not meant to stay but exactly four years after, the photos, most of them are still there face 2 face demonstrated that what we thought impossible was possible and, you know what, even easy we didnt push the limit we just showed that they were further than anyone thought in the middle east, i experienced my work in places without museums so the reactions in the street were kind of interesting so i decided to go further in this direction and go in places where there were zero museums when you go in these developing societies, women are the pillars of their community, but the men are still the ones holding the streets so we were inspired to create a project where men will pay tribute to women by posting their photos i called that project women are heroes when i listened to all the stories everywhere i went on the continents, i couldnt always understand the complicated circumstances of their conflict i just observed sometimes there was no words, no sentence, just tears i just took their pictures and pasted them women are heroes took me around the world most of the places i went to, i decided to go there because ive heard about it through the media so for example, in june 2008, i was watching tv in paris, and then i heard about this terrible thing that happened in rio de janeiro the first favela of brazil named providencia three kids that was three students were by the army because they were not carrying their papers and the army took them, and instead of bringing them to the police station, they brought them to an enemy favela where they get chopped into pieces i was shocked all brazil was shocked i heard it was one of the most violent favelas, because the largest drug cartel controls it so i decided to go there when i arrived i mean, i didnt have any contact with any ngo there was none in place no association, no ngos, nothing no eyewitnesses so we just walked around, and we met a woman, and i showed her my book and she said, you know what were hungry for culture we need culture out there so i went out and i started with the kids i just took a few photos of the kids, and the next day i came with the posters and we pasted them the day after, i came back and they were already scratched but thats okay i wanted them to feel that this art belongs to them then the next day, i held a meeting on the main square and some women came they were all linked to the three kids that got killed there was the mother, the grandmother, the best friend they all wanted to shout the story after that day, everyone in the favela gave me the green light i took more photos, and we started the project the drug lords were kind of worried about us filming in the place, so i told them, you know what im not interested in filming the violence and the weapons you see that enough in the media what i want to show is the incredible life and energy ive been seeing it around me the last few days so thats a really symbolic pasting, because thats the first one we did that you couldnt see from the city and thats where the three kids got arrested, and thats the grandmother of one of them and on that stairs, thats where the traffickers always stand and theres a lot of exchange of fire everyone there understood the project and then we pasted everywhere the whole hill what was interesting is that the media couldnt get in i mean, you should see that they would have to film us from a really long distance by helicopter and then have a really long lens, and we would see ourselves, on tv, pasting and they would put a number please call this number if you know whats going on in providencia we just did a project and then left so the media wouldnt know so how can we know about the project so they had to go and find the women and get an explanation from them so you create a bridge between the media and the anonymous women we kept traveling we went to africa, sudan, sierra leone, liberia, kenya in wartorn places like monrovia, people come straight to you i mean, they want to know what youre up to they kept asking me, what is the purpose of your project are you an ngo are you the media art just doing art some people question, why is it in black and white dont you have color in france or they tell you, are these people all dead some who understood the project would explain it to others and to a man who did not understand, i heard someone say, you know, youve been here for a few hours trying to understand, discussing with your fellows during that time, you havent thought about what youre going to eat tomorrow this is art i think its peoples curiosity that motivates them to come into the projects and then it becomes more it becomes a desire, a need, an armor on this bridge thats in monrovia, exrebel soldiers helped us pasting a portrait of a woman that might have been raped during the war women are always the first ones targeted during conflict this is kibera, kenya, one of the largest slums of africa you might have seen images about the postelection violence that happened there in 2008 this time we covered the roofs of the houses, but we didnt use paper, because paper doesnt prevent the rain from leaking inside the house vinyl does then art becomes useful so the people kept it you know what i love is, for example, when you see the biggest eye there, there are so houses inside and i went there a few months ago photos are still there and it was missing a piece of the eye so i asked the people what happened oh, that guy just moved when the roofs were covered, a woman said as a joke, now god can see me when you look at kibera now, they look back okay, india before i start that, just so you know, each time we go to a place, we dont have authorization, so we set up like commandos were a group of friends who arrive there, and we try to paste on the walls but there are places where you just cant paste on a wall in india it was just impossible to paste i heard culturally and because of the law, they would just arrest us at the first pasting so we decided to paste white, white on the walls so imagine white guys pasting white papers so people would come to us and ask us, hey, what are you up to oh, you know, were just doing art art of course, they were confused but you know how india has a lot of dust in the streets, and the more dust you would have going up in the air, on the white paper you can almost see, but there is this sticky part like when you reverse a sticker so the more dust you have, the more it will reveal the photo so we could just walk in the street during the next days and the photos would get revealed by themselves thank you so we didnt get caught this time each project thats a film from women are heroes okay for each project we do a film and most of what you see thats a trailer from women are heroes its images, photography, taken one after the other and the photos kept traveling even without us hopefully, youll see the film, and youll understand the scope of the project and what the people felt when they saw those photos because thats a big part of it theres layers behind each photo behind each image is a story women are heroes created a new dynamic in each of the communities, and the women kept that dynamic after we left for example, we did books not for sale that all the community would get but to get it, they would have to it signed by one of the women we did that in most of the places we go back regularly and so in providencia, for example, in the favela, we have a cultural center running there in kibera, each year we cover more roofs because of course, when we left, the people who were just at the edge of the project said, hey, what about my roof so we decided to come the year after and keep doing the project a really important point for me is that i dont use any brand or corporate sponsors so i have no responsibility to anyone but myself and the subjects and that is for me one of the more important things in the work i think, today, as important as the result is the way you do things and that has always been a central part of the work and whats interesting is that fine line that i have with images and advertising we just did some pasting in los angeles on another project in the last weeks and i was even invited to cover the moca museum but yesterday the city called them and said, look, youre going to have to tear it down because this can be taken for advertising, and because of the law, it has to be taken down but tell me, advertising for what the people i photograph were proud to participate in the project and to have their photo in the community but they asked me for a promise basically they asked me, please, make our story travel with you so i did thats paris thats rio in each place, we built exhibitions with a story, and the story traveled you understand the full scope of the project thats london new york and today, they are with you in long beach all right, recently i started a public art project where i dont use my artwork anymore i use man ray, helen levitt, giacomelli, other peoples artwork it doesnt matter today if its your photo or not the importance is what you do with the images, the statement it makes where its pasted so for example, i pasted the photo of the minaret in switzerland a few weeks after they voted the law forbidding minarets in the country this image of three men wearing gas masks was taken in chernobyl originally, and i pasted it in southern italy, where the mafia sometimes bury the garbage under the ground in some ways, art can change the world art is not supposed to change the world, to change practical things, but to change perceptions art can change the way we see the world art can create an analogy actually the fact that art cannot change things makes it a neutral place for exchanges and discussions, and then enables you to change the world when i do my work, i have two kinds of reactions people say, oh, why dont you go in iraq or afghanistan they would be really useful or, how can we help i presume that you belong to the second category, and thats good, because for that project, im going to ask you to take the photos and paste them so now my wish is i wish for you to stand up for what you care about by participating in a global art project, and together well turn the world inside out and this starts right now yes, everyone in the room everyone watching i wanted that wish to actually start now so a subject youre passionate about, a person who you want to tell their story or even your own photos tell me what you stand for take the photos, the portraits, upload it ill give you all the details and ill send you back your poster join by groups and reveal things to the world the full data is on the website insideoutproject net that is launching today what we see changes who we are when we act together, the whole thing is much more than the sum of the parts so i hope that, together, well create something that the world will remember and this starts right now and depends on you thank you thank you",
            "two weeks ago i was in my studio in paris, and the phone rang and i heard, hey, jr, you won the ted prize 2011 you have to make a wish to save the world i was lost i mean, i cant save the world nobody can the world is fucked up come on, you have dictators ruling the world, population is growing by millions, theres no more fish in the sea, the north pole is melting and as the last ted prize winner said, were all becoming fat except maybe french people whatever so i called back and i told her, look, amy, tell the ted guys i just wont show up i cant do anything to save the world she said, hey, jr, your wish is not to save the world, but to change the world oh, all right thats cool i mean, technology, politics, business do change the world not always in a good way, but they do what about art could art change the world i started when i was 15 years old and at that time, i was not thinking about changing the world i was doing graffiti writing my name everywhere, using the city as a canvas i was going in the tunnels of paris, on the rooftops with my friends each trip was an excursion, was an adventure it was like leaving our mark on society, to say, i was here, on the top of a building so when i found a cheap camera on the subway, i started documenting those adventures with my friends and gave them back as photocopies really small photos just that size thats how, at 17 years old, i started pasting them and i did my first expo de rue, which means sidewalk gallery and i framed it with color so you would not confuse it with advertising i mean, the citys the best gallery i could imagine i would never have to make a book and then present it to a gallery and let them decide if my work was nice enough to show it to people i would control it directly with the public in the streets so thats paris i would change depending on the places i would go the title of the exhibition thats on the champselysees i was quite proud of that one because i was just 18 and i was just up there on the top of the champselysees then when the photo left, the frame was still there november 2005 the streets are burning a large wave of riots had broken into the first projects of paris everyone was glued to the tv, watching disturbing, frightening images taken from the edge of the neighborhood i mean, these kids, without control, throwing molotov cocktails, attacking the cops and the firemen, looting everything they could in the shops these were criminals, thugs, dangerous, destroying their own environment and then i saw it could it be possible my photo on a wall revealed by a burning car a pasting id done a year earlier an illegal one still there i mean, these were the faces of my friends i know those guys all of them are not angels, but theyre not monsters either so it was kind of weird to see those images and those eyes stare back at me through a television so i went back there with a 28 mm lens it was the only one i had at that time but with that lens, you have to be as close as 10 inches from the person so you can do it only with their trust so i took full portraits of people from le bosquet they were making scary faces to play the caricature of themselves and then i pasted huge posters everywhere in the bourgeois area of paris with the name, age, even building number of these guys a year later, the exhibition was displayed in front of the city hall of paris and we go from thug images, whove been stolen and distorted by the media, whos now proudly taking over his own image thats where i realized the power of paper and glue so could art change the world a year later, i was listening to all the noise about the middle east conflict i mean, at that time, trust me, they were only referring to the israeli and palestinian conflict so with my friend marco, we decided to go there and see who are the real palestinians and who are the real israelis are they so different when we got there, we just went in the street, started talking with people everywhere, and we realized that things were a bit different from the rhetoric we heard in the media so we decided to take portraits of palestinians and israelis doing the same jobs taxidriver, lawyer, cooks asked them to make a face as a sign of commitment not a smile that really doesnt tell about who you are and what you feel they all accepted to be pasted next to the other i decided to paste in eight israeli and palestinian cities and on both sides of the wall we launched the biggest illegal art exhibition ever we called the project face 2 face the experts said, no way the people will not accept the army will shoot you, and hamas will kidnap you we said, okay, lets try and push as far as we can i love the way that people will ask me, how big will my photo be it will be as big as your house when we did the wall, we did the palestinian side so we arrived with just our ladders and we realized that they were not high enough and so palestinians guys say, calm down no wait im going to find you a solution so he went to the church of nativity and brought back an old ladder that was so old that it could have seen jesus being born we did face 2 face with only six friends, two ladders, two brushes, a rented car, a camera and 20,000 square feet of paper we had all sorts of help from all walks of life okay, for example, thats palestine were in ramallah right now were pasting portraits so both portraits in the streets in a crowded market people come around us and start asking, what are you doing here oh, were actually doing an art project and we are pasting an israeli and a palestinian doing the same job and those ones are actually two taxidrivers and then there was always a silence you mean youre pasting an israeli face doing a face right here well, yeah, yeah, thats part of the project and i would always leave that moment, and we would ask them, so can you tell me who is who and most of them couldnt say we even pasted on israeli military towers, and nothing happened when you paste an image, its just paper and glue people can tear it, tag on it, or even pee on it some are a bit high for that, i agree but the people in the street, they are the curator the rain and the wind will take them off anyway they are not meant to stay but exactly four years after, the photos, most of them are still there face 2 face demonstrated that what we thought impossible was possible and, you know what, even easy we didnt push the limit we just showed that they were further than anyone thought in the middle east, i experienced my work in places without museums so the reactions in the street were kind of interesting so i decided to go further in this direction and go in places where there were zero museums when you go in these developing societies, women are the pillars of their community, but the men are still the ones holding the streets so we were inspired to create a project where men will pay tribute to women by posting their photos i called that project women are heroes when i listened to all the stories everywhere i went on the continents, i couldnt always understand the complicated circumstances of their conflict i just observed sometimes there was no words, no sentence, just tears i just took their pictures and pasted them women are heroes took me around the world most of the places i went to, i decided to go there because ive heard about it through the media so for example, in june 2008, i was watching tv in paris, and then i heard about this terrible thing that happened in rio de janeiro the first favela of brazil named providencia three kids that was three students were by the army because they were not carrying their papers and the army took them, and instead of bringing them to the police station, they brought them to an enemy favela where they get chopped into pieces i was shocked all brazil was shocked i heard it was one of the most violent favelas, because the largest drug cartel controls it so i decided to go there when i arrived i mean, i didnt have any contact with any ngo there was none in place no association, no ngos, nothing no eyewitnesses so we just walked around, and we met a woman, and i showed her my book and she said, you know what were hungry for culture we need culture out there so i went out and i started with the kids i just took a few photos of the kids, and the next day i came with the posters and we pasted them the day after, i came back and they were already scratched but thats okay i wanted them to feel that this art belongs to them then the next day, i held a meeting on the main square and some women came they were all linked to the three kids that got killed there was the mother, the grandmother, the best friend they all wanted to shout the story after that day, everyone in the favela gave me the green light i took more photos, and we started the project the drug lords were kind of worried about us filming in the place, so i told them, you know what im not interested in filming the violence and the weapons you see that enough in the media what i want to show is the incredible life and energy ive been seeing it around me the last few days so thats a really symbolic pasting, because thats the first one we did that you couldnt see from the city and thats where the three kids got arrested, and thats the grandmother of one of them and on that stairs, thats where the traffickers always stand and theres a lot of exchange of fire everyone there understood the project and then we pasted everywhere the whole hill what was interesting is that the media couldnt get in i mean, you should see that they would have to film us from a really long distance by helicopter and then have a really long lens, and we would see ourselves, on tv, pasting and they would put a number please call this number if you know whats going on in providencia we just did a project and then left so the media wouldnt know so how can we know about the project so they had to go and find the women and get an explanation from them so you create a bridge between the media and the anonymous women we kept traveling we went to africa, sudan, sierra leone, liberia, kenya in wartorn places like monrovia, people come straight to you i mean, they want to know what youre up to they kept asking me, what is the purpose of your project are you an ngo are you the media art just doing art some people question, why is it in black and white dont you have color in france or they tell you, are these people all dead some who understood the project would explain it to others and to a man who did not understand, i heard someone say, you know, youve been here for a few hours trying to understand, discussing with your fellows during that time, you havent thought about what youre going to eat tomorrow this is art i think its peoples curiosity that motivates them to come into the projects and then it becomes more it becomes a desire, a need, an armor on this bridge thats in monrovia, exrebel soldiers helped us pasting a portrait of a woman that might have been raped during the war women are always the first ones targeted during conflict this is kibera, kenya, one of the largest slums of africa you might have seen images about the postelection violence that happened there in 2008 this time we covered the roofs of the houses, but we didnt use paper, because paper doesnt prevent the rain from leaking inside the house vinyl does then art becomes useful so the people kept it you know what i love is, for example, when you see the biggest eye there, there are so houses inside and i went there a few months ago photos are still there and it was missing a piece of the eye so i asked the people what happened oh, that guy just moved when the roofs were covered, a woman said as a joke, now god can see me when you look at kibera now, they look back okay, india before i start that, just so you know, each time we go to a place, we dont have authorization, so we set up like commandos were a group of friends who arrive there, and we try to paste on the walls but there are places where you just cant paste on a wall in india it was just impossible to paste i heard culturally and because of the law, they would just arrest us at the first pasting so we decided to paste white, white on the walls so imagine white guys pasting white papers so people would come to us and ask us, hey, what are you up to oh, you know, were just doing art art of course, they were confused but you know how india has a lot of dust in the streets, and the more dust you would have going up in the air, on the white paper you can almost see, but there is this sticky part like when you reverse a sticker so the more dust you have, the more it will reveal the photo so we could just walk in the street during the next days and the photos would get revealed by themselves thank you so we didnt get caught this time each project thats a film from women are heroes okay for each project we do a film and most of what you see thats a trailer from women are heroes its images, photography, taken one after the other and the photos kept traveling even without us hopefully, youll see the film, and youll understand the scope of the project and what the people felt when they saw those photos because thats a big part of it theres layers behind each photo behind each image is a story women are heroes created a new dynamic in each of the communities, and the women kept that dynamic after we left for example, we did books not for sale that all the community would get but to get it, they would have to it signed by one of the women we did that in most of the places we go back regularly and so in providencia, for example, in the favela, we have a cultural center running there in kibera, each year we cover more roofs because of course, when we left, the people who were just at the edge of the project said, hey, what about my roof so we decided to come the year after and keep doing the project a really important point for me is that i dont use any brand or corporate sponsors so i have no responsibility to anyone but myself and the subjects and that is for me one of the more important things in the work i think, today, as important as the result is the way you do things and that has always been a central part of the work and whats interesting is that fine line that i have with images and advertising we just did some pasting in los angeles on another project in the last weeks and i was even invited to cover the moca museum but yesterday the city called them and said, look, youre going to have to tear it down because this can be taken for advertising, and because of the law, it has to be taken down but tell me, advertising for what the people i photograph were proud to participate in the project and to have their photo in the community but they asked me for a promise basically they asked me, please, make our story travel with you so i did thats paris thats rio in each place, we built exhibitions with a story, and the story traveled you understand the full scope of the project thats london new york and today, they are with you in long beach all right, recently i started a public art project where i dont use my artwork anymore i use man ray, helen levitt, giacomelli, other peoples artwork it doesnt matter today if its your photo or not the importance is what you do with the images, the statement it makes where its pasted so for example, i pasted the photo of the minaret in switzerland a few weeks after they voted the law forbidding minarets in the country this image of three men wearing gas masks was taken in chernobyl originally, and i pasted it in southern italy, where the mafia sometimes bury the garbage under the ground in some ways, art can change the world art is not supposed to change the world, to change practical things, but to change perceptions art can change the way we see the world art can create an analogy actually the fact that art cannot change things makes it a neutral place for exchanges and discussions, and then enables you to change the world when i do my work, i have two kinds of reactions people say, oh, why dont you go in iraq or afghanistan they would be really useful or, how can we help i presume that you belong to the second category, and thats good, because for that project, im going to ask you to take the photos and paste them so now my wish is i wish for you to stand up for what you care about by participating in a global art project, and together well turn the world inside out and this starts right now yes, everyone in the room everyone watching i wanted that wish to actually start now so a subject youre passionate about, a person who you want to tell their story or even your own photos tell me what you stand for take the photos, the portraits, upload it ill give you all the details and ill send you back your poster join by groups and reveal things to the world the full data is on the website insideoutproject net that is launching today what we see changes who we are when we act together, the whole thing is much more than the sum of the parts so i hope that, together, well create something that the world will remember and this starts right now and depends on you thank you thank you",
            "two weeks ago i was in my studio in paris, and the phone rang and i heard, hey, jr, you won the ted prize 2011 you have to make a wish to save the world i was lost i mean, i cant save the world nobody can the world is fucked up come on, you have dictators ruling the world, population is growing by millions, theres no more fish in the sea, the north pole is melting and as the last ted prize winner said, were all becoming fat except maybe french people whatever so i called back and i told her, look, amy, tell the ted guys i just wont show up i cant do anything to save the world she said, hey, jr, your wish is not to save the world, but to change the world oh, all right thats cool i mean, technology, politics, business do change the world not always in a good way, but they do what about art could art change the world i started when i was 15 years old and at that time, i was not thinking about changing the world i was doing graffiti writing my name everywhere, using the city as a canvas i was going in the tunnels of paris, on the rooftops with my friends each trip was an excursion, was an adventure it was like leaving our mark on society, to say, i was here, on the top of a building so when i found a cheap camera on the subway, i started documenting those adventures with my friends and gave them back as photocopies really small photos just that size thats how, at 17 years old, i started pasting them and i did my first expo de rue, which means sidewalk gallery and i framed it with color so you would not confuse it with advertising i mean, the citys the best gallery i could imagine i would never have to make a book and then present it to a gallery and let them decide if my work was nice enough to show it to people i would control it directly with the public in the streets so thats paris i would change depending on the places i would go the title of the exhibition thats on the champselysees i was quite proud of that one because i was just 18 and i was just up there on the top of the champselysees then when the photo left, the frame was still there november 2005 the streets are burning a large wave of riots had broken into the first projects of paris everyone was glued to the tv, watching disturbing, frightening images taken from the edge of the neighborhood i mean, these kids, without control, throwing molotov cocktails, attacking the cops and the firemen, looting everything they could in the shops these were criminals, thugs, dangerous, destroying their own environment and then i saw it could it be possible my photo on a wall revealed by a burning car a pasting id done a year earlier an illegal one still there i mean, these were the faces of my friends i know those guys all of them are not angels, but theyre not monsters either so it was kind of weird to see those images and those eyes stare back at me through a television so i went back there with a 28 mm lens it was the only one i had at that time but with that lens, you have to be as close as 10 inches from the person so you can do it only with their trust so i took full portraits of people from le bosquet they were making scary faces to play the caricature of themselves and then i pasted huge posters everywhere in the bourgeois area of paris with the name, age, even building number of these guys a year later, the exhibition was displayed in front of the city hall of paris and we go from thug images, whove been stolen and distorted by the media, whos now proudly taking over his own image thats where i realized the power of paper and glue so could art change the world a year later, i was listening to all the noise about the middle east conflict i mean, at that time, trust me, they were only referring to the israeli and palestinian conflict so with my friend marco, we decided to go there and see who are the real palestinians and who are the real israelis are they so different when we got there, we just went in the street, started talking with people everywhere, and we realized that things were a bit different from the rhetoric we heard in the media so we decided to take portraits of palestinians and israelis doing the same jobs taxidriver, lawyer, cooks asked them to make a face as a sign of commitment not a smile that really doesnt tell about who you are and what you feel they all accepted to be pasted next to the other i decided to paste in eight israeli and palestinian cities and on both sides of the wall we launched the biggest illegal art exhibition ever we called the project face 2 face the experts said, no way the people will not accept the army will shoot you, and hamas will kidnap you we said, okay, lets try and push as far as we can i love the way that people will ask me, how big will my photo be it will be as big as your house when we did the wall, we did the palestinian side so we arrived with just our ladders and we realized that they were not high enough and so palestinians guys say, calm down no wait im going to find you a solution so he went to the church of nativity and brought back an old ladder that was so old that it could have seen jesus being born we did face 2 face with only six friends, two ladders, two brushes, a rented car, a camera and 20,000 square feet of paper we had all sorts of help from all walks of life okay, for example, thats palestine were in ramallah right now were pasting portraits so both portraits in the streets in a crowded market people come around us and start asking, what are you doing here oh, were actually doing an art project and we are pasting an israeli and a palestinian doing the same job and those ones are actually two taxidrivers and then there was always a silence you mean youre pasting an israeli face doing a face right here well, yeah, yeah, thats part of the project and i would always leave that moment, and we would ask them, so can you tell me who is who and most of them couldnt say we even pasted on israeli military towers, and nothing happened when you paste an image, its just paper and glue people can tear it, tag on it, or even pee on it some are a bit high for that, i agree but the people in the street, they are the curator the rain and the wind will take them off anyway they are not meant to stay but exactly four years after, the photos, most of them are still there face 2 face demonstrated that what we thought impossible was possible and, you know what, even easy we didnt push the limit we just showed that they were further than anyone thought in the middle east, i experienced my work in places without museums so the reactions in the street were kind of interesting so i decided to go further in this direction and go in places where there were zero museums when you go in these developing societies, women are the pillars of their community, but the men are still the ones holding the streets so we were inspired to create a project where men will pay tribute to women by posting their photos i called that project women are heroes when i listened to all the stories everywhere i went on the continents, i couldnt always understand the complicated circumstances of their conflict i just observed sometimes there was no words, no sentence, just tears i just took their pictures and pasted them women are heroes took me around the world most of the places i went to, i decided to go there because ive heard about it through the media so for example, in june 2008, i was watching tv in paris, and then i heard about this terrible thing that happened in rio de janeiro the first favela of brazil named providencia three kids that was three students were by the army because they were not carrying their papers and the army took them, and instead of bringing them to the police station, they brought them to an enemy favela where they get chopped into pieces i was shocked all brazil was shocked i heard it was one of the most violent favelas, because the largest drug cartel controls it so i decided to go there when i arrived i mean, i didnt have any contact with any ngo there was none in place no association, no ngos, nothing no eyewitnesses so we just walked around, and we met a woman, and i showed her my book and she said, you know what were hungry for culture we need culture out there so i went out and i started with the kids i just took a few photos of the kids, and the next day i came with the posters and we pasted them the day after, i came back and they were already scratched but thats okay i wanted them to feel that this art belongs to them then the next day, i held a meeting on the main square and some women came they were all linked to the three kids that got killed there was the mother, the grandmother, the best friend they all wanted to shout the story after that day, everyone in the favela gave me the green light i took more photos, and we started the project the drug lords were kind of worried about us filming in the place, so i told them, you know what im not interested in filming the violence and the weapons you see that enough in the media what i want to show is the incredible life and energy ive been seeing it around me the last few days so thats a really symbolic pasting, because thats the first one we did that you couldnt see from the city and thats where the three kids got arrested, and thats the grandmother of one of them and on that stairs, thats where the traffickers always stand and theres a lot of exchange of fire everyone there understood the project and then we pasted everywhere the whole hill what was interesting is that the media couldnt get in i mean, you should see that they would have to film us from a really long distance by helicopter and then have a really long lens, and we would see ourselves, on tv, pasting and they would put a number please call this number if you know whats going on in providencia we just did a project and then left so the media wouldnt know so how can we know about the project so they had to go and find the women and get an explanation from them so you create a bridge between the media and the anonymous women we kept traveling we went to africa, sudan, sierra leone, liberia, kenya in wartorn places like monrovia, people come straight to you i mean, they want to know what youre up to they kept asking me, what is the purpose of your project are you an ngo are you the media art just doing art some people question, why is it in black and white dont you have color in france or they tell you, are these people all dead some who understood the project would explain it to others and to a man who did not understand, i heard someone say, you know, youve been here for a few hours trying to understand, discussing with your fellows during that time, you havent thought about what youre going to eat tomorrow this is art i think its peoples curiosity that motivates them to come into the projects and then it becomes more it becomes a desire, a need, an armor on this bridge thats in monrovia, exrebel soldiers helped us pasting a portrait of a woman that might have been raped during the war women are always the first ones targeted during conflict this is kibera, kenya, one of the largest slums of africa you might have seen images about the postelection violence that happened there in 2008 this time we covered the roofs of the houses, but we didnt use paper, because paper doesnt prevent the rain from leaking inside the house vinyl does then art becomes useful so the people kept it you know what i love is, for example, when you see the biggest eye there, there are so houses inside and i went there a few months ago photos are still there and it was missing a piece of the eye so i asked the people what happened oh, that guy just moved when the roofs were covered, a woman said as a joke, now god can see me when you look at kibera now, they look back okay, india before i start that, just so you know, each time we go to a place, we dont have authorization, so we set up like commandos were a group of friends who arrive there, and we try to paste on the walls but there are places where you just cant paste on a wall in india it was just impossible to paste i heard culturally and because of the law, they would just arrest us at the first pasting so we decided to paste white, white on the walls so imagine white guys pasting white papers so people would come to us and ask us, hey, what are you up to oh, you know, were just doing art art of course, they were confused but you know how india has a lot of dust in the streets, and the more dust you would have going up in the air, on the white paper you can almost see, but there is this sticky part like when you reverse a sticker so the more dust you have, the more it will reveal the photo so we could just walk in the street during the next days and the photos would get revealed by themselves thank you so we didnt get caught this time each project thats a film from women are heroes okay for each project we do a film and most of what you see thats a trailer from women are heroes its images, photography, taken one after the other and the photos kept traveling even without us hopefully, youll see the film, and youll understand the scope of the project and what the people felt when they saw those photos because thats a big part of it theres layers behind each photo behind each image is a story women are heroes created a new dynamic in each of the communities, and the women kept that dynamic after we left for example, we did books not for sale that all the community would get but to get it, they would have to it signed by one of the women we did that in most of the places we go back regularly and so in providencia, for example, in the favela, we have a cultural center running there in kibera, each year we cover more roofs because of course, when we left, the people who were just at the edge of the project said, hey, what about my roof so we decided to come the year after and keep doing the project a really important point for me is that i dont use any brand or corporate sponsors so i have no responsibility to anyone but myself and the subjects and that is for me one of the more important things in the work i think, today, as important as the result is the way you do things and that has always been a central part of the work and whats interesting is that fine line that i have with images and advertising we just did some pasting in los angeles on another project in the last weeks and i was even invited to cover the moca museum but yesterday the city called them and said, look, youre going to have to tear it down because this can be taken for advertising, and because of the law, it has to be taken down but tell me, advertising for what the people i photograph were proud to participate in the project and to have their photo in the community but they asked me for a promise basically they asked me, please, make our story travel with you so i did thats paris thats rio in each place, we built exhibitions with a story, and the story traveled you understand the full scope of the project thats london new york and today, they are with you in long beach all right, recently i started a public art project where i dont use my artwork anymore i use man ray, helen levitt, giacomelli, other peoples artwork it doesnt matter today if its your photo or not the importance is what you do with the images, the statement it makes where its pasted so for example, i pasted the photo of the minaret in switzerland a few weeks after they voted the law forbidding minarets in the country this image of three men wearing gas masks was taken in chernobyl originally, and i pasted it in southern italy, where the mafia sometimes bury the garbage under the ground in some ways, art can change the world art is not supposed to change the world, to change practical things, but to change perceptions art can change the way we see the world art can create an analogy actually the fact that art cannot change things makes it a neutral place for exchanges and discussions, and then enables you to change the world when i do my work, i have two kinds of reactions people say, oh, why dont you go in iraq or afghanistan they would be really useful or, how can we help i presume that you belong to the second category, and thats good, because for that project, im going to ask you to take the photos and paste them so now my wish is i wish for you to stand up for what you care about by participating in a global art project, and together well turn the world inside out and this starts right now yes, everyone in the room everyone watching i wanted that wish to actually start now so a subject youre passionate about, a person who you want to tell their story or even your own photos tell me what you stand for take the photos, the portraits, upload it ill give you all the details and ill send you back your poster join by groups and reveal things to the world the full data is on the website insideoutproject net that is launching today what we see changes who we are when we act together, the whole thing is much more than the sum of the parts so i hope that, together, well create something that the world will remember and this starts right now and depends on you thank you thank you"
           ],
           [
            0.8299,
            1,
            1,
            1
           ],
           [
            1,
            1,
            1,
            1
           ],
           [
            0.3763,
            1,
            1,
            1
           ]
          ]
         },
         "header": {
          "align": "left",
          "fill": {
           "color": "paleturquoise"
          },
          "values": [
           "Method",
           "Summary",
           "Cosine Similarity",
           "Coverage",
           "Compression Ratio"
          ]
         },
         "type": "table"
        }
       ],
       "layout": {
        "template": {
         "data": {
          "bar": [
           {
            "error_x": {
             "color": "#2a3f5f"
            },
            "error_y": {
             "color": "#2a3f5f"
            },
            "marker": {
             "line": {
              "color": "#E5ECF6",
              "width": 0.5
             },
             "pattern": {
              "fillmode": "overlay",
              "size": 10,
              "solidity": 0.2
             }
            },
            "type": "bar"
           }
          ],
          "barpolar": [
           {
            "marker": {
             "line": {
              "color": "#E5ECF6",
              "width": 0.5
             },
             "pattern": {
              "fillmode": "overlay",
              "size": 10,
              "solidity": 0.2
             }
            },
            "type": "barpolar"
           }
          ],
          "carpet": [
           {
            "aaxis": {
             "endlinecolor": "#2a3f5f",
             "gridcolor": "white",
             "linecolor": "white",
             "minorgridcolor": "white",
             "startlinecolor": "#2a3f5f"
            },
            "baxis": {
             "endlinecolor": "#2a3f5f",
             "gridcolor": "white",
             "linecolor": "white",
             "minorgridcolor": "white",
             "startlinecolor": "#2a3f5f"
            },
            "type": "carpet"
           }
          ],
          "choropleth": [
           {
            "colorbar": {
             "outlinewidth": 0,
             "ticks": ""
            },
            "type": "choropleth"
           }
          ],
          "contour": [
           {
            "colorbar": {
             "outlinewidth": 0,
             "ticks": ""
            },
            "colorscale": [
             [
              0,
              "#0d0887"
             ],
             [
              0.1111111111111111,
              "#46039f"
             ],
             [
              0.2222222222222222,
              "#7201a8"
             ],
             [
              0.3333333333333333,
              "#9c179e"
             ],
             [
              0.4444444444444444,
              "#bd3786"
             ],
             [
              0.5555555555555556,
              "#d8576b"
             ],
             [
              0.6666666666666666,
              "#ed7953"
             ],
             [
              0.7777777777777778,
              "#fb9f3a"
             ],
             [
              0.8888888888888888,
              "#fdca26"
             ],
             [
              1,
              "#f0f921"
             ]
            ],
            "type": "contour"
           }
          ],
          "contourcarpet": [
           {
            "colorbar": {
             "outlinewidth": 0,
             "ticks": ""
            },
            "type": "contourcarpet"
           }
          ],
          "heatmap": [
           {
            "colorbar": {
             "outlinewidth": 0,
             "ticks": ""
            },
            "colorscale": [
             [
              0,
              "#0d0887"
             ],
             [
              0.1111111111111111,
              "#46039f"
             ],
             [
              0.2222222222222222,
              "#7201a8"
             ],
             [
              0.3333333333333333,
              "#9c179e"
             ],
             [
              0.4444444444444444,
              "#bd3786"
             ],
             [
              0.5555555555555556,
              "#d8576b"
             ],
             [
              0.6666666666666666,
              "#ed7953"
             ],
             [
              0.7777777777777778,
              "#fb9f3a"
             ],
             [
              0.8888888888888888,
              "#fdca26"
             ],
             [
              1,
              "#f0f921"
             ]
            ],
            "type": "heatmap"
           }
          ],
          "heatmapgl": [
           {
            "colorbar": {
             "outlinewidth": 0,
             "ticks": ""
            },
            "colorscale": [
             [
              0,
              "#0d0887"
             ],
             [
              0.1111111111111111,
              "#46039f"
             ],
             [
              0.2222222222222222,
              "#7201a8"
             ],
             [
              0.3333333333333333,
              "#9c179e"
             ],
             [
              0.4444444444444444,
              "#bd3786"
             ],
             [
              0.5555555555555556,
              "#d8576b"
             ],
             [
              0.6666666666666666,
              "#ed7953"
             ],
             [
              0.7777777777777778,
              "#fb9f3a"
             ],
             [
              0.8888888888888888,
              "#fdca26"
             ],
             [
              1,
              "#f0f921"
             ]
            ],
            "type": "heatmapgl"
           }
          ],
          "histogram": [
           {
            "marker": {
             "pattern": {
              "fillmode": "overlay",
              "size": 10,
              "solidity": 0.2
             }
            },
            "type": "histogram"
           }
          ],
          "histogram2d": [
           {
            "colorbar": {
             "outlinewidth": 0,
             "ticks": ""
            },
            "colorscale": [
             [
              0,
              "#0d0887"
             ],
             [
              0.1111111111111111,
              "#46039f"
             ],
             [
              0.2222222222222222,
              "#7201a8"
             ],
             [
              0.3333333333333333,
              "#9c179e"
             ],
             [
              0.4444444444444444,
              "#bd3786"
             ],
             [
              0.5555555555555556,
              "#d8576b"
             ],
             [
              0.6666666666666666,
              "#ed7953"
             ],
             [
              0.7777777777777778,
              "#fb9f3a"
             ],
             [
              0.8888888888888888,
              "#fdca26"
             ],
             [
              1,
              "#f0f921"
             ]
            ],
            "type": "histogram2d"
           }
          ],
          "histogram2dcontour": [
           {
            "colorbar": {
             "outlinewidth": 0,
             "ticks": ""
            },
            "colorscale": [
             [
              0,
              "#0d0887"
             ],
             [
              0.1111111111111111,
              "#46039f"
             ],
             [
              0.2222222222222222,
              "#7201a8"
             ],
             [
              0.3333333333333333,
              "#9c179e"
             ],
             [
              0.4444444444444444,
              "#bd3786"
             ],
             [
              0.5555555555555556,
              "#d8576b"
             ],
             [
              0.6666666666666666,
              "#ed7953"
             ],
             [
              0.7777777777777778,
              "#fb9f3a"
             ],
             [
              0.8888888888888888,
              "#fdca26"
             ],
             [
              1,
              "#f0f921"
             ]
            ],
            "type": "histogram2dcontour"
           }
          ],
          "mesh3d": [
           {
            "colorbar": {
             "outlinewidth": 0,
             "ticks": ""
            },
            "type": "mesh3d"
           }
          ],
          "parcoords": [
           {
            "line": {
             "colorbar": {
              "outlinewidth": 0,
              "ticks": ""
             }
            },
            "type": "parcoords"
           }
          ],
          "pie": [
           {
            "automargin": true,
            "type": "pie"
           }
          ],
          "scatter": [
           {
            "fillpattern": {
             "fillmode": "overlay",
             "size": 10,
             "solidity": 0.2
            },
            "type": "scatter"
           }
          ],
          "scatter3d": [
           {
            "line": {
             "colorbar": {
              "outlinewidth": 0,
              "ticks": ""
             }
            },
            "marker": {
             "colorbar": {
              "outlinewidth": 0,
              "ticks": ""
             }
            },
            "type": "scatter3d"
           }
          ],
          "scattercarpet": [
           {
            "marker": {
             "colorbar": {
              "outlinewidth": 0,
              "ticks": ""
             }
            },
            "type": "scattercarpet"
           }
          ],
          "scattergeo": [
           {
            "marker": {
             "colorbar": {
              "outlinewidth": 0,
              "ticks": ""
             }
            },
            "type": "scattergeo"
           }
          ],
          "scattergl": [
           {
            "marker": {
             "colorbar": {
              "outlinewidth": 0,
              "ticks": ""
             }
            },
            "type": "scattergl"
           }
          ],
          "scattermapbox": [
           {
            "marker": {
             "colorbar": {
              "outlinewidth": 0,
              "ticks": ""
             }
            },
            "type": "scattermapbox"
           }
          ],
          "scatterpolar": [
           {
            "marker": {
             "colorbar": {
              "outlinewidth": 0,
              "ticks": ""
             }
            },
            "type": "scatterpolar"
           }
          ],
          "scatterpolargl": [
           {
            "marker": {
             "colorbar": {
              "outlinewidth": 0,
              "ticks": ""
             }
            },
            "type": "scatterpolargl"
           }
          ],
          "scatterternary": [
           {
            "marker": {
             "colorbar": {
              "outlinewidth": 0,
              "ticks": ""
             }
            },
            "type": "scatterternary"
           }
          ],
          "surface": [
           {
            "colorbar": {
             "outlinewidth": 0,
             "ticks": ""
            },
            "colorscale": [
             [
              0,
              "#0d0887"
             ],
             [
              0.1111111111111111,
              "#46039f"
             ],
             [
              0.2222222222222222,
              "#7201a8"
             ],
             [
              0.3333333333333333,
              "#9c179e"
             ],
             [
              0.4444444444444444,
              "#bd3786"
             ],
             [
              0.5555555555555556,
              "#d8576b"
             ],
             [
              0.6666666666666666,
              "#ed7953"
             ],
             [
              0.7777777777777778,
              "#fb9f3a"
             ],
             [
              0.8888888888888888,
              "#fdca26"
             ],
             [
              1,
              "#f0f921"
             ]
            ],
            "type": "surface"
           }
          ],
          "table": [
           {
            "cells": {
             "fill": {
              "color": "#EBF0F8"
             },
             "line": {
              "color": "white"
             }
            },
            "header": {
             "fill": {
              "color": "#C8D4E3"
             },
             "line": {
              "color": "white"
             }
            },
            "type": "table"
           }
          ]
         },
         "layout": {
          "annotationdefaults": {
           "arrowcolor": "#2a3f5f",
           "arrowhead": 0,
           "arrowwidth": 1
          },
          "autotypenumbers": "strict",
          "coloraxis": {
           "colorbar": {
            "outlinewidth": 0,
            "ticks": ""
           }
          },
          "colorscale": {
           "diverging": [
            [
             0,
             "#8e0152"
            ],
            [
             0.1,
             "#c51b7d"
            ],
            [
             0.2,
             "#de77ae"
            ],
            [
             0.3,
             "#f1b6da"
            ],
            [
             0.4,
             "#fde0ef"
            ],
            [
             0.5,
             "#f7f7f7"
            ],
            [
             0.6,
             "#e6f5d0"
            ],
            [
             0.7,
             "#b8e186"
            ],
            [
             0.8,
             "#7fbc41"
            ],
            [
             0.9,
             "#4d9221"
            ],
            [
             1,
             "#276419"
            ]
           ],
           "sequential": [
            [
             0,
             "#0d0887"
            ],
            [
             0.1111111111111111,
             "#46039f"
            ],
            [
             0.2222222222222222,
             "#7201a8"
            ],
            [
             0.3333333333333333,
             "#9c179e"
            ],
            [
             0.4444444444444444,
             "#bd3786"
            ],
            [
             0.5555555555555556,
             "#d8576b"
            ],
            [
             0.6666666666666666,
             "#ed7953"
            ],
            [
             0.7777777777777778,
             "#fb9f3a"
            ],
            [
             0.8888888888888888,
             "#fdca26"
            ],
            [
             1,
             "#f0f921"
            ]
           ],
           "sequentialminus": [
            [
             0,
             "#0d0887"
            ],
            [
             0.1111111111111111,
             "#46039f"
            ],
            [
             0.2222222222222222,
             "#7201a8"
            ],
            [
             0.3333333333333333,
             "#9c179e"
            ],
            [
             0.4444444444444444,
             "#bd3786"
            ],
            [
             0.5555555555555556,
             "#d8576b"
            ],
            [
             0.6666666666666666,
             "#ed7953"
            ],
            [
             0.7777777777777778,
             "#fb9f3a"
            ],
            [
             0.8888888888888888,
             "#fdca26"
            ],
            [
             1,
             "#f0f921"
            ]
           ]
          },
          "colorway": [
           "#636efa",
           "#EF553B",
           "#00cc96",
           "#ab63fa",
           "#FFA15A",
           "#19d3f3",
           "#FF6692",
           "#B6E880",
           "#FF97FF",
           "#FECB52"
          ],
          "font": {
           "color": "#2a3f5f"
          },
          "geo": {
           "bgcolor": "white",
           "lakecolor": "white",
           "landcolor": "#E5ECF6",
           "showlakes": true,
           "showland": true,
           "subunitcolor": "white"
          },
          "hoverlabel": {
           "align": "left"
          },
          "hovermode": "closest",
          "mapbox": {
           "style": "light"
          },
          "paper_bgcolor": "white",
          "plot_bgcolor": "#E5ECF6",
          "polar": {
           "angularaxis": {
            "gridcolor": "white",
            "linecolor": "white",
            "ticks": ""
           },
           "bgcolor": "#E5ECF6",
           "radialaxis": {
            "gridcolor": "white",
            "linecolor": "white",
            "ticks": ""
           }
          },
          "scene": {
           "xaxis": {
            "backgroundcolor": "#E5ECF6",
            "gridcolor": "white",
            "gridwidth": 2,
            "linecolor": "white",
            "showbackground": true,
            "ticks": "",
            "zerolinecolor": "white"
           },
           "yaxis": {
            "backgroundcolor": "#E5ECF6",
            "gridcolor": "white",
            "gridwidth": 2,
            "linecolor": "white",
            "showbackground": true,
            "ticks": "",
            "zerolinecolor": "white"
           },
           "zaxis": {
            "backgroundcolor": "#E5ECF6",
            "gridcolor": "white",
            "gridwidth": 2,
            "linecolor": "white",
            "showbackground": true,
            "ticks": "",
            "zerolinecolor": "white"
           }
          },
          "shapedefaults": {
           "line": {
            "color": "#2a3f5f"
           }
          },
          "ternary": {
           "aaxis": {
            "gridcolor": "white",
            "linecolor": "white",
            "ticks": ""
           },
           "baxis": {
            "gridcolor": "white",
            "linecolor": "white",
            "ticks": ""
           },
           "bgcolor": "#E5ECF6",
           "caxis": {
            "gridcolor": "white",
            "linecolor": "white",
            "ticks": ""
           }
          },
          "title": {
           "x": 0.05
          },
          "xaxis": {
           "automargin": true,
           "gridcolor": "white",
           "linecolor": "white",
           "ticks": "",
           "title": {
            "standoff": 15
           },
           "zerolinecolor": "white",
           "zerolinewidth": 2
          },
          "yaxis": {
           "automargin": true,
           "gridcolor": "white",
           "linecolor": "white",
           "ticks": "",
           "title": {
            "standoff": 15
           },
           "zerolinecolor": "white",
           "zerolinewidth": 2
          }
         }
        },
        "title": {
         "text": "Summarization Method Comparison Table"
        }
       }
      }
     },
     "metadata": {},
     "output_type": "display_data"
    }
   ],
   "source": [
    "import plotly.express as px\n",
    "import plotly.graph_objects as go\n",
    "fig_table = go.Figure(data=[go.Table(\n",
    "    header=dict(values=list(df.columns),\n",
    "                fill_color='paleturquoise',\n",
    "                align='left'),\n",
    "    cells=dict(values=[df[col] for col in df.columns],\n",
    "               fill_color='lavender',\n",
    "               align='left'))\n",
    "])\n",
    "\n",
    "fig_table.update_layout(title='Summarization Method Comparison Table')\n",
    "fig_table.show()\n"
   ]
  },
  {
   "cell_type": "code",
   "execution_count": 43,
   "id": "69d45213",
   "metadata": {},
   "outputs": [
    {
     "data": {
      "application/vnd.plotly.v1+json": {
       "config": {
        "plotlyServerURL": "https://plot.ly"
       },
       "data": [
        {
         "cells": {
          "align": "left",
          "fill": {
           "color": "lightyellow"
          },
          "font": {
           "color": "black",
           "size": 11
          },
          "values": [
           [
            "pytextrank",
            "sumy_lsa",
            "sumy_luhn",
            "sumy_textrank"
           ],
           [
            "so i did thats paris thats rio in each place, we built exhibitions with a story, and the story traveled you understand the full scope of the project thats london new york and today, they are with you in long beach all right, recently i started a public art project where i dont use my artwork anymore i use man ray, helen levitt, giacomelli, other peoples artwork it doesnt matter today if its your photo or not the importance is what you do with the images, the statement it makes where its pasted so for example, i pasted the photo of the minaret in switzerland a few weeks after they voted the law forbidding minarets in the country this image of three men wearing gas masks was taken in chernobyl originally, and i pasted it in southern italy, where the mafia sometimes bury the garbage under the ground in some ways, art can change the world art is not supposed to change the world, to change practical things, but to change perceptions art can change the way we see the world art can create an analogy actually the fact that art cannot change things makes it a neutral place for exchanges and discussions, and then enables you to change the world when i do my work, i have two kinds of reactions people say, oh, why dont you go in iraq or afghanistan they would be really useful or, how can we help i presume that you belong to the second category, and thats good, because for that project, im going to ask you to take the photos and paste them so now my wish is i wish for you to stand up for what you care about by participating in a global art project, and together well turn the world inside out and this starts right now yes, everyone in the room everyone watching i wanted that wish to actually start now so a subject youre passionate about, a person who you want to tell their story or even your own photos tell me what you stand for take the photos, the portraits, upload it ill give you all the details and ill send you back your poster join by groups and reveal things to the world the full data is on the website insideoutproject net that is launching today what we see changes who we are when we act together, the whole thing is much more than the sum of the parts so i hope that, together, well create something that the world will remember and this starts right now and depends on you thank you thank you so i asked the people what happened oh, that guy just moved when the roofs were covered, a woman said as a joke, now god can see me when you look at kibera now, they look back okay, india before i start that, just so you know, each time we go to a place, we dont have authorization, so we set up like commandos were a group of friends who arrive there, and we try to paste on the walls but there are places where you just cant paste on a wall in india it was just impossible to paste i heard culturally and because of the law, they would just arrest us at the first pasting so we decided to paste white, white on the walls so imagine white guys pasting white papers so people would come to us and ask us, hey, what are you up to oh, you know, were just doing art art of course, they were confused but you know how india has a lot of dust in the streets, and the more dust you would have going up in the air, on the white paper you can almost see, but there is this sticky part like when you reverse a sticker and then i pasted huge posters everywhere in the bourgeois area of paris with the name, age, even building number of these guys a year later, the exhibition was displayed in front of the city hall of paris and we go from thug images, whove been stolen and distorted by the media, whos now proudly taking over his own image thats where i realized the power of paper and glue so could art change the world a year later, i was listening to all the noise about the middle east conflict i mean, at that time, trust me, they were only referring to the israeli and palestinian conflict so with my friend marco, we decided to go there and see who are the real palestinians and who are the real israelis are they so different when we got there, we just went in the street, started talking with people everywhere, and we realized that things were a bit different from the rhetoric we heard in the media so we decided to take portraits of palestinians and israelis doing the same jobs taxidriver, lawyer, cooks asked them to make a face as a sign of commitment not a smile that really doesnt tell about who you are and what you feel they all accepted to be pasted next to the other i decided to paste in eight israeli and palestinian cities and on both sides of the wall we launched the biggest illegal art exhibition ever we called the project face 2 face the experts said, no way the people will not accept the army will shoot you, and hamas will kidnap you we said, okay, lets try and push as far as we can i love the way that people will ask me, how big will my photo be it will be as big as your house when we did the wall, we did the palestinian side i wanted them to feel that this art belongs to them then the next day, i held a meeting on the main square and some women came they were all linked to the three kids that got killed there was the mother, the grandmother, the best friend they all wanted to shout the story after that day, everyone in the favela gave me the green light i took more photos, and we started the project the drug lords were kind of worried about us filming in the place, so i told them, you know what im not interested in filming the violence and the weapons you see that enough in the media what i want to show is the incredible life and energy ive been seeing it around me the last few days so thats a really symbolic pasting, because thats the first one we did that you couldnt see from the city and thats where the three kids got arrested, and thats the grandmother of one of them and on that stairs, thats where the traffickers always stand and theres a lot of exchange of fire everyone there understood the project and i framed it with color so you would not confuse it with advertising i mean, the citys the best gallery i could imagine i would never have to make a book and then present it to a gallery and let them decide if my work was nice enough to show it to people i would control it directly with the public in the streets so thats paris i would change depending on the places i would go the title of the exhibition thats on the champselysees i was quite proud of that one because i was just 18",
            "two weeks ago i was in my studio in paris, and the phone rang and i heard, hey, jr, you won the ted prize 2011 you have to make a wish to save the world i was lost i mean, i cant save the world nobody can the world is fucked up come on, you have dictators ruling the world, population is growing by millions, theres no more fish in the sea, the north pole is melting and as the last ted prize winner said, were all becoming fat except maybe french people whatever so i called back and i told her, look, amy, tell the ted guys i just wont show up i cant do anything to save the world she said, hey, jr, your wish is not to save the world, but to change the world oh, all right thats cool i mean, technology, politics, business do change the world not always in a good way, but they do what about art could art change the world i started when i was 15 years old and at that time, i was not thinking about changing the world i was doing graffiti writing my name everywhere, using the city as a canvas i was going in the tunnels of paris, on the rooftops with my friends each trip was an excursion, was an adventure it was like leaving our mark on society, to say, i was here, on the top of a building so when i found a cheap camera on the subway, i started documenting those adventures with my friends and gave them back as photocopies really small photos just that size thats how, at 17 years old, i started pasting them and i did my first expo de rue, which means sidewalk gallery and i framed it with color so you would not confuse it with advertising i mean, the citys the best gallery i could imagine i would never have to make a book and then present it to a gallery and let them decide if my work was nice enough to show it to people i would control it directly with the public in the streets so thats paris i would change depending on the places i would go the title of the exhibition thats on the champselysees i was quite proud of that one because i was just 18 and i was just up there on the top of the champselysees then when the photo left, the frame was still there november 2005 the streets are burning a large wave of riots had broken into the first projects of paris everyone was glued to the tv, watching disturbing, frightening images taken from the edge of the neighborhood i mean, these kids, without control, throwing molotov cocktails, attacking the cops and the firemen, looting everything they could in the shops these were criminals, thugs, dangerous, destroying their own environment and then i saw it could it be possible my photo on a wall revealed by a burning car a pasting id done a year earlier an illegal one still there i mean, these were the faces of my friends i know those guys all of them are not angels, but theyre not monsters either so it was kind of weird to see those images and those eyes stare back at me through a television so i went back there with a 28 mm lens it was the only one i had at that time but with that lens, you have to be as close as 10 inches from the person so you can do it only with their trust so i took full portraits of people from le bosquet they were making scary faces to play the caricature of themselves and then i pasted huge posters everywhere in the bourgeois area of paris with the name, age, even building number of these guys a year later, the exhibition was displayed in front of the city hall of paris and we go from thug images, whove been stolen and distorted by the media, whos now proudly taking over his own image thats where i realized the power of paper and glue so could art change the world a year later, i was listening to all the noise about the middle east conflict i mean, at that time, trust me, they were only referring to the israeli and palestinian conflict so with my friend marco, we decided to go there and see who are the real palestinians and who are the real israelis are they so different when we got there, we just went in the street, started talking with people everywhere, and we realized that things were a bit different from the rhetoric we heard in the media so we decided to take portraits of palestinians and israelis doing the same jobs taxidriver, lawyer, cooks asked them to make a face as a sign of commitment not a smile that really doesnt tell about who you are and what you feel they all accepted to be pasted next to the other i decided to paste in eight israeli and palestinian cities and on both sides of the wall we launched the biggest illegal art exhibition ever we called the project face 2 face the experts said, no way the people will not accept the army will shoot you, and hamas will kidnap you we said, okay, lets try and push as far as we can i love the way that people will ask me, how big will my photo be it will be as big as your house when we did the wall, we did the palestinian side so we arrived with just our ladders and we realized that they were not high enough and so palestinians guys say, calm down no wait im going to find you a solution so he went to the church of nativity and brought back an old ladder that was so old that it could have seen jesus being born we did face 2 face with only six friends, two ladders, two brushes, a rented car, a camera and 20,000 square feet of paper we had all sorts of help from all walks of life okay, for example, thats palestine were in ramallah right now were pasting portraits so both portraits in the streets in a crowded market people come around us and start asking, what are you doing here oh, were actually doing an art project and we are pasting an israeli and a palestinian doing the same job and those ones are actually two taxidrivers and then there was always a silence you mean youre pasting an israeli face doing a face right here well, yeah, yeah, thats part of the project and i would always leave that moment, and we would ask them, so can you tell me who is who and most of them couldnt say we even pasted on israeli military towers, and nothing happened when you paste an image, its just paper and glue people can tear it, tag on it, or even pee on it some are a bit high for that, i agree but the people in the street, they are the curator the rain and the wind will take them off anyway they are not meant to stay but exactly four years after, the photos, most of them are still there face 2 face demonstrated that what we thought impossible was possible and, you know what, even easy we didnt push the limit we just showed that they were further than anyone thought in the middle east, i experienced my work in places without museums so the reactions in the street were kind of interesting so i decided to go further in this direction and go in places where there were zero museums when you go in these developing societies, women are the pillars of their community, but the men are still the ones holding the streets so we were inspired to create a project where men will pay tribute to women by posting their photos i called that project women are heroes when i listened to all the stories everywhere i went on the continents, i couldnt always understand the complicated circumstances of their conflict i just observed sometimes there was no words, no sentence, just tears i just took their pictures and pasted them women are heroes took me around the world most of the places i went to, i decided to go there because ive heard about it through the media so for example, in june 2008, i was watching tv in paris, and then i heard about this terrible thing that happened in rio de janeiro the first favela of brazil named providencia three kids that was three students were by the army because they were not carrying their papers and the army took them, and instead of bringing them to the police station, they brought them to an enemy favela where they get chopped into pieces i was shocked all brazil was shocked i heard it was one of the most violent favelas, because the largest drug cartel controls it so i decided to go there when i arrived i mean, i didnt have any contact with any ngo there was none in place no association, no ngos, nothing no eyewitnesses so we just walked around, and we met a woman, and i showed her my book and she said, you know what were hungry for culture we need culture out there so i went out and i started with the kids i just took a few photos of the kids, and the next day i came with the posters and we pasted them the day after, i came back and they were already scratched but thats okay i wanted them to feel that this art belongs to them then the next day, i held a meeting on the main square and some women came they were all linked to the three kids that got killed there was the mother, the grandmother, the best friend they all wanted to shout the story after that day, everyone in the favela gave me the green light i took more photos, and we started the project the drug lords were kind of worried about us filming in the place, so i told them, you know what im not interested in filming the violence and the weapons you see that enough in the media what i want to show is the incredible life and energy ive been seeing it around me the last few days so thats a really symbolic pasting, because thats the first one we did that you couldnt see from the city and thats where the three kids got arrested, and thats the grandmother of one of them and on that stairs, thats where the traffickers always stand and theres a lot of exchange of fire everyone there understood the project and then we pasted everywhere the whole hill what was interesting is that the media couldnt get in i mean, you should see that they would have to film us from a really long distance by helicopter and then have a really long lens, and we would see ourselves, on tv, pasting and they would put a number please call this number if you know whats going on in providencia we just did a project and then left so the media wouldnt know so how can we know about the project so they had to go and find the women and get an explanation from them so you create a bridge between the media and the anonymous women we kept traveling we went to africa, sudan, sierra leone, liberia, kenya in wartorn places like monrovia, people come straight to you i mean, they want to know what youre up to they kept asking me, what is the purpose of your project are you an ngo are you the media art just doing art some people question, why is it in black and white dont you have color in france or they tell you, are these people all dead some who understood the project would explain it to others and to a man who did not understand, i heard someone say, you know, youve been here for a few hours trying to understand, discussing with your fellows during that time, you havent thought about what youre going to eat tomorrow this is art i think its peoples curiosity that motivates them to come into the projects and then it becomes more it becomes a desire, a need, an armor on this bridge thats in monrovia, exrebel soldiers helped us pasting a portrait of a woman that might have been raped during the war women are always the first ones targeted during conflict this is kibera, kenya, one of the largest slums of africa you might have seen images about the postelection violence that happened there in 2008 this time we covered the roofs of the houses, but we didnt use paper, because paper doesnt prevent the rain from leaking inside the house vinyl does then art becomes useful so the people kept it you know what i love is, for example, when you see the biggest eye there, there are so houses inside and i went there a few months ago photos are still there and it was missing a piece of the eye so i asked the people what happened oh, that guy just moved when the roofs were covered, a woman said as a joke, now god can see me when you look at kibera now, they look back okay, india before i start that, just so you know, each time we go to a place, we dont have authorization, so we set up like commandos were a group of friends who arrive there, and we try to paste on the walls but there are places where you just cant paste on a wall in india it was just impossible to paste i heard culturally and because of the law, they would just arrest us at the first pasting so we decided to paste white, white on the walls so imagine white guys pasting white papers so people would come to us and ask us, hey, what are you up to oh, you know, were just doing art art of course, they were confused but you know how india has a lot of dust in the streets, and the more dust you would have going up in the air, on the white paper you can almost see, but there is this sticky part like when you reverse a sticker so the more dust you have, the more it will reveal the photo so we could just walk in the street during the next days and the photos would get revealed by themselves thank you so we didnt get caught this time each project thats a film from women are heroes okay for each project we do a film and most of what you see thats a trailer from women are heroes its images, photography, taken one after the other and the photos kept traveling even without us hopefully, youll see the film, and youll understand the scope of the project and what the people felt when they saw those photos because thats a big part of it theres layers behind each photo behind each image is a story women are heroes created a new dynamic in each of the communities, and the women kept that dynamic after we left for example, we did books not for sale that all the community would get but to get it, they would have to it signed by one of the women we did that in most of the places we go back regularly and so in providencia, for example, in the favela, we have a cultural center running there in kibera, each year we cover more roofs because of course, when we left, the people who were just at the edge of the project said, hey, what about my roof so we decided to come the year after and keep doing the project a really important point for me is that i dont use any brand or corporate sponsors so i have no responsibility to anyone but myself and the subjects and that is for me one of the more important things in the work i think, today, as important as the result is the way you do things and that has always been a central part of the work and whats interesting is that fine line that i have with images and advertising we just did some pasting in los angeles on another project in the last weeks and i was even invited to cover the moca museum but yesterday the city called them and said, look, youre going to have to tear it down because this can be taken for advertising, and because of the law, it has to be taken down but tell me, advertising for what the people i photograph were proud to participate in the project and to have their photo in the community but they asked me for a promise basically they asked me, please, make our story travel with you so i did thats paris thats rio in each place, we built exhibitions with a story, and the story traveled you understand the full scope of the project thats london new york and today, they are with you in long beach all right, recently i started a public art project where i dont use my artwork anymore i use man ray, helen levitt, giacomelli, other peoples artwork it doesnt matter today if its your photo or not the importance is what you do with the images, the statement it makes where its pasted so for example, i pasted the photo of the minaret in switzerland a few weeks after they voted the law forbidding minarets in the country this image of three men wearing gas masks was taken in chernobyl originally, and i pasted it in southern italy, where the mafia sometimes bury the garbage under the ground in some ways, art can change the world art is not supposed to change the world, to change practical things, but to change perceptions art can change the way we see the world art can create an analogy actually the fact that art cannot change things makes it a neutral place for exchanges and discussions, and then enables you to change the world when i do my work, i have two kinds of reactions people say, oh, why dont you go in iraq or afghanistan they would be really useful or, how can we help i presume that you belong to the second category, and thats good, because for that project, im going to ask you to take the photos and paste them so now my wish is i wish for you to stand up for what you care about by participating in a global art project, and together well turn the world inside out and this starts right now yes, everyone in the room everyone watching i wanted that wish to actually start now so a subject youre passionate about, a person who you want to tell their story or even your own photos tell me what you stand for take the photos, the portraits, upload it ill give you all the details and ill send you back your poster join by groups and reveal things to the world the full data is on the website insideoutproject net that is launching today what we see changes who we are when we act together, the whole thing is much more than the sum of the parts so i hope that, together, well create something that the world will remember and this starts right now and depends on you thank you thank you",
            "two weeks ago i was in my studio in paris, and the phone rang and i heard, hey, jr, you won the ted prize 2011 you have to make a wish to save the world i was lost i mean, i cant save the world nobody can the world is fucked up come on, you have dictators ruling the world, population is growing by millions, theres no more fish in the sea, the north pole is melting and as the last ted prize winner said, were all becoming fat except maybe french people whatever so i called back and i told her, look, amy, tell the ted guys i just wont show up i cant do anything to save the world she said, hey, jr, your wish is not to save the world, but to change the world oh, all right thats cool i mean, technology, politics, business do change the world not always in a good way, but they do what about art could art change the world i started when i was 15 years old and at that time, i was not thinking about changing the world i was doing graffiti writing my name everywhere, using the city as a canvas i was going in the tunnels of paris, on the rooftops with my friends each trip was an excursion, was an adventure it was like leaving our mark on society, to say, i was here, on the top of a building so when i found a cheap camera on the subway, i started documenting those adventures with my friends and gave them back as photocopies really small photos just that size thats how, at 17 years old, i started pasting them and i did my first expo de rue, which means sidewalk gallery and i framed it with color so you would not confuse it with advertising i mean, the citys the best gallery i could imagine i would never have to make a book and then present it to a gallery and let them decide if my work was nice enough to show it to people i would control it directly with the public in the streets so thats paris i would change depending on the places i would go the title of the exhibition thats on the champselysees i was quite proud of that one because i was just 18 and i was just up there on the top of the champselysees then when the photo left, the frame was still there november 2005 the streets are burning a large wave of riots had broken into the first projects of paris everyone was glued to the tv, watching disturbing, frightening images taken from the edge of the neighborhood i mean, these kids, without control, throwing molotov cocktails, attacking the cops and the firemen, looting everything they could in the shops these were criminals, thugs, dangerous, destroying their own environment and then i saw it could it be possible my photo on a wall revealed by a burning car a pasting id done a year earlier an illegal one still there i mean, these were the faces of my friends i know those guys all of them are not angels, but theyre not monsters either so it was kind of weird to see those images and those eyes stare back at me through a television so i went back there with a 28 mm lens it was the only one i had at that time but with that lens, you have to be as close as 10 inches from the person so you can do it only with their trust so i took full portraits of people from le bosquet they were making scary faces to play the caricature of themselves and then i pasted huge posters everywhere in the bourgeois area of paris with the name, age, even building number of these guys a year later, the exhibition was displayed in front of the city hall of paris and we go from thug images, whove been stolen and distorted by the media, whos now proudly taking over his own image thats where i realized the power of paper and glue so could art change the world a year later, i was listening to all the noise about the middle east conflict i mean, at that time, trust me, they were only referring to the israeli and palestinian conflict so with my friend marco, we decided to go there and see who are the real palestinians and who are the real israelis are they so different when we got there, we just went in the street, started talking with people everywhere, and we realized that things were a bit different from the rhetoric we heard in the media so we decided to take portraits of palestinians and israelis doing the same jobs taxidriver, lawyer, cooks asked them to make a face as a sign of commitment not a smile that really doesnt tell about who you are and what you feel they all accepted to be pasted next to the other i decided to paste in eight israeli and palestinian cities and on both sides of the wall we launched the biggest illegal art exhibition ever we called the project face 2 face the experts said, no way the people will not accept the army will shoot you, and hamas will kidnap you we said, okay, lets try and push as far as we can i love the way that people will ask me, how big will my photo be it will be as big as your house when we did the wall, we did the palestinian side so we arrived with just our ladders and we realized that they were not high enough and so palestinians guys say, calm down no wait im going to find you a solution so he went to the church of nativity and brought back an old ladder that was so old that it could have seen jesus being born we did face 2 face with only six friends, two ladders, two brushes, a rented car, a camera and 20,000 square feet of paper we had all sorts of help from all walks of life okay, for example, thats palestine were in ramallah right now were pasting portraits so both portraits in the streets in a crowded market people come around us and start asking, what are you doing here oh, were actually doing an art project and we are pasting an israeli and a palestinian doing the same job and those ones are actually two taxidrivers and then there was always a silence you mean youre pasting an israeli face doing a face right here well, yeah, yeah, thats part of the project and i would always leave that moment, and we would ask them, so can you tell me who is who and most of them couldnt say we even pasted on israeli military towers, and nothing happened when you paste an image, its just paper and glue people can tear it, tag on it, or even pee on it some are a bit high for that, i agree but the people in the street, they are the curator the rain and the wind will take them off anyway they are not meant to stay but exactly four years after, the photos, most of them are still there face 2 face demonstrated that what we thought impossible was possible and, you know what, even easy we didnt push the limit we just showed that they were further than anyone thought in the middle east, i experienced my work in places without museums so the reactions in the street were kind of interesting so i decided to go further in this direction and go in places where there were zero museums when you go in these developing societies, women are the pillars of their community, but the men are still the ones holding the streets so we were inspired to create a project where men will pay tribute to women by posting their photos i called that project women are heroes when i listened to all the stories everywhere i went on the continents, i couldnt always understand the complicated circumstances of their conflict i just observed sometimes there was no words, no sentence, just tears i just took their pictures and pasted them women are heroes took me around the world most of the places i went to, i decided to go there because ive heard about it through the media so for example, in june 2008, i was watching tv in paris, and then i heard about this terrible thing that happened in rio de janeiro the first favela of brazil named providencia three kids that was three students were by the army because they were not carrying their papers and the army took them, and instead of bringing them to the police station, they brought them to an enemy favela where they get chopped into pieces i was shocked all brazil was shocked i heard it was one of the most violent favelas, because the largest drug cartel controls it so i decided to go there when i arrived i mean, i didnt have any contact with any ngo there was none in place no association, no ngos, nothing no eyewitnesses so we just walked around, and we met a woman, and i showed her my book and she said, you know what were hungry for culture we need culture out there so i went out and i started with the kids i just took a few photos of the kids, and the next day i came with the posters and we pasted them the day after, i came back and they were already scratched but thats okay i wanted them to feel that this art belongs to them then the next day, i held a meeting on the main square and some women came they were all linked to the three kids that got killed there was the mother, the grandmother, the best friend they all wanted to shout the story after that day, everyone in the favela gave me the green light i took more photos, and we started the project the drug lords were kind of worried about us filming in the place, so i told them, you know what im not interested in filming the violence and the weapons you see that enough in the media what i want to show is the incredible life and energy ive been seeing it around me the last few days so thats a really symbolic pasting, because thats the first one we did that you couldnt see from the city and thats where the three kids got arrested, and thats the grandmother of one of them and on that stairs, thats where the traffickers always stand and theres a lot of exchange of fire everyone there understood the project and then we pasted everywhere the whole hill what was interesting is that the media couldnt get in i mean, you should see that they would have to film us from a really long distance by helicopter and then have a really long lens, and we would see ourselves, on tv, pasting and they would put a number please call this number if you know whats going on in providencia we just did a project and then left so the media wouldnt know so how can we know about the project so they had to go and find the women and get an explanation from them so you create a bridge between the media and the anonymous women we kept traveling we went to africa, sudan, sierra leone, liberia, kenya in wartorn places like monrovia, people come straight to you i mean, they want to know what youre up to they kept asking me, what is the purpose of your project are you an ngo are you the media art just doing art some people question, why is it in black and white dont you have color in france or they tell you, are these people all dead some who understood the project would explain it to others and to a man who did not understand, i heard someone say, you know, youve been here for a few hours trying to understand, discussing with your fellows during that time, you havent thought about what youre going to eat tomorrow this is art i think its peoples curiosity that motivates them to come into the projects and then it becomes more it becomes a desire, a need, an armor on this bridge thats in monrovia, exrebel soldiers helped us pasting a portrait of a woman that might have been raped during the war women are always the first ones targeted during conflict this is kibera, kenya, one of the largest slums of africa you might have seen images about the postelection violence that happened there in 2008 this time we covered the roofs of the houses, but we didnt use paper, because paper doesnt prevent the rain from leaking inside the house vinyl does then art becomes useful so the people kept it you know what i love is, for example, when you see the biggest eye there, there are so houses inside and i went there a few months ago photos are still there and it was missing a piece of the eye so i asked the people what happened oh, that guy just moved when the roofs were covered, a woman said as a joke, now god can see me when you look at kibera now, they look back okay, india before i start that, just so you know, each time we go to a place, we dont have authorization, so we set up like commandos were a group of friends who arrive there, and we try to paste on the walls but there are places where you just cant paste on a wall in india it was just impossible to paste i heard culturally and because of the law, they would just arrest us at the first pasting so we decided to paste white, white on the walls so imagine white guys pasting white papers so people would come to us and ask us, hey, what are you up to oh, you know, were just doing art art of course, they were confused but you know how india has a lot of dust in the streets, and the more dust you would have going up in the air, on the white paper you can almost see, but there is this sticky part like when you reverse a sticker so the more dust you have, the more it will reveal the photo so we could just walk in the street during the next days and the photos would get revealed by themselves thank you so we didnt get caught this time each project thats a film from women are heroes okay for each project we do a film and most of what you see thats a trailer from women are heroes its images, photography, taken one after the other and the photos kept traveling even without us hopefully, youll see the film, and youll understand the scope of the project and what the people felt when they saw those photos because thats a big part of it theres layers behind each photo behind each image is a story women are heroes created a new dynamic in each of the communities, and the women kept that dynamic after we left for example, we did books not for sale that all the community would get but to get it, they would have to it signed by one of the women we did that in most of the places we go back regularly and so in providencia, for example, in the favela, we have a cultural center running there in kibera, each year we cover more roofs because of course, when we left, the people who were just at the edge of the project said, hey, what about my roof so we decided to come the year after and keep doing the project a really important point for me is that i dont use any brand or corporate sponsors so i have no responsibility to anyone but myself and the subjects and that is for me one of the more important things in the work i think, today, as important as the result is the way you do things and that has always been a central part of the work and whats interesting is that fine line that i have with images and advertising we just did some pasting in los angeles on another project in the last weeks and i was even invited to cover the moca museum but yesterday the city called them and said, look, youre going to have to tear it down because this can be taken for advertising, and because of the law, it has to be taken down but tell me, advertising for what the people i photograph were proud to participate in the project and to have their photo in the community but they asked me for a promise basically they asked me, please, make our story travel with you so i did thats paris thats rio in each place, we built exhibitions with a story, and the story traveled you understand the full scope of the project thats london new york and today, they are with you in long beach all right, recently i started a public art project where i dont use my artwork anymore i use man ray, helen levitt, giacomelli, other peoples artwork it doesnt matter today if its your photo or not the importance is what you do with the images, the statement it makes where its pasted so for example, i pasted the photo of the minaret in switzerland a few weeks after they voted the law forbidding minarets in the country this image of three men wearing gas masks was taken in chernobyl originally, and i pasted it in southern italy, where the mafia sometimes bury the garbage under the ground in some ways, art can change the world art is not supposed to change the world, to change practical things, but to change perceptions art can change the way we see the world art can create an analogy actually the fact that art cannot change things makes it a neutral place for exchanges and discussions, and then enables you to change the world when i do my work, i have two kinds of reactions people say, oh, why dont you go in iraq or afghanistan they would be really useful or, how can we help i presume that you belong to the second category, and thats good, because for that project, im going to ask you to take the photos and paste them so now my wish is i wish for you to stand up for what you care about by participating in a global art project, and together well turn the world inside out and this starts right now yes, everyone in the room everyone watching i wanted that wish to actually start now so a subject youre passionate about, a person who you want to tell their story or even your own photos tell me what you stand for take the photos, the portraits, upload it ill give you all the details and ill send you back your poster join by groups and reveal things to the world the full data is on the website insideoutproject net that is launching today what we see changes who we are when we act together, the whole thing is much more than the sum of the parts so i hope that, together, well create something that the world will remember and this starts right now and depends on you thank you thank you",
            "two weeks ago i was in my studio in paris, and the phone rang and i heard, hey, jr, you won the ted prize 2011 you have to make a wish to save the world i was lost i mean, i cant save the world nobody can the world is fucked up come on, you have dictators ruling the world, population is growing by millions, theres no more fish in the sea, the north pole is melting and as the last ted prize winner said, were all becoming fat except maybe french people whatever so i called back and i told her, look, amy, tell the ted guys i just wont show up i cant do anything to save the world she said, hey, jr, your wish is not to save the world, but to change the world oh, all right thats cool i mean, technology, politics, business do change the world not always in a good way, but they do what about art could art change the world i started when i was 15 years old and at that time, i was not thinking about changing the world i was doing graffiti writing my name everywhere, using the city as a canvas i was going in the tunnels of paris, on the rooftops with my friends each trip was an excursion, was an adventure it was like leaving our mark on society, to say, i was here, on the top of a building so when i found a cheap camera on the subway, i started documenting those adventures with my friends and gave them back as photocopies really small photos just that size thats how, at 17 years old, i started pasting them and i did my first expo de rue, which means sidewalk gallery and i framed it with color so you would not confuse it with advertising i mean, the citys the best gallery i could imagine i would never have to make a book and then present it to a gallery and let them decide if my work was nice enough to show it to people i would control it directly with the public in the streets so thats paris i would change depending on the places i would go the title of the exhibition thats on the champselysees i was quite proud of that one because i was just 18 and i was just up there on the top of the champselysees then when the photo left, the frame was still there november 2005 the streets are burning a large wave of riots had broken into the first projects of paris everyone was glued to the tv, watching disturbing, frightening images taken from the edge of the neighborhood i mean, these kids, without control, throwing molotov cocktails, attacking the cops and the firemen, looting everything they could in the shops these were criminals, thugs, dangerous, destroying their own environment and then i saw it could it be possible my photo on a wall revealed by a burning car a pasting id done a year earlier an illegal one still there i mean, these were the faces of my friends i know those guys all of them are not angels, but theyre not monsters either so it was kind of weird to see those images and those eyes stare back at me through a television so i went back there with a 28 mm lens it was the only one i had at that time but with that lens, you have to be as close as 10 inches from the person so you can do it only with their trust so i took full portraits of people from le bosquet they were making scary faces to play the caricature of themselves and then i pasted huge posters everywhere in the bourgeois area of paris with the name, age, even building number of these guys a year later, the exhibition was displayed in front of the city hall of paris and we go from thug images, whove been stolen and distorted by the media, whos now proudly taking over his own image thats where i realized the power of paper and glue so could art change the world a year later, i was listening to all the noise about the middle east conflict i mean, at that time, trust me, they were only referring to the israeli and palestinian conflict so with my friend marco, we decided to go there and see who are the real palestinians and who are the real israelis are they so different when we got there, we just went in the street, started talking with people everywhere, and we realized that things were a bit different from the rhetoric we heard in the media so we decided to take portraits of palestinians and israelis doing the same jobs taxidriver, lawyer, cooks asked them to make a face as a sign of commitment not a smile that really doesnt tell about who you are and what you feel they all accepted to be pasted next to the other i decided to paste in eight israeli and palestinian cities and on both sides of the wall we launched the biggest illegal art exhibition ever we called the project face 2 face the experts said, no way the people will not accept the army will shoot you, and hamas will kidnap you we said, okay, lets try and push as far as we can i love the way that people will ask me, how big will my photo be it will be as big as your house when we did the wall, we did the palestinian side so we arrived with just our ladders and we realized that they were not high enough and so palestinians guys say, calm down no wait im going to find you a solution so he went to the church of nativity and brought back an old ladder that was so old that it could have seen jesus being born we did face 2 face with only six friends, two ladders, two brushes, a rented car, a camera and 20,000 square feet of paper we had all sorts of help from all walks of life okay, for example, thats palestine were in ramallah right now were pasting portraits so both portraits in the streets in a crowded market people come around us and start asking, what are you doing here oh, were actually doing an art project and we are pasting an israeli and a palestinian doing the same job and those ones are actually two taxidrivers and then there was always a silence you mean youre pasting an israeli face doing a face right here well, yeah, yeah, thats part of the project and i would always leave that moment, and we would ask them, so can you tell me who is who and most of them couldnt say we even pasted on israeli military towers, and nothing happened when you paste an image, its just paper and glue people can tear it, tag on it, or even pee on it some are a bit high for that, i agree but the people in the street, they are the curator the rain and the wind will take them off anyway they are not meant to stay but exactly four years after, the photos, most of them are still there face 2 face demonstrated that what we thought impossible was possible and, you know what, even easy we didnt push the limit we just showed that they were further than anyone thought in the middle east, i experienced my work in places without museums so the reactions in the street were kind of interesting so i decided to go further in this direction and go in places where there were zero museums when you go in these developing societies, women are the pillars of their community, but the men are still the ones holding the streets so we were inspired to create a project where men will pay tribute to women by posting their photos i called that project women are heroes when i listened to all the stories everywhere i went on the continents, i couldnt always understand the complicated circumstances of their conflict i just observed sometimes there was no words, no sentence, just tears i just took their pictures and pasted them women are heroes took me around the world most of the places i went to, i decided to go there because ive heard about it through the media so for example, in june 2008, i was watching tv in paris, and then i heard about this terrible thing that happened in rio de janeiro the first favela of brazil named providencia three kids that was three students were by the army because they were not carrying their papers and the army took them, and instead of bringing them to the police station, they brought them to an enemy favela where they get chopped into pieces i was shocked all brazil was shocked i heard it was one of the most violent favelas, because the largest drug cartel controls it so i decided to go there when i arrived i mean, i didnt have any contact with any ngo there was none in place no association, no ngos, nothing no eyewitnesses so we just walked around, and we met a woman, and i showed her my book and she said, you know what were hungry for culture we need culture out there so i went out and i started with the kids i just took a few photos of the kids, and the next day i came with the posters and we pasted them the day after, i came back and they were already scratched but thats okay i wanted them to feel that this art belongs to them then the next day, i held a meeting on the main square and some women came they were all linked to the three kids that got killed there was the mother, the grandmother, the best friend they all wanted to shout the story after that day, everyone in the favela gave me the green light i took more photos, and we started the project the drug lords were kind of worried about us filming in the place, so i told them, you know what im not interested in filming the violence and the weapons you see that enough in the media what i want to show is the incredible life and energy ive been seeing it around me the last few days so thats a really symbolic pasting, because thats the first one we did that you couldnt see from the city and thats where the three kids got arrested, and thats the grandmother of one of them and on that stairs, thats where the traffickers always stand and theres a lot of exchange of fire everyone there understood the project and then we pasted everywhere the whole hill what was interesting is that the media couldnt get in i mean, you should see that they would have to film us from a really long distance by helicopter and then have a really long lens, and we would see ourselves, on tv, pasting and they would put a number please call this number if you know whats going on in providencia we just did a project and then left so the media wouldnt know so how can we know about the project so they had to go and find the women and get an explanation from them so you create a bridge between the media and the anonymous women we kept traveling we went to africa, sudan, sierra leone, liberia, kenya in wartorn places like monrovia, people come straight to you i mean, they want to know what youre up to they kept asking me, what is the purpose of your project are you an ngo are you the media art just doing art some people question, why is it in black and white dont you have color in france or they tell you, are these people all dead some who understood the project would explain it to others and to a man who did not understand, i heard someone say, you know, youve been here for a few hours trying to understand, discussing with your fellows during that time, you havent thought about what youre going to eat tomorrow this is art i think its peoples curiosity that motivates them to come into the projects and then it becomes more it becomes a desire, a need, an armor on this bridge thats in monrovia, exrebel soldiers helped us pasting a portrait of a woman that might have been raped during the war women are always the first ones targeted during conflict this is kibera, kenya, one of the largest slums of africa you might have seen images about the postelection violence that happened there in 2008 this time we covered the roofs of the houses, but we didnt use paper, because paper doesnt prevent the rain from leaking inside the house vinyl does then art becomes useful so the people kept it you know what i love is, for example, when you see the biggest eye there, there are so houses inside and i went there a few months ago photos are still there and it was missing a piece of the eye so i asked the people what happened oh, that guy just moved when the roofs were covered, a woman said as a joke, now god can see me when you look at kibera now, they look back okay, india before i start that, just so you know, each time we go to a place, we dont have authorization, so we set up like commandos were a group of friends who arrive there, and we try to paste on the walls but there are places where you just cant paste on a wall in india it was just impossible to paste i heard culturally and because of the law, they would just arrest us at the first pasting so we decided to paste white, white on the walls so imagine white guys pasting white papers so people would come to us and ask us, hey, what are you up to oh, you know, were just doing art art of course, they were confused but you know how india has a lot of dust in the streets, and the more dust you would have going up in the air, on the white paper you can almost see, but there is this sticky part like when you reverse a sticker so the more dust you have, the more it will reveal the photo so we could just walk in the street during the next days and the photos would get revealed by themselves thank you so we didnt get caught this time each project thats a film from women are heroes okay for each project we do a film and most of what you see thats a trailer from women are heroes its images, photography, taken one after the other and the photos kept traveling even without us hopefully, youll see the film, and youll understand the scope of the project and what the people felt when they saw those photos because thats a big part of it theres layers behind each photo behind each image is a story women are heroes created a new dynamic in each of the communities, and the women kept that dynamic after we left for example, we did books not for sale that all the community would get but to get it, they would have to it signed by one of the women we did that in most of the places we go back regularly and so in providencia, for example, in the favela, we have a cultural center running there in kibera, each year we cover more roofs because of course, when we left, the people who were just at the edge of the project said, hey, what about my roof so we decided to come the year after and keep doing the project a really important point for me is that i dont use any brand or corporate sponsors so i have no responsibility to anyone but myself and the subjects and that is for me one of the more important things in the work i think, today, as important as the result is the way you do things and that has always been a central part of the work and whats interesting is that fine line that i have with images and advertising we just did some pasting in los angeles on another project in the last weeks and i was even invited to cover the moca museum but yesterday the city called them and said, look, youre going to have to tear it down because this can be taken for advertising, and because of the law, it has to be taken down but tell me, advertising for what the people i photograph were proud to participate in the project and to have their photo in the community but they asked me for a promise basically they asked me, please, make our story travel with you so i did thats paris thats rio in each place, we built exhibitions with a story, and the story traveled you understand the full scope of the project thats london new york and today, they are with you in long beach all right, recently i started a public art project where i dont use my artwork anymore i use man ray, helen levitt, giacomelli, other peoples artwork it doesnt matter today if its your photo or not the importance is what you do with the images, the statement it makes where its pasted so for example, i pasted the photo of the minaret in switzerland a few weeks after they voted the law forbidding minarets in the country this image of three men wearing gas masks was taken in chernobyl originally, and i pasted it in southern italy, where the mafia sometimes bury the garbage under the ground in some ways, art can change the world art is not supposed to change the world, to change practical things, but to change perceptions art can change the way we see the world art can create an analogy actually the fact that art cannot change things makes it a neutral place for exchanges and discussions, and then enables you to change the world when i do my work, i have two kinds of reactions people say, oh, why dont you go in iraq or afghanistan they would be really useful or, how can we help i presume that you belong to the second category, and thats good, because for that project, im going to ask you to take the photos and paste them so now my wish is i wish for you to stand up for what you care about by participating in a global art project, and together well turn the world inside out and this starts right now yes, everyone in the room everyone watching i wanted that wish to actually start now so a subject youre passionate about, a person who you want to tell their story or even your own photos tell me what you stand for take the photos, the portraits, upload it ill give you all the details and ill send you back your poster join by groups and reveal things to the world the full data is on the website insideoutproject net that is launching today what we see changes who we are when we act together, the whole thing is much more than the sum of the parts so i hope that, together, well create something that the world will remember and this starts right now and depends on you thank you thank you"
           ],
           [
            0.8299,
            1,
            1,
            1
           ],
           [
            1,
            1,
            1,
            1
           ]
          ]
         },
         "columnwidth": [
          50,
          400,
          60,
          60
         ],
         "header": {
          "align": "left",
          "fill": {
           "color": "lightskyblue"
          },
          "font": {
           "color": "black",
           "size": 12
          },
          "values": [
           "<b>Method</b>",
           "<b>Summary</b>",
           "<b>Cosine Similarity</b>",
           "<b>Coverage</b>"
          ]
         },
         "type": "table"
        }
       ],
       "layout": {
        "height": 520,
        "template": {
         "data": {
          "bar": [
           {
            "error_x": {
             "color": "#2a3f5f"
            },
            "error_y": {
             "color": "#2a3f5f"
            },
            "marker": {
             "line": {
              "color": "#E5ECF6",
              "width": 0.5
             },
             "pattern": {
              "fillmode": "overlay",
              "size": 10,
              "solidity": 0.2
             }
            },
            "type": "bar"
           }
          ],
          "barpolar": [
           {
            "marker": {
             "line": {
              "color": "#E5ECF6",
              "width": 0.5
             },
             "pattern": {
              "fillmode": "overlay",
              "size": 10,
              "solidity": 0.2
             }
            },
            "type": "barpolar"
           }
          ],
          "carpet": [
           {
            "aaxis": {
             "endlinecolor": "#2a3f5f",
             "gridcolor": "white",
             "linecolor": "white",
             "minorgridcolor": "white",
             "startlinecolor": "#2a3f5f"
            },
            "baxis": {
             "endlinecolor": "#2a3f5f",
             "gridcolor": "white",
             "linecolor": "white",
             "minorgridcolor": "white",
             "startlinecolor": "#2a3f5f"
            },
            "type": "carpet"
           }
          ],
          "choropleth": [
           {
            "colorbar": {
             "outlinewidth": 0,
             "ticks": ""
            },
            "type": "choropleth"
           }
          ],
          "contour": [
           {
            "colorbar": {
             "outlinewidth": 0,
             "ticks": ""
            },
            "colorscale": [
             [
              0,
              "#0d0887"
             ],
             [
              0.1111111111111111,
              "#46039f"
             ],
             [
              0.2222222222222222,
              "#7201a8"
             ],
             [
              0.3333333333333333,
              "#9c179e"
             ],
             [
              0.4444444444444444,
              "#bd3786"
             ],
             [
              0.5555555555555556,
              "#d8576b"
             ],
             [
              0.6666666666666666,
              "#ed7953"
             ],
             [
              0.7777777777777778,
              "#fb9f3a"
             ],
             [
              0.8888888888888888,
              "#fdca26"
             ],
             [
              1,
              "#f0f921"
             ]
            ],
            "type": "contour"
           }
          ],
          "contourcarpet": [
           {
            "colorbar": {
             "outlinewidth": 0,
             "ticks": ""
            },
            "type": "contourcarpet"
           }
          ],
          "heatmap": [
           {
            "colorbar": {
             "outlinewidth": 0,
             "ticks": ""
            },
            "colorscale": [
             [
              0,
              "#0d0887"
             ],
             [
              0.1111111111111111,
              "#46039f"
             ],
             [
              0.2222222222222222,
              "#7201a8"
             ],
             [
              0.3333333333333333,
              "#9c179e"
             ],
             [
              0.4444444444444444,
              "#bd3786"
             ],
             [
              0.5555555555555556,
              "#d8576b"
             ],
             [
              0.6666666666666666,
              "#ed7953"
             ],
             [
              0.7777777777777778,
              "#fb9f3a"
             ],
             [
              0.8888888888888888,
              "#fdca26"
             ],
             [
              1,
              "#f0f921"
             ]
            ],
            "type": "heatmap"
           }
          ],
          "heatmapgl": [
           {
            "colorbar": {
             "outlinewidth": 0,
             "ticks": ""
            },
            "colorscale": [
             [
              0,
              "#0d0887"
             ],
             [
              0.1111111111111111,
              "#46039f"
             ],
             [
              0.2222222222222222,
              "#7201a8"
             ],
             [
              0.3333333333333333,
              "#9c179e"
             ],
             [
              0.4444444444444444,
              "#bd3786"
             ],
             [
              0.5555555555555556,
              "#d8576b"
             ],
             [
              0.6666666666666666,
              "#ed7953"
             ],
             [
              0.7777777777777778,
              "#fb9f3a"
             ],
             [
              0.8888888888888888,
              "#fdca26"
             ],
             [
              1,
              "#f0f921"
             ]
            ],
            "type": "heatmapgl"
           }
          ],
          "histogram": [
           {
            "marker": {
             "pattern": {
              "fillmode": "overlay",
              "size": 10,
              "solidity": 0.2
             }
            },
            "type": "histogram"
           }
          ],
          "histogram2d": [
           {
            "colorbar": {
             "outlinewidth": 0,
             "ticks": ""
            },
            "colorscale": [
             [
              0,
              "#0d0887"
             ],
             [
              0.1111111111111111,
              "#46039f"
             ],
             [
              0.2222222222222222,
              "#7201a8"
             ],
             [
              0.3333333333333333,
              "#9c179e"
             ],
             [
              0.4444444444444444,
              "#bd3786"
             ],
             [
              0.5555555555555556,
              "#d8576b"
             ],
             [
              0.6666666666666666,
              "#ed7953"
             ],
             [
              0.7777777777777778,
              "#fb9f3a"
             ],
             [
              0.8888888888888888,
              "#fdca26"
             ],
             [
              1,
              "#f0f921"
             ]
            ],
            "type": "histogram2d"
           }
          ],
          "histogram2dcontour": [
           {
            "colorbar": {
             "outlinewidth": 0,
             "ticks": ""
            },
            "colorscale": [
             [
              0,
              "#0d0887"
             ],
             [
              0.1111111111111111,
              "#46039f"
             ],
             [
              0.2222222222222222,
              "#7201a8"
             ],
             [
              0.3333333333333333,
              "#9c179e"
             ],
             [
              0.4444444444444444,
              "#bd3786"
             ],
             [
              0.5555555555555556,
              "#d8576b"
             ],
             [
              0.6666666666666666,
              "#ed7953"
             ],
             [
              0.7777777777777778,
              "#fb9f3a"
             ],
             [
              0.8888888888888888,
              "#fdca26"
             ],
             [
              1,
              "#f0f921"
             ]
            ],
            "type": "histogram2dcontour"
           }
          ],
          "mesh3d": [
           {
            "colorbar": {
             "outlinewidth": 0,
             "ticks": ""
            },
            "type": "mesh3d"
           }
          ],
          "parcoords": [
           {
            "line": {
             "colorbar": {
              "outlinewidth": 0,
              "ticks": ""
             }
            },
            "type": "parcoords"
           }
          ],
          "pie": [
           {
            "automargin": true,
            "type": "pie"
           }
          ],
          "scatter": [
           {
            "fillpattern": {
             "fillmode": "overlay",
             "size": 10,
             "solidity": 0.2
            },
            "type": "scatter"
           }
          ],
          "scatter3d": [
           {
            "line": {
             "colorbar": {
              "outlinewidth": 0,
              "ticks": ""
             }
            },
            "marker": {
             "colorbar": {
              "outlinewidth": 0,
              "ticks": ""
             }
            },
            "type": "scatter3d"
           }
          ],
          "scattercarpet": [
           {
            "marker": {
             "colorbar": {
              "outlinewidth": 0,
              "ticks": ""
             }
            },
            "type": "scattercarpet"
           }
          ],
          "scattergeo": [
           {
            "marker": {
             "colorbar": {
              "outlinewidth": 0,
              "ticks": ""
             }
            },
            "type": "scattergeo"
           }
          ],
          "scattergl": [
           {
            "marker": {
             "colorbar": {
              "outlinewidth": 0,
              "ticks": ""
             }
            },
            "type": "scattergl"
           }
          ],
          "scattermapbox": [
           {
            "marker": {
             "colorbar": {
              "outlinewidth": 0,
              "ticks": ""
             }
            },
            "type": "scattermapbox"
           }
          ],
          "scatterpolar": [
           {
            "marker": {
             "colorbar": {
              "outlinewidth": 0,
              "ticks": ""
             }
            },
            "type": "scatterpolar"
           }
          ],
          "scatterpolargl": [
           {
            "marker": {
             "colorbar": {
              "outlinewidth": 0,
              "ticks": ""
             }
            },
            "type": "scatterpolargl"
           }
          ],
          "scatterternary": [
           {
            "marker": {
             "colorbar": {
              "outlinewidth": 0,
              "ticks": ""
             }
            },
            "type": "scatterternary"
           }
          ],
          "surface": [
           {
            "colorbar": {
             "outlinewidth": 0,
             "ticks": ""
            },
            "colorscale": [
             [
              0,
              "#0d0887"
             ],
             [
              0.1111111111111111,
              "#46039f"
             ],
             [
              0.2222222222222222,
              "#7201a8"
             ],
             [
              0.3333333333333333,
              "#9c179e"
             ],
             [
              0.4444444444444444,
              "#bd3786"
             ],
             [
              0.5555555555555556,
              "#d8576b"
             ],
             [
              0.6666666666666666,
              "#ed7953"
             ],
             [
              0.7777777777777778,
              "#fb9f3a"
             ],
             [
              0.8888888888888888,
              "#fdca26"
             ],
             [
              1,
              "#f0f921"
             ]
            ],
            "type": "surface"
           }
          ],
          "table": [
           {
            "cells": {
             "fill": {
              "color": "#EBF0F8"
             },
             "line": {
              "color": "white"
             }
            },
            "header": {
             "fill": {
              "color": "#C8D4E3"
             },
             "line": {
              "color": "white"
             }
            },
            "type": "table"
           }
          ]
         },
         "layout": {
          "annotationdefaults": {
           "arrowcolor": "#2a3f5f",
           "arrowhead": 0,
           "arrowwidth": 1
          },
          "autotypenumbers": "strict",
          "coloraxis": {
           "colorbar": {
            "outlinewidth": 0,
            "ticks": ""
           }
          },
          "colorscale": {
           "diverging": [
            [
             0,
             "#8e0152"
            ],
            [
             0.1,
             "#c51b7d"
            ],
            [
             0.2,
             "#de77ae"
            ],
            [
             0.3,
             "#f1b6da"
            ],
            [
             0.4,
             "#fde0ef"
            ],
            [
             0.5,
             "#f7f7f7"
            ],
            [
             0.6,
             "#e6f5d0"
            ],
            [
             0.7,
             "#b8e186"
            ],
            [
             0.8,
             "#7fbc41"
            ],
            [
             0.9,
             "#4d9221"
            ],
            [
             1,
             "#276419"
            ]
           ],
           "sequential": [
            [
             0,
             "#0d0887"
            ],
            [
             0.1111111111111111,
             "#46039f"
            ],
            [
             0.2222222222222222,
             "#7201a8"
            ],
            [
             0.3333333333333333,
             "#9c179e"
            ],
            [
             0.4444444444444444,
             "#bd3786"
            ],
            [
             0.5555555555555556,
             "#d8576b"
            ],
            [
             0.6666666666666666,
             "#ed7953"
            ],
            [
             0.7777777777777778,
             "#fb9f3a"
            ],
            [
             0.8888888888888888,
             "#fdca26"
            ],
            [
             1,
             "#f0f921"
            ]
           ],
           "sequentialminus": [
            [
             0,
             "#0d0887"
            ],
            [
             0.1111111111111111,
             "#46039f"
            ],
            [
             0.2222222222222222,
             "#7201a8"
            ],
            [
             0.3333333333333333,
             "#9c179e"
            ],
            [
             0.4444444444444444,
             "#bd3786"
            ],
            [
             0.5555555555555556,
             "#d8576b"
            ],
            [
             0.6666666666666666,
             "#ed7953"
            ],
            [
             0.7777777777777778,
             "#fb9f3a"
            ],
            [
             0.8888888888888888,
             "#fdca26"
            ],
            [
             1,
             "#f0f921"
            ]
           ]
          },
          "colorway": [
           "#636efa",
           "#EF553B",
           "#00cc96",
           "#ab63fa",
           "#FFA15A",
           "#19d3f3",
           "#FF6692",
           "#B6E880",
           "#FF97FF",
           "#FECB52"
          ],
          "font": {
           "color": "#2a3f5f"
          },
          "geo": {
           "bgcolor": "white",
           "lakecolor": "white",
           "landcolor": "#E5ECF6",
           "showlakes": true,
           "showland": true,
           "subunitcolor": "white"
          },
          "hoverlabel": {
           "align": "left"
          },
          "hovermode": "closest",
          "mapbox": {
           "style": "light"
          },
          "paper_bgcolor": "white",
          "plot_bgcolor": "#E5ECF6",
          "polar": {
           "angularaxis": {
            "gridcolor": "white",
            "linecolor": "white",
            "ticks": ""
           },
           "bgcolor": "#E5ECF6",
           "radialaxis": {
            "gridcolor": "white",
            "linecolor": "white",
            "ticks": ""
           }
          },
          "scene": {
           "xaxis": {
            "backgroundcolor": "#E5ECF6",
            "gridcolor": "white",
            "gridwidth": 2,
            "linecolor": "white",
            "showbackground": true,
            "ticks": "",
            "zerolinecolor": "white"
           },
           "yaxis": {
            "backgroundcolor": "#E5ECF6",
            "gridcolor": "white",
            "gridwidth": 2,
            "linecolor": "white",
            "showbackground": true,
            "ticks": "",
            "zerolinecolor": "white"
           },
           "zaxis": {
            "backgroundcolor": "#E5ECF6",
            "gridcolor": "white",
            "gridwidth": 2,
            "linecolor": "white",
            "showbackground": true,
            "ticks": "",
            "zerolinecolor": "white"
           }
          },
          "shapedefaults": {
           "line": {
            "color": "#2a3f5f"
           }
          },
          "ternary": {
           "aaxis": {
            "gridcolor": "white",
            "linecolor": "white",
            "ticks": ""
           },
           "baxis": {
            "gridcolor": "white",
            "linecolor": "white",
            "ticks": ""
           },
           "bgcolor": "#E5ECF6",
           "caxis": {
            "gridcolor": "white",
            "linecolor": "white",
            "ticks": ""
           }
          },
          "title": {
           "x": 0.05
          },
          "xaxis": {
           "automargin": true,
           "gridcolor": "white",
           "linecolor": "white",
           "ticks": "",
           "title": {
            "standoff": 15
           },
           "zerolinecolor": "white",
           "zerolinewidth": 2
          },
          "yaxis": {
           "automargin": true,
           "gridcolor": "white",
           "linecolor": "white",
           "ticks": "",
           "title": {
            "standoff": 15
           },
           "zerolinecolor": "white",
           "zerolinewidth": 2
          }
         }
        },
        "title": {
         "text": "Summarization Methods Comparison Table"
        }
       }
      }
     },
     "metadata": {},
     "output_type": "display_data"
    }
   ],
   "source": [
    "import plotly.graph_objects as go\n",
    "\n",
    "fig = go.Figure(data=[go.Table(\n",
    "    columnwidth=[50, 400, 60, 60],\n",
    "    header=dict(\n",
    "        values=[\"<b>Method</b>\", \"<b>Summary</b>\", \"<b>Cosine Similarity</b>\", \"<b>Coverage</b>\"],\n",
    "        fill_color='lightskyblue',\n",
    "        align='left',\n",
    "        font=dict(color='black', size=12)\n",
    "    ),\n",
    "    cells=dict(\n",
    "        values=[\n",
    "            df['Method'],\n",
    "            df['Summary'],\n",
    "            df['Cosine Similarity'].round(4),\n",
    "            df['Coverage']\n",
    "        ],\n",
    "        fill_color='lightyellow',\n",
    "        align='left',\n",
    "        font=dict(color='black', size=11)\n",
    "    )\n",
    ")])\n",
    "\n",
    "fig.update_layout(\n",
    "    title='Summarization Methods Comparison Table',\n",
    "    height=400 + 30 * len(df)  # Dynamic height based on rows\n",
    ")\n",
    "\n",
    "fig.show()\n"
   ]
  },
  {
   "cell_type": "code",
   "execution_count": 65,
   "id": "e1146471",
   "metadata": {},
   "outputs": [
    {
     "name": "stderr",
     "output_type": "stream",
     "text": [
      "[nltk_data] Downloading package punkt to\n",
      "[nltk_data]     C:\\Users\\Lenovo\\AppData\\Roaming\\nltk_data...\n",
      "[nltk_data]   Package punkt is already up-to-date!\n"
     ]
    }
   ],
   "source": [
    "# 🔧 Required imports\n",
    "from sumy.parsers.plaintext import PlaintextParser\n",
    "from sumy.nlp.tokenizers import Tokenizer\n",
    "from sumy.summarizers.lsa import LsaSummarizer\n",
    "from sumy.summarizers.luhn import LuhnSummarizer\n",
    "from sumy.summarizers.text_rank import TextRankSummarizer as SumyTextRank\n",
    "\n",
    "import spacy\n",
    "import pytextrank\n",
    "import nltk\n",
    "from sklearn.feature_extraction.text import TfidfVectorizer\n",
    "from sklearn.metrics.pairwise import cosine_similarity\n",
    "import re\n",
    "\n",
    "# 📥 One-time setup\n",
    "nltk.download('punkt')\n",
    "nlp = spacy.load(\"en_core_web_sm\")\n",
    "if \"textrank\" not in nlp.pipe_names:\n",
    "    nlp.add_pipe(\"textrank\")\n",
    "\n",
    "# 🧹 Helper functions\n",
    "def clean_text(text):\n",
    "    return re.sub(r'\\s+', ' ', text).strip().lower()\n",
    "\n",
    "def cosine_score(summary, original):\n",
    "    vectorizer = TfidfVectorizer(stop_words='english')\n",
    "    try:\n",
    "        tfidf = vectorizer.fit_transform([summary, original])\n",
    "        return cosine_similarity(tfidf[0:1], tfidf[1:2])[0][0]\n",
    "    except:\n",
    "        return 0.0\n",
    "\n",
    "def coverage_score(summary, original):\n",
    "    summary_words = set(clean_text(summary).split())\n",
    "    original_words = set(clean_text(original).split())\n",
    "    if not summary_words:\n",
    "        return 0.0\n",
    "    return len(summary_words & original_words) / len(summary_words)\n",
    "\n",
    "def compression_ratio(summary, original):\n",
    "    return len(summary) / len(original) if len(original) > 0 else 0.0\n",
    "\n",
    "def score_summary(summary, original):\n",
    "    return {\n",
    "        \"cosine_similarity\": round(cosine_score(summary, original), 4),\n",
    "        \"coverage\": round(coverage_score(summary, original), 4),\n",
    "        \"compression_ratio\": round(compression_ratio(summary, original), 4)\n",
    "    }\n",
    "\n",
    "# 🧠 Summarizers\n",
    "def summarize_pytextrank(text, num_sentences=3):\n",
    "    doc = nlp(text)\n",
    "    summary = doc._.textrank.summary(limit_sentences=num_sentences)\n",
    "    return \" \".join([sent.text for sent in summary])\n",
    "\n",
    "def summarize_sumy(text, summarizer_class, num_sentences=3):\n",
    "    parser = PlaintextParser.from_string(text, Tokenizer(\"english\"))\n",
    "    summarizer = summarizer_class()\n",
    "    summary = summarizer(parser.document, num_sentences)\n",
    "    return \" \".join(str(sentence) for sentence in summary)\n",
    "\n",
    "# 🚀 Main function: Summarize Entire Transcript List as One\n",
    "def summarize_combined_transcripts_2(transcripts, num_sentences=3):\n",
    "    if not transcripts:\n",
    "        return {\"error\": \"Empty input list\"}\n",
    "    \n",
    "    combined_text = \" \".join(transcripts).strip()\n",
    "    if len(combined_text.split()) < 20:\n",
    "        return {\"error\": \"Input text too short to summarize meaningfully.\"}\n",
    "\n",
    "    summaries = {\n",
    "        \"pytextrank\": summarize_pytextrank(combined_text, num_sentences),\n",
    "        \"sumy_lsa\": summarize_sumy(combined_text, LsaSummarizer, num_sentences),\n",
    "        \"sumy_luhn\": summarize_sumy(combined_text, LuhnSummarizer, num_sentences),\n",
    "        \"sumy_textrank\": summarize_sumy(combined_text, SumyTextRank, num_sentences)\n",
    "    }\n",
    "\n",
    "    summary_data = {\n",
    "        method: {\n",
    "            \"summary\": summary,\n",
    "            \"scores\": score_summary(summary, combined_text)\n",
    "        }\n",
    "        for method, summary in summaries.items()\n",
    "    }\n",
    "\n",
    "    return summary_data\n"
   ]
  },
  {
   "cell_type": "code",
   "execution_count": 66,
   "id": "ac6b1e6b",
   "metadata": {},
   "outputs": [
    {
     "data": {
      "text/plain": [
       "{'pytextrank': {'summary': 'so i did thats paris thats rio in each place, we built exhibitions with a story, and the story traveled you understand the full scope of the project thats london new york and today, they are with you in long beach all right, recently i started a public art project where i dont use my artwork anymore i use man ray, helen levitt, giacomelli, other peoples artwork it doesnt matter today if its your photo or not the importance is what you do with the images, the statement it makes where its pasted so for example, i pasted the photo of the minaret in switzerland a few weeks after they voted the law forbidding minarets in the country this image of three men wearing gas masks was taken in chernobyl originally, and i pasted it in southern italy, where the mafia sometimes bury the garbage under the ground in some ways, art can change the world art is not supposed to change the world, to change practical things, but to change perceptions art can change the way we see the world art can create an analogy actually the fact that art cannot change things makes it a neutral place for exchanges and discussions, and then enables you to change the world when i do my work, i have two kinds of reactions people say, oh, why dont you go in iraq or afghanistan they would be really useful or, how can we help i presume that you belong to the second category, and thats good, because for that project, im going to ask you to take the photos and paste them so now my wish is i wish for you to stand up for what you care about by participating in a global art project, and together well turn the world inside out and this starts right now yes, everyone in the room everyone watching i wanted that wish to actually start now so a subject youre passionate about, a person who you want to tell their story or even your own photos tell me what you stand for take the photos, the portraits, upload it ill give you all the details and ill send you back your poster join by groups and reveal things to the world the full data is on the website insideoutproject net that is launching today what we see changes who we are when we act together, the whole thing is much more than the sum of the parts so i hope that, together, well create something that the world will remember and this starts right now and depends on you thank you thank you so i asked the people what happened oh, that guy just moved when the roofs were covered, a woman said as a joke, now god can see me when you look at kibera now, they look back okay, india before i start that, just so you know, each time we go to a place, we dont have authorization, so we set up like commandos were a group of friends who arrive there, and we try to paste on the walls but there are places where you just cant paste on a wall in india it was just impossible to paste i heard culturally and because of the law, they would just arrest us at the first pasting so we decided to paste white, white on the walls so imagine white guys pasting white papers so people would come to us and ask us, hey, what are you up to oh, you know, were just doing art art of course, they were confused but you know how india has a lot of dust in the streets, and the more dust you would have going up in the air, on the white paper you can almost see, but there is this sticky part like when you reverse a sticker and then i pasted huge posters everywhere in the bourgeois area of paris with the name, age, even building number of these guys a year later, the exhibition was displayed in front of the city hall of paris and we go from thug images, whove been stolen and distorted by the media, whos now proudly taking over his own image thats where i realized the power of paper and glue so could art change the world a year later, i was listening to all the noise about the middle east conflict i mean, at that time, trust me, they were only referring to the israeli and palestinian conflict so with my friend marco, we decided to go there and see who are the real palestinians and who are the real israelis are they so different when we got there, we just went in the street, started talking with people everywhere, and we realized that things were a bit different from the rhetoric we heard in the media so we decided to take portraits of palestinians and israelis doing the same jobs taxidriver, lawyer, cooks asked them to make a face as a sign of commitment not a smile that really doesnt tell about who you are and what you feel they all accepted to be pasted next to the other i decided to paste in eight israeli and palestinian cities and on both sides of the wall we launched the biggest illegal art exhibition ever we called the project face 2 face the experts said, no way the people will not accept the army will shoot you, and hamas will kidnap you we said, okay, lets try and push as far as we can i love the way that people will ask me, how big will my photo be it will be as big as your house when we did the wall, we did the palestinian side',\n",
       "  'scores': {'cosine_similarity': 0.7638,\n",
       "   'coverage': 1.0,\n",
       "   'compression_ratio': 0.2897}},\n",
       " 'sumy_lsa': {'summary': 'two weeks ago i was in my studio in paris, and the phone rang and i heard, hey, jr, you won the ted prize 2011 you have to make a wish to save the world i was lost i mean, i cant save the world nobody can the world is fucked up come on, you have dictators ruling the world, population is growing by millions, theres no more fish in the sea, the north pole is melting and as the last ted prize winner said, were all becoming fat except maybe french people whatever so i called back and i told her, look, amy, tell the ted guys i just wont show up i cant do anything to save the world she said, hey, jr, your wish is not to save the world, but to change the world oh, all right thats cool i mean, technology, politics, business do change the world not always in a good way, but they do what about art could art change the world i started when i was 15 years old and at that time, i was not thinking about changing the world i was doing graffiti writing my name everywhere, using the city as a canvas i was going in the tunnels of paris, on the rooftops with my friends each trip was an excursion, was an adventure it was like leaving our mark on society, to say, i was here, on the top of a building so when i found a cheap camera on the subway, i started documenting those adventures with my friends and gave them back as photocopies really small photos just that size thats how, at 17 years old, i started pasting them and i did my first expo de rue, which means sidewalk gallery and i framed it with color so you would not confuse it with advertising i mean, the citys the best gallery i could imagine i would never have to make a book and then present it to a gallery and let them decide if my work was nice enough to show it to people i would control it directly with the public in the streets so thats paris i would change depending on the places i would go the title of the exhibition thats on the champselysees i was quite proud of that one because i was just 18 and i was just up there on the top of the champselysees then when the photo left, the frame was still there november 2005 the streets are burning a large wave of riots had broken into the first projects of paris everyone was glued to the tv, watching disturbing, frightening images taken from the edge of the neighborhood i mean, these kids, without control, throwing molotov cocktails, attacking the cops and the firemen, looting everything they could in the shops these were criminals, thugs, dangerous, destroying their own environment and then i saw it could it be possible my photo on a wall revealed by a burning car a pasting id done a year earlier an illegal one still there i mean, these were the faces of my friends i know those guys all of them are not angels, but theyre not monsters either so it was kind of weird to see those images and those eyes stare back at me through a television so i went back there with a 28 mm lens it was the only one i had at that time but with that lens, you have to be as close as 10 inches from the person so you can do it only with their trust so i took full portraits of people from le bosquet they were making scary faces to play the caricature of themselves and then i pasted huge posters everywhere in the bourgeois area of paris with the name, age, even building number of these guys a year later, the exhibition was displayed in front of the city hall of paris and we go from thug images, whove been stolen and distorted by the media, whos now proudly taking over his own image thats where i realized the power of paper and glue so could art change the world a year later, i was listening to all the noise about the middle east conflict i mean, at that time, trust me, they were only referring to the israeli and palestinian conflict so with my friend marco, we decided to go there and see who are the real palestinians and who are the real israelis are they so different when we got there, we just went in the street, started talking with people everywhere, and we realized that things were a bit different from the rhetoric we heard in the media so we decided to take portraits of palestinians and israelis doing the same jobs taxidriver, lawyer, cooks asked them to make a face as a sign of commitment not a smile that really doesnt tell about who you are and what you feel they all accepted to be pasted next to the other i decided to paste in eight israeli and palestinian cities and on both sides of the wall we launched the biggest illegal art exhibition ever we called the project face 2 face the experts said, no way the people will not accept the army will shoot you, and hamas will kidnap you we said, okay, lets try and push as far as we can i love the way that people will ask me, how big will my photo be it will be as big as your house when we did the wall, we did the palestinian side so we arrived with just our ladders and we realized that they were not high enough and so palestinians guys say, calm down no wait im going to find you a solution so he went to the church of nativity and brought back an old ladder that was so old that it could have seen jesus being born we did face 2 face with only six friends, two ladders, two brushes, a rented car, a camera and 20,000 square feet of paper we had all sorts of help from all walks of life okay, for example, thats palestine were in ramallah right now were pasting portraits so both portraits in the streets in a crowded market people come around us and start asking, what are you doing here oh, were actually doing an art project and we are pasting an israeli and a palestinian doing the same job and those ones are actually two taxidrivers and then there was always a silence you mean youre pasting an israeli face doing a face right here well, yeah, yeah, thats part of the project and i would always leave that moment, and we would ask them, so can you tell me who is who and most of them couldnt say we even pasted on israeli military towers, and nothing happened when you paste an image, its just paper and glue people can tear it, tag on it, or even pee on it some are a bit high for that, i agree but the people in the street, they are the curator the rain and the wind will take them off anyway they are not meant to stay but exactly four years after, the photos, most of them are still there face 2 face demonstrated that what we thought impossible was possible and, you know what, even easy we didnt push the limit we just showed that they were further than anyone thought in the middle east, i experienced my work in places without museums so the reactions in the street were kind of interesting so i decided to go further in this direction and go in places where there were zero museums when you go in these developing societies, women are the pillars of their community, but the men are still the ones holding the streets so we were inspired to create a project where men will pay tribute to women by posting their photos i called that project women are heroes when i listened to all the stories everywhere i went on the continents, i couldnt always understand the complicated circumstances of their conflict i just observed sometimes there was no words, no sentence, just tears i just took their pictures and pasted them women are heroes took me around the world most of the places i went to, i decided to go there because ive heard about it through the media so for example, in june 2008, i was watching tv in paris, and then i heard about this terrible thing that happened in rio de janeiro the first favela of brazil named providencia three kids that was three students were by the army because they were not carrying their papers and the army took them, and instead of bringing them to the police station, they brought them to an enemy favela where they get chopped into pieces i was shocked all brazil was shocked i heard it was one of the most violent favelas, because the largest drug cartel controls it so i decided to go there when i arrived i mean, i didnt have any contact with any ngo there was none in place no association, no ngos, nothing no eyewitnesses so we just walked around, and we met a woman, and i showed her my book and she said, you know what were hungry for culture we need culture out there so i went out and i started with the kids i just took a few photos of the kids, and the next day i came with the posters and we pasted them the day after, i came back and they were already scratched but thats okay i wanted them to feel that this art belongs to them then the next day, i held a meeting on the main square and some women came they were all linked to the three kids that got killed there was the mother, the grandmother, the best friend they all wanted to shout the story after that day, everyone in the favela gave me the green light i took more photos, and we started the project the drug lords were kind of worried about us filming in the place, so i told them, you know what im not interested in filming the violence and the weapons you see that enough in the media what i want to show is the incredible life and energy ive been seeing it around me the last few days so thats a really symbolic pasting, because thats the first one we did that you couldnt see from the city and thats where the three kids got arrested, and thats the grandmother of one of them and on that stairs, thats where the traffickers always stand and theres a lot of exchange of fire everyone there understood the project and then we pasted everywhere the whole hill what was interesting is that the media couldnt get in i mean, you should see that they would have to film us from a really long distance by helicopter and then have a really long lens, and we would see ourselves, on tv, pasting and they would put a number please call this number if you know whats going on in providencia we just did a project and then left so the media wouldnt know so how can we know about the project so they had to go and find the women and get an explanation from them so you create a bridge between the media and the anonymous women we kept traveling we went to africa, sudan, sierra leone, liberia, kenya in wartorn places like monrovia, people come straight to you i mean, they want to know what youre up to they kept asking me, what is the purpose of your project are you an ngo are you the media art just doing art some people question, why is it in black and white dont you have color in france or they tell you, are these people all dead some who understood the project would explain it to others and to a man who did not understand, i heard someone say, you know, youve been here for a few hours trying to understand, discussing with your fellows during that time, you havent thought about what youre going to eat tomorrow this is art i think its peoples curiosity that motivates them to come into the projects and then it becomes more it becomes a desire, a need, an armor on this bridge thats in monrovia, exrebel soldiers helped us pasting a portrait of a woman that might have been raped during the war women are always the first ones targeted during conflict this is kibera, kenya, one of the largest slums of africa you might have seen images about the postelection violence that happened there in 2008 this time we covered the roofs of the houses, but we didnt use paper, because paper doesnt prevent the rain from leaking inside the house vinyl does then art becomes useful so the people kept it you know what i love is, for example, when you see the biggest eye there, there are so houses inside and i went there a few months ago photos are still there and it was missing a piece of the eye so i asked the people what happened oh, that guy just moved when the roofs were covered, a woman said as a joke, now god can see me when you look at kibera now, they look back okay, india before i start that, just so you know, each time we go to a place, we dont have authorization, so we set up like commandos were a group of friends who arrive there, and we try to paste on the walls but there are places where you just cant paste on a wall in india it was just impossible to paste i heard culturally and because of the law, they would just arrest us at the first pasting so we decided to paste white, white on the walls so imagine white guys pasting white papers so people would come to us and ask us, hey, what are you up to oh, you know, were just doing art art of course, they were confused but you know how india has a lot of dust in the streets, and the more dust you would have going up in the air, on the white paper you can almost see, but there is this sticky part like when you reverse a sticker so the more dust you have, the more it will reveal the photo so we could just walk in the street during the next days and the photos would get revealed by themselves thank you so we didnt get caught this time each project thats a film from women are heroes okay for each project we do a film and most of what you see thats a trailer from women are heroes its images, photography, taken one after the other and the photos kept traveling even without us hopefully, youll see the film, and youll understand the scope of the project and what the people felt when they saw those photos because thats a big part of it theres layers behind each photo behind each image is a story women are heroes created a new dynamic in each of the communities, and the women kept that dynamic after we left for example, we did books not for sale that all the community would get but to get it, they would have to it signed by one of the women we did that in most of the places we go back regularly and so in providencia, for example, in the favela, we have a cultural center running there in kibera, each year we cover more roofs because of course, when we left, the people who were just at the edge of the project said, hey, what about my roof so we decided to come the year after and keep doing the project a really important point for me is that i dont use any brand or corporate sponsors so i have no responsibility to anyone but myself and the subjects and that is for me one of the more important things in the work i think, today, as important as the result is the way you do things and that has always been a central part of the work and whats interesting is that fine line that i have with images and advertising we just did some pasting in los angeles on another project in the last weeks and i was even invited to cover the moca museum but yesterday the city called them and said, look, youre going to have to tear it down because this can be taken for advertising, and because of the law, it has to be taken down but tell me, advertising for what the people i photograph were proud to participate in the project and to have their photo in the community but they asked me for a promise basically they asked me, please, make our story travel with you so i did thats paris thats rio in each place, we built exhibitions with a story, and the story traveled you understand the full scope of the project thats london new york and today, they are with you in long beach all right, recently i started a public art project where i dont use my artwork anymore i use man ray, helen levitt, giacomelli, other peoples artwork it doesnt matter today if its your photo or not the importance is what you do with the images, the statement it makes where its pasted so for example, i pasted the photo of the minaret in switzerland a few weeks after they voted the law forbidding minarets in the country this image of three men wearing gas masks was taken in chernobyl originally, and i pasted it in southern italy, where the mafia sometimes bury the garbage under the ground in some ways, art can change the world art is not supposed to change the world, to change practical things, but to change perceptions art can change the way we see the world art can create an analogy actually the fact that art cannot change things makes it a neutral place for exchanges and discussions, and then enables you to change the world when i do my work, i have two kinds of reactions people say, oh, why dont you go in iraq or afghanistan they would be really useful or, how can we help i presume that you belong to the second category, and thats good, because for that project, im going to ask you to take the photos and paste them so now my wish is i wish for you to stand up for what you care about by participating in a global art project, and together well turn the world inside out and this starts right now yes, everyone in the room everyone watching i wanted that wish to actually start now so a subject youre passionate about, a person who you want to tell their story or even your own photos tell me what you stand for take the photos, the portraits, upload it ill give you all the details and ill send you back your poster join by groups and reveal things to the world the full data is on the website insideoutproject net that is launching today what we see changes who we are when we act together, the whole thing is much more than the sum of the parts so i hope that, together, well create something that the world will remember and this starts right now and depends on you thank you thank you',\n",
       "  'scores': {'cosine_similarity': 1.0,\n",
       "   'coverage': 1.0,\n",
       "   'compression_ratio': 1.0}},\n",
       " 'sumy_luhn': {'summary': 'two weeks ago i was in my studio in paris, and the phone rang and i heard, hey, jr, you won the ted prize 2011 you have to make a wish to save the world i was lost i mean, i cant save the world nobody can the world is fucked up come on, you have dictators ruling the world, population is growing by millions, theres no more fish in the sea, the north pole is melting and as the last ted prize winner said, were all becoming fat except maybe french people whatever so i called back and i told her, look, amy, tell the ted guys i just wont show up i cant do anything to save the world she said, hey, jr, your wish is not to save the world, but to change the world oh, all right thats cool i mean, technology, politics, business do change the world not always in a good way, but they do what about art could art change the world i started when i was 15 years old and at that time, i was not thinking about changing the world i was doing graffiti writing my name everywhere, using the city as a canvas i was going in the tunnels of paris, on the rooftops with my friends each trip was an excursion, was an adventure it was like leaving our mark on society, to say, i was here, on the top of a building so when i found a cheap camera on the subway, i started documenting those adventures with my friends and gave them back as photocopies really small photos just that size thats how, at 17 years old, i started pasting them and i did my first expo de rue, which means sidewalk gallery and i framed it with color so you would not confuse it with advertising i mean, the citys the best gallery i could imagine i would never have to make a book and then present it to a gallery and let them decide if my work was nice enough to show it to people i would control it directly with the public in the streets so thats paris i would change depending on the places i would go the title of the exhibition thats on the champselysees i was quite proud of that one because i was just 18 and i was just up there on the top of the champselysees then when the photo left, the frame was still there november 2005 the streets are burning a large wave of riots had broken into the first projects of paris everyone was glued to the tv, watching disturbing, frightening images taken from the edge of the neighborhood i mean, these kids, without control, throwing molotov cocktails, attacking the cops and the firemen, looting everything they could in the shops these were criminals, thugs, dangerous, destroying their own environment and then i saw it could it be possible my photo on a wall revealed by a burning car a pasting id done a year earlier an illegal one still there i mean, these were the faces of my friends i know those guys all of them are not angels, but theyre not monsters either so it was kind of weird to see those images and those eyes stare back at me through a television so i went back there with a 28 mm lens it was the only one i had at that time but with that lens, you have to be as close as 10 inches from the person so you can do it only with their trust so i took full portraits of people from le bosquet they were making scary faces to play the caricature of themselves and then i pasted huge posters everywhere in the bourgeois area of paris with the name, age, even building number of these guys a year later, the exhibition was displayed in front of the city hall of paris and we go from thug images, whove been stolen and distorted by the media, whos now proudly taking over his own image thats where i realized the power of paper and glue so could art change the world a year later, i was listening to all the noise about the middle east conflict i mean, at that time, trust me, they were only referring to the israeli and palestinian conflict so with my friend marco, we decided to go there and see who are the real palestinians and who are the real israelis are they so different when we got there, we just went in the street, started talking with people everywhere, and we realized that things were a bit different from the rhetoric we heard in the media so we decided to take portraits of palestinians and israelis doing the same jobs taxidriver, lawyer, cooks asked them to make a face as a sign of commitment not a smile that really doesnt tell about who you are and what you feel they all accepted to be pasted next to the other i decided to paste in eight israeli and palestinian cities and on both sides of the wall we launched the biggest illegal art exhibition ever we called the project face 2 face the experts said, no way the people will not accept the army will shoot you, and hamas will kidnap you we said, okay, lets try and push as far as we can i love the way that people will ask me, how big will my photo be it will be as big as your house when we did the wall, we did the palestinian side so we arrived with just our ladders and we realized that they were not high enough and so palestinians guys say, calm down no wait im going to find you a solution so he went to the church of nativity and brought back an old ladder that was so old that it could have seen jesus being born we did face 2 face with only six friends, two ladders, two brushes, a rented car, a camera and 20,000 square feet of paper we had all sorts of help from all walks of life okay, for example, thats palestine were in ramallah right now were pasting portraits so both portraits in the streets in a crowded market people come around us and start asking, what are you doing here oh, were actually doing an art project and we are pasting an israeli and a palestinian doing the same job and those ones are actually two taxidrivers and then there was always a silence you mean youre pasting an israeli face doing a face right here well, yeah, yeah, thats part of the project and i would always leave that moment, and we would ask them, so can you tell me who is who and most of them couldnt say we even pasted on israeli military towers, and nothing happened when you paste an image, its just paper and glue people can tear it, tag on it, or even pee on it some are a bit high for that, i agree but the people in the street, they are the curator the rain and the wind will take them off anyway they are not meant to stay but exactly four years after, the photos, most of them are still there face 2 face demonstrated that what we thought impossible was possible and, you know what, even easy we didnt push the limit we just showed that they were further than anyone thought in the middle east, i experienced my work in places without museums so the reactions in the street were kind of interesting so i decided to go further in this direction and go in places where there were zero museums when you go in these developing societies, women are the pillars of their community, but the men are still the ones holding the streets so we were inspired to create a project where men will pay tribute to women by posting their photos i called that project women are heroes when i listened to all the stories everywhere i went on the continents, i couldnt always understand the complicated circumstances of their conflict i just observed sometimes there was no words, no sentence, just tears i just took their pictures and pasted them women are heroes took me around the world most of the places i went to, i decided to go there because ive heard about it through the media so for example, in june 2008, i was watching tv in paris, and then i heard about this terrible thing that happened in rio de janeiro the first favela of brazil named providencia three kids that was three students were by the army because they were not carrying their papers and the army took them, and instead of bringing them to the police station, they brought them to an enemy favela where they get chopped into pieces i was shocked all brazil was shocked i heard it was one of the most violent favelas, because the largest drug cartel controls it so i decided to go there when i arrived i mean, i didnt have any contact with any ngo there was none in place no association, no ngos, nothing no eyewitnesses so we just walked around, and we met a woman, and i showed her my book and she said, you know what were hungry for culture we need culture out there so i went out and i started with the kids i just took a few photos of the kids, and the next day i came with the posters and we pasted them the day after, i came back and they were already scratched but thats okay i wanted them to feel that this art belongs to them then the next day, i held a meeting on the main square and some women came they were all linked to the three kids that got killed there was the mother, the grandmother, the best friend they all wanted to shout the story after that day, everyone in the favela gave me the green light i took more photos, and we started the project the drug lords were kind of worried about us filming in the place, so i told them, you know what im not interested in filming the violence and the weapons you see that enough in the media what i want to show is the incredible life and energy ive been seeing it around me the last few days so thats a really symbolic pasting, because thats the first one we did that you couldnt see from the city and thats where the three kids got arrested, and thats the grandmother of one of them and on that stairs, thats where the traffickers always stand and theres a lot of exchange of fire everyone there understood the project and then we pasted everywhere the whole hill what was interesting is that the media couldnt get in i mean, you should see that they would have to film us from a really long distance by helicopter and then have a really long lens, and we would see ourselves, on tv, pasting and they would put a number please call this number if you know whats going on in providencia we just did a project and then left so the media wouldnt know so how can we know about the project so they had to go and find the women and get an explanation from them so you create a bridge between the media and the anonymous women we kept traveling we went to africa, sudan, sierra leone, liberia, kenya in wartorn places like monrovia, people come straight to you i mean, they want to know what youre up to they kept asking me, what is the purpose of your project are you an ngo are you the media art just doing art some people question, why is it in black and white dont you have color in france or they tell you, are these people all dead some who understood the project would explain it to others and to a man who did not understand, i heard someone say, you know, youve been here for a few hours trying to understand, discussing with your fellows during that time, you havent thought about what youre going to eat tomorrow this is art i think its peoples curiosity that motivates them to come into the projects and then it becomes more it becomes a desire, a need, an armor on this bridge thats in monrovia, exrebel soldiers helped us pasting a portrait of a woman that might have been raped during the war women are always the first ones targeted during conflict this is kibera, kenya, one of the largest slums of africa you might have seen images about the postelection violence that happened there in 2008 this time we covered the roofs of the houses, but we didnt use paper, because paper doesnt prevent the rain from leaking inside the house vinyl does then art becomes useful so the people kept it you know what i love is, for example, when you see the biggest eye there, there are so houses inside and i went there a few months ago photos are still there and it was missing a piece of the eye so i asked the people what happened oh, that guy just moved when the roofs were covered, a woman said as a joke, now god can see me when you look at kibera now, they look back okay, india before i start that, just so you know, each time we go to a place, we dont have authorization, so we set up like commandos were a group of friends who arrive there, and we try to paste on the walls but there are places where you just cant paste on a wall in india it was just impossible to paste i heard culturally and because of the law, they would just arrest us at the first pasting so we decided to paste white, white on the walls so imagine white guys pasting white papers so people would come to us and ask us, hey, what are you up to oh, you know, were just doing art art of course, they were confused but you know how india has a lot of dust in the streets, and the more dust you would have going up in the air, on the white paper you can almost see, but there is this sticky part like when you reverse a sticker so the more dust you have, the more it will reveal the photo so we could just walk in the street during the next days and the photos would get revealed by themselves thank you so we didnt get caught this time each project thats a film from women are heroes okay for each project we do a film and most of what you see thats a trailer from women are heroes its images, photography, taken one after the other and the photos kept traveling even without us hopefully, youll see the film, and youll understand the scope of the project and what the people felt when they saw those photos because thats a big part of it theres layers behind each photo behind each image is a story women are heroes created a new dynamic in each of the communities, and the women kept that dynamic after we left for example, we did books not for sale that all the community would get but to get it, they would have to it signed by one of the women we did that in most of the places we go back regularly and so in providencia, for example, in the favela, we have a cultural center running there in kibera, each year we cover more roofs because of course, when we left, the people who were just at the edge of the project said, hey, what about my roof so we decided to come the year after and keep doing the project a really important point for me is that i dont use any brand or corporate sponsors so i have no responsibility to anyone but myself and the subjects and that is for me one of the more important things in the work i think, today, as important as the result is the way you do things and that has always been a central part of the work and whats interesting is that fine line that i have with images and advertising we just did some pasting in los angeles on another project in the last weeks and i was even invited to cover the moca museum but yesterday the city called them and said, look, youre going to have to tear it down because this can be taken for advertising, and because of the law, it has to be taken down but tell me, advertising for what the people i photograph were proud to participate in the project and to have their photo in the community but they asked me for a promise basically they asked me, please, make our story travel with you so i did thats paris thats rio in each place, we built exhibitions with a story, and the story traveled you understand the full scope of the project thats london new york and today, they are with you in long beach all right, recently i started a public art project where i dont use my artwork anymore i use man ray, helen levitt, giacomelli, other peoples artwork it doesnt matter today if its your photo or not the importance is what you do with the images, the statement it makes where its pasted so for example, i pasted the photo of the minaret in switzerland a few weeks after they voted the law forbidding minarets in the country this image of three men wearing gas masks was taken in chernobyl originally, and i pasted it in southern italy, where the mafia sometimes bury the garbage under the ground in some ways, art can change the world art is not supposed to change the world, to change practical things, but to change perceptions art can change the way we see the world art can create an analogy actually the fact that art cannot change things makes it a neutral place for exchanges and discussions, and then enables you to change the world when i do my work, i have two kinds of reactions people say, oh, why dont you go in iraq or afghanistan they would be really useful or, how can we help i presume that you belong to the second category, and thats good, because for that project, im going to ask you to take the photos and paste them so now my wish is i wish for you to stand up for what you care about by participating in a global art project, and together well turn the world inside out and this starts right now yes, everyone in the room everyone watching i wanted that wish to actually start now so a subject youre passionate about, a person who you want to tell their story or even your own photos tell me what you stand for take the photos, the portraits, upload it ill give you all the details and ill send you back your poster join by groups and reveal things to the world the full data is on the website insideoutproject net that is launching today what we see changes who we are when we act together, the whole thing is much more than the sum of the parts so i hope that, together, well create something that the world will remember and this starts right now and depends on you thank you thank you',\n",
       "  'scores': {'cosine_similarity': 1.0,\n",
       "   'coverage': 1.0,\n",
       "   'compression_ratio': 1.0}},\n",
       " 'sumy_textrank': {'summary': 'two weeks ago i was in my studio in paris, and the phone rang and i heard, hey, jr, you won the ted prize 2011 you have to make a wish to save the world i was lost i mean, i cant save the world nobody can the world is fucked up come on, you have dictators ruling the world, population is growing by millions, theres no more fish in the sea, the north pole is melting and as the last ted prize winner said, were all becoming fat except maybe french people whatever so i called back and i told her, look, amy, tell the ted guys i just wont show up i cant do anything to save the world she said, hey, jr, your wish is not to save the world, but to change the world oh, all right thats cool i mean, technology, politics, business do change the world not always in a good way, but they do what about art could art change the world i started when i was 15 years old and at that time, i was not thinking about changing the world i was doing graffiti writing my name everywhere, using the city as a canvas i was going in the tunnels of paris, on the rooftops with my friends each trip was an excursion, was an adventure it was like leaving our mark on society, to say, i was here, on the top of a building so when i found a cheap camera on the subway, i started documenting those adventures with my friends and gave them back as photocopies really small photos just that size thats how, at 17 years old, i started pasting them and i did my first expo de rue, which means sidewalk gallery and i framed it with color so you would not confuse it with advertising i mean, the citys the best gallery i could imagine i would never have to make a book and then present it to a gallery and let them decide if my work was nice enough to show it to people i would control it directly with the public in the streets so thats paris i would change depending on the places i would go the title of the exhibition thats on the champselysees i was quite proud of that one because i was just 18 and i was just up there on the top of the champselysees then when the photo left, the frame was still there november 2005 the streets are burning a large wave of riots had broken into the first projects of paris everyone was glued to the tv, watching disturbing, frightening images taken from the edge of the neighborhood i mean, these kids, without control, throwing molotov cocktails, attacking the cops and the firemen, looting everything they could in the shops these were criminals, thugs, dangerous, destroying their own environment and then i saw it could it be possible my photo on a wall revealed by a burning car a pasting id done a year earlier an illegal one still there i mean, these were the faces of my friends i know those guys all of them are not angels, but theyre not monsters either so it was kind of weird to see those images and those eyes stare back at me through a television so i went back there with a 28 mm lens it was the only one i had at that time but with that lens, you have to be as close as 10 inches from the person so you can do it only with their trust so i took full portraits of people from le bosquet they were making scary faces to play the caricature of themselves and then i pasted huge posters everywhere in the bourgeois area of paris with the name, age, even building number of these guys a year later, the exhibition was displayed in front of the city hall of paris and we go from thug images, whove been stolen and distorted by the media, whos now proudly taking over his own image thats where i realized the power of paper and glue so could art change the world a year later, i was listening to all the noise about the middle east conflict i mean, at that time, trust me, they were only referring to the israeli and palestinian conflict so with my friend marco, we decided to go there and see who are the real palestinians and who are the real israelis are they so different when we got there, we just went in the street, started talking with people everywhere, and we realized that things were a bit different from the rhetoric we heard in the media so we decided to take portraits of palestinians and israelis doing the same jobs taxidriver, lawyer, cooks asked them to make a face as a sign of commitment not a smile that really doesnt tell about who you are and what you feel they all accepted to be pasted next to the other i decided to paste in eight israeli and palestinian cities and on both sides of the wall we launched the biggest illegal art exhibition ever we called the project face 2 face the experts said, no way the people will not accept the army will shoot you, and hamas will kidnap you we said, okay, lets try and push as far as we can i love the way that people will ask me, how big will my photo be it will be as big as your house when we did the wall, we did the palestinian side so we arrived with just our ladders and we realized that they were not high enough and so palestinians guys say, calm down no wait im going to find you a solution so he went to the church of nativity and brought back an old ladder that was so old that it could have seen jesus being born we did face 2 face with only six friends, two ladders, two brushes, a rented car, a camera and 20,000 square feet of paper we had all sorts of help from all walks of life okay, for example, thats palestine were in ramallah right now were pasting portraits so both portraits in the streets in a crowded market people come around us and start asking, what are you doing here oh, were actually doing an art project and we are pasting an israeli and a palestinian doing the same job and those ones are actually two taxidrivers and then there was always a silence you mean youre pasting an israeli face doing a face right here well, yeah, yeah, thats part of the project and i would always leave that moment, and we would ask them, so can you tell me who is who and most of them couldnt say we even pasted on israeli military towers, and nothing happened when you paste an image, its just paper and glue people can tear it, tag on it, or even pee on it some are a bit high for that, i agree but the people in the street, they are the curator the rain and the wind will take them off anyway they are not meant to stay but exactly four years after, the photos, most of them are still there face 2 face demonstrated that what we thought impossible was possible and, you know what, even easy we didnt push the limit we just showed that they were further than anyone thought in the middle east, i experienced my work in places without museums so the reactions in the street were kind of interesting so i decided to go further in this direction and go in places where there were zero museums when you go in these developing societies, women are the pillars of their community, but the men are still the ones holding the streets so we were inspired to create a project where men will pay tribute to women by posting their photos i called that project women are heroes when i listened to all the stories everywhere i went on the continents, i couldnt always understand the complicated circumstances of their conflict i just observed sometimes there was no words, no sentence, just tears i just took their pictures and pasted them women are heroes took me around the world most of the places i went to, i decided to go there because ive heard about it through the media so for example, in june 2008, i was watching tv in paris, and then i heard about this terrible thing that happened in rio de janeiro the first favela of brazil named providencia three kids that was three students were by the army because they were not carrying their papers and the army took them, and instead of bringing them to the police station, they brought them to an enemy favela where they get chopped into pieces i was shocked all brazil was shocked i heard it was one of the most violent favelas, because the largest drug cartel controls it so i decided to go there when i arrived i mean, i didnt have any contact with any ngo there was none in place no association, no ngos, nothing no eyewitnesses so we just walked around, and we met a woman, and i showed her my book and she said, you know what were hungry for culture we need culture out there so i went out and i started with the kids i just took a few photos of the kids, and the next day i came with the posters and we pasted them the day after, i came back and they were already scratched but thats okay i wanted them to feel that this art belongs to them then the next day, i held a meeting on the main square and some women came they were all linked to the three kids that got killed there was the mother, the grandmother, the best friend they all wanted to shout the story after that day, everyone in the favela gave me the green light i took more photos, and we started the project the drug lords were kind of worried about us filming in the place, so i told them, you know what im not interested in filming the violence and the weapons you see that enough in the media what i want to show is the incredible life and energy ive been seeing it around me the last few days so thats a really symbolic pasting, because thats the first one we did that you couldnt see from the city and thats where the three kids got arrested, and thats the grandmother of one of them and on that stairs, thats where the traffickers always stand and theres a lot of exchange of fire everyone there understood the project and then we pasted everywhere the whole hill what was interesting is that the media couldnt get in i mean, you should see that they would have to film us from a really long distance by helicopter and then have a really long lens, and we would see ourselves, on tv, pasting and they would put a number please call this number if you know whats going on in providencia we just did a project and then left so the media wouldnt know so how can we know about the project so they had to go and find the women and get an explanation from them so you create a bridge between the media and the anonymous women we kept traveling we went to africa, sudan, sierra leone, liberia, kenya in wartorn places like monrovia, people come straight to you i mean, they want to know what youre up to they kept asking me, what is the purpose of your project are you an ngo are you the media art just doing art some people question, why is it in black and white dont you have color in france or they tell you, are these people all dead some who understood the project would explain it to others and to a man who did not understand, i heard someone say, you know, youve been here for a few hours trying to understand, discussing with your fellows during that time, you havent thought about what youre going to eat tomorrow this is art i think its peoples curiosity that motivates them to come into the projects and then it becomes more it becomes a desire, a need, an armor on this bridge thats in monrovia, exrebel soldiers helped us pasting a portrait of a woman that might have been raped during the war women are always the first ones targeted during conflict this is kibera, kenya, one of the largest slums of africa you might have seen images about the postelection violence that happened there in 2008 this time we covered the roofs of the houses, but we didnt use paper, because paper doesnt prevent the rain from leaking inside the house vinyl does then art becomes useful so the people kept it you know what i love is, for example, when you see the biggest eye there, there are so houses inside and i went there a few months ago photos are still there and it was missing a piece of the eye so i asked the people what happened oh, that guy just moved when the roofs were covered, a woman said as a joke, now god can see me when you look at kibera now, they look back okay, india before i start that, just so you know, each time we go to a place, we dont have authorization, so we set up like commandos were a group of friends who arrive there, and we try to paste on the walls but there are places where you just cant paste on a wall in india it was just impossible to paste i heard culturally and because of the law, they would just arrest us at the first pasting so we decided to paste white, white on the walls so imagine white guys pasting white papers so people would come to us and ask us, hey, what are you up to oh, you know, were just doing art art of course, they were confused but you know how india has a lot of dust in the streets, and the more dust you would have going up in the air, on the white paper you can almost see, but there is this sticky part like when you reverse a sticker so the more dust you have, the more it will reveal the photo so we could just walk in the street during the next days and the photos would get revealed by themselves thank you so we didnt get caught this time each project thats a film from women are heroes okay for each project we do a film and most of what you see thats a trailer from women are heroes its images, photography, taken one after the other and the photos kept traveling even without us hopefully, youll see the film, and youll understand the scope of the project and what the people felt when they saw those photos because thats a big part of it theres layers behind each photo behind each image is a story women are heroes created a new dynamic in each of the communities, and the women kept that dynamic after we left for example, we did books not for sale that all the community would get but to get it, they would have to it signed by one of the women we did that in most of the places we go back regularly and so in providencia, for example, in the favela, we have a cultural center running there in kibera, each year we cover more roofs because of course, when we left, the people who were just at the edge of the project said, hey, what about my roof so we decided to come the year after and keep doing the project a really important point for me is that i dont use any brand or corporate sponsors so i have no responsibility to anyone but myself and the subjects and that is for me one of the more important things in the work i think, today, as important as the result is the way you do things and that has always been a central part of the work and whats interesting is that fine line that i have with images and advertising we just did some pasting in los angeles on another project in the last weeks and i was even invited to cover the moca museum but yesterday the city called them and said, look, youre going to have to tear it down because this can be taken for advertising, and because of the law, it has to be taken down but tell me, advertising for what the people i photograph were proud to participate in the project and to have their photo in the community but they asked me for a promise basically they asked me, please, make our story travel with you so i did thats paris thats rio in each place, we built exhibitions with a story, and the story traveled you understand the full scope of the project thats london new york and today, they are with you in long beach all right, recently i started a public art project where i dont use my artwork anymore i use man ray, helen levitt, giacomelli, other peoples artwork it doesnt matter today if its your photo or not the importance is what you do with the images, the statement it makes where its pasted so for example, i pasted the photo of the minaret in switzerland a few weeks after they voted the law forbidding minarets in the country this image of three men wearing gas masks was taken in chernobyl originally, and i pasted it in southern italy, where the mafia sometimes bury the garbage under the ground in some ways, art can change the world art is not supposed to change the world, to change practical things, but to change perceptions art can change the way we see the world art can create an analogy actually the fact that art cannot change things makes it a neutral place for exchanges and discussions, and then enables you to change the world when i do my work, i have two kinds of reactions people say, oh, why dont you go in iraq or afghanistan they would be really useful or, how can we help i presume that you belong to the second category, and thats good, because for that project, im going to ask you to take the photos and paste them so now my wish is i wish for you to stand up for what you care about by participating in a global art project, and together well turn the world inside out and this starts right now yes, everyone in the room everyone watching i wanted that wish to actually start now so a subject youre passionate about, a person who you want to tell their story or even your own photos tell me what you stand for take the photos, the portraits, upload it ill give you all the details and ill send you back your poster join by groups and reveal things to the world the full data is on the website insideoutproject net that is launching today what we see changes who we are when we act together, the whole thing is much more than the sum of the parts so i hope that, together, well create something that the world will remember and this starts right now and depends on you thank you thank you',\n",
       "  'scores': {'cosine_similarity': 1.0,\n",
       "   'coverage': 1.0,\n",
       "   'compression_ratio': 1.0}}}"
      ]
     },
     "execution_count": 66,
     "metadata": {},
     "output_type": "execute_result"
    }
   ],
   "source": [
    "summarize_combined_transcripts_2(input_data)"
   ]
  },
  {
   "cell_type": "code",
   "execution_count": null,
   "id": "a53d1a85",
   "metadata": {},
   "outputs": [],
   "source": [
    "import pandas as pd\n",
    "\n",
    "\n",
    "# Convert to DataFrame\n",
    "rows = []\n",
    "for method, content in summary_data.items():\n",
    "    rows.append({\n",
    "        \"Method\": method,\n",
    "        \"Summary\": content[\"summary\"],\n",
    "        \"Cosine Similarity\": content[\"scores\"][\"cosine_similarity\"],\n",
    "        \"Coverage\": content[\"scores\"][\"coverage\"],\n",
    "        \"Compression Ratio\": content[\"scores\"][\"compression_ratio\"]\n",
    "    })\n",
    "\n",
    "df2 = pd.DataFrame(rows)"
   ]
  },
  {
   "cell_type": "code",
   "execution_count": 69,
   "id": "e6ac749b",
   "metadata": {},
   "outputs": [
    {
     "data": {
      "application/vnd.microsoft.datawrangler.viewer.v0+json": {
       "columns": [
        {
         "name": "index",
         "rawType": "int64",
         "type": "integer"
        },
        {
         "name": "Method",
         "rawType": "object",
         "type": "string"
        },
        {
         "name": "Summary",
         "rawType": "object",
         "type": "string"
        },
        {
         "name": "Cosine Similarity",
         "rawType": "float64",
         "type": "float"
        },
        {
         "name": "Coverage",
         "rawType": "float64",
         "type": "float"
        },
        {
         "name": "Compression Ratio",
         "rawType": "float64",
         "type": "float"
        }
       ],
       "conversionMethod": "pd.DataFrame",
       "ref": "fc18ec38-a14d-419c-af14-f209acf0186a",
       "rows": [
        [
         "0",
         "pytextrank",
         "so i did thats paris thats rio in each place, we built exhibitions with a story, and the story traveled you understand the full scope of the project thats london new york and today, they are with you in long beach all right, recently i started a public art project where i dont use my artwork anymore i use man ray, helen levitt, giacomelli, other peoples artwork it doesnt matter today if its your photo or not the importance is what you do with the images, the statement it makes where its pasted so for example, i pasted the photo of the minaret in switzerland a few weeks after they voted the law forbidding minarets in the country this image of three men wearing gas masks was taken in chernobyl originally, and i pasted it in southern italy, where the mafia sometimes bury the garbage under the ground in some ways, art can change the world art is not supposed to change the world, to change practical things, but to change perceptions art can change the way we see the world art can create an analogy actually the fact that art cannot change things makes it a neutral place for exchanges and discussions, and then enables you to change the world when i do my work, i have two kinds of reactions people say, oh, why dont you go in iraq or afghanistan they would be really useful or, how can we help i presume that you belong to the second category, and thats good, because for that project, im going to ask you to take the photos and paste them so now my wish is i wish for you to stand up for what you care about by participating in a global art project, and together well turn the world inside out and this starts right now yes, everyone in the room everyone watching i wanted that wish to actually start now so a subject youre passionate about, a person who you want to tell their story or even your own photos tell me what you stand for take the photos, the portraits, upload it ill give you all the details and ill send you back your poster join by groups and reveal things to the world the full data is on the website insideoutproject net that is launching today what we see changes who we are when we act together, the whole thing is much more than the sum of the parts so i hope that, together, well create something that the world will remember and this starts right now and depends on you thank you thank you so i asked the people what happened oh, that guy just moved when the roofs were covered, a woman said as a joke, now god can see me when you look at kibera now, they look back okay, india before i start that, just so you know, each time we go to a place, we dont have authorization, so we set up like commandos were a group of friends who arrive there, and we try to paste on the walls but there are places where you just cant paste on a wall in india it was just impossible to paste i heard culturally and because of the law, they would just arrest us at the first pasting so we decided to paste white, white on the walls so imagine white guys pasting white papers so people would come to us and ask us, hey, what are you up to oh, you know, were just doing art art of course, they were confused but you know how india has a lot of dust in the streets, and the more dust you would have going up in the air, on the white paper you can almost see, but there is this sticky part like when you reverse a sticker and then i pasted huge posters everywhere in the bourgeois area of paris with the name, age, even building number of these guys a year later, the exhibition was displayed in front of the city hall of paris and we go from thug images, whove been stolen and distorted by the media, whos now proudly taking over his own image thats where i realized the power of paper and glue so could art change the world a year later, i was listening to all the noise about the middle east conflict i mean, at that time, trust me, they were only referring to the israeli and palestinian conflict so with my friend marco, we decided to go there and see who are the real palestinians and who are the real israelis are they so different when we got there, we just went in the street, started talking with people everywhere, and we realized that things were a bit different from the rhetoric we heard in the media so we decided to take portraits of palestinians and israelis doing the same jobs taxidriver, lawyer, cooks asked them to make a face as a sign of commitment not a smile that really doesnt tell about who you are and what you feel they all accepted to be pasted next to the other i decided to paste in eight israeli and palestinian cities and on both sides of the wall we launched the biggest illegal art exhibition ever we called the project face 2 face the experts said, no way the people will not accept the army will shoot you, and hamas will kidnap you we said, okay, lets try and push as far as we can i love the way that people will ask me, how big will my photo be it will be as big as your house when we did the wall, we did the palestinian side i wanted them to feel that this art belongs to them then the next day, i held a meeting on the main square and some women came they were all linked to the three kids that got killed there was the mother, the grandmother, the best friend they all wanted to shout the story after that day, everyone in the favela gave me the green light i took more photos, and we started the project the drug lords were kind of worried about us filming in the place, so i told them, you know what im not interested in filming the violence and the weapons you see that enough in the media what i want to show is the incredible life and energy ive been seeing it around me the last few days so thats a really symbolic pasting, because thats the first one we did that you couldnt see from the city and thats where the three kids got arrested, and thats the grandmother of one of them and on that stairs, thats where the traffickers always stand and theres a lot of exchange of fire everyone there understood the project and i framed it with color so you would not confuse it with advertising i mean, the citys the best gallery i could imagine i would never have to make a book and then present it to a gallery and let them decide if my work was nice enough to show it to people i would control it directly with the public in the streets so thats paris i would change depending on the places i would go the title of the exhibition thats on the champselysees i was quite proud of that one because i was just 18",
         "0.8299",
         "1.0",
         "0.3763"
        ],
        [
         "1",
         "sumy_lsa",
         "two weeks ago i was in my studio in paris, and the phone rang and i heard, hey, jr, you won the ted prize 2011 you have to make a wish to save the world i was lost i mean, i cant save the world nobody can the world is fucked up come on, you have dictators ruling the world, population is growing by millions, theres no more fish in the sea, the north pole is melting and as the last ted prize winner said, were all becoming fat except maybe french people whatever so i called back and i told her, look, amy, tell the ted guys i just wont show up i cant do anything to save the world she said, hey, jr, your wish is not to save the world, but to change the world oh, all right thats cool i mean, technology, politics, business do change the world not always in a good way, but they do what about art could art change the world i started when i was 15 years old and at that time, i was not thinking about changing the world i was doing graffiti writing my name everywhere, using the city as a canvas i was going in the tunnels of paris, on the rooftops with my friends each trip was an excursion, was an adventure it was like leaving our mark on society, to say, i was here, on the top of a building so when i found a cheap camera on the subway, i started documenting those adventures with my friends and gave them back as photocopies really small photos just that size thats how, at 17 years old, i started pasting them and i did my first expo de rue, which means sidewalk gallery and i framed it with color so you would not confuse it with advertising i mean, the citys the best gallery i could imagine i would never have to make a book and then present it to a gallery and let them decide if my work was nice enough to show it to people i would control it directly with the public in the streets so thats paris i would change depending on the places i would go the title of the exhibition thats on the champselysees i was quite proud of that one because i was just 18 and i was just up there on the top of the champselysees then when the photo left, the frame was still there november 2005 the streets are burning a large wave of riots had broken into the first projects of paris everyone was glued to the tv, watching disturbing, frightening images taken from the edge of the neighborhood i mean, these kids, without control, throwing molotov cocktails, attacking the cops and the firemen, looting everything they could in the shops these were criminals, thugs, dangerous, destroying their own environment and then i saw it could it be possible my photo on a wall revealed by a burning car a pasting id done a year earlier an illegal one still there i mean, these were the faces of my friends i know those guys all of them are not angels, but theyre not monsters either so it was kind of weird to see those images and those eyes stare back at me through a television so i went back there with a 28 mm lens it was the only one i had at that time but with that lens, you have to be as close as 10 inches from the person so you can do it only with their trust so i took full portraits of people from le bosquet they were making scary faces to play the caricature of themselves and then i pasted huge posters everywhere in the bourgeois area of paris with the name, age, even building number of these guys a year later, the exhibition was displayed in front of the city hall of paris and we go from thug images, whove been stolen and distorted by the media, whos now proudly taking over his own image thats where i realized the power of paper and glue so could art change the world a year later, i was listening to all the noise about the middle east conflict i mean, at that time, trust me, they were only referring to the israeli and palestinian conflict so with my friend marco, we decided to go there and see who are the real palestinians and who are the real israelis are they so different when we got there, we just went in the street, started talking with people everywhere, and we realized that things were a bit different from the rhetoric we heard in the media so we decided to take portraits of palestinians and israelis doing the same jobs taxidriver, lawyer, cooks asked them to make a face as a sign of commitment not a smile that really doesnt tell about who you are and what you feel they all accepted to be pasted next to the other i decided to paste in eight israeli and palestinian cities and on both sides of the wall we launched the biggest illegal art exhibition ever we called the project face 2 face the experts said, no way the people will not accept the army will shoot you, and hamas will kidnap you we said, okay, lets try and push as far as we can i love the way that people will ask me, how big will my photo be it will be as big as your house when we did the wall, we did the palestinian side so we arrived with just our ladders and we realized that they were not high enough and so palestinians guys say, calm down no wait im going to find you a solution so he went to the church of nativity and brought back an old ladder that was so old that it could have seen jesus being born we did face 2 face with only six friends, two ladders, two brushes, a rented car, a camera and 20,000 square feet of paper we had all sorts of help from all walks of life okay, for example, thats palestine were in ramallah right now were pasting portraits so both portraits in the streets in a crowded market people come around us and start asking, what are you doing here oh, were actually doing an art project and we are pasting an israeli and a palestinian doing the same job and those ones are actually two taxidrivers and then there was always a silence you mean youre pasting an israeli face doing a face right here well, yeah, yeah, thats part of the project and i would always leave that moment, and we would ask them, so can you tell me who is who and most of them couldnt say we even pasted on israeli military towers, and nothing happened when you paste an image, its just paper and glue people can tear it, tag on it, or even pee on it some are a bit high for that, i agree but the people in the street, they are the curator the rain and the wind will take them off anyway they are not meant to stay but exactly four years after, the photos, most of them are still there face 2 face demonstrated that what we thought impossible was possible and, you know what, even easy we didnt push the limit we just showed that they were further than anyone thought in the middle east, i experienced my work in places without museums so the reactions in the street were kind of interesting so i decided to go further in this direction and go in places where there were zero museums when you go in these developing societies, women are the pillars of their community, but the men are still the ones holding the streets so we were inspired to create a project where men will pay tribute to women by posting their photos i called that project women are heroes when i listened to all the stories everywhere i went on the continents, i couldnt always understand the complicated circumstances of their conflict i just observed sometimes there was no words, no sentence, just tears i just took their pictures and pasted them women are heroes took me around the world most of the places i went to, i decided to go there because ive heard about it through the media so for example, in june 2008, i was watching tv in paris, and then i heard about this terrible thing that happened in rio de janeiro the first favela of brazil named providencia three kids that was three students were by the army because they were not carrying their papers and the army took them, and instead of bringing them to the police station, they brought them to an enemy favela where they get chopped into pieces i was shocked all brazil was shocked i heard it was one of the most violent favelas, because the largest drug cartel controls it so i decided to go there when i arrived i mean, i didnt have any contact with any ngo there was none in place no association, no ngos, nothing no eyewitnesses so we just walked around, and we met a woman, and i showed her my book and she said, you know what were hungry for culture we need culture out there so i went out and i started with the kids i just took a few photos of the kids, and the next day i came with the posters and we pasted them the day after, i came back and they were already scratched but thats okay i wanted them to feel that this art belongs to them then the next day, i held a meeting on the main square and some women came they were all linked to the three kids that got killed there was the mother, the grandmother, the best friend they all wanted to shout the story after that day, everyone in the favela gave me the green light i took more photos, and we started the project the drug lords were kind of worried about us filming in the place, so i told them, you know what im not interested in filming the violence and the weapons you see that enough in the media what i want to show is the incredible life and energy ive been seeing it around me the last few days so thats a really symbolic pasting, because thats the first one we did that you couldnt see from the city and thats where the three kids got arrested, and thats the grandmother of one of them and on that stairs, thats where the traffickers always stand and theres a lot of exchange of fire everyone there understood the project and then we pasted everywhere the whole hill what was interesting is that the media couldnt get in i mean, you should see that they would have to film us from a really long distance by helicopter and then have a really long lens, and we would see ourselves, on tv, pasting and they would put a number please call this number if you know whats going on in providencia we just did a project and then left so the media wouldnt know so how can we know about the project so they had to go and find the women and get an explanation from them so you create a bridge between the media and the anonymous women we kept traveling we went to africa, sudan, sierra leone, liberia, kenya in wartorn places like monrovia, people come straight to you i mean, they want to know what youre up to they kept asking me, what is the purpose of your project are you an ngo are you the media art just doing art some people question, why is it in black and white dont you have color in france or they tell you, are these people all dead some who understood the project would explain it to others and to a man who did not understand, i heard someone say, you know, youve been here for a few hours trying to understand, discussing with your fellows during that time, you havent thought about what youre going to eat tomorrow this is art i think its peoples curiosity that motivates them to come into the projects and then it becomes more it becomes a desire, a need, an armor on this bridge thats in monrovia, exrebel soldiers helped us pasting a portrait of a woman that might have been raped during the war women are always the first ones targeted during conflict this is kibera, kenya, one of the largest slums of africa you might have seen images about the postelection violence that happened there in 2008 this time we covered the roofs of the houses, but we didnt use paper, because paper doesnt prevent the rain from leaking inside the house vinyl does then art becomes useful so the people kept it you know what i love is, for example, when you see the biggest eye there, there are so houses inside and i went there a few months ago photos are still there and it was missing a piece of the eye so i asked the people what happened oh, that guy just moved when the roofs were covered, a woman said as a joke, now god can see me when you look at kibera now, they look back okay, india before i start that, just so you know, each time we go to a place, we dont have authorization, so we set up like commandos were a group of friends who arrive there, and we try to paste on the walls but there are places where you just cant paste on a wall in india it was just impossible to paste i heard culturally and because of the law, they would just arrest us at the first pasting so we decided to paste white, white on the walls so imagine white guys pasting white papers so people would come to us and ask us, hey, what are you up to oh, you know, were just doing art art of course, they were confused but you know how india has a lot of dust in the streets, and the more dust you would have going up in the air, on the white paper you can almost see, but there is this sticky part like when you reverse a sticker so the more dust you have, the more it will reveal the photo so we could just walk in the street during the next days and the photos would get revealed by themselves thank you so we didnt get caught this time each project thats a film from women are heroes okay for each project we do a film and most of what you see thats a trailer from women are heroes its images, photography, taken one after the other and the photos kept traveling even without us hopefully, youll see the film, and youll understand the scope of the project and what the people felt when they saw those photos because thats a big part of it theres layers behind each photo behind each image is a story women are heroes created a new dynamic in each of the communities, and the women kept that dynamic after we left for example, we did books not for sale that all the community would get but to get it, they would have to it signed by one of the women we did that in most of the places we go back regularly and so in providencia, for example, in the favela, we have a cultural center running there in kibera, each year we cover more roofs because of course, when we left, the people who were just at the edge of the project said, hey, what about my roof so we decided to come the year after and keep doing the project a really important point for me is that i dont use any brand or corporate sponsors so i have no responsibility to anyone but myself and the subjects and that is for me one of the more important things in the work i think, today, as important as the result is the way you do things and that has always been a central part of the work and whats interesting is that fine line that i have with images and advertising we just did some pasting in los angeles on another project in the last weeks and i was even invited to cover the moca museum but yesterday the city called them and said, look, youre going to have to tear it down because this can be taken for advertising, and because of the law, it has to be taken down but tell me, advertising for what the people i photograph were proud to participate in the project and to have their photo in the community but they asked me for a promise basically they asked me, please, make our story travel with you so i did thats paris thats rio in each place, we built exhibitions with a story, and the story traveled you understand the full scope of the project thats london new york and today, they are with you in long beach all right, recently i started a public art project where i dont use my artwork anymore i use man ray, helen levitt, giacomelli, other peoples artwork it doesnt matter today if its your photo or not the importance is what you do with the images, the statement it makes where its pasted so for example, i pasted the photo of the minaret in switzerland a few weeks after they voted the law forbidding minarets in the country this image of three men wearing gas masks was taken in chernobyl originally, and i pasted it in southern italy, where the mafia sometimes bury the garbage under the ground in some ways, art can change the world art is not supposed to change the world, to change practical things, but to change perceptions art can change the way we see the world art can create an analogy actually the fact that art cannot change things makes it a neutral place for exchanges and discussions, and then enables you to change the world when i do my work, i have two kinds of reactions people say, oh, why dont you go in iraq or afghanistan they would be really useful or, how can we help i presume that you belong to the second category, and thats good, because for that project, im going to ask you to take the photos and paste them so now my wish is i wish for you to stand up for what you care about by participating in a global art project, and together well turn the world inside out and this starts right now yes, everyone in the room everyone watching i wanted that wish to actually start now so a subject youre passionate about, a person who you want to tell their story or even your own photos tell me what you stand for take the photos, the portraits, upload it ill give you all the details and ill send you back your poster join by groups and reveal things to the world the full data is on the website insideoutproject net that is launching today what we see changes who we are when we act together, the whole thing is much more than the sum of the parts so i hope that, together, well create something that the world will remember and this starts right now and depends on you thank you thank you",
         "1.0",
         "1.0",
         "1.0"
        ],
        [
         "2",
         "sumy_luhn",
         "two weeks ago i was in my studio in paris, and the phone rang and i heard, hey, jr, you won the ted prize 2011 you have to make a wish to save the world i was lost i mean, i cant save the world nobody can the world is fucked up come on, you have dictators ruling the world, population is growing by millions, theres no more fish in the sea, the north pole is melting and as the last ted prize winner said, were all becoming fat except maybe french people whatever so i called back and i told her, look, amy, tell the ted guys i just wont show up i cant do anything to save the world she said, hey, jr, your wish is not to save the world, but to change the world oh, all right thats cool i mean, technology, politics, business do change the world not always in a good way, but they do what about art could art change the world i started when i was 15 years old and at that time, i was not thinking about changing the world i was doing graffiti writing my name everywhere, using the city as a canvas i was going in the tunnels of paris, on the rooftops with my friends each trip was an excursion, was an adventure it was like leaving our mark on society, to say, i was here, on the top of a building so when i found a cheap camera on the subway, i started documenting those adventures with my friends and gave them back as photocopies really small photos just that size thats how, at 17 years old, i started pasting them and i did my first expo de rue, which means sidewalk gallery and i framed it with color so you would not confuse it with advertising i mean, the citys the best gallery i could imagine i would never have to make a book and then present it to a gallery and let them decide if my work was nice enough to show it to people i would control it directly with the public in the streets so thats paris i would change depending on the places i would go the title of the exhibition thats on the champselysees i was quite proud of that one because i was just 18 and i was just up there on the top of the champselysees then when the photo left, the frame was still there november 2005 the streets are burning a large wave of riots had broken into the first projects of paris everyone was glued to the tv, watching disturbing, frightening images taken from the edge of the neighborhood i mean, these kids, without control, throwing molotov cocktails, attacking the cops and the firemen, looting everything they could in the shops these were criminals, thugs, dangerous, destroying their own environment and then i saw it could it be possible my photo on a wall revealed by a burning car a pasting id done a year earlier an illegal one still there i mean, these were the faces of my friends i know those guys all of them are not angels, but theyre not monsters either so it was kind of weird to see those images and those eyes stare back at me through a television so i went back there with a 28 mm lens it was the only one i had at that time but with that lens, you have to be as close as 10 inches from the person so you can do it only with their trust so i took full portraits of people from le bosquet they were making scary faces to play the caricature of themselves and then i pasted huge posters everywhere in the bourgeois area of paris with the name, age, even building number of these guys a year later, the exhibition was displayed in front of the city hall of paris and we go from thug images, whove been stolen and distorted by the media, whos now proudly taking over his own image thats where i realized the power of paper and glue so could art change the world a year later, i was listening to all the noise about the middle east conflict i mean, at that time, trust me, they were only referring to the israeli and palestinian conflict so with my friend marco, we decided to go there and see who are the real palestinians and who are the real israelis are they so different when we got there, we just went in the street, started talking with people everywhere, and we realized that things were a bit different from the rhetoric we heard in the media so we decided to take portraits of palestinians and israelis doing the same jobs taxidriver, lawyer, cooks asked them to make a face as a sign of commitment not a smile that really doesnt tell about who you are and what you feel they all accepted to be pasted next to the other i decided to paste in eight israeli and palestinian cities and on both sides of the wall we launched the biggest illegal art exhibition ever we called the project face 2 face the experts said, no way the people will not accept the army will shoot you, and hamas will kidnap you we said, okay, lets try and push as far as we can i love the way that people will ask me, how big will my photo be it will be as big as your house when we did the wall, we did the palestinian side so we arrived with just our ladders and we realized that they were not high enough and so palestinians guys say, calm down no wait im going to find you a solution so he went to the church of nativity and brought back an old ladder that was so old that it could have seen jesus being born we did face 2 face with only six friends, two ladders, two brushes, a rented car, a camera and 20,000 square feet of paper we had all sorts of help from all walks of life okay, for example, thats palestine were in ramallah right now were pasting portraits so both portraits in the streets in a crowded market people come around us and start asking, what are you doing here oh, were actually doing an art project and we are pasting an israeli and a palestinian doing the same job and those ones are actually two taxidrivers and then there was always a silence you mean youre pasting an israeli face doing a face right here well, yeah, yeah, thats part of the project and i would always leave that moment, and we would ask them, so can you tell me who is who and most of them couldnt say we even pasted on israeli military towers, and nothing happened when you paste an image, its just paper and glue people can tear it, tag on it, or even pee on it some are a bit high for that, i agree but the people in the street, they are the curator the rain and the wind will take them off anyway they are not meant to stay but exactly four years after, the photos, most of them are still there face 2 face demonstrated that what we thought impossible was possible and, you know what, even easy we didnt push the limit we just showed that they were further than anyone thought in the middle east, i experienced my work in places without museums so the reactions in the street were kind of interesting so i decided to go further in this direction and go in places where there were zero museums when you go in these developing societies, women are the pillars of their community, but the men are still the ones holding the streets so we were inspired to create a project where men will pay tribute to women by posting their photos i called that project women are heroes when i listened to all the stories everywhere i went on the continents, i couldnt always understand the complicated circumstances of their conflict i just observed sometimes there was no words, no sentence, just tears i just took their pictures and pasted them women are heroes took me around the world most of the places i went to, i decided to go there because ive heard about it through the media so for example, in june 2008, i was watching tv in paris, and then i heard about this terrible thing that happened in rio de janeiro the first favela of brazil named providencia three kids that was three students were by the army because they were not carrying their papers and the army took them, and instead of bringing them to the police station, they brought them to an enemy favela where they get chopped into pieces i was shocked all brazil was shocked i heard it was one of the most violent favelas, because the largest drug cartel controls it so i decided to go there when i arrived i mean, i didnt have any contact with any ngo there was none in place no association, no ngos, nothing no eyewitnesses so we just walked around, and we met a woman, and i showed her my book and she said, you know what were hungry for culture we need culture out there so i went out and i started with the kids i just took a few photos of the kids, and the next day i came with the posters and we pasted them the day after, i came back and they were already scratched but thats okay i wanted them to feel that this art belongs to them then the next day, i held a meeting on the main square and some women came they were all linked to the three kids that got killed there was the mother, the grandmother, the best friend they all wanted to shout the story after that day, everyone in the favela gave me the green light i took more photos, and we started the project the drug lords were kind of worried about us filming in the place, so i told them, you know what im not interested in filming the violence and the weapons you see that enough in the media what i want to show is the incredible life and energy ive been seeing it around me the last few days so thats a really symbolic pasting, because thats the first one we did that you couldnt see from the city and thats where the three kids got arrested, and thats the grandmother of one of them and on that stairs, thats where the traffickers always stand and theres a lot of exchange of fire everyone there understood the project and then we pasted everywhere the whole hill what was interesting is that the media couldnt get in i mean, you should see that they would have to film us from a really long distance by helicopter and then have a really long lens, and we would see ourselves, on tv, pasting and they would put a number please call this number if you know whats going on in providencia we just did a project and then left so the media wouldnt know so how can we know about the project so they had to go and find the women and get an explanation from them so you create a bridge between the media and the anonymous women we kept traveling we went to africa, sudan, sierra leone, liberia, kenya in wartorn places like monrovia, people come straight to you i mean, they want to know what youre up to they kept asking me, what is the purpose of your project are you an ngo are you the media art just doing art some people question, why is it in black and white dont you have color in france or they tell you, are these people all dead some who understood the project would explain it to others and to a man who did not understand, i heard someone say, you know, youve been here for a few hours trying to understand, discussing with your fellows during that time, you havent thought about what youre going to eat tomorrow this is art i think its peoples curiosity that motivates them to come into the projects and then it becomes more it becomes a desire, a need, an armor on this bridge thats in monrovia, exrebel soldiers helped us pasting a portrait of a woman that might have been raped during the war women are always the first ones targeted during conflict this is kibera, kenya, one of the largest slums of africa you might have seen images about the postelection violence that happened there in 2008 this time we covered the roofs of the houses, but we didnt use paper, because paper doesnt prevent the rain from leaking inside the house vinyl does then art becomes useful so the people kept it you know what i love is, for example, when you see the biggest eye there, there are so houses inside and i went there a few months ago photos are still there and it was missing a piece of the eye so i asked the people what happened oh, that guy just moved when the roofs were covered, a woman said as a joke, now god can see me when you look at kibera now, they look back okay, india before i start that, just so you know, each time we go to a place, we dont have authorization, so we set up like commandos were a group of friends who arrive there, and we try to paste on the walls but there are places where you just cant paste on a wall in india it was just impossible to paste i heard culturally and because of the law, they would just arrest us at the first pasting so we decided to paste white, white on the walls so imagine white guys pasting white papers so people would come to us and ask us, hey, what are you up to oh, you know, were just doing art art of course, they were confused but you know how india has a lot of dust in the streets, and the more dust you would have going up in the air, on the white paper you can almost see, but there is this sticky part like when you reverse a sticker so the more dust you have, the more it will reveal the photo so we could just walk in the street during the next days and the photos would get revealed by themselves thank you so we didnt get caught this time each project thats a film from women are heroes okay for each project we do a film and most of what you see thats a trailer from women are heroes its images, photography, taken one after the other and the photos kept traveling even without us hopefully, youll see the film, and youll understand the scope of the project and what the people felt when they saw those photos because thats a big part of it theres layers behind each photo behind each image is a story women are heroes created a new dynamic in each of the communities, and the women kept that dynamic after we left for example, we did books not for sale that all the community would get but to get it, they would have to it signed by one of the women we did that in most of the places we go back regularly and so in providencia, for example, in the favela, we have a cultural center running there in kibera, each year we cover more roofs because of course, when we left, the people who were just at the edge of the project said, hey, what about my roof so we decided to come the year after and keep doing the project a really important point for me is that i dont use any brand or corporate sponsors so i have no responsibility to anyone but myself and the subjects and that is for me one of the more important things in the work i think, today, as important as the result is the way you do things and that has always been a central part of the work and whats interesting is that fine line that i have with images and advertising we just did some pasting in los angeles on another project in the last weeks and i was even invited to cover the moca museum but yesterday the city called them and said, look, youre going to have to tear it down because this can be taken for advertising, and because of the law, it has to be taken down but tell me, advertising for what the people i photograph were proud to participate in the project and to have their photo in the community but they asked me for a promise basically they asked me, please, make our story travel with you so i did thats paris thats rio in each place, we built exhibitions with a story, and the story traveled you understand the full scope of the project thats london new york and today, they are with you in long beach all right, recently i started a public art project where i dont use my artwork anymore i use man ray, helen levitt, giacomelli, other peoples artwork it doesnt matter today if its your photo or not the importance is what you do with the images, the statement it makes where its pasted so for example, i pasted the photo of the minaret in switzerland a few weeks after they voted the law forbidding minarets in the country this image of three men wearing gas masks was taken in chernobyl originally, and i pasted it in southern italy, where the mafia sometimes bury the garbage under the ground in some ways, art can change the world art is not supposed to change the world, to change practical things, but to change perceptions art can change the way we see the world art can create an analogy actually the fact that art cannot change things makes it a neutral place for exchanges and discussions, and then enables you to change the world when i do my work, i have two kinds of reactions people say, oh, why dont you go in iraq or afghanistan they would be really useful or, how can we help i presume that you belong to the second category, and thats good, because for that project, im going to ask you to take the photos and paste them so now my wish is i wish for you to stand up for what you care about by participating in a global art project, and together well turn the world inside out and this starts right now yes, everyone in the room everyone watching i wanted that wish to actually start now so a subject youre passionate about, a person who you want to tell their story or even your own photos tell me what you stand for take the photos, the portraits, upload it ill give you all the details and ill send you back your poster join by groups and reveal things to the world the full data is on the website insideoutproject net that is launching today what we see changes who we are when we act together, the whole thing is much more than the sum of the parts so i hope that, together, well create something that the world will remember and this starts right now and depends on you thank you thank you",
         "1.0",
         "1.0",
         "1.0"
        ],
        [
         "3",
         "sumy_textrank",
         "two weeks ago i was in my studio in paris, and the phone rang and i heard, hey, jr, you won the ted prize 2011 you have to make a wish to save the world i was lost i mean, i cant save the world nobody can the world is fucked up come on, you have dictators ruling the world, population is growing by millions, theres no more fish in the sea, the north pole is melting and as the last ted prize winner said, were all becoming fat except maybe french people whatever so i called back and i told her, look, amy, tell the ted guys i just wont show up i cant do anything to save the world she said, hey, jr, your wish is not to save the world, but to change the world oh, all right thats cool i mean, technology, politics, business do change the world not always in a good way, but they do what about art could art change the world i started when i was 15 years old and at that time, i was not thinking about changing the world i was doing graffiti writing my name everywhere, using the city as a canvas i was going in the tunnels of paris, on the rooftops with my friends each trip was an excursion, was an adventure it was like leaving our mark on society, to say, i was here, on the top of a building so when i found a cheap camera on the subway, i started documenting those adventures with my friends and gave them back as photocopies really small photos just that size thats how, at 17 years old, i started pasting them and i did my first expo de rue, which means sidewalk gallery and i framed it with color so you would not confuse it with advertising i mean, the citys the best gallery i could imagine i would never have to make a book and then present it to a gallery and let them decide if my work was nice enough to show it to people i would control it directly with the public in the streets so thats paris i would change depending on the places i would go the title of the exhibition thats on the champselysees i was quite proud of that one because i was just 18 and i was just up there on the top of the champselysees then when the photo left, the frame was still there november 2005 the streets are burning a large wave of riots had broken into the first projects of paris everyone was glued to the tv, watching disturbing, frightening images taken from the edge of the neighborhood i mean, these kids, without control, throwing molotov cocktails, attacking the cops and the firemen, looting everything they could in the shops these were criminals, thugs, dangerous, destroying their own environment and then i saw it could it be possible my photo on a wall revealed by a burning car a pasting id done a year earlier an illegal one still there i mean, these were the faces of my friends i know those guys all of them are not angels, but theyre not monsters either so it was kind of weird to see those images and those eyes stare back at me through a television so i went back there with a 28 mm lens it was the only one i had at that time but with that lens, you have to be as close as 10 inches from the person so you can do it only with their trust so i took full portraits of people from le bosquet they were making scary faces to play the caricature of themselves and then i pasted huge posters everywhere in the bourgeois area of paris with the name, age, even building number of these guys a year later, the exhibition was displayed in front of the city hall of paris and we go from thug images, whove been stolen and distorted by the media, whos now proudly taking over his own image thats where i realized the power of paper and glue so could art change the world a year later, i was listening to all the noise about the middle east conflict i mean, at that time, trust me, they were only referring to the israeli and palestinian conflict so with my friend marco, we decided to go there and see who are the real palestinians and who are the real israelis are they so different when we got there, we just went in the street, started talking with people everywhere, and we realized that things were a bit different from the rhetoric we heard in the media so we decided to take portraits of palestinians and israelis doing the same jobs taxidriver, lawyer, cooks asked them to make a face as a sign of commitment not a smile that really doesnt tell about who you are and what you feel they all accepted to be pasted next to the other i decided to paste in eight israeli and palestinian cities and on both sides of the wall we launched the biggest illegal art exhibition ever we called the project face 2 face the experts said, no way the people will not accept the army will shoot you, and hamas will kidnap you we said, okay, lets try and push as far as we can i love the way that people will ask me, how big will my photo be it will be as big as your house when we did the wall, we did the palestinian side so we arrived with just our ladders and we realized that they were not high enough and so palestinians guys say, calm down no wait im going to find you a solution so he went to the church of nativity and brought back an old ladder that was so old that it could have seen jesus being born we did face 2 face with only six friends, two ladders, two brushes, a rented car, a camera and 20,000 square feet of paper we had all sorts of help from all walks of life okay, for example, thats palestine were in ramallah right now were pasting portraits so both portraits in the streets in a crowded market people come around us and start asking, what are you doing here oh, were actually doing an art project and we are pasting an israeli and a palestinian doing the same job and those ones are actually two taxidrivers and then there was always a silence you mean youre pasting an israeli face doing a face right here well, yeah, yeah, thats part of the project and i would always leave that moment, and we would ask them, so can you tell me who is who and most of them couldnt say we even pasted on israeli military towers, and nothing happened when you paste an image, its just paper and glue people can tear it, tag on it, or even pee on it some are a bit high for that, i agree but the people in the street, they are the curator the rain and the wind will take them off anyway they are not meant to stay but exactly four years after, the photos, most of them are still there face 2 face demonstrated that what we thought impossible was possible and, you know what, even easy we didnt push the limit we just showed that they were further than anyone thought in the middle east, i experienced my work in places without museums so the reactions in the street were kind of interesting so i decided to go further in this direction and go in places where there were zero museums when you go in these developing societies, women are the pillars of their community, but the men are still the ones holding the streets so we were inspired to create a project where men will pay tribute to women by posting their photos i called that project women are heroes when i listened to all the stories everywhere i went on the continents, i couldnt always understand the complicated circumstances of their conflict i just observed sometimes there was no words, no sentence, just tears i just took their pictures and pasted them women are heroes took me around the world most of the places i went to, i decided to go there because ive heard about it through the media so for example, in june 2008, i was watching tv in paris, and then i heard about this terrible thing that happened in rio de janeiro the first favela of brazil named providencia three kids that was three students were by the army because they were not carrying their papers and the army took them, and instead of bringing them to the police station, they brought them to an enemy favela where they get chopped into pieces i was shocked all brazil was shocked i heard it was one of the most violent favelas, because the largest drug cartel controls it so i decided to go there when i arrived i mean, i didnt have any contact with any ngo there was none in place no association, no ngos, nothing no eyewitnesses so we just walked around, and we met a woman, and i showed her my book and she said, you know what were hungry for culture we need culture out there so i went out and i started with the kids i just took a few photos of the kids, and the next day i came with the posters and we pasted them the day after, i came back and they were already scratched but thats okay i wanted them to feel that this art belongs to them then the next day, i held a meeting on the main square and some women came they were all linked to the three kids that got killed there was the mother, the grandmother, the best friend they all wanted to shout the story after that day, everyone in the favela gave me the green light i took more photos, and we started the project the drug lords were kind of worried about us filming in the place, so i told them, you know what im not interested in filming the violence and the weapons you see that enough in the media what i want to show is the incredible life and energy ive been seeing it around me the last few days so thats a really symbolic pasting, because thats the first one we did that you couldnt see from the city and thats where the three kids got arrested, and thats the grandmother of one of them and on that stairs, thats where the traffickers always stand and theres a lot of exchange of fire everyone there understood the project and then we pasted everywhere the whole hill what was interesting is that the media couldnt get in i mean, you should see that they would have to film us from a really long distance by helicopter and then have a really long lens, and we would see ourselves, on tv, pasting and they would put a number please call this number if you know whats going on in providencia we just did a project and then left so the media wouldnt know so how can we know about the project so they had to go and find the women and get an explanation from them so you create a bridge between the media and the anonymous women we kept traveling we went to africa, sudan, sierra leone, liberia, kenya in wartorn places like monrovia, people come straight to you i mean, they want to know what youre up to they kept asking me, what is the purpose of your project are you an ngo are you the media art just doing art some people question, why is it in black and white dont you have color in france or they tell you, are these people all dead some who understood the project would explain it to others and to a man who did not understand, i heard someone say, you know, youve been here for a few hours trying to understand, discussing with your fellows during that time, you havent thought about what youre going to eat tomorrow this is art i think its peoples curiosity that motivates them to come into the projects and then it becomes more it becomes a desire, a need, an armor on this bridge thats in monrovia, exrebel soldiers helped us pasting a portrait of a woman that might have been raped during the war women are always the first ones targeted during conflict this is kibera, kenya, one of the largest slums of africa you might have seen images about the postelection violence that happened there in 2008 this time we covered the roofs of the houses, but we didnt use paper, because paper doesnt prevent the rain from leaking inside the house vinyl does then art becomes useful so the people kept it you know what i love is, for example, when you see the biggest eye there, there are so houses inside and i went there a few months ago photos are still there and it was missing a piece of the eye so i asked the people what happened oh, that guy just moved when the roofs were covered, a woman said as a joke, now god can see me when you look at kibera now, they look back okay, india before i start that, just so you know, each time we go to a place, we dont have authorization, so we set up like commandos were a group of friends who arrive there, and we try to paste on the walls but there are places where you just cant paste on a wall in india it was just impossible to paste i heard culturally and because of the law, they would just arrest us at the first pasting so we decided to paste white, white on the walls so imagine white guys pasting white papers so people would come to us and ask us, hey, what are you up to oh, you know, were just doing art art of course, they were confused but you know how india has a lot of dust in the streets, and the more dust you would have going up in the air, on the white paper you can almost see, but there is this sticky part like when you reverse a sticker so the more dust you have, the more it will reveal the photo so we could just walk in the street during the next days and the photos would get revealed by themselves thank you so we didnt get caught this time each project thats a film from women are heroes okay for each project we do a film and most of what you see thats a trailer from women are heroes its images, photography, taken one after the other and the photos kept traveling even without us hopefully, youll see the film, and youll understand the scope of the project and what the people felt when they saw those photos because thats a big part of it theres layers behind each photo behind each image is a story women are heroes created a new dynamic in each of the communities, and the women kept that dynamic after we left for example, we did books not for sale that all the community would get but to get it, they would have to it signed by one of the women we did that in most of the places we go back regularly and so in providencia, for example, in the favela, we have a cultural center running there in kibera, each year we cover more roofs because of course, when we left, the people who were just at the edge of the project said, hey, what about my roof so we decided to come the year after and keep doing the project a really important point for me is that i dont use any brand or corporate sponsors so i have no responsibility to anyone but myself and the subjects and that is for me one of the more important things in the work i think, today, as important as the result is the way you do things and that has always been a central part of the work and whats interesting is that fine line that i have with images and advertising we just did some pasting in los angeles on another project in the last weeks and i was even invited to cover the moca museum but yesterday the city called them and said, look, youre going to have to tear it down because this can be taken for advertising, and because of the law, it has to be taken down but tell me, advertising for what the people i photograph were proud to participate in the project and to have their photo in the community but they asked me for a promise basically they asked me, please, make our story travel with you so i did thats paris thats rio in each place, we built exhibitions with a story, and the story traveled you understand the full scope of the project thats london new york and today, they are with you in long beach all right, recently i started a public art project where i dont use my artwork anymore i use man ray, helen levitt, giacomelli, other peoples artwork it doesnt matter today if its your photo or not the importance is what you do with the images, the statement it makes where its pasted so for example, i pasted the photo of the minaret in switzerland a few weeks after they voted the law forbidding minarets in the country this image of three men wearing gas masks was taken in chernobyl originally, and i pasted it in southern italy, where the mafia sometimes bury the garbage under the ground in some ways, art can change the world art is not supposed to change the world, to change practical things, but to change perceptions art can change the way we see the world art can create an analogy actually the fact that art cannot change things makes it a neutral place for exchanges and discussions, and then enables you to change the world when i do my work, i have two kinds of reactions people say, oh, why dont you go in iraq or afghanistan they would be really useful or, how can we help i presume that you belong to the second category, and thats good, because for that project, im going to ask you to take the photos and paste them so now my wish is i wish for you to stand up for what you care about by participating in a global art project, and together well turn the world inside out and this starts right now yes, everyone in the room everyone watching i wanted that wish to actually start now so a subject youre passionate about, a person who you want to tell their story or even your own photos tell me what you stand for take the photos, the portraits, upload it ill give you all the details and ill send you back your poster join by groups and reveal things to the world the full data is on the website insideoutproject net that is launching today what we see changes who we are when we act together, the whole thing is much more than the sum of the parts so i hope that, together, well create something that the world will remember and this starts right now and depends on you thank you thank you",
         "1.0",
         "1.0",
         "1.0"
        ]
       ],
       "shape": {
        "columns": 5,
        "rows": 4
       }
      },
      "text/html": [
       "<div>\n",
       "<style scoped>\n",
       "    .dataframe tbody tr th:only-of-type {\n",
       "        vertical-align: middle;\n",
       "    }\n",
       "\n",
       "    .dataframe tbody tr th {\n",
       "        vertical-align: top;\n",
       "    }\n",
       "\n",
       "    .dataframe thead th {\n",
       "        text-align: right;\n",
       "    }\n",
       "</style>\n",
       "<table border=\"1\" class=\"dataframe\">\n",
       "  <thead>\n",
       "    <tr style=\"text-align: right;\">\n",
       "      <th></th>\n",
       "      <th>Method</th>\n",
       "      <th>Summary</th>\n",
       "      <th>Cosine Similarity</th>\n",
       "      <th>Coverage</th>\n",
       "      <th>Compression Ratio</th>\n",
       "    </tr>\n",
       "  </thead>\n",
       "  <tbody>\n",
       "    <tr>\n",
       "      <th>0</th>\n",
       "      <td>pytextrank</td>\n",
       "      <td>so i did thats paris thats rio in each place, ...</td>\n",
       "      <td>0.8299</td>\n",
       "      <td>1.0</td>\n",
       "      <td>0.3763</td>\n",
       "    </tr>\n",
       "    <tr>\n",
       "      <th>1</th>\n",
       "      <td>sumy_lsa</td>\n",
       "      <td>two weeks ago i was in my studio in paris, and...</td>\n",
       "      <td>1.0000</td>\n",
       "      <td>1.0</td>\n",
       "      <td>1.0000</td>\n",
       "    </tr>\n",
       "    <tr>\n",
       "      <th>2</th>\n",
       "      <td>sumy_luhn</td>\n",
       "      <td>two weeks ago i was in my studio in paris, and...</td>\n",
       "      <td>1.0000</td>\n",
       "      <td>1.0</td>\n",
       "      <td>1.0000</td>\n",
       "    </tr>\n",
       "    <tr>\n",
       "      <th>3</th>\n",
       "      <td>sumy_textrank</td>\n",
       "      <td>two weeks ago i was in my studio in paris, and...</td>\n",
       "      <td>1.0000</td>\n",
       "      <td>1.0</td>\n",
       "      <td>1.0000</td>\n",
       "    </tr>\n",
       "  </tbody>\n",
       "</table>\n",
       "</div>"
      ],
      "text/plain": [
       "          Method                                            Summary  \\\n",
       "0     pytextrank  so i did thats paris thats rio in each place, ...   \n",
       "1       sumy_lsa  two weeks ago i was in my studio in paris, and...   \n",
       "2      sumy_luhn  two weeks ago i was in my studio in paris, and...   \n",
       "3  sumy_textrank  two weeks ago i was in my studio in paris, and...   \n",
       "\n",
       "   Cosine Similarity  Coverage  Compression Ratio  \n",
       "0             0.8299       1.0             0.3763  \n",
       "1             1.0000       1.0             1.0000  \n",
       "2             1.0000       1.0             1.0000  \n",
       "3             1.0000       1.0             1.0000  "
      ]
     },
     "execution_count": 69,
     "metadata": {},
     "output_type": "execute_result"
    }
   ],
   "source": [
    "df2"
   ]
  },
  {
   "cell_type": "code",
   "execution_count": null,
   "id": "e8326809",
   "metadata": {},
   "outputs": [
    {
     "ename": "RuntimeError",
     "evalue": "Failed to import transformers.models.bart.modeling_bart because of the following error (look up to see its traceback):\npartially initialized module 'torch._dynamo' has no attribute 'external_utils' (most likely due to a circular import)",
     "output_type": "error",
     "traceback": [
      "\u001b[1;31m---------------------------------------------------------------------------\u001b[0m",
      "\u001b[1;31mAttributeError\u001b[0m                            Traceback (most recent call last)",
      "File \u001b[1;32m~\\AppData\\Roaming\\Python\\Python312\\site-packages\\transformers\\utils\\import_utils.py:1967\u001b[0m, in \u001b[0;36m_LazyModule._get_module\u001b[1;34m(self, module_name)\u001b[0m\n\u001b[0;32m   1966\u001b[0m \u001b[38;5;28;01mtry\u001b[39;00m:\n\u001b[1;32m-> 1967\u001b[0m     \u001b[38;5;28;01mreturn\u001b[39;00m \u001b[43mimportlib\u001b[49m\u001b[38;5;241;43m.\u001b[39;49m\u001b[43mimport_module\u001b[49m\u001b[43m(\u001b[49m\u001b[38;5;124;43m\"\u001b[39;49m\u001b[38;5;124;43m.\u001b[39;49m\u001b[38;5;124;43m\"\u001b[39;49m\u001b[43m \u001b[49m\u001b[38;5;241;43m+\u001b[39;49m\u001b[43m \u001b[49m\u001b[43mmodule_name\u001b[49m\u001b[43m,\u001b[49m\u001b[43m \u001b[49m\u001b[38;5;28;43mself\u001b[39;49m\u001b[38;5;241;43m.\u001b[39;49m\u001b[38;5;18;43m__name__\u001b[39;49m\u001b[43m)\u001b[49m\n\u001b[0;32m   1968\u001b[0m \u001b[38;5;28;01mexcept\u001b[39;00m \u001b[38;5;167;01mException\u001b[39;00m \u001b[38;5;28;01mas\u001b[39;00m e:\n",
      "File \u001b[1;32mc:\\Program Files\\Python312\\Lib\\importlib\\__init__.py:90\u001b[0m, in \u001b[0;36mimport_module\u001b[1;34m(name, package)\u001b[0m\n\u001b[0;32m     89\u001b[0m         level \u001b[38;5;241m+\u001b[39m\u001b[38;5;241m=\u001b[39m \u001b[38;5;241m1\u001b[39m\n\u001b[1;32m---> 90\u001b[0m \u001b[38;5;28;01mreturn\u001b[39;00m \u001b[43m_bootstrap\u001b[49m\u001b[38;5;241;43m.\u001b[39;49m\u001b[43m_gcd_import\u001b[49m\u001b[43m(\u001b[49m\u001b[43mname\u001b[49m\u001b[43m[\u001b[49m\u001b[43mlevel\u001b[49m\u001b[43m:\u001b[49m\u001b[43m]\u001b[49m\u001b[43m,\u001b[49m\u001b[43m \u001b[49m\u001b[43mpackage\u001b[49m\u001b[43m,\u001b[49m\u001b[43m \u001b[49m\u001b[43mlevel\u001b[49m\u001b[43m)\u001b[49m\n",
      "File \u001b[1;32m<frozen importlib._bootstrap>:1387\u001b[0m, in \u001b[0;36m_gcd_import\u001b[1;34m(name, package, level)\u001b[0m\n",
      "File \u001b[1;32m<frozen importlib._bootstrap>:1360\u001b[0m, in \u001b[0;36m_find_and_load\u001b[1;34m(name, import_)\u001b[0m\n",
      "File \u001b[1;32m<frozen importlib._bootstrap>:1331\u001b[0m, in \u001b[0;36m_find_and_load_unlocked\u001b[1;34m(name, import_)\u001b[0m\n",
      "File \u001b[1;32m<frozen importlib._bootstrap>:935\u001b[0m, in \u001b[0;36m_load_unlocked\u001b[1;34m(spec)\u001b[0m\n",
      "File \u001b[1;32m<frozen importlib._bootstrap_external>:995\u001b[0m, in \u001b[0;36mexec_module\u001b[1;34m(self, module)\u001b[0m\n",
      "File \u001b[1;32m<frozen importlib._bootstrap>:488\u001b[0m, in \u001b[0;36m_call_with_frames_removed\u001b[1;34m(f, *args, **kwds)\u001b[0m\n",
      "File \u001b[1;32m~\\AppData\\Roaming\\Python\\Python312\\site-packages\\transformers\\models\\bart\\modeling_bart.py:45\u001b[0m\n\u001b[0;32m     36\u001b[0m \u001b[38;5;28;01mfrom\u001b[39;00m \u001b[38;5;21;01m.\u001b[39;00m\u001b[38;5;21;01m.\u001b[39;00m\u001b[38;5;21;01m.\u001b[39;00m\u001b[38;5;21;01mmodeling_outputs\u001b[39;00m \u001b[38;5;28;01mimport\u001b[39;00m (\n\u001b[0;32m     37\u001b[0m     BaseModelOutput,\n\u001b[0;32m     38\u001b[0m     BaseModelOutputWithPastAndCrossAttentions,\n\u001b[1;32m   (...)\u001b[0m\n\u001b[0;32m     43\u001b[0m     Seq2SeqSequenceClassifierOutput,\n\u001b[0;32m     44\u001b[0m )\n\u001b[1;32m---> 45\u001b[0m \u001b[38;5;28;01mfrom\u001b[39;00m \u001b[38;5;21;01m.\u001b[39;00m\u001b[38;5;21;01m.\u001b[39;00m\u001b[38;5;21;01m.\u001b[39;00m\u001b[38;5;21;01mmodeling_utils\u001b[39;00m \u001b[38;5;28;01mimport\u001b[39;00m PreTrainedModel\n\u001b[0;32m     46\u001b[0m \u001b[38;5;28;01mfrom\u001b[39;00m \u001b[38;5;21;01m.\u001b[39;00m\u001b[38;5;21;01m.\u001b[39;00m\u001b[38;5;21;01m.\u001b[39;00m\u001b[38;5;21;01mutils\u001b[39;00m \u001b[38;5;28;01mimport\u001b[39;00m (\n\u001b[0;32m     47\u001b[0m     add_code_sample_docstrings,\n\u001b[0;32m     48\u001b[0m     add_end_docstrings,\n\u001b[1;32m   (...)\u001b[0m\n\u001b[0;32m     52\u001b[0m     replace_return_docstrings,\n\u001b[0;32m     53\u001b[0m )\n",
      "File \u001b[1;32m~\\AppData\\Roaming\\Python\\Python312\\site-packages\\transformers\\modeling_utils.py:63\u001b[0m\n\u001b[0;32m     62\u001b[0m \u001b[38;5;28;01mfrom\u001b[39;00m \u001b[38;5;21;01m.\u001b[39;00m\u001b[38;5;21;01mintegrations\u001b[39;00m\u001b[38;5;21;01m.\u001b[39;00m\u001b[38;5;21;01mflash_attention\u001b[39;00m \u001b[38;5;28;01mimport\u001b[39;00m flash_attention_forward\n\u001b[1;32m---> 63\u001b[0m \u001b[38;5;28;01mfrom\u001b[39;00m \u001b[38;5;21;01m.\u001b[39;00m\u001b[38;5;21;01mintegrations\u001b[39;00m\u001b[38;5;21;01m.\u001b[39;00m\u001b[38;5;21;01mflex_attention\u001b[39;00m \u001b[38;5;28;01mimport\u001b[39;00m flex_attention_forward\n\u001b[0;32m     64\u001b[0m \u001b[38;5;28;01mfrom\u001b[39;00m \u001b[38;5;21;01m.\u001b[39;00m\u001b[38;5;21;01mintegrations\u001b[39;00m\u001b[38;5;21;01m.\u001b[39;00m\u001b[38;5;21;01msdpa_attention\u001b[39;00m \u001b[38;5;28;01mimport\u001b[39;00m sdpa_attention_forward\n",
      "File \u001b[1;32m~\\AppData\\Roaming\\Python\\Python312\\site-packages\\transformers\\integrations\\flex_attention.py:44\u001b[0m\n\u001b[0;32m     39\u001b[0m     \u001b[38;5;28;01mfrom\u001b[39;00m \u001b[38;5;21;01mtorch\u001b[39;00m\u001b[38;5;21;01m.\u001b[39;00m\u001b[38;5;21;01mnn\u001b[39;00m\u001b[38;5;21;01m.\u001b[39;00m\u001b[38;5;21;01mattention\u001b[39;00m\u001b[38;5;21;01m.\u001b[39;00m\u001b[38;5;21;01mflex_attention\u001b[39;00m \u001b[38;5;28;01mimport\u001b[39;00m (\n\u001b[0;32m     40\u001b[0m         create_block_mask \u001b[38;5;28;01mas\u001b[39;00m create_block_causal_mask_flex,\n\u001b[0;32m     41\u001b[0m     )\n\u001b[1;32m---> 44\u001b[0m \u001b[38;5;28;43;01mclass\u001b[39;49;00m\u001b[43m \u001b[49m\u001b[38;5;21;43;01mWrappedFlexAttention\u001b[39;49;00m\u001b[43m:\u001b[49m\n\u001b[0;32m     45\u001b[0m \u001b[38;5;250;43m    \u001b[39;49m\u001b[38;5;124;43;03m\"\"\"\u001b[39;49;00m\n\u001b[0;32m     46\u001b[0m \u001b[38;5;124;43;03m    We are doing a singleton class so that flex attention is compiled once when it's first called.\u001b[39;49;00m\n\u001b[0;32m     47\u001b[0m \u001b[38;5;124;43;03m    \"\"\"\u001b[39;49;00m\n",
      "File \u001b[1;32m~\\AppData\\Roaming\\Python\\Python312\\site-packages\\transformers\\integrations\\flex_attention.py:59\u001b[0m, in \u001b[0;36mWrappedFlexAttention\u001b[1;34m()\u001b[0m\n\u001b[0;32m     57\u001b[0m     \u001b[38;5;28;01mreturn\u001b[39;00m \u001b[38;5;28mcls\u001b[39m\u001b[38;5;241m.\u001b[39m_instance\n\u001b[1;32m---> 59\u001b[0m \u001b[38;5;129m@torch\u001b[39m\u001b[38;5;241;43m.\u001b[39;49m\u001b[43mcompiler\u001b[49m\u001b[38;5;241;43m.\u001b[39;49m\u001b[43mdisable\u001b[49m\u001b[43m(\u001b[49m\u001b[43mrecursive\u001b[49m\u001b[38;5;241;43m=\u001b[39;49m\u001b[38;5;28;43;01mFalse\u001b[39;49;00m\u001b[43m)\u001b[49m\n\u001b[0;32m     60\u001b[0m \u001b[38;5;28;01mdef\u001b[39;00m \u001b[38;5;21m__init__\u001b[39m(\u001b[38;5;28mself\u001b[39m, training):\n\u001b[0;32m     61\u001b[0m \u001b[38;5;250m    \u001b[39m\u001b[38;5;124;03m\"\"\"\u001b[39;00m\n\u001b[0;32m     62\u001b[0m \u001b[38;5;124;03m    Initialize or update the singleton instance.\u001b[39;00m\n\u001b[0;32m     63\u001b[0m \u001b[38;5;124;03m    \"\"\"\u001b[39;00m\n",
      "File \u001b[1;32m~\\AppData\\Roaming\\Python\\Python312\\site-packages\\torch\\compiler\\__init__.py:228\u001b[0m, in \u001b[0;36mdisable\u001b[1;34m(fn, recursive)\u001b[0m\n\u001b[0;32m    220\u001b[0m \u001b[38;5;250m\u001b[39m\u001b[38;5;124;03m\"\"\"\u001b[39;00m\n\u001b[0;32m    221\u001b[0m \u001b[38;5;124;03mThis function provides a decorator to disable compilation on a function\u001b[39;00m\n\u001b[0;32m    222\u001b[0m \u001b[38;5;124;03mIt also provides the option of recursively disabling called functions\u001b[39;00m\n\u001b[1;32m   (...)\u001b[0m\n\u001b[0;32m    226\u001b[0m \u001b[38;5;124;03m    recursive (optional): A boolean value indicating whether the disabling should be recursive.\u001b[39;00m\n\u001b[0;32m    227\u001b[0m \u001b[38;5;124;03m\"\"\"\u001b[39;00m\n\u001b[1;32m--> 228\u001b[0m \u001b[38;5;28;01mimport\u001b[39;00m \u001b[38;5;21;01mtorch\u001b[39;00m\u001b[38;5;21;01m.\u001b[39;00m\u001b[38;5;21;01m_dynamo\u001b[39;00m\n\u001b[0;32m    230\u001b[0m \u001b[38;5;28;01mreturn\u001b[39;00m torch\u001b[38;5;241m.\u001b[39m_dynamo\u001b[38;5;241m.\u001b[39mdisable(fn, recursive)\n",
      "File \u001b[1;32m~\\AppData\\Roaming\\Python\\Python312\\site-packages\\torch\\_dynamo\\__init__.py:3\u001b[0m\n\u001b[0;32m      1\u001b[0m \u001b[38;5;28;01mimport\u001b[39;00m \u001b[38;5;21;01mtorch\u001b[39;00m\n\u001b[1;32m----> 3\u001b[0m \u001b[38;5;28;01mfrom\u001b[39;00m \u001b[38;5;21;01m.\u001b[39;00m \u001b[38;5;28;01mimport\u001b[39;00m convert_frame, eval_frame, resume_execution\n\u001b[0;32m      4\u001b[0m \u001b[38;5;28;01mfrom\u001b[39;00m \u001b[38;5;21;01m.\u001b[39;00m\u001b[38;5;21;01mbackends\u001b[39;00m\u001b[38;5;21;01m.\u001b[39;00m\u001b[38;5;21;01mregistry\u001b[39;00m \u001b[38;5;28;01mimport\u001b[39;00m list_backends, lookup_backend, register_backend\n",
      "File \u001b[1;32m~\\AppData\\Roaming\\Python\\Python312\\site-packages\\torch\\_dynamo\\convert_frame.py:33\u001b[0m\n\u001b[0;32m     32\u001b[0m \u001b[38;5;28;01mfrom\u001b[39;00m \u001b[38;5;21;01mtorch\u001b[39;00m\u001b[38;5;21;01m.\u001b[39;00m\u001b[38;5;21;01m_dynamo\u001b[39;00m\u001b[38;5;21;01m.\u001b[39;00m\u001b[38;5;21;01mdistributed\u001b[39;00m \u001b[38;5;28;01mimport\u001b[39;00m get_compile_pg\n\u001b[1;32m---> 33\u001b[0m \u001b[38;5;28;01mfrom\u001b[39;00m \u001b[38;5;21;01mtorch\u001b[39;00m\u001b[38;5;21;01m.\u001b[39;00m\u001b[38;5;21;01m_dynamo\u001b[39;00m\u001b[38;5;21;01m.\u001b[39;00m\u001b[38;5;21;01msymbolic_convert\u001b[39;00m \u001b[38;5;28;01mimport\u001b[39;00m TensorifyState\n\u001b[0;32m     34\u001b[0m \u001b[38;5;28;01mfrom\u001b[39;00m \u001b[38;5;21;01mtorch\u001b[39;00m\u001b[38;5;21;01m.\u001b[39;00m\u001b[38;5;21;01m_guards\u001b[39;00m \u001b[38;5;28;01mimport\u001b[39;00m compile_context, CompileContext, CompileId, tracing\n",
      "File \u001b[1;32m~\\AppData\\Roaming\\Python\\Python312\\site-packages\\torch\\_dynamo\\symbolic_convert.py:30\u001b[0m\n\u001b[0;32m     28\u001b[0m \u001b[38;5;28;01mfrom\u001b[39;00m \u001b[38;5;21;01mtorch\u001b[39;00m\u001b[38;5;21;01m.\u001b[39;00m\u001b[38;5;21;01m_guards\u001b[39;00m \u001b[38;5;28;01mimport\u001b[39;00m tracing, TracingContext\n\u001b[1;32m---> 30\u001b[0m \u001b[38;5;28;01mfrom\u001b[39;00m \u001b[38;5;21;01m.\u001b[39;00m \u001b[38;5;28;01mimport\u001b[39;00m config, exc, logging \u001b[38;5;28;01mas\u001b[39;00m torchdynamo_logging, trace_rules, variables\n\u001b[0;32m     31\u001b[0m \u001b[38;5;28;01mfrom\u001b[39;00m \u001b[38;5;21;01m.\u001b[39;00m\u001b[38;5;21;01mbytecode_analysis\u001b[39;00m \u001b[38;5;28;01mimport\u001b[39;00m (\n\u001b[0;32m     32\u001b[0m     get_indexof,\n\u001b[0;32m     33\u001b[0m     JUMP_OPNAMES,\n\u001b[0;32m     34\u001b[0m     livevars_analysis,\n\u001b[0;32m     35\u001b[0m     propagate_line_nums,\n\u001b[0;32m     36\u001b[0m )\n",
      "File \u001b[1;32m~\\AppData\\Roaming\\Python\\Python312\\site-packages\\torch\\_dynamo\\trace_rules.py:46\u001b[0m\n\u001b[0;32m     45\u001b[0m \u001b[38;5;28;01mfrom\u001b[39;00m \u001b[38;5;21;01m.\u001b[39;00m\u001b[38;5;21;01mutils\u001b[39;00m \u001b[38;5;28;01mimport\u001b[39;00m getfile, hashable, NP_SUPPORTED_MODULES, unwrap_if_wrapper\n\u001b[1;32m---> 46\u001b[0m \u001b[38;5;28;01mfrom\u001b[39;00m \u001b[38;5;21;01m.\u001b[39;00m\u001b[38;5;21;01mvariables\u001b[39;00m \u001b[38;5;28;01mimport\u001b[39;00m (\n\u001b[0;32m     47\u001b[0m     BuiltinVariable,\n\u001b[0;32m     48\u001b[0m     FunctionalCallVariable,\n\u001b[0;32m     49\u001b[0m     FunctorchHigherOrderVariable,\n\u001b[0;32m     50\u001b[0m     NestedUserFunctionVariable,\n\u001b[0;32m     51\u001b[0m     PolyfilledFunctionVariable,\n\u001b[0;32m     52\u001b[0m     SkipFunctionVariable,\n\u001b[0;32m     53\u001b[0m     TorchInGraphFunctionVariable,\n\u001b[0;32m     54\u001b[0m     UserFunctionVariable,\n\u001b[0;32m     55\u001b[0m     UserMethodVariable,\n\u001b[0;32m     56\u001b[0m )\n\u001b[0;32m     59\u001b[0m np: Optional[types\u001b[38;5;241m.\u001b[39mModuleType] \u001b[38;5;241m=\u001b[39m \u001b[38;5;28;01mNone\u001b[39;00m\n",
      "File \u001b[1;32m~\\AppData\\Roaming\\Python\\Python312\\site-packages\\torch\\_dynamo\\variables\\__init__.py:109\u001b[0m\n\u001b[0;32m    100\u001b[0m \u001b[38;5;28;01mfrom\u001b[39;00m \u001b[38;5;21;01m.\u001b[39;00m\u001b[38;5;21;01mtensor\u001b[39;00m \u001b[38;5;28;01mimport\u001b[39;00m (\n\u001b[0;32m    101\u001b[0m     DataPtrVariable,\n\u001b[0;32m    102\u001b[0m     FakeItemVariable,\n\u001b[1;32m   (...)\u001b[0m\n\u001b[0;32m    107\u001b[0m     UntypedStorageVariable,\n\u001b[0;32m    108\u001b[0m )\n\u001b[1;32m--> 109\u001b[0m \u001b[38;5;28;01mfrom\u001b[39;00m \u001b[38;5;21;01m.\u001b[39;00m\u001b[38;5;21;01mtorch\u001b[39;00m \u001b[38;5;28;01mimport\u001b[39;00m TorchCtxManagerClassVariable, TorchInGraphFunctionVariable\n\u001b[0;32m    110\u001b[0m \u001b[38;5;28;01mfrom\u001b[39;00m \u001b[38;5;21;01m.\u001b[39;00m\u001b[38;5;21;01muser_defined\u001b[39;00m \u001b[38;5;28;01mimport\u001b[39;00m (\n\u001b[0;32m    111\u001b[0m     MutableMappingVariable,\n\u001b[0;32m    112\u001b[0m     RemovableHandleVariable,\n\u001b[0;32m    113\u001b[0m     UserDefinedClassVariable,\n\u001b[0;32m    114\u001b[0m     UserDefinedObjectVariable,\n\u001b[0;32m    115\u001b[0m )\n",
      "File \u001b[1;32m~\\AppData\\Roaming\\Python\\Python312\\site-packages\\torch\\_dynamo\\variables\\torch.py:146\u001b[0m\n\u001b[0;32m    137\u001b[0m constant_fold_functions \u001b[38;5;241m=\u001b[39m \u001b[38;5;28mdict\u001b[39m\u001b[38;5;241m.\u001b[39mfromkeys(constant_fold_functions)\n\u001b[0;32m    140\u001b[0m tracing_state_functions \u001b[38;5;241m=\u001b[39m {\n\u001b[0;32m    141\u001b[0m     torch\u001b[38;5;241m.\u001b[39mjit\u001b[38;5;241m.\u001b[39mis_scripting: \u001b[38;5;28;01mFalse\u001b[39;00m,\n\u001b[0;32m    142\u001b[0m     torch\u001b[38;5;241m.\u001b[39mjit\u001b[38;5;241m.\u001b[39mis_tracing: \u001b[38;5;28;01mFalse\u001b[39;00m,\n\u001b[0;32m    143\u001b[0m     torch\u001b[38;5;241m.\u001b[39m_C\u001b[38;5;241m.\u001b[39m_get_tracing_state: \u001b[38;5;28;01mNone\u001b[39;00m,\n\u001b[0;32m    144\u001b[0m     torch\u001b[38;5;241m.\u001b[39mfx\u001b[38;5;241m.\u001b[39m_symbolic_trace\u001b[38;5;241m.\u001b[39mis_fx_tracing: \u001b[38;5;28;01mFalse\u001b[39;00m,\n\u001b[0;32m    145\u001b[0m     torch\u001b[38;5;241m.\u001b[39monnx\u001b[38;5;241m.\u001b[39mis_in_onnx_export: \u001b[38;5;28;01mFalse\u001b[39;00m,\n\u001b[1;32m--> 146\u001b[0m     \u001b[43mtorch\u001b[49m\u001b[38;5;241;43m.\u001b[39;49m\u001b[43m_dynamo\u001b[49m\u001b[38;5;241;43m.\u001b[39;49m\u001b[43mexternal_utils\u001b[49m\u001b[38;5;241m.\u001b[39mis_compiling: \u001b[38;5;28;01mTrue\u001b[39;00m,\n\u001b[0;32m    147\u001b[0m     torch\u001b[38;5;241m.\u001b[39m_utils\u001b[38;5;241m.\u001b[39mis_compiling: \u001b[38;5;28;01mTrue\u001b[39;00m,\n\u001b[0;32m    148\u001b[0m     torch\u001b[38;5;241m.\u001b[39mcompiler\u001b[38;5;241m.\u001b[39mis_compiling: \u001b[38;5;28;01mTrue\u001b[39;00m,\n\u001b[0;32m    149\u001b[0m     torch\u001b[38;5;241m.\u001b[39mcompiler\u001b[38;5;241m.\u001b[39mis_dynamo_compiling: \u001b[38;5;28;01mTrue\u001b[39;00m,\n\u001b[0;32m    150\u001b[0m     torch\u001b[38;5;241m.\u001b[39mnn\u001b[38;5;241m.\u001b[39mmodules\u001b[38;5;241m.\u001b[39mactivation\u001b[38;5;241m.\u001b[39m_is_make_fx_tracing: \u001b[38;5;28;01mFalse\u001b[39;00m,\n\u001b[0;32m    151\u001b[0m }\n\u001b[0;32m    153\u001b[0m bin_ops \u001b[38;5;241m=\u001b[39m \u001b[38;5;28mdict\u001b[39m\u001b[38;5;241m.\u001b[39mfromkeys([\u001b[38;5;124m\"\u001b[39m\u001b[38;5;124madd\u001b[39m\u001b[38;5;124m\"\u001b[39m, \u001b[38;5;124m\"\u001b[39m\u001b[38;5;124msub\u001b[39m\u001b[38;5;124m\"\u001b[39m, \u001b[38;5;124m\"\u001b[39m\u001b[38;5;124mmul\u001b[39m\u001b[38;5;124m\"\u001b[39m, \u001b[38;5;124m\"\u001b[39m\u001b[38;5;124mdiv\u001b[39m\u001b[38;5;124m\"\u001b[39m, \u001b[38;5;124m\"\u001b[39m\u001b[38;5;124msqrt\u001b[39m\u001b[38;5;124m\"\u001b[39m])\n",
      "\u001b[1;31mAttributeError\u001b[0m: partially initialized module 'torch._dynamo' has no attribute 'external_utils' (most likely due to a circular import)",
      "\nThe above exception was the direct cause of the following exception:\n",
      "\u001b[1;31mRuntimeError\u001b[0m                              Traceback (most recent call last)",
      "Cell \u001b[1;32mIn[74], line 1\u001b[0m\n\u001b[1;32m----> 1\u001b[0m \u001b[38;5;28;01mfrom\u001b[39;00m \u001b[38;5;21;01mtransformers\u001b[39;00m \u001b[38;5;28;01mimport\u001b[39;00m BartForConditionalGeneration, BartTokenizer\n\u001b[0;32m      3\u001b[0m \u001b[38;5;28;01mdef\u001b[39;00m \u001b[38;5;21msummarize_with_bart\u001b[39m(text, max_length\u001b[38;5;241m=\u001b[39m\u001b[38;5;241m150\u001b[39m):\n\u001b[0;32m      4\u001b[0m     model_name \u001b[38;5;241m=\u001b[39m \u001b[38;5;124m\"\u001b[39m\u001b[38;5;124mfacebook/bart-large-cnn\u001b[39m\u001b[38;5;124m\"\u001b[39m\n",
      "File \u001b[1;32m<frozen importlib._bootstrap>:1412\u001b[0m, in \u001b[0;36m_handle_fromlist\u001b[1;34m(module, fromlist, import_, recursive)\u001b[0m\n",
      "File \u001b[1;32m~\\AppData\\Roaming\\Python\\Python312\\site-packages\\transformers\\utils\\import_utils.py:1956\u001b[0m, in \u001b[0;36m_LazyModule.__getattr__\u001b[1;34m(self, name)\u001b[0m\n\u001b[0;32m   1954\u001b[0m \u001b[38;5;28;01melif\u001b[39;00m name \u001b[38;5;129;01min\u001b[39;00m \u001b[38;5;28mself\u001b[39m\u001b[38;5;241m.\u001b[39m_class_to_module\u001b[38;5;241m.\u001b[39mkeys():\n\u001b[0;32m   1955\u001b[0m     module \u001b[38;5;241m=\u001b[39m \u001b[38;5;28mself\u001b[39m\u001b[38;5;241m.\u001b[39m_get_module(\u001b[38;5;28mself\u001b[39m\u001b[38;5;241m.\u001b[39m_class_to_module[name])\n\u001b[1;32m-> 1956\u001b[0m     value \u001b[38;5;241m=\u001b[39m \u001b[38;5;28;43mgetattr\u001b[39;49m\u001b[43m(\u001b[49m\u001b[43mmodule\u001b[49m\u001b[43m,\u001b[49m\u001b[43m \u001b[49m\u001b[43mname\u001b[49m\u001b[43m)\u001b[49m\n\u001b[0;32m   1957\u001b[0m \u001b[38;5;28;01melif\u001b[39;00m name \u001b[38;5;129;01min\u001b[39;00m \u001b[38;5;28mself\u001b[39m\u001b[38;5;241m.\u001b[39m_modules:\n\u001b[0;32m   1958\u001b[0m     value \u001b[38;5;241m=\u001b[39m \u001b[38;5;28mself\u001b[39m\u001b[38;5;241m.\u001b[39m_get_module(name)\n",
      "File \u001b[1;32m~\\AppData\\Roaming\\Python\\Python312\\site-packages\\transformers\\utils\\import_utils.py:1955\u001b[0m, in \u001b[0;36m_LazyModule.__getattr__\u001b[1;34m(self, name)\u001b[0m\n\u001b[0;32m   1953\u001b[0m     value \u001b[38;5;241m=\u001b[39m Placeholder\n\u001b[0;32m   1954\u001b[0m \u001b[38;5;28;01melif\u001b[39;00m name \u001b[38;5;129;01min\u001b[39;00m \u001b[38;5;28mself\u001b[39m\u001b[38;5;241m.\u001b[39m_class_to_module\u001b[38;5;241m.\u001b[39mkeys():\n\u001b[1;32m-> 1955\u001b[0m     module \u001b[38;5;241m=\u001b[39m \u001b[38;5;28;43mself\u001b[39;49m\u001b[38;5;241;43m.\u001b[39;49m\u001b[43m_get_module\u001b[49m\u001b[43m(\u001b[49m\u001b[38;5;28;43mself\u001b[39;49m\u001b[38;5;241;43m.\u001b[39;49m\u001b[43m_class_to_module\u001b[49m\u001b[43m[\u001b[49m\u001b[43mname\u001b[49m\u001b[43m]\u001b[49m\u001b[43m)\u001b[49m\n\u001b[0;32m   1956\u001b[0m     value \u001b[38;5;241m=\u001b[39m \u001b[38;5;28mgetattr\u001b[39m(module, name)\n\u001b[0;32m   1957\u001b[0m \u001b[38;5;28;01melif\u001b[39;00m name \u001b[38;5;129;01min\u001b[39;00m \u001b[38;5;28mself\u001b[39m\u001b[38;5;241m.\u001b[39m_modules:\n",
      "File \u001b[1;32m~\\AppData\\Roaming\\Python\\Python312\\site-packages\\transformers\\utils\\import_utils.py:1969\u001b[0m, in \u001b[0;36m_LazyModule._get_module\u001b[1;34m(self, module_name)\u001b[0m\n\u001b[0;32m   1967\u001b[0m     \u001b[38;5;28;01mreturn\u001b[39;00m importlib\u001b[38;5;241m.\u001b[39mimport_module(\u001b[38;5;124m\"\u001b[39m\u001b[38;5;124m.\u001b[39m\u001b[38;5;124m\"\u001b[39m \u001b[38;5;241m+\u001b[39m module_name, \u001b[38;5;28mself\u001b[39m\u001b[38;5;241m.\u001b[39m\u001b[38;5;18m__name__\u001b[39m)\n\u001b[0;32m   1968\u001b[0m \u001b[38;5;28;01mexcept\u001b[39;00m \u001b[38;5;167;01mException\u001b[39;00m \u001b[38;5;28;01mas\u001b[39;00m e:\n\u001b[1;32m-> 1969\u001b[0m     \u001b[38;5;28;01mraise\u001b[39;00m \u001b[38;5;167;01mRuntimeError\u001b[39;00m(\n\u001b[0;32m   1970\u001b[0m         \u001b[38;5;124mf\u001b[39m\u001b[38;5;124m\"\u001b[39m\u001b[38;5;124mFailed to import \u001b[39m\u001b[38;5;132;01m{\u001b[39;00m\u001b[38;5;28mself\u001b[39m\u001b[38;5;241m.\u001b[39m\u001b[38;5;18m__name__\u001b[39m\u001b[38;5;132;01m}\u001b[39;00m\u001b[38;5;124m.\u001b[39m\u001b[38;5;132;01m{\u001b[39;00mmodule_name\u001b[38;5;132;01m}\u001b[39;00m\u001b[38;5;124m because of the following error (look up to see its\u001b[39m\u001b[38;5;124m\"\u001b[39m\n\u001b[0;32m   1971\u001b[0m         \u001b[38;5;124mf\u001b[39m\u001b[38;5;124m\"\u001b[39m\u001b[38;5;124m traceback):\u001b[39m\u001b[38;5;130;01m\\n\u001b[39;00m\u001b[38;5;132;01m{\u001b[39;00me\u001b[38;5;132;01m}\u001b[39;00m\u001b[38;5;124m\"\u001b[39m\n\u001b[0;32m   1972\u001b[0m     ) \u001b[38;5;28;01mfrom\u001b[39;00m \u001b[38;5;21;01me\u001b[39;00m\n",
      "\u001b[1;31mRuntimeError\u001b[0m: Failed to import transformers.models.bart.modeling_bart because of the following error (look up to see its traceback):\npartially initialized module 'torch._dynamo' has no attribute 'external_utils' (most likely due to a circular import)"
     ]
    }
   ],
   "source": [
    "from transformers import BartForConditionalGeneration, BartTokenizer\n",
    "\n",
    "def summarize_with_bart(text, max_length=150):\n",
    "    model_name = \"facebook/bart-large-cnn\"\n",
    "    tokenizer = BartTokenizer.from_pretrained(model_name)\n",
    "    model = BartForConditionalGeneration.from_pretrained(model_name)\n",
    "    \n",
    "    inputs = tokenizer(text, return_tensors=\"pt\", max_length=1024, truncation=True)\n",
    "    summary_ids = model.generate(inputs[\"input_ids\"], max_length=max_length, num_beams=4, early_stopping=True)\n",
    "    \n",
    "    summary = tokenizer.decode(summary_ids[0], skip_special_tokens=True)\n",
    "    return summary"
   ]
  },
  {
   "cell_type": "code",
   "execution_count": null,
   "id": "3bfdf9f1",
   "metadata": {},
   "outputs": [],
   "source": []
  }
 ],
 "metadata": {
  "kernelspec": {
   "display_name": "Python 3",
   "language": "python",
   "name": "python3"
  },
  "language_info": {
   "codemirror_mode": {
    "name": "ipython",
    "version": 3
   },
   "file_extension": ".py",
   "mimetype": "text/x-python",
   "name": "python",
   "nbconvert_exporter": "python",
   "pygments_lexer": "ipython3",
   "version": "3.12.4"
  }
 },
 "nbformat": 4,
 "nbformat_minor": 5
}
