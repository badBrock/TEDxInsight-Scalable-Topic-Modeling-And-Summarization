{
 "cells": [
  {
   "cell_type": "code",
   "execution_count": 6,
   "id": "8664d2dc",
   "metadata": {},
   "outputs": [],
   "source": [
    "import pickle\n",
    "import pandas as pd"
   ]
  },
  {
   "cell_type": "code",
   "execution_count": null,
   "id": "a5a03556",
   "metadata": {},
   "outputs": [],
   "source": [
    "data = pd.read_csv(\"E:\\\\NLP_Recommender_System\\\\merge_comments\\\\video_comments.csv\")"
   ]
  },
  {
   "cell_type": "code",
   "execution_count": 8,
   "id": "5986b064",
   "metadata": {},
   "outputs": [
    {
     "name": "stdout",
     "output_type": "stream",
     "text": [
      "<class 'pandas.core.frame.DataFrame'>\n",
      "RangeIndex: 4492 entries, 0 to 4491\n",
      "Data columns (total 2 columns):\n",
      " #   Column        Non-Null Count  Dtype \n",
      "---  ------        --------------  ----- \n",
      " 0   video_id      4492 non-null   object\n",
      " 1   all_comments  4492 non-null   object\n",
      "dtypes: object(2)\n",
      "memory usage: 70.3+ KB\n"
     ]
    }
   ],
   "source": [
    "data.info()"
   ]
  },
  {
   "cell_type": "code",
   "execution_count": 9,
   "id": "a0a33a72",
   "metadata": {},
   "outputs": [
    {
     "data": {
      "text/plain": [
       "(4492, 2)"
      ]
     },
     "execution_count": 9,
     "metadata": {},
     "output_type": "execute_result"
    }
   ],
   "source": [
    "data.shape"
   ]
  },
  {
   "cell_type": "code",
   "execution_count": 10,
   "id": "382c5e87",
   "metadata": {},
   "outputs": [
    {
     "data": {
      "application/vnd.microsoft.datawrangler.viewer.v0+json": {
       "columns": [
        {
         "name": "index",
         "rawType": "int64",
         "type": "integer"
        },
        {
         "name": "video_id",
         "rawType": "object",
         "type": "string"
        },
        {
         "name": "all_comments",
         "rawType": "object",
         "type": "string"
        }
       ],
       "conversionMethod": "pd.DataFrame",
       "ref": "1a9dc6d6-d069-45bf-9b10-c148cbf0092d",
       "rows": [
        [
         "0",
         "YgAuFqEs6yk",
         "Amazing_ This is true. Sometimes things happen that arent positive but out of every negative thing that happens there is a seed of opportunity for growth and change. I am happy these people were able to put their differences aside and were able to do what's best for the child. I am going through something similar however i don't want to be enemies with the mother of my children. I will always love her and respect her for everything she gave me._ Powerful & Amazing_ I can’t take a guy with dreads and a Detroit hat on on a ted talk seriously at all sorry 👎👎👎_ How They Both Move Close To Each-other As They Talk 🥺_ Now these are 2 beautiful grown black adults...not Cardi B and Offset lol_ Thank you._ I think it's so wonderful how they are speaking to an audience but really to each other. So it's genuine. And it makes their message so relatable_ Parents need to watch this._ Two min in and I’m wishing all women would think this way. 50 50 parenting support... I’ll stop there or I’ll rant...😖_ Beautiful_ 😅that’s a gorgeous woman. We’d have to just work that out lort! Lol_ ㅠ_ Who else fell in love with this family's hair_ 'good job baby'_ That was very inspiring and agreed with a lot they said. But didnt agree that you just let a child do exactly what they want when they want. The supermarket being a strong point, I just didn't agree with this statement. Is it ok to let your child still eat with their hands like an animal so they couldn't use a fork when their older. Theres elements where you cant just let a child do what they want when they want. The supermarket comment I found very strange. Your educating you're child how to behave in society et cetera. Just struggled with that statement. If that's her view on a supermarket then apply that to everything else in life. Just doesn't work that way._ This is truly beautiful and a lot of take homes for someone raising a Queen just embarking on this co-parenting journey. I can, and will do better. Thank you x_ My son’s father and I had an on again off again abusive relationship. It was difficult, to say the least, when we split up after 6.5 years. In a lot of ways I still have love for him, but we were always better friends than we were in a relationship. It does make our current relationships hard at times. But, as we tell our son, the one thing we all agree on is that we love our little boy. Our son has four parents & doesn’t have any memory of what it was like before. For him, it’s always been that way & always will be. We get looks & comments all the time from people who don’t understand how we co-parent. We even call each other mom & dad in public. A child can never have too many people who love him. During my pregnancy that’s what I wished for; “I want him to have more love, more friends & family, than he knows what to do with.” This wasn’t the future we had imagined while waiting for our baby to arrive, but for as long as we keep love in our hearts, so shall it be._ You make so much as a parent only by not talking bad about the other parent with your kid. My parents can have opinions about each other and that affects my perception very much, but luckily they never trashed each other, because that must feel like you can't count on your parents or as if you had no one to trust._ Why do they...both talk like this...where they pause...at unnatural spots?_ My ex isn’t about equality... I digress... 😫_ i totally agree with your comment. If they let the kid be free spirit at anything, why do they pick clothes for him for school etc. ? you can't just let kid running in mall, first of all child can be abducted by predator, second it can cause harm to someone in the shop or himself. I can't remember the movie or tv series, but there was this kid that parents let him do whatever he wants to do because he's a free spirit and it turned out to be a little spoiled brat that no one liked. And this mantra they gave at the end? like whaaat? You know a lie repeated 100 times becomes a true? If he repeats himself or parents tell him that he's awesome, smart, genius, uberhuman, he's gonna start to believe it and think that he already is the greatest so he doesn't need to achieve anything more in life.... sad, but i hope the boy will achieve great things in life, not repeating his parents mistakes and having a straight thinking._ Why are we quiet in supermarkets? It is not a library where people need silence to focus. So, why do we have to be quiet in supermarkets? Because everyone does it, so we should all do it? Have you been to an Asian market? It is teeming with hustle and bustle and chaos. Fully grown adults are screaming, haggling, laughing, running, bumping into each other. Is this behavior strange? Is this behavior wrong? So, why should we teach a child that it is wrong to express themselves? There is something to be learned about respect, this is true. But maybe the child will learn to respect people in other ways in their life, and not from a scolding in a supermarket._ @scalpel  I dont disagree but with limits. A child bounding about in a supermarket as she allows could do serious harm to a little toddler or an elderly person. Let alone heavy products in the aisles that could fall and crush them. She almost had me but then it almost felt like lazy parenting._ They are giving a speech. You need to pause at certain times to give a speech._ @Ty-iz9wd  \nNot...the way....they do it._ This is exactly what I told my ex I wanted if we ever split. He was never mature enough to handle something like this. Our daughter is now 24 and I always wonder how different her life would have been had we coparented like this_ Low key teared up when they did the affirmations. Black excellence personified_ I’m not crying. You’re crying. The ending is beautiful!_ I admire both of you. You’re a good example for being a good parents. Lovely watching and listening your video from the top of Italian mountain._ Awesome !_ I repeated so many times, your wrong way, your own grapes, your own food.\nI choose my apprentices in my own way which has nothing to do with you blacks apparently since you can't be reasonable by \"book\" wrote by myself. There is no \"co\" can be done. Can't it be more obvious?_ Wow!!!!!_ Thus the present generation has been produced\nIs anyone surprised_ That was so beautiful! Thank you TED!_ \"We honor each other's role in Sekyu's life\" \n\nI love that statement. Respect comes before love, always. Blessings to this family._ This is incredibly helpful for people who suffer from co-parenting_ That's the magic power of our kids that can change ourselves .. only in front of this power you can endure anything and give up all your needs ..!_ These parents set an amazing example of not just co-parenting, but on being a good parent in general💖😊amazing talk_ The world does not dispise black joy.._ Respect and sympathy are the keys for building a better relationship._ Wow, delete my comment, you disappoint me as well.\nFirst, don't waste your time, of course, others. Your magic only works on \"the animal level\", which is like humans could be grown like Tarzan as well.\nMoreover, when it comes to adversaries or allies, blacks asked national reparation for slavery while ignoring their ancient ancestors were alpha males who dominated the entire land of Africa, which was the reason why others walked out of Africa by risking their lives and built their homes on other continents and became other \"races\".\nSecond, I never said your magic works. How could I/anybody make anything based on a wrong/false thing? See, you have no clear thought of what you are doing and what others' saying. Not to mention that nobody has the responsibility to meet your expectation. Let alone, your expectation was only a one-sided imagination that only exists in your dream.\nThird, easy come easy go, your laziness, fluke mind and to speculate advantage by trickery can only waste your time. Stealing others' results doesn't mean you really gain what you stole, let alone what you stole has nothing to do with the thing you wanted.\nForth, you have no clear thought about what you are doing which isn't a problem can be fixed by one or two magics. The hard way is the only way. Roman was not built in one day._ It's so good to see that there are others with the same mindset. \nThis is the message I preach to the father of my sons but he does not have the ability as yet to look beyond that which he knows and the unfamiliarity of my concept to his person causes me to wonder if he is resilient to see things differently.  \nMy heart is firmed in the belief that making changes, makes the difference.  👏🏿👏🏿👏🏿_ Beautiful!_ Love this ._ They should have avoided divorce._ Can't it be more obvious than your incoherent post? Yes._ Disagree._ 🎼Absolutely BEAUTIFUL💕🙏🏽_ Nice_ Now, this is a worthwhile TED Talk. I can appreciate their honesty, openness in public and desire to love their child more than they evidently could one another (although it sounds like they truly share a common love). Personally, I think It a shame that for whatever reason (none of our business what it is) they cannot be a \"typical\" family. However, they stand as a positive example for parents in the 21st century that share the marriage and parenting experience of Ebony Roberts and Shaka Senghor. May God bless and guide them and their son all together._ TED Talks are not as good as they used to be 🤦‍♂️_ TED wouldn't it be lovely if we got to see the boy as a teen, young adult and as a father as well?_ Black love on display, Amazing for the world to see. These parents are a role model for the world. Together in spirit for the child they created, even tho not together as lovers. I can't say enough about how this moved me. Thank you for allowing us on the magic!_ I left the house 🏠 with out my charger cord or adult pampers some body 🙃 please help if this phone doesn't stay charged 😑_ Thank you for being brave enough to be authentic. Your example as two individuals United is beautiful. He is a very fortunate little boy.\nBe Safe. 😷 \nPeace. 🎶_ Amazing! Thankful to the wonderful parents for sharing their story. I hope and pray people in these situations benefit from this Ted Talk. This young king will benefit greatly because his patents have chosen to put him first!_ You sound so sweet, awesome.. 😜\nJust give them the aspirations in full swing.... 😍\nLove is passion\nLove is kind\nLove always protects........ \nLove always saves........_ Yeah very crucial video for today's generation of parents..very informative...thumps up..\n#Enlightened Beings_ Accepted_ Address the abuse . U address the problem_ Yes u do ....it's time to see jessie_ You are beautiful. What a beautiful 💓 writer_ A child cannot have too many people who love them. The best environment a child can have is parents who respect each other. And not to forget that a child learns more from what the parents are than what they teach 🖖_ Yes preach it_ Surely 'co-parenting' means parenting._ Excellent message and talk. Comes across very genuine. Thank you._ Beast Mode is just there so he won’t get fined._ Idk this talk is dilute, watery weak, with clear reading-off-script errors. The race politics thrown in like \"a world against black joy\" is also Ludacris. TED needs higher quality material instead of these soapy opera-ey filler talks._ from the talk: \"raising a black boy in a society that despises black joy....... blacks only seen has profitable or disposable\"\n\nI can't believe TED allowed a talk with such blatant spin on the modern world.\n\nOccasionally you get a good scientific one but lately it's been neo liberal postmodern diatribes by yuppies or racist minorities_ @ChurchOfThought  indeed, that is the part I didn't like. If they'd left that out it would've been great._ So he will learn murder is cool?_ ODW: I understand what you mean. I agree... the best we can do as parents is guide our children to have the greatest understanding of what is right in their own hearts. To nurture that innocent heart at the center of the child’s being... to give them the clearest understanding of the world we ourselves created as a community of people among people... to remain strong-spirited in the crowd of naysayers. Children are innocent and will go astray without a well defined path for them to choose as they form and reach for their goals._ I could see him itchin for skittles the whole speech_ Yall powerful i appreciate yall_ Had to be black people?_ I wonder if either of them moved on relationship wise or even remarried and how that affected things... I'd like to hear more._ Be mother without control!???? I want to see her when the boy be a teen_ It's so cute how they all have dreds yall.😭_ Why couldn’t I have had these two for my parents. Absolutely amazing_ 💖💖💖_ I would have loved to co-parent with my ex-wife unfortunately the b** did me dirty in the divorce, and somehow got it to where I couldn't have my daughter for visitation until she could talk when she was 4 years old so she could say what was wrong with her.  Like me, my mother, and my grandmother had no clue on how to raise a child. After that relationship was broken it never mended. My daughter will be 23 this year and I haven't actually talked to her since she was 15. Her mother convinced her I only wanted her when it was convenient and she hasn't matured enough to realize how much bullshit her mother fed her. however she had no problem calling me in February and asking for $4,000 so she could move to Connecticut, with her younger sister._ https://youtu.be/mCYFxt_9aco_ PRICELESS. As this example takes hold in the hearts and minds of the many, the World will be changed. Thank you!_ This is so powerful!_ What wisdom they have shared! \n\nThank you!_ ❤_ Wach my videos,they will put a smile_ Yeet_ Goosebumps throughout this whole speech 😭😭❤️❤️_ Luckily her mom didn't die -)\n\n\nlike if you feel bad for Shaka as a kid ;)_ Hi_ Thanks for liking my comment😊\nHave a wonderful day!!_ Detroit. 10 minutes away from 14 and mound_ YES._ Gwendolyn Williams  \nIt is refreshing to see a black family with a mother and a father, despite them not being married. In my life and the lives of those that I know, such a trait is a *rarity*._ Ana Sylvia Hoppenbrouwers  ???_ I've just made my comment with kinda summaries that angle._ Yes super cute how the murderer's son dressed just like his dad._ Dreds are unhygienic. Cute but nasty 😷_ Gwendolyn Williams  I haven't committed any crimes. I don't really understand your sentence, could you please use correct grammar?_ @The_Stocc  Lol you think you are going to win an argument on YouTube through pedantry. NOW that's cute! 😺_ @ChurchOfThought No, I genuinely don't understand it. I don't want to assume what it means._ Church Of Thought thats a common misconception (or maybe yours or those your around are like that) cuz most ppl with locs take care of them 🤷🏽_ The guy needs a haircut ASAP._ Love them who you have ,all that matters is love._ Because they're doing this for clout. 100% guarantee they don't actually do the positive things they claim._ Anoop Dubey has to work on a_ This is so powerful .._ Felt like watching a Dr. Phil episode..._ 3 likes 0 views? 🤔_ Early_ Just amazing!_ First_ One of the Best speech I've ever heard! 🇺🇿🇺🇿🇺🇿🇺🇿_ Wow sir_ Hi first_ It's the way they're counted and validated by the system... happens often on low view counts_ Youtube has been around for decades and folk like you still think you've found something profound because you CBF doing homework about how the two stats are incremented?_ The best_ She's bomb. But black folks give entertainment. Enjoy_ Yeah you are right guys"
        ],
        [
         "1",
         "bNmRr-BYnxA",
         "Bravo!_ A successful mindset isn't something that you simply attempt to follow for each day, it requires a continuing series of thoughts, that are selfless. When it involves success, regardless of what your definition of success can be, having positive thoughts may be a must.\r\n\r\nA positive line of thought is one amongst the key factors that differentiate a successful person from the one who isn't ready to achieve their definition of success. it's said that thoughts precede actions. So, if you're surrounded by negative thoughts, your actions will have slightly of negativity to them. And with negativity, you'll never succeed._ Happily we are more and more spread all over the world, sharing such a proactive attitude ! Maybe two more elements : we could also find another encouraging example in the XVIe century. The humanity then was also confronted some really terrific threats. Result ? One of the most brillant period of the humanity known by the histoy as Rebirth ! Second element, and another main challenge : the drastic and actually not correctly managed mutation of the communication channels and speedness that  for the being escapes the essential qualitative filter of a democratic (i.e. pluralist) press. We have also to reinvent an efficient democratic press able to spread through the social network hope and positif attitude ! Cause without hope and positive mind, how could we expect a right entrepreneurship for initiating a second Rebirth... i.e. referring to the  immemorial myth of the Phoenix !_ Boycott animal agriculture, the leading cause of environmental destruction! Let's replace the egotistical anthropocentric worldview for ecocentric worldview where nature and everyone in it has a value of their own and not just as a resource to exploit! ❤️🍃_ Wonderful talk, powerful message BUT 3:40 is wrong from so many fronts and it's sad to hear it from someone working for the UN when the inequalities are not reduced but exacerbated: \"Will Russia wreck the negotiations, will China take the responsibilities for their emissions, will the US help the 'poorer' countries deal with their burden of climate change.\" Portraying Russia as evil, China as the one responsible for the emissions, and the US as the saver of the world is so cilche and so HARMFUL. Will the US take responsibility for its factories in China? Will it take responsibility for its own emissions before criticizing others (it's the second emitter of CO2 in the world)? I love the US and I believe in the potential of the UN but, please, stop dividing the world on 'good' and 'bad' and stop putting all the responsibilities on others. Let's be a bit more critical of ourselves and inclusive of others. And not the opposite. Afterall, that's where you truly approach the issue with love - by empowering and being ready to learn the opinion of others, and that's where the real change begins._ Hahah yes, China and Russia are the bad guys for their CO2 emissions, but the main question when it comes to the US is whether it can help the poorer countries with their emissions.\nNice choice of words, you biased figs.\n\nAny TED talk that starts with a story about UN is a TED talk you should avoid._ US and the western word should take more responsibility on climate change, even your production are done in overseas, you are the consumers. The rest of the world did the job but took blames, is that fair?_ Banfangu_ Nothing much I can do now except for sharing this video in every way possible._ Idk what this don is on about_ There is nothing wrong with the logical structure of this speech, but the content is all wrong.Just listening to the content is nonsense, and it's serious nonsense._ life on earth will be more interesting with the consequences of the climat changes ... i can't wait to live that !! hopefully it will begins soon !!  United Nation is a Joke !! this is an other fact !! If you need proofs i will give you_ It’s weird seeing a face attached to his voice after listening to him on Outrage & Optimism podcast._ I love the \"stubborn optimism\" idea. It feels like an optimism that is ethical not unrealistic. Gramsci talked about \"Pessimism of the mind and Optimism of the will.\" A friend of mine has this quote from Vaclav Havel on all her emails \"Hope is an orientation of the spirit an orientation of the heart. Hope, is an ability to work for something because it is good, not just because it stands a chance to succeed.\" Jonathan Lear has a great book on this called Radical Hope._ I LOOOOOVE TED_ Energizing and motivational talk\n\nThank you_ Thank you for convincing me to get up. I know what must be done now. I will be better._ Unite we stronger_ Tom- \"I don't know what to do with my hands\". Production- \"Pretend you are cooking a 5 course meal\".._ The video I needed right now_ Thank you for sharing these words, they are wonderful !_ LMFAO underrated comment!_ pouce bleu si ta prof d'anglais t'a envoyé ici_ Wonderful. Let's stop asking whether there will be a new normal or not, and just get on with creating it. Great video, Tom._ TERRIBLE title for a good message. Makes it sound like bog-standard mindful happy-clappy fad._ Such a great speaker.. In love with his speaking style 😍_ How come there isn’t a blood thirsty climate change debate in the comments?\n\nYoutube must be deleting them._ 🙏🙏😇😇❤❤❤❤_ Oh the ole' bait & switch..._ 👏👏👏This so deserves a live audience. Thank you 🙌_ Hello, I'm from VietNam, I would like TED_ thankyou_ Anyone help me_ Waste of my time. Should’ve had climate crisis in the title and I would have never watched it. But now you have added a view to your count. Boo._ Green screen m8_ Great talk but if the source of that stubborn optimism is to get behind Trump then count me out, or better still, I would rather go it alone and do what I can for my fellow humans and not for Trump's ego and political agenda._ Thank you for this❤_ so powerful!!!_ This is one of the greatest TED talks I’ve ever watched._ Good as audio. Terrible as a video. Too many Blairish hand gestures. Too many!_ We can no longer afford the luxury of feeling powerless 👏💪🌎_ This will be back in history books_ Or the channel deletes them._ Exactly_ Yeah, we germans tried the determined, stubborn optimism, about 80 years ago. Everybody wanted to restore germany after the great war and worked to heal themselfes and the world just with iron will and diszipline. Long story, but it didn't turn out very well, just like this speech._ I'm actually liking this TED format! Beautiful talk!👌_ Great how to video, definately giving me ideas for videos on my channel ! \n\nThank you for motivation :D_ Great talk but I wish he'd move his hands more 👀_ #xr_ Fabulous_ Loved your talk.. can't explain how much I needed to hear that._ Someone edit a barbell or gavel in his hands._ The UN is the future as globalization continues rapidly, but there will be a time in the future when \"the people\" will turn on the UN as a \"One World Government,\" and oppose them. The conspiracy theorists who oppose any rule of power and law will always try and undermine any good being done with a sceptical eye. Simply put, the idea of a small room of people dictating all of the world's big choices, will become the establishment to dismantle._ so...at the end, The Beatles were right...._ The best one I heard from his talk was \"it's scary now but let's approach it with love.\"_ Very weird hand movement. His words do not connect to the hand movement.\n = He is not telling honestly, because his body movement is telling otherwise._ i originally thought this was gonna be a ted talk on “the law of attraction” lol_ \"Is it really true that humans will only take sustained and dedicated action on an issue of paramount importance, when they feel they have a high degree of control?\" No, this is not true! Humans will only take sustained and dedicated action on an issue of paramount importance if and only if they feel the pain - given that taking action involves a reduction or delay of immediate gratification. Our brains are based on locally optimal optimization not global one, although the later is theoretically possible, it must usually be enforced by pain and extreme fear._ Nothing is going to change unless we all admit to ourselves, the real problem is capitalism._ I thought this talk was brilliant_ The problem is that organizations like UN WHO are totally corrupt, economically and politically. Bad actors like CCP controlled China are clearly not on the par for humanity other than coercion and bribery._ I understood your works❤_ твою ж дивизию, а мне че делать_ Thank you for your concern,As a Bangladeshi climate crisis is now every day issue and touching every one in minimum or maximum  way like unwanted heavy rain in Dhaka, heat, sudden flood in river side or heavy storm in coastal area..........._ GRITTIER, DETERMINED, REALISTIC, STUBBORN OPTIMISM 🔥\n\n\"we now need to move beyond this narrative of powerlessness.\" 👏\n\n\"we can no longer afford the luxury of being powerless.\" 👏_ I wish I wouldn't have read this comment before watching the video. All I could do was to watch and see how much he moved his hands._ yeah his hand movements are weird. but his words make sense and are true. judge a book by its cover?_ He's probably putting into practice a TED lecture he's watched on body language. Unfortunately, he's gone over-the-top and is forcing himself to wave his arms around hoping to emphasise what he's saying. 🖖_ @quAdxify: Thank you for providing this example of the mindset we are offered to shift away from. Not untrue, but only significant if you believe mind-change (and the attendant changes to the underlying neural network) are not possible. I, for one, have experience that such change is possible._ None of that is due to climate change._ The best so far_ 3 Ways To Future-Proof Your Career : \nInvest in yourself.\n\nContinuously learning and developing keeps you both at the top of your game now and in the right mindset to adapt to change in the future. By making learning part of your routine, it will become a habit and your brain will become used to consistently taking in new information. This way, when a big change happens, you’ll be ready to learn what you need to do to stay ahead of the curve.\n\nTake the time to learn new skills that will help now as well as in the future. Stay on top of new innovations in your industry. Keep a pulse on what’s going on internally at your company. Think about where you’d like to be in the next five years in terms of job title, position, and company you’re working for. From there, figure out the most important skills related to those jobs or positions, and make that your priority for learning. Being aware of what can come next and staying open to options will set you up for future success.\n\nYou don’t have to go back to school to learn. In fact, learning as you’re working is usually a far more effective method. You’ll be able to stay current in your industry and learn specifically what you need, rather than following a rigid set curriculum. If your company offers education as part of your development, take full advantage of it.  If you plan to make a drastic career change, that’s when formal schooling could be beneficial.\n\nCreate the job you want to do.\n\nJob titles and roles are changing, and you have the power to use this to your advantage. If you’re not feeling satisfied or fulfilled in your current role but there isn’t another role available, create one. This is a particularly useful way of gaining more knowledge and developing your skillset without having to leave your company.\n\nWhen you’re pitching an idea for a new position, make sure to be detailed in your explanation. Explain the responsibilities of the new position, how it relates to your current role, why it would be beneficial to the company, and of course why you’re the right person for the job. Be prepared to answer any questions that you’re asked, and always frame answers by highlighting the value it adds to the company.\n\nNot all companies will be amenable to this, but it’s always worth having a conversation with your manager to see if it’s a possibility. If nothing else, it shows them that you’re serious about development, and can put you on their radar for the next opportunity that opens up. You can also use this as an opportunity to transition into a conversation about ways to take on more responsibility, or even set yourself up for a promotion.\n\nPut down your phone.\n\nThere’s a whole world outside of your phone. Too often, we use our phones as a defense mechanism. In an uncomfortable situation? Pull out your phone. Don’t want to talk to someone? Pull out your phone. It’s easy to hide behind a screen, but it’s far more effective to put it down every once and a while. It’s even changed the way we communicate. We spend so much time on our phones for work that we get too accustomed to texting and typing rather than having conversations with people in person.\n\n\nRather than spending all of your time focused on digital ways of connecting with people, mix things up a bit. Make it a goal to have a five minute conversation with someone each day. Go to a networking event after work or happy hour with your colleagues. Networking events are a great way to help you step out of your comfort zone and practice face to face communication. You’re able to meet new people and learn about what they’re doing. It might even spark an idea for you to explore.\n\nThere’s no way of telling exactly what the future of work will look like, so it’s important to keep a pulse on your industry. By preparing yourself now, both by learning and putting yourself into the right mindset, you’ll be able to take the changes in stride and be ready for anything that comes your way._ Uhh sir, this is a Wendy’s._ Lockdown was the most useless and idiotic move ever causing more damage than good. Only Sweden understood it._ Gritty, Determined, Realistic, Stubborn, Optimism = Great 👏 Divas 👏 Run 👏 Straight 👏 On 👏_ A brilliant talk. One that is most needed right now.  Thank you, Tom._ Shift it by calling covid 19 a PLANdemic_ We are choosing our future.\nWe're choosing a nightmarish dystopia._ be the change that you wish to see in the world, sure thing , but i am not ghandi just an ordinary guy - screw your talk_ Being a monk in my twenties doesn't give me a seat at the UN. Do something. You put money and fix the glaciers. I'm stuck at home trying to make rent._ I'm not religious at all, but this was like hearing a beautifully written and spoken sermon. Inspiring._ Wow 17 tr wes_ I can’t put a hounded million like for this wonderful video and words ! I’m at work for creating something new about the pollution from humans . 🙏🏻_ Powerful words!!! Thank you_ Thank you Tom Rivert Carnet sir for this inspiring Ted talk, it will definitely help to change the mind toward the stubborn optimism._ What if you're stuck in an urban jungle with no woods nearby?_ youtube hi_ Woah I never knew the clapping at the start of Ted videos was just sound effects till now_ Approach it with Love. Thank you ❤_ you know I love it I click on this video and the first thing I hear is fear-mongering_ How you managed to write this long !_ Virgin_Mary _In_Islam thanks you so much_ Not religious either_ Check out his podcast Outrage & Optimism. So good!_ hi 토마토_ Lol_ LOL XD_ Same here. Haha._ So funny😁_ I was thinking the same thing!!  So many illusions around us!!_ I think it's just for this video, sounds different in other videos_ Welcome to the real world._ I'm going to put a link below please everyone watch this video it will tell you the truth about the coronavirus please thank you_ so what do we have to do make our immune system stronger then you won't die from the virus problem solved_ more people died last year from the flu then from the Coronavirus_ https://youtu.be/onrWLT6XYKk_ I highly appreciate the way Tom Rivett Carnac has inspired us and I will surely spread this message._ Firstly to change phone_ Ya gotta believe. If one doesn't they don't. Not my religion._ The UN agenda 21. The most evil theory ever_ This is a real attitude people need in this kind of depressing situation... Optimism and Action, we should do something._ Superb!! What a revolutionary talk!!!_ Awesome speech - how did he do it in the middle of the woods - some technical trick must have been applied there to make it so perfect. \nSorry for my skepticism. Any trick you reveal any how I will love it._ I don't know why but when I hear some quote about that Churchill speech, it gives me goosebumps. I'm not old and not even english but damn! that was a good speech._ Wow, wonderful! Almost the same, in very different words, as my attitude as social activist. Only a constructive positive attitude leads us the way out. Not by focussing on the outcome, but on our own contribution and outcome. https://medium.com/the-gentle-revolution/on-being-a-gentle-revolutionary-635ba7caf5ec Read here how it may enrich your life to start helping!_ Stubborn optimism is truly powerful_ This is kind of inspiring._ This is Brilliant 😍 exactly what my heart has been speaking 💛_ Dudes a joke 🤣🤣 climate change is natural and uncontrollable. Like how these people call it climate change now and not global warming_ Thank you_ Thank you for your inspiring talk! You're kind of a new Churchill! Well done!_ 113_ Staying in home helps a lot but some people still don't understand_ Yo, you should read more alarming articles to overcome depression_ the fact that there were no bugs interrupting_ SIDE CAMERA IS ANNOYING - PLEASE DON'T!_ Did you really need two cameras? It feels completely redundant and gives the whole video a creepy omniscient observer vibe rather than just looking at the speaker._ Oh, no ... This poor man has wasted his life, and he doesn't even know it._ This is not at all what the title implied._ Does TED ever do science any more?_ If we all compost our veggie scraps in stead of throwing them in the bin, it would make a big difference. \nIf you got a garden, don´t drive any greens away, but chop it up, and use it as cover for the soil. This will keep the soil moist and renew it._ Relax ... The raw NOAA data alone proves that it has actually gotten cooler in the last 100 years._ This is just what I needed to hear right now. Thank you. ❤_ Surah 7: Al-A'raf (The Heights): Verses 65-10\n\nhttps://www.youtube.com/watch?v=iCTYXO3kS88_ This man sounds like a good person and he's also very idealistic.  Actually he should write poetry    But to me the UN is a corrupt organization run by the US.  And until it gets out of the grip of the US it's not going to do any good.  It's not a fair representation of the world.  Sorry that's how I feel about it and I'm an American.  Okay now you lost me once I saw that picture of Mahatma Gandhi.  When are people going to learn to think for themselves that man was a child rapist and a molester he does not deserve to be on anybody's high list of greatest people on earth.  Many people in India considered him a criminal.  That ruined the video for me.  PS I'm not at war right now so stop trying to convince me I am.  It was just a flu nobody I know died and neither does anybody else I know know anybody who died.I don't trust mainstream scientists because they are usually narrow-minded and driven by religion politics or power._ I've gotten to where I read comments and replies while listening to TED talks. Generally, these are more enlightening than the main speaker.  Yes, the headline here is a bit misleading to the bulk of his message. Some other TED talks, in all fairness, have helped me gain better understanding concerning certain situations.  LOL Right now I'm enjoying this more as I hear words spouted I've basically heard for 50 years. I think I'll copy this as my main comment. Thank you Arcux, ThunderHawk, katarina janoskova, Josh Rauch and those many who commented and/or replied for this opportunity._ EXACTLY! Everything comes from within!  I focused on making myself a better version during the quarantine! Great motivational workbook recommend: https://www.amazon.com/dp/B087HHYLNB/!!! Thank you!_ Lovely watching and listening to you here on the top of Trentino Italy mountain. Me too, I live besides the forest. Staying in nature is paradise._ OPTIMISM ❤_ I stopped watching when he said he works at UN, no respect for that organization at all_ Sooner or later the truth will rise to the surface. The only solution to save humanity will be the loss of 90% of it. \nAt this point, I don’t know if limiting births would do it fast enough. All I do know, is if we don’t do it, the world will do it to us. And it is unsure if our species will survive at all at that point. \nIt is not only the common climate crisis we have to fear. The amount of waste and toxins we pour into the environment will take us out even if the climate does not._ I hope this desire for change include de economic development of poor countries like Brasil. Not only the preservation of florests while people dieing by bad infrastructure, hungry, bad heath conditions ou transportation._ Amazing talks_ We all people need to protect natural immediately. And  support climate change action taken by different govt or NGO ._ What was the topic of this lecture, again?? I wish Ted-talkers could manage to give a speech about ideas without including their personal ideology.. it is amazing that he could maintain the same speech tempo and tone for so long though- that was quite a challenge to pay attention to._ Sean Hardy it’s so if he messes up they can cut the video on the first camera and switch to the other camera where he repeats his line. If there was just one camera he’d have to do it perfectly all the way through otherwise if they wanted to edit out the mess ups it would look really clunky as the video stops and starts with him in different positions._ End Of Innocence All of life is a waste. We will all die and the universe itself will settle into a frigid heat death. There’s no point to any of it. But this guy still holds on to hope. It might be a foolish hope, but really we’re all fools if we still hang on to life._ @evanshirley6089  We are talking about how he has devoted his life to something that is completely false._ source? would like to learn more_ @user-sv3dm7ws6q  You could read \"Raw NOAA reveals more than we could have imagined\" on LeagueOfRealPeople._ @user-sv3dm7ws6q  Let's see if links are allowed: http://leagueofrealpeople.com/raw-noaa-data-disproves-catastrophic-anthropogenic-global-warming-climate-change/_ that was a divisive choice , in reference to an otherwise unifying topic. \nblessings and wellness to you dear soul._ That is difficult to refute. But have you tried looking at any of Hans Rosling's work? It might keep you from getting depressed._ It seems that way only because we haven't actually reached the Apex of humanity. We need a few more cycles facing cataclysm in order to band together and evolve as a species. Right now, our minds our busy consuming everything. We are consumers of resources. We are still unawake to the need to work with universal law instead of for our selfish gain. \n\nI believe this is also the message being conveyed in this video. It does seem like we've overpopulated the planet, but that's only because we haven't learned yet to work with nature and harnessing it through technology._ Andrew Kline Idk I found him engaging and insightful- I think he did a good job keeping the audience’s attention (in my opinion), because of the purposeful way he spoke and how he emphasized the importance of particular issues and ideas with his body. \n\nThe topic was about shifting one’s mindset, and he didn’t say what steps you’d have to take to get there, but he actively shifted mine into a more optimistic point of view like, “no matter if we win or lose the battle I’ll try my best and do my part because I believe in what humanity COULD be- and I believe in good.” I liked the fact that he was in the woods too, it made the setting more peaceful and enjoyable to look at._ I feel like ted talks should include their personal ideology. If you want to learn about the issue without personal thoughts then you may as well have read a book about it. It's about knowing what the person thinks of the issue and the story behind it. Even books are biased, everything in this world is._ You are right. I thought it would be for being more productive in this lockdown_ 'Stubborn and Determined Optimism' is the key. So true, so true._ So your telling me the UN is totally useless and we are all fucked...._ Powerful preposition_ He's a great speaker on an important topic!_ This video gave me a stubborn optimism. I know I can help. Let's approach it with love._ [TED]: \"How to shift your mindset and choose your future\"\n[me]: \"Ah, TED is finally getting back to a useful self improvement topic.\"\n[Tom]: \"...at the speed a glacier used to move at.\"\n[me]: \"ugh...click-baited into watching another climate change video. Very sneaky, TED....\"_ I wanna do all these thing but can't decide which one to do. I lose interest in one then wanna do the other. It just repeats,  Maybe its my ADHD._ @Tom Rivett-Carnac - Wow! Stubborn Optimism! You really nailed it, Tom! \nYou have reminded me me that my Power is in and through Love*. You have inspired me to approach this Pandemic and our Climate first from a place of *Love not *Fear*, and then to do what is mine to do. Thank you!_ Great talk even if I don't agree with the politics._ Why aren't you indoors?\nI'm calling the police._ I hope the future generations won't hate this one for not doing what's important. We need to start doing it, though._ 👏🏻👏🏻👏🏻_ wow...very informative video....good piece of work..\n#EnlightenedBeings_ he received a love letter and misinterpreted it, he now motivates millions though a ted talk vid. lol_ Amazing place for a ted talk_ wow, he said much but in the end he didn't say anything; like a politician. His last 10 seconds were inspirational😉_ Beautiful, powerful, inspiring talk.\nTo save an watch again from time to time.\nThank you._ I am from india , it is a motivat words give us courage to fight this pandemic_ I love this, imagine if the pandemic is doing this, the implications of climate change will be ridiculous. This is the best time to combat this! Anyways, I couldn’t  help myself...he said: 👊👊✋✊🤛👆👉👆🤙👋🤏🤜🤜_ Optimism and hard work bring success? Nope. It has never worked that way in my life. Not ever._ :)_ it MENTIONS climate change. don't be too sensitive lol_ I've gotten to where I read comments and replies while listening to TED talks. Generally, these are more enlightening than the main speaker.  Yes, the headline here is a bit misleading to the bulk of his message. Some other TED talks, in all fairness, have helped me gain better understanding concerning certain situations.  LOL Right now I'm enjoying this more as I hear words spouted I've basically heard for 50 years. I think I'll copy this as my main comment. Thank you Arcux, ThunderHawk, katarina janoskova, Josh Rauch and those many who commented and/or replied for this opportunity._ climate change is but one field of existence this premise might apply to .\nsee  rainbows emerge as this light shines through different facets of reality._ ADHD is a gift and something to be celebrated. Your attention wanders when things don't make sense, am I right? And many things you have been led to believe don't make sense because they are lies. The social disconnection you feel isn't a reflection of you. It's a symptom of being awake in a sleeping world. Because we are all born into a world that tells us how to think and not to question anything. I say question EVERYTHING!!! You are very special and loved beyond measure._ https://youtu.be/TLf1p5lluQg\n\nMusic helps. Many Blessings_ thank u too_ \"motivates millions\"?  That's a bit generous._ Climate change is a hoax , I love the jab at president trump. S.m.h. future generations will look back & Wonder how could those people be so stupid._ What I hear: \"We have a brilliant idea but we can't afford the cost of the project.\"\nWhat I say to myself: \"Why do people volunteer?\"\nDo they mean; \"We can't convince enough people of the \"project's worth or benefit\" to volunteer for the project?\nThink about it... If something is worth doing, I mean really worth doing, then all of humanity should be willing to do it for: the benefit of humanity present & future._ U lost me at - the UN is good._ Great talk. On a side note, am I the only one slightly disturbed by his overly-expressive hand gestures?_ Amazing TedTalk So Far I Feel A Lot More Motivated To Create New Content For My Channel!! THANK YOU 🤩_ Wow I used to intern at the UN and hated those slow meetings because they felt futile. I went corporate and am now having to search for jobs during a pandemic—which also feels futile. I don’t know what my future will hold but thank you for reminding us of “stubborn optimism” at this time._ Thank you for this._ Okay stick and stay... thank you Sir. 💯👌🏾🙏🏼📌🥰_ I wonder how much luxury life effects climate or environmental crises._ https://youtu.be/3f3Q4HLdKNc_ At the end I applauded from my room, how many of you did?_ If we think the other way this lockdown can affect us both negatively and positively....\nIn my case due to this lockdown I really got to spend more time with myself and got really clear ideas that what kind of dream I want to pursue...._ Thank you for this, it was really inspiring_ Amazing!_ Growth mindset and continuous learning for a great future._ OPEN MINDS seek understanding... closed minds judge things with their limited knowledge. A Wise PERSON hears all the facts before they make a judgement. Which one do you choose to be?\n\n​NEW info means often YOU ARE NOT READY for it... as PRE KNOWLEDGE is required... you have to SEEK UNDERSTANDING.. most don't know they using mind against self to seek flaws instead of understanding🤔\n\nBe Well, Be KIND... BE compassionate... we have ALL been deceived. We CREATE REALITY, be the CHANGE FIRST by putting forth LOVE FIRST, so others REACT to our LOVE and Create a better world 👁👁🤔\n\nVaccine = 1494, Virus=1494, Vaccine 5G = 1602. Revelation 14:9 Mark of Beast Warning. Revelation 16:2 FIRST VIAL Sore on MARK ppl. Vial 🧪is used to fill a syringe💉 Code: ascii code -64 x6 = (=1318)\n\nThe Count the NUMBER of the Beast as 666 the number of man Prophecy is Revelation 13:18. The code that does the x6 code syncro from ASCII, adds up to that number. ascii code -64 x6 = (=1318).👁👁🤔\n\nVaccination = 666, RF-ID-Chip = 666, Mark of Beast = 666, See the Sign = 666 (x6 code)\n\nProphecy says Cannot buy or sell without the Mark of the Beast. Cannot go back to work without vaccine!!!\nIts a work around. The extras in vaccines like mercury and other metals. Toxic. More so when certain freqeuncies effect them. No REST DAY or Night when you are poisoned within!\n\n500 Million MAX World Population on Georgian Guide Stones. They won't stop with this ability to make it look like natural causes. The EMF GHz frequencies can be uesd to make a virus 10x worse and fatal! Making it a perfect weapon. 5G being rolled out while we all in home lock down. protests were gettting it stopped in some places. 5G is capable of being programmed to do various frequencies etc. Wuhan and cruise ships had the 5G. Government leaked Live Exercise... they are trialing things.\n\nLots of Power in BELIEFS with NO DOUBTS. See Placebo Effect. See LOA. The system is designed to STOP US from having BELIEFS that have power, by so many doubts. SCIENCE is full of doubts at all things!\n\n\nTHIS is NOT the END of the World. BUT IT IS THE PROPHECY of the END of the WORLD! We get through this when we realise and apply our GREAT POWER of CHOICE and INTENTION as UNITED MIND in LOVE & Peace🤔\n\n\nJesus taught KEYS to be ONE with the SPIRIT (The Father) omnipresent supreme being. But he was murdered to STOP the Jail Break. He said, all who BELIEVE shall do GREATER WORKS than he did! Ponder that\n\nIf you were born on the other side of the world in a different religion, you would think that yours was the right one. Divided & Conquered by the deceiver from the biblical text as serpent/dragon.\n\n\nI found many signs about Jesus prophecy and codes. Not NUMEROLOGY, but patterns in alphabets, and there is a big twist. When you understand the minds workings. JC teaches KEYS to UNLOCK Power.\n\nActs 10 Peter says, now he knows for sure that God honors all men in all nations with a heart to do the right thing. This means YOUR RELIGION DOESN'T MATTER, its YOUR HEART and DEEDS & thoughts fruits\n\nThere are IMPOSTOR GODS that pretend to be the SUPREME BEING, which is the omnipresent energy that is all things. This is now proved by science. We interact with this energy it reflects us back at us!_ even this pandemic might cause environmental crisis ( lots of ppe equipment might turn to plastic waste )_ That's very interesting perspective. Thank you. Thumbs up 👍_ He is kind of speaking my mind ..lol_ Thanks for the hope in the face of what I used think is stupidity or incompetence_ @Hwee - No, you’re not the only one. His hand movements are a distraction._ Good luck with the job search. Do what you love, at least work towards that; don't be swayed by money or status or what others think. Then you'll have a purpose, not just a job._ SAME! For the first time in years I had the chance to stop and think.... Great workbook recommend if you are on a pursue journey: https://www.amazon.com/dp/B087HHYLNB/_ Great and interesting revelations! \n\nDoes it resonate that there is an idealogy at work that keeps leading or misleading us to references in the teaching of Christianity.. ?\n\nIs it using the firm beliefs of millions of people who read some sort or kind of religious apocalypse and smashing it into a materialist scattered perpective.. leaving the crums of godless doubts in ourselves.. to make us stumble in despair and submit or possibly forsake our will to fight as humans and be reduced to mere flesh at the meatshop or even to be domesticated as a beast for sacrifice! I have been thoughtful too!_ *or greed and malic before that painting an equally depressing picture without access to much of peoples reasoning let alone government/corporate moves._ Hi everyone I’m taking my AP exam today. Please wish me luck!_ This virus was made by the Communist Party of China and spread deliberately around the world. Obviously, the CCP has more than one virus, and this will definitely not be the last time the Chinese Communist Party has poisoned the world.\n\n\n这个病毒是中国共产党制造并故意散播到了全世界。很显然，中共拥有的病毒绝对不止这一个，而且这也绝对不会是中国共产党最后一次投毒到全世界。\n\n\nDieses Virus wurde von der Kommunistischen Partei Chinas hergestellt und absichtlich auf der ganzen Welt verbreitet. Offensichtlich hat die KPCh mehr als ein Virus, und dies wird definitiv nicht das letzte Mal sein, dass die Kommunistische Partei Chinas die Welt vergiftet hat.\n\n\nQuesto virus è stato prodotto dal Partito Comunista Cinese e si è diffuso deliberatamente in tutto il mondo. Ovviamente, il PCC ha più di un virus, e questa non sarà sicuramente l'ultima volta che il Partito Comunista Cinese ha avvelenato il mondo.\n\n\nไวรัสนี้ผลิตโดยพรรคคอมมิวนิสต์จีนและแพร่กระจายไปทั่วโลกอย่างจงใจ เห็นได้ชัดว่า CCP มีไวรัสมากกว่าหนึ่งตัวและนี่จะไม่ใช่ครั้งสุดท้ายที่พรรคคอมมิวนิสต์จีนได้วางยาพิษโลก\n\n\n이 바이러스는 중국 공산당에 의해 만들어졌으며 전세계에 고의적으로 퍼졌습니다. 분명히 CCP는 하나 이상의 바이러스를 가지고 있으며, 이것이 중국 공산당이 세계를 독살 한 것은 아닐 것입니다.\n\n\nयह वायरस चीन की कम्युनिस्ट पार्टी द्वारा बनाया गया था और दुनिया भर में जानबूझकर फैला था। जाहिर है, सीसीपी में एक से अधिक वायरस हैं, और यह निश्चित रूप से आखिरी बार नहीं होगा जब चीनी कम्युनिस्ट पार्टी ने दुनिया को जहर दिया है।\n\n\nこのウイルスは中国共産党によって作られ、故意に世界中に広がった。 明らかに、CCPには複数のウイルスがあり、中国共産党が世界を中毒にしたのはこれが最後ではありません。_ Loving this so far, a very interesting topic indeed!_ Advice don't share your dreams just go for it ,dragons are waiting for your ideas,if you can sing you don't need Simon cowell be your own boss_ Morning meditation \nhttps://youtu.be/nNHWS-RxQo0_ really like it_ Gritty determined realistic Stubborn optimism._ Mine says no views😏_ Inspiring taking is always good for all man_ I was lol_ the cute little  chirps in the background aw_ A really apt talk given the scenario._ Enjoying nature I guess_ FIRST\n\n\n\n\n\n\n\nPresident of the U.S. was George Washington_ :)_ Wow! No views and 8 likes!_ Hey Ted I need to tell you something, can we talk_ Haha I'm first_ 🙏💛🌅_ A growth mindset is very important_ luck granted_ Omg yes.. I just started doing this.. And it actually changed my life.. I'm starting to reach my dreams little by little,and I'm so proud of myself for that._ I am so glad to see an indian comment_ Cheshta Gupta I love this particular string of words 💗_ SECOND\n\n\n\n\n\n\n\nnumber is 2_ lol_ This is inspiring:)_ first_ :)_ ye"
        ],
        [
         "2",
         "FVUkKKc3Vvk",
         "I enjoyed😊 her book, My Side of the River._ So underrated! I love your oxygen mask analogy, I can totally relate!_ Since taking office, President Biden has distanced himself from the previous administration by highlighting racial equity, including in his approach to appointing agency officials and a new Supreme Court justice.\n\nWhile representation is a critical component of racial equity, deep systems change is necessary to achieve meaningful transformation. Biden’s approach has notably failed to address the systemic racism inherent in our immigration system, which his administration has weaponized to expel Black people seeking safety in the U.S.\n\nAmerica’s immigration system was designed, from its inception, to keep Black immigrants out. Today’s immigration system—starting with the asylum process and detention centers and ending in immigration courtrooms—continues to make use of historical mechanisms for denying Black people entry to this country.\n\nOver 147 countries, including the U.S., recognize the right to asylum, which guarantees protection to those fleeing persecution on account of their race, religion, nationality, or other protected grounds. But to obtain asylum, a person must first reach a U.S. border—a notorious site of racialized inclusion and exclusion.\n\nThis foundational requirement—that a person physically knock on America’s door—was the first “line of defense” the U.S. used to keep Black migrants out. In the 1980s, the U.S. deployed the Coast Guard to block 23,000 Haitians fleeing Jean-Claude Duvalier’s repressive regime from reaching our borders. Of those 23,000 people, eight were granted asylum.\n\nIn the 1990s, the U.S. again intercepted Haitian refugees. Of those 37,000 people, just 300—less than 1%—were granted asylum. After campaign promises of more compassionate immigration policies, President Biden forcibly expelled at least 10,000 Haitians from our Southern border without due process; none were permitted to seek asylum.\n\nToday, the U.S. continues to create and support policies intended to deter and push back Black migrants, preventing them from touching U.S. soil through a system of racialized border exclusion. The Biden administration continues to employ a deeply flawed and racist metering system, a legacy of the Trump administration that creates greater obstacles for Black migrants, requiring them to submit more documentation than others to be added to the list for entry.\n\nBlack migrants suffer from disparate credibility findings during credible-fear and reasonable-fear proceedings, and blanket denials for humanitarian parole and Title 42 exemptions. The problem is so entrenched that a hundred Democratic legislators from both Congressional houses have submitted a letter to President Biden voicing concerns about the administration’s treatment of Black migrants.\n\nImmigration Detention Policies Are Oppressive\n\nImmigration detention policies further oppress Black migrants. In the 1980s, our system of mass detention was created to keep Central Americans and Haitians out, giving rise to the criminalization of asylum and the modern system of immigration detention.\n\nIn the 1990s, the U.S. government held intercepted Haitian refugees in cages for a year at an “HIV prison camp” at Guantanamo Bay, Cuba. Now, Immigration and Customs Enforcement detains approximately 20,000 immigrants each day in a vast network of federal detention centers, private prisons, state prisons, and jails.\n\nBecause police disproportionately arrest Black individuals, juries disproportionately convict them, and judges levy disproportionate sentences against them, Black immigrants are disproportionately funneled into immigrant detention. Not only are they detained for longer periods of time, they are six times more likely to be subjected to solitary confinement.\n\nAnd once Black immigrants enter immigration courtrooms, they face judges with crushing caseloads and about four hours to make a life-or-death decision—the precise conditions in which racial bias thrives. Implicit bias and institutional shortcomings inevitably impact how an immigration judge perceives an applicant’s credibility.\n\nBecause of bias and institutional racism, Black people historically have been perceived as dishonest and untrustworthy. So it is no surprise that immigration judges are more likely to find Black immigrants less credible than those of other races.\n\nFailed Policies Need Correction\n\nThere is much that this administration must do to correct the long history of failed immigration policy. First, Biden must push Congress to eliminate the harsh criminal bars to asylum—bars created in the late 1990s, which have steadily expanded since then. He must advocate for an end to detention of immigrants—especially mandatory detention—which can result in the imprisonment of immigrants for years after they have served their criminal sentences.\n\nAnd to combat discrimination in immigration courts, he can require that immigration judges participate in increased anti-bias training; he can hire with greater racial diversity; and he can create work conditions conducive to thoughtful, merits-based decision-making—not “rocket dockets” or expedited legal proceedings.\n\nRacist policies that restrict the movement of Black people and other people of color and subject asylum-seekers to mistreatment and detention while their legal claims are processed, disproportionately harm Black migrants. It is time to recognize these injustices and enact policies to prevent them.\n\nThis article does not necessarily reflect the opinion of The Bureau of National Affairs, Inc., the publisher of Bloomberg Law and Bloomberg Tax, or its owners.\n\nWrite for Us: Author Guidelines\n\nAuthor Information\n\nTsion Gurmu is the legal manager of the Black Alliance for Just Immigration, the first national immigrant rights organization for people of African descent. Gurmu is also the founder and director of the Queer Black immigrant project (QBip), a lawyering initiative that provides comprehensive legal representation to LGBTQIA+ Black immigrants.\n\nEstelle M. McKee is a clinical professor of law at Cornell Law School, where she co-founded and directs the Asylum and Convention Against Torture Appellate Clinic, through which she represents asylum seekers before the Board of Immigration Appeals and the U.S. circuit courts.\n\nPatricia Stottlemyer is a human rights lawyer and advocate working to hold the U.S. accountable to its human rights obligations. She currently serves as the senior domestic policy adviser at Oxfam America. She previously represented asylum seekers in federal lawsuits challenging the anti-asylum policies of the Trump administration.\n\nTo read more articles log in.\n\nLearn more about a Bloomberg Law subscription._ Thats my cousin._ %_ Why is it that I never hear anyone call Mexico racist for having a fence on its southern border?_ Giống ng vn._ Telenovelas_ Met Elizabeth through HSF. Amazing talk! :)_ Beautiful talk. 💖 Thank you. 🙏🏽_ A society should be judged based on how it treats the weakest and most vulnerable._ Help yourself first. Then your family. Then your community. In that order.   Looking to achieve financial success is never just about you._ American dreams that too many Americans take for granted._ Great presentation... The narrative fits my immigratory  background_ what a bad azz!_ Indonesia translation_ American immigrant are the englishman who travel to america. The true american was killed by this englishman._ I love this suit._ Super touching and brave story!_ The suit, the makeup 🔥😍😍😍_ That's exactly what all the TED immigration-themed stories are._ ❤_ 👍👍👍_ What is missing  around the world?\n\n1. Kindness\n2.Compassion \n3.Tolerance_ This gave me a little hope in life 😢_ Say narrative one more time...ONE MORE TIME...SAY IT...SAY IT!_ I wanted to get something from this but... I'm not sure I learned anything. Maybe that's related to her being a random experiencer of this instead of an expert who studies it. Or maybe cause I already thought of immigrants as fellow humans. Idk, maybe It was just me failing to see the insight she provided._ Im from Vietnam, Im learning English, I was here :)_ Why did her parents go back to Mexico?_ American dream,a highly priced ticket that not many can afford,and those who don't get the ticket are paying the higher price.We can not all be successful and rich,but the world SHOULD be a fair place fo everybody.\nPersonally,I moved back home and I am happier,be in the USA looked like more someone else dream,not mine._ You’re lovely. Thanks for making me in a good mood watching and listening to your video from the top of Trentino Italy mountain._ Now a time comments give more information than video.\nAfter watching entire video than spend quality time to read comments.\nWe will conclude the whole thing.\nIn comments, we can see pros and cons about public opinion that will help to know what actually going around the world._ Look up gumball immigration_ I was with american dream to study in the Us of 1979, after 11 years I get my any good chance to come back to Taiwan. I find out that Americans are so shallow about the world, even the most discriminated black people will love to discriminate the outsiders, the America is not a melting pot, it's a dynamite ready to ignite. The preisdent Trump is the best example._ Brave!_ Thumbs up!_ nice dress_ There is nothing that gives me more hope for my people than a beautiful brown women on TED. Respect ✊🏽. Keep it up ! Ps we are native Americans !_ I'm a small YouTuber\nI have been working on YouTube for the last 6 Months\nI don't have much Traffic 😔😔\nOnce you see my Channel and Suggest what I am doing wrong so that I can Correct it✔️✔️\n\nOne of your Suggestions means a lot to me🤗_ She is absolutely amazing..._ What kind of classic fashion?  Talk in everyday wear_ The quality of TED Talks are getting really bad._ Christianity and Capitalism_ Jodi 😂  👌_ Yeah i didnt see the relevance of her speech even when im an inmigrant myself ...but good for her_ I'm from Brazil and I'm learning english too_ Just for fun_ They didn't just go back, they were forced to if I heard it right. Maybe there was an issue on their stay._ Hi_ This was beautiful_ Н_ In my experience as an immigrant in the US the whole immigration system can be summarized in: If you have something of value to offer to the country you can stay, if you don't, good bye. And as cruel as that might sound to some people that's a pretty sensible approach to immigration if you're ruling a country imo._ Go back_ Points: The American culture of dividing immigrants into lower-level and superimmigrants should stop for healthy immigration (citizenship helped her, but won't help everyone with an American dream). She is an outlier that could succeed despite having a broken upbringing due to this problem (her dad who was lower-level felt discriminated and gave up the dream) and feels guilty for being a superimmigrant and perpetuating this divide. She is saying despite this guilt (flight oxygen-mask example) they should have grit/courage for eventually helping their suffering families._ I feel like these people look at this country running on fumes, jealous of our exterior from their backwater lands. We are honestly super overrated and y'all are jealous over a paint job. The real interior of this country is just as rotten as yours, we are a dying empire and if you come here, you are trying to go to a supernova just before its about to implode to being a Red Dwarf. I just thought I would be nice and let you know in case her story is inspiring or something._ Brave beautiful kid who has been through a lot. Wishing her and her brother the best._ Too short pants and extra long sleeves?🤔_ https://youtu.be/65Obe8N7TO4_ The points:\nBreaking up families is bad for those American citizens being split from their relatives.  \n\nThe Immigrant ideal is a bit destructive/distracting. Not all can live the rags to riches story. \n\nSeems fine. Not sure where all the anger in the comments is coming from._ La Miiiiigra_ 😀👍_ True Americans are with you Sister 100%        🎇☮🎇   for ALL_ George Soros paid for trucks & paid thousands of people to raid the borders._ What’s missing is the media refuses to use the word “illegal “ in conjunction with the word “migrant”_ Anyone else still subbed to TED just to downvote their retarded tribal politics?_ What’s missing from the American immigration narrative? The same things that are missing from the immigration narratives of all Western countries - truth, openess and the citizen’s ability to CHOOSE what hapoens to the demographics of their country._ beni israil dünya israiloğulları örgütü tarafından imar edilmiş mesnedleri İslam dinine muhalif muvazi ve muaccez fıkıhlar olan ilgili ülkede yaşayan beni israil dünya israiloğulları örgütüne güvenmeyenleri imha etme hazırlıkları için beis başlatma hahamları mertebeleri oyunlar_ ICE get on the ground!!!_ NDallas40  It's a good thing the land of the USA is still among the richest in natural resources in the world. The survivors will have a decent pool of resources from which to rebuild. It will be interesting to see what forms of political and economic entities will emerges from the ashes._ @cla99009  it will look like central/south -america or africa._ NDallas40  world class education is important but insignificant compare to the world class respect to the nation and the values it stands for.  Remember not patriotism that made empires  dissolved,  it is treason, and hate for the country and people who protects them._ Onteaya Evelina her outfit is 🔥🔥🔥 don’t do that Lol_ I don't think this was the gist. The American culture of dividing immigrants into lower-level and superimmigrants should disappear for healthy immigration (citizenship helped her, but won't help everyone with an American dream). She is an outlier that could succeed despite having a broken upbringing due to this problem (her dad who was lower-level felt discriminated and gave up the dream) and feels guilty for being a superimmigrant and perpetuating this divide. She is saying one would feel guilty (flight oxygen-mask example) but should muster the grit/courage through this period for eventually helping their suffering families._ Unfortunately,  when a family member has to migrate expect inevitable separation for a short while. Deportation says something different.  Please don't get the two confused. She did good on her own in spite what happened and that's all that matter._ What a load of horseshit._ Sorry. You lost me on the sob story about how the laws and systems of the United States \"broke up\" your family. Try this on for size: instead of being bitter that your parents were kindly invited to exit the country from which they had attempted to STEAL citizenship and were expected to try the immigration process the correct, legal way; how about you be GRATEFUL that because of a loophole in the law, you and your brother were gifted citizenship by virtue of where your mother happened to be when you exited the womb. Consider yourself lucky. Don't you dare blame the country for asking your parents to do it the LEGAL way._ What's missing currently in the American immigrant narrative?\nImmigrants.\nSteven Miller is an immigrant's worst nightmare._ Oh look, more noise from TED._ Kya dylasis machine ko itna chota kar deya jaya kidny ka jaga machine filter kara blood ko_ Get ajob_ migrantiphobia on display here.  Just look and reply.  if you dig you'll find it ._ Nyesal aku nontonin, ternyata malah curhat masalah keluarga🤦‍♂️_ Funny....I think we should treat Mexicans like Mexico treats Hondurans._ What a joke._ Me  Me Me Me mem mem memememmm em meeeeeeeeee mmeme me what a wast of time_ I dont know anything.\nBut Boycott China!!!_ Deportation_ *lady_ 👌👌🇩🇿🇩🇿🇩🇿🇩🇿🇩🇿_ The way you speak is boring to me  , it’s seems such a street talk , not academic ._ Omg.... Biggest waste of the 1 minute and 37 seconds of my life_ Something to think about, seriously!!!\nWhat people have to put themselves through to collect a living wage!!! Happening ALL over the world!!!_ Whats missing is gratitude. Immigrants move to the first world for their own self interest then expect the first world to be grateful for them coming here.\nMuch respect for gaming the system but dont expect to game the people._ She is been used to do propaganda, by the People with the oxygen musk on, wanting as to die starving, with revolutions, wars, pandemics, or perhaps she is mentally incapable of comprehending how the modern economic system really works.\nQuote: “The few who understand the system will either be so interested in its profits or be so dependent upon its favours that there will be no opposition from that class, while on the other hand, the great body of people, mentally incapable of comprehending the tremendous advantage that capital derives from the system, will bear its burdens without complaint, and perhaps without even suspecting that the system is inimical to their interests.” The Rothschild brothers of London writing to associates in New York, 1863.\nQuote: “The modern banking system manufactures money out of nothing. The process is, perhaps, the most astounding piece of sleight of hand that was ever invented. Banks can in fact inflate, mint and un-mint the modern ledger-entry currency.” Major L L B Angus.\n“The study of money, above all other fields in economics, is one in which complexity is used to disguise truth or to evade truth, not to reveal it. The process by which banks create money is so simple the mind is repelled. With something so important, a deeper mystery seems only decent.” John Kenneth Galbraith (1908- ), former professor of economics at Harvard, writing in ‘Money: Whence it came, where it went’ (1975).\nBILLIONS OF PEOPLE ENSLAVED BEFORE THEY ARE EVEN BORN, IF WE FAIL  TO ELEVATE  DEMOCRACY ABOVE, THE POWER OF MONEY, CHOOSING CONTROL OVER TRUST, NO CHANCE FOR THE ELITE OR AS TO SURVIVE THE 21th CENTURY._ ⵡႽᐱ  the point was she's griefing about that her parents were kicked out for comming into the US illegally: They knew that they were breaking the law and that their family getting split up is a possible consequence of that. Yet she makes it look like the US was doing something unlawful. He is pointing out that that's not cool and that by trying to manipulate her audience in that way, she made him completely unreceptive to her message. \n\nThis is on her, not on him._ ⵡႽᐱ  I didn't say she was a treasonous traitor. I said she shouldn't blame the US for breaking up her family. That's on her parents. Disingenuous emotional ploys are a poor way to make a point on policy._ @cla99009  How many generations back did your ancestors come to America? From where?_ Dawood Sedeqi she sounds relatable which probably makes the information more digestible for some people._ Me ,only 47 sec. ((:_ You should've known from her valley accent and pretentious suit in the first 10 seconds._ @babayaga9102  hahahaha the crazy weird pant suit was probably the thing that actually drew me in!\n\nI mean it's kind of like you're hoping that somebody who is Einstein smart wears something that horrid... So you just have to listen to what they say, so that you don't miss out on the theory of relativity...\n\n\nBUT... IT ENDS UP JUST BEING A WASTE OF 1 MINUTE AND 37 SECONDS OF YOUR LIFE... AND A POOR UNATTRACTIVE GIRL WHO'S FRIENDS ARE AFRAID TO TELL HER....ummm... Don't wear that!_ I only could do 1 minute and 21 seconds. Lol_ Aspartame69 who said they were asking for the first world to be grateful for them coming?_ @quebecmunoz9206  Search youtube for 'you clap for me now'. Bearing in mind that the immigrant representation in the NHS is smaller than the immigrant representation in the population as a whole and witness the absurdity of the virtue signal._ 🇺🇸💯🇺🇸💯_ You're confusing Americans and the American News Media/Corporate interests.  We didn't invite your  parents, they showed up unannounced and we sent them packing._ More \"poor immigrant me\" crap. It's the land of opportunity not guaranteed success._ Ugly pants suit_ This is just in About China from the John Birch society    https://www.youtube.com/watch?v=kChen1Fnl-k&feature=em-uploademail_ Left or Right, we are all humans under one Race. The Human Race. Anyone who doesn’t understand this fact, are not Super Immigrants, but in fact the Super Idiots of this world. And, likely to vote for, Warmongering Politicians._ Build that wall_ Yea let's go to Mexico or any other area south of Mexico and see what benefits the governments pass out. A thump in the head and locked up in a jail/ prison.  The US could at any time throughout the years went and liberated Mexico and the others but the US gruberment gets paid off to keep the drug trade flowing among other political narratives._ (Cue the “me me me me me” song)_ What is missing is the word \"legal\" as in legal immigration._ As a Venezuelan immigrant I’m beyond grateful to call myself an American citizen. I worked hard, paid my dues, and don’t act like a victim constantly. This whole thing was just a complaint where there is none._ I love these TED_ TheReportOfTheWeek got a competition_ No time\nNo worries \n\nSimple answer is have the effort to help other immigrants and find strength for them.\n\nFor more.. https://www.youtube.com/channel/UCwdw3HErMUXFyIzAxG3wF0A\n\nThank you..😇😇_ I dont know about America's status as a Land of opportunity anymore....._ I don’t think this woman knows the difference between an immigrant, and an ILLEGAL IMMIGRANT._ 50% of Immigrants Probably Don't have Enough Money To Dress Nice Unlike This Talking Head_ So cool_ I love these TED talks because they’re both funny and educational!_ Anyone else concerned about the obvious politics of TED?_ Demonizing immigrants, building a wall, nationalism. There’s no need for any of this type of behavior. It’s the easy way out to blame these groups. The people that do this have similar freedoms, opportunities, and chances to develop and perform at their best but fail to realize that. Delbert Annis, You have the right answer: we are all products of the human race._ @marnixsiekmans8259   Indeed, Its sad that one side sees immigrants as serfs, hates america, wants our laws to be flouted. It's easy to blame one side completely with no self introspection and say it in such a high minded way as though one were speaking the absolute truth. The people that do this are so blind they do not realize that the laws of supply and demand still exist and when you inflate the supply of labor the price of said labor will be lessened. Donald Trump, you have the right answer: We will build a big, beautiful wall and make Mexico pay for it._ Lvl99 WhiteMage you forgot what happens underneath, above, and without the wall. The same. Additionally,  a wall won’t prevent companies part of the supply and demand economy implementing technology and taking jobs away from people no matter what nationality or race they are. I’m sure you love technology and what you can do with it. So you are right: build the wall._ He still hasn’t done it. Sad!_ Can you provide your evidence?_ Actually many Mexicans VALUE there county it's not like many of the American news make it look, yes there is violence due to cartels and corruption but many places grow, many Mexicans fight with education to make it a better country for the next generation of citizens you should visit the famous beaches, learn something about a different culture at one of may archaeological sites the country has to offer,try new food and meet real Mexicans_ Please provide your sources._ Yeah_ Will224000  And the whole \"legal\" and \"anchor baby\" thing is a deliberate attempt to dehumanize people. When my grandparents immigrated, they literally showed up unannounced on a ship full of other poor European people. They basically signed a form, pledged allegiance, and became Americans that day, no years of paperwork and lawyers. I can't say for sure what they would have done today if faced with the modern tangle or red tape but I'm pretty sure they were desperate enough that they would have circumvented it. Anyway, I think the whole \"my family came here legally so yours should too\" misses the apples and oranges nature of the equation. Plus it conveniently overlooks the acts of mass murder and con artist type schemes committed by many of the first Europeans here when they took land that wasn't theirs--in my book that actually was illegal immigration._ @karlharvymarx2650  Its almost as if laws change over time! If you enter any country and flagrantly break their laws you're a criminal same with immigration. Just because laws were different back then doesn't mean they shouldn't be followed now._ sonoki82  Maybe not 900k, but I'd assume they need some. Who else will be picking veggies for minimum wage? Not the educated, american kids. How many would be an acceptable number for you?_ Thank you for earning to get here, you thankfully realize the amount of a privilege it is to be here. You should work for it. Once again, thanks_ You obviously missed the point._ Describing the psychological pathway to a healthy relationship between her identity and her reality takes courage. People who would criticize anyone attempting to navigate that are both arrogant and ignorant._ You need to work to get here._ Freedom Fighter true. You have two options: McDonald’s or Walmart. Yay opportunity!_ OBEYTHEWALRUS G59  You shouldn't be spewing them too then wise guy don't become dumb by replying_ OBEYTHEWALRUS G59  Your foolishness is showing..._ OBEYTHEWALRUS G59  Shouldnt you be minding your 'own cards' that are dealt to you ? Ringmaster now gtfo and get a life_ Will Wow illegal invader!_ Exactly._ Jaja_ Sounds like a paid comment_ @raoulhayes196  really does_ It’s mostly feminist propaganda_ @buttersurge8047  Atleast someone noticed it....._ SirKahless if you don’t like it unsubscribe_ Unsub_ I'm surprised TED hasn't fallen over from leaning so far left._ I think if a white or conservative male had a great idea to share, they probably wouldn’t turn it down. I don’t know if the political talks are necessarily being published for a politically controversial/left-winged “propaganda” reason or on purpose. The lack of diversity could very well be because many women appreciate the opportunity for an outlet to speak, democrats tend to focus more in the humanities, or because minorities tend to have more interesting stories and perspectives to share than others._ No they are all women, feminists often ethnic and all have the same opinion. If that isnt diversity i dont know what is._ @pattikubota   That would assume leftist people think conservative ideas are great - which is is an insane notion in itself. Left leaning people pick leftist ideas to be shared. Now, if a platform wants to do that, that's fine. But don't pretend that it's not what's going on. It's insulting to the intentions of the programmers at TED and the intelligence of right-wingers. It's happening and it's okay. They have FoxNews._ Ben Verzijlbergen I guess but it is possible to be a liberal and agree with ideas that come from conservatives. Things are not that black and white. I feel like some conservatives make very compelling arguments, some of which liberals could side with. If someone is persuasive enough and has good intentions, credible data, and a positive message..but with a conservative aspect, I don’t see why TED or TEDx would turn it down. This could be my hopeful optimism tho idk_ @thoughtheretic  Do you have anything rational to say?_ @Leona.luna8  Is this like, \"if you don't like the country then leave\"? Asking for a friend_ @pattikubota  Optimism is a good thing, I guess. Just make sure to remain vigilant and ask the tough questions, so it doesn't turn out to be ignorance instead._ The Flaneur  soooo.. is it working? 😋_ Tyler Poppy tell your friend that ,no, it’s not that extreme homie 😂😂😂 don’t compare haha ridiculous_ It's been like this for years.\nI stopped getting excited for TED talks about 5 years ago. Agenda ridden rubbish._ omNomios awe poor you :( I hope you find other channels that you can get excited about! There’s millions!_ I know how you feel, omNomios. They still have the odd gem in there, so it's worth staying subbed - at least for me. And there's nothing wrong with voicing your dissapointment about the current state of the channel, communication is key to making change. Maybe some communications major in here could start appreciating that and get the conversation flowing instead of trying to shoot it down?_ Ben Verzijlbergen I see you 👀 😁 sending you lots of love 💕_ Ben Verzijlbergen Thanks that is good advice_ What's missing from the American immigrant narrative?\nhonesty_ 🇩🇿🇩🇿🇩🇿🇩🇿🇩🇿❤️_ Love ted talks_ New youtuber. Please support me. Thanks_ I like cucumbers_ It's true. I don't know of one person that's against legal immigration. When one side continues to conflate legal with illegal immigration, nothing gets done._ @NACAM42  Me neither, this is absurd!_ @NACAM42  White people are the only demographic that vote majority republican as soon as they become a minority in the usa there wil never have another republican._ Starting by hers. What is her passion and where does it come from?..._ @_lprenzo0808_  So you didn't see the results of the special election in CA yesterday? I suspect it's a harbinger of what will happen in November._ lprenzo0808 That’s exactly what’s going on right now, but the opposite:) better stock up on tissues and get yourself a therapy puppie🐩 it’s going to be another glorious 4 years of Trump🤣😂🤣_ Truly_ @Autumn I think you missed the point._ @Autumn Yeah... I think you missed the point of what I was saying. And no, what's happening in California is not sustainable, moreover support for illegal immigration is tacit support of human trafficking._ Will224000  😳_ Same"
        ]
       ],
       "shape": {
        "columns": 2,
        "rows": 3
       }
      },
      "text/html": [
       "<div>\n",
       "<style scoped>\n",
       "    .dataframe tbody tr th:only-of-type {\n",
       "        vertical-align: middle;\n",
       "    }\n",
       "\n",
       "    .dataframe tbody tr th {\n",
       "        vertical-align: top;\n",
       "    }\n",
       "\n",
       "    .dataframe thead th {\n",
       "        text-align: right;\n",
       "    }\n",
       "</style>\n",
       "<table border=\"1\" class=\"dataframe\">\n",
       "  <thead>\n",
       "    <tr style=\"text-align: right;\">\n",
       "      <th></th>\n",
       "      <th>video_id</th>\n",
       "      <th>all_comments</th>\n",
       "    </tr>\n",
       "  </thead>\n",
       "  <tbody>\n",
       "    <tr>\n",
       "      <th>0</th>\n",
       "      <td>YgAuFqEs6yk</td>\n",
       "      <td>Amazing_ This is true. Sometimes things happen...</td>\n",
       "    </tr>\n",
       "    <tr>\n",
       "      <th>1</th>\n",
       "      <td>bNmRr-BYnxA</td>\n",
       "      <td>Bravo!_ A successful mindset isn't something t...</td>\n",
       "    </tr>\n",
       "    <tr>\n",
       "      <th>2</th>\n",
       "      <td>FVUkKKc3Vvk</td>\n",
       "      <td>I enjoyed😊 her book, My Side of the River._ So...</td>\n",
       "    </tr>\n",
       "  </tbody>\n",
       "</table>\n",
       "</div>"
      ],
      "text/plain": [
       "      video_id                                       all_comments\n",
       "0  YgAuFqEs6yk  Amazing_ This is true. Sometimes things happen...\n",
       "1  bNmRr-BYnxA  Bravo!_ A successful mindset isn't something t...\n",
       "2  FVUkKKc3Vvk  I enjoyed😊 her book, My Side of the River._ So..."
      ]
     },
     "execution_count": 10,
     "metadata": {},
     "output_type": "execute_result"
    }
   ],
   "source": [
    "data.head(3)"
   ]
  },
  {
   "cell_type": "code",
   "execution_count": null,
   "id": "d83b6c94",
   "metadata": {},
   "outputs": [
    {
     "data": {
      "application/vnd.microsoft.datawrangler.viewer.v0+json": {
       "columns": [
        {
         "name": "index",
         "rawType": "int64",
         "type": "integer"
        },
        {
         "name": "video_id",
         "rawType": "object",
         "type": "string"
        },
        {
         "name": "all_comments",
         "rawType": "object",
         "type": "string"
        }
       ],
       "conversionMethod": "pd.DataFrame",
       "ref": "506c66fa-92c9-4497-b937-843a0db130ef",
       "rows": [
        [
         "0",
         "YgAuFqEs6yk",
         "Amazing_ This is true. Sometimes things happen that arent positive but out of every negative thing that happens there is a seed of opportunity for growth and change. I am happy these people were able to put their differences aside and were able to do what's best for the child. I am going through something similar however i don't want to be enemies with the mother of my children. I will always love her and respect her for everything she gave me._ Powerful & Amazing_ I can’t take a guy with dreads and a Detroit hat on on a ted talk seriously at all sorry 👎👎👎_ How They Both Move Close To Each-other As They Talk 🥺_ Now these are 2 beautiful grown black adults...not Cardi B and Offset lol_ Thank you._ I think it's so wonderful how they are speaking to an audience but really to each other. So it's genuine. And it makes their message so relatable_ Parents need to watch this._ Two min in and I’m wishing all women would think this way. 50 50 parenting support... I’ll stop there or I’ll rant...😖_ Beautiful_ 😅that’s a gorgeous woman. We’d have to just work that out lort! Lol_ ㅠ_ Who else fell in love with this family's hair_ 'good job baby'_ That was very inspiring and agreed with a lot they said. But didnt agree that you just let a child do exactly what they want when they want. The supermarket being a strong point, I just didn't agree with this statement. Is it ok to let your child still eat with their hands like an animal so they couldn't use a fork when their older. Theres elements where you cant just let a child do what they want when they want. The supermarket comment I found very strange. Your educating you're child how to behave in society et cetera. Just struggled with that statement. If that's her view on a supermarket then apply that to everything else in life. Just doesn't work that way._ This is truly beautiful and a lot of take homes for someone raising a Queen just embarking on this co-parenting journey. I can, and will do better. Thank you x_ My son’s father and I had an on again off again abusive relationship. It was difficult, to say the least, when we split up after 6.5 years. In a lot of ways I still have love for him, but we were always better friends than we were in a relationship. It does make our current relationships hard at times. But, as we tell our son, the one thing we all agree on is that we love our little boy. Our son has four parents & doesn’t have any memory of what it was like before. For him, it’s always been that way & always will be. We get looks & comments all the time from people who don’t understand how we co-parent. We even call each other mom & dad in public. A child can never have too many people who love him. During my pregnancy that’s what I wished for; “I want him to have more love, more friends & family, than he knows what to do with.” This wasn’t the future we had imagined while waiting for our baby to arrive, but for as long as we keep love in our hearts, so shall it be._ You make so much as a parent only by not talking bad about the other parent with your kid. My parents can have opinions about each other and that affects my perception very much, but luckily they never trashed each other, because that must feel like you can't count on your parents or as if you had no one to trust._ Why do they...both talk like this...where they pause...at unnatural spots?_ My ex isn’t about equality... I digress... 😫_ i totally agree with your comment. If they let the kid be free spirit at anything, why do they pick clothes for him for school etc. ? you can't just let kid running in mall, first of all child can be abducted by predator, second it can cause harm to someone in the shop or himself. I can't remember the movie or tv series, but there was this kid that parents let him do whatever he wants to do because he's a free spirit and it turned out to be a little spoiled brat that no one liked. And this mantra they gave at the end? like whaaat? You know a lie repeated 100 times becomes a true? If he repeats himself or parents tell him that he's awesome, smart, genius, uberhuman, he's gonna start to believe it and think that he already is the greatest so he doesn't need to achieve anything more in life.... sad, but i hope the boy will achieve great things in life, not repeating his parents mistakes and having a straight thinking._ Why are we quiet in supermarkets? It is not a library where people need silence to focus. So, why do we have to be quiet in supermarkets? Because everyone does it, so we should all do it? Have you been to an Asian market? It is teeming with hustle and bustle and chaos. Fully grown adults are screaming, haggling, laughing, running, bumping into each other. Is this behavior strange? Is this behavior wrong? So, why should we teach a child that it is wrong to express themselves? There is something to be learned about respect, this is true. But maybe the child will learn to respect people in other ways in their life, and not from a scolding in a supermarket._ @scalpel  I dont disagree but with limits. A child bounding about in a supermarket as she allows could do serious harm to a little toddler or an elderly person. Let alone heavy products in the aisles that could fall and crush them. She almost had me but then it almost felt like lazy parenting._ They are giving a speech. You need to pause at certain times to give a speech._ @Ty-iz9wd  \nNot...the way....they do it._ This is exactly what I told my ex I wanted if we ever split. He was never mature enough to handle something like this. Our daughter is now 24 and I always wonder how different her life would have been had we coparented like this_ Low key teared up when they did the affirmations. Black excellence personified_ I’m not crying. You’re crying. The ending is beautiful!_ I admire both of you. You’re a good example for being a good parents. Lovely watching and listening your video from the top of Italian mountain._ Awesome !_ I repeated so many times, your wrong way, your own grapes, your own food.\nI choose my apprentices in my own way which has nothing to do with you blacks apparently since you can't be reasonable by \"book\" wrote by myself. There is no \"co\" can be done. Can't it be more obvious?_ Wow!!!!!_ Thus the present generation has been produced\nIs anyone surprised_ That was so beautiful! Thank you TED!_ \"We honor each other's role in Sekyu's life\" \n\nI love that statement. Respect comes before love, always. Blessings to this family._ This is incredibly helpful for people who suffer from co-parenting_ That's the magic power of our kids that can change ourselves .. only in front of this power you can endure anything and give up all your needs ..!_ These parents set an amazing example of not just co-parenting, but on being a good parent in general💖😊amazing talk_ The world does not dispise black joy.._ Respect and sympathy are the keys for building a better relationship._ Wow, delete my comment, you disappoint me as well.\nFirst, don't waste your time, of course, others. Your magic only works on \"the animal level\", which is like humans could be grown like Tarzan as well.\nMoreover, when it comes to adversaries or allies, blacks asked national reparation for slavery while ignoring their ancient ancestors were alpha males who dominated the entire land of Africa, which was the reason why others walked out of Africa by risking their lives and built their homes on other continents and became other \"races\".\nSecond, I never said your magic works. How could I/anybody make anything based on a wrong/false thing? See, you have no clear thought of what you are doing and what others' saying. Not to mention that nobody has the responsibility to meet your expectation. Let alone, your expectation was only a one-sided imagination that only exists in your dream.\nThird, easy come easy go, your laziness, fluke mind and to speculate advantage by trickery can only waste your time. Stealing others' results doesn't mean you really gain what you stole, let alone what you stole has nothing to do with the thing you wanted.\nForth, you have no clear thought about what you are doing which isn't a problem can be fixed by one or two magics. The hard way is the only way. Roman was not built in one day._ It's so good to see that there are others with the same mindset. \nThis is the message I preach to the father of my sons but he does not have the ability as yet to look beyond that which he knows and the unfamiliarity of my concept to his person causes me to wonder if he is resilient to see things differently.  \nMy heart is firmed in the belief that making changes, makes the difference.  👏🏿👏🏿👏🏿_ Beautiful!_ Love this ._ They should have avoided divorce._ Can't it be more obvious than your incoherent post? Yes._ Disagree._ 🎼Absolutely BEAUTIFUL💕🙏🏽_ Nice_ Now, this is a worthwhile TED Talk. I can appreciate their honesty, openness in public and desire to love their child more than they evidently could one another (although it sounds like they truly share a common love). Personally, I think It a shame that for whatever reason (none of our business what it is) they cannot be a \"typical\" family. However, they stand as a positive example for parents in the 21st century that share the marriage and parenting experience of Ebony Roberts and Shaka Senghor. May God bless and guide them and their son all together._ TED Talks are not as good as they used to be 🤦‍♂️_ TED wouldn't it be lovely if we got to see the boy as a teen, young adult and as a father as well?_ Black love on display, Amazing for the world to see. These parents are a role model for the world. Together in spirit for the child they created, even tho not together as lovers. I can't say enough about how this moved me. Thank you for allowing us on the magic!_ I left the house 🏠 with out my charger cord or adult pampers some body 🙃 please help if this phone doesn't stay charged 😑_ Thank you for being brave enough to be authentic. Your example as two individuals United is beautiful. He is a very fortunate little boy.\nBe Safe. 😷 \nPeace. 🎶_ Amazing! Thankful to the wonderful parents for sharing their story. I hope and pray people in these situations benefit from this Ted Talk. This young king will benefit greatly because his patents have chosen to put him first!_ You sound so sweet, awesome.. 😜\nJust give them the aspirations in full swing.... 😍\nLove is passion\nLove is kind\nLove always protects........ \nLove always saves........_ Yeah very crucial video for today's generation of parents..very informative...thumps up..\n#Enlightened Beings_ Accepted_ Address the abuse . U address the problem_ Yes u do ....it's time to see jessie_ You are beautiful. What a beautiful 💓 writer_ A child cannot have too many people who love them. The best environment a child can have is parents who respect each other. And not to forget that a child learns more from what the parents are than what they teach 🖖_ Yes preach it_ Surely 'co-parenting' means parenting._ Excellent message and talk. Comes across very genuine. Thank you._ Beast Mode is just there so he won’t get fined._ Idk this talk is dilute, watery weak, with clear reading-off-script errors. The race politics thrown in like \"a world against black joy\" is also Ludacris. TED needs higher quality material instead of these soapy opera-ey filler talks._ from the talk: \"raising a black boy in a society that despises black joy....... blacks only seen has profitable or disposable\"\n\nI can't believe TED allowed a talk with such blatant spin on the modern world.\n\nOccasionally you get a good scientific one but lately it's been neo liberal postmodern diatribes by yuppies or racist minorities_ @ChurchOfThought  indeed, that is the part I didn't like. If they'd left that out it would've been great._ So he will learn murder is cool?_ ODW: I understand what you mean. I agree... the best we can do as parents is guide our children to have the greatest understanding of what is right in their own hearts. To nurture that innocent heart at the center of the child’s being... to give them the clearest understanding of the world we ourselves created as a community of people among people... to remain strong-spirited in the crowd of naysayers. Children are innocent and will go astray without a well defined path for them to choose as they form and reach for their goals._ I could see him itchin for skittles the whole speech_ Yall powerful i appreciate yall_ Had to be black people?_ I wonder if either of them moved on relationship wise or even remarried and how that affected things... I'd like to hear more._ Be mother without control!???? I want to see her when the boy be a teen_ It's so cute how they all have dreds yall.😭_ Why couldn’t I have had these two for my parents. Absolutely amazing_ 💖💖💖_ I would have loved to co-parent with my ex-wife unfortunately the b** did me dirty in the divorce, and somehow got it to where I couldn't have my daughter for visitation until she could talk when she was 4 years old so she could say what was wrong with her.  Like me, my mother, and my grandmother had no clue on how to raise a child. After that relationship was broken it never mended. My daughter will be 23 this year and I haven't actually talked to her since she was 15. Her mother convinced her I only wanted her when it was convenient and she hasn't matured enough to realize how much bullshit her mother fed her. however she had no problem calling me in February and asking for $4,000 so she could move to Connecticut, with her younger sister._ https://youtu.be/mCYFxt_9aco_ PRICELESS. As this example takes hold in the hearts and minds of the many, the World will be changed. Thank you!_ This is so powerful!_ What wisdom they have shared! \n\nThank you!_ ❤_ Wach my videos,they will put a smile_ Yeet_ Goosebumps throughout this whole speech 😭😭❤️❤️_ Luckily her mom didn't die -)\n\n\nlike if you feel bad for Shaka as a kid ;)_ Hi_ Thanks for liking my comment😊\nHave a wonderful day!!_ Detroit. 10 minutes away from 14 and mound_ YES._ Gwendolyn Williams  \nIt is refreshing to see a black family with a mother and a father, despite them not being married. In my life and the lives of those that I know, such a trait is a *rarity*._ Ana Sylvia Hoppenbrouwers  ???_ I've just made my comment with kinda summaries that angle._ Yes super cute how the murderer's son dressed just like his dad._ Dreds are unhygienic. Cute but nasty 😷_ Gwendolyn Williams  I haven't committed any crimes. I don't really understand your sentence, could you please use correct grammar?_ @The_Stocc  Lol you think you are going to win an argument on YouTube through pedantry. NOW that's cute! 😺_ @ChurchOfThought No, I genuinely don't understand it. I don't want to assume what it means._ Church Of Thought thats a common misconception (or maybe yours or those your around are like that) cuz most ppl with locs take care of them 🤷🏽_ The guy needs a haircut ASAP._ Love them who you have ,all that matters is love._ Because they're doing this for clout. 100% guarantee they don't actually do the positive things they claim._ Anoop Dubey has to work on a_ This is so powerful .._ Felt like watching a Dr. Phil episode..._ 3 likes 0 views? 🤔_ Early_ Just amazing!_ First_ One of the Best speech I've ever heard! 🇺🇿🇺🇿🇺🇿🇺🇿_ Wow sir_ Hi first_ It's the way they're counted and validated by the system... happens often on low view counts_ Youtube has been around for decades and folk like you still think you've found something profound because you CBF doing homework about how the two stats are incremented?_ The best_ She's bomb. But black folks give entertainment. Enjoy_ Yeah you are right guys"
        ]
       ],
       "shape": {
        "columns": 2,
        "rows": 1
       }
      },
      "text/html": [
       "<div>\n",
       "<style scoped>\n",
       "    .dataframe tbody tr th:only-of-type {\n",
       "        vertical-align: middle;\n",
       "    }\n",
       "\n",
       "    .dataframe tbody tr th {\n",
       "        vertical-align: top;\n",
       "    }\n",
       "\n",
       "    .dataframe thead th {\n",
       "        text-align: right;\n",
       "    }\n",
       "</style>\n",
       "<table border=\"1\" class=\"dataframe\">\n",
       "  <thead>\n",
       "    <tr style=\"text-align: right;\">\n",
       "      <th></th>\n",
       "      <th>video_id</th>\n",
       "      <th>all_comments</th>\n",
       "    </tr>\n",
       "  </thead>\n",
       "  <tbody>\n",
       "    <tr>\n",
       "      <th>0</th>\n",
       "      <td>YgAuFqEs6yk</td>\n",
       "      <td>Amazing_ This is true. Sometimes things happen...</td>\n",
       "    </tr>\n",
       "  </tbody>\n",
       "</table>\n",
       "</div>"
      ],
      "text/plain": [
       "      video_id                                       all_comments\n",
       "0  YgAuFqEs6yk  Amazing_ This is true. Sometimes things happen..."
      ]
     },
     "execution_count": 11,
     "metadata": {},
     "output_type": "execute_result"
    }
   ],
   "source": [
    "first_video = data.head(1)\n",
    "first_video"
   ]
  },
  {
   "cell_type": "code",
   "execution_count": 12,
   "id": "6256717f",
   "metadata": {},
   "outputs": [
    {
     "name": "stderr",
     "output_type": "stream",
     "text": [
      "C:\\Users\\Lenovo\\AppData\\Local\\Temp\\ipykernel_26208\\1198387123.py:1: SettingWithCopyWarning: \n",
      "A value is trying to be set on a copy of a slice from a DataFrame.\n",
      "Try using .loc[row_indexer,col_indexer] = value instead\n",
      "\n",
      "See the caveats in the documentation: https://pandas.pydata.org/pandas-docs/stable/user_guide/indexing.html#returning-a-view-versus-a-copy\n",
      "  first_video[\"comment_list\"] = first_video[\"all_comments\"].apply(lambda x: [c.strip() for c in x.split('_') if c.strip()])\n"
     ]
    }
   ],
   "source": [
    "first_video[\"comment_list\"] = first_video[\"all_comments\"].apply(lambda x: [c.strip() for c in x.split('_') if c.strip()])"
   ]
  },
  {
   "cell_type": "code",
   "execution_count": 13,
   "id": "f5d463d7",
   "metadata": {},
   "outputs": [
    {
     "data": {
      "application/vnd.microsoft.datawrangler.viewer.v0+json": {
       "columns": [
        {
         "name": "index",
         "rawType": "int64",
         "type": "integer"
        },
        {
         "name": "video_id",
         "rawType": "object",
         "type": "string"
        },
        {
         "name": "all_comments",
         "rawType": "object",
         "type": "string"
        },
        {
         "name": "comment_list",
         "rawType": "object",
         "type": "unknown"
        }
       ],
       "conversionMethod": "pd.DataFrame",
       "ref": "b989fbe3-1623-4fa6-80b8-08e3f2f8b309",
       "rows": [
        [
         "0",
         "YgAuFqEs6yk",
         "Amazing_ This is true. Sometimes things happen that arent positive but out of every negative thing that happens there is a seed of opportunity for growth and change. I am happy these people were able to put their differences aside and were able to do what's best for the child. I am going through something similar however i don't want to be enemies with the mother of my children. I will always love her and respect her for everything she gave me._ Powerful & Amazing_ I can’t take a guy with dreads and a Detroit hat on on a ted talk seriously at all sorry 👎👎👎_ How They Both Move Close To Each-other As They Talk 🥺_ Now these are 2 beautiful grown black adults...not Cardi B and Offset lol_ Thank you._ I think it's so wonderful how they are speaking to an audience but really to each other. So it's genuine. And it makes their message so relatable_ Parents need to watch this._ Two min in and I’m wishing all women would think this way. 50 50 parenting support... I’ll stop there or I’ll rant...😖_ Beautiful_ 😅that’s a gorgeous woman. We’d have to just work that out lort! Lol_ ㅠ_ Who else fell in love with this family's hair_ 'good job baby'_ That was very inspiring and agreed with a lot they said. But didnt agree that you just let a child do exactly what they want when they want. The supermarket being a strong point, I just didn't agree with this statement. Is it ok to let your child still eat with their hands like an animal so they couldn't use a fork when their older. Theres elements where you cant just let a child do what they want when they want. The supermarket comment I found very strange. Your educating you're child how to behave in society et cetera. Just struggled with that statement. If that's her view on a supermarket then apply that to everything else in life. Just doesn't work that way._ This is truly beautiful and a lot of take homes for someone raising a Queen just embarking on this co-parenting journey. I can, and will do better. Thank you x_ My son’s father and I had an on again off again abusive relationship. It was difficult, to say the least, when we split up after 6.5 years. In a lot of ways I still have love for him, but we were always better friends than we were in a relationship. It does make our current relationships hard at times. But, as we tell our son, the one thing we all agree on is that we love our little boy. Our son has four parents & doesn’t have any memory of what it was like before. For him, it’s always been that way & always will be. We get looks & comments all the time from people who don’t understand how we co-parent. We even call each other mom & dad in public. A child can never have too many people who love him. During my pregnancy that’s what I wished for; “I want him to have more love, more friends & family, than he knows what to do with.” This wasn’t the future we had imagined while waiting for our baby to arrive, but for as long as we keep love in our hearts, so shall it be._ You make so much as a parent only by not talking bad about the other parent with your kid. My parents can have opinions about each other and that affects my perception very much, but luckily they never trashed each other, because that must feel like you can't count on your parents or as if you had no one to trust._ Why do they...both talk like this...where they pause...at unnatural spots?_ My ex isn’t about equality... I digress... 😫_ i totally agree with your comment. If they let the kid be free spirit at anything, why do they pick clothes for him for school etc. ? you can't just let kid running in mall, first of all child can be abducted by predator, second it can cause harm to someone in the shop or himself. I can't remember the movie or tv series, but there was this kid that parents let him do whatever he wants to do because he's a free spirit and it turned out to be a little spoiled brat that no one liked. And this mantra they gave at the end? like whaaat? You know a lie repeated 100 times becomes a true? If he repeats himself or parents tell him that he's awesome, smart, genius, uberhuman, he's gonna start to believe it and think that he already is the greatest so he doesn't need to achieve anything more in life.... sad, but i hope the boy will achieve great things in life, not repeating his parents mistakes and having a straight thinking._ Why are we quiet in supermarkets? It is not a library where people need silence to focus. So, why do we have to be quiet in supermarkets? Because everyone does it, so we should all do it? Have you been to an Asian market? It is teeming with hustle and bustle and chaos. Fully grown adults are screaming, haggling, laughing, running, bumping into each other. Is this behavior strange? Is this behavior wrong? So, why should we teach a child that it is wrong to express themselves? There is something to be learned about respect, this is true. But maybe the child will learn to respect people in other ways in their life, and not from a scolding in a supermarket._ @scalpel  I dont disagree but with limits. A child bounding about in a supermarket as she allows could do serious harm to a little toddler or an elderly person. Let alone heavy products in the aisles that could fall and crush them. She almost had me but then it almost felt like lazy parenting._ They are giving a speech. You need to pause at certain times to give a speech._ @Ty-iz9wd  \nNot...the way....they do it._ This is exactly what I told my ex I wanted if we ever split. He was never mature enough to handle something like this. Our daughter is now 24 and I always wonder how different her life would have been had we coparented like this_ Low key teared up when they did the affirmations. Black excellence personified_ I’m not crying. You’re crying. The ending is beautiful!_ I admire both of you. You’re a good example for being a good parents. Lovely watching and listening your video from the top of Italian mountain._ Awesome !_ I repeated so many times, your wrong way, your own grapes, your own food.\nI choose my apprentices in my own way which has nothing to do with you blacks apparently since you can't be reasonable by \"book\" wrote by myself. There is no \"co\" can be done. Can't it be more obvious?_ Wow!!!!!_ Thus the present generation has been produced\nIs anyone surprised_ That was so beautiful! Thank you TED!_ \"We honor each other's role in Sekyu's life\" \n\nI love that statement. Respect comes before love, always. Blessings to this family._ This is incredibly helpful for people who suffer from co-parenting_ That's the magic power of our kids that can change ourselves .. only in front of this power you can endure anything and give up all your needs ..!_ These parents set an amazing example of not just co-parenting, but on being a good parent in general💖😊amazing talk_ The world does not dispise black joy.._ Respect and sympathy are the keys for building a better relationship._ Wow, delete my comment, you disappoint me as well.\nFirst, don't waste your time, of course, others. Your magic only works on \"the animal level\", which is like humans could be grown like Tarzan as well.\nMoreover, when it comes to adversaries or allies, blacks asked national reparation for slavery while ignoring their ancient ancestors were alpha males who dominated the entire land of Africa, which was the reason why others walked out of Africa by risking their lives and built their homes on other continents and became other \"races\".\nSecond, I never said your magic works. How could I/anybody make anything based on a wrong/false thing? See, you have no clear thought of what you are doing and what others' saying. Not to mention that nobody has the responsibility to meet your expectation. Let alone, your expectation was only a one-sided imagination that only exists in your dream.\nThird, easy come easy go, your laziness, fluke mind and to speculate advantage by trickery can only waste your time. Stealing others' results doesn't mean you really gain what you stole, let alone what you stole has nothing to do with the thing you wanted.\nForth, you have no clear thought about what you are doing which isn't a problem can be fixed by one or two magics. The hard way is the only way. Roman was not built in one day._ It's so good to see that there are others with the same mindset. \nThis is the message I preach to the father of my sons but he does not have the ability as yet to look beyond that which he knows and the unfamiliarity of my concept to his person causes me to wonder if he is resilient to see things differently.  \nMy heart is firmed in the belief that making changes, makes the difference.  👏🏿👏🏿👏🏿_ Beautiful!_ Love this ._ They should have avoided divorce._ Can't it be more obvious than your incoherent post? Yes._ Disagree._ 🎼Absolutely BEAUTIFUL💕🙏🏽_ Nice_ Now, this is a worthwhile TED Talk. I can appreciate their honesty, openness in public and desire to love their child more than they evidently could one another (although it sounds like they truly share a common love). Personally, I think It a shame that for whatever reason (none of our business what it is) they cannot be a \"typical\" family. However, they stand as a positive example for parents in the 21st century that share the marriage and parenting experience of Ebony Roberts and Shaka Senghor. May God bless and guide them and their son all together._ TED Talks are not as good as they used to be 🤦‍♂️_ TED wouldn't it be lovely if we got to see the boy as a teen, young adult and as a father as well?_ Black love on display, Amazing for the world to see. These parents are a role model for the world. Together in spirit for the child they created, even tho not together as lovers. I can't say enough about how this moved me. Thank you for allowing us on the magic!_ I left the house 🏠 with out my charger cord or adult pampers some body 🙃 please help if this phone doesn't stay charged 😑_ Thank you for being brave enough to be authentic. Your example as two individuals United is beautiful. He is a very fortunate little boy.\nBe Safe. 😷 \nPeace. 🎶_ Amazing! Thankful to the wonderful parents for sharing their story. I hope and pray people in these situations benefit from this Ted Talk. This young king will benefit greatly because his patents have chosen to put him first!_ You sound so sweet, awesome.. 😜\nJust give them the aspirations in full swing.... 😍\nLove is passion\nLove is kind\nLove always protects........ \nLove always saves........_ Yeah very crucial video for today's generation of parents..very informative...thumps up..\n#Enlightened Beings_ Accepted_ Address the abuse . U address the problem_ Yes u do ....it's time to see jessie_ You are beautiful. What a beautiful 💓 writer_ A child cannot have too many people who love them. The best environment a child can have is parents who respect each other. And not to forget that a child learns more from what the parents are than what they teach 🖖_ Yes preach it_ Surely 'co-parenting' means parenting._ Excellent message and talk. Comes across very genuine. Thank you._ Beast Mode is just there so he won’t get fined._ Idk this talk is dilute, watery weak, with clear reading-off-script errors. The race politics thrown in like \"a world against black joy\" is also Ludacris. TED needs higher quality material instead of these soapy opera-ey filler talks._ from the talk: \"raising a black boy in a society that despises black joy....... blacks only seen has profitable or disposable\"\n\nI can't believe TED allowed a talk with such blatant spin on the modern world.\n\nOccasionally you get a good scientific one but lately it's been neo liberal postmodern diatribes by yuppies or racist minorities_ @ChurchOfThought  indeed, that is the part I didn't like. If they'd left that out it would've been great._ So he will learn murder is cool?_ ODW: I understand what you mean. I agree... the best we can do as parents is guide our children to have the greatest understanding of what is right in their own hearts. To nurture that innocent heart at the center of the child’s being... to give them the clearest understanding of the world we ourselves created as a community of people among people... to remain strong-spirited in the crowd of naysayers. Children are innocent and will go astray without a well defined path for them to choose as they form and reach for their goals._ I could see him itchin for skittles the whole speech_ Yall powerful i appreciate yall_ Had to be black people?_ I wonder if either of them moved on relationship wise or even remarried and how that affected things... I'd like to hear more._ Be mother without control!???? I want to see her when the boy be a teen_ It's so cute how they all have dreds yall.😭_ Why couldn’t I have had these two for my parents. Absolutely amazing_ 💖💖💖_ I would have loved to co-parent with my ex-wife unfortunately the b** did me dirty in the divorce, and somehow got it to where I couldn't have my daughter for visitation until she could talk when she was 4 years old so she could say what was wrong with her.  Like me, my mother, and my grandmother had no clue on how to raise a child. After that relationship was broken it never mended. My daughter will be 23 this year and I haven't actually talked to her since she was 15. Her mother convinced her I only wanted her when it was convenient and she hasn't matured enough to realize how much bullshit her mother fed her. however she had no problem calling me in February and asking for $4,000 so she could move to Connecticut, with her younger sister._ https://youtu.be/mCYFxt_9aco_ PRICELESS. As this example takes hold in the hearts and minds of the many, the World will be changed. Thank you!_ This is so powerful!_ What wisdom they have shared! \n\nThank you!_ ❤_ Wach my videos,they will put a smile_ Yeet_ Goosebumps throughout this whole speech 😭😭❤️❤️_ Luckily her mom didn't die -)\n\n\nlike if you feel bad for Shaka as a kid ;)_ Hi_ Thanks for liking my comment😊\nHave a wonderful day!!_ Detroit. 10 minutes away from 14 and mound_ YES._ Gwendolyn Williams  \nIt is refreshing to see a black family with a mother and a father, despite them not being married. In my life and the lives of those that I know, such a trait is a *rarity*._ Ana Sylvia Hoppenbrouwers  ???_ I've just made my comment with kinda summaries that angle._ Yes super cute how the murderer's son dressed just like his dad._ Dreds are unhygienic. Cute but nasty 😷_ Gwendolyn Williams  I haven't committed any crimes. I don't really understand your sentence, could you please use correct grammar?_ @The_Stocc  Lol you think you are going to win an argument on YouTube through pedantry. NOW that's cute! 😺_ @ChurchOfThought No, I genuinely don't understand it. I don't want to assume what it means._ Church Of Thought thats a common misconception (or maybe yours or those your around are like that) cuz most ppl with locs take care of them 🤷🏽_ The guy needs a haircut ASAP._ Love them who you have ,all that matters is love._ Because they're doing this for clout. 100% guarantee they don't actually do the positive things they claim._ Anoop Dubey has to work on a_ This is so powerful .._ Felt like watching a Dr. Phil episode..._ 3 likes 0 views? 🤔_ Early_ Just amazing!_ First_ One of the Best speech I've ever heard! 🇺🇿🇺🇿🇺🇿🇺🇿_ Wow sir_ Hi first_ It's the way they're counted and validated by the system... happens often on low view counts_ Youtube has been around for decades and folk like you still think you've found something profound because you CBF doing homework about how the two stats are incremented?_ The best_ She's bomb. But black folks give entertainment. Enjoy_ Yeah you are right guys",
         "['Amazing', \"This is true. Sometimes things happen that arent positive but out of every negative thing that happens there is a seed of opportunity for growth and change. I am happy these people were able to put their differences aside and were able to do what's best for the child. I am going through something similar however i don't want to be enemies with the mother of my children. I will always love her and respect her for everything she gave me.\", 'Powerful & Amazing', 'I can’t take a guy with dreads and a Detroit hat on on a ted talk seriously at all sorry 👎👎👎', 'How They Both Move Close To Each-other As They Talk 🥺', 'Now these are 2 beautiful grown black adults...not Cardi B and Offset lol', 'Thank you.', \"I think it's so wonderful how they are speaking to an audience but really to each other. So it's genuine. And it makes their message so relatable\", 'Parents need to watch this.', 'Two min in and I’m wishing all women would think this way. 50 50 parenting support... I’ll stop there or I’ll rant...😖', 'Beautiful', '😅that’s a gorgeous woman. We’d have to just work that out lort! Lol', 'ㅠ', \"Who else fell in love with this family's hair\", \"'good job baby'\", \"That was very inspiring and agreed with a lot they said. But didnt agree that you just let a child do exactly what they want when they want. The supermarket being a strong point, I just didn't agree with this statement. Is it ok to let your child still eat with their hands like an animal so they couldn't use a fork when their older. Theres elements where you cant just let a child do what they want when they want. The supermarket comment I found very strange. Your educating you're child how to behave in society et cetera. Just struggled with that statement. If that's her view on a supermarket then apply that to everything else in life. Just doesn't work that way.\", 'This is truly beautiful and a lot of take homes for someone raising a Queen just embarking on this co-parenting journey. I can, and will do better. Thank you x', 'My son’s father and I had an on again off again abusive relationship. It was difficult, to say the least, when we split up after 6.5 years. In a lot of ways I still have love for him, but we were always better friends than we were in a relationship. It does make our current relationships hard at times. But, as we tell our son, the one thing we all agree on is that we love our little boy. Our son has four parents & doesn’t have any memory of what it was like before. For him, it’s always been that way & always will be. We get looks & comments all the time from people who don’t understand how we co-parent. We even call each other mom & dad in public. A child can never have too many people who love him. During my pregnancy that’s what I wished for; “I want him to have more love, more friends & family, than he knows what to do with.” This wasn’t the future we had imagined while waiting for our baby to arrive, but for as long as we keep love in our hearts, so shall it be.', \"You make so much as a parent only by not talking bad about the other parent with your kid. My parents can have opinions about each other and that affects my perception very much, but luckily they never trashed each other, because that must feel like you can't count on your parents or as if you had no one to trust.\", 'Why do they...both talk like this...where they pause...at unnatural spots?', 'My ex isn’t about equality... I digress... 😫', \"i totally agree with your comment. If they let the kid be free spirit at anything, why do they pick clothes for him for school etc. ? you can't just let kid running in mall, first of all child can be abducted by predator, second it can cause harm to someone in the shop or himself. I can't remember the movie or tv series, but there was this kid that parents let him do whatever he wants to do because he's a free spirit and it turned out to be a little spoiled brat that no one liked. And this mantra they gave at the end? like whaaat? You know a lie repeated 100 times becomes a true? If he repeats himself or parents tell him that he's awesome, smart, genius, uberhuman, he's gonna start to believe it and think that he already is the greatest so he doesn't need to achieve anything more in life.... sad, but i hope the boy will achieve great things in life, not repeating his parents mistakes and having a straight thinking.\", 'Why are we quiet in supermarkets? It is not a library where people need silence to focus. So, why do we have to be quiet in supermarkets? Because everyone does it, so we should all do it? Have you been to an Asian market? It is teeming with hustle and bustle and chaos. Fully grown adults are screaming, haggling, laughing, running, bumping into each other. Is this behavior strange? Is this behavior wrong? So, why should we teach a child that it is wrong to express themselves? There is something to be learned about respect, this is true. But maybe the child will learn to respect people in other ways in their life, and not from a scolding in a supermarket.', '@scalpel\\xa0 I dont disagree but with limits. A child bounding about in a supermarket as she allows could do serious harm to a little toddler or an elderly person. Let alone heavy products in the aisles that could fall and crush them. She almost had me but then it almost felt like lazy parenting.', 'They are giving a speech. You need to pause at certain times to give a speech.', '@Ty-iz9wd\\xa0 \\nNot...the way....they do it.', 'This is exactly what I told my ex I wanted if we ever split. He was never mature enough to handle something like this. Our daughter is now 24 and I always wonder how different her life would have been had we coparented like this', 'Low key teared up when they did the affirmations. Black excellence personified', 'I’m not crying. You’re crying. The ending is beautiful!', 'I admire both of you. You’re a good example for being a good parents. Lovely watching and listening your video from the top of Italian mountain.', 'Awesome !', 'I repeated so many times, your wrong way, your own grapes, your own food.\\nI choose my apprentices in my own way which has nothing to do with you blacks apparently since you can\\'t be reasonable by \"book\" wrote by myself. There is no \"co\" can be done. Can\\'t it be more obvious?', 'Wow!!!!!', 'Thus the present generation has been produced\\nIs anyone surprised', 'That was so beautiful! Thank you TED!', '\"We honor each other\\'s role in Sekyu\\'s life\" \\n\\nI love that statement. Respect comes before love, always. Blessings to this family.', 'This is incredibly helpful for people who suffer from co-parenting', \"That's the magic power of our kids that can change ourselves .. only in front of this power you can endure anything and give up all your needs ..!\", 'These parents set an amazing example of not just co-parenting, but on being a good parent in general💖😊amazing talk', 'The world does not dispise black joy..', 'Respect and sympathy are the keys for building a better relationship.', 'Wow, delete my comment, you disappoint me as well.\\nFirst, don\\'t waste your time, of course, others. Your magic only works on \"the animal level\", which is like humans could be grown like Tarzan as well.\\nMoreover, when it comes to adversaries or allies, blacks asked national reparation for slavery while ignoring their ancient ancestors were alpha males who dominated the entire land of Africa, which was the reason why others walked out of Africa by risking their lives and built their homes on other continents and became other \"races\".\\nSecond, I never said your magic works. How could I/anybody make anything based on a wrong/false thing? See, you have no clear thought of what you are doing and what others\\' saying. Not to mention that nobody has the responsibility to meet your expectation. Let alone, your expectation was only a one-sided imagination that only exists in your dream.\\nThird, easy come easy go, your laziness, fluke mind and to speculate advantage by trickery can only waste your time. Stealing others\\' results doesn\\'t mean you really gain what you stole, let alone what you stole has nothing to do with the thing you wanted.\\nForth, you have no clear thought about what you are doing which isn\\'t a problem can be fixed by one or two magics. The hard way is the only way. Roman was not built in one day.', \"It's so good to see that there are others with the same mindset. \\nThis is the message I preach to the father of my sons but he does not have the ability as yet to look beyond that which he knows and the unfamiliarity of my concept to his person causes me to wonder if he is resilient to see things differently.  \\nMy heart is firmed in the belief that making changes, makes the difference.  👏🏿👏🏿👏🏿\", 'Beautiful!', 'Love this .', 'They should have avoided divorce.', \"Can't it be more obvious than your incoherent post? Yes.\", 'Disagree.', '🎼Absolutely BEAUTIFUL💕🙏🏽', 'Nice', 'Now, this is a worthwhile TED Talk. I can appreciate their honesty, openness in public and desire to love their child more than they evidently could one another (although it sounds like they truly share a common love). Personally, I think It a shame that for whatever reason (none of our business what it is) they cannot be a \"typical\" family. However, they stand as a positive example for parents in the 21st century that share the marriage and parenting experience of Ebony Roberts and Shaka Senghor. May God bless and guide them and their son all together.', 'TED Talks are not as good as they used to be 🤦\\u200d♂️', \"TED wouldn't it be lovely if we got to see the boy as a teen, young adult and as a father as well?\", \"Black love on display, Amazing for the world to see. These parents are a role model for the world. Together in spirit for the child they created, even tho not together as lovers. I can't say enough about how this moved me. Thank you for allowing us on the magic!\", \"I left the house 🏠 with out my charger cord or adult pampers some body 🙃 please help if this phone doesn't stay charged 😑\", 'Thank you for being brave enough to be authentic. Your example as two individuals United is beautiful. He is a very fortunate little boy.\\nBe Safe. 😷 \\nPeace. 🎶', 'Amazing! Thankful to the wonderful parents for sharing their story. I hope and pray people in these situations benefit from this Ted Talk. This young king will benefit greatly because his patents have chosen to put him first!', 'You sound so sweet, awesome.. 😜\\nJust give them the aspirations in full swing.... 😍\\nLove is passion\\nLove is kind\\nLove always protects........ \\nLove always saves........', \"Yeah very crucial video for today's generation of parents..very informative...thumps up..\\n#Enlightened Beings\", 'Accepted', 'Address the abuse . U address the problem', \"Yes u do ....it's time to see jessie\", 'You are beautiful. What a beautiful 💓 writer', 'A child cannot have too many people who love them. The best environment a child can have is parents who respect each other. And not to forget that a child learns more from what the parents are than what they teach 🖖', 'Yes preach it', \"Surely 'co-parenting' means parenting.\", 'Excellent message and talk. Comes across very genuine. Thank you.', 'Beast Mode is just there so he won’t get fined.', 'Idk this talk is dilute, watery weak, with clear reading-off-script errors. The race politics thrown in like \"a world against black joy\" is also Ludacris. TED needs higher quality material instead of these soapy opera-ey filler talks.', 'from the talk: \"raising a black boy in a society that despises black joy....... blacks only seen has profitable or disposable\"\\n\\nI can\\'t believe TED allowed a talk with such blatant spin on the modern world.\\n\\nOccasionally you get a good scientific one but lately it\\'s been neo liberal postmodern diatribes by yuppies or racist minorities', \"@ChurchOfThought\\xa0 indeed, that is the part I didn't like. If they'd left that out it would've been great.\", 'So he will learn murder is cool?', 'ODW: I understand what you mean. I agree... the best we can do as parents is guide our children to have the greatest understanding of what is right in their own hearts. To nurture that innocent heart at the center of the child’s being... to give them the clearest understanding of the world we ourselves created as a community of people among people... to remain strong-spirited in the crowd of naysayers. Children are innocent and will go astray without a well defined path for them to choose as they form and reach for their goals.', 'I could see him itchin for skittles the whole speech', 'Yall powerful i appreciate yall', 'Had to be black people?', \"I wonder if either of them moved on relationship wise or even remarried and how that affected things... I'd like to hear more.\", 'Be mother without control!???? I want to see her when the boy be a teen', \"It's so cute how they all have dreds yall.😭\", 'Why couldn’t I have had these two for my parents. Absolutely amazing', '💖💖💖', \"I would have loved to co-parent with my ex-wife unfortunately the b** did me dirty in the divorce, and somehow got it to where I couldn't have my daughter for visitation until she could talk when she was 4 years old so she could say what was wrong with her.  Like me, my mother, and my grandmother had no clue on how to raise a child. After that relationship was broken it never mended. My daughter will be 23 this year and I haven't actually talked to her since she was 15. Her mother convinced her I only wanted her when it was convenient and she hasn't matured enough to realize how much bullshit her mother fed her. however she had no problem calling me in February and asking for $4,000 so she could move to Connecticut, with her younger sister.\", 'https://youtu.be/mCYFxt', '9aco', 'PRICELESS. As this example takes hold in the hearts and minds of the many, the World will be changed. Thank you!', 'This is so powerful!', 'What wisdom they have shared! \\n\\nThank you!', '❤', 'Wach my videos,they will put a smile', 'Yeet', 'Goosebumps throughout this whole speech 😭😭❤️❤️', \"Luckily her mom didn't die -)\\n\\n\\nlike if you feel bad for Shaka as a kid ;)\", 'Hi', 'Thanks for liking my comment😊\\nHave a wonderful day!!', 'Detroit. 10 minutes away from 14 and mound', 'YES.', 'Gwendolyn Williams\\xa0 \\nIt is refreshing to see a black family with a mother and a father, despite them not being married. In my life and the lives of those that I know, such a trait is a *rarity*.', 'Ana Sylvia Hoppenbrouwers\\xa0 ???', \"I've just made my comment with kinda summaries that angle.\", \"Yes super cute how the murderer's son dressed just like his dad.\", 'Dreds are unhygienic. Cute but nasty 😷', \"Gwendolyn Williams\\xa0 I haven't committed any crimes. I don't really understand your sentence, could you please use correct grammar?\", '@The', \"Stocc\\xa0 Lol you think you are going to win an argument on YouTube through pedantry. NOW that's cute! 😺\", \"@ChurchOfThought\\xa0No, I genuinely don't understand it. I don't want to assume what it means.\", 'Church Of Thought thats a common misconception (or maybe yours or those your around are like that) cuz most ppl with locs take care of them 🤷🏽', 'The guy needs a haircut ASAP.', 'Love them who you have ,all that matters is love.', \"Because they're doing this for clout. 100% guarantee they don't actually do the positive things they claim.\", 'Anoop Dubey has to work on a', 'This is so powerful ..', 'Felt like watching a Dr. Phil episode...', '3 likes 0 views? 🤔', 'Early', 'Just amazing!', 'First', \"One of the Best speech I've ever heard! 🇺🇿🇺🇿🇺🇿🇺🇿\", 'Wow sir', 'Hi first', \"It's the way they're counted and validated by the system... happens often on low view counts\", \"Youtube has been around for decades and folk like you still think you've found something profound because you CBF doing homework about how the two stats are incremented?\", 'The best', \"She's bomb. But black folks give entertainment. Enjoy\", 'Yeah you are right guys']"
        ]
       ],
       "shape": {
        "columns": 3,
        "rows": 1
       }
      },
      "text/html": [
       "<div>\n",
       "<style scoped>\n",
       "    .dataframe tbody tr th:only-of-type {\n",
       "        vertical-align: middle;\n",
       "    }\n",
       "\n",
       "    .dataframe tbody tr th {\n",
       "        vertical-align: top;\n",
       "    }\n",
       "\n",
       "    .dataframe thead th {\n",
       "        text-align: right;\n",
       "    }\n",
       "</style>\n",
       "<table border=\"1\" class=\"dataframe\">\n",
       "  <thead>\n",
       "    <tr style=\"text-align: right;\">\n",
       "      <th></th>\n",
       "      <th>video_id</th>\n",
       "      <th>all_comments</th>\n",
       "      <th>comment_list</th>\n",
       "    </tr>\n",
       "  </thead>\n",
       "  <tbody>\n",
       "    <tr>\n",
       "      <th>0</th>\n",
       "      <td>YgAuFqEs6yk</td>\n",
       "      <td>Amazing_ This is true. Sometimes things happen...</td>\n",
       "      <td>[Amazing, This is true. Sometimes things happe...</td>\n",
       "    </tr>\n",
       "  </tbody>\n",
       "</table>\n",
       "</div>"
      ],
      "text/plain": [
       "      video_id                                       all_comments  \\\n",
       "0  YgAuFqEs6yk  Amazing_ This is true. Sometimes things happen...   \n",
       "\n",
       "                                        comment_list  \n",
       "0  [Amazing, This is true. Sometimes things happe...  "
      ]
     },
     "execution_count": 13,
     "metadata": {},
     "output_type": "execute_result"
    }
   ],
   "source": [
    "first_video"
   ]
  },
  {
   "cell_type": "code",
   "execution_count": 14,
   "id": "0769052b",
   "metadata": {},
   "outputs": [],
   "source": [
    "df_exploded = first_video[[\"video_id\", \"comment_list\"]].explode(\"comment_list\").rename(columns={\"comment_list\": \"comment\"})"
   ]
  },
  {
   "cell_type": "code",
   "execution_count": 15,
   "id": "41631169",
   "metadata": {},
   "outputs": [
    {
     "data": {
      "application/vnd.microsoft.datawrangler.viewer.v0+json": {
       "columns": [
        {
         "name": "index",
         "rawType": "int64",
         "type": "integer"
        },
        {
         "name": "video_id",
         "rawType": "object",
         "type": "string"
        },
        {
         "name": "comment",
         "rawType": "object",
         "type": "string"
        }
       ],
       "conversionMethod": "pd.DataFrame",
       "ref": "213bdd34-127a-4b68-bd7b-4a19710fc543",
       "rows": [
        [
         "0",
         "YgAuFqEs6yk",
         "Amazing"
        ],
        [
         "0",
         "YgAuFqEs6yk",
         "This is true. Sometimes things happen that arent positive but out of every negative thing that happens there is a seed of opportunity for growth and change. I am happy these people were able to put their differences aside and were able to do what's best for the child. I am going through something similar however i don't want to be enemies with the mother of my children. I will always love her and respect her for everything she gave me."
        ],
        [
         "0",
         "YgAuFqEs6yk",
         "Powerful & Amazing"
        ],
        [
         "0",
         "YgAuFqEs6yk",
         "I can’t take a guy with dreads and a Detroit hat on on a ted talk seriously at all sorry 👎👎👎"
        ],
        [
         "0",
         "YgAuFqEs6yk",
         "How They Both Move Close To Each-other As They Talk 🥺"
        ],
        [
         "0",
         "YgAuFqEs6yk",
         "Now these are 2 beautiful grown black adults...not Cardi B and Offset lol"
        ],
        [
         "0",
         "YgAuFqEs6yk",
         "Thank you."
        ],
        [
         "0",
         "YgAuFqEs6yk",
         "I think it's so wonderful how they are speaking to an audience but really to each other. So it's genuine. And it makes their message so relatable"
        ],
        [
         "0",
         "YgAuFqEs6yk",
         "Parents need to watch this."
        ],
        [
         "0",
         "YgAuFqEs6yk",
         "Two min in and I’m wishing all women would think this way. 50 50 parenting support... I’ll stop there or I’ll rant...😖"
        ],
        [
         "0",
         "YgAuFqEs6yk",
         "Beautiful"
        ],
        [
         "0",
         "YgAuFqEs6yk",
         "😅that’s a gorgeous woman. We’d have to just work that out lort! Lol"
        ],
        [
         "0",
         "YgAuFqEs6yk",
         "ㅠ"
        ],
        [
         "0",
         "YgAuFqEs6yk",
         "Who else fell in love with this family's hair"
        ],
        [
         "0",
         "YgAuFqEs6yk",
         "'good job baby'"
        ],
        [
         "0",
         "YgAuFqEs6yk",
         "That was very inspiring and agreed with a lot they said. But didnt agree that you just let a child do exactly what they want when they want. The supermarket being a strong point, I just didn't agree with this statement. Is it ok to let your child still eat with their hands like an animal so they couldn't use a fork when their older. Theres elements where you cant just let a child do what they want when they want. The supermarket comment I found very strange. Your educating you're child how to behave in society et cetera. Just struggled with that statement. If that's her view on a supermarket then apply that to everything else in life. Just doesn't work that way."
        ],
        [
         "0",
         "YgAuFqEs6yk",
         "This is truly beautiful and a lot of take homes for someone raising a Queen just embarking on this co-parenting journey. I can, and will do better. Thank you x"
        ],
        [
         "0",
         "YgAuFqEs6yk",
         "My son’s father and I had an on again off again abusive relationship. It was difficult, to say the least, when we split up after 6.5 years. In a lot of ways I still have love for him, but we were always better friends than we were in a relationship. It does make our current relationships hard at times. But, as we tell our son, the one thing we all agree on is that we love our little boy. Our son has four parents & doesn’t have any memory of what it was like before. For him, it’s always been that way & always will be. We get looks & comments all the time from people who don’t understand how we co-parent. We even call each other mom & dad in public. A child can never have too many people who love him. During my pregnancy that’s what I wished for; “I want him to have more love, more friends & family, than he knows what to do with.” This wasn’t the future we had imagined while waiting for our baby to arrive, but for as long as we keep love in our hearts, so shall it be."
        ],
        [
         "0",
         "YgAuFqEs6yk",
         "You make so much as a parent only by not talking bad about the other parent with your kid. My parents can have opinions about each other and that affects my perception very much, but luckily they never trashed each other, because that must feel like you can't count on your parents or as if you had no one to trust."
        ],
        [
         "0",
         "YgAuFqEs6yk",
         "Why do they...both talk like this...where they pause...at unnatural spots?"
        ],
        [
         "0",
         "YgAuFqEs6yk",
         "My ex isn’t about equality... I digress... 😫"
        ],
        [
         "0",
         "YgAuFqEs6yk",
         "i totally agree with your comment. If they let the kid be free spirit at anything, why do they pick clothes for him for school etc. ? you can't just let kid running in mall, first of all child can be abducted by predator, second it can cause harm to someone in the shop or himself. I can't remember the movie or tv series, but there was this kid that parents let him do whatever he wants to do because he's a free spirit and it turned out to be a little spoiled brat that no one liked. And this mantra they gave at the end? like whaaat? You know a lie repeated 100 times becomes a true? If he repeats himself or parents tell him that he's awesome, smart, genius, uberhuman, he's gonna start to believe it and think that he already is the greatest so he doesn't need to achieve anything more in life.... sad, but i hope the boy will achieve great things in life, not repeating his parents mistakes and having a straight thinking."
        ],
        [
         "0",
         "YgAuFqEs6yk",
         "Why are we quiet in supermarkets? It is not a library where people need silence to focus. So, why do we have to be quiet in supermarkets? Because everyone does it, so we should all do it? Have you been to an Asian market? It is teeming with hustle and bustle and chaos. Fully grown adults are screaming, haggling, laughing, running, bumping into each other. Is this behavior strange? Is this behavior wrong? So, why should we teach a child that it is wrong to express themselves? There is something to be learned about respect, this is true. But maybe the child will learn to respect people in other ways in their life, and not from a scolding in a supermarket."
        ],
        [
         "0",
         "YgAuFqEs6yk",
         "@scalpel  I dont disagree but with limits. A child bounding about in a supermarket as she allows could do serious harm to a little toddler or an elderly person. Let alone heavy products in the aisles that could fall and crush them. She almost had me but then it almost felt like lazy parenting."
        ],
        [
         "0",
         "YgAuFqEs6yk",
         "They are giving a speech. You need to pause at certain times to give a speech."
        ],
        [
         "0",
         "YgAuFqEs6yk",
         "@Ty-iz9wd  \nNot...the way....they do it."
        ],
        [
         "0",
         "YgAuFqEs6yk",
         "This is exactly what I told my ex I wanted if we ever split. He was never mature enough to handle something like this. Our daughter is now 24 and I always wonder how different her life would have been had we coparented like this"
        ],
        [
         "0",
         "YgAuFqEs6yk",
         "Low key teared up when they did the affirmations. Black excellence personified"
        ],
        [
         "0",
         "YgAuFqEs6yk",
         "I’m not crying. You’re crying. The ending is beautiful!"
        ],
        [
         "0",
         "YgAuFqEs6yk",
         "I admire both of you. You’re a good example for being a good parents. Lovely watching and listening your video from the top of Italian mountain."
        ],
        [
         "0",
         "YgAuFqEs6yk",
         "Awesome !"
        ],
        [
         "0",
         "YgAuFqEs6yk",
         "I repeated so many times, your wrong way, your own grapes, your own food.\nI choose my apprentices in my own way which has nothing to do with you blacks apparently since you can't be reasonable by \"book\" wrote by myself. There is no \"co\" can be done. Can't it be more obvious?"
        ],
        [
         "0",
         "YgAuFqEs6yk",
         "Wow!!!!!"
        ],
        [
         "0",
         "YgAuFqEs6yk",
         "Thus the present generation has been produced\nIs anyone surprised"
        ],
        [
         "0",
         "YgAuFqEs6yk",
         "That was so beautiful! Thank you TED!"
        ],
        [
         "0",
         "YgAuFqEs6yk",
         "\"We honor each other's role in Sekyu's life\" \n\nI love that statement. Respect comes before love, always. Blessings to this family."
        ],
        [
         "0",
         "YgAuFqEs6yk",
         "This is incredibly helpful for people who suffer from co-parenting"
        ],
        [
         "0",
         "YgAuFqEs6yk",
         "That's the magic power of our kids that can change ourselves .. only in front of this power you can endure anything and give up all your needs ..!"
        ],
        [
         "0",
         "YgAuFqEs6yk",
         "These parents set an amazing example of not just co-parenting, but on being a good parent in general💖😊amazing talk"
        ],
        [
         "0",
         "YgAuFqEs6yk",
         "The world does not dispise black joy.."
        ],
        [
         "0",
         "YgAuFqEs6yk",
         "Respect and sympathy are the keys for building a better relationship."
        ],
        [
         "0",
         "YgAuFqEs6yk",
         "Wow, delete my comment, you disappoint me as well.\nFirst, don't waste your time, of course, others. Your magic only works on \"the animal level\", which is like humans could be grown like Tarzan as well.\nMoreover, when it comes to adversaries or allies, blacks asked national reparation for slavery while ignoring their ancient ancestors were alpha males who dominated the entire land of Africa, which was the reason why others walked out of Africa by risking their lives and built their homes on other continents and became other \"races\".\nSecond, I never said your magic works. How could I/anybody make anything based on a wrong/false thing? See, you have no clear thought of what you are doing and what others' saying. Not to mention that nobody has the responsibility to meet your expectation. Let alone, your expectation was only a one-sided imagination that only exists in your dream.\nThird, easy come easy go, your laziness, fluke mind and to speculate advantage by trickery can only waste your time. Stealing others' results doesn't mean you really gain what you stole, let alone what you stole has nothing to do with the thing you wanted.\nForth, you have no clear thought about what you are doing which isn't a problem can be fixed by one or two magics. The hard way is the only way. Roman was not built in one day."
        ],
        [
         "0",
         "YgAuFqEs6yk",
         "It's so good to see that there are others with the same mindset. \nThis is the message I preach to the father of my sons but he does not have the ability as yet to look beyond that which he knows and the unfamiliarity of my concept to his person causes me to wonder if he is resilient to see things differently.  \nMy heart is firmed in the belief that making changes, makes the difference.  👏🏿👏🏿👏🏿"
        ],
        [
         "0",
         "YgAuFqEs6yk",
         "Beautiful!"
        ],
        [
         "0",
         "YgAuFqEs6yk",
         "Love this ."
        ],
        [
         "0",
         "YgAuFqEs6yk",
         "They should have avoided divorce."
        ],
        [
         "0",
         "YgAuFqEs6yk",
         "Can't it be more obvious than your incoherent post? Yes."
        ],
        [
         "0",
         "YgAuFqEs6yk",
         "Disagree."
        ],
        [
         "0",
         "YgAuFqEs6yk",
         "🎼Absolutely BEAUTIFUL💕🙏🏽"
        ],
        [
         "0",
         "YgAuFqEs6yk",
         "Nice"
        ]
       ],
       "shape": {
        "columns": 2,
        "rows": 124
       }
      },
      "text/html": [
       "<div>\n",
       "<style scoped>\n",
       "    .dataframe tbody tr th:only-of-type {\n",
       "        vertical-align: middle;\n",
       "    }\n",
       "\n",
       "    .dataframe tbody tr th {\n",
       "        vertical-align: top;\n",
       "    }\n",
       "\n",
       "    .dataframe thead th {\n",
       "        text-align: right;\n",
       "    }\n",
       "</style>\n",
       "<table border=\"1\" class=\"dataframe\">\n",
       "  <thead>\n",
       "    <tr style=\"text-align: right;\">\n",
       "      <th></th>\n",
       "      <th>video_id</th>\n",
       "      <th>comment</th>\n",
       "    </tr>\n",
       "  </thead>\n",
       "  <tbody>\n",
       "    <tr>\n",
       "      <th>0</th>\n",
       "      <td>YgAuFqEs6yk</td>\n",
       "      <td>Amazing</td>\n",
       "    </tr>\n",
       "    <tr>\n",
       "      <th>0</th>\n",
       "      <td>YgAuFqEs6yk</td>\n",
       "      <td>This is true. Sometimes things happen that are...</td>\n",
       "    </tr>\n",
       "    <tr>\n",
       "      <th>0</th>\n",
       "      <td>YgAuFqEs6yk</td>\n",
       "      <td>Powerful &amp; Amazing</td>\n",
       "    </tr>\n",
       "    <tr>\n",
       "      <th>0</th>\n",
       "      <td>YgAuFqEs6yk</td>\n",
       "      <td>I can’t take a guy with dreads and a Detroit h...</td>\n",
       "    </tr>\n",
       "    <tr>\n",
       "      <th>0</th>\n",
       "      <td>YgAuFqEs6yk</td>\n",
       "      <td>How They Both Move Close To Each-other As They...</td>\n",
       "    </tr>\n",
       "    <tr>\n",
       "      <th>...</th>\n",
       "      <td>...</td>\n",
       "      <td>...</td>\n",
       "    </tr>\n",
       "    <tr>\n",
       "      <th>0</th>\n",
       "      <td>YgAuFqEs6yk</td>\n",
       "      <td>It's the way they're counted and validated by ...</td>\n",
       "    </tr>\n",
       "    <tr>\n",
       "      <th>0</th>\n",
       "      <td>YgAuFqEs6yk</td>\n",
       "      <td>Youtube has been around for decades and folk l...</td>\n",
       "    </tr>\n",
       "    <tr>\n",
       "      <th>0</th>\n",
       "      <td>YgAuFqEs6yk</td>\n",
       "      <td>The best</td>\n",
       "    </tr>\n",
       "    <tr>\n",
       "      <th>0</th>\n",
       "      <td>YgAuFqEs6yk</td>\n",
       "      <td>She's bomb. But black folks give entertainment...</td>\n",
       "    </tr>\n",
       "    <tr>\n",
       "      <th>0</th>\n",
       "      <td>YgAuFqEs6yk</td>\n",
       "      <td>Yeah you are right guys</td>\n",
       "    </tr>\n",
       "  </tbody>\n",
       "</table>\n",
       "<p>124 rows × 2 columns</p>\n",
       "</div>"
      ],
      "text/plain": [
       "       video_id                                            comment\n",
       "0   YgAuFqEs6yk                                            Amazing\n",
       "0   YgAuFqEs6yk  This is true. Sometimes things happen that are...\n",
       "0   YgAuFqEs6yk                                 Powerful & Amazing\n",
       "0   YgAuFqEs6yk  I can’t take a guy with dreads and a Detroit h...\n",
       "0   YgAuFqEs6yk  How They Both Move Close To Each-other As They...\n",
       "..          ...                                                ...\n",
       "0   YgAuFqEs6yk  It's the way they're counted and validated by ...\n",
       "0   YgAuFqEs6yk  Youtube has been around for decades and folk l...\n",
       "0   YgAuFqEs6yk                                           The best\n",
       "0   YgAuFqEs6yk  She's bomb. But black folks give entertainment...\n",
       "0   YgAuFqEs6yk                            Yeah you are right guys\n",
       "\n",
       "[124 rows x 2 columns]"
      ]
     },
     "execution_count": 15,
     "metadata": {},
     "output_type": "execute_result"
    }
   ],
   "source": [
    "df_exploded"
   ]
  },
  {
   "cell_type": "code",
   "execution_count": 16,
   "id": "e6f776d1",
   "metadata": {},
   "outputs": [],
   "source": [
    "import re\n",
    "\n",
    "def clean_comment(text):\n",
    "    text = re.sub(r\"http\\S+\", \"\", text)                # URLs\n",
    "    text = re.sub(r\"@\\w+\", \"\", text)                   # Mentions\n",
    "    text = re.sub(r\"#[\\w-]+\", \"\", text)                # Hashtags\n",
    "    text = re.sub(r\"[^\\w\\s]\", \"\", text)                # Punctuation & emojis\n",
    "    text = re.sub(r\"\\s+\", \" \", text)                   # Extra spaces\n",
    "    return text.strip().lower()\n",
    "\n",
    "# Step 4: Clean the comments\n",
    "df_exploded[\"clean_comment\"] = df_exploded[\"comment\"].apply(clean_comment)\n"
   ]
  },
  {
   "cell_type": "code",
   "execution_count": 17,
   "id": "157a6dd6",
   "metadata": {},
   "outputs": [
    {
     "data": {
      "application/vnd.microsoft.datawrangler.viewer.v0+json": {
       "columns": [
        {
         "name": "index",
         "rawType": "int64",
         "type": "integer"
        },
        {
         "name": "video_id",
         "rawType": "object",
         "type": "string"
        },
        {
         "name": "comment",
         "rawType": "object",
         "type": "string"
        },
        {
         "name": "clean_comment",
         "rawType": "object",
         "type": "string"
        }
       ],
       "conversionMethod": "pd.DataFrame",
       "ref": "8635e555-39fa-48b6-9cbc-65e052857511",
       "rows": [
        [
         "0",
         "YgAuFqEs6yk",
         "Amazing",
         "amazing"
        ],
        [
         "0",
         "YgAuFqEs6yk",
         "This is true. Sometimes things happen that arent positive but out of every negative thing that happens there is a seed of opportunity for growth and change. I am happy these people were able to put their differences aside and were able to do what's best for the child. I am going through something similar however i don't want to be enemies with the mother of my children. I will always love her and respect her for everything she gave me.",
         "this is true sometimes things happen that arent positive but out of every negative thing that happens there is a seed of opportunity for growth and change i am happy these people were able to put their differences aside and were able to do whats best for the child i am going through something similar however i dont want to be enemies with the mother of my children i will always love her and respect her for everything she gave me"
        ],
        [
         "0",
         "YgAuFqEs6yk",
         "Powerful & Amazing",
         "powerful amazing"
        ],
        [
         "0",
         "YgAuFqEs6yk",
         "I can’t take a guy with dreads and a Detroit hat on on a ted talk seriously at all sorry 👎👎👎",
         "i cant take a guy with dreads and a detroit hat on on a ted talk seriously at all sorry"
        ],
        [
         "0",
         "YgAuFqEs6yk",
         "How They Both Move Close To Each-other As They Talk 🥺",
         "how they both move close to eachother as they talk"
        ],
        [
         "0",
         "YgAuFqEs6yk",
         "Now these are 2 beautiful grown black adults...not Cardi B and Offset lol",
         "now these are 2 beautiful grown black adultsnot cardi b and offset lol"
        ],
        [
         "0",
         "YgAuFqEs6yk",
         "Thank you.",
         "thank you"
        ],
        [
         "0",
         "YgAuFqEs6yk",
         "I think it's so wonderful how they are speaking to an audience but really to each other. So it's genuine. And it makes their message so relatable",
         "i think its so wonderful how they are speaking to an audience but really to each other so its genuine and it makes their message so relatable"
        ],
        [
         "0",
         "YgAuFqEs6yk",
         "Parents need to watch this.",
         "parents need to watch this"
        ],
        [
         "0",
         "YgAuFqEs6yk",
         "Two min in and I’m wishing all women would think this way. 50 50 parenting support... I’ll stop there or I’ll rant...😖",
         "two min in and im wishing all women would think this way 50 50 parenting support ill stop there or ill rant"
        ],
        [
         "0",
         "YgAuFqEs6yk",
         "Beautiful",
         "beautiful"
        ],
        [
         "0",
         "YgAuFqEs6yk",
         "😅that’s a gorgeous woman. We’d have to just work that out lort! Lol",
         "thats a gorgeous woman wed have to just work that out lort lol"
        ],
        [
         "0",
         "YgAuFqEs6yk",
         "ㅠ",
         "ㅠ"
        ],
        [
         "0",
         "YgAuFqEs6yk",
         "Who else fell in love with this family's hair",
         "who else fell in love with this familys hair"
        ],
        [
         "0",
         "YgAuFqEs6yk",
         "'good job baby'",
         "good job baby"
        ],
        [
         "0",
         "YgAuFqEs6yk",
         "That was very inspiring and agreed with a lot they said. But didnt agree that you just let a child do exactly what they want when they want. The supermarket being a strong point, I just didn't agree with this statement. Is it ok to let your child still eat with their hands like an animal so they couldn't use a fork when their older. Theres elements where you cant just let a child do what they want when they want. The supermarket comment I found very strange. Your educating you're child how to behave in society et cetera. Just struggled with that statement. If that's her view on a supermarket then apply that to everything else in life. Just doesn't work that way.",
         "that was very inspiring and agreed with a lot they said but didnt agree that you just let a child do exactly what they want when they want the supermarket being a strong point i just didnt agree with this statement is it ok to let your child still eat with their hands like an animal so they couldnt use a fork when their older theres elements where you cant just let a child do what they want when they want the supermarket comment i found very strange your educating youre child how to behave in society et cetera just struggled with that statement if thats her view on a supermarket then apply that to everything else in life just doesnt work that way"
        ],
        [
         "0",
         "YgAuFqEs6yk",
         "This is truly beautiful and a lot of take homes for someone raising a Queen just embarking on this co-parenting journey. I can, and will do better. Thank you x",
         "this is truly beautiful and a lot of take homes for someone raising a queen just embarking on this coparenting journey i can and will do better thank you x"
        ],
        [
         "0",
         "YgAuFqEs6yk",
         "My son’s father and I had an on again off again abusive relationship. It was difficult, to say the least, when we split up after 6.5 years. In a lot of ways I still have love for him, but we were always better friends than we were in a relationship. It does make our current relationships hard at times. But, as we tell our son, the one thing we all agree on is that we love our little boy. Our son has four parents & doesn’t have any memory of what it was like before. For him, it’s always been that way & always will be. We get looks & comments all the time from people who don’t understand how we co-parent. We even call each other mom & dad in public. A child can never have too many people who love him. During my pregnancy that’s what I wished for; “I want him to have more love, more friends & family, than he knows what to do with.” This wasn’t the future we had imagined while waiting for our baby to arrive, but for as long as we keep love in our hearts, so shall it be.",
         "my sons father and i had an on again off again abusive relationship it was difficult to say the least when we split up after 65 years in a lot of ways i still have love for him but we were always better friends than we were in a relationship it does make our current relationships hard at times but as we tell our son the one thing we all agree on is that we love our little boy our son has four parents doesnt have any memory of what it was like before for him its always been that way always will be we get looks comments all the time from people who dont understand how we coparent we even call each other mom dad in public a child can never have too many people who love him during my pregnancy thats what i wished for i want him to have more love more friends family than he knows what to do with this wasnt the future we had imagined while waiting for our baby to arrive but for as long as we keep love in our hearts so shall it be"
        ],
        [
         "0",
         "YgAuFqEs6yk",
         "You make so much as a parent only by not talking bad about the other parent with your kid. My parents can have opinions about each other and that affects my perception very much, but luckily they never trashed each other, because that must feel like you can't count on your parents or as if you had no one to trust.",
         "you make so much as a parent only by not talking bad about the other parent with your kid my parents can have opinions about each other and that affects my perception very much but luckily they never trashed each other because that must feel like you cant count on your parents or as if you had no one to trust"
        ],
        [
         "0",
         "YgAuFqEs6yk",
         "Why do they...both talk like this...where they pause...at unnatural spots?",
         "why do theyboth talk like thiswhere they pauseat unnatural spots"
        ],
        [
         "0",
         "YgAuFqEs6yk",
         "My ex isn’t about equality... I digress... 😫",
         "my ex isnt about equality i digress"
        ],
        [
         "0",
         "YgAuFqEs6yk",
         "i totally agree with your comment. If they let the kid be free spirit at anything, why do they pick clothes for him for school etc. ? you can't just let kid running in mall, first of all child can be abducted by predator, second it can cause harm to someone in the shop or himself. I can't remember the movie or tv series, but there was this kid that parents let him do whatever he wants to do because he's a free spirit and it turned out to be a little spoiled brat that no one liked. And this mantra they gave at the end? like whaaat? You know a lie repeated 100 times becomes a true? If he repeats himself or parents tell him that he's awesome, smart, genius, uberhuman, he's gonna start to believe it and think that he already is the greatest so he doesn't need to achieve anything more in life.... sad, but i hope the boy will achieve great things in life, not repeating his parents mistakes and having a straight thinking.",
         "i totally agree with your comment if they let the kid be free spirit at anything why do they pick clothes for him for school etc you cant just let kid running in mall first of all child can be abducted by predator second it can cause harm to someone in the shop or himself i cant remember the movie or tv series but there was this kid that parents let him do whatever he wants to do because hes a free spirit and it turned out to be a little spoiled brat that no one liked and this mantra they gave at the end like whaaat you know a lie repeated 100 times becomes a true if he repeats himself or parents tell him that hes awesome smart genius uberhuman hes gonna start to believe it and think that he already is the greatest so he doesnt need to achieve anything more in life sad but i hope the boy will achieve great things in life not repeating his parents mistakes and having a straight thinking"
        ],
        [
         "0",
         "YgAuFqEs6yk",
         "Why are we quiet in supermarkets? It is not a library where people need silence to focus. So, why do we have to be quiet in supermarkets? Because everyone does it, so we should all do it? Have you been to an Asian market? It is teeming with hustle and bustle and chaos. Fully grown adults are screaming, haggling, laughing, running, bumping into each other. Is this behavior strange? Is this behavior wrong? So, why should we teach a child that it is wrong to express themselves? There is something to be learned about respect, this is true. But maybe the child will learn to respect people in other ways in their life, and not from a scolding in a supermarket.",
         "why are we quiet in supermarkets it is not a library where people need silence to focus so why do we have to be quiet in supermarkets because everyone does it so we should all do it have you been to an asian market it is teeming with hustle and bustle and chaos fully grown adults are screaming haggling laughing running bumping into each other is this behavior strange is this behavior wrong so why should we teach a child that it is wrong to express themselves there is something to be learned about respect this is true but maybe the child will learn to respect people in other ways in their life and not from a scolding in a supermarket"
        ],
        [
         "0",
         "YgAuFqEs6yk",
         "@scalpel  I dont disagree but with limits. A child bounding about in a supermarket as she allows could do serious harm to a little toddler or an elderly person. Let alone heavy products in the aisles that could fall and crush them. She almost had me but then it almost felt like lazy parenting.",
         "i dont disagree but with limits a child bounding about in a supermarket as she allows could do serious harm to a little toddler or an elderly person let alone heavy products in the aisles that could fall and crush them she almost had me but then it almost felt like lazy parenting"
        ],
        [
         "0",
         "YgAuFqEs6yk",
         "They are giving a speech. You need to pause at certain times to give a speech.",
         "they are giving a speech you need to pause at certain times to give a speech"
        ],
        [
         "0",
         "YgAuFqEs6yk",
         "@Ty-iz9wd  \nNot...the way....they do it.",
         "iz9wd notthe waythey do it"
        ],
        [
         "0",
         "YgAuFqEs6yk",
         "This is exactly what I told my ex I wanted if we ever split. He was never mature enough to handle something like this. Our daughter is now 24 and I always wonder how different her life would have been had we coparented like this",
         "this is exactly what i told my ex i wanted if we ever split he was never mature enough to handle something like this our daughter is now 24 and i always wonder how different her life would have been had we coparented like this"
        ],
        [
         "0",
         "YgAuFqEs6yk",
         "Low key teared up when they did the affirmations. Black excellence personified",
         "low key teared up when they did the affirmations black excellence personified"
        ],
        [
         "0",
         "YgAuFqEs6yk",
         "I’m not crying. You’re crying. The ending is beautiful!",
         "im not crying youre crying the ending is beautiful"
        ],
        [
         "0",
         "YgAuFqEs6yk",
         "I admire both of you. You’re a good example for being a good parents. Lovely watching and listening your video from the top of Italian mountain.",
         "i admire both of you youre a good example for being a good parents lovely watching and listening your video from the top of italian mountain"
        ],
        [
         "0",
         "YgAuFqEs6yk",
         "Awesome !",
         "awesome"
        ],
        [
         "0",
         "YgAuFqEs6yk",
         "I repeated so many times, your wrong way, your own grapes, your own food.\nI choose my apprentices in my own way which has nothing to do with you blacks apparently since you can't be reasonable by \"book\" wrote by myself. There is no \"co\" can be done. Can't it be more obvious?",
         "i repeated so many times your wrong way your own grapes your own food i choose my apprentices in my own way which has nothing to do with you blacks apparently since you cant be reasonable by book wrote by myself there is no co can be done cant it be more obvious"
        ],
        [
         "0",
         "YgAuFqEs6yk",
         "Wow!!!!!",
         "wow"
        ],
        [
         "0",
         "YgAuFqEs6yk",
         "Thus the present generation has been produced\nIs anyone surprised",
         "thus the present generation has been produced is anyone surprised"
        ],
        [
         "0",
         "YgAuFqEs6yk",
         "That was so beautiful! Thank you TED!",
         "that was so beautiful thank you ted"
        ],
        [
         "0",
         "YgAuFqEs6yk",
         "\"We honor each other's role in Sekyu's life\" \n\nI love that statement. Respect comes before love, always. Blessings to this family.",
         "we honor each others role in sekyus life i love that statement respect comes before love always blessings to this family"
        ],
        [
         "0",
         "YgAuFqEs6yk",
         "This is incredibly helpful for people who suffer from co-parenting",
         "this is incredibly helpful for people who suffer from coparenting"
        ],
        [
         "0",
         "YgAuFqEs6yk",
         "That's the magic power of our kids that can change ourselves .. only in front of this power you can endure anything and give up all your needs ..!",
         "thats the magic power of our kids that can change ourselves only in front of this power you can endure anything and give up all your needs"
        ],
        [
         "0",
         "YgAuFqEs6yk",
         "These parents set an amazing example of not just co-parenting, but on being a good parent in general💖😊amazing talk",
         "these parents set an amazing example of not just coparenting but on being a good parent in generalamazing talk"
        ],
        [
         "0",
         "YgAuFqEs6yk",
         "The world does not dispise black joy..",
         "the world does not dispise black joy"
        ],
        [
         "0",
         "YgAuFqEs6yk",
         "Respect and sympathy are the keys for building a better relationship.",
         "respect and sympathy are the keys for building a better relationship"
        ],
        [
         "0",
         "YgAuFqEs6yk",
         "Wow, delete my comment, you disappoint me as well.\nFirst, don't waste your time, of course, others. Your magic only works on \"the animal level\", which is like humans could be grown like Tarzan as well.\nMoreover, when it comes to adversaries or allies, blacks asked national reparation for slavery while ignoring their ancient ancestors were alpha males who dominated the entire land of Africa, which was the reason why others walked out of Africa by risking their lives and built their homes on other continents and became other \"races\".\nSecond, I never said your magic works. How could I/anybody make anything based on a wrong/false thing? See, you have no clear thought of what you are doing and what others' saying. Not to mention that nobody has the responsibility to meet your expectation. Let alone, your expectation was only a one-sided imagination that only exists in your dream.\nThird, easy come easy go, your laziness, fluke mind and to speculate advantage by trickery can only waste your time. Stealing others' results doesn't mean you really gain what you stole, let alone what you stole has nothing to do with the thing you wanted.\nForth, you have no clear thought about what you are doing which isn't a problem can be fixed by one or two magics. The hard way is the only way. Roman was not built in one day.",
         "wow delete my comment you disappoint me as well first dont waste your time of course others your magic only works on the animal level which is like humans could be grown like tarzan as well moreover when it comes to adversaries or allies blacks asked national reparation for slavery while ignoring their ancient ancestors were alpha males who dominated the entire land of africa which was the reason why others walked out of africa by risking their lives and built their homes on other continents and became other races second i never said your magic works how could ianybody make anything based on a wrongfalse thing see you have no clear thought of what you are doing and what others saying not to mention that nobody has the responsibility to meet your expectation let alone your expectation was only a onesided imagination that only exists in your dream third easy come easy go your laziness fluke mind and to speculate advantage by trickery can only waste your time stealing others results doesnt mean you really gain what you stole let alone what you stole has nothing to do with the thing you wanted forth you have no clear thought about what you are doing which isnt a problem can be fixed by one or two magics the hard way is the only way roman was not built in one day"
        ],
        [
         "0",
         "YgAuFqEs6yk",
         "It's so good to see that there are others with the same mindset. \nThis is the message I preach to the father of my sons but he does not have the ability as yet to look beyond that which he knows and the unfamiliarity of my concept to his person causes me to wonder if he is resilient to see things differently.  \nMy heart is firmed in the belief that making changes, makes the difference.  👏🏿👏🏿👏🏿",
         "its so good to see that there are others with the same mindset this is the message i preach to the father of my sons but he does not have the ability as yet to look beyond that which he knows and the unfamiliarity of my concept to his person causes me to wonder if he is resilient to see things differently my heart is firmed in the belief that making changes makes the difference"
        ],
        [
         "0",
         "YgAuFqEs6yk",
         "Beautiful!",
         "beautiful"
        ],
        [
         "0",
         "YgAuFqEs6yk",
         "Love this .",
         "love this"
        ],
        [
         "0",
         "YgAuFqEs6yk",
         "They should have avoided divorce.",
         "they should have avoided divorce"
        ],
        [
         "0",
         "YgAuFqEs6yk",
         "Can't it be more obvious than your incoherent post? Yes.",
         "cant it be more obvious than your incoherent post yes"
        ],
        [
         "0",
         "YgAuFqEs6yk",
         "Disagree.",
         "disagree"
        ],
        [
         "0",
         "YgAuFqEs6yk",
         "🎼Absolutely BEAUTIFUL💕🙏🏽",
         "absolutely beautiful"
        ],
        [
         "0",
         "YgAuFqEs6yk",
         "Nice",
         "nice"
        ]
       ],
       "shape": {
        "columns": 3,
        "rows": 124
       }
      },
      "text/html": [
       "<div>\n",
       "<style scoped>\n",
       "    .dataframe tbody tr th:only-of-type {\n",
       "        vertical-align: middle;\n",
       "    }\n",
       "\n",
       "    .dataframe tbody tr th {\n",
       "        vertical-align: top;\n",
       "    }\n",
       "\n",
       "    .dataframe thead th {\n",
       "        text-align: right;\n",
       "    }\n",
       "</style>\n",
       "<table border=\"1\" class=\"dataframe\">\n",
       "  <thead>\n",
       "    <tr style=\"text-align: right;\">\n",
       "      <th></th>\n",
       "      <th>video_id</th>\n",
       "      <th>comment</th>\n",
       "      <th>clean_comment</th>\n",
       "    </tr>\n",
       "  </thead>\n",
       "  <tbody>\n",
       "    <tr>\n",
       "      <th>0</th>\n",
       "      <td>YgAuFqEs6yk</td>\n",
       "      <td>Amazing</td>\n",
       "      <td>amazing</td>\n",
       "    </tr>\n",
       "    <tr>\n",
       "      <th>0</th>\n",
       "      <td>YgAuFqEs6yk</td>\n",
       "      <td>This is true. Sometimes things happen that are...</td>\n",
       "      <td>this is true sometimes things happen that aren...</td>\n",
       "    </tr>\n",
       "    <tr>\n",
       "      <th>0</th>\n",
       "      <td>YgAuFqEs6yk</td>\n",
       "      <td>Powerful &amp; Amazing</td>\n",
       "      <td>powerful amazing</td>\n",
       "    </tr>\n",
       "    <tr>\n",
       "      <th>0</th>\n",
       "      <td>YgAuFqEs6yk</td>\n",
       "      <td>I can’t take a guy with dreads and a Detroit h...</td>\n",
       "      <td>i cant take a guy with dreads and a detroit ha...</td>\n",
       "    </tr>\n",
       "    <tr>\n",
       "      <th>0</th>\n",
       "      <td>YgAuFqEs6yk</td>\n",
       "      <td>How They Both Move Close To Each-other As They...</td>\n",
       "      <td>how they both move close to eachother as they ...</td>\n",
       "    </tr>\n",
       "    <tr>\n",
       "      <th>...</th>\n",
       "      <td>...</td>\n",
       "      <td>...</td>\n",
       "      <td>...</td>\n",
       "    </tr>\n",
       "    <tr>\n",
       "      <th>0</th>\n",
       "      <td>YgAuFqEs6yk</td>\n",
       "      <td>It's the way they're counted and validated by ...</td>\n",
       "      <td>its the way theyre counted and validated by th...</td>\n",
       "    </tr>\n",
       "    <tr>\n",
       "      <th>0</th>\n",
       "      <td>YgAuFqEs6yk</td>\n",
       "      <td>Youtube has been around for decades and folk l...</td>\n",
       "      <td>youtube has been around for decades and folk l...</td>\n",
       "    </tr>\n",
       "    <tr>\n",
       "      <th>0</th>\n",
       "      <td>YgAuFqEs6yk</td>\n",
       "      <td>The best</td>\n",
       "      <td>the best</td>\n",
       "    </tr>\n",
       "    <tr>\n",
       "      <th>0</th>\n",
       "      <td>YgAuFqEs6yk</td>\n",
       "      <td>She's bomb. But black folks give entertainment...</td>\n",
       "      <td>shes bomb but black folks give entertainment e...</td>\n",
       "    </tr>\n",
       "    <tr>\n",
       "      <th>0</th>\n",
       "      <td>YgAuFqEs6yk</td>\n",
       "      <td>Yeah you are right guys</td>\n",
       "      <td>yeah you are right guys</td>\n",
       "    </tr>\n",
       "  </tbody>\n",
       "</table>\n",
       "<p>124 rows × 3 columns</p>\n",
       "</div>"
      ],
      "text/plain": [
       "       video_id                                            comment  \\\n",
       "0   YgAuFqEs6yk                                            Amazing   \n",
       "0   YgAuFqEs6yk  This is true. Sometimes things happen that are...   \n",
       "0   YgAuFqEs6yk                                 Powerful & Amazing   \n",
       "0   YgAuFqEs6yk  I can’t take a guy with dreads and a Detroit h...   \n",
       "0   YgAuFqEs6yk  How They Both Move Close To Each-other As They...   \n",
       "..          ...                                                ...   \n",
       "0   YgAuFqEs6yk  It's the way they're counted and validated by ...   \n",
       "0   YgAuFqEs6yk  Youtube has been around for decades and folk l...   \n",
       "0   YgAuFqEs6yk                                           The best   \n",
       "0   YgAuFqEs6yk  She's bomb. But black folks give entertainment...   \n",
       "0   YgAuFqEs6yk                            Yeah you are right guys   \n",
       "\n",
       "                                        clean_comment  \n",
       "0                                             amazing  \n",
       "0   this is true sometimes things happen that aren...  \n",
       "0                                    powerful amazing  \n",
       "0   i cant take a guy with dreads and a detroit ha...  \n",
       "0   how they both move close to eachother as they ...  \n",
       "..                                                ...  \n",
       "0   its the way theyre counted and validated by th...  \n",
       "0   youtube has been around for decades and folk l...  \n",
       "0                                            the best  \n",
       "0   shes bomb but black folks give entertainment e...  \n",
       "0                             yeah you are right guys  \n",
       "\n",
       "[124 rows x 3 columns]"
      ]
     },
     "execution_count": 17,
     "metadata": {},
     "output_type": "execute_result"
    }
   ],
   "source": [
    "df_exploded"
   ]
  },
  {
   "cell_type": "code",
   "execution_count": 1,
   "id": "c91d8409",
   "metadata": {},
   "outputs": [
    {
     "name": "stdout",
     "output_type": "stream",
     "text": [
      "Defaulting to user installation because normal site-packages is not writeable\n",
      "Requirement already satisfied: torch in c:\\users\\lenovo\\appdata\\roaming\\python\\python312\\site-packages (2.6.0)\n",
      "Requirement already satisfied: filelock in c:\\users\\lenovo\\appdata\\roaming\\python\\python312\\site-packages (from torch) (3.18.0)\n",
      "Requirement already satisfied: typing-extensions>=4.10.0 in c:\\users\\lenovo\\appdata\\roaming\\python\\python312\\site-packages (from torch) (4.13.1)\n",
      "Requirement already satisfied: networkx in c:\\users\\lenovo\\appdata\\roaming\\python\\python312\\site-packages (from torch) (3.4.2)\n",
      "Requirement already satisfied: jinja2 in c:\\users\\lenovo\\appdata\\roaming\\python\\python312\\site-packages (from torch) (3.1.6)\n",
      "Requirement already satisfied: fsspec in c:\\users\\lenovo\\appdata\\roaming\\python\\python312\\site-packages (from torch) (2025.3.2)\n",
      "Requirement already satisfied: setuptools in c:\\users\\lenovo\\appdata\\roaming\\python\\python312\\site-packages (from torch) (78.1.0)\n",
      "Requirement already satisfied: sympy==1.13.1 in c:\\users\\lenovo\\appdata\\roaming\\python\\python312\\site-packages (from torch) (1.13.1)\n",
      "Requirement already satisfied: mpmath<1.4,>=1.1.0 in c:\\users\\lenovo\\appdata\\roaming\\python\\python312\\site-packages (from sympy==1.13.1->torch) (1.3.0)\n",
      "Requirement already satisfied: MarkupSafe>=2.0 in c:\\users\\lenovo\\appdata\\roaming\\python\\python312\\site-packages (from jinja2->torch) (3.0.2)\n"
     ]
    }
   ],
   "source": [
    "!pip install torch"
   ]
  },
  {
   "cell_type": "markdown",
   "id": "8832364c",
   "metadata": {},
   "source": [
    "Why Use Dimensionality Reduction?\n",
    "Your sentence embeddings (e.g., from MiniLM) are usually 384-dimensional.\n",
    "\n",
    "Clustering methods like HDBSCAN and KMeans work better in lower dimensions—typically around 5 to 50.\n",
    "\n",
    "Dimensionality reduction removes noise and improves cluster quality + speeds up computations.\n",
    "\n"
   ]
  },
  {
   "cell_type": "code",
   "execution_count": 19,
   "id": "a2715d12",
   "metadata": {},
   "outputs": [
    {
     "data": {
      "application/vnd.jupyter.widget-view+json": {
       "model_id": "2077b080065a46fd881b877406aaaada",
       "version_major": 2,
       "version_minor": 0
      },
      "text/plain": [
       "Batches:   0%|          | 0/4 [00:00<?, ?it/s]"
      ]
     },
     "metadata": {},
     "output_type": "display_data"
    }
   ],
   "source": [
    "from sentence_transformers import util, SentenceTransformer\n",
    "# Pre-calculate embeddings\n",
    "embedding_model = SentenceTransformer(\"sentence-transformers/all-MiniLM-L6-v2\")\n",
    "text = []\n",
    "for x in df_exploded['clean_comment']:\n",
    "    text.append(x)\n",
    "embeddings = embedding_model.encode(text, show_progress_bar=True)"
   ]
  },
  {
   "cell_type": "code",
   "execution_count": 79,
   "id": "2ad94888",
   "metadata": {},
   "outputs": [
    {
     "data": {
      "text/plain": [
       "['amazing',\n",
       " 'this is true sometimes things happen that arent positive but out of every negative thing that happens there is a seed of opportunity for growth and change i am happy these people were able to put their differences aside and were able to do whats best for the child i am going through something similar however i dont want to be enemies with the mother of my children i will always love her and respect her for everything she gave me',\n",
       " 'powerful amazing',\n",
       " 'i cant take a guy with dreads and a detroit hat on on a ted talk seriously at all sorry',\n",
       " 'how they both move close to eachother as they talk',\n",
       " 'now these are 2 beautiful grown black adultsnot cardi b and offset lol',\n",
       " 'thank you',\n",
       " 'i think its so wonderful how they are speaking to an audience but really to each other so its genuine and it makes their message so relatable',\n",
       " 'parents need to watch this',\n",
       " 'two min in and im wishing all women would think this way 50 50 parenting support ill stop there or ill rant',\n",
       " 'beautiful',\n",
       " 'thats a gorgeous woman wed have to just work that out lort lol',\n",
       " 'ㅠ',\n",
       " 'who else fell in love with this familys hair',\n",
       " 'good job baby',\n",
       " 'that was very inspiring and agreed with a lot they said but didnt agree that you just let a child do exactly what they want when they want the supermarket being a strong point i just didnt agree with this statement is it ok to let your child still eat with their hands like an animal so they couldnt use a fork when their older theres elements where you cant just let a child do what they want when they want the supermarket comment i found very strange your educating youre child how to behave in society et cetera just struggled with that statement if thats her view on a supermarket then apply that to everything else in life just doesnt work that way',\n",
       " 'this is truly beautiful and a lot of take homes for someone raising a queen just embarking on this coparenting journey i can and will do better thank you x',\n",
       " 'my sons father and i had an on again off again abusive relationship it was difficult to say the least when we split up after 65 years in a lot of ways i still have love for him but we were always better friends than we were in a relationship it does make our current relationships hard at times but as we tell our son the one thing we all agree on is that we love our little boy our son has four parents doesnt have any memory of what it was like before for him its always been that way always will be we get looks comments all the time from people who dont understand how we coparent we even call each other mom dad in public a child can never have too many people who love him during my pregnancy thats what i wished for i want him to have more love more friends family than he knows what to do with this wasnt the future we had imagined while waiting for our baby to arrive but for as long as we keep love in our hearts so shall it be',\n",
       " 'you make so much as a parent only by not talking bad about the other parent with your kid my parents can have opinions about each other and that affects my perception very much but luckily they never trashed each other because that must feel like you cant count on your parents or as if you had no one to trust',\n",
       " 'why do theyboth talk like thiswhere they pauseat unnatural spots',\n",
       " 'my ex isnt about equality i digress',\n",
       " 'i totally agree with your comment if they let the kid be free spirit at anything why do they pick clothes for him for school etc you cant just let kid running in mall first of all child can be abducted by predator second it can cause harm to someone in the shop or himself i cant remember the movie or tv series but there was this kid that parents let him do whatever he wants to do because hes a free spirit and it turned out to be a little spoiled brat that no one liked and this mantra they gave at the end like whaaat you know a lie repeated 100 times becomes a true if he repeats himself or parents tell him that hes awesome smart genius uberhuman hes gonna start to believe it and think that he already is the greatest so he doesnt need to achieve anything more in life sad but i hope the boy will achieve great things in life not repeating his parents mistakes and having a straight thinking',\n",
       " 'why are we quiet in supermarkets it is not a library where people need silence to focus so why do we have to be quiet in supermarkets because everyone does it so we should all do it have you been to an asian market it is teeming with hustle and bustle and chaos fully grown adults are screaming haggling laughing running bumping into each other is this behavior strange is this behavior wrong so why should we teach a child that it is wrong to express themselves there is something to be learned about respect this is true but maybe the child will learn to respect people in other ways in their life and not from a scolding in a supermarket',\n",
       " 'i dont disagree but with limits a child bounding about in a supermarket as she allows could do serious harm to a little toddler or an elderly person let alone heavy products in the aisles that could fall and crush them she almost had me but then it almost felt like lazy parenting',\n",
       " 'they are giving a speech you need to pause at certain times to give a speech',\n",
       " 'iz9wd notthe waythey do it',\n",
       " 'this is exactly what i told my ex i wanted if we ever split he was never mature enough to handle something like this our daughter is now 24 and i always wonder how different her life would have been had we coparented like this',\n",
       " 'low key teared up when they did the affirmations black excellence personified',\n",
       " 'im not crying youre crying the ending is beautiful',\n",
       " 'i admire both of you youre a good example for being a good parents lovely watching and listening your video from the top of italian mountain',\n",
       " 'awesome',\n",
       " 'i repeated so many times your wrong way your own grapes your own food i choose my apprentices in my own way which has nothing to do with you blacks apparently since you cant be reasonable by book wrote by myself there is no co can be done cant it be more obvious',\n",
       " 'wow',\n",
       " 'thus the present generation has been produced is anyone surprised',\n",
       " 'that was so beautiful thank you ted',\n",
       " 'we honor each others role in sekyus life i love that statement respect comes before love always blessings to this family',\n",
       " 'this is incredibly helpful for people who suffer from coparenting',\n",
       " 'thats the magic power of our kids that can change ourselves only in front of this power you can endure anything and give up all your needs',\n",
       " 'these parents set an amazing example of not just coparenting but on being a good parent in generalamazing talk',\n",
       " 'the world does not dispise black joy',\n",
       " 'respect and sympathy are the keys for building a better relationship',\n",
       " 'wow delete my comment you disappoint me as well first dont waste your time of course others your magic only works on the animal level which is like humans could be grown like tarzan as well moreover when it comes to adversaries or allies blacks asked national reparation for slavery while ignoring their ancient ancestors were alpha males who dominated the entire land of africa which was the reason why others walked out of africa by risking their lives and built their homes on other continents and became other races second i never said your magic works how could ianybody make anything based on a wrongfalse thing see you have no clear thought of what you are doing and what others saying not to mention that nobody has the responsibility to meet your expectation let alone your expectation was only a onesided imagination that only exists in your dream third easy come easy go your laziness fluke mind and to speculate advantage by trickery can only waste your time stealing others results doesnt mean you really gain what you stole let alone what you stole has nothing to do with the thing you wanted forth you have no clear thought about what you are doing which isnt a problem can be fixed by one or two magics the hard way is the only way roman was not built in one day',\n",
       " 'its so good to see that there are others with the same mindset this is the message i preach to the father of my sons but he does not have the ability as yet to look beyond that which he knows and the unfamiliarity of my concept to his person causes me to wonder if he is resilient to see things differently my heart is firmed in the belief that making changes makes the difference',\n",
       " 'beautiful',\n",
       " 'love this',\n",
       " 'they should have avoided divorce',\n",
       " 'cant it be more obvious than your incoherent post yes',\n",
       " 'disagree',\n",
       " 'absolutely beautiful',\n",
       " 'nice',\n",
       " 'now this is a worthwhile ted talk i can appreciate their honesty openness in public and desire to love their child more than they evidently could one another although it sounds like they truly share a common love personally i think it a shame that for whatever reason none of our business what it is they cannot be a typical family however they stand as a positive example for parents in the 21st century that share the marriage and parenting experience of ebony roberts and shaka senghor may god bless and guide them and their son all together',\n",
       " 'ted talks are not as good as they used to be',\n",
       " 'ted wouldnt it be lovely if we got to see the boy as a teen young adult and as a father as well',\n",
       " 'black love on display amazing for the world to see these parents are a role model for the world together in spirit for the child they created even tho not together as lovers i cant say enough about how this moved me thank you for allowing us on the magic',\n",
       " 'i left the house with out my charger cord or adult pampers some body please help if this phone doesnt stay charged',\n",
       " 'thank you for being brave enough to be authentic your example as two individuals united is beautiful he is a very fortunate little boy be safe peace',\n",
       " 'amazing thankful to the wonderful parents for sharing their story i hope and pray people in these situations benefit from this ted talk this young king will benefit greatly because his patents have chosen to put him first',\n",
       " 'you sound so sweet awesome just give them the aspirations in full swing love is passion love is kind love always protects love always saves',\n",
       " 'yeah very crucial video for todays generation of parentsvery informativethumps up beings',\n",
       " 'accepted',\n",
       " 'address the abuse u address the problem',\n",
       " 'yes u do its time to see jessie',\n",
       " 'you are beautiful what a beautiful writer',\n",
       " 'a child cannot have too many people who love them the best environment a child can have is parents who respect each other and not to forget that a child learns more from what the parents are than what they teach',\n",
       " 'yes preach it',\n",
       " 'surely coparenting means parenting',\n",
       " 'excellent message and talk comes across very genuine thank you',\n",
       " 'beast mode is just there so he wont get fined',\n",
       " 'idk this talk is dilute watery weak with clear readingoffscript errors the race politics thrown in like a world against black joy is also ludacris ted needs higher quality material instead of these soapy operaey filler talks',\n",
       " 'from the talk raising a black boy in a society that despises black joy blacks only seen has profitable or disposable i cant believe ted allowed a talk with such blatant spin on the modern world occasionally you get a good scientific one but lately its been neo liberal postmodern diatribes by yuppies or racist minorities',\n",
       " 'indeed that is the part i didnt like if theyd left that out it wouldve been great',\n",
       " 'so he will learn murder is cool',\n",
       " 'odw i understand what you mean i agree the best we can do as parents is guide our children to have the greatest understanding of what is right in their own hearts to nurture that innocent heart at the center of the childs being to give them the clearest understanding of the world we ourselves created as a community of people among people to remain strongspirited in the crowd of naysayers children are innocent and will go astray without a well defined path for them to choose as they form and reach for their goals',\n",
       " 'i could see him itchin for skittles the whole speech',\n",
       " 'yall powerful i appreciate yall',\n",
       " 'had to be black people',\n",
       " 'i wonder if either of them moved on relationship wise or even remarried and how that affected things id like to hear more',\n",
       " 'be mother without control i want to see her when the boy be a teen',\n",
       " 'its so cute how they all have dreds yall',\n",
       " 'why couldnt i have had these two for my parents absolutely amazing',\n",
       " '',\n",
       " 'i would have loved to coparent with my exwife unfortunately the b did me dirty in the divorce and somehow got it to where i couldnt have my daughter for visitation until she could talk when she was 4 years old so she could say what was wrong with her like me my mother and my grandmother had no clue on how to raise a child after that relationship was broken it never mended my daughter will be 23 this year and i havent actually talked to her since she was 15 her mother convinced her i only wanted her when it was convenient and she hasnt matured enough to realize how much bullshit her mother fed her however she had no problem calling me in february and asking for 4000 so she could move to connecticut with her younger sister',\n",
       " '',\n",
       " '9aco',\n",
       " 'priceless as this example takes hold in the hearts and minds of the many the world will be changed thank you',\n",
       " 'this is so powerful',\n",
       " 'what wisdom they have shared thank you',\n",
       " '',\n",
       " 'wach my videosthey will put a smile',\n",
       " 'yeet',\n",
       " 'goosebumps throughout this whole speech',\n",
       " 'luckily her mom didnt die like if you feel bad for shaka as a kid',\n",
       " 'hi',\n",
       " 'thanks for liking my comment have a wonderful day',\n",
       " 'detroit 10 minutes away from 14 and mound',\n",
       " 'yes',\n",
       " 'gwendolyn williams it is refreshing to see a black family with a mother and a father despite them not being married in my life and the lives of those that i know such a trait is a rarity',\n",
       " 'ana sylvia hoppenbrouwers',\n",
       " 'ive just made my comment with kinda summaries that angle',\n",
       " 'yes super cute how the murderers son dressed just like his dad',\n",
       " 'dreds are unhygienic cute but nasty',\n",
       " 'gwendolyn williams i havent committed any crimes i dont really understand your sentence could you please use correct grammar',\n",
       " '',\n",
       " 'stocc lol you think you are going to win an argument on youtube through pedantry now thats cute',\n",
       " 'no i genuinely dont understand it i dont want to assume what it means',\n",
       " 'church of thought thats a common misconception or maybe yours or those your around are like that cuz most ppl with locs take care of them',\n",
       " 'the guy needs a haircut asap',\n",
       " 'love them who you have all that matters is love',\n",
       " 'because theyre doing this for clout 100 guarantee they dont actually do the positive things they claim',\n",
       " 'anoop dubey has to work on a',\n",
       " 'this is so powerful',\n",
       " 'felt like watching a dr phil episode',\n",
       " '3 likes 0 views',\n",
       " 'early',\n",
       " 'just amazing',\n",
       " 'first',\n",
       " 'one of the best speech ive ever heard',\n",
       " 'wow sir',\n",
       " 'hi first',\n",
       " 'its the way theyre counted and validated by the system happens often on low view counts',\n",
       " 'youtube has been around for decades and folk like you still think youve found something profound because you cbf doing homework about how the two stats are incremented',\n",
       " 'the best',\n",
       " 'shes bomb but black folks give entertainment enjoy',\n",
       " 'yeah you are right guys']"
      ]
     },
     "execution_count": 79,
     "metadata": {},
     "output_type": "execute_result"
    }
   ],
   "source": [
    "text"
   ]
  },
  {
   "cell_type": "code",
   "execution_count": 20,
   "id": "5e3d9d43",
   "metadata": {},
   "outputs": [
    {
     "data": {
      "text/plain": [
       "array([[-0.09810252, -0.00468978,  0.0017602 , ..., -0.00239507,\n",
       "        -0.03424583,  0.09159009],\n",
       "       [-0.06706116,  0.06538443,  0.00657029, ...,  0.00469585,\n",
       "         0.07295034,  0.00661319],\n",
       "       [-0.03640243,  0.05614042, -0.03111582, ...,  0.02659713,\n",
       "         0.03404128,  0.04038696],\n",
       "       ...,\n",
       "       [-0.11371872,  0.02451536, -0.05797755, ...,  0.06054622,\n",
       "         0.07351045,  0.13380738],\n",
       "       [ 0.05567351, -0.03220436, -0.04690749, ..., -0.09492762,\n",
       "        -0.02058854, -0.01266839],\n",
       "       [ 0.02489519,  0.0207468 ,  0.04926012, ..., -0.04400522,\n",
       "         0.04245618,  0.01658163]], dtype=float32)"
      ]
     },
     "execution_count": 20,
     "metadata": {},
     "output_type": "execute_result"
    }
   ],
   "source": [
    "embeddings"
   ]
  },
  {
   "cell_type": "markdown",
   "id": "c61a9ad7",
   "metadata": {},
   "source": [
    "→ Use UMAP for sentence embeddings and topic modeling. It's the default for BERTopic for a reason.\n",
    "→ PCA is simpler and faster but doesn’t capture complex structures in language as well.\n",
    "\n"
   ]
  },
  {
   "cell_type": "markdown",
   "id": "c9591c0c",
   "metadata": {},
   "source": [
    "🔹 n_neighbors=15\n",
    "Controls how local or global your reduction is.\n",
    "\n",
    "Small = more local structure preserved (more detailed clustering).\n",
    "\n",
    "Large = more global structure (smoother, broader clusters).\n",
    "\n",
    "15 is a good default; go lower (5–10) for tiny datasets, higher (30–50) for large.\n",
    "\n",
    "🔹 n_components=5\n",
    "Final dimensionality after reduction (e.g., 5D space).\n",
    "\n",
    "Typical range: 5–15 for BERTopic.\n",
    "\n",
    "Too low → lose detail; too high → clustering becomes noisy.\n",
    "\n",
    "🔹 min_dist=0.0\n",
    "How tightly UMAP packs points in the reduced space.\n",
    "\n",
    "0.0 = max compression (tight, distinct clusters).\n",
    "\n",
    "0.5 = more spread out.\n",
    "\n",
    "For clustering: lower is better.\n",
    "\n",
    "🔹 metric='cosine'\n",
    "Distance function between points.\n",
    "\n",
    "Use \"cosine\" for text embeddings—it captures semantic similarity better than Euclidean.\n",
    "\n",
    "🔹 random_state=42\n",
    "For reproducibility. Set this so you get consistent results each time.\n",
    "\n",
    "✅ Summary – Stick With UMAP\n",
    "Unless you want to do a super-fast prototype or you’re working with numeric structured features, UMAP is the way to go for text embeddings like you're doing here."
   ]
  },
  {
   "cell_type": "code",
   "execution_count": 62,
   "id": "5d13a25f",
   "metadata": {},
   "outputs": [],
   "source": [
    "from umap import UMAP\n",
    "\n",
    "umap_model = UMAP(n_neighbors=10, n_components=2, min_dist=0.0, metric='cosine', random_state=42)"
   ]
  },
  {
   "cell_type": "markdown",
   "id": "0c9cec71",
   "metadata": {},
   "source": [
    "🤖 HDBSCAN — Quick Recap\n",
    "What it is:\n",
    "Hierarchical Density-Based Spatial Clustering of Applications with Noise\n",
    "\n",
    "A density-based clustering algorithm.\n",
    "\n",
    "Works well when:\n",
    "\n",
    "You don’t know the number of clusters.\n",
    "\n",
    "You expect uneven cluster sizes.\n",
    "\n",
    "You’re fine with having some points marked as noise (-1).\n",
    "\n",
    "🔧 Your Current HDBSCAN Setup\n",
    "python\n",
    "Copy\n",
    "Edit\n",
    "HDBSCAN(\n",
    "    min_cluster_size=150,\n",
    "    metric='euclidean',\n",
    "    cluster_selection_method='eom',\n",
    "    prediction_data=True\n",
    ")\n",
    "Let’s walk through these:\n",
    "\n",
    "Hyperparameter\tMeaning\n",
    "min_cluster_size=150\tMinimum number of points to form a cluster. High value = fewer, larger clusters. For small datasets, too high. Try 20–50.\n",
    "metric='euclidean'\tWorks okay, but for sentence embeddings, use 'cosine'\n",
    "cluster_selection_method='eom'\t“Excess of Mass” method. Use \"eom\" (default) for well-separated clusters. \"leaf\" gives more fine-grained clusters.\n",
    "prediction_data=True\tNeeded if you want to assign new points to existing clusters later. Set to True just in case.\n",
    "🧠 Should You Use HDBSCAN?\n",
    "✅ Use HDBSCAN if:\n",
    "You don’t know the number of topics ahead of time.\n",
    "\n",
    "You're working with UMAP-reduced embeddings.\n",
    "\n",
    "You're okay with some comments being labeled as outliers (-1).\n",
    "\n",
    "You want natural cluster shapes and densities (realistic for comments).\n",
    "\n",
    "⚠️ When HDBSCAN Might Struggle:\n",
    "Very small datasets (e.g., <100 points).\n",
    "\n",
    "If you need every comment to belong to some cluster (because HDBSCAN can label points as noise).\n",
    "\n",
    "🧩 Alternatives to HDBSCAN\n",
    "Alternative\tWhen to Use\tPros\tCons\n",
    "KMeans\tYou want exact number of clusters\tFast, simple\tAssumes equal-sized spherical clusters\n",
    "Agglomerative Clustering\tYou want hierarchical topics\tNo “noise” points\tNeed to define n_clusters\n",
    "Spectral Clustering\tComplex data shapes, small-medium sets\tGood on non-convex shapes\tMemory-heavy on large sets\n",
    "BERTopic's Class-based TF-IDF (c-TF-IDF)\tYou don't care about raw embeddings\tText-based only\tLess flexible, not good for semantic embeddings\n"
   ]
  },
  {
   "cell_type": "code",
   "execution_count": 67,
   "id": "5f5556ae",
   "metadata": {},
   "outputs": [],
   "source": [
    "from hdbscan import HDBSCAN\n",
    "hdbscan_model = HDBSCAN(\n",
    "    min_cluster_size=4,         # Try 20–50 depending on comment count\n",
    "    metric='euclidean',             # Better for text\n",
    "    cluster_selection_method='eom',\n",
    "    prediction_data=True\n",
    ")\n"
   ]
  },
  {
   "cell_type": "markdown",
   "id": "5aad5cea",
   "metadata": {},
   "source": [
    "🧠 So what does the vectorizer_model do?\n",
    "The vectorizer_model is used to create a bag-of-words representation of each topic, and this is what BERTopic uses to extract the \"top words\" for each topic cluster.\n",
    "\n",
    "➕ In other words:\n",
    "After you’ve clustered documents (using embeddings + HDBSCAN),\n",
    "\n",
    "BERTopic uses all the documents within each topic\n",
    "\n",
    "It vectorizes them with the CountVectorizer\n",
    "\n",
    "🧪 Do you need CountVectorizer?\n",
    "Yes, unless you use a representation model that completely overrides the keyword extraction (like OpenAI).\n",
    "\n",
    "So in practice:\n",
    "\n",
    "✅ Yes, you should still provide a vectorizer_model, because:\n",
    "\n",
    "It helps initial keyword extraction\n",
    "\n",
    "Many visualizations rely on it (e.g., heatmaps, bar charts)\n",
    "\n",
    "It's fast, doesn’t interfere with embeddings"
   ]
  },
  {
   "cell_type": "code",
   "execution_count": 50,
   "id": "86f4b48d",
   "metadata": {},
   "outputs": [],
   "source": [
    "from sklearn.feature_extraction.text import CountVectorizer\n",
    "\n",
    "vectorizer_model = CountVectorizer(\n",
    "    stop_words=\"english\",   # Removes basic stopwords\n",
    "    min_df=1,                # Ignore words that appear in only 1 comment\n",
    "    ngram_range=(1, 2)       # Allows bigrams like \"great talk\"\n",
    ")\n"
   ]
  },
  {
   "cell_type": "code",
   "execution_count": 51,
   "id": "60205888",
   "metadata": {},
   "outputs": [],
   "source": [
    "\n",
    "from bertopic.representation import KeyBERTInspired\n",
    "# KeyBERT\n",
    "keybert_model = KeyBERTInspired()\n",
    "\n",
    "# Part-of-Speech\n",
    "representation_model = {\n",
    "    \"KeyBERT\": keybert_model,\n",
    "}"
   ]
  },
  {
   "cell_type": "code",
   "execution_count": 80,
   "id": "f9c2b71d",
   "metadata": {},
   "outputs": [
    {
     "name": "stderr",
     "output_type": "stream",
     "text": [
      "2025-04-09 00:35:52,935 - BERTopic - Dimensionality - Fitting the dimensionality reduction algorithm\n",
      "2025-04-09 00:35:53,288 - BERTopic - Dimensionality - Completed ✓\n",
      "2025-04-09 00:35:53,299 - BERTopic - Cluster - Start clustering the reduced embeddings\n",
      "2025-04-09 00:35:53,321 - BERTopic - Cluster - Completed ✓\n",
      "2025-04-09 00:35:53,333 - BERTopic - Representation - Fine-tuning topics using representation models.\n",
      "2025-04-09 00:35:56,253 - BERTopic - Representation - Completed ✓\n"
     ]
    }
   ],
   "source": [
    "from bertopic import BERTopic\n",
    "\n",
    "topic_model = BERTopic(\n",
    "\n",
    "  # Pipeline models\n",
    "  embedding_model=embedding_model,\n",
    "  umap_model=umap_model,\n",
    "  hdbscan_model=hdbscan_model,\n",
    "  vectorizer_model=vectorizer_model,\n",
    "  representation_model=representation_model,\n",
    "\n",
    "  # Hyperparameters\n",
    "  top_n_words=3,\n",
    "  verbose=True\n",
    ")\n",
    "\n",
    "topics, probs = topic_model.fit_transform(text, embeddings)"
   ]
  },
  {
   "cell_type": "code",
   "execution_count": 81,
   "id": "27d016af",
   "metadata": {},
   "outputs": [],
   "source": [
    "keybert_topic_labels = {topic: \" | \".join(list(zip(*values))[0][:3]) for topic, values in topic_model.topic_aspects_[\"KeyBERT\"].items()}\n",
    "topic_model.set_topic_labels(keybert_topic_labels)"
   ]
  },
  {
   "cell_type": "code",
   "execution_count": 82,
   "id": "3a899650",
   "metadata": {},
   "outputs": [
    {
     "data": {
      "application/vnd.microsoft.datawrangler.viewer.v0+json": {
       "columns": [
        {
         "name": "index",
         "rawType": "int64",
         "type": "integer"
        },
        {
         "name": "Topic",
         "rawType": "int64",
         "type": "integer"
        },
        {
         "name": "Count",
         "rawType": "int64",
         "type": "integer"
        },
        {
         "name": "Name",
         "rawType": "object",
         "type": "string"
        },
        {
         "name": "CustomName",
         "rawType": "object",
         "type": "string"
        },
        {
         "name": "Representation",
         "rawType": "object",
         "type": "unknown"
        },
        {
         "name": "KeyBERT",
         "rawType": "object",
         "type": "unknown"
        },
        {
         "name": "Representative_Docs",
         "rawType": "object",
         "type": "unknown"
        }
       ],
       "conversionMethod": "pd.DataFrame",
       "ref": "79c470af-815f-4d69-bc30-73203eb593ac",
       "rows": [
        [
         "0",
         "-1",
         "15",
         "-1_powerful_talk_benefit",
         "church thought | talk raising | parents sharing",
         "['powerful', 'talk', 'benefit']",
         "['church thought', 'talk raising', 'parents sharing', 'remarried affected', 'wisdom shared', 'wonderful parents', 'priceless example', 'world changed', 'ted', 'society despises']",
         "['church of thought thats a common misconception or maybe yours or those your around are like that cuz most ppl with locs take care of them', 'amazing thankful to the wonderful parents for sharing their story i hope and pray people in these situations benefit from this ted talk this young king will benefit greatly because his patents have chosen to put him first', 'from the talk raising a black boy in a society that despises black joy blacks only seen has profitable or disposable i cant believe ted allowed a talk with such blatant spin on the modern world occasionally you get a good scientific one but lately its been neo liberal postmodern diatribes by yuppies or racist minorities']"
        ],
        [
         "1",
         "0",
         "34",
         "0_black_ted_like",
         "love familys | gwendolyn williams | relatable parents",
         "['black', 'ted', 'like']",
         "['love familys', 'gwendolyn williams', 'relatable parents', 'love child', 'marriage parenting', 'parents role', 'family', 'people mother', 'parents', 'yall parents']",
         "['black love on display amazing for the world to see these parents are a role model for the world together in spirit for the child they created even tho not together as lovers i cant say enough about how this moved me thank you for allowing us on the magic', 'now this is a worthwhile ted talk i can appreciate their honesty openness in public and desire to love their child more than they evidently could one another although it sounds like they truly share a common love personally i think it a shame that for whatever reason none of our business what it is they cannot be a typical family however they stand as a positive example for parents in the 21st century that share the marriage and parenting experience of ebony roberts and shaka senghor may god bless and guide them and their son all together', 'idk this talk is dilute watery weak with clear readingoffscript errors the race politics thrown in like a world against black joy is also ludacris ted needs higher quality material instead of these soapy operaey filler talks']"
        ],
        [
         "2",
         "1",
         "25",
         "1_child_let_love",
         "let child | parenting | let kid",
         "['child', 'let', 'love']",
         "['let child', 'parenting', 'let kid', 'child people', 'kid parents', 'child', 'want supermarket', 'behavior', 'parents', 'quiet supermarkets']",
         "['my sons father and i had an on again off again abusive relationship it was difficult to say the least when we split up after 65 years in a lot of ways i still have love for him but we were always better friends than we were in a relationship it does make our current relationships hard at times but as we tell our son the one thing we all agree on is that we love our little boy our son has four parents doesnt have any memory of what it was like before for him its always been that way always will be we get looks comments all the time from people who dont understand how we coparent we even call each other mom dad in public a child can never have too many people who love him during my pregnancy thats what i wished for i want him to have more love more friends family than he knows what to do with this wasnt the future we had imagined while waiting for our baby to arrive but for as long as we keep love in our hearts so shall it be', 'wow delete my comment you disappoint me as well first dont waste your time of course others your magic only works on the animal level which is like humans could be grown like tarzan as well moreover when it comes to adversaries or allies blacks asked national reparation for slavery while ignoring their ancient ancestors were alpha males who dominated the entire land of africa which was the reason why others walked out of africa by risking their lives and built their homes on other continents and became other races second i never said your magic works how could ianybody make anything based on a wrongfalse thing see you have no clear thought of what you are doing and what others saying not to mention that nobody has the responsibility to meet your expectation let alone your expectation was only a onesided imagination that only exists in your dream third easy come easy go your laziness fluke mind and to speculate advantage by trickery can only waste your time stealing others results doesnt mean you really gain what you stole let alone what you stole has nothing to do with the thing you wanted forth you have no clear thought about what you are doing which isnt a problem can be fixed by one or two magics the hard way is the only way roman was not built in one day', 'i totally agree with your comment if they let the kid be free spirit at anything why do they pick clothes for him for school etc you cant just let kid running in mall first of all child can be abducted by predator second it can cause harm to someone in the shop or himself i cant remember the movie or tv series but there was this kid that parents let him do whatever he wants to do because hes a free spirit and it turned out to be a little spoiled brat that no one liked and this mantra they gave at the end like whaaat you know a lie repeated 100 times becomes a true if he repeats himself or parents tell him that hes awesome smart genius uberhuman hes gonna start to believe it and think that he already is the greatest so he doesnt need to achieve anything more in life sad but i hope the boy will achieve great things in life not repeating his parents mistakes and having a straight thinking']"
        ],
        [
         "3",
         "2",
         "22",
         "2_beautiful_thank_love",
         "beautiful | absolutely beautiful | truly beautiful",
         "['beautiful', 'thank', 'love']",
         "['beautiful', 'absolutely beautiful', 'truly beautiful', 'wow beautiful', 'beautiful wow', 'beautiful love', 'thank beautiful', 'beautiful thats', 'thats gorgeous', 'beautiful lot']",
         "['beautiful', 'this is truly beautiful and a lot of take homes for someone raising a queen just embarking on this coparenting journey i can and will do better thank you x', 'beautiful']"
        ],
        [
         "4",
         "3",
         "14",
         "3_hi_awesome 9aco_minutes away",
         "early hi | hi | early",
         "['hi', 'awesome 9aco', 'minutes away']",
         "['early hi', 'hi', 'early', 'hi detroit', 'yeet hi', 'yes early', '9aco', 'minutes away', 'detroit 10', '14']",
         "['hi', 'hi first', 'detroit 10 minutes away from 14 and mound']"
        ],
        [
         "5",
         "4",
         "14",
         "4_dont_theyre_yeah",
         "youtube pedantry | listening video | video italian",
         "['dont', 'theyre', 'yeah']",
         "['youtube pedantry', 'listening video', 'video italian', 'video todays', 'youtube decades', 'videosthey', 'videosthey smile', 'youtube', 'wach videosthey', 'video']",
         "['because theyre doing this for clout 100 guarantee they dont actually do the positive things they claim', 'i admire both of you youre a good example for being a good parents lovely watching and listening your video from the top of italian mountain', 'youtube has been around for decades and folk like you still think youve found something profound because you cbf doing homework about how the two stats are incremented']"
        ]
       ],
       "shape": {
        "columns": 7,
        "rows": 6
       }
      },
      "text/html": [
       "<div>\n",
       "<style scoped>\n",
       "    .dataframe tbody tr th:only-of-type {\n",
       "        vertical-align: middle;\n",
       "    }\n",
       "\n",
       "    .dataframe tbody tr th {\n",
       "        vertical-align: top;\n",
       "    }\n",
       "\n",
       "    .dataframe thead th {\n",
       "        text-align: right;\n",
       "    }\n",
       "</style>\n",
       "<table border=\"1\" class=\"dataframe\">\n",
       "  <thead>\n",
       "    <tr style=\"text-align: right;\">\n",
       "      <th></th>\n",
       "      <th>Topic</th>\n",
       "      <th>Count</th>\n",
       "      <th>Name</th>\n",
       "      <th>CustomName</th>\n",
       "      <th>Representation</th>\n",
       "      <th>KeyBERT</th>\n",
       "      <th>Representative_Docs</th>\n",
       "    </tr>\n",
       "  </thead>\n",
       "  <tbody>\n",
       "    <tr>\n",
       "      <th>0</th>\n",
       "      <td>-1</td>\n",
       "      <td>15</td>\n",
       "      <td>-1_powerful_talk_benefit</td>\n",
       "      <td>church thought | talk raising | parents sharing</td>\n",
       "      <td>[powerful, talk, benefit]</td>\n",
       "      <td>[church thought, talk raising, parents sharing...</td>\n",
       "      <td>[church of thought thats a common misconceptio...</td>\n",
       "    </tr>\n",
       "    <tr>\n",
       "      <th>1</th>\n",
       "      <td>0</td>\n",
       "      <td>34</td>\n",
       "      <td>0_black_ted_like</td>\n",
       "      <td>love familys | gwendolyn williams | relatable ...</td>\n",
       "      <td>[black, ted, like]</td>\n",
       "      <td>[love familys, gwendolyn williams, relatable p...</td>\n",
       "      <td>[black love on display amazing for the world t...</td>\n",
       "    </tr>\n",
       "    <tr>\n",
       "      <th>2</th>\n",
       "      <td>1</td>\n",
       "      <td>25</td>\n",
       "      <td>1_child_let_love</td>\n",
       "      <td>let child | parenting | let kid</td>\n",
       "      <td>[child, let, love]</td>\n",
       "      <td>[let child, parenting, let kid, child people, ...</td>\n",
       "      <td>[my sons father and i had an on again off agai...</td>\n",
       "    </tr>\n",
       "    <tr>\n",
       "      <th>3</th>\n",
       "      <td>2</td>\n",
       "      <td>22</td>\n",
       "      <td>2_beautiful_thank_love</td>\n",
       "      <td>beautiful | absolutely beautiful | truly beaut...</td>\n",
       "      <td>[beautiful, thank, love]</td>\n",
       "      <td>[beautiful, absolutely beautiful, truly beauti...</td>\n",
       "      <td>[beautiful, this is truly beautiful and a lot ...</td>\n",
       "    </tr>\n",
       "    <tr>\n",
       "      <th>4</th>\n",
       "      <td>3</td>\n",
       "      <td>14</td>\n",
       "      <td>3_hi_awesome 9aco_minutes away</td>\n",
       "      <td>early hi | hi | early</td>\n",
       "      <td>[hi, awesome 9aco, minutes away]</td>\n",
       "      <td>[early hi, hi, early, hi detroit, yeet hi, yes...</td>\n",
       "      <td>[hi, hi first, detroit 10 minutes away from 14...</td>\n",
       "    </tr>\n",
       "    <tr>\n",
       "      <th>5</th>\n",
       "      <td>4</td>\n",
       "      <td>14</td>\n",
       "      <td>4_dont_theyre_yeah</td>\n",
       "      <td>youtube pedantry | listening video | video ita...</td>\n",
       "      <td>[dont, theyre, yeah]</td>\n",
       "      <td>[youtube pedantry, listening video, video ital...</td>\n",
       "      <td>[because theyre doing this for clout 100 guara...</td>\n",
       "    </tr>\n",
       "  </tbody>\n",
       "</table>\n",
       "</div>"
      ],
      "text/plain": [
       "   Topic  Count                            Name  \\\n",
       "0     -1     15        -1_powerful_talk_benefit   \n",
       "1      0     34                0_black_ted_like   \n",
       "2      1     25                1_child_let_love   \n",
       "3      2     22          2_beautiful_thank_love   \n",
       "4      3     14  3_hi_awesome 9aco_minutes away   \n",
       "5      4     14              4_dont_theyre_yeah   \n",
       "\n",
       "                                          CustomName  \\\n",
       "0    church thought | talk raising | parents sharing   \n",
       "1  love familys | gwendolyn williams | relatable ...   \n",
       "2                    let child | parenting | let kid   \n",
       "3  beautiful | absolutely beautiful | truly beaut...   \n",
       "4                              early hi | hi | early   \n",
       "5  youtube pedantry | listening video | video ita...   \n",
       "\n",
       "                     Representation  \\\n",
       "0         [powerful, talk, benefit]   \n",
       "1                [black, ted, like]   \n",
       "2                [child, let, love]   \n",
       "3          [beautiful, thank, love]   \n",
       "4  [hi, awesome 9aco, minutes away]   \n",
       "5              [dont, theyre, yeah]   \n",
       "\n",
       "                                             KeyBERT  \\\n",
       "0  [church thought, talk raising, parents sharing...   \n",
       "1  [love familys, gwendolyn williams, relatable p...   \n",
       "2  [let child, parenting, let kid, child people, ...   \n",
       "3  [beautiful, absolutely beautiful, truly beauti...   \n",
       "4  [early hi, hi, early, hi detroit, yeet hi, yes...   \n",
       "5  [youtube pedantry, listening video, video ital...   \n",
       "\n",
       "                                 Representative_Docs  \n",
       "0  [church of thought thats a common misconceptio...  \n",
       "1  [black love on display amazing for the world t...  \n",
       "2  [my sons father and i had an on again off agai...  \n",
       "3  [beautiful, this is truly beautiful and a lot ...  \n",
       "4  [hi, hi first, detroit 10 minutes away from 14...  \n",
       "5  [because theyre doing this for clout 100 guara...  "
      ]
     },
     "execution_count": 82,
     "metadata": {},
     "output_type": "execute_result"
    }
   ],
   "source": [
    "topic_model.get_topic_info()"
   ]
  },
  {
   "cell_type": "code",
   "execution_count": 83,
   "id": "bf25d8cb",
   "metadata": {},
   "outputs": [
    {
     "name": "stderr",
     "output_type": "stream",
     "text": [
      "C:\\Users\\Lenovo\\AppData\\Roaming\\Python\\Python312\\site-packages\\umap\\umap_.py:1952: UserWarning:\n",
      "\n",
      "n_jobs value 1 overridden to 1 by setting random_state. Use no seed for parallelism.\n",
      "\n"
     ]
    },
    {
     "data": {
      "application/vnd.plotly.v1+json": {
       "config": {
        "plotlyServerURL": "https://plot.ly"
       },
       "data": [
        {
         "customdata": [
          [
           0,
           "love familys | gwendolyn williams | relatable parents",
           34
          ],
          [
           1,
           "let child | parenting | let kid",
           25
          ],
          [
           2,
           "beautiful | absolutely beautiful | truly beautiful",
           22
          ],
          [
           3,
           "early hi | hi | early",
           14
          ],
          [
           4,
           "youtube pedantry | listening video | video italian",
           14
          ]
         ],
         "hovertemplate": "<b>Topic %{customdata[0]}</b><br>%{customdata[1]}<br>Size: %{customdata[2]}",
         "legendgroup": "",
         "marker": {
          "color": "#B0BEC5",
          "line": {
           "color": "DarkSlateGrey",
           "width": 2
          },
          "size": [
           34,
           25,
           22,
           14,
           14
          ],
          "sizemode": "area",
          "sizeref": 0.02125,
          "symbol": "circle"
         },
         "mode": "markers",
         "name": "",
         "orientation": "v",
         "showlegend": false,
         "type": "scatter",
         "x": [
          22.369183,
          22.837524,
          20.070833,
          20.424288,
          22.772842
         ],
         "xaxis": "x",
         "y": [
          6.6555147,
          7.272183,
          -14.034247,
          -14.387743,
          6.16637
         ],
         "yaxis": "y"
        }
       ],
       "layout": {
        "annotations": [
         {
          "showarrow": false,
          "text": "D1",
          "x": 17.060208225250243,
          "y": -4.091447031497956,
          "yshift": 10
         },
         {
          "showarrow": false,
          "text": "D2",
          "x": 21.66168065071106,
          "xshift": 10,
          "y": 8.363010382652282
         }
        ],
        "height": 650,
        "hoverlabel": {
         "bgcolor": "white",
         "font": {
          "family": "Rockwell",
          "size": 16
         }
        },
        "legend": {
         "itemsizing": "constant",
         "tracegroupgap": 0
        },
        "margin": {
         "t": 60
        },
        "shapes": [
         {
          "line": {
           "color": "#CFD8DC",
           "width": 2
          },
          "type": "line",
          "x0": 21.66168065071106,
          "x1": 21.66168065071106,
          "y0": -16.545904445648194,
          "y1": 8.363010382652282
         },
         {
          "line": {
           "color": "#9E9E9E",
           "width": 2
          },
          "type": "line",
          "x0": 17.060208225250243,
          "x1": 26.263153076171875,
          "y0": -4.091447031497956,
          "y1": -4.091447031497956
         }
        ],
        "sliders": [
         {
          "active": 0,
          "pad": {
           "t": 50
          },
          "steps": [
           {
            "args": [
             {
              "marker.color": [
               [
                "red",
                "#B0BEC5",
                "#B0BEC5",
                "#B0BEC5",
                "#B0BEC5"
               ]
              ]
             }
            ],
            "label": "Topic 0",
            "method": "update"
           },
           {
            "args": [
             {
              "marker.color": [
               [
                "#B0BEC5",
                "red",
                "#B0BEC5",
                "#B0BEC5",
                "#B0BEC5"
               ]
              ]
             }
            ],
            "label": "Topic 1",
            "method": "update"
           },
           {
            "args": [
             {
              "marker.color": [
               [
                "#B0BEC5",
                "#B0BEC5",
                "red",
                "#B0BEC5",
                "#B0BEC5"
               ]
              ]
             }
            ],
            "label": "Topic 2",
            "method": "update"
           },
           {
            "args": [
             {
              "marker.color": [
               [
                "#B0BEC5",
                "#B0BEC5",
                "#B0BEC5",
                "red",
                "#B0BEC5"
               ]
              ]
             }
            ],
            "label": "Topic 3",
            "method": "update"
           },
           {
            "args": [
             {
              "marker.color": [
               [
                "#B0BEC5",
                "#B0BEC5",
                "#B0BEC5",
                "#B0BEC5",
                "red"
               ]
              ]
             }
            ],
            "label": "Topic 4",
            "method": "update"
           }
          ]
         }
        ],
        "template": {
         "data": {
          "bar": [
           {
            "error_x": {
             "color": "rgb(36,36,36)"
            },
            "error_y": {
             "color": "rgb(36,36,36)"
            },
            "marker": {
             "line": {
              "color": "white",
              "width": 0.5
             },
             "pattern": {
              "fillmode": "overlay",
              "size": 10,
              "solidity": 0.2
             }
            },
            "type": "bar"
           }
          ],
          "barpolar": [
           {
            "marker": {
             "line": {
              "color": "white",
              "width": 0.5
             },
             "pattern": {
              "fillmode": "overlay",
              "size": 10,
              "solidity": 0.2
             }
            },
            "type": "barpolar"
           }
          ],
          "carpet": [
           {
            "aaxis": {
             "endlinecolor": "rgb(36,36,36)",
             "gridcolor": "white",
             "linecolor": "white",
             "minorgridcolor": "white",
             "startlinecolor": "rgb(36,36,36)"
            },
            "baxis": {
             "endlinecolor": "rgb(36,36,36)",
             "gridcolor": "white",
             "linecolor": "white",
             "minorgridcolor": "white",
             "startlinecolor": "rgb(36,36,36)"
            },
            "type": "carpet"
           }
          ],
          "choropleth": [
           {
            "colorbar": {
             "outlinewidth": 1,
             "tickcolor": "rgb(36,36,36)",
             "ticks": "outside"
            },
            "type": "choropleth"
           }
          ],
          "contour": [
           {
            "colorbar": {
             "outlinewidth": 1,
             "tickcolor": "rgb(36,36,36)",
             "ticks": "outside"
            },
            "colorscale": [
             [
              0,
              "#440154"
             ],
             [
              0.1111111111111111,
              "#482878"
             ],
             [
              0.2222222222222222,
              "#3e4989"
             ],
             [
              0.3333333333333333,
              "#31688e"
             ],
             [
              0.4444444444444444,
              "#26828e"
             ],
             [
              0.5555555555555556,
              "#1f9e89"
             ],
             [
              0.6666666666666666,
              "#35b779"
             ],
             [
              0.7777777777777778,
              "#6ece58"
             ],
             [
              0.8888888888888888,
              "#b5de2b"
             ],
             [
              1,
              "#fde725"
             ]
            ],
            "type": "contour"
           }
          ],
          "contourcarpet": [
           {
            "colorbar": {
             "outlinewidth": 1,
             "tickcolor": "rgb(36,36,36)",
             "ticks": "outside"
            },
            "type": "contourcarpet"
           }
          ],
          "heatmap": [
           {
            "colorbar": {
             "outlinewidth": 1,
             "tickcolor": "rgb(36,36,36)",
             "ticks": "outside"
            },
            "colorscale": [
             [
              0,
              "#440154"
             ],
             [
              0.1111111111111111,
              "#482878"
             ],
             [
              0.2222222222222222,
              "#3e4989"
             ],
             [
              0.3333333333333333,
              "#31688e"
             ],
             [
              0.4444444444444444,
              "#26828e"
             ],
             [
              0.5555555555555556,
              "#1f9e89"
             ],
             [
              0.6666666666666666,
              "#35b779"
             ],
             [
              0.7777777777777778,
              "#6ece58"
             ],
             [
              0.8888888888888888,
              "#b5de2b"
             ],
             [
              1,
              "#fde725"
             ]
            ],
            "type": "heatmap"
           }
          ],
          "heatmapgl": [
           {
            "colorbar": {
             "outlinewidth": 1,
             "tickcolor": "rgb(36,36,36)",
             "ticks": "outside"
            },
            "colorscale": [
             [
              0,
              "#440154"
             ],
             [
              0.1111111111111111,
              "#482878"
             ],
             [
              0.2222222222222222,
              "#3e4989"
             ],
             [
              0.3333333333333333,
              "#31688e"
             ],
             [
              0.4444444444444444,
              "#26828e"
             ],
             [
              0.5555555555555556,
              "#1f9e89"
             ],
             [
              0.6666666666666666,
              "#35b779"
             ],
             [
              0.7777777777777778,
              "#6ece58"
             ],
             [
              0.8888888888888888,
              "#b5de2b"
             ],
             [
              1,
              "#fde725"
             ]
            ],
            "type": "heatmapgl"
           }
          ],
          "histogram": [
           {
            "marker": {
             "line": {
              "color": "white",
              "width": 0.6
             }
            },
            "type": "histogram"
           }
          ],
          "histogram2d": [
           {
            "colorbar": {
             "outlinewidth": 1,
             "tickcolor": "rgb(36,36,36)",
             "ticks": "outside"
            },
            "colorscale": [
             [
              0,
              "#440154"
             ],
             [
              0.1111111111111111,
              "#482878"
             ],
             [
              0.2222222222222222,
              "#3e4989"
             ],
             [
              0.3333333333333333,
              "#31688e"
             ],
             [
              0.4444444444444444,
              "#26828e"
             ],
             [
              0.5555555555555556,
              "#1f9e89"
             ],
             [
              0.6666666666666666,
              "#35b779"
             ],
             [
              0.7777777777777778,
              "#6ece58"
             ],
             [
              0.8888888888888888,
              "#b5de2b"
             ],
             [
              1,
              "#fde725"
             ]
            ],
            "type": "histogram2d"
           }
          ],
          "histogram2dcontour": [
           {
            "colorbar": {
             "outlinewidth": 1,
             "tickcolor": "rgb(36,36,36)",
             "ticks": "outside"
            },
            "colorscale": [
             [
              0,
              "#440154"
             ],
             [
              0.1111111111111111,
              "#482878"
             ],
             [
              0.2222222222222222,
              "#3e4989"
             ],
             [
              0.3333333333333333,
              "#31688e"
             ],
             [
              0.4444444444444444,
              "#26828e"
             ],
             [
              0.5555555555555556,
              "#1f9e89"
             ],
             [
              0.6666666666666666,
              "#35b779"
             ],
             [
              0.7777777777777778,
              "#6ece58"
             ],
             [
              0.8888888888888888,
              "#b5de2b"
             ],
             [
              1,
              "#fde725"
             ]
            ],
            "type": "histogram2dcontour"
           }
          ],
          "mesh3d": [
           {
            "colorbar": {
             "outlinewidth": 1,
             "tickcolor": "rgb(36,36,36)",
             "ticks": "outside"
            },
            "type": "mesh3d"
           }
          ],
          "parcoords": [
           {
            "line": {
             "colorbar": {
              "outlinewidth": 1,
              "tickcolor": "rgb(36,36,36)",
              "ticks": "outside"
             }
            },
            "type": "parcoords"
           }
          ],
          "pie": [
           {
            "automargin": true,
            "type": "pie"
           }
          ],
          "scatter": [
           {
            "fillpattern": {
             "fillmode": "overlay",
             "size": 10,
             "solidity": 0.2
            },
            "type": "scatter"
           }
          ],
          "scatter3d": [
           {
            "line": {
             "colorbar": {
              "outlinewidth": 1,
              "tickcolor": "rgb(36,36,36)",
              "ticks": "outside"
             }
            },
            "marker": {
             "colorbar": {
              "outlinewidth": 1,
              "tickcolor": "rgb(36,36,36)",
              "ticks": "outside"
             }
            },
            "type": "scatter3d"
           }
          ],
          "scattercarpet": [
           {
            "marker": {
             "colorbar": {
              "outlinewidth": 1,
              "tickcolor": "rgb(36,36,36)",
              "ticks": "outside"
             }
            },
            "type": "scattercarpet"
           }
          ],
          "scattergeo": [
           {
            "marker": {
             "colorbar": {
              "outlinewidth": 1,
              "tickcolor": "rgb(36,36,36)",
              "ticks": "outside"
             }
            },
            "type": "scattergeo"
           }
          ],
          "scattergl": [
           {
            "marker": {
             "colorbar": {
              "outlinewidth": 1,
              "tickcolor": "rgb(36,36,36)",
              "ticks": "outside"
             }
            },
            "type": "scattergl"
           }
          ],
          "scattermapbox": [
           {
            "marker": {
             "colorbar": {
              "outlinewidth": 1,
              "tickcolor": "rgb(36,36,36)",
              "ticks": "outside"
             }
            },
            "type": "scattermapbox"
           }
          ],
          "scatterpolar": [
           {
            "marker": {
             "colorbar": {
              "outlinewidth": 1,
              "tickcolor": "rgb(36,36,36)",
              "ticks": "outside"
             }
            },
            "type": "scatterpolar"
           }
          ],
          "scatterpolargl": [
           {
            "marker": {
             "colorbar": {
              "outlinewidth": 1,
              "tickcolor": "rgb(36,36,36)",
              "ticks": "outside"
             }
            },
            "type": "scatterpolargl"
           }
          ],
          "scatterternary": [
           {
            "marker": {
             "colorbar": {
              "outlinewidth": 1,
              "tickcolor": "rgb(36,36,36)",
              "ticks": "outside"
             }
            },
            "type": "scatterternary"
           }
          ],
          "surface": [
           {
            "colorbar": {
             "outlinewidth": 1,
             "tickcolor": "rgb(36,36,36)",
             "ticks": "outside"
            },
            "colorscale": [
             [
              0,
              "#440154"
             ],
             [
              0.1111111111111111,
              "#482878"
             ],
             [
              0.2222222222222222,
              "#3e4989"
             ],
             [
              0.3333333333333333,
              "#31688e"
             ],
             [
              0.4444444444444444,
              "#26828e"
             ],
             [
              0.5555555555555556,
              "#1f9e89"
             ],
             [
              0.6666666666666666,
              "#35b779"
             ],
             [
              0.7777777777777778,
              "#6ece58"
             ],
             [
              0.8888888888888888,
              "#b5de2b"
             ],
             [
              1,
              "#fde725"
             ]
            ],
            "type": "surface"
           }
          ],
          "table": [
           {
            "cells": {
             "fill": {
              "color": "rgb(237,237,237)"
             },
             "line": {
              "color": "white"
             }
            },
            "header": {
             "fill": {
              "color": "rgb(217,217,217)"
             },
             "line": {
              "color": "white"
             }
            },
            "type": "table"
           }
          ]
         },
         "layout": {
          "annotationdefaults": {
           "arrowhead": 0,
           "arrowwidth": 1
          },
          "autotypenumbers": "strict",
          "coloraxis": {
           "colorbar": {
            "outlinewidth": 1,
            "tickcolor": "rgb(36,36,36)",
            "ticks": "outside"
           }
          },
          "colorscale": {
           "diverging": [
            [
             0,
             "rgb(103,0,31)"
            ],
            [
             0.1,
             "rgb(178,24,43)"
            ],
            [
             0.2,
             "rgb(214,96,77)"
            ],
            [
             0.3,
             "rgb(244,165,130)"
            ],
            [
             0.4,
             "rgb(253,219,199)"
            ],
            [
             0.5,
             "rgb(247,247,247)"
            ],
            [
             0.6,
             "rgb(209,229,240)"
            ],
            [
             0.7,
             "rgb(146,197,222)"
            ],
            [
             0.8,
             "rgb(67,147,195)"
            ],
            [
             0.9,
             "rgb(33,102,172)"
            ],
            [
             1,
             "rgb(5,48,97)"
            ]
           ],
           "sequential": [
            [
             0,
             "#440154"
            ],
            [
             0.1111111111111111,
             "#482878"
            ],
            [
             0.2222222222222222,
             "#3e4989"
            ],
            [
             0.3333333333333333,
             "#31688e"
            ],
            [
             0.4444444444444444,
             "#26828e"
            ],
            [
             0.5555555555555556,
             "#1f9e89"
            ],
            [
             0.6666666666666666,
             "#35b779"
            ],
            [
             0.7777777777777778,
             "#6ece58"
            ],
            [
             0.8888888888888888,
             "#b5de2b"
            ],
            [
             1,
             "#fde725"
            ]
           ],
           "sequentialminus": [
            [
             0,
             "#440154"
            ],
            [
             0.1111111111111111,
             "#482878"
            ],
            [
             0.2222222222222222,
             "#3e4989"
            ],
            [
             0.3333333333333333,
             "#31688e"
            ],
            [
             0.4444444444444444,
             "#26828e"
            ],
            [
             0.5555555555555556,
             "#1f9e89"
            ],
            [
             0.6666666666666666,
             "#35b779"
            ],
            [
             0.7777777777777778,
             "#6ece58"
            ],
            [
             0.8888888888888888,
             "#b5de2b"
            ],
            [
             1,
             "#fde725"
            ]
           ]
          },
          "colorway": [
           "#1F77B4",
           "#FF7F0E",
           "#2CA02C",
           "#D62728",
           "#9467BD",
           "#8C564B",
           "#E377C2",
           "#7F7F7F",
           "#BCBD22",
           "#17BECF"
          ],
          "font": {
           "color": "rgb(36,36,36)"
          },
          "geo": {
           "bgcolor": "white",
           "lakecolor": "white",
           "landcolor": "white",
           "showlakes": true,
           "showland": true,
           "subunitcolor": "white"
          },
          "hoverlabel": {
           "align": "left"
          },
          "hovermode": "closest",
          "mapbox": {
           "style": "light"
          },
          "paper_bgcolor": "white",
          "plot_bgcolor": "white",
          "polar": {
           "angularaxis": {
            "gridcolor": "rgb(232,232,232)",
            "linecolor": "rgb(36,36,36)",
            "showgrid": false,
            "showline": true,
            "ticks": "outside"
           },
           "bgcolor": "white",
           "radialaxis": {
            "gridcolor": "rgb(232,232,232)",
            "linecolor": "rgb(36,36,36)",
            "showgrid": false,
            "showline": true,
            "ticks": "outside"
           }
          },
          "scene": {
           "xaxis": {
            "backgroundcolor": "white",
            "gridcolor": "rgb(232,232,232)",
            "gridwidth": 2,
            "linecolor": "rgb(36,36,36)",
            "showbackground": true,
            "showgrid": false,
            "showline": true,
            "ticks": "outside",
            "zeroline": false,
            "zerolinecolor": "rgb(36,36,36)"
           },
           "yaxis": {
            "backgroundcolor": "white",
            "gridcolor": "rgb(232,232,232)",
            "gridwidth": 2,
            "linecolor": "rgb(36,36,36)",
            "showbackground": true,
            "showgrid": false,
            "showline": true,
            "ticks": "outside",
            "zeroline": false,
            "zerolinecolor": "rgb(36,36,36)"
           },
           "zaxis": {
            "backgroundcolor": "white",
            "gridcolor": "rgb(232,232,232)",
            "gridwidth": 2,
            "linecolor": "rgb(36,36,36)",
            "showbackground": true,
            "showgrid": false,
            "showline": true,
            "ticks": "outside",
            "zeroline": false,
            "zerolinecolor": "rgb(36,36,36)"
           }
          },
          "shapedefaults": {
           "fillcolor": "black",
           "line": {
            "width": 0
           },
           "opacity": 0.3
          },
          "ternary": {
           "aaxis": {
            "gridcolor": "rgb(232,232,232)",
            "linecolor": "rgb(36,36,36)",
            "showgrid": false,
            "showline": true,
            "ticks": "outside"
           },
           "baxis": {
            "gridcolor": "rgb(232,232,232)",
            "linecolor": "rgb(36,36,36)",
            "showgrid": false,
            "showline": true,
            "ticks": "outside"
           },
           "bgcolor": "white",
           "caxis": {
            "gridcolor": "rgb(232,232,232)",
            "linecolor": "rgb(36,36,36)",
            "showgrid": false,
            "showline": true,
            "ticks": "outside"
           }
          },
          "title": {
           "x": 0.05
          },
          "xaxis": {
           "automargin": true,
           "gridcolor": "rgb(232,232,232)",
           "linecolor": "rgb(36,36,36)",
           "showgrid": false,
           "showline": true,
           "ticks": "outside",
           "title": {
            "standoff": 15
           },
           "zeroline": false,
           "zerolinecolor": "rgb(36,36,36)"
          },
          "yaxis": {
           "automargin": true,
           "gridcolor": "rgb(232,232,232)",
           "linecolor": "rgb(36,36,36)",
           "showgrid": false,
           "showline": true,
           "ticks": "outside",
           "title": {
            "standoff": 15
           },
           "zeroline": false,
           "zerolinecolor": "rgb(36,36,36)"
          }
         }
        },
        "title": {
         "font": {
          "color": "Black",
          "size": 22
         },
         "text": "<b>Intertopic Distance Map</b>",
         "x": 0.5,
         "xanchor": "center",
         "y": 0.95,
         "yanchor": "top"
        },
        "width": 650,
        "xaxis": {
         "anchor": "y",
         "domain": [
          0,
          1
         ],
         "range": [
          17.060208225250243,
          26.263153076171875
         ],
         "title": {
          "text": ""
         },
         "visible": false
        },
        "yaxis": {
         "anchor": "x",
         "domain": [
          0,
          1
         ],
         "range": [
          -16.545904445648194,
          8.363010382652282
         ],
         "title": {
          "text": ""
         },
         "visible": false
        }
       }
      }
     },
     "metadata": {},
     "output_type": "display_data"
    }
   ],
   "source": [
    "topic_model.visualize_topics(custom_labels=True)"
   ]
  },
  {
   "cell_type": "code",
   "execution_count": 72,
   "id": "efc9b5bb",
   "metadata": {},
   "outputs": [
    {
     "data": {
      "application/vnd.plotly.v1+json": {
       "config": {
        "plotlyServerURL": "https://plot.ly"
       },
       "data": [
        {
         "hoverinfo": "text",
         "marker": {
          "color": "rgb(61,153,112)"
         },
         "mode": "lines",
         "type": "scatter",
         "x": [
          0,
          0.8690464180256269,
          0.8690464180256269,
          0
         ],
         "xaxis": "x",
         "y": [
          -25,
          -25,
          -35,
          -35
         ],
         "yaxis": "y"
        },
        {
         "hoverinfo": "text",
         "marker": {
          "color": "rgb(61,153,112)"
         },
         "mode": "lines",
         "type": "scatter",
         "x": [
          0,
          0.9354011682231382,
          0.9354011682231382,
          0.8690464180256269
         ],
         "xaxis": "x",
         "y": [
          -15,
          -15,
          -30,
          -30
         ],
         "yaxis": "y"
        },
        {
         "hoverinfo": "text",
         "marker": {
          "color": "rgb(61,153,112)"
         },
         "mode": "lines",
         "type": "scatter",
         "x": [
          0.9354011682231382,
          0.9587492255185476,
          0.9587492255185476,
          0
         ],
         "xaxis": "x",
         "y": [
          -22.5,
          -22.5,
          -45,
          -45
         ],
         "yaxis": "y"
        },
        {
         "hoverinfo": "text",
         "marker": {
          "color": "rgb(0,116,217)"
         },
         "mode": "lines",
         "type": "scatter",
         "x": [
          0,
          1.0291996254346745,
          1.0291996254346745,
          0.9587492255185476
         ],
         "xaxis": "x",
         "y": [
          -5,
          -5,
          -33.75,
          -33.75
         ],
         "yaxis": "y"
        }
       ],
       "layout": {
        "autosize": false,
        "height": 275,
        "hoverlabel": {
         "bgcolor": "white",
         "font": {
          "family": "Rockwell",
          "size": 16
         }
        },
        "hovermode": "closest",
        "plot_bgcolor": "#ECEFF1",
        "showlegend": false,
        "template": {
         "data": {
          "bar": [
           {
            "error_x": {
             "color": "#2a3f5f"
            },
            "error_y": {
             "color": "#2a3f5f"
            },
            "marker": {
             "line": {
              "color": "white",
              "width": 0.5
             },
             "pattern": {
              "fillmode": "overlay",
              "size": 10,
              "solidity": 0.2
             }
            },
            "type": "bar"
           }
          ],
          "barpolar": [
           {
            "marker": {
             "line": {
              "color": "white",
              "width": 0.5
             },
             "pattern": {
              "fillmode": "overlay",
              "size": 10,
              "solidity": 0.2
             }
            },
            "type": "barpolar"
           }
          ],
          "carpet": [
           {
            "aaxis": {
             "endlinecolor": "#2a3f5f",
             "gridcolor": "#C8D4E3",
             "linecolor": "#C8D4E3",
             "minorgridcolor": "#C8D4E3",
             "startlinecolor": "#2a3f5f"
            },
            "baxis": {
             "endlinecolor": "#2a3f5f",
             "gridcolor": "#C8D4E3",
             "linecolor": "#C8D4E3",
             "minorgridcolor": "#C8D4E3",
             "startlinecolor": "#2a3f5f"
            },
            "type": "carpet"
           }
          ],
          "choropleth": [
           {
            "colorbar": {
             "outlinewidth": 0,
             "ticks": ""
            },
            "type": "choropleth"
           }
          ],
          "contour": [
           {
            "colorbar": {
             "outlinewidth": 0,
             "ticks": ""
            },
            "colorscale": [
             [
              0,
              "#0d0887"
             ],
             [
              0.1111111111111111,
              "#46039f"
             ],
             [
              0.2222222222222222,
              "#7201a8"
             ],
             [
              0.3333333333333333,
              "#9c179e"
             ],
             [
              0.4444444444444444,
              "#bd3786"
             ],
             [
              0.5555555555555556,
              "#d8576b"
             ],
             [
              0.6666666666666666,
              "#ed7953"
             ],
             [
              0.7777777777777778,
              "#fb9f3a"
             ],
             [
              0.8888888888888888,
              "#fdca26"
             ],
             [
              1,
              "#f0f921"
             ]
            ],
            "type": "contour"
           }
          ],
          "contourcarpet": [
           {
            "colorbar": {
             "outlinewidth": 0,
             "ticks": ""
            },
            "type": "contourcarpet"
           }
          ],
          "heatmap": [
           {
            "colorbar": {
             "outlinewidth": 0,
             "ticks": ""
            },
            "colorscale": [
             [
              0,
              "#0d0887"
             ],
             [
              0.1111111111111111,
              "#46039f"
             ],
             [
              0.2222222222222222,
              "#7201a8"
             ],
             [
              0.3333333333333333,
              "#9c179e"
             ],
             [
              0.4444444444444444,
              "#bd3786"
             ],
             [
              0.5555555555555556,
              "#d8576b"
             ],
             [
              0.6666666666666666,
              "#ed7953"
             ],
             [
              0.7777777777777778,
              "#fb9f3a"
             ],
             [
              0.8888888888888888,
              "#fdca26"
             ],
             [
              1,
              "#f0f921"
             ]
            ],
            "type": "heatmap"
           }
          ],
          "heatmapgl": [
           {
            "colorbar": {
             "outlinewidth": 0,
             "ticks": ""
            },
            "colorscale": [
             [
              0,
              "#0d0887"
             ],
             [
              0.1111111111111111,
              "#46039f"
             ],
             [
              0.2222222222222222,
              "#7201a8"
             ],
             [
              0.3333333333333333,
              "#9c179e"
             ],
             [
              0.4444444444444444,
              "#bd3786"
             ],
             [
              0.5555555555555556,
              "#d8576b"
             ],
             [
              0.6666666666666666,
              "#ed7953"
             ],
             [
              0.7777777777777778,
              "#fb9f3a"
             ],
             [
              0.8888888888888888,
              "#fdca26"
             ],
             [
              1,
              "#f0f921"
             ]
            ],
            "type": "heatmapgl"
           }
          ],
          "histogram": [
           {
            "marker": {
             "pattern": {
              "fillmode": "overlay",
              "size": 10,
              "solidity": 0.2
             }
            },
            "type": "histogram"
           }
          ],
          "histogram2d": [
           {
            "colorbar": {
             "outlinewidth": 0,
             "ticks": ""
            },
            "colorscale": [
             [
              0,
              "#0d0887"
             ],
             [
              0.1111111111111111,
              "#46039f"
             ],
             [
              0.2222222222222222,
              "#7201a8"
             ],
             [
              0.3333333333333333,
              "#9c179e"
             ],
             [
              0.4444444444444444,
              "#bd3786"
             ],
             [
              0.5555555555555556,
              "#d8576b"
             ],
             [
              0.6666666666666666,
              "#ed7953"
             ],
             [
              0.7777777777777778,
              "#fb9f3a"
             ],
             [
              0.8888888888888888,
              "#fdca26"
             ],
             [
              1,
              "#f0f921"
             ]
            ],
            "type": "histogram2d"
           }
          ],
          "histogram2dcontour": [
           {
            "colorbar": {
             "outlinewidth": 0,
             "ticks": ""
            },
            "colorscale": [
             [
              0,
              "#0d0887"
             ],
             [
              0.1111111111111111,
              "#46039f"
             ],
             [
              0.2222222222222222,
              "#7201a8"
             ],
             [
              0.3333333333333333,
              "#9c179e"
             ],
             [
              0.4444444444444444,
              "#bd3786"
             ],
             [
              0.5555555555555556,
              "#d8576b"
             ],
             [
              0.6666666666666666,
              "#ed7953"
             ],
             [
              0.7777777777777778,
              "#fb9f3a"
             ],
             [
              0.8888888888888888,
              "#fdca26"
             ],
             [
              1,
              "#f0f921"
             ]
            ],
            "type": "histogram2dcontour"
           }
          ],
          "mesh3d": [
           {
            "colorbar": {
             "outlinewidth": 0,
             "ticks": ""
            },
            "type": "mesh3d"
           }
          ],
          "parcoords": [
           {
            "line": {
             "colorbar": {
              "outlinewidth": 0,
              "ticks": ""
             }
            },
            "type": "parcoords"
           }
          ],
          "pie": [
           {
            "automargin": true,
            "type": "pie"
           }
          ],
          "scatter": [
           {
            "fillpattern": {
             "fillmode": "overlay",
             "size": 10,
             "solidity": 0.2
            },
            "type": "scatter"
           }
          ],
          "scatter3d": [
           {
            "line": {
             "colorbar": {
              "outlinewidth": 0,
              "ticks": ""
             }
            },
            "marker": {
             "colorbar": {
              "outlinewidth": 0,
              "ticks": ""
             }
            },
            "type": "scatter3d"
           }
          ],
          "scattercarpet": [
           {
            "marker": {
             "colorbar": {
              "outlinewidth": 0,
              "ticks": ""
             }
            },
            "type": "scattercarpet"
           }
          ],
          "scattergeo": [
           {
            "marker": {
             "colorbar": {
              "outlinewidth": 0,
              "ticks": ""
             }
            },
            "type": "scattergeo"
           }
          ],
          "scattergl": [
           {
            "marker": {
             "colorbar": {
              "outlinewidth": 0,
              "ticks": ""
             }
            },
            "type": "scattergl"
           }
          ],
          "scattermapbox": [
           {
            "marker": {
             "colorbar": {
              "outlinewidth": 0,
              "ticks": ""
             }
            },
            "type": "scattermapbox"
           }
          ],
          "scatterpolar": [
           {
            "marker": {
             "colorbar": {
              "outlinewidth": 0,
              "ticks": ""
             }
            },
            "type": "scatterpolar"
           }
          ],
          "scatterpolargl": [
           {
            "marker": {
             "colorbar": {
              "outlinewidth": 0,
              "ticks": ""
             }
            },
            "type": "scatterpolargl"
           }
          ],
          "scatterternary": [
           {
            "marker": {
             "colorbar": {
              "outlinewidth": 0,
              "ticks": ""
             }
            },
            "type": "scatterternary"
           }
          ],
          "surface": [
           {
            "colorbar": {
             "outlinewidth": 0,
             "ticks": ""
            },
            "colorscale": [
             [
              0,
              "#0d0887"
             ],
             [
              0.1111111111111111,
              "#46039f"
             ],
             [
              0.2222222222222222,
              "#7201a8"
             ],
             [
              0.3333333333333333,
              "#9c179e"
             ],
             [
              0.4444444444444444,
              "#bd3786"
             ],
             [
              0.5555555555555556,
              "#d8576b"
             ],
             [
              0.6666666666666666,
              "#ed7953"
             ],
             [
              0.7777777777777778,
              "#fb9f3a"
             ],
             [
              0.8888888888888888,
              "#fdca26"
             ],
             [
              1,
              "#f0f921"
             ]
            ],
            "type": "surface"
           }
          ],
          "table": [
           {
            "cells": {
             "fill": {
              "color": "#EBF0F8"
             },
             "line": {
              "color": "white"
             }
            },
            "header": {
             "fill": {
              "color": "#C8D4E3"
             },
             "line": {
              "color": "white"
             }
            },
            "type": "table"
           }
          ]
         },
         "layout": {
          "annotationdefaults": {
           "arrowcolor": "#2a3f5f",
           "arrowhead": 0,
           "arrowwidth": 1
          },
          "autotypenumbers": "strict",
          "coloraxis": {
           "colorbar": {
            "outlinewidth": 0,
            "ticks": ""
           }
          },
          "colorscale": {
           "diverging": [
            [
             0,
             "#8e0152"
            ],
            [
             0.1,
             "#c51b7d"
            ],
            [
             0.2,
             "#de77ae"
            ],
            [
             0.3,
             "#f1b6da"
            ],
            [
             0.4,
             "#fde0ef"
            ],
            [
             0.5,
             "#f7f7f7"
            ],
            [
             0.6,
             "#e6f5d0"
            ],
            [
             0.7,
             "#b8e186"
            ],
            [
             0.8,
             "#7fbc41"
            ],
            [
             0.9,
             "#4d9221"
            ],
            [
             1,
             "#276419"
            ]
           ],
           "sequential": [
            [
             0,
             "#0d0887"
            ],
            [
             0.1111111111111111,
             "#46039f"
            ],
            [
             0.2222222222222222,
             "#7201a8"
            ],
            [
             0.3333333333333333,
             "#9c179e"
            ],
            [
             0.4444444444444444,
             "#bd3786"
            ],
            [
             0.5555555555555556,
             "#d8576b"
            ],
            [
             0.6666666666666666,
             "#ed7953"
            ],
            [
             0.7777777777777778,
             "#fb9f3a"
            ],
            [
             0.8888888888888888,
             "#fdca26"
            ],
            [
             1,
             "#f0f921"
            ]
           ],
           "sequentialminus": [
            [
             0,
             "#0d0887"
            ],
            [
             0.1111111111111111,
             "#46039f"
            ],
            [
             0.2222222222222222,
             "#7201a8"
            ],
            [
             0.3333333333333333,
             "#9c179e"
            ],
            [
             0.4444444444444444,
             "#bd3786"
            ],
            [
             0.5555555555555556,
             "#d8576b"
            ],
            [
             0.6666666666666666,
             "#ed7953"
            ],
            [
             0.7777777777777778,
             "#fb9f3a"
            ],
            [
             0.8888888888888888,
             "#fdca26"
            ],
            [
             1,
             "#f0f921"
            ]
           ]
          },
          "colorway": [
           "#636efa",
           "#EF553B",
           "#00cc96",
           "#ab63fa",
           "#FFA15A",
           "#19d3f3",
           "#FF6692",
           "#B6E880",
           "#FF97FF",
           "#FECB52"
          ],
          "font": {
           "color": "#2a3f5f"
          },
          "geo": {
           "bgcolor": "white",
           "lakecolor": "white",
           "landcolor": "white",
           "showlakes": true,
           "showland": true,
           "subunitcolor": "#C8D4E3"
          },
          "hoverlabel": {
           "align": "left"
          },
          "hovermode": "closest",
          "mapbox": {
           "style": "light"
          },
          "paper_bgcolor": "white",
          "plot_bgcolor": "white",
          "polar": {
           "angularaxis": {
            "gridcolor": "#EBF0F8",
            "linecolor": "#EBF0F8",
            "ticks": ""
           },
           "bgcolor": "white",
           "radialaxis": {
            "gridcolor": "#EBF0F8",
            "linecolor": "#EBF0F8",
            "ticks": ""
           }
          },
          "scene": {
           "xaxis": {
            "backgroundcolor": "white",
            "gridcolor": "#DFE8F3",
            "gridwidth": 2,
            "linecolor": "#EBF0F8",
            "showbackground": true,
            "ticks": "",
            "zerolinecolor": "#EBF0F8"
           },
           "yaxis": {
            "backgroundcolor": "white",
            "gridcolor": "#DFE8F3",
            "gridwidth": 2,
            "linecolor": "#EBF0F8",
            "showbackground": true,
            "ticks": "",
            "zerolinecolor": "#EBF0F8"
           },
           "zaxis": {
            "backgroundcolor": "white",
            "gridcolor": "#DFE8F3",
            "gridwidth": 2,
            "linecolor": "#EBF0F8",
            "showbackground": true,
            "ticks": "",
            "zerolinecolor": "#EBF0F8"
           }
          },
          "shapedefaults": {
           "line": {
            "color": "#2a3f5f"
           }
          },
          "ternary": {
           "aaxis": {
            "gridcolor": "#DFE8F3",
            "linecolor": "#A2B1C6",
            "ticks": ""
           },
           "baxis": {
            "gridcolor": "#DFE8F3",
            "linecolor": "#A2B1C6",
            "ticks": ""
           },
           "bgcolor": "white",
           "caxis": {
            "gridcolor": "#DFE8F3",
            "linecolor": "#A2B1C6",
            "ticks": ""
           }
          },
          "title": {
           "x": 0.05
          },
          "xaxis": {
           "automargin": true,
           "gridcolor": "#EBF0F8",
           "linecolor": "#EBF0F8",
           "ticks": "",
           "title": {
            "standoff": 15
           },
           "zerolinecolor": "#EBF0F8",
           "zerolinewidth": 2
          },
          "yaxis": {
           "automargin": true,
           "gridcolor": "#EBF0F8",
           "linecolor": "#EBF0F8",
           "ticks": "",
           "title": {
            "standoff": 15
           },
           "zerolinecolor": "#EBF0F8",
           "zerolinewidth": 2
          }
         }
        },
        "title": {
         "font": {
          "color": "Black",
          "size": 22
         },
         "text": "<b>Hierarchical Clustering</b>",
         "x": 0.5,
         "xanchor": "center",
         "yanchor": "top"
        },
        "width": 1000,
        "xaxis": {
         "mirror": "allticks",
         "rangemode": "tozero",
         "showgrid": false,
         "showline": true,
         "showticklabels": true,
         "ticks": "outside",
         "type": "linear",
         "zeroline": false
        },
        "yaxis": {
         "mirror": "allticks",
         "range": [
          -50,
          0
         ],
         "rangemode": "tozero",
         "showgrid": false,
         "showline": true,
         "showticklabels": true,
         "tickmode": "array",
         "ticks": "outside",
         "ticktext": [
          "early hi | hi | early",
          "beautiful | absolutely beautiful | truly beautiful",
          "let child | parenting | let kid",
          "love familys | gwendolyn williams | relatable parents",
          "youtube pedantry | listening video | video italian"
         ],
         "tickvals": [
          -5,
          -15,
          -25,
          -35,
          -45
         ],
         "type": "linear",
         "zeroline": false
        }
       }
      }
     },
     "metadata": {},
     "output_type": "display_data"
    }
   ],
   "source": [
    "topic_model.visualize_hierarchy(custom_labels=True)"
   ]
  },
  {
   "cell_type": "markdown",
   "id": "a2af295d",
   "metadata": {},
   "source": [
    "Although visualizing the documents in 2-dimensional gives an idea of their underlying structure, there is a risk involved.\n",
    "\n",
    "Visualizing the documents in 2-dimensional space means that we have lost significant information since the original embeddings were more than 384 dimensions. Condensing all that information in 2 dimensions is simply not possible. In other words, it is merely an approximation, albeit quite an accurate one."
   ]
  },
  {
   "cell_type": "code",
   "execution_count": 85,
   "id": "226b5c0d",
   "metadata": {},
   "outputs": [
    {
     "data": {
      "application/vnd.plotly.v1+json": {
       "config": {
        "plotlyServerURL": "https://plot.ly"
       },
       "data": [
        {
         "hoverinfo": "text",
         "hovertext": [
          "what wisdom they have shared thank you",
          "accepted",
          "this is so powerful",
          "i wonder if either of them moved on relationship wise or even remarried and how that affected things id like to hear more",
          "yall powerful i appreciate yall",
          "amazing thankful to the wonderful parents for sharing their story i hope and pray people in these situations benefit from this ted talk this young king will benefit greatly because his patents have chosen to put him first",
          "iz9wd notthe waythey do it",
          "nice",
          "from the talk raising a black boy in a society that despises black joy blacks only seen has profitable or disposable i cant believe ted allowed a talk with such blatant spin on the modern world occasionally you get a good scientific one but lately its been neo liberal postmodern diatribes by yuppies or racist minorities",
          "they should have avoided divorce",
          "priceless as this example takes hold in the hearts and minds of the many the world will be changed thank you",
          "church of thought thats a common misconception or maybe yours or those your around are like that cuz most ppl with locs take care of them",
          "one of the best speech ive ever heard",
          "this is so powerful",
          "thus the present generation has been produced is anyone surprised",
          null
         ],
         "marker": {
          "color": "#CFD8DC",
          "opacity": 0.5,
          "size": 5
         },
         "mode": "markers+text",
         "name": "other",
         "showlegend": false,
         "type": "scattergl",
         "x": [
          1.5404547,
          8.445962,
          6.59982,
          1.9001446,
          6.667629,
          3.6748416,
          5.0434737,
          8.843798,
          3.1275578,
          1.9854529,
          2.8716524,
          3.438611,
          5.3366094,
          6.5287714,
          3.904723,
          4.6606336
         ],
         "y": [
          3.0500324,
          4.963623,
          6.111605,
          4.2897882,
          6.0485525,
          4.2480364,
          4.4739823,
          4.7905836,
          5.7840915,
          4.306878,
          5.4667106,
          3.429563,
          5.406264,
          6.171924,
          4.412292,
          4.863595
         ]
        },
        {
         "hoverinfo": "text",
         "hovertext": [
          "ted talks are not as good as they used to be",
          "low key teared up when they did the affirmations black excellence personified",
          "be mother without control i want to see her when the boy be a teen",
          "the guy needs a haircut asap",
          "yes u do its time to see jessie",
          "i think its so wonderful how they are speaking to an audience but really to each other so its genuine and it makes their message so relatable",
          "why do theyboth talk like thiswhere they pauseat unnatural spots",
          "ted wouldnt it be lovely if we got to see the boy as a teen young adult and as a father as well",
          "parents need to watch this",
          "why couldnt i have had these two for my parents absolutely amazing",
          "dreds are unhygienic cute but nasty",
          "i cant take a guy with dreads and a detroit hat on on a ted talk seriously at all sorry",
          "its so cute how they all have dreds yall",
          "i left the house with out my charger cord or adult pampers some body please help if this phone doesnt stay charged",
          "so he will learn murder is cool",
          "had to be black people",
          "now this is a worthwhile ted talk i can appreciate their honesty openness in public and desire to love their child more than they evidently could one another although it sounds like they truly share a common love personally i think it a shame that for whatever reason none of our business what it is they cannot be a typical family however they stand as a positive example for parents in the 21st century that share the marriage and parenting experience of ebony roberts and shaka senghor may god bless and guide them and their son all together",
          "i could see him itchin for skittles the whole speech",
          "idk this talk is dilute watery weak with clear readingoffscript errors the race politics thrown in like a world against black joy is also ludacris ted needs higher quality material instead of these soapy operaey filler talks",
          "anoop dubey has to work on a",
          "luckily her mom didnt die like if you feel bad for shaka as a kid",
          "black love on display amazing for the world to see these parents are a role model for the world together in spirit for the child they created even tho not together as lovers i cant say enough about how this moved me thank you for allowing us on the magic",
          "ana sylvia hoppenbrouwers",
          "who else fell in love with this familys hair",
          "they are giving a speech you need to pause at certain times to give a speech",
          "felt like watching a dr phil episode",
          "goosebumps throughout this whole speech",
          "shes bomb but black folks give entertainment enjoy",
          "yes super cute how the murderers son dressed just like his dad",
          "the world does not dispise black joy",
          "how they both move close to eachother as they talk",
          "now these are 2 beautiful grown black adultsnot cardi b and offset lol",
          "gwendolyn williams it is refreshing to see a black family with a mother and a father despite them not being married in my life and the lives of those that i know such a trait is a rarity",
          "gwendolyn williams i havent committed any crimes i dont really understand your sentence could you please use correct grammar"
         ],
         "marker": {
          "opacity": 0.5,
          "size": 5
         },
         "mode": "markers+text",
         "name": "love familys | gwendolyn williams | relatable parents",
         "text": [
          "",
          "",
          "",
          "",
          "",
          "",
          "",
          "",
          "",
          "",
          "",
          "",
          "",
          "",
          "",
          "",
          "",
          "",
          "",
          "",
          "",
          "",
          "",
          "",
          "",
          "",
          "",
          "",
          "",
          "",
          "",
          "",
          "",
          ""
         ],
         "textfont": {
          "size": 12
         },
         "type": "scattergl",
         "x": [
          4.116841,
          2.50309,
          2.6304824,
          3.433535,
          3.7034945,
          4.5742245,
          4.4872503,
          3.7228456,
          3.4273138,
          2.517709,
          3.16238,
          3.967334,
          3.0375154,
          2.8539307,
          3.4253528,
          2.3616679,
          2.2555754,
          4.3848796,
          4.1726713,
          4.426973,
          2.5564983,
          2.4874167,
          2.1614199,
          2.7080507,
          4.6790814,
          3.4866374,
          4.8792276,
          2.4462287,
          3.3339195,
          2.7684946,
          4.3866415,
          2.5424924,
          2.1540809,
          2.0313861
         ],
         "y": [
          5.619827,
          5.5415754,
          4.0265684,
          4.6124334,
          5.17176,
          5.250894,
          5.300082,
          5.127189,
          4.3336706,
          4.6373506,
          4.9221582,
          5.504034,
          4.890214,
          4.108382,
          4.5426455,
          5.473541,
          4.529659,
          5.8136086,
          5.777151,
          5.760884,
          4.1244335,
          4.7424273,
          5.2530184,
          4.7238774,
          5.501951,
          4.942768,
          5.578407,
          5.3356223,
          4.8308535,
          5.555806,
          5.3629055,
          4.9118104,
          5.0974154,
          4.9611588
         ]
        },
        {
         "hoverinfo": "text",
         "hovertext": [
          "i repeated so many times your wrong way your own grapes your own food i choose my apprentices in my own way which has nothing to do with you blacks apparently since you cant be reasonable by book wrote by myself there is no co can be done cant it be more obvious",
          "my sons father and i had an on again off again abusive relationship it was difficult to say the least when we split up after 65 years in a lot of ways i still have love for him but we were always better friends than we were in a relationship it does make our current relationships hard at times but as we tell our son the one thing we all agree on is that we love our little boy our son has four parents doesnt have any memory of what it was like before for him its always been that way always will be we get looks comments all the time from people who dont understand how we coparent we even call each other mom dad in public a child can never have too many people who love him during my pregnancy thats what i wished for i want him to have more love more friends family than he knows what to do with this wasnt the future we had imagined while waiting for our baby to arrive but for as long as we keep love in our hearts so shall it be",
          "these parents set an amazing example of not just coparenting but on being a good parent in generalamazing talk",
          "two min in and im wishing all women would think this way 50 50 parenting support ill stop there or ill rant",
          "i dont disagree but with limits a child bounding about in a supermarket as she allows could do serious harm to a little toddler or an elderly person let alone heavy products in the aisles that could fall and crush them she almost had me but then it almost felt like lazy parenting",
          "love them who you have all that matters is love",
          "you make so much as a parent only by not talking bad about the other parent with your kid my parents can have opinions about each other and that affects my perception very much but luckily they never trashed each other because that must feel like you cant count on your parents or as if you had no one to trust",
          "i totally agree with your comment if they let the kid be free spirit at anything why do they pick clothes for him for school etc you cant just let kid running in mall first of all child can be abducted by predator second it can cause harm to someone in the shop or himself i cant remember the movie or tv series but there was this kid that parents let him do whatever he wants to do because hes a free spirit and it turned out to be a little spoiled brat that no one liked and this mantra they gave at the end like whaaat you know a lie repeated 100 times becomes a true if he repeats himself or parents tell him that hes awesome smart genius uberhuman hes gonna start to believe it and think that he already is the greatest so he doesnt need to achieve anything more in life sad but i hope the boy will achieve great things in life not repeating his parents mistakes and having a straight thinking",
          "its so good to see that there are others with the same mindset this is the message i preach to the father of my sons but he does not have the ability as yet to look beyond that which he knows and the unfamiliarity of my concept to his person causes me to wonder if he is resilient to see things differently my heart is firmed in the belief that making changes makes the difference",
          "this is true sometimes things happen that arent positive but out of every negative thing that happens there is a seed of opportunity for growth and change i am happy these people were able to put their differences aside and were able to do whats best for the child i am going through something similar however i dont want to be enemies with the mother of my children i will always love her and respect her for everything she gave me",
          "wow delete my comment you disappoint me as well first dont waste your time of course others your magic only works on the animal level which is like humans could be grown like tarzan as well moreover when it comes to adversaries or allies blacks asked national reparation for slavery while ignoring their ancient ancestors were alpha males who dominated the entire land of africa which was the reason why others walked out of africa by risking their lives and built their homes on other continents and became other races second i never said your magic works how could ianybody make anything based on a wrongfalse thing see you have no clear thought of what you are doing and what others saying not to mention that nobody has the responsibility to meet your expectation let alone your expectation was only a onesided imagination that only exists in your dream third easy come easy go your laziness fluke mind and to speculate advantage by trickery can only waste your time stealing others results doesnt mean you really gain what you stole let alone what you stole has nothing to do with the thing you wanted forth you have no clear thought about what you are doing which isnt a problem can be fixed by one or two magics the hard way is the only way roman was not built in one day",
          "we honor each others role in sekyus life i love that statement respect comes before love always blessings to this family",
          "address the abuse u address the problem",
          "this is incredibly helpful for people who suffer from coparenting",
          "i would have loved to coparent with my exwife unfortunately the b did me dirty in the divorce and somehow got it to where i couldnt have my daughter for visitation until she could talk when she was 4 years old so she could say what was wrong with her like me my mother and my grandmother had no clue on how to raise a child after that relationship was broken it never mended my daughter will be 23 this year and i havent actually talked to her since she was 15 her mother convinced her i only wanted her when it was convenient and she hasnt matured enough to realize how much bullshit her mother fed her however she had no problem calling me in february and asking for 4000 so she could move to connecticut with her younger sister",
          "surely coparenting means parenting",
          "why are we quiet in supermarkets it is not a library where people need silence to focus so why do we have to be quiet in supermarkets because everyone does it so we should all do it have you been to an asian market it is teeming with hustle and bustle and chaos fully grown adults are screaming haggling laughing running bumping into each other is this behavior strange is this behavior wrong so why should we teach a child that it is wrong to express themselves there is something to be learned about respect this is true but maybe the child will learn to respect people in other ways in their life and not from a scolding in a supermarket",
          "that was very inspiring and agreed with a lot they said but didnt agree that you just let a child do exactly what they want when they want the supermarket being a strong point i just didnt agree with this statement is it ok to let your child still eat with their hands like an animal so they couldnt use a fork when their older theres elements where you cant just let a child do what they want when they want the supermarket comment i found very strange your educating youre child how to behave in society et cetera just struggled with that statement if thats her view on a supermarket then apply that to everything else in life just doesnt work that way",
          "my ex isnt about equality i digress",
          "respect and sympathy are the keys for building a better relationship",
          "thats the magic power of our kids that can change ourselves only in front of this power you can endure anything and give up all your needs",
          "this is exactly what i told my ex i wanted if we ever split he was never mature enough to handle something like this our daughter is now 24 and i always wonder how different her life would have been had we coparented like this",
          "yes preach it",
          "odw i understand what you mean i agree the best we can do as parents is guide our children to have the greatest understanding of what is right in their own hearts to nurture that innocent heart at the center of the childs being to give them the clearest understanding of the world we ourselves created as a community of people among people to remain strongspirited in the crowd of naysayers children are innocent and will go astray without a well defined path for them to choose as they form and reach for their goals",
          "a child cannot have too many people who love them the best environment a child can have is parents who respect each other and not to forget that a child learns more from what the parents are than what they teach"
         ],
         "marker": {
          "opacity": 0.5,
          "size": 5
         },
         "mode": "markers+text",
         "name": "let child | parenting | let kid",
         "text": [
          "",
          "",
          "",
          "",
          "",
          "",
          "",
          "",
          "",
          "",
          "",
          "",
          "",
          "",
          "",
          "",
          "",
          "",
          "",
          "",
          "",
          "",
          "",
          "",
          ""
         ],
         "textfont": {
          "size": 12
         },
         "type": "scattergl",
         "x": [
          2.4357412,
          2.243572,
          2.8551657,
          1.9132793,
          2.3605597,
          2.022253,
          2.4807813,
          2.3923862,
          2.224521,
          2.2821977,
          2.474737,
          1.64007,
          1.8928311,
          3.0486894,
          1.8683357,
          2.860896,
          2.555141,
          2.3953347,
          1.9392174,
          1.6459545,
          2.07053,
          1.7729621,
          3.217422,
          2.1925333,
          2.401724
         ],
         "y": [
          5.8947763,
          3.3162436,
          3.2688727,
          3.3499398,
          2.6980758,
          3.464477,
          3.300119,
          2.66599,
          3.0540578,
          3.1732283,
          5.966488,
          3.150391,
          3.265901,
          3.244308,
          3.8287752,
          3.2567692,
          2.6901324,
          2.6620693,
          3.6891804,
          3.1388025,
          2.840327,
          3.89093,
          5.865494,
          2.8268032,
          2.7774174
         ]
        },
        {
         "hoverinfo": "text",
         "hovertext": [
          "disagree",
          "amazing",
          "beautiful",
          "you are beautiful what a beautiful writer",
          "just amazing",
          "thank you for being brave enough to be authentic your example as two individuals united is beautiful he is a very fortunate little boy be safe peace",
          "good job baby",
          "thanks for liking my comment have a wonderful day",
          "excellent message and talk comes across very genuine thank you",
          "absolutely beautiful",
          "powerful amazing",
          "wow sir",
          "you sound so sweet awesome just give them the aspirations in full swing love is passion love is kind love always protects love always saves",
          "the best",
          "this is truly beautiful and a lot of take homes for someone raising a queen just embarking on this coparenting journey i can and will do better thank you x",
          "thats a gorgeous woman wed have to just work that out lort lol",
          "wow",
          "beautiful",
          "thank you",
          "that was so beautiful thank you ted",
          "im not crying youre crying the ending is beautiful",
          "love this"
         ],
         "marker": {
          "opacity": 0.5,
          "size": 5
         },
         "mode": "markers+text",
         "name": "beautiful | absolutely beautiful | truly beautiful",
         "text": [
          "",
          "",
          "",
          "",
          "",
          "",
          "",
          "",
          "",
          "",
          "",
          "",
          "",
          "",
          "",
          "",
          "",
          "",
          "",
          "",
          "",
          ""
         ],
         "textfont": {
          "size": 12
         },
         "type": "scattergl",
         "x": [
          7.7165985,
          7.569312,
          7.2294893,
          6.320724,
          7.263042,
          6.01165,
          7.1720705,
          6.8898754,
          5.881965,
          6.6898966,
          6.7982163,
          7.8829865,
          5.795466,
          7.532739,
          6.262989,
          6.4024878,
          7.969088,
          7.1633873,
          7.098993,
          6.6742735,
          6.430888,
          7.207635
         ],
         "y": [
          5.355947,
          5.1067142,
          4.9375486,
          4.8694043,
          5.440499,
          4.676323,
          5.055062,
          5.1161847,
          4.9507966,
          4.896352,
          5.946779,
          5.202805,
          4.916719,
          5.4000487,
          4.939324,
          4.9529867,
          5.238991,
          4.9073634,
          4.9771895,
          4.8452888,
          4.6542554,
          4.8795
         ]
        },
        {
         "hoverinfo": "text",
         "hovertext": [
          "yeet",
          "9aco",
          "",
          "hi first",
          "hi",
          "early",
          "detroit 10 minutes away from 14 and mound",
          "ㅠ",
          "",
          "awesome",
          "",
          "first",
          "",
          "yes"
         ],
         "marker": {
          "opacity": 0.5,
          "size": 5
         },
         "mode": "markers+text",
         "name": "early hi | hi | early",
         "text": [
          "",
          "",
          "",
          "",
          "",
          "",
          "",
          "",
          "",
          "",
          "",
          "",
          "",
          ""
         ],
         "textfont": {
          "size": 12
         },
         "type": "scattergl",
         "x": [
          9.990478,
          8.552143,
          10.268351,
          9.631509,
          9.760796,
          9.49098,
          9.362618,
          10.254391,
          10.026253,
          8.564467,
          10.086987,
          9.653182,
          10.233442,
          10.120533
         ],
         "y": [
          4.99819,
          4.968374,
          4.8542023,
          4.735317,
          4.782832,
          4.7385545,
          4.6899514,
          4.835531,
          4.8674664,
          4.8112335,
          4.973805,
          4.781438,
          5.021742,
          4.9294558
         ]
        },
        {
         "hoverinfo": "text",
         "hovertext": [
          "cant it be more obvious than your incoherent post yes",
          "its the way theyre counted and validated by the system happens often on low view counts",
          "indeed that is the part i didnt like if theyd left that out it wouldve been great",
          "youtube has been around for decades and folk like you still think youve found something profound because you cbf doing homework about how the two stats are incremented",
          "i admire both of you youre a good example for being a good parents lovely watching and listening your video from the top of italian mountain",
          "no i genuinely dont understand it i dont want to assume what it means",
          "yeah very crucial video for todays generation of parentsvery informativethumps up beings",
          "wach my videosthey will put a smile",
          "stocc lol you think you are going to win an argument on youtube through pedantry now thats cute",
          "because theyre doing this for clout 100 guarantee they dont actually do the positive things they claim",
          "ive just made my comment with kinda summaries that angle",
          "beast mode is just there so he wont get fined",
          "3 likes 0 views",
          "yeah you are right guys"
         ],
         "marker": {
          "opacity": 0.5,
          "size": 5
         },
         "mode": "markers+text",
         "name": "youtube pedantry | listening video | video italian",
         "text": [
          "",
          "",
          "",
          "",
          "",
          "",
          "",
          "",
          "",
          "",
          "",
          "",
          "",
          ""
         ],
         "textfont": {
          "size": 12
         },
         "type": "scattergl",
         "x": [
          4.472564,
          4.214885,
          4.757888,
          4.5022645,
          4.593879,
          4.341298,
          4.16352,
          4.7011647,
          4.5273657,
          4.098319,
          4.790883,
          3.99829,
          4.713111,
          4.457663
         ],
         "y": [
          3.475947,
          3.8870003,
          3.4038863,
          4.013136,
          4.2481027,
          3.3138843,
          4.2970977,
          4.2014604,
          3.978806,
          3.8204684,
          3.4805562,
          2.9773757,
          4.1942544,
          3.2190661
         ]
        }
       ],
       "layout": {
        "annotations": [
         {
          "showarrow": false,
          "text": "D1",
          "x": 1.309386533498764,
          "y": 4.680235826969147,
          "yshift": 10
         },
         {
          "showarrow": false,
          "text": "D2",
          "x": 6.558994862437248,
          "xshift": 10,
          "y": 7.097712731361389
         }
        ],
        "height": 750,
        "shapes": [
         {
          "line": {
           "color": "#CFD8DC",
           "width": 2
          },
          "type": "line",
          "x0": 6.558994862437248,
          "x1": 6.558994862437248,
          "y0": 2.2627589225769045,
          "y1": 7.097712731361389
         },
         {
          "line": {
           "color": "#9E9E9E",
           "width": 2
          },
          "type": "line",
          "x0": 1.309386533498764,
          "x1": 11.808603191375733,
          "y0": 4.680235826969147,
          "y1": 4.680235826969147
         }
        ],
        "template": {
         "data": {
          "bar": [
           {
            "error_x": {
             "color": "rgb(36,36,36)"
            },
            "error_y": {
             "color": "rgb(36,36,36)"
            },
            "marker": {
             "line": {
              "color": "white",
              "width": 0.5
             },
             "pattern": {
              "fillmode": "overlay",
              "size": 10,
              "solidity": 0.2
             }
            },
            "type": "bar"
           }
          ],
          "barpolar": [
           {
            "marker": {
             "line": {
              "color": "white",
              "width": 0.5
             },
             "pattern": {
              "fillmode": "overlay",
              "size": 10,
              "solidity": 0.2
             }
            },
            "type": "barpolar"
           }
          ],
          "carpet": [
           {
            "aaxis": {
             "endlinecolor": "rgb(36,36,36)",
             "gridcolor": "white",
             "linecolor": "white",
             "minorgridcolor": "white",
             "startlinecolor": "rgb(36,36,36)"
            },
            "baxis": {
             "endlinecolor": "rgb(36,36,36)",
             "gridcolor": "white",
             "linecolor": "white",
             "minorgridcolor": "white",
             "startlinecolor": "rgb(36,36,36)"
            },
            "type": "carpet"
           }
          ],
          "choropleth": [
           {
            "colorbar": {
             "outlinewidth": 1,
             "tickcolor": "rgb(36,36,36)",
             "ticks": "outside"
            },
            "type": "choropleth"
           }
          ],
          "contour": [
           {
            "colorbar": {
             "outlinewidth": 1,
             "tickcolor": "rgb(36,36,36)",
             "ticks": "outside"
            },
            "colorscale": [
             [
              0,
              "#440154"
             ],
             [
              0.1111111111111111,
              "#482878"
             ],
             [
              0.2222222222222222,
              "#3e4989"
             ],
             [
              0.3333333333333333,
              "#31688e"
             ],
             [
              0.4444444444444444,
              "#26828e"
             ],
             [
              0.5555555555555556,
              "#1f9e89"
             ],
             [
              0.6666666666666666,
              "#35b779"
             ],
             [
              0.7777777777777778,
              "#6ece58"
             ],
             [
              0.8888888888888888,
              "#b5de2b"
             ],
             [
              1,
              "#fde725"
             ]
            ],
            "type": "contour"
           }
          ],
          "contourcarpet": [
           {
            "colorbar": {
             "outlinewidth": 1,
             "tickcolor": "rgb(36,36,36)",
             "ticks": "outside"
            },
            "type": "contourcarpet"
           }
          ],
          "heatmap": [
           {
            "colorbar": {
             "outlinewidth": 1,
             "tickcolor": "rgb(36,36,36)",
             "ticks": "outside"
            },
            "colorscale": [
             [
              0,
              "#440154"
             ],
             [
              0.1111111111111111,
              "#482878"
             ],
             [
              0.2222222222222222,
              "#3e4989"
             ],
             [
              0.3333333333333333,
              "#31688e"
             ],
             [
              0.4444444444444444,
              "#26828e"
             ],
             [
              0.5555555555555556,
              "#1f9e89"
             ],
             [
              0.6666666666666666,
              "#35b779"
             ],
             [
              0.7777777777777778,
              "#6ece58"
             ],
             [
              0.8888888888888888,
              "#b5de2b"
             ],
             [
              1,
              "#fde725"
             ]
            ],
            "type": "heatmap"
           }
          ],
          "heatmapgl": [
           {
            "colorbar": {
             "outlinewidth": 1,
             "tickcolor": "rgb(36,36,36)",
             "ticks": "outside"
            },
            "colorscale": [
             [
              0,
              "#440154"
             ],
             [
              0.1111111111111111,
              "#482878"
             ],
             [
              0.2222222222222222,
              "#3e4989"
             ],
             [
              0.3333333333333333,
              "#31688e"
             ],
             [
              0.4444444444444444,
              "#26828e"
             ],
             [
              0.5555555555555556,
              "#1f9e89"
             ],
             [
              0.6666666666666666,
              "#35b779"
             ],
             [
              0.7777777777777778,
              "#6ece58"
             ],
             [
              0.8888888888888888,
              "#b5de2b"
             ],
             [
              1,
              "#fde725"
             ]
            ],
            "type": "heatmapgl"
           }
          ],
          "histogram": [
           {
            "marker": {
             "line": {
              "color": "white",
              "width": 0.6
             }
            },
            "type": "histogram"
           }
          ],
          "histogram2d": [
           {
            "colorbar": {
             "outlinewidth": 1,
             "tickcolor": "rgb(36,36,36)",
             "ticks": "outside"
            },
            "colorscale": [
             [
              0,
              "#440154"
             ],
             [
              0.1111111111111111,
              "#482878"
             ],
             [
              0.2222222222222222,
              "#3e4989"
             ],
             [
              0.3333333333333333,
              "#31688e"
             ],
             [
              0.4444444444444444,
              "#26828e"
             ],
             [
              0.5555555555555556,
              "#1f9e89"
             ],
             [
              0.6666666666666666,
              "#35b779"
             ],
             [
              0.7777777777777778,
              "#6ece58"
             ],
             [
              0.8888888888888888,
              "#b5de2b"
             ],
             [
              1,
              "#fde725"
             ]
            ],
            "type": "histogram2d"
           }
          ],
          "histogram2dcontour": [
           {
            "colorbar": {
             "outlinewidth": 1,
             "tickcolor": "rgb(36,36,36)",
             "ticks": "outside"
            },
            "colorscale": [
             [
              0,
              "#440154"
             ],
             [
              0.1111111111111111,
              "#482878"
             ],
             [
              0.2222222222222222,
              "#3e4989"
             ],
             [
              0.3333333333333333,
              "#31688e"
             ],
             [
              0.4444444444444444,
              "#26828e"
             ],
             [
              0.5555555555555556,
              "#1f9e89"
             ],
             [
              0.6666666666666666,
              "#35b779"
             ],
             [
              0.7777777777777778,
              "#6ece58"
             ],
             [
              0.8888888888888888,
              "#b5de2b"
             ],
             [
              1,
              "#fde725"
             ]
            ],
            "type": "histogram2dcontour"
           }
          ],
          "mesh3d": [
           {
            "colorbar": {
             "outlinewidth": 1,
             "tickcolor": "rgb(36,36,36)",
             "ticks": "outside"
            },
            "type": "mesh3d"
           }
          ],
          "parcoords": [
           {
            "line": {
             "colorbar": {
              "outlinewidth": 1,
              "tickcolor": "rgb(36,36,36)",
              "ticks": "outside"
             }
            },
            "type": "parcoords"
           }
          ],
          "pie": [
           {
            "automargin": true,
            "type": "pie"
           }
          ],
          "scatter": [
           {
            "fillpattern": {
             "fillmode": "overlay",
             "size": 10,
             "solidity": 0.2
            },
            "type": "scatter"
           }
          ],
          "scatter3d": [
           {
            "line": {
             "colorbar": {
              "outlinewidth": 1,
              "tickcolor": "rgb(36,36,36)",
              "ticks": "outside"
             }
            },
            "marker": {
             "colorbar": {
              "outlinewidth": 1,
              "tickcolor": "rgb(36,36,36)",
              "ticks": "outside"
             }
            },
            "type": "scatter3d"
           }
          ],
          "scattercarpet": [
           {
            "marker": {
             "colorbar": {
              "outlinewidth": 1,
              "tickcolor": "rgb(36,36,36)",
              "ticks": "outside"
             }
            },
            "type": "scattercarpet"
           }
          ],
          "scattergeo": [
           {
            "marker": {
             "colorbar": {
              "outlinewidth": 1,
              "tickcolor": "rgb(36,36,36)",
              "ticks": "outside"
             }
            },
            "type": "scattergeo"
           }
          ],
          "scattergl": [
           {
            "marker": {
             "colorbar": {
              "outlinewidth": 1,
              "tickcolor": "rgb(36,36,36)",
              "ticks": "outside"
             }
            },
            "type": "scattergl"
           }
          ],
          "scattermapbox": [
           {
            "marker": {
             "colorbar": {
              "outlinewidth": 1,
              "tickcolor": "rgb(36,36,36)",
              "ticks": "outside"
             }
            },
            "type": "scattermapbox"
           }
          ],
          "scatterpolar": [
           {
            "marker": {
             "colorbar": {
              "outlinewidth": 1,
              "tickcolor": "rgb(36,36,36)",
              "ticks": "outside"
             }
            },
            "type": "scatterpolar"
           }
          ],
          "scatterpolargl": [
           {
            "marker": {
             "colorbar": {
              "outlinewidth": 1,
              "tickcolor": "rgb(36,36,36)",
              "ticks": "outside"
             }
            },
            "type": "scatterpolargl"
           }
          ],
          "scatterternary": [
           {
            "marker": {
             "colorbar": {
              "outlinewidth": 1,
              "tickcolor": "rgb(36,36,36)",
              "ticks": "outside"
             }
            },
            "type": "scatterternary"
           }
          ],
          "surface": [
           {
            "colorbar": {
             "outlinewidth": 1,
             "tickcolor": "rgb(36,36,36)",
             "ticks": "outside"
            },
            "colorscale": [
             [
              0,
              "#440154"
             ],
             [
              0.1111111111111111,
              "#482878"
             ],
             [
              0.2222222222222222,
              "#3e4989"
             ],
             [
              0.3333333333333333,
              "#31688e"
             ],
             [
              0.4444444444444444,
              "#26828e"
             ],
             [
              0.5555555555555556,
              "#1f9e89"
             ],
             [
              0.6666666666666666,
              "#35b779"
             ],
             [
              0.7777777777777778,
              "#6ece58"
             ],
             [
              0.8888888888888888,
              "#b5de2b"
             ],
             [
              1,
              "#fde725"
             ]
            ],
            "type": "surface"
           }
          ],
          "table": [
           {
            "cells": {
             "fill": {
              "color": "rgb(237,237,237)"
             },
             "line": {
              "color": "white"
             }
            },
            "header": {
             "fill": {
              "color": "rgb(217,217,217)"
             },
             "line": {
              "color": "white"
             }
            },
            "type": "table"
           }
          ]
         },
         "layout": {
          "annotationdefaults": {
           "arrowhead": 0,
           "arrowwidth": 1
          },
          "autotypenumbers": "strict",
          "coloraxis": {
           "colorbar": {
            "outlinewidth": 1,
            "tickcolor": "rgb(36,36,36)",
            "ticks": "outside"
           }
          },
          "colorscale": {
           "diverging": [
            [
             0,
             "rgb(103,0,31)"
            ],
            [
             0.1,
             "rgb(178,24,43)"
            ],
            [
             0.2,
             "rgb(214,96,77)"
            ],
            [
             0.3,
             "rgb(244,165,130)"
            ],
            [
             0.4,
             "rgb(253,219,199)"
            ],
            [
             0.5,
             "rgb(247,247,247)"
            ],
            [
             0.6,
             "rgb(209,229,240)"
            ],
            [
             0.7,
             "rgb(146,197,222)"
            ],
            [
             0.8,
             "rgb(67,147,195)"
            ],
            [
             0.9,
             "rgb(33,102,172)"
            ],
            [
             1,
             "rgb(5,48,97)"
            ]
           ],
           "sequential": [
            [
             0,
             "#440154"
            ],
            [
             0.1111111111111111,
             "#482878"
            ],
            [
             0.2222222222222222,
             "#3e4989"
            ],
            [
             0.3333333333333333,
             "#31688e"
            ],
            [
             0.4444444444444444,
             "#26828e"
            ],
            [
             0.5555555555555556,
             "#1f9e89"
            ],
            [
             0.6666666666666666,
             "#35b779"
            ],
            [
             0.7777777777777778,
             "#6ece58"
            ],
            [
             0.8888888888888888,
             "#b5de2b"
            ],
            [
             1,
             "#fde725"
            ]
           ],
           "sequentialminus": [
            [
             0,
             "#440154"
            ],
            [
             0.1111111111111111,
             "#482878"
            ],
            [
             0.2222222222222222,
             "#3e4989"
            ],
            [
             0.3333333333333333,
             "#31688e"
            ],
            [
             0.4444444444444444,
             "#26828e"
            ],
            [
             0.5555555555555556,
             "#1f9e89"
            ],
            [
             0.6666666666666666,
             "#35b779"
            ],
            [
             0.7777777777777778,
             "#6ece58"
            ],
            [
             0.8888888888888888,
             "#b5de2b"
            ],
            [
             1,
             "#fde725"
            ]
           ]
          },
          "colorway": [
           "#1F77B4",
           "#FF7F0E",
           "#2CA02C",
           "#D62728",
           "#9467BD",
           "#8C564B",
           "#E377C2",
           "#7F7F7F",
           "#BCBD22",
           "#17BECF"
          ],
          "font": {
           "color": "rgb(36,36,36)"
          },
          "geo": {
           "bgcolor": "white",
           "lakecolor": "white",
           "landcolor": "white",
           "showlakes": true,
           "showland": true,
           "subunitcolor": "white"
          },
          "hoverlabel": {
           "align": "left"
          },
          "hovermode": "closest",
          "mapbox": {
           "style": "light"
          },
          "paper_bgcolor": "white",
          "plot_bgcolor": "white",
          "polar": {
           "angularaxis": {
            "gridcolor": "rgb(232,232,232)",
            "linecolor": "rgb(36,36,36)",
            "showgrid": false,
            "showline": true,
            "ticks": "outside"
           },
           "bgcolor": "white",
           "radialaxis": {
            "gridcolor": "rgb(232,232,232)",
            "linecolor": "rgb(36,36,36)",
            "showgrid": false,
            "showline": true,
            "ticks": "outside"
           }
          },
          "scene": {
           "xaxis": {
            "backgroundcolor": "white",
            "gridcolor": "rgb(232,232,232)",
            "gridwidth": 2,
            "linecolor": "rgb(36,36,36)",
            "showbackground": true,
            "showgrid": false,
            "showline": true,
            "ticks": "outside",
            "zeroline": false,
            "zerolinecolor": "rgb(36,36,36)"
           },
           "yaxis": {
            "backgroundcolor": "white",
            "gridcolor": "rgb(232,232,232)",
            "gridwidth": 2,
            "linecolor": "rgb(36,36,36)",
            "showbackground": true,
            "showgrid": false,
            "showline": true,
            "ticks": "outside",
            "zeroline": false,
            "zerolinecolor": "rgb(36,36,36)"
           },
           "zaxis": {
            "backgroundcolor": "white",
            "gridcolor": "rgb(232,232,232)",
            "gridwidth": 2,
            "linecolor": "rgb(36,36,36)",
            "showbackground": true,
            "showgrid": false,
            "showline": true,
            "ticks": "outside",
            "zeroline": false,
            "zerolinecolor": "rgb(36,36,36)"
           }
          },
          "shapedefaults": {
           "fillcolor": "black",
           "line": {
            "width": 0
           },
           "opacity": 0.3
          },
          "ternary": {
           "aaxis": {
            "gridcolor": "rgb(232,232,232)",
            "linecolor": "rgb(36,36,36)",
            "showgrid": false,
            "showline": true,
            "ticks": "outside"
           },
           "baxis": {
            "gridcolor": "rgb(232,232,232)",
            "linecolor": "rgb(36,36,36)",
            "showgrid": false,
            "showline": true,
            "ticks": "outside"
           },
           "bgcolor": "white",
           "caxis": {
            "gridcolor": "rgb(232,232,232)",
            "linecolor": "rgb(36,36,36)",
            "showgrid": false,
            "showline": true,
            "ticks": "outside"
           }
          },
          "title": {
           "x": 0.05
          },
          "xaxis": {
           "automargin": true,
           "gridcolor": "rgb(232,232,232)",
           "linecolor": "rgb(36,36,36)",
           "showgrid": false,
           "showline": true,
           "ticks": "outside",
           "title": {
            "standoff": 15
           },
           "zeroline": false,
           "zerolinecolor": "rgb(36,36,36)"
          },
          "yaxis": {
           "automargin": true,
           "gridcolor": "rgb(232,232,232)",
           "linecolor": "rgb(36,36,36)",
           "showgrid": false,
           "showline": true,
           "ticks": "outside",
           "title": {
            "standoff": 15
           },
           "zeroline": false,
           "zerolinecolor": "rgb(36,36,36)"
          }
         }
        },
        "title": {
         "font": {
          "color": "Black",
          "size": 22
         },
         "text": "<b>Documents and Topics</b>",
         "x": 0.5,
         "xanchor": "center",
         "yanchor": "top"
        },
        "width": 1200,
        "xaxis": {
         "visible": false
        },
        "yaxis": {
         "visible": false
        }
       }
      }
     },
     "metadata": {},
     "output_type": "display_data"
    }
   ],
   "source": [
    "topic_model.visualize_documents(text, custom_labels=True, hide_annotations=True)"
   ]
  },
  {
   "cell_type": "code",
   "execution_count": 75,
   "id": "42708673",
   "metadata": {},
   "outputs": [],
   "source": [
    "embedding_model = \"sentence-transformers/all-MiniLM-L6-v2\"\n",
    "topic_model.save(\"my_model_dir\", serialization=\"safetensors\", save_ctfidf=True, save_embedding_model=embedding_model)"
   ]
  },
  {
   "cell_type": "code",
   "execution_count": 2,
   "id": "cc6f3cfd",
   "metadata": {},
   "outputs": [],
   "source": [
    "from bertopic import BERTopic\n",
    "from sentence_transformers import SentenceTransformer\n",
    "\n",
    "# Define embedding model\n",
    "embedding_model = SentenceTransformer(\"all-MiniLM-L6-v2\")\n",
    "\n",
    "# Load model and add embedding model\n",
    "loaded_model = BERTopic.load(\"my_model_dir\", embedding_model=embedding_model)"
   ]
  },
  {
   "cell_type": "code",
   "execution_count": 86,
   "id": "37bcf028",
   "metadata": {},
   "outputs": [
    {
     "data": {
      "application/vnd.plotly.v1+json": {
       "config": {
        "plotlyServerURL": "https://plot.ly"
       },
       "data": [
        {
         "coloraxis": "coloraxis",
         "hovertemplate": "x: %{x}<br>y: %{y}<br>Similarity Score: %{z}<extra></extra>",
         "name": "0",
         "type": "heatmap",
         "x": [
          "0_black_ted_like",
          "1_child_let_love",
          "2_beautiful_thank_love",
          "3_hi_awesome 9aco_minutes a...",
          "4_dont_theyre_yeah"
         ],
         "xaxis": "x",
         "y": [
          "0_black_ted_like",
          "1_child_let_love",
          "2_beautiful_thank_love",
          "3_hi_awesome 9aco_minutes a...",
          "4_dont_theyre_yeah"
         ],
         "yaxis": "y",
         "z": [
          [
           1,
           0.46155155,
           0.44111156,
           0.31120712,
           0.52055794
          ],
          [
           0.46155155,
           1,
           0.30347186,
           0.12604739,
           0.36299422
          ],
          [
           0.44111156,
           0.30347186,
           0.99999976,
           0.5033906,
           0.4185437
          ],
          [
           0.31120712,
           0.12604739,
           0.5033906,
           1.0000001,
           0.32901886
          ],
          [
           0.52055794,
           0.36299422,
           0.4185437,
           0.32901886,
           0.99999976
          ]
         ]
        }
       ],
       "layout": {
        "coloraxis": {
         "colorbar": {
          "title": {
           "text": "Similarity Score"
          }
         },
         "colorscale": [
          [
           0,
           "rgb(247,252,240)"
          ],
          [
           0.125,
           "rgb(224,243,219)"
          ],
          [
           0.25,
           "rgb(204,235,197)"
          ],
          [
           0.375,
           "rgb(168,221,181)"
          ],
          [
           0.5,
           "rgb(123,204,196)"
          ],
          [
           0.625,
           "rgb(78,179,211)"
          ],
          [
           0.75,
           "rgb(43,140,190)"
          ],
          [
           0.875,
           "rgb(8,104,172)"
          ],
          [
           1,
           "rgb(8,64,129)"
          ]
         ]
        },
        "height": 800,
        "hoverlabel": {
         "bgcolor": "white",
         "font": {
          "family": "Rockwell",
          "size": 16
         }
        },
        "legend": {
         "title": {
          "text": "Trend"
         }
        },
        "margin": {
         "t": 60
        },
        "showlegend": true,
        "template": {
         "data": {
          "bar": [
           {
            "error_x": {
             "color": "#2a3f5f"
            },
            "error_y": {
             "color": "#2a3f5f"
            },
            "marker": {
             "line": {
              "color": "#E5ECF6",
              "width": 0.5
             },
             "pattern": {
              "fillmode": "overlay",
              "size": 10,
              "solidity": 0.2
             }
            },
            "type": "bar"
           }
          ],
          "barpolar": [
           {
            "marker": {
             "line": {
              "color": "#E5ECF6",
              "width": 0.5
             },
             "pattern": {
              "fillmode": "overlay",
              "size": 10,
              "solidity": 0.2
             }
            },
            "type": "barpolar"
           }
          ],
          "carpet": [
           {
            "aaxis": {
             "endlinecolor": "#2a3f5f",
             "gridcolor": "white",
             "linecolor": "white",
             "minorgridcolor": "white",
             "startlinecolor": "#2a3f5f"
            },
            "baxis": {
             "endlinecolor": "#2a3f5f",
             "gridcolor": "white",
             "linecolor": "white",
             "minorgridcolor": "white",
             "startlinecolor": "#2a3f5f"
            },
            "type": "carpet"
           }
          ],
          "choropleth": [
           {
            "colorbar": {
             "outlinewidth": 0,
             "ticks": ""
            },
            "type": "choropleth"
           }
          ],
          "contour": [
           {
            "colorbar": {
             "outlinewidth": 0,
             "ticks": ""
            },
            "colorscale": [
             [
              0,
              "#0d0887"
             ],
             [
              0.1111111111111111,
              "#46039f"
             ],
             [
              0.2222222222222222,
              "#7201a8"
             ],
             [
              0.3333333333333333,
              "#9c179e"
             ],
             [
              0.4444444444444444,
              "#bd3786"
             ],
             [
              0.5555555555555556,
              "#d8576b"
             ],
             [
              0.6666666666666666,
              "#ed7953"
             ],
             [
              0.7777777777777778,
              "#fb9f3a"
             ],
             [
              0.8888888888888888,
              "#fdca26"
             ],
             [
              1,
              "#f0f921"
             ]
            ],
            "type": "contour"
           }
          ],
          "contourcarpet": [
           {
            "colorbar": {
             "outlinewidth": 0,
             "ticks": ""
            },
            "type": "contourcarpet"
           }
          ],
          "heatmap": [
           {
            "colorbar": {
             "outlinewidth": 0,
             "ticks": ""
            },
            "colorscale": [
             [
              0,
              "#0d0887"
             ],
             [
              0.1111111111111111,
              "#46039f"
             ],
             [
              0.2222222222222222,
              "#7201a8"
             ],
             [
              0.3333333333333333,
              "#9c179e"
             ],
             [
              0.4444444444444444,
              "#bd3786"
             ],
             [
              0.5555555555555556,
              "#d8576b"
             ],
             [
              0.6666666666666666,
              "#ed7953"
             ],
             [
              0.7777777777777778,
              "#fb9f3a"
             ],
             [
              0.8888888888888888,
              "#fdca26"
             ],
             [
              1,
              "#f0f921"
             ]
            ],
            "type": "heatmap"
           }
          ],
          "heatmapgl": [
           {
            "colorbar": {
             "outlinewidth": 0,
             "ticks": ""
            },
            "colorscale": [
             [
              0,
              "#0d0887"
             ],
             [
              0.1111111111111111,
              "#46039f"
             ],
             [
              0.2222222222222222,
              "#7201a8"
             ],
             [
              0.3333333333333333,
              "#9c179e"
             ],
             [
              0.4444444444444444,
              "#bd3786"
             ],
             [
              0.5555555555555556,
              "#d8576b"
             ],
             [
              0.6666666666666666,
              "#ed7953"
             ],
             [
              0.7777777777777778,
              "#fb9f3a"
             ],
             [
              0.8888888888888888,
              "#fdca26"
             ],
             [
              1,
              "#f0f921"
             ]
            ],
            "type": "heatmapgl"
           }
          ],
          "histogram": [
           {
            "marker": {
             "pattern": {
              "fillmode": "overlay",
              "size": 10,
              "solidity": 0.2
             }
            },
            "type": "histogram"
           }
          ],
          "histogram2d": [
           {
            "colorbar": {
             "outlinewidth": 0,
             "ticks": ""
            },
            "colorscale": [
             [
              0,
              "#0d0887"
             ],
             [
              0.1111111111111111,
              "#46039f"
             ],
             [
              0.2222222222222222,
              "#7201a8"
             ],
             [
              0.3333333333333333,
              "#9c179e"
             ],
             [
              0.4444444444444444,
              "#bd3786"
             ],
             [
              0.5555555555555556,
              "#d8576b"
             ],
             [
              0.6666666666666666,
              "#ed7953"
             ],
             [
              0.7777777777777778,
              "#fb9f3a"
             ],
             [
              0.8888888888888888,
              "#fdca26"
             ],
             [
              1,
              "#f0f921"
             ]
            ],
            "type": "histogram2d"
           }
          ],
          "histogram2dcontour": [
           {
            "colorbar": {
             "outlinewidth": 0,
             "ticks": ""
            },
            "colorscale": [
             [
              0,
              "#0d0887"
             ],
             [
              0.1111111111111111,
              "#46039f"
             ],
             [
              0.2222222222222222,
              "#7201a8"
             ],
             [
              0.3333333333333333,
              "#9c179e"
             ],
             [
              0.4444444444444444,
              "#bd3786"
             ],
             [
              0.5555555555555556,
              "#d8576b"
             ],
             [
              0.6666666666666666,
              "#ed7953"
             ],
             [
              0.7777777777777778,
              "#fb9f3a"
             ],
             [
              0.8888888888888888,
              "#fdca26"
             ],
             [
              1,
              "#f0f921"
             ]
            ],
            "type": "histogram2dcontour"
           }
          ],
          "mesh3d": [
           {
            "colorbar": {
             "outlinewidth": 0,
             "ticks": ""
            },
            "type": "mesh3d"
           }
          ],
          "parcoords": [
           {
            "line": {
             "colorbar": {
              "outlinewidth": 0,
              "ticks": ""
             }
            },
            "type": "parcoords"
           }
          ],
          "pie": [
           {
            "automargin": true,
            "type": "pie"
           }
          ],
          "scatter": [
           {
            "fillpattern": {
             "fillmode": "overlay",
             "size": 10,
             "solidity": 0.2
            },
            "type": "scatter"
           }
          ],
          "scatter3d": [
           {
            "line": {
             "colorbar": {
              "outlinewidth": 0,
              "ticks": ""
             }
            },
            "marker": {
             "colorbar": {
              "outlinewidth": 0,
              "ticks": ""
             }
            },
            "type": "scatter3d"
           }
          ],
          "scattercarpet": [
           {
            "marker": {
             "colorbar": {
              "outlinewidth": 0,
              "ticks": ""
             }
            },
            "type": "scattercarpet"
           }
          ],
          "scattergeo": [
           {
            "marker": {
             "colorbar": {
              "outlinewidth": 0,
              "ticks": ""
             }
            },
            "type": "scattergeo"
           }
          ],
          "scattergl": [
           {
            "marker": {
             "colorbar": {
              "outlinewidth": 0,
              "ticks": ""
             }
            },
            "type": "scattergl"
           }
          ],
          "scattermapbox": [
           {
            "marker": {
             "colorbar": {
              "outlinewidth": 0,
              "ticks": ""
             }
            },
            "type": "scattermapbox"
           }
          ],
          "scatterpolar": [
           {
            "marker": {
             "colorbar": {
              "outlinewidth": 0,
              "ticks": ""
             }
            },
            "type": "scatterpolar"
           }
          ],
          "scatterpolargl": [
           {
            "marker": {
             "colorbar": {
              "outlinewidth": 0,
              "ticks": ""
             }
            },
            "type": "scatterpolargl"
           }
          ],
          "scatterternary": [
           {
            "marker": {
             "colorbar": {
              "outlinewidth": 0,
              "ticks": ""
             }
            },
            "type": "scatterternary"
           }
          ],
          "surface": [
           {
            "colorbar": {
             "outlinewidth": 0,
             "ticks": ""
            },
            "colorscale": [
             [
              0,
              "#0d0887"
             ],
             [
              0.1111111111111111,
              "#46039f"
             ],
             [
              0.2222222222222222,
              "#7201a8"
             ],
             [
              0.3333333333333333,
              "#9c179e"
             ],
             [
              0.4444444444444444,
              "#bd3786"
             ],
             [
              0.5555555555555556,
              "#d8576b"
             ],
             [
              0.6666666666666666,
              "#ed7953"
             ],
             [
              0.7777777777777778,
              "#fb9f3a"
             ],
             [
              0.8888888888888888,
              "#fdca26"
             ],
             [
              1,
              "#f0f921"
             ]
            ],
            "type": "surface"
           }
          ],
          "table": [
           {
            "cells": {
             "fill": {
              "color": "#EBF0F8"
             },
             "line": {
              "color": "white"
             }
            },
            "header": {
             "fill": {
              "color": "#C8D4E3"
             },
             "line": {
              "color": "white"
             }
            },
            "type": "table"
           }
          ]
         },
         "layout": {
          "annotationdefaults": {
           "arrowcolor": "#2a3f5f",
           "arrowhead": 0,
           "arrowwidth": 1
          },
          "autotypenumbers": "strict",
          "coloraxis": {
           "colorbar": {
            "outlinewidth": 0,
            "ticks": ""
           }
          },
          "colorscale": {
           "diverging": [
            [
             0,
             "#8e0152"
            ],
            [
             0.1,
             "#c51b7d"
            ],
            [
             0.2,
             "#de77ae"
            ],
            [
             0.3,
             "#f1b6da"
            ],
            [
             0.4,
             "#fde0ef"
            ],
            [
             0.5,
             "#f7f7f7"
            ],
            [
             0.6,
             "#e6f5d0"
            ],
            [
             0.7,
             "#b8e186"
            ],
            [
             0.8,
             "#7fbc41"
            ],
            [
             0.9,
             "#4d9221"
            ],
            [
             1,
             "#276419"
            ]
           ],
           "sequential": [
            [
             0,
             "#0d0887"
            ],
            [
             0.1111111111111111,
             "#46039f"
            ],
            [
             0.2222222222222222,
             "#7201a8"
            ],
            [
             0.3333333333333333,
             "#9c179e"
            ],
            [
             0.4444444444444444,
             "#bd3786"
            ],
            [
             0.5555555555555556,
             "#d8576b"
            ],
            [
             0.6666666666666666,
             "#ed7953"
            ],
            [
             0.7777777777777778,
             "#fb9f3a"
            ],
            [
             0.8888888888888888,
             "#fdca26"
            ],
            [
             1,
             "#f0f921"
            ]
           ],
           "sequentialminus": [
            [
             0,
             "#0d0887"
            ],
            [
             0.1111111111111111,
             "#46039f"
            ],
            [
             0.2222222222222222,
             "#7201a8"
            ],
            [
             0.3333333333333333,
             "#9c179e"
            ],
            [
             0.4444444444444444,
             "#bd3786"
            ],
            [
             0.5555555555555556,
             "#d8576b"
            ],
            [
             0.6666666666666666,
             "#ed7953"
            ],
            [
             0.7777777777777778,
             "#fb9f3a"
            ],
            [
             0.8888888888888888,
             "#fdca26"
            ],
            [
             1,
             "#f0f921"
            ]
           ]
          },
          "colorway": [
           "#636efa",
           "#EF553B",
           "#00cc96",
           "#ab63fa",
           "#FFA15A",
           "#19d3f3",
           "#FF6692",
           "#B6E880",
           "#FF97FF",
           "#FECB52"
          ],
          "font": {
           "color": "#2a3f5f"
          },
          "geo": {
           "bgcolor": "white",
           "lakecolor": "white",
           "landcolor": "#E5ECF6",
           "showlakes": true,
           "showland": true,
           "subunitcolor": "white"
          },
          "hoverlabel": {
           "align": "left"
          },
          "hovermode": "closest",
          "mapbox": {
           "style": "light"
          },
          "paper_bgcolor": "white",
          "plot_bgcolor": "#E5ECF6",
          "polar": {
           "angularaxis": {
            "gridcolor": "white",
            "linecolor": "white",
            "ticks": ""
           },
           "bgcolor": "#E5ECF6",
           "radialaxis": {
            "gridcolor": "white",
            "linecolor": "white",
            "ticks": ""
           }
          },
          "scene": {
           "xaxis": {
            "backgroundcolor": "#E5ECF6",
            "gridcolor": "white",
            "gridwidth": 2,
            "linecolor": "white",
            "showbackground": true,
            "ticks": "",
            "zerolinecolor": "white"
           },
           "yaxis": {
            "backgroundcolor": "#E5ECF6",
            "gridcolor": "white",
            "gridwidth": 2,
            "linecolor": "white",
            "showbackground": true,
            "ticks": "",
            "zerolinecolor": "white"
           },
           "zaxis": {
            "backgroundcolor": "#E5ECF6",
            "gridcolor": "white",
            "gridwidth": 2,
            "linecolor": "white",
            "showbackground": true,
            "ticks": "",
            "zerolinecolor": "white"
           }
          },
          "shapedefaults": {
           "line": {
            "color": "#2a3f5f"
           }
          },
          "ternary": {
           "aaxis": {
            "gridcolor": "white",
            "linecolor": "white",
            "ticks": ""
           },
           "baxis": {
            "gridcolor": "white",
            "linecolor": "white",
            "ticks": ""
           },
           "bgcolor": "#E5ECF6",
           "caxis": {
            "gridcolor": "white",
            "linecolor": "white",
            "ticks": ""
           }
          },
          "title": {
           "x": 0.05
          },
          "xaxis": {
           "automargin": true,
           "gridcolor": "white",
           "linecolor": "white",
           "ticks": "",
           "title": {
            "standoff": 15
           },
           "zerolinecolor": "white",
           "zerolinewidth": 2
          },
          "yaxis": {
           "automargin": true,
           "gridcolor": "white",
           "linecolor": "white",
           "ticks": "",
           "title": {
            "standoff": 15
           },
           "zerolinecolor": "white",
           "zerolinewidth": 2
          }
         }
        },
        "title": {
         "font": {
          "color": "Black",
          "size": 22
         },
         "text": "<b>Similarity Matrix</b>",
         "x": 0.55,
         "xanchor": "center",
         "y": 0.95,
         "yanchor": "top"
        },
        "width": 800,
        "xaxis": {
         "anchor": "y",
         "constrain": "domain",
         "domain": [
          0,
          1
         ],
         "scaleanchor": "y"
        },
        "yaxis": {
         "anchor": "x",
         "autorange": "reversed",
         "constrain": "domain",
         "domain": [
          0,
          1
         ]
        }
       }
      }
     },
     "metadata": {},
     "output_type": "display_data"
    }
   ],
   "source": [
    "loaded_model.visualize_heatmap()"
   ]
  },
  {
   "cell_type": "code",
   "execution_count": 3,
   "id": "1597b10a",
   "metadata": {},
   "outputs": [
    {
     "data": {
      "application/vnd.plotly.v1+json": {
       "config": {
        "plotlyServerURL": "https://plot.ly"
       },
       "data": [
        {
         "marker": {
          "color": "#D55E00"
         },
         "orientation": "h",
         "type": "bar",
         "x": [
          0.03301594951601122,
          0.034010809757623474,
          0.0343257753149946,
          0.03692979003769717,
          0.05581145600533555
         ],
         "xaxis": "x",
         "y": [
          "speech  ",
          "talk  ",
          "like  ",
          "ted  ",
          "black  "
         ],
         "yaxis": "y"
        },
        {
         "marker": {
          "color": "#0072B2"
         },
         "orientation": "h",
         "type": "bar",
         "x": [
          0.02539216116953288,
          0.025392973448610086,
          0.026102726416577612,
          0.0267644495987861,
          0.03554902563734603
         ],
         "xaxis": "x2",
         "y": [
          "parents  ",
          "people  ",
          "love  ",
          "let  ",
          "child  "
         ],
         "yaxis": "y2"
        },
        {
         "marker": {
          "color": "#CC79A7"
         },
         "orientation": "h",
         "type": "bar",
         "x": [
          0.06973380011978553,
          0.07752292412905154,
          0.08712208687091487,
          0.11247758908624336,
          0.19123396746971044
         ],
         "xaxis": "x3",
         "y": [
          "amazing  ",
          "just  ",
          "love  ",
          "thank  ",
          "beautiful  "
         ],
         "yaxis": "y3"
        },
        {
         "marker": {
          "color": "#E69F00"
         },
         "orientation": "h",
         "type": "bar",
         "x": [
          0.2399574624778673,
          0.2399574624778673,
          0.2399574624778673,
          0.2399574624778673,
          0.42466141579209643
         ],
         "xaxis": "x4",
         "y": [
          "early hi  ",
          "hi detroit  ",
          "minutes away  ",
          "awesome 9aco  ",
          "hi  "
         ],
         "yaxis": "y4"
        },
        {
         "marker": {
          "color": "#56B4E9"
         },
         "orientation": "h",
         "type": "bar",
         "x": [
          0.05558395494660948,
          0.05558395494660948,
          0.05558395494660948,
          0.05558395494660948,
          0.06183322960238509
         ],
         "xaxis": "x5",
         "y": [
          "youtube  ",
          "video  ",
          "yeah  ",
          "theyre  ",
          "dont  "
         ],
         "yaxis": "y5"
        }
       ],
       "layout": {
        "annotations": [
         {
          "font": {
           "size": 16
          },
          "showarrow": false,
          "text": "Topic 0",
          "x": 0.0875,
          "xanchor": "center",
          "xref": "paper",
          "y": 1,
          "yanchor": "bottom",
          "yref": "paper"
         },
         {
          "font": {
           "size": 16
          },
          "showarrow": false,
          "text": "Topic 1",
          "x": 0.36250000000000004,
          "xanchor": "center",
          "xref": "paper",
          "y": 1,
          "yanchor": "bottom",
          "yref": "paper"
         },
         {
          "font": {
           "size": 16
          },
          "showarrow": false,
          "text": "Topic 2",
          "x": 0.6375000000000001,
          "xanchor": "center",
          "xref": "paper",
          "y": 1,
          "yanchor": "bottom",
          "yref": "paper"
         },
         {
          "font": {
           "size": 16
          },
          "showarrow": false,
          "text": "Topic 3",
          "x": 0.9125,
          "xanchor": "center",
          "xref": "paper",
          "y": 1,
          "yanchor": "bottom",
          "yref": "paper"
         },
         {
          "font": {
           "size": 16
          },
          "showarrow": false,
          "text": "Topic 4",
          "x": 0.0875,
          "xanchor": "center",
          "xref": "paper",
          "y": 0.4,
          "yanchor": "bottom",
          "yref": "paper"
         }
        ],
        "height": 500,
        "hoverlabel": {
         "bgcolor": "white",
         "font": {
          "family": "Rockwell",
          "size": 16
         }
        },
        "showlegend": false,
        "template": {
         "data": {
          "bar": [
           {
            "error_x": {
             "color": "#2a3f5f"
            },
            "error_y": {
             "color": "#2a3f5f"
            },
            "marker": {
             "line": {
              "color": "white",
              "width": 0.5
             },
             "pattern": {
              "fillmode": "overlay",
              "size": 10,
              "solidity": 0.2
             }
            },
            "type": "bar"
           }
          ],
          "barpolar": [
           {
            "marker": {
             "line": {
              "color": "white",
              "width": 0.5
             },
             "pattern": {
              "fillmode": "overlay",
              "size": 10,
              "solidity": 0.2
             }
            },
            "type": "barpolar"
           }
          ],
          "carpet": [
           {
            "aaxis": {
             "endlinecolor": "#2a3f5f",
             "gridcolor": "#C8D4E3",
             "linecolor": "#C8D4E3",
             "minorgridcolor": "#C8D4E3",
             "startlinecolor": "#2a3f5f"
            },
            "baxis": {
             "endlinecolor": "#2a3f5f",
             "gridcolor": "#C8D4E3",
             "linecolor": "#C8D4E3",
             "minorgridcolor": "#C8D4E3",
             "startlinecolor": "#2a3f5f"
            },
            "type": "carpet"
           }
          ],
          "choropleth": [
           {
            "colorbar": {
             "outlinewidth": 0,
             "ticks": ""
            },
            "type": "choropleth"
           }
          ],
          "contour": [
           {
            "colorbar": {
             "outlinewidth": 0,
             "ticks": ""
            },
            "colorscale": [
             [
              0,
              "#0d0887"
             ],
             [
              0.1111111111111111,
              "#46039f"
             ],
             [
              0.2222222222222222,
              "#7201a8"
             ],
             [
              0.3333333333333333,
              "#9c179e"
             ],
             [
              0.4444444444444444,
              "#bd3786"
             ],
             [
              0.5555555555555556,
              "#d8576b"
             ],
             [
              0.6666666666666666,
              "#ed7953"
             ],
             [
              0.7777777777777778,
              "#fb9f3a"
             ],
             [
              0.8888888888888888,
              "#fdca26"
             ],
             [
              1,
              "#f0f921"
             ]
            ],
            "type": "contour"
           }
          ],
          "contourcarpet": [
           {
            "colorbar": {
             "outlinewidth": 0,
             "ticks": ""
            },
            "type": "contourcarpet"
           }
          ],
          "heatmap": [
           {
            "colorbar": {
             "outlinewidth": 0,
             "ticks": ""
            },
            "colorscale": [
             [
              0,
              "#0d0887"
             ],
             [
              0.1111111111111111,
              "#46039f"
             ],
             [
              0.2222222222222222,
              "#7201a8"
             ],
             [
              0.3333333333333333,
              "#9c179e"
             ],
             [
              0.4444444444444444,
              "#bd3786"
             ],
             [
              0.5555555555555556,
              "#d8576b"
             ],
             [
              0.6666666666666666,
              "#ed7953"
             ],
             [
              0.7777777777777778,
              "#fb9f3a"
             ],
             [
              0.8888888888888888,
              "#fdca26"
             ],
             [
              1,
              "#f0f921"
             ]
            ],
            "type": "heatmap"
           }
          ],
          "heatmapgl": [
           {
            "colorbar": {
             "outlinewidth": 0,
             "ticks": ""
            },
            "colorscale": [
             [
              0,
              "#0d0887"
             ],
             [
              0.1111111111111111,
              "#46039f"
             ],
             [
              0.2222222222222222,
              "#7201a8"
             ],
             [
              0.3333333333333333,
              "#9c179e"
             ],
             [
              0.4444444444444444,
              "#bd3786"
             ],
             [
              0.5555555555555556,
              "#d8576b"
             ],
             [
              0.6666666666666666,
              "#ed7953"
             ],
             [
              0.7777777777777778,
              "#fb9f3a"
             ],
             [
              0.8888888888888888,
              "#fdca26"
             ],
             [
              1,
              "#f0f921"
             ]
            ],
            "type": "heatmapgl"
           }
          ],
          "histogram": [
           {
            "marker": {
             "pattern": {
              "fillmode": "overlay",
              "size": 10,
              "solidity": 0.2
             }
            },
            "type": "histogram"
           }
          ],
          "histogram2d": [
           {
            "colorbar": {
             "outlinewidth": 0,
             "ticks": ""
            },
            "colorscale": [
             [
              0,
              "#0d0887"
             ],
             [
              0.1111111111111111,
              "#46039f"
             ],
             [
              0.2222222222222222,
              "#7201a8"
             ],
             [
              0.3333333333333333,
              "#9c179e"
             ],
             [
              0.4444444444444444,
              "#bd3786"
             ],
             [
              0.5555555555555556,
              "#d8576b"
             ],
             [
              0.6666666666666666,
              "#ed7953"
             ],
             [
              0.7777777777777778,
              "#fb9f3a"
             ],
             [
              0.8888888888888888,
              "#fdca26"
             ],
             [
              1,
              "#f0f921"
             ]
            ],
            "type": "histogram2d"
           }
          ],
          "histogram2dcontour": [
           {
            "colorbar": {
             "outlinewidth": 0,
             "ticks": ""
            },
            "colorscale": [
             [
              0,
              "#0d0887"
             ],
             [
              0.1111111111111111,
              "#46039f"
             ],
             [
              0.2222222222222222,
              "#7201a8"
             ],
             [
              0.3333333333333333,
              "#9c179e"
             ],
             [
              0.4444444444444444,
              "#bd3786"
             ],
             [
              0.5555555555555556,
              "#d8576b"
             ],
             [
              0.6666666666666666,
              "#ed7953"
             ],
             [
              0.7777777777777778,
              "#fb9f3a"
             ],
             [
              0.8888888888888888,
              "#fdca26"
             ],
             [
              1,
              "#f0f921"
             ]
            ],
            "type": "histogram2dcontour"
           }
          ],
          "mesh3d": [
           {
            "colorbar": {
             "outlinewidth": 0,
             "ticks": ""
            },
            "type": "mesh3d"
           }
          ],
          "parcoords": [
           {
            "line": {
             "colorbar": {
              "outlinewidth": 0,
              "ticks": ""
             }
            },
            "type": "parcoords"
           }
          ],
          "pie": [
           {
            "automargin": true,
            "type": "pie"
           }
          ],
          "scatter": [
           {
            "fillpattern": {
             "fillmode": "overlay",
             "size": 10,
             "solidity": 0.2
            },
            "type": "scatter"
           }
          ],
          "scatter3d": [
           {
            "line": {
             "colorbar": {
              "outlinewidth": 0,
              "ticks": ""
             }
            },
            "marker": {
             "colorbar": {
              "outlinewidth": 0,
              "ticks": ""
             }
            },
            "type": "scatter3d"
           }
          ],
          "scattercarpet": [
           {
            "marker": {
             "colorbar": {
              "outlinewidth": 0,
              "ticks": ""
             }
            },
            "type": "scattercarpet"
           }
          ],
          "scattergeo": [
           {
            "marker": {
             "colorbar": {
              "outlinewidth": 0,
              "ticks": ""
             }
            },
            "type": "scattergeo"
           }
          ],
          "scattergl": [
           {
            "marker": {
             "colorbar": {
              "outlinewidth": 0,
              "ticks": ""
             }
            },
            "type": "scattergl"
           }
          ],
          "scattermapbox": [
           {
            "marker": {
             "colorbar": {
              "outlinewidth": 0,
              "ticks": ""
             }
            },
            "type": "scattermapbox"
           }
          ],
          "scatterpolar": [
           {
            "marker": {
             "colorbar": {
              "outlinewidth": 0,
              "ticks": ""
             }
            },
            "type": "scatterpolar"
           }
          ],
          "scatterpolargl": [
           {
            "marker": {
             "colorbar": {
              "outlinewidth": 0,
              "ticks": ""
             }
            },
            "type": "scatterpolargl"
           }
          ],
          "scatterternary": [
           {
            "marker": {
             "colorbar": {
              "outlinewidth": 0,
              "ticks": ""
             }
            },
            "type": "scatterternary"
           }
          ],
          "surface": [
           {
            "colorbar": {
             "outlinewidth": 0,
             "ticks": ""
            },
            "colorscale": [
             [
              0,
              "#0d0887"
             ],
             [
              0.1111111111111111,
              "#46039f"
             ],
             [
              0.2222222222222222,
              "#7201a8"
             ],
             [
              0.3333333333333333,
              "#9c179e"
             ],
             [
              0.4444444444444444,
              "#bd3786"
             ],
             [
              0.5555555555555556,
              "#d8576b"
             ],
             [
              0.6666666666666666,
              "#ed7953"
             ],
             [
              0.7777777777777778,
              "#fb9f3a"
             ],
             [
              0.8888888888888888,
              "#fdca26"
             ],
             [
              1,
              "#f0f921"
             ]
            ],
            "type": "surface"
           }
          ],
          "table": [
           {
            "cells": {
             "fill": {
              "color": "#EBF0F8"
             },
             "line": {
              "color": "white"
             }
            },
            "header": {
             "fill": {
              "color": "#C8D4E3"
             },
             "line": {
              "color": "white"
             }
            },
            "type": "table"
           }
          ]
         },
         "layout": {
          "annotationdefaults": {
           "arrowcolor": "#2a3f5f",
           "arrowhead": 0,
           "arrowwidth": 1
          },
          "autotypenumbers": "strict",
          "coloraxis": {
           "colorbar": {
            "outlinewidth": 0,
            "ticks": ""
           }
          },
          "colorscale": {
           "diverging": [
            [
             0,
             "#8e0152"
            ],
            [
             0.1,
             "#c51b7d"
            ],
            [
             0.2,
             "#de77ae"
            ],
            [
             0.3,
             "#f1b6da"
            ],
            [
             0.4,
             "#fde0ef"
            ],
            [
             0.5,
             "#f7f7f7"
            ],
            [
             0.6,
             "#e6f5d0"
            ],
            [
             0.7,
             "#b8e186"
            ],
            [
             0.8,
             "#7fbc41"
            ],
            [
             0.9,
             "#4d9221"
            ],
            [
             1,
             "#276419"
            ]
           ],
           "sequential": [
            [
             0,
             "#0d0887"
            ],
            [
             0.1111111111111111,
             "#46039f"
            ],
            [
             0.2222222222222222,
             "#7201a8"
            ],
            [
             0.3333333333333333,
             "#9c179e"
            ],
            [
             0.4444444444444444,
             "#bd3786"
            ],
            [
             0.5555555555555556,
             "#d8576b"
            ],
            [
             0.6666666666666666,
             "#ed7953"
            ],
            [
             0.7777777777777778,
             "#fb9f3a"
            ],
            [
             0.8888888888888888,
             "#fdca26"
            ],
            [
             1,
             "#f0f921"
            ]
           ],
           "sequentialminus": [
            [
             0,
             "#0d0887"
            ],
            [
             0.1111111111111111,
             "#46039f"
            ],
            [
             0.2222222222222222,
             "#7201a8"
            ],
            [
             0.3333333333333333,
             "#9c179e"
            ],
            [
             0.4444444444444444,
             "#bd3786"
            ],
            [
             0.5555555555555556,
             "#d8576b"
            ],
            [
             0.6666666666666666,
             "#ed7953"
            ],
            [
             0.7777777777777778,
             "#fb9f3a"
            ],
            [
             0.8888888888888888,
             "#fdca26"
            ],
            [
             1,
             "#f0f921"
            ]
           ]
          },
          "colorway": [
           "#636efa",
           "#EF553B",
           "#00cc96",
           "#ab63fa",
           "#FFA15A",
           "#19d3f3",
           "#FF6692",
           "#B6E880",
           "#FF97FF",
           "#FECB52"
          ],
          "font": {
           "color": "#2a3f5f"
          },
          "geo": {
           "bgcolor": "white",
           "lakecolor": "white",
           "landcolor": "white",
           "showlakes": true,
           "showland": true,
           "subunitcolor": "#C8D4E3"
          },
          "hoverlabel": {
           "align": "left"
          },
          "hovermode": "closest",
          "mapbox": {
           "style": "light"
          },
          "paper_bgcolor": "white",
          "plot_bgcolor": "white",
          "polar": {
           "angularaxis": {
            "gridcolor": "#EBF0F8",
            "linecolor": "#EBF0F8",
            "ticks": ""
           },
           "bgcolor": "white",
           "radialaxis": {
            "gridcolor": "#EBF0F8",
            "linecolor": "#EBF0F8",
            "ticks": ""
           }
          },
          "scene": {
           "xaxis": {
            "backgroundcolor": "white",
            "gridcolor": "#DFE8F3",
            "gridwidth": 2,
            "linecolor": "#EBF0F8",
            "showbackground": true,
            "ticks": "",
            "zerolinecolor": "#EBF0F8"
           },
           "yaxis": {
            "backgroundcolor": "white",
            "gridcolor": "#DFE8F3",
            "gridwidth": 2,
            "linecolor": "#EBF0F8",
            "showbackground": true,
            "ticks": "",
            "zerolinecolor": "#EBF0F8"
           },
           "zaxis": {
            "backgroundcolor": "white",
            "gridcolor": "#DFE8F3",
            "gridwidth": 2,
            "linecolor": "#EBF0F8",
            "showbackground": true,
            "ticks": "",
            "zerolinecolor": "#EBF0F8"
           }
          },
          "shapedefaults": {
           "line": {
            "color": "#2a3f5f"
           }
          },
          "ternary": {
           "aaxis": {
            "gridcolor": "#DFE8F3",
            "linecolor": "#A2B1C6",
            "ticks": ""
           },
           "baxis": {
            "gridcolor": "#DFE8F3",
            "linecolor": "#A2B1C6",
            "ticks": ""
           },
           "bgcolor": "white",
           "caxis": {
            "gridcolor": "#DFE8F3",
            "linecolor": "#A2B1C6",
            "ticks": ""
           }
          },
          "title": {
           "x": 0.05
          },
          "xaxis": {
           "automargin": true,
           "gridcolor": "#EBF0F8",
           "linecolor": "#EBF0F8",
           "ticks": "",
           "title": {
            "standoff": 15
           },
           "zerolinecolor": "#EBF0F8",
           "zerolinewidth": 2
          },
          "yaxis": {
           "automargin": true,
           "gridcolor": "#EBF0F8",
           "linecolor": "#EBF0F8",
           "ticks": "",
           "title": {
            "standoff": 15
           },
           "zerolinecolor": "#EBF0F8",
           "zerolinewidth": 2
          }
         }
        },
        "title": {
         "font": {
          "color": "Black",
          "size": 22
         },
         "text": "Topic Word Scores",
         "x": 0.5,
         "xanchor": "center",
         "yanchor": "top"
        },
        "width": 1000,
        "xaxis": {
         "anchor": "y",
         "domain": [
          0,
          0.175
         ],
         "showgrid": true
        },
        "xaxis2": {
         "anchor": "y2",
         "domain": [
          0.275,
          0.45
         ],
         "showgrid": true
        },
        "xaxis3": {
         "anchor": "y3",
         "domain": [
          0.55,
          0.7250000000000001
         ],
         "showgrid": true
        },
        "xaxis4": {
         "anchor": "y4",
         "domain": [
          0.825,
          1
         ],
         "showgrid": true
        },
        "xaxis5": {
         "anchor": "y5",
         "domain": [
          0,
          0.175
         ],
         "showgrid": true
        },
        "xaxis6": {
         "anchor": "y6",
         "domain": [
          0.275,
          0.45
         ],
         "showgrid": true
        },
        "xaxis7": {
         "anchor": "y7",
         "domain": [
          0.55,
          0.7250000000000001
         ],
         "showgrid": true
        },
        "xaxis8": {
         "anchor": "y8",
         "domain": [
          0.825,
          1
         ],
         "showgrid": true
        },
        "yaxis": {
         "anchor": "x",
         "domain": [
          0.6000000000000001,
          1
         ],
         "showgrid": true
        },
        "yaxis2": {
         "anchor": "x2",
         "domain": [
          0.6000000000000001,
          1
         ],
         "showgrid": true
        },
        "yaxis3": {
         "anchor": "x3",
         "domain": [
          0.6000000000000001,
          1
         ],
         "showgrid": true
        },
        "yaxis4": {
         "anchor": "x4",
         "domain": [
          0.6000000000000001,
          1
         ],
         "showgrid": true
        },
        "yaxis5": {
         "anchor": "x5",
         "domain": [
          0,
          0.4
         ],
         "showgrid": true
        },
        "yaxis6": {
         "anchor": "x6",
         "domain": [
          0,
          0.4
         ],
         "showgrid": true
        },
        "yaxis7": {
         "anchor": "x7",
         "domain": [
          0,
          0.4
         ],
         "showgrid": true
        },
        "yaxis8": {
         "anchor": "x8",
         "domain": [
          0,
          0.4
         ],
         "showgrid": true
        }
       }
      }
     },
     "metadata": {},
     "output_type": "display_data"
    }
   ],
   "source": [
    "loaded_model.visualize_barchart()"
   ]
  },
  {
   "cell_type": "code",
   "execution_count": null,
   "id": "3bc094ed",
   "metadata": {},
   "outputs": [],
   "source": []
  }
 ],
 "metadata": {
  "kernelspec": {
   "display_name": "Python 3",
   "language": "python",
   "name": "python3"
  },
  "language_info": {
   "codemirror_mode": {
    "name": "ipython",
    "version": 3
   },
   "file_extension": ".py",
   "mimetype": "text/x-python",
   "name": "python",
   "nbconvert_exporter": "python",
   "pygments_lexer": "ipython3",
   "version": "3.12.4"
  }
 },
 "nbformat": 4,
 "nbformat_minor": 5
}
