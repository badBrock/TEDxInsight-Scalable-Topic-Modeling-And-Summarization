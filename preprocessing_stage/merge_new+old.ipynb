{
 "cells": [
  {
   "cell_type": "code",
   "execution_count": 6,
   "metadata": {},
   "outputs": [
    {
     "name": "stdout",
     "output_type": "stream",
     "text": [
      "Concatenated Vertically:\n",
      "(5492, 2)\n"
     ]
    }
   ],
   "source": [
    "import pickle\n",
    "import pandas as pd\n",
    "# Load the first pickle file\n",
    "with open('E:\\\\NLP_Recommender_System\\\\preprocessing_stage\\\\commenst\\\\ted_video_comments_new.pkl', 'rb') as f1:\n",
    "    df1 = pickle.load(f1)\n",
    "\n",
    "# Load the second pickle file\n",
    "with open('E:\\\\NLP_Recommender_System\\\\preprocessing_stage\\\\commenst\\\\ted_video_comments_old.pkl', 'rb') as f2:\n",
    "    df2 = pickle.load(f2)\n",
    "\n",
    "merged_df = pd.concat([df1, df2], ignore_index=True)\n",
    "\n",
    "# Print the result\n",
    "print(\"Concatenated Vertically:\")\n",
    "print((merged_df).shape)"
   ]
  },
  {
   "cell_type": "code",
   "execution_count": 10,
   "metadata": {},
   "outputs": [
    {
     "data": {
      "application/vnd.microsoft.datawrangler.viewer.v0+json": {
       "columns": [
        {
         "name": "index",
         "rawType": "int64",
         "type": "integer"
        },
        {
         "name": "video_id",
         "rawType": "object",
         "type": "string"
        },
        {
         "name": "comments",
         "rawType": "object",
         "type": "string"
        }
       ],
       "conversionMethod": "pd.DataFrame",
       "ref": "f57e043b-e2fa-4a39-a641-2ec828930b15",
       "rows": [
        [
         "5487",
         "zuYzOn0U2PY",
         "{good programme,, Dr. Thomas Campbell, Director of the Metropolitan Museum in New York, explains the relationship between room sized palatial tapestries and their narrative design and how the narratives invite us to look at objects in museums.  He initiates his talk with an admonition against situating ourselves in art historical rhetoric and looking at objects, allowing them to tell us their stories.  Dr. Campbell explains how he took this kind of a narrative, which is of course in his field, and expanded this aesthetic view to other diverse objects in the encyclopedic Met.  He embraces media, such as YouTube to interest viewers in the age of technology with the kinds of histories objects tell.  However, what is really exciting is relating the objects viewed on a video monitor or cell phone to visiting the museum and becoming excited with the experience of looking at the actual object and experiencing the authenticity of that object as well as its placement in a historical narrative context.  This is brilliant because  he makes the information in art accessible to everyone., <a href=\"https://www.youtube.com/watch?v=zuYzOn0U2PY&amp;t=88\">1:28</a> LOL, Thomas P. Campbell: Dropping the f-bomb at TedTalks and still manages to stay classy as fuck., sexsuality, The web is great... but nothing replaces, 3d, touching... smells, the sounds in the rooms... how they echo... the sounds of whispers and chatting... The taste in the air... the heat in the room... The ability to freely explore against being shown round... the liberty there is in real life is not replaced by technology... well... not as things stand right now. , I loved the random guy laughed out. No fear! :-) Individualism! :-), Life is a museum! ;-) Look around!, A what... you mean a place with old shit! Ha. , Who&#39;s up for a bacchanal?, He reminds me of Bill Nighy in &quot;Vincent and The Doctor&quot;, Really REALLY want to go and explore a museum or two now! Fantastic, inspirational talk., The MET is now on my bucket list. Thank you., I wonder how this guy will react to Gangnam Style :3, I think he expected a laugh near the end when he mentioned the pooping dog. Awk ward!!!!, I really want to go to the natural history museum in London.\n\nThere&#39;s one piece in my lbrary recently of a stuffed rare oil bird from Africa, I was looking at it for about 5 minutes. Just so real, and no jpeg can match it - I could easily spend a year in the natural history museum not bored., Funny to see that viewers don&#39;t know whats happenng:), LOL In Russian Bakhanal is pretty regular word, and you don&#39;t have to be bookworm to know it., thanks.\n, Please, someone make a 3 second clip of that phrase. That would be wonderful.}"
        ],
        [
         "5488",
         "zvwQXwJyaj0",
         "{My God that just changed my life, She&#39;s really haming this up. Geeze., I just learned about her today. It was a miracle she survived as long as she did. What a beautiful gift she gave to the world and a well-done rendition of the famous aria from Gounod&#39;s Romeo et Juliette. Brava!, RIP, that cough at <a href=\"https://www.youtube.com/watch?v=zvwQXwJyaj0&amp;t=128\">2:08</a> someone is allergic to retards, Her passing is such a tragic loss to this world., Rest in Peace Charity, you were an inspiration and a beautiful soul., RIP Charity, Absolutely astounding. I had a single lung transplant 3.5 years ago. I couldn&#39;t carry a note in a bushel basket! HaHaHaHaHa God Bless you, Charity. Love it when you hit that high!, WOW amazing!, I&#39;m going to need a lung transplant and not being able to sing when I wake up is actually one of my worst when it comes to the surgery and recovery even more than rejection and failure honestly.., G-dBless you Darling ♥️, Thank you for sharing your powerful, &amp; moving story. You are right, you have to keep to will to go on &amp; see your dreams come true or nothing will work.  I am on the list for a double lung transplant for COPD &amp; look forward to continue living my life without  O2! Bravo!, What an inspiration❤️, Good for her...she got a lung transplant :)<br><br><a href=\"https://www.clickondetroit.com/health/opera-singer-breathes-with-another-womans-lungs?utm_medium=social&amp;utm_source=facebook_WDIV_Local_4_%2F_ClickOnDetroit\">https://www.clickondetroit.com/health/opera-singer-breathes-with-another-womans-lungs?utm_medium=social&amp;utm_source=facebook_WDIV_Local_4_%2F_ClickOnDetroit</a>, How did she not get a standing ovation!! Such a powerful story and a moving performance towards the end.., I have PH. I have had it basically since birth except it worsened over the years. At this moment I now use oxygen. I am hoping to have a transplant. 21 yrs old.. So much to give but just don&#39;t have the tools., Je veux vivre... excellent choice for this story... OMG it hit me!, what a  powerful  story-  thank you so much for sharing  this!, You rock. I hope more people will do the same thing,}"
        ],
        [
         "5489",
         "zw9NXY3xOOI",
         "{GENIAL, That was a very abrupt ending. O.o, that&#39;s a serious tool for art historians and researchers. :], what&#39;s your boss doing outside the kitchen man?, Genius - finally got to go to MoMA., @donn333 Actually all &quot;i product&quot;s (Macbook,iphones &amp; ipads) has &quot;safari&quot; as its default browser.so there is no offense why hez using safari instead of google......\r\n, @AmusingYeti What is the website??\n, 非常漂亮的作品, 非常漂亮的作品, I&#39;ve been neglecting this in my subscriptions box because I thought it would be crap, but it&#39;s REALLY REALLY GOOD :-D, FANTASTIC!!, @donn333 Lol... someone is getting fired for pointing that out., @hiiateursoul wow-do tell!, Who would have thought that I could get closer to some works of art at home, rather than being there - you know because of glass protector, security, etc., Incredible - I am going to create a museum of my collection of moldy food in 5mb format., What a waste, a natural history museum theme would be better for the human race then art., I don&#39;t have any artistic talents or any interests in art at all but even I am able to appreciate something like this because I know what a great tool this is. I took an art class in high school where I tried to draw but I failed. I took an art history course in college but I never had any interest in it. Art is part of the human experience and I want to know as much as I can about human history. Even if I never use this tool I am happy for all art enthusiasts who will be able to enjoy this now., Nice :) Maybe western museums should then completely transcend into cyberspace, so that we can finally return all of the arts we have stolen from around the world. No more excuses. , TED should have let him speak for longer, it seemed fascinating., Awesome .}"
        ],
        [
         "5490",
         "zwjLQgNd7XM",
         "{Reading your article in the parcc practice test lol, this video is so sad, What is wrong with this comment section? There&#39;s just so much negativity and so little compassion... :(<br>Oh and, &quot;that labour time could have been spent elsewhere&quot;? Your intelligence too. As though oil companies didn&#39;t have lots of time and money that are spent elsewhere already (for example, in preventing these disasters). These were individuals doing exactly what they wanted to fix someone else&#39;s mishaps. If you have a better cause, then go and unite people to do good. For the time being, please have a little respect for their decisions and yourself., thats my aunt dyan!!!, This is truly inspiring. I just wish that I had been there during the rescue, Came for science; Stayed for tig ole&#39; bitties., If a penguin was given the chance, he would pour oil on you and everyone you care about., @omegavalerius Indeed, the more &quot;high tech&quot; the cleaner it is.\n, my father is a penguin and I think what these people are doing is wonderful., @magiclifestyle101 In the interest of setting the record straight - the story about the 17-year old student is true. His name is Louis Kock, and I tell his story in more depth in my book, The Great Penguin Rescue. He invented a first-stage degreaser that was used during the rescue effort. GNLD donated the detergent that was used, but these are actually two different products. , she&#39;s smug, arrogant and believes shes been through a lot. i really dislike her., @magiclifestyle101     I have used this soap for shaving for over 16 years :), Aaargh! This lady should be discredited. Her favourite story about the 17-year old inventing the soap is rubbish. Why did she not give credit to the student? There isn&#39;t one. \nGive credit where credit is due.\nThe truth is that the soap was LDC from GNLD and much of it was donated by the company, staff, reps and customers who also made up many of the volunteers. Search &quot;Penguins + GNLD&quot; for the real story. , overfishing and global warming, more like overfishing and dumping shit into the ocean. There are places in the middle of the ocean that have more plastic then water in them, @fuunguus\nWhich article, idiot? Google gives every user different results and the article you&#39;re talking about could be on page 3 in my search results, which is why I said Google isn&#39;t a source. How hard is this for you to understand?, @Provoker7 If you search that in google you will find an article, but if that is too much work for you then you can just go fuck yourself., @fuunguus\nGoogle isn&#39;t a source. If you want me to believe your speculation, you have to show me some data., @axelasdf\nMankind&#39;s actions aren&#39;t seperate from nature... You&#39;ve defined a problem into existence. The disagreement between us is resolved., @Provoker7 \nEvolution is the process of NATURAL selection.  That a species most adapted to an environment will survive.  Man&#39;s intervention in the process is not NATURAL.  Domesticated animals are the species that we selectively breed and artificially farm for our own needs and purposes.  Natural selection also applies to plants.  Corn, as we know it, did not evolve to the point where it is today.  We selectively bred it to our purposes.  That is not evolution, but human engineering. , @axelasdf\nI will agree that evolution stops for a species when that species goes extinct, but this is not only self-evident, but also irrespective of whether the cause was conscious or an unguided natural process. Nowhere in the theory of evolution does it state that man&#39;s actions outside of evolution, whether by definition or in practical terms. Evolution is at the core of artificial selection in domesticated animals, and every bug we squash changes that species&#39; pedigree.}"
        ],
        [
         "5491",
         "zwpiI18TBdE",
         "{This man is a colleague , in a  world that is complex and violent , he is an incredible man, works hard in his local community, is highly respected and he gets results when working with violent young people on all sides of the spectrum., Poor man ❤ so glad he has been growing tremendously ., Good speaker, It is easy to get into these organizations for their power, protection and money. But it is very difficult for one 1. to understand what they do is wrong, unethical, inhumane and extreme and unimaginable violence, 2. to self-reflect and find a way out, 3. to be a normal person again, 4. to be treated as a normal person again. It is not someone&#39;s fault to look at you in a certain way for your past actions, even though they were in the past. No one is so pure to ignore your past and just look at your present. It is easy to be blinded by the circumstances, power, money, fame, any materialistic gain. So, it is really really important to consider each and every decision you make because most of the times it is too late to get out or change (as opposed to never too late). And this is to every human irrespective of race, religion, etc. At the end of the day, every religion in the world that stands firm today is only because of Love, Compassion and Empathy. Self-Love and Love for Others is the only way out for Human race and into a very long, bright and positive future., Respect Manwar. We are all getting into a polarised position.. Not helped by cowardly people in power (as well as the aforementioned Cruel authoritian leaders). If we had more like Manwar in all persuasions, we could have true peace., His beard is on ghost mode, The boy was an infidel obviously. Allah akbar, Any ounce of jihad is evil., Only who that are not know about islam is fool by him. Jihad is a 3 stage religion war, What he do is first state of jihad, The taliban is in 3 stage., Islam just fan&#39;s association of Mohammad cult, To believe in one God we don&#39;t need political womenier godman Mohammad, Leftist enjoy ! Open borders from joe biden ! It’s already here :), Lets not sugar coat or obfuscate the exact words and values that are written., Let us also reflect at the puppeteers of Afghan &quot;jihad&quot;, How fervant religion can make one&#39;s self. COR, Still stupid, He is lying, Is he telling the truth or is this al taqiya he is doing., Goroko chipka raha hai., Amazing! He only left the extremism, but continues to follow the religion in its pure form. <br>Most ppl would start hating the religion entirely but he is brave enough to see the difference!}"
        ]
       ],
       "shape": {
        "columns": 2,
        "rows": 5
       }
      },
      "text/html": [
       "<div>\n",
       "<style scoped>\n",
       "    .dataframe tbody tr th:only-of-type {\n",
       "        vertical-align: middle;\n",
       "    }\n",
       "\n",
       "    .dataframe tbody tr th {\n",
       "        vertical-align: top;\n",
       "    }\n",
       "\n",
       "    .dataframe thead th {\n",
       "        text-align: right;\n",
       "    }\n",
       "</style>\n",
       "<table border=\"1\" class=\"dataframe\">\n",
       "  <thead>\n",
       "    <tr style=\"text-align: right;\">\n",
       "      <th></th>\n",
       "      <th>video_id</th>\n",
       "      <th>comments</th>\n",
       "    </tr>\n",
       "  </thead>\n",
       "  <tbody>\n",
       "    <tr>\n",
       "      <th>5487</th>\n",
       "      <td>zuYzOn0U2PY</td>\n",
       "      <td>{good programme,, Dr. Thomas Campbell, Directo...</td>\n",
       "    </tr>\n",
       "    <tr>\n",
       "      <th>5488</th>\n",
       "      <td>zvwQXwJyaj0</td>\n",
       "      <td>{My God that just changed my life, She&amp;#39;s r...</td>\n",
       "    </tr>\n",
       "    <tr>\n",
       "      <th>5489</th>\n",
       "      <td>zw9NXY3xOOI</td>\n",
       "      <td>{GENIAL, That was a very abrupt ending. O.o, t...</td>\n",
       "    </tr>\n",
       "    <tr>\n",
       "      <th>5490</th>\n",
       "      <td>zwjLQgNd7XM</td>\n",
       "      <td>{Reading your article in the parcc practice te...</td>\n",
       "    </tr>\n",
       "    <tr>\n",
       "      <th>5491</th>\n",
       "      <td>zwpiI18TBdE</td>\n",
       "      <td>{This man is a colleague , in a  world that is...</td>\n",
       "    </tr>\n",
       "  </tbody>\n",
       "</table>\n",
       "</div>"
      ],
      "text/plain": [
       "         video_id                                           comments\n",
       "5487  zuYzOn0U2PY  {good programme,, Dr. Thomas Campbell, Directo...\n",
       "5488  zvwQXwJyaj0  {My God that just changed my life, She&#39;s r...\n",
       "5489  zw9NXY3xOOI  {GENIAL, That was a very abrupt ending. O.o, t...\n",
       "5490  zwjLQgNd7XM  {Reading your article in the parcc practice te...\n",
       "5491  zwpiI18TBdE  {This man is a colleague , in a  world that is..."
      ]
     },
     "execution_count": 10,
     "metadata": {},
     "output_type": "execute_result"
    }
   ],
   "source": [
    "merged_df.tail()"
   ]
  },
  {
   "cell_type": "code",
   "execution_count": 13,
   "metadata": {},
   "outputs": [],
   "source": [
    "with open(\"comments.pkl\" , \"wb\") as f:\n",
    "    pickle.dump(merged_df,f)"
   ]
  },
  {
   "cell_type": "code",
   "execution_count": 7,
   "metadata": {},
   "outputs": [
    {
     "name": "stdout",
     "output_type": "stream",
     "text": [
      "Concatenated Vertically:\n",
      "(5485, 12)\n"
     ]
    }
   ],
   "source": [
    "import pickle\n",
    "\n",
    "# Load the first pickle file\n",
    "with open('E:\\\\NLP_Recommender_System\\\\preprocessing_stage\\\\stats\\\\ted_video_stats_new.pkl', 'rb') as f3:\n",
    "    df3 = pickle.load(f3)\n",
    "\n",
    "# Load the second pickle file\n",
    "with open('E:\\\\NLP_Recommender_System\\\\preprocessing_stage\\\\stats\\\\ted_video_stats_old.pkl', 'rb') as f4:\n",
    "    df4 = pickle.load(f4)\n",
    "\n",
    "merged_df2 = pd.concat([df3, df4], ignore_index=True)\n",
    "\n",
    "# Print the result\n",
    "print(\"Concatenated Vertically:\")\n",
    "print((merged_df2).shape)\n"
   ]
  },
  {
   "cell_type": "code",
   "execution_count": 11,
   "metadata": {},
   "outputs": [
    {
     "data": {
      "application/vnd.microsoft.datawrangler.viewer.v0+json": {
       "columns": [
        {
         "name": "index",
         "rawType": "int64",
         "type": "integer"
        },
        {
         "name": "video_id",
         "rawType": "object",
         "type": "string"
        },
        {
         "name": "tags",
         "rawType": "object",
         "type": "unknown"
        },
        {
         "name": "title",
         "rawType": "object",
         "type": "string"
        },
        {
         "name": "publushed_date",
         "rawType": "datetime64[ns]",
         "type": "datetime"
        },
        {
         "name": "comments_count",
         "rawType": "object",
         "type": "string"
        },
        {
         "name": "like_count",
         "rawType": "object",
         "type": "string"
        },
        {
         "name": "views_count",
         "rawType": "object",
         "type": "string"
        },
        {
         "name": "today",
         "rawType": "datetime64[us]",
         "type": "unknown"
        },
        {
         "name": "days_age",
         "rawType": "int64",
         "type": "integer"
        },
        {
         "name": "views_per_day",
         "rawType": "float64",
         "type": "float"
        },
        {
         "name": "success",
         "rawType": "object",
         "type": "string"
        },
        {
         "name": "prime_tag",
         "rawType": "object",
         "type": "string"
        }
       ],
       "conversionMethod": "pd.DataFrame",
       "ref": "9dadba7e-4feb-400a-a78c-73994b371812",
       "rows": [
        [
         "5480",
         "HUM2rCIUdeI",
         "['Kevin', 'Bales', 'talks', 'slavery', 'human', 'trafficking', 'economy', 'industry', 'slave', 'business', 'rights']",
         "Kevin Bales: How to combat modern slavery",
         "2010-03-29 14:59:48",
         "238",
         "1935",
         "159994",
         "2025-04-01 14:32:03.536659",
         "5481",
         "29.1906586389345",
         "no",
         "Kevin"
        ],
        [
         "5481",
         "C_SBGTJgBGo",
         "['Robert', 'Gupta', 'talks', 'Fellow', 'music', 'musician', 'violin', 'cello', 'Bach', 'LA', 'Philharmonic', 'prelude']",
         "Robert Gupta: Music is medicine, music is sanity",
         "2010-03-26 16:07:14",
         "129",
         "1013",
         "94115",
         "2025-04-01 14:32:03.536659",
         "5484",
         "17.161743253099928",
         "no",
         "Robert"
        ],
        [
         "5482",
         "MLU7qcMYKO8",
         "['Joel', 'Levine', 'talks', 'TEDxNASA', 'NASA', 'Mars', 'space', 'exploration', 'water', 'planet', 'planetary', 'science', 'rover', 'discovery', 'solar', 'system']",
         "Joel Levine: Why we need to go back to Mars",
         "2010-03-25 14:29:50",
         "275",
         "925",
         "71578",
         "2025-04-01 14:32:03.536659",
         "5486",
         "13.04739336492891",
         "no",
         "Joel"
        ],
        [
         "5483",
         "yyemG7V5ynQ",
         "['Alan', 'Siegel', 'talks', 'law', 'fine', 'print', 'legal', 'legalese', 'document', 'business', 'government', 'communication', 'contract', 'legislation', 'simplicity', 'design', 'language', 'plain', 'English']",
         "Alan Siegel: Let's simplify legal jargon!",
         "2010-03-24 15:03:44",
         "88",
         "830",
         "58353",
         "2025-04-01 14:32:03.536659",
         "5486",
         "10.636711629602624",
         "no",
         "Alan"
        ],
        [
         "5484",
         "zDcaoTVy4fA",
         "['Juliana', 'Machado', 'Ferreira', 'talks', 'Fellow', 'Brazil', 'birds', 'animals', 'biology', 'smuggling', 'wildlife', 'nature', 'preservation', 'conservation']",
         "Juliana Machado Ferreira: The fight to end rare-animal trafficking in Brazil",
         "2010-03-23 18:10:41",
         "60",
         "230",
         "25169",
         "2025-04-01 14:32:03.536659",
         "5487",
         "4.587023874612721",
         "no",
         "Juliana"
        ]
       ],
       "shape": {
        "columns": 12,
        "rows": 5
       }
      },
      "text/html": [
       "<div>\n",
       "<style scoped>\n",
       "    .dataframe tbody tr th:only-of-type {\n",
       "        vertical-align: middle;\n",
       "    }\n",
       "\n",
       "    .dataframe tbody tr th {\n",
       "        vertical-align: top;\n",
       "    }\n",
       "\n",
       "    .dataframe thead th {\n",
       "        text-align: right;\n",
       "    }\n",
       "</style>\n",
       "<table border=\"1\" class=\"dataframe\">\n",
       "  <thead>\n",
       "    <tr style=\"text-align: right;\">\n",
       "      <th></th>\n",
       "      <th>video_id</th>\n",
       "      <th>tags</th>\n",
       "      <th>title</th>\n",
       "      <th>publushed_date</th>\n",
       "      <th>comments_count</th>\n",
       "      <th>like_count</th>\n",
       "      <th>views_count</th>\n",
       "      <th>today</th>\n",
       "      <th>days_age</th>\n",
       "      <th>views_per_day</th>\n",
       "      <th>success</th>\n",
       "      <th>prime_tag</th>\n",
       "    </tr>\n",
       "  </thead>\n",
       "  <tbody>\n",
       "    <tr>\n",
       "      <th>5480</th>\n",
       "      <td>HUM2rCIUdeI</td>\n",
       "      <td>[Kevin, Bales, talks, slavery, human, traffick...</td>\n",
       "      <td>Kevin Bales: How to combat modern slavery</td>\n",
       "      <td>2010-03-29 14:59:48</td>\n",
       "      <td>238</td>\n",
       "      <td>1935</td>\n",
       "      <td>159994</td>\n",
       "      <td>2025-04-01 14:32:03.536659</td>\n",
       "      <td>5481</td>\n",
       "      <td>29.190659</td>\n",
       "      <td>no</td>\n",
       "      <td>Kevin</td>\n",
       "    </tr>\n",
       "    <tr>\n",
       "      <th>5481</th>\n",
       "      <td>C_SBGTJgBGo</td>\n",
       "      <td>[Robert, Gupta, talks, Fellow, music, musician...</td>\n",
       "      <td>Robert Gupta: Music is medicine, music is sanity</td>\n",
       "      <td>2010-03-26 16:07:14</td>\n",
       "      <td>129</td>\n",
       "      <td>1013</td>\n",
       "      <td>94115</td>\n",
       "      <td>2025-04-01 14:32:03.536659</td>\n",
       "      <td>5484</td>\n",
       "      <td>17.161743</td>\n",
       "      <td>no</td>\n",
       "      <td>Robert</td>\n",
       "    </tr>\n",
       "    <tr>\n",
       "      <th>5482</th>\n",
       "      <td>MLU7qcMYKO8</td>\n",
       "      <td>[Joel, Levine, talks, TEDxNASA, NASA, Mars, sp...</td>\n",
       "      <td>Joel Levine: Why we need to go back to Mars</td>\n",
       "      <td>2010-03-25 14:29:50</td>\n",
       "      <td>275</td>\n",
       "      <td>925</td>\n",
       "      <td>71578</td>\n",
       "      <td>2025-04-01 14:32:03.536659</td>\n",
       "      <td>5486</td>\n",
       "      <td>13.047393</td>\n",
       "      <td>no</td>\n",
       "      <td>Joel</td>\n",
       "    </tr>\n",
       "    <tr>\n",
       "      <th>5483</th>\n",
       "      <td>yyemG7V5ynQ</td>\n",
       "      <td>[Alan, Siegel, talks, law, fine, print, legal,...</td>\n",
       "      <td>Alan Siegel: Let's simplify legal jargon!</td>\n",
       "      <td>2010-03-24 15:03:44</td>\n",
       "      <td>88</td>\n",
       "      <td>830</td>\n",
       "      <td>58353</td>\n",
       "      <td>2025-04-01 14:32:03.536659</td>\n",
       "      <td>5486</td>\n",
       "      <td>10.636712</td>\n",
       "      <td>no</td>\n",
       "      <td>Alan</td>\n",
       "    </tr>\n",
       "    <tr>\n",
       "      <th>5484</th>\n",
       "      <td>zDcaoTVy4fA</td>\n",
       "      <td>[Juliana, Machado, Ferreira, talks, Fellow, Br...</td>\n",
       "      <td>Juliana Machado Ferreira: The fight to end rar...</td>\n",
       "      <td>2010-03-23 18:10:41</td>\n",
       "      <td>60</td>\n",
       "      <td>230</td>\n",
       "      <td>25169</td>\n",
       "      <td>2025-04-01 14:32:03.536659</td>\n",
       "      <td>5487</td>\n",
       "      <td>4.587024</td>\n",
       "      <td>no</td>\n",
       "      <td>Juliana</td>\n",
       "    </tr>\n",
       "  </tbody>\n",
       "</table>\n",
       "</div>"
      ],
      "text/plain": [
       "         video_id                                               tags  \\\n",
       "5480  HUM2rCIUdeI  [Kevin, Bales, talks, slavery, human, traffick...   \n",
       "5481  C_SBGTJgBGo  [Robert, Gupta, talks, Fellow, music, musician...   \n",
       "5482  MLU7qcMYKO8  [Joel, Levine, talks, TEDxNASA, NASA, Mars, sp...   \n",
       "5483  yyemG7V5ynQ  [Alan, Siegel, talks, law, fine, print, legal,...   \n",
       "5484  zDcaoTVy4fA  [Juliana, Machado, Ferreira, talks, Fellow, Br...   \n",
       "\n",
       "                                                  title      publushed_date  \\\n",
       "5480          Kevin Bales: How to combat modern slavery 2010-03-29 14:59:48   \n",
       "5481   Robert Gupta: Music is medicine, music is sanity 2010-03-26 16:07:14   \n",
       "5482        Joel Levine: Why we need to go back to Mars 2010-03-25 14:29:50   \n",
       "5483          Alan Siegel: Let's simplify legal jargon! 2010-03-24 15:03:44   \n",
       "5484  Juliana Machado Ferreira: The fight to end rar... 2010-03-23 18:10:41   \n",
       "\n",
       "     comments_count like_count views_count                      today  \\\n",
       "5480            238       1935      159994 2025-04-01 14:32:03.536659   \n",
       "5481            129       1013       94115 2025-04-01 14:32:03.536659   \n",
       "5482            275        925       71578 2025-04-01 14:32:03.536659   \n",
       "5483             88        830       58353 2025-04-01 14:32:03.536659   \n",
       "5484             60        230       25169 2025-04-01 14:32:03.536659   \n",
       "\n",
       "      days_age  views_per_day success prime_tag  \n",
       "5480      5481      29.190659      no     Kevin  \n",
       "5481      5484      17.161743      no    Robert  \n",
       "5482      5486      13.047393      no      Joel  \n",
       "5483      5486      10.636712      no      Alan  \n",
       "5484      5487       4.587024      no   Juliana  "
      ]
     },
     "execution_count": 11,
     "metadata": {},
     "output_type": "execute_result"
    }
   ],
   "source": [
    "merged_df2.tail()"
   ]
  },
  {
   "cell_type": "code",
   "execution_count": 14,
   "metadata": {},
   "outputs": [],
   "source": [
    "with open(\"stats.pkl\" , \"wb\") as f1:\n",
    "    pickle.dump(merged_df2,f1)"
   ]
  },
  {
   "cell_type": "code",
   "execution_count": 8,
   "metadata": {},
   "outputs": [
    {
     "name": "stdout",
     "output_type": "stream",
     "text": [
      "Concatenated Vertically:\n",
      "(5766, 2)\n"
     ]
    }
   ],
   "source": [
    "import pickle\n",
    "\n",
    "# Load the first pickle file\n",
    "with open('E:\\\\NLP_Recommender_System\\\\preprocessing_stage\\\\transcripts\\\\ted_video_transcripts_new.pkl', 'rb') as f5:\n",
    "    df5 = pickle.load(f5)\n",
    "\n",
    "# Load the second pickle file\n",
    "with open('E:\\\\NLP_Recommender_System\\\\preprocessing_stage\\\\transcripts\\\\ted_video_transcripts_old.pkl', 'rb') as f6:\n",
    "    df6 = pickle.load(f6)\n",
    "\n",
    "merged_df3 = pd.concat([df5, df6], ignore_index=True)\n",
    "\n",
    "# Print the result\n",
    "print(\"Concatenated Vertically:\")\n",
    "print((merged_df3).shape)"
   ]
  },
  {
   "cell_type": "code",
   "execution_count": 12,
   "metadata": {},
   "outputs": [
    {
     "data": {
      "application/vnd.microsoft.datawrangler.viewer.v0+json": {
       "columns": [
        {
         "name": "index",
         "rawType": "int64",
         "type": "integer"
        },
        {
         "name": "video_id",
         "rawType": "object",
         "type": "string"
        },
        {
         "name": "transcript",
         "rawType": "object",
         "type": "unknown"
        }
       ],
       "conversionMethod": "pd.DataFrame",
       "ref": "4cbc1acf-98e3-4d1a-8fd7-a2c9dfbbf92b",
       "rows": [
        [
         "5761",
         "n8eyF4UWG38",
         "[{'text': \"I'm standing in front of you today\"}, {'text': 'in all humility,'}, {'text': 'wanting to share with you'}, {'text': 'my journey of the last six years'}, {'text': 'in the field of service'}, {'text': 'and education.'}, {'text': \"And I'm not a trained academic.\"}, {'text': 'Neither am I a veteran social worker.'}, {'text': 'I was 26 years in the corporate world,'}, {'text': 'trying to make organizations profitable.'}, {'text': 'And then in 2003'}, {'text': 'I started Parikrma Humanity Foundation'}, {'text': 'from my kitchen table.'}, {'text': 'The first thing that we did was walk through the slums.'}, {'text': 'You know, by the way, there are two million people'}, {'text': 'in Bangalore, who live in 800 slums.'}, {'text': \"We couldn't go to all the slums,\"}, {'text': 'but we tried to cover as much as we could.'}, {'text': 'We walked through these slums,'}, {'text': 'identified houses where children would never go to school.'}, {'text': 'We talked to the parents,'}, {'text': 'tried to convince them about sending their children to school.'}, {'text': 'We played with the children,'}, {'text': 'and came back home really tired,'}, {'text': 'exhausted, but with images'}, {'text': 'of bright faces, twinkling eyes,'}, {'text': 'and went to sleep.'}, {'text': 'We were all excited to start,'}, {'text': 'but the numbers hit us then:'}, {'text': '200 million children'}, {'text': 'between four to 14 that'}, {'text': 'should be going to school, but do not;'}, {'text': '100 million children'}, {'text': 'who go to school but cannot read;'}, {'text': '125 million who cannot do basic maths.'}, {'text': 'We also heard that 250 billion Indian rupees'}, {'text': 'was dedicated for government schooling.'}, {'text': \"Ninety percent of it was spent on teachers' salary\"}, {'text': \"and administrators' salary.\"}, {'text': 'And yet, India has nearly'}, {'text': 'the highest teacher absenteeism'}, {'text': 'in the world,'}, {'text': 'with one out of four teachers'}, {'text': 'not going to school at all the entire academic year.'}, {'text': 'Those numbers were absolutely mind-boggling,'}, {'text': 'overwhelming, and we were constantly asked,'}, {'text': '\"When will you start? How many schools will you start?'}, {'text': 'How many children will you get?'}, {'text': 'How are you going to scale?'}, {'text': 'How are you going to replicate?\"'}, {'text': 'It was very difficult not to get scared, not to get daunted.'}, {'text': 'But we dug our heels'}, {'text': 'and said, \"We\\'re not in the number game.'}, {'text': 'We want to take one child at a time'}, {'text': 'and take the child right through school,'}, {'text': 'sent to college,'}, {'text': 'and get them prepared for better living,'}, {'text': 'a high value job.\"'}, {'text': 'So, we started Parikrma.'}, {'text': 'The first Parikrma school'}, {'text': 'started in a slum'}, {'text': 'where there were 70,000 people'}, {'text': 'living below the poverty line.'}, {'text': 'Our first school was'}, {'text': 'on a rooftop of a building inside the slums,'}, {'text': 'a second story building, the only second story building'}, {'text': 'inside the slums.'}, {'text': 'And that rooftop did not have'}, {'text': 'any ceiling, only half a tin sheet.'}, {'text': 'That was our first school. One hundred sixty-five children.'}, {'text': 'Indian academic year begins in June.'}, {'text': 'So, June it rains, so many a times'}, {'text': 'all of us would be huddled under the tin roof,'}, {'text': 'waiting for the rain to stop.'}, {'text': 'My God! What a bonding exercise that was.'}, {'text': 'And all of us'}, {'text': 'that were under that roof are still here together today.'}, {'text': 'Then came the second school,'}, {'text': 'the third school, the fourth school'}, {'text': 'and a junior college.'}, {'text': 'In six years now,'}, {'text': 'we have four schools, one junior college,'}, {'text': '1,100 children'}, {'text': 'coming from 28 slums'}, {'text': 'and four orphanages.'}, {'text': '(Applause)'}, {'text': 'Our dream is very simple:'}, {'text': 'to send each of these kids, get them prepared'}, {'text': 'to be educated'}, {'text': 'but also to live peacefully,'}, {'text': 'contented in this conflict-ridden'}, {'text': 'chaotic globalized world.'}, {'text': 'Now, when you talk global'}, {'text': 'you have to talk English.'}, {'text': 'And so all our schools'}, {'text': 'are English medium schools.'}, {'text': 'But they know there is this myth'}, {'text': 'that children from the slums'}, {'text': 'cannot speak English well.'}, {'text': 'No one in their family has spoken English.'}, {'text': 'No one in their generation has spoken English.'}, {'text': 'But how wrong it is.'}, {'text': 'Girl: I like adventurous books, and some of my favorites'}, {'text': 'are Alfred Hitchcock and [unclear]'}, {'text': 'and Hardy Boys.'}, {'text': 'Although they are like'}, {'text': 'in different contexts,'}, {'text': 'one is magical, the other two are like investigation,'}, {'text': 'I like those books because'}, {'text': 'they have something special in them.'}, {'text': 'The vocabulary used in those books'}, {'text': 'and the style of writing.'}, {'text': 'I mean like once I pick up one book'}, {'text': 'I cannot put it down until I finish the whole book.'}, {'text': 'Even if it takes me four and a half hours,'}, {'text': 'or three and half hours to finish my book, I do it.'}, {'text': 'Boy: I did good research and I got the information'}, {'text': \"[on the] world's fastest cars.\"}, {'text': 'I like Ducati ZZ143,'}, {'text': 'because it is the fastest,'}, {'text': \"the world's fastest bike,\"}, {'text': 'and I like Pulsar 220 DTSI'}, {'text': \"because it is India's fastest bike. (Laughter)\"}, {'text': 'Shukla Bose: Well, that girl that you saw,'}, {'text': 'her father sells flowers on the roadside.'}, {'text': 'And this little boy has been coming to school for five years.'}, {'text': \"But isn't it strange that little boys all over the world\"}, {'text': 'love fast bikes? (Laughter)'}, {'text': \"He hasn't seen one, he hasn't ridden one, of course,\"}, {'text': 'but he has done a lot of research through Google search.'}, {'text': 'You know, when we started with our English medium schools'}, {'text': 'we also decided to adopt'}, {'text': 'the best curriculum possible,'}, {'text': 'the ICSE curriculum.'}, {'text': 'And again, there were people who laughed at me'}, {'text': 'and said, \"Don\\'t be crazy'}, {'text': 'choosing such a tough curriculum for these students.'}, {'text': 'They\\'ll never be able to cope.\"'}, {'text': 'Not only do our children cope very well,'}, {'text': 'but they excel in it.'}, {'text': 'You should just come across to see'}, {'text': 'how well our children do.'}, {'text': 'There is also this myth that'}, {'text': 'parents from the slums'}, {'text': 'are not interested in their children going to school;'}, {'text': \"they'd much rather put them to work.\"}, {'text': \"That's absolute hogwash.\"}, {'text': 'All parents all over the world'}, {'text': 'want their children to lead a better life than themselves,'}, {'text': 'but they need to believe that change is possible.'}, {'text': 'Video: (Hindi)'}, {'text': 'SB: We have 80 percent attendance'}, {'text': 'for all our parents-teachers meeting.'}, {'text': \"Sometimes it's even 100 percent,\"}, {'text': 'much more than many privileged schools.'}, {'text': 'Fathers have started to attend.'}, {'text': \"It's very interesting. When we started our school\"}, {'text': 'the parents would give thumbprints in the attendance register.'}, {'text': 'Now they have started writing their signature.'}, {'text': 'The children have taught them.'}, {'text': \"It's amazing how much children can teach.\"}, {'text': 'We have, a few months ago,'}, {'text': 'actually late last year,'}, {'text': 'we had a few mothers who came to us and said,'}, {'text': '\"You know, we want to learn how to read and write.'}, {'text': 'Can you teach us?\" So, we started an afterschool'}, {'text': 'for our parents, for our mothers.'}, {'text': 'We had 25 mothers who came regularly'}, {'text': 'after school to study.'}, {'text': 'We want to continue with this program'}, {'text': 'and extend it to all our other schools.'}, {'text': 'Ninety-eight percent of our fathers are alcoholics.'}, {'text': 'So, you can imagine how traumatized'}, {'text': 'and how dysfunctional the houses are where our children come from.'}, {'text': 'We have to send the fathers to de-addiction labs'}, {'text': 'and when they come back,'}, {'text': 'most times sober, we have to find a job for them'}, {'text': \"so that they don't regress.\"}, {'text': 'We have about three fathers who have been trained to cook.'}, {'text': 'We have taught them nutrition, hygiene.'}, {'text': 'We have helped them set up the kitchen'}, {'text': 'and now they are supplying food to all our children.'}, {'text': 'They do a very good job because'}, {'text': 'their children are eating their food,'}, {'text': 'but most importantly this is the first time'}, {'text': 'they have got respect,'}, {'text': 'and they feel that they are doing something worthwhile.'}, {'text': 'More than 90 percent of our non-teaching staff'}, {'text': 'are all parents and extended families.'}, {'text': \"We've started many programs\"}, {'text': 'just to make sure that the child comes to school.'}, {'text': 'Vocational skill program for the older siblings'}, {'text': 'so the younger ones are not stopped from coming to school.'}, {'text': 'There is also this myth that children from the slums'}, {'text': 'cannot integrate with mainstream.'}, {'text': 'Take a look at this little girl'}, {'text': 'who was one of the 28 children'}, {'text': 'from all privileged schools,'}, {'text': 'best schools in the country'}, {'text': 'that was selected for the Duke University'}, {'text': 'talent identification program'}, {'text': 'and was sent to IIM Ahmedabad.'}, {'text': 'Video: Girl: Duke IIMA Camp. Whenever we see that IIMA,'}, {'text': 'it was such a pride for us to go to that camp.'}, {'text': 'Everybody was very friendly,'}, {'text': 'especially I got a lot of friends.'}, {'text': 'And I felt that my English has improved a lot'}, {'text': 'going there and chatting with friends.'}, {'text': 'There they met children who are'}, {'text': 'with a different standard and'}, {'text': 'a different mindset, a totally different society.'}, {'text': 'I mingled with almost everyone.'}, {'text': 'They were very friendly.'}, {'text': 'I had very good friends there,'}, {'text': 'who are from Delhi, who are from Mumbai.'}, {'text': 'Even now we are in touch through Facebook.'}, {'text': 'After this Ahmedabad trip'}, {'text': \"I've been like a totally different\"}, {'text': 'mingling with people and all of those.'}, {'text': \"Before that I feel like I wasn't like this.\"}, {'text': \"I don't even mingle, or start speaking with someone so quickly.\"}, {'text': 'My accent with English improved a lot.'}, {'text': 'And I learned football, volleyball,'}, {'text': 'Frisbee, lots of games.'}, {'text': \"And I wouldn't want to go to Bangalore. Let me stay here.\"}, {'text': 'Such beautiful food,'}, {'text': 'I enjoyed it. It was so beautiful.'}, {'text': 'I enjoyed eating food like'}, {'text': '[unclear] would come and ask me,'}, {'text': '\"Yes ma\\'am, what you want?\" It was so good to hear!'}, {'text': '(Laughter)'}, {'text': '(Applause)'}, {'text': 'SB: This girl was working as a maid'}, {'text': 'before she came to school.'}, {'text': 'And today she wants to be a neurologist.'}, {'text': 'Our children are doing brilliantly in sports.'}, {'text': 'They are really excelling.'}, {'text': 'There is an inter-school athletic competition'}, {'text': 'that is held every year'}, {'text': 'in Bangalore, where 5,000 children participate'}, {'text': 'from 140 best schools in the city.'}, {'text': \"We've got the best school award for three years successively.\"}, {'text': 'And our children are coming back home'}, {'text': 'with bags full of medals, with lots of admirers and friends.'}, {'text': 'Last year there were a couple of kids'}, {'text': 'from elite schools that came'}, {'text': 'to ask for admissions in our school.'}, {'text': 'We also have our very own dream team.'}, {'text': 'Why is this happening? Why this confidence?'}, {'text': 'Is it the exposure? We have professors'}, {'text': 'from MIT, Berkeley, Stanford,'}, {'text': 'Indian Institute of Science'}, {'text': 'who come and teach our children lots of scientific formulas,'}, {'text': 'experiments, much beyond the classroom.'}, {'text': 'Art, music are considered'}, {'text': 'therapy and mediums of expression.'}, {'text': 'We also believe that'}, {'text': \"it's the content that is more important.\"}, {'text': 'It is not the infrastructure,'}, {'text': 'not the toilets, not the libraries,'}, {'text': 'but it is what actually happens in this school'}, {'text': 'that is more important.'}, {'text': 'Creating an environment of learning,'}, {'text': 'of inquiry, of exploration'}, {'text': 'is what is true education.'}, {'text': 'When we started Parikrma'}, {'text': 'we had no idea which direction we were taking.'}, {'text': \"We didn't hire McKinsey to do a business plan.\"}, {'text': 'But we know for sure that'}, {'text': 'what we want to do today is'}, {'text': 'take one child at a time,'}, {'text': 'not get bogged with numbers,'}, {'text': 'and actually see the child complete'}, {'text': 'the circle of life,'}, {'text': 'and unleash his total potential.'}, {'text': 'We do not believe in scale'}, {'text': 'because we believe in quality,'}, {'text': 'and scale and numbers will automatically happen.'}, {'text': 'We have corporates that have stood behind us,'}, {'text': 'and we are able to, now, open more schools.'}, {'text': 'But we began with the idea'}, {'text': 'of one child at a time.'}, {'text': 'This is five-year-old Parusharam.'}, {'text': 'He was begging'}, {'text': 'by a bus stop a few years ago,'}, {'text': 'got picked up and is now in an orphanage,'}, {'text': 'has been coming to school for the last four and a half months.'}, {'text': \"He's in kindergarten.\"}, {'text': 'He has learned how to speak English.'}, {'text': 'We have a model by which kids can speak English'}, {'text': 'and understand English'}, {'text': \"in three month's time.\"}, {'text': 'He can tell you stories in English'}, {'text': 'of the thirsty crow, of the crocodile'}, {'text': 'and of the giraffe.'}, {'text': 'And if you ask him what he likes to do'}, {'text': 'he will say, \"I like sleeping.'}, {'text': 'I like eating. I like playing.\"'}, {'text': 'And if you ask him what he wants to do,'}, {'text': 'he will say, \"I want to horsing.\"'}, {'text': 'Now, \"horsing\" is going for a horse ride.'}, {'text': 'So, Parusharam comes to my office every day.'}, {'text': 'He comes for a tummy rub,'}, {'text': 'because he believes that will give me luck. (Laughter)'}, {'text': 'When I started Parikrma'}, {'text': 'I began with a great deal of arrogance'}, {'text': 'of transforming the world.'}, {'text': 'But today I have been transformed.'}, {'text': 'I have been changed with my children.'}, {'text': \"I've learned so much from them:\"}, {'text': 'love, compassion, imagination'}, {'text': 'and such creativity.'}, {'text': 'Parusharam is Parikrma'}, {'text': 'with a simple beginning but a long way to go.'}, {'text': 'I promise you, Parusharam'}, {'text': 'will speak in the TED conference a few years from now.'}, {'text': 'Thank you.'}, {'text': '(Applause)'}]"
        ],
        [
         "5762",
         "C_SBGTJgBGo",
         "[{'text': 'One day, Los Angeles Times columnist'}, {'text': 'Steve Lopez was walking along'}, {'text': 'the streets of downtown Los Angeles'}, {'text': 'when he heard beautiful music.'}, {'text': 'And the source was a man,'}, {'text': 'an African-American man,'}, {'text': 'charming, rugged, homeless,'}, {'text': 'playing a violin that only had two strings.'}, {'text': \"And I'm telling a story that many of you know,\"}, {'text': \"because Steve's columns became the basis\"}, {'text': 'for a book, which was turned into a movie,'}, {'text': 'with Robert Downey Jr. acting as Steve Lopez,'}, {'text': 'and Jamie Foxx as Nathaniel Anthony Ayers,'}, {'text': 'the Juilliard-trained double bassist'}, {'text': 'whose promising career was cut short'}, {'text': 'by a tragic affliction with paranoid schizophrenia.'}, {'text': 'Nathaniel dropped out of Juilliard, he suffered a complete breakdown,'}, {'text': 'and 30 years later he was living homeless'}, {'text': 'on the streets of Skid Row in downtown Los Angeles.'}, {'text': \"I encourage all of you to read Steve's book or to watch the movie\"}, {'text': 'to understand not only the beautiful bond'}, {'text': 'that formed between these two men,'}, {'text': 'but how music helped shape that bond,'}, {'text': \"and ultimately was instrumental -- if you'll pardon the pun --\"}, {'text': 'in helping Nathaniel get off the streets.'}, {'text': 'I met Mr. Ayers in 2008,'}, {'text': 'two years ago, at Walt Disney Concert Hall.'}, {'text': \"He had just heard a performance of Beethoven's First and Fourth symphonies,\"}, {'text': 'and came backstage and introduced himself.'}, {'text': 'He was speaking in a very jovial and gregarious way'}, {'text': 'about Yo-Yo Ma and Hillary Clinton'}, {'text': 'and how the Dodgers were never going to make the World Series,'}, {'text': 'all because of the treacherous first violin passage work'}, {'text': \"in the last movement of Beethoven's Fourth Symphony.\"}, {'text': 'And we got talking about music, and I got an email from Steve a few days later'}, {'text': 'saying that Nathaniel was interested in a violin lesson with me.'}, {'text': 'Now, I should mention that Nathaniel refuses treatment'}, {'text': 'because when he was treated it was with shock therapy'}, {'text': 'and Thorazine and handcuffs,'}, {'text': 'and that scar has stayed with him for his entire life.'}, {'text': 'But as a result now, he is prone to'}, {'text': 'these schizophrenic episodes,'}, {'text': 'the worst of which can manifest themselves as'}, {'text': 'him exploding'}, {'text': 'and then disappearing for days,'}, {'text': 'wandering the streets of Skid Row,'}, {'text': 'exposed to its horrors, with the torment of his own mind'}, {'text': 'unleashed upon him.'}, {'text': 'And Nathaniel was in such a state of agitation'}, {'text': 'when we started our first lesson at Walt Disney Concert Hall --'}, {'text': 'he had a kind of manic glint in his eyes,'}, {'text': 'he was lost.'}, {'text': 'And he was talking about'}, {'text': 'invisible demons and smoke,'}, {'text': 'and how someone was poisoning him in his sleep.'}, {'text': 'And I was afraid,'}, {'text': 'not for myself, but I was afraid'}, {'text': 'that I was going to lose him,'}, {'text': 'that he was going to sink into one of his states,'}, {'text': 'and that I would ruin his relationship with the violin'}, {'text': 'if I started talking about scales'}, {'text': 'and arpeggios and other exciting forms of'}, {'text': 'didactic violin pedagogy.'}, {'text': '(Laughter)'}, {'text': 'So, I just started playing.'}, {'text': 'And I played the first movement of the Beethoven Violin Concerto.'}, {'text': 'And as I played,'}, {'text': 'I understood that there was a profound change'}, {'text': \"occurring in Nathaniel's eyes.\"}, {'text': 'It was as if he was in the grip of some invisible pharmaceutical,'}, {'text': 'a chemical reaction, for which my playing the music'}, {'text': 'was its catalyst.'}, {'text': \"And Nathaniel's manic rage\"}, {'text': 'was transformed into understanding,'}, {'text': 'a quiet curiosity and grace.'}, {'text': 'And in a miracle, he lifted his own violin'}, {'text': 'and he started playing, by ear,'}, {'text': 'certain snippets of violin concertos'}, {'text': 'which he then asked me to complete -- Mendelssohn,'}, {'text': 'Tchaikovsky, Sibelius.'}, {'text': 'And we started talking about music, from Bach'}, {'text': 'to Beethoven and Brahms,'}, {'text': \"Bruckner, all the B's,\"}, {'text': 'from Bartók, all the way up to Esa-Pekka Salonen.'}, {'text': 'And I understood that he not only'}, {'text': 'had an encyclopedic knowledge of music,'}, {'text': 'but he related to this music at a personal level.'}, {'text': 'He spoke about it with the kind of passion'}, {'text': 'and understanding that I share with my colleagues'}, {'text': 'in the Los Angeles Philharmonic.'}, {'text': 'And through playing music and talking about music,'}, {'text': 'this man had transformed'}, {'text': 'from the paranoid, disturbed man'}, {'text': 'that had just come from walking the streets'}, {'text': 'of downtown Los Angeles'}, {'text': 'to the charming, erudite,'}, {'text': 'brilliant, Juilliard-trained musician.'}, {'text': 'Music is medicine. Music changes us.'}, {'text': 'And for Nathaniel, music is sanity.'}, {'text': 'Because music allows him to take his thoughts'}, {'text': 'and delusions and shape them'}, {'text': 'through his imagination and his creativity,'}, {'text': 'into reality.'}, {'text': 'And that is an escape'}, {'text': 'from his tormented state.'}, {'text': 'And I understood that this was the very essence of art.'}, {'text': 'This was the very reason why we made music,'}, {'text': 'that we take something that exists within all of us'}, {'text': 'at our very fundamental core,'}, {'text': 'our emotions,'}, {'text': 'and through our artistic lens,'}, {'text': \"through our creativity, we're able to shape those emotions into reality.\"}, {'text': 'And the reality of that expression'}, {'text': 'reaches all of us'}, {'text': 'and moves us, inspires and unites us.'}, {'text': 'And for Nathaniel,'}, {'text': 'music brought him back into a fold of friends.'}, {'text': 'The redemptive power of music brought him back'}, {'text': 'into a family of musicians'}, {'text': 'that understood him,'}, {'text': 'that recognized his talents'}, {'text': 'and respected him.'}, {'text': 'And I will always make music with Nathaniel,'}, {'text': \"whether we're at Walt Disney Concert Hall\"}, {'text': 'or on Skid Row, because he reminds me'}, {'text': 'why I became a musician.'}, {'text': 'Thank you.'}, {'text': '(Applause)'}, {'text': 'Bruno Giussani: Thank you. Thanks.'}, {'text': 'Robert Gupta.'}, {'text': '(Applause)'}, {'text': \"Robert Gupta: I'm going to play something that I shamelessly stole from cellists.\"}, {'text': 'So, please forgive me.'}, {'text': '(Laughter)'}, {'text': '(Music)'}, {'text': '(Applause)'}]"
        ],
        [
         "5763",
         "MLU7qcMYKO8",
         "[{'text': 'I want to talk about 4.6 billion years of history'}, {'text': 'in 18 minutes.'}, {'text': \"That's 300 million years per minute.\"}, {'text': \"Let's start with the first photograph NASA obtained\"}, {'text': 'of planet Mars.'}, {'text': 'This is fly-by, Mariner IV.'}, {'text': 'It was taken in 1965.'}, {'text': 'When this picture appeared,'}, {'text': 'that well-known scientific journal,'}, {'text': 'The New York Times, wrote in its editorial,'}, {'text': '\"Mars is uninteresting.'}, {'text': \"It's a dead world. NASA should not spend\"}, {'text': 'any time or effort studying Mars anymore.\"'}, {'text': 'Fortunately, our leaders in Washington'}, {'text': 'at NASA headquarters knew better'}, {'text': 'and we began a very extensive study'}, {'text': 'of the red planet.'}, {'text': 'One of the key questions in all of science,'}, {'text': '\"Is there life outside of Earth?\"'}, {'text': 'I believe that Mars is the most likely target'}, {'text': 'for life outside the Earth.'}, {'text': \"I'm going to show you in a few minutes\"}, {'text': 'some amazing measurements that suggest'}, {'text': 'there may be life on Mars.'}, {'text': 'But let me start with a Viking photograph.'}, {'text': 'This is a composite taken by Viking in 1976.'}, {'text': 'Viking was developed and managed at the'}, {'text': 'NASA Langley Research Center.'}, {'text': 'We sent two orbiters and two landers in the summer of 1976.'}, {'text': 'We had four spacecraft, two around Mars,'}, {'text': 'two on the surface --'}, {'text': 'an amazing accomplishment.'}, {'text': 'This is the first photograph taken from'}, {'text': 'the surface of any planet.'}, {'text': 'This is a Viking Lander photograph'}, {'text': 'of the surface of Mars.'}, {'text': 'And yes, the red planet is red.'}, {'text': 'Mars is half the size of the Earth,'}, {'text': 'but because two-thirds of the Earth is covered by water,'}, {'text': 'the land area on Mars'}, {'text': 'is comparable to the land area on Earth.'}, {'text': \"So, Mars is a pretty big place even though it's half the size.\"}, {'text': 'We have obtained topographic measurements'}, {'text': 'of the surface of Mars. We understand'}, {'text': 'the elevation differences.'}, {'text': 'We know a lot about Mars.'}, {'text': 'Mars has the largest volcano in the solar system,'}, {'text': 'Olympus Mons.'}, {'text': 'Mars has the Grand Canyon'}, {'text': 'of the solar system, Valles Marineris.'}, {'text': 'Very, very interesting planet.'}, {'text': 'Mars has the largest'}, {'text': 'impact crater in the solar system,'}, {'text': 'Hellas Basin.'}, {'text': 'This is 2,000 miles across.'}, {'text': 'If you happened to be on Mars'}, {'text': 'when this impactor hit,'}, {'text': 'it was a really bad day on Mars.'}, {'text': '(Laughter)'}, {'text': 'This is Olympus Mons.'}, {'text': 'This is bigger than the state of Arizona.'}, {'text': 'Volcanoes are important, because volcanoes'}, {'text': 'produce atmospheres and they produce oceans.'}, {'text': \"We're looking at Valles Marineris,\"}, {'text': 'the largest canyon in the solar system,'}, {'text': 'superimposed on a map of the United States,'}, {'text': '3,000 miles across.'}, {'text': 'One of the most intriguing features about Mars,'}, {'text': 'the National Academy of Science says'}, {'text': 'one of the 10 major mysteries of the space age,'}, {'text': 'is why certain areas of Mars'}, {'text': 'are so highly magnetized.'}, {'text': 'We call this crustal magnetism.'}, {'text': 'There are regions on Mars, where, for some reason --'}, {'text': \"we don't understand why at this point --\"}, {'text': 'the surface is very, very highly magnetized.'}, {'text': 'Is there water on Mars?'}, {'text': 'The answer is no, there is no liquid water'}, {'text': 'on the surface of Mars today.'}, {'text': 'But there is intriguing evidence'}, {'text': 'that suggests that the early history of Mars'}, {'text': 'there may have been rivers'}, {'text': 'and fast flowing water.'}, {'text': 'Today Mars is very very dry.'}, {'text': \"We believe there's some water in the polar caps,\"}, {'text': 'there are polar caps of North Pole and South Pole.'}, {'text': 'Here are some recent images.'}, {'text': 'This is from Spirit and Opportunity.'}, {'text': 'These images that show at one time,'}, {'text': 'there was very fast flowing water on the surface of Mars.'}, {'text': 'Why is water important? Water is important'}, {'text': 'because if you want life you have to have water.'}, {'text': 'Water is the key ingredient'}, {'text': 'in the evolution, the origin of life on a planet.'}, {'text': 'Here is some picture of Antarctica'}, {'text': 'and a picture of Olympus Mons,'}, {'text': 'very similar features, glaciers.'}, {'text': 'So, this is frozen water.'}, {'text': 'This is ice water on Mars.'}, {'text': 'This is my favorite picture. This was just taken a few weeks ago.'}, {'text': 'It has not been seen publicly.'}, {'text': 'This is European space agency'}, {'text': 'Mars Express, image of a crater on Mars'}, {'text': 'and in the middle of the crater'}, {'text': 'we have liquid water, we have ice.'}, {'text': 'Very intriguing photograph.'}, {'text': 'We now believe that in the early history of Mars,'}, {'text': 'which is 4.6 billion years ago,'}, {'text': '4.6 billion years ago, Mars was very Earth-like.'}, {'text': 'Mars had rivers, Mars had lakes,'}, {'text': 'but more important Mars had planetary-scale oceans.'}, {'text': 'We believe that the oceans were in the northern hemisphere,'}, {'text': 'and this area in blue,'}, {'text': 'which shows a depression of about four miles,'}, {'text': 'was the ancient ocean area'}, {'text': 'on the surface of Mars.'}, {'text': \"Where did the ocean's worth of water on Mars go?\"}, {'text': 'Well, we have an idea.'}, {'text': 'This is a measurement we obtained a few years ago'}, {'text': 'from a Mars-orbiting satellite called Odyssey.'}, {'text': 'Sub-surface water on Mars,'}, {'text': 'frozen in the form of ice.'}, {'text': \"And this shows the percent. If it's a blueish color,\"}, {'text': 'it means 16 percent by weight.'}, {'text': 'Sixteen percent, by weight, of the interior'}, {'text': 'contains frozen water, or ice.'}, {'text': 'So, there is a lot of water below the surface.'}, {'text': 'The most intriguing and puzzling measurement,'}, {'text': \"in my opinion, we've obtained of Mars,\"}, {'text': 'was released earlier this year'}, {'text': 'in the magazine Science.'}, {'text': \"And what we're looking at is the presence of the gas methane,\"}, {'text': 'CH4, in the atmosphere of Mars.'}, {'text': 'And you can see there are three distinct regions of methane.'}, {'text': 'Why is methane important?'}, {'text': 'Because on Earth, almost all --'}, {'text': '99.9 percent -- of the methane'}, {'text': 'is produced by living systems,'}, {'text': 'not little green men, but microscopic life'}, {'text': 'below the surface or at the surface.'}, {'text': 'We now have evidence'}, {'text': 'that methane is in the atmosphere of Mars,'}, {'text': 'a gas that, on Earth,'}, {'text': 'is biogenic in origin,'}, {'text': 'produced by living systems.'}, {'text': 'These are the three plumes: A, B1, B2.'}, {'text': 'And this is the terrain it appears over,'}, {'text': 'and we know from geological studies'}, {'text': 'that these regions are the oldest regions on Mars.'}, {'text': 'In fact, the Earth and Mars'}, {'text': 'are both 4.6 billion years old.'}, {'text': 'The oldest rock on Earth is only 3.6 billion.'}, {'text': 'The reason there is a billion-year gap'}, {'text': 'in our geological understanding'}, {'text': 'is because of plate tectonics,'}, {'text': 'The crust of the Earth has been recycled.'}, {'text': 'We have no geological record prior'}, {'text': 'for the first billion years.'}, {'text': 'That record exists on Mars.'}, {'text': \"And this terrain that we're looking at\"}, {'text': 'dates back to 4.6 billion years'}, {'text': 'when Earth and Mars were formed.'}, {'text': 'It was a Tuesday.'}, {'text': '(Laughter)'}, {'text': 'This is a map that shows'}, {'text': \"where we've put our spacecraft on the surface of Mars.\"}, {'text': 'Here is Viking I, Viking II.'}, {'text': 'This is Opportunity. This is Spirit.'}, {'text': 'This is Mars Pathfinder. This is Phoenix,'}, {'text': 'we just put two years ago.'}, {'text': 'Notice all of our rovers and all of our landers'}, {'text': 'have gone to the northern hemisphere.'}, {'text': \"That's because the northern hemisphere\"}, {'text': 'is the region of the ancient'}, {'text': 'ocean basin.'}, {'text': \"There aren't many craters.\"}, {'text': \"And that's because the water protected the basin\"}, {'text': 'from being impacted by asteroids and meteorites.'}, {'text': 'But look in the southern hemisphere.'}, {'text': 'In the southern hemisphere there are impact craters,'}, {'text': 'there are volcanic craters.'}, {'text': \"Here's Hellas Basin,\"}, {'text': 'a very very different place, geologically.'}, {'text': 'Look where the methane is, the methane is in a very'}, {'text': 'rough terrain area.'}, {'text': 'What is the best way to unravel'}, {'text': 'the mysteries on Mars that exist?'}, {'text': 'We asked this question 10 years ago.'}, {'text': 'We invited 10 of the top Mars scientists'}, {'text': 'to the Langley Research Center for two days.'}, {'text': 'We addressed on the board'}, {'text': 'the major questions that have not been answered.'}, {'text': 'And we spent two days deciding'}, {'text': 'how to best answer this question.'}, {'text': 'And the result of our meeting'}, {'text': 'was a robotic rocket-powered airplane we call ARES.'}, {'text': \"It's an Aerial Regional-scale Environmental Surveyor.\"}, {'text': \"There's a model of ARES here.\"}, {'text': 'This is a 20-percent scale model.'}, {'text': 'This airplane was designed at the Langley Research Center.'}, {'text': 'If any place in the world'}, {'text': 'can build an airplane to fly on Mars,'}, {'text': \"it's the Langley Research Center,\"}, {'text': 'for almost 100 years'}, {'text': 'a leading center of aeronautics in the world.'}, {'text': 'We fly about a mile above the surface.'}, {'text': 'We cover hundreds of miles,'}, {'text': 'and we fly about 450 miles an hour.'}, {'text': \"We can do things that rovers can't do\"}, {'text': \"and landers can't do:\"}, {'text': 'We can fly above mountains, volcanoes, impact craters;'}, {'text': 'we fly over valleys;'}, {'text': 'we can fly over surface magnetism,'}, {'text': 'the polar caps, subsurface water;'}, {'text': 'and we can search for life on Mars.'}, {'text': 'But, of equal importance,'}, {'text': 'as we fly through the atmosphere of Mars,'}, {'text': 'we transmit that journey,'}, {'text': 'the first flight of an airplane outside of the Earth,'}, {'text': 'we transmit those images back to Earth.'}, {'text': 'And our goal is to inspire the American public'}, {'text': 'who is paying for this mission through tax dollars.'}, {'text': 'But more important we will'}, {'text': 'inspire the next generation of scientists,'}, {'text': 'technologists, engineers and mathematicians.'}, {'text': \"And that's a critical area of national security\"}, {'text': 'and economic vitality, to make sure'}, {'text': 'we produce the next generation'}, {'text': 'of scientists, engineers, mathematicians and technologists.'}, {'text': 'This is what ARES looks like'}, {'text': 'as it flies over Mars.'}, {'text': 'We preprogram it.'}, {'text': 'We will fly where the methane is.'}, {'text': 'We will have instruments aboard the plane'}, {'text': 'that will sample, every three minutes, the atmosphere of Mars.'}, {'text': 'We will look for methane'}, {'text': 'as well as other gasses'}, {'text': 'produced by living systems.'}, {'text': 'We will pinpoint where these gases emanate from,'}, {'text': 'because we can measure the gradient where it comes from,'}, {'text': 'and there, we can direct the next mission'}, {'text': 'to land right in that area.'}, {'text': 'How do we transport an airplane to Mars?'}, {'text': 'In two words, very carefully.'}, {'text': \"The problem is we don't fly it to Mars,\"}, {'text': 'we put it in a spacecraft'}, {'text': 'and we send it to Mars.'}, {'text': \"The problem is the spacecraft's\"}, {'text': 'largest diameter is nine feet;'}, {'text': 'ARES is 21-foot wingspan, 17 feet long.'}, {'text': 'How do we get it to Mars?'}, {'text': 'We fold it,'}, {'text': 'and we transport it in a spacecraft.'}, {'text': 'And we have it in something called an aeroshell.'}, {'text': 'This is how we do it.'}, {'text': 'And we have a little video that describes the sequence.'}, {'text': 'Video: Seven, six. Green board. Five, four, three, two, one.'}, {'text': 'Main engine start, and liftoff.'}, {'text': 'Joel Levine: This is a launch from the Kennedy Space Center in Florida.'}, {'text': 'This is the spacecraft taking nine months'}, {'text': 'to get to Mars.'}, {'text': 'It enters the atmosphere of Mars.'}, {'text': 'A lot of heating,'}, {'text': \"frictional heating. It's going 18 thousand miles an hour.\"}, {'text': 'A parachute opens up to slow it down.'}, {'text': 'The thermal tiles fall off.'}, {'text': 'The airplane is exposed to the atmosphere for the first time.'}, {'text': 'It unfolds.'}, {'text': 'The rocket engine begins.'}, {'text': 'We believe that in a one-hour flight'}, {'text': 'we can rewrite the textbook on Mars'}, {'text': 'by making high-resolution measurements of the atmosphere,'}, {'text': 'looking for gases of biogenic origin,'}, {'text': 'looking for gases of volcanic origin,'}, {'text': 'studying the surface, studying the magnetism'}, {'text': \"on the surface, which we don't understand,\"}, {'text': 'as well as about a dozen other areas.'}, {'text': 'Practice makes perfect.'}, {'text': 'How do we know we can do it?'}, {'text': 'Because we have tested ARES model,'}, {'text': 'several models in a half a dozen wind tunnels'}, {'text': 'at the NASA Langley Research Center for eight years,'}, {'text': 'under Mars conditions.'}, {'text': 'And, of equal importance'}, {'text': \"is, we test ARES in the Earth's atmosphere,\"}, {'text': 'at 100,000 feet,'}, {'text': 'which is comparable to the density and pressure'}, {'text': \"of the atmosphere on Mars where we'll fly.\"}, {'text': 'Now, 100,000 feet, if you fly cross-country to Los Angeles,'}, {'text': 'you fly 37,000 feet.'}, {'text': 'We do our tests at 100,000 feet.'}, {'text': 'And I want to show you one of our tests.'}, {'text': 'This is a half-scale model.'}, {'text': 'This is a high-altitude helium balloon.'}, {'text': 'This is over Tilamook, Oregon.'}, {'text': 'We put the folded airplane on the balloon --'}, {'text': 'it took about three hours to get up there --'}, {'text': 'and then we released it on command'}, {'text': 'at 103,000 feet,'}, {'text': 'and we deploy the airplane and everything works perfectly.'}, {'text': \"And we've done\"}, {'text': 'high-altitude and low-altitude tests,'}, {'text': 'just to perfect this technique.'}, {'text': \"We're ready to go.\"}, {'text': 'I have a scale model here.'}, {'text': 'But we have a full-scale model'}, {'text': 'in storage at the NASA Langley Research Center.'}, {'text': \"We're ready to go. All we need is a check from NASA headquarters\"}, {'text': '(Laughter)'}, {'text': 'to cover the costs.'}, {'text': \"I'm prepared to donate my honorarium for today's talk\"}, {'text': 'for this mission.'}, {'text': \"There's actually no honorarium for anyone for this thing.\"}, {'text': 'This is the ARES team;'}, {'text': 'we have about 150 scientists, engineers;'}, {'text': \"where we're working with Jet Propulsion Laboratory,\"}, {'text': 'Goddard Space Flight Center,'}, {'text': 'Ames Research Center and half a dozen major universities'}, {'text': 'and corporations in developing this.'}, {'text': \"It's a large effort. It's all at NASA Langley Research Center.\"}, {'text': 'And let me conclude by saying'}, {'text': 'not too far from here,'}, {'text': 'right down the road in Kittyhawk, North Carolina,'}, {'text': 'a little more than 100 years ago'}, {'text': 'history was made'}, {'text': 'when we had the first powered flight of an airplane on Earth.'}, {'text': 'We are on the verge right now'}, {'text': 'to make the first flight of an airplane'}, {'text': \"outside the Earth's atmosphere.\"}, {'text': 'We are prepared to fly this on Mars,'}, {'text': 'rewrite the textbook about Mars.'}, {'text': \"If you're interested in more information,\"}, {'text': 'we have a website that describes this exciting'}, {'text': 'and intriguing mission, and why we want to do it.'}, {'text': 'Thank you very much.'}, {'text': '(Applause)'}]"
        ],
        [
         "5764",
         "yyemG7V5ynQ",
         "[{'text': 'So, basically we have public leaders,'}, {'text': 'public officials who are out of control;'}, {'text': 'they are writing bills that are unintelligible,'}, {'text': 'and out of these bills are going to come'}, {'text': 'maybe 40,000 pages of regulations, total complexity,'}, {'text': 'which has a dramatically negative impact on our life.'}, {'text': \"If you're a veteran coming back from Iraq or Vietnam\"}, {'text': 'you face a blizzard of paperwork to get your benefits;'}, {'text': \"if you're trying to get a small business loan,\"}, {'text': 'you face a blizzard of paperwork.'}, {'text': 'What are we going to do about it? I define simplicity'}, {'text': 'as a means to achieving clarity,'}, {'text': 'transparency and empathy,'}, {'text': 'building humanity into communications.'}, {'text': \"I've been simplifying things for 30 years.\"}, {'text': 'I come out of the advertising and design business.'}, {'text': 'My focus is understanding you people,'}, {'text': 'and how you interact with the government'}, {'text': 'to get your benefits,'}, {'text': \"how you interact with corporations to decide whom you're going to do business with,\"}, {'text': 'and how you view brands.'}, {'text': 'So, very quickly, when President Obama said,'}, {'text': '\"I don\\'t see why we can\\'t'}, {'text': 'have a one-page, plain English consumer credit agreement.\"'}, {'text': 'So, I locked myself in a room,'}, {'text': 'figured out the content,'}, {'text': 'organized the document, and wrote it in plain English.'}, {'text': \"I've had this checked by the two top\"}, {'text': 'consumer credit lawyers in the country.'}, {'text': 'This is a real thing.'}, {'text': 'Now, I went one step further and said,'}, {'text': '\"Why do we have to stick with the stodgy lawyers'}, {'text': 'and just have a paper document? Let\\'s go online.\"'}, {'text': 'And many people'}, {'text': 'might need help in computation.'}, {'text': 'Working with the Harvard Business School,'}, {'text': \"you'll see this example when you talk about minimum payment:\"}, {'text': 'If you spent 62 dollars for a meal,'}, {'text': 'the longer you take to pay out that loan,'}, {'text': 'you see, over a period of time using the minimum payment'}, {'text': \"it's 99 dollars and 17 cents.\"}, {'text': 'How about that? Do you think your bank is going to show that to people?'}, {'text': \"But it's going to work. It's more effective\"}, {'text': 'than just computational aids.'}, {'text': 'And what about terms like'}, {'text': '\"over the limit\"?'}, {'text': 'Perhaps a stealth thing.'}, {'text': 'Define it in context. Tell people what it means.'}, {'text': 'When you put it in plain English,'}, {'text': 'you almost force the institution'}, {'text': 'to give the people a way, a default out of that,'}, {'text': 'and not put themselves at risk.'}, {'text': 'Plain English is about'}, {'text': 'changing the content.'}, {'text': \"And one of the things I'm most proud of\"}, {'text': 'is this agreement for IBM.'}, {'text': \"It's a grid, it's a calendar.\"}, {'text': 'At such and such a date, IBM has responsibilities,'}, {'text': 'you have responsibilities.'}, {'text': 'Received very favorably by business.'}, {'text': 'And there is some good news to report today.'}, {'text': 'Each year, one in 10 taxpayers'}, {'text': 'receives a notice from the IRS.'}, {'text': 'There are 200 million letters that go out.'}, {'text': 'Running through this typical letter that they had,'}, {'text': 'I ran it through my simplicity lab,'}, {'text': \"it's pretty unintelligible.\"}, {'text': 'All the parts of the document in red are not intelligible.'}, {'text': 'We looked at doing over 1,000 letters that cover'}, {'text': '70 percent of their transactions in plain English.'}, {'text': 'They have been tested in the laboratory.'}, {'text': 'When I run it through my lab,'}, {'text': 'this heat-mapping shows everything'}, {'text': 'is intelligible.'}, {'text': 'And the IRS has introduced the program.'}, {'text': '(Applause)'}, {'text': 'There are a couple of things going on right now'}, {'text': 'that I want to bring to your attention.'}, {'text': 'There is a lot of discussion now'}, {'text': 'about a consumer financial protection agency,'}, {'text': 'how to mandate simplicity.'}, {'text': 'We see all this complexity.'}, {'text': \"It's incumbent upon us,\"}, {'text': 'and this organization, I believe,'}, {'text': 'to make clarity, transparency'}, {'text': 'and empathy a national priority.'}, {'text': 'There is no way that we should allow government'}, {'text': 'to communicate the way they communicate.'}, {'text': 'There is no way we should do business'}, {'text': 'with companies that have agreements'}, {'text': 'with stealth provisions and that are unintelligible.'}, {'text': 'So, how are we going to change the world?'}, {'text': 'Make clarity, transparency and simplicity a national priority.'}, {'text': 'I thank you.'}, {'text': '(Applause)'}]"
        ],
        [
         "5765",
         "zDcaoTVy4fA",
         "[{'text': 'Illegal wildlife trade in Brazil'}, {'text': 'is one of the major threats against our fauna,'}, {'text': 'especially birds,'}, {'text': 'and mainly to supply the pet market'}, {'text': 'with thousands of animals taken from nature every month,'}, {'text': 'and transported far from their origins,'}, {'text': 'to be sold mainly in Rio de Janeiro and São Paulo.'}, {'text': 'It is estimated that'}, {'text': 'all kinds of illegal wildlife trade in Brazil'}, {'text': 'withdraw from nature'}, {'text': 'almost 38 million animals every year,'}, {'text': 'a business worth almost two billion dollars.'}, {'text': 'The police intercepts'}, {'text': 'these huge cargos with live animals,'}, {'text': 'intended to supply the pet market,'}, {'text': \"or they seize the animals directly from the people's houses,\"}, {'text': 'and this is how we end up, every month,'}, {'text': 'with thousands of seized animals.'}, {'text': 'And for us to understand what happens with them,'}, {'text': \"we're going to follow Brad.\"}, {'text': 'In the eyes of many people,'}, {'text': 'after the animals are seized,'}, {'text': 'they say, \"Yay, justice has been served.'}, {'text': 'The good guys arrived,'}, {'text': 'took the cute, mistreated animals'}, {'text': 'from the hands of the evil traffickers,'}, {'text': 'and everyone lived happily ever after.\"'}, {'text': 'But did they? Actually, no,'}, {'text': 'and this is where many of our problems begin.'}, {'text': 'Because we have to figure out'}, {'text': 'what to do with all these animals.'}, {'text': 'In Brazil, they are usually first sent'}, {'text': 'to governmental triage facilities,'}, {'text': 'in which most of the cases,'}, {'text': 'the conditions are as bad as'}, {'text': 'with the traffickers.'}, {'text': 'In 2002, these centers received'}, {'text': '45,000 animals,'}, {'text': 'of which 37,000 were birds.'}, {'text': 'And the police estimates that we seize'}, {'text': \"only five percent of what's being trafficked.\"}, {'text': 'Some lucky ones -- and among them, Brad --'}, {'text': 'go to serious rehabilitation centers after that.'}, {'text': 'And in these places they are cared for.'}, {'text': 'They train their flying,'}, {'text': 'they learn how to recognize the food they will find in nature,'}, {'text': 'and they are able to socialize'}, {'text': 'with others from the same species.'}, {'text': '(Laughter)'}, {'text': 'But then what?'}, {'text': 'The Brazil Ornithological Society --'}, {'text': \"so now we're talking only birds --\"}, {'text': 'claims that we have too little knowledge'}, {'text': 'about the species in nature.'}, {'text': 'Therefore, it would be too risky'}, {'text': 'to release these animals,'}, {'text': 'both for the released and for the natural populations.'}, {'text': 'They also claim that we spend too many resources'}, {'text': 'in their rehabilitation.'}, {'text': 'Following this argument,'}, {'text': 'they suggest that all the birds'}, {'text': 'seized from non-threatened species'}, {'text': 'should be euthanized.'}, {'text': 'However, this would mean having killed'}, {'text': '26,267 birds,'}, {'text': 'only in the state of São Paulo, only in 2006.'}, {'text': 'But, some researchers, myself included --'}, {'text': 'some NGOs and some people from the Brazilian government --'}, {'text': 'believe there is an alternative.'}, {'text': 'We think that if and when the animals meet'}, {'text': 'certain criteria concerning their health,'}, {'text': 'behavior, inferred origin'}, {'text': 'and whatever we know about the natural populations,'}, {'text': 'then technically responsible releases are possible,'}, {'text': 'both for the well-being of the individual,'}, {'text': 'and for the conservation of the species and their ecosystems,'}, {'text': 'because we will be returning genes for these populations --'}, {'text': 'which could be important for them'}, {'text': 'in facing environmental challenges --'}, {'text': 'and also we could be returning'}, {'text': 'potential seed dispersers, predators, preys, etc.'}, {'text': 'All of these were released by us.'}, {'text': 'On the top, the turtles are just enjoying freedom.'}, {'text': '(Laughter)'}, {'text': 'On the middle,'}, {'text': 'this guy nested a couple of weeks after the release.'}, {'text': 'And on the bottom, my personal favorite,'}, {'text': 'the little male over there,'}, {'text': 'four hours after his release'}, {'text': 'he was together with a wild female.'}, {'text': 'So, this is not new, people have been'}, {'text': 'doing this around the world.'}, {'text': \"But it's still a big issue in Brazil.\"}, {'text': 'We believe we have performed'}, {'text': 'responsible releases.'}, {'text': \"We've registered released animals mating in nature\"}, {'text': 'and having chicks.'}, {'text': 'So, these genes are indeed going back to the populations.'}, {'text': 'However this is still a minority'}, {'text': 'for the very lack of knowledge.'}, {'text': 'So, I say, \"Let\\'s study more, let\\'s shed light on this issue,'}, {'text': 'let\\'s do whatever we can.\"'}, {'text': \"I'm devoting my career to that.\"}, {'text': \"And I'm here to urge each and every one of you\"}, {'text': 'to do whatever is in your reach:'}, {'text': 'Talk to your neighbor, teach your children,'}, {'text': 'make sure your pet is from a legal breeder.'}, {'text': 'We need to act, and act now,'}, {'text': 'before these ones are the only ones left.'}, {'text': 'Thank you very much.'}, {'text': '(Applause)'}]"
        ]
       ],
       "shape": {
        "columns": 2,
        "rows": 5
       }
      },
      "text/html": [
       "<div>\n",
       "<style scoped>\n",
       "    .dataframe tbody tr th:only-of-type {\n",
       "        vertical-align: middle;\n",
       "    }\n",
       "\n",
       "    .dataframe tbody tr th {\n",
       "        vertical-align: top;\n",
       "    }\n",
       "\n",
       "    .dataframe thead th {\n",
       "        text-align: right;\n",
       "    }\n",
       "</style>\n",
       "<table border=\"1\" class=\"dataframe\">\n",
       "  <thead>\n",
       "    <tr style=\"text-align: right;\">\n",
       "      <th></th>\n",
       "      <th>video_id</th>\n",
       "      <th>transcript</th>\n",
       "    </tr>\n",
       "  </thead>\n",
       "  <tbody>\n",
       "    <tr>\n",
       "      <th>5761</th>\n",
       "      <td>n8eyF4UWG38</td>\n",
       "      <td>[{'text': 'I'm standing in front of you today'...</td>\n",
       "    </tr>\n",
       "    <tr>\n",
       "      <th>5762</th>\n",
       "      <td>C_SBGTJgBGo</td>\n",
       "      <td>[{'text': 'One day, Los Angeles Times columnis...</td>\n",
       "    </tr>\n",
       "    <tr>\n",
       "      <th>5763</th>\n",
       "      <td>MLU7qcMYKO8</td>\n",
       "      <td>[{'text': 'I want to talk about 4.6 billion ye...</td>\n",
       "    </tr>\n",
       "    <tr>\n",
       "      <th>5764</th>\n",
       "      <td>yyemG7V5ynQ</td>\n",
       "      <td>[{'text': 'So, basically we have public leader...</td>\n",
       "    </tr>\n",
       "    <tr>\n",
       "      <th>5765</th>\n",
       "      <td>zDcaoTVy4fA</td>\n",
       "      <td>[{'text': 'Illegal wildlife trade in Brazil'},...</td>\n",
       "    </tr>\n",
       "  </tbody>\n",
       "</table>\n",
       "</div>"
      ],
      "text/plain": [
       "         video_id                                         transcript\n",
       "5761  n8eyF4UWG38  [{'text': 'I'm standing in front of you today'...\n",
       "5762  C_SBGTJgBGo  [{'text': 'One day, Los Angeles Times columnis...\n",
       "5763  MLU7qcMYKO8  [{'text': 'I want to talk about 4.6 billion ye...\n",
       "5764  yyemG7V5ynQ  [{'text': 'So, basically we have public leader...\n",
       "5765  zDcaoTVy4fA  [{'text': 'Illegal wildlife trade in Brazil'},..."
      ]
     },
     "execution_count": 12,
     "metadata": {},
     "output_type": "execute_result"
    }
   ],
   "source": [
    "merged_df3.tail()"
   ]
  },
  {
   "cell_type": "code",
   "execution_count": 15,
   "metadata": {},
   "outputs": [],
   "source": [
    "with open(\"transcript.pkl\" , \"wb\") as f3:\n",
    "    pickle.dump(merged_df3,f3)"
   ]
  }
 ],
 "metadata": {
  "kernelspec": {
   "display_name": "Python 3",
   "language": "python",
   "name": "python3"
  },
  "language_info": {
   "codemirror_mode": {
    "name": "ipython",
    "version": 3
   },
   "file_extension": ".py",
   "mimetype": "text/x-python",
   "name": "python",
   "nbconvert_exporter": "python",
   "pygments_lexer": "ipython3",
   "version": "3.12.4"
  }
 },
 "nbformat": 4,
 "nbformat_minor": 2
}
