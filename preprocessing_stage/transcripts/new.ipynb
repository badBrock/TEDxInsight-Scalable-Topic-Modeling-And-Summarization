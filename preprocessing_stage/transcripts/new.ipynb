{
 "cells": [
  {
   "cell_type": "code",
   "execution_count": 1,
   "metadata": {},
   "outputs": [],
   "source": [
    "\n",
    "from pymongo import MongoClient\n",
    "import pandas as pd\n",
    "import pickle\n",
    "\n",
    "from pymongo import MongoClient\n",
    "import pandas\n",
    "from itertools import chain\n",
    "import numpy as np\n",
    "\n"
   ]
  },
  {
   "cell_type": "code",
   "execution_count": 2,
   "metadata": {},
   "outputs": [],
   "source": [
    "json_normalize = pd.json_normalize"
   ]
  },
  {
   "cell_type": "code",
   "execution_count": 3,
   "metadata": {},
   "outputs": [],
   "source": [
    "\n",
    "from bson import json_util, ObjectId\n",
    "import json\n",
    "\n",
    "def mongo_to_dataframe(mongo_data):\n",
    "\n",
    "        sanitized = json.loads(json_util.dumps(mongo_data))\n",
    "        normalized = json_normalize(sanitized)\n",
    "        df = pd.DataFrame(normalized)\n",
    "\n",
    "        return df"
   ]
  },
  {
   "cell_type": "code",
   "execution_count": 4,
   "metadata": {},
   "outputs": [
    {
     "data": {
      "text/plain": [
       "['admin', 'config', 'local', 'ted']"
      ]
     },
     "execution_count": 4,
     "metadata": {},
     "output_type": "execute_result"
    }
   ],
   "source": [
    "client = MongoClient()\n",
    "client.list_database_names()"
   ]
  },
  {
   "cell_type": "code",
   "execution_count": 5,
   "metadata": {},
   "outputs": [
    {
     "data": {
      "text/plain": [
       "['ted_stats_new',\n",
       " 'ted_stats',\n",
       " 'ted_comments_new',\n",
       " 'ted_transcript_new',\n",
       " 'ted_comments_old',\n",
       " 'ted_transcript_old']"
      ]
     },
     "execution_count": 5,
     "metadata": {},
     "output_type": "execute_result"
    }
   ],
   "source": [
    "\n",
    "db = client.ted\n",
    "db.list_collection_names()"
   ]
  },
  {
   "cell_type": "code",
   "execution_count": 6,
   "metadata": {},
   "outputs": [],
   "source": [
    "cursor = db.ted_transcript_new.find({}, {'_id':0, 'url': 1, 'transcript.text':1})"
   ]
  },
  {
   "cell_type": "code",
   "execution_count": 7,
   "metadata": {},
   "outputs": [],
   "source": [
    "\n",
    "df = pd.DataFrame(list(cursor))"
   ]
  },
  {
   "cell_type": "code",
   "execution_count": 8,
   "metadata": {},
   "outputs": [
    {
     "name": "stdout",
     "output_type": "stream",
     "text": [
      "<class 'pandas.core.frame.DataFrame'>\n",
      "RangeIndex: 3211 entries, 0 to 3210\n",
      "Data columns (total 2 columns):\n",
      " #   Column      Non-Null Count  Dtype \n",
      "---  ------      --------------  ----- \n",
      " 0   url         3211 non-null   object\n",
      " 1   transcript  3065 non-null   object\n",
      "dtypes: object(2)\n",
      "memory usage: 50.3+ KB\n"
     ]
    }
   ],
   "source": [
    "\n",
    "df.info()"
   ]
  },
  {
   "cell_type": "code",
   "execution_count": 9,
   "metadata": {},
   "outputs": [],
   "source": [
    "df = df.dropna()"
   ]
  },
  {
   "cell_type": "code",
   "execution_count": 10,
   "metadata": {},
   "outputs": [
    {
     "data": {
      "application/vnd.microsoft.datawrangler.viewer.v0+json": {
       "columns": [
        {
         "name": "index",
         "rawType": "int64",
         "type": "integer"
        },
        {
         "name": "url",
         "rawType": "object",
         "type": "string"
        },
        {
         "name": "transcript",
         "rawType": "object",
         "type": "unknown"
        }
       ],
       "conversionMethod": "pd.DataFrame",
       "ref": "8f5cfc6c-304e-4598-8fa9-1a971cbd9315",
       "rows": [
        [
         "0",
         "0PAy1zBtTbw",
         "[{'text': 'Two weeks ago I was in my studio in Paris,'}, {'text': 'and the phone rang and I heard,'}, {'text': '\"Hey, JR,'}, {'text': 'you won the TED Prize 2011.'}, {'text': 'You have to make a wish to save the world.\"'}, {'text': 'I was lost.'}, {'text': \"I mean, I can't save the world. Nobody can.\"}, {'text': 'The world is fucked up.'}, {'text': 'Come on, you have dictators ruling the world,'}, {'text': 'population is growing by millions,'}, {'text': \"there's no more fish in the sea,\"}, {'text': 'the North Pole is melting'}, {'text': 'and as the last TED Prize winner said,'}, {'text': \"we're all becoming fat.\"}, {'text': '(Laughter)'}, {'text': 'Except maybe French people.'}, {'text': 'Whatever.'}, {'text': 'So I called back'}, {'text': 'and I told her,'}, {'text': '\"Look, Amy,'}, {'text': \"tell the TED guys I just won't show up.\"}, {'text': 'I can\\'t do anything to save the world.\"'}, {'text': 'She said, \"Hey, JR,'}, {'text': 'your wish is not to save the world, but to change the world.\"'}, {'text': '\"Oh, all right.\"'}, {'text': '(Laughter)'}, {'text': '\"That\\'s cool.\"'}, {'text': 'I mean, technology, politics, business'}, {'text': 'do change the world --'}, {'text': 'not always in a good way, but they do.'}, {'text': 'What about art?'}, {'text': 'Could art change the world?'}, {'text': 'I started when I was 15 years old.'}, {'text': 'And at that time, I was not thinking about changing the world.'}, {'text': 'I was doing graffiti --'}, {'text': 'writing my name everywhere,'}, {'text': 'using the city as a canvas.'}, {'text': 'I was going in the tunnels of Paris,'}, {'text': 'on the rooftops with my friends.'}, {'text': 'Each trip was an excursion,'}, {'text': 'was an adventure.'}, {'text': 'It was like leaving our mark on society,'}, {'text': 'to say, \"I was here,\" on the top of a building.'}, {'text': 'So when I found a cheap camera on the subway,'}, {'text': 'I started documenting those adventures with my friends'}, {'text': 'and gave them back as photocopies --'}, {'text': 'really small photos just that size.'}, {'text': \"That's how, at 17 years old,\"}, {'text': 'I started pasting them.'}, {'text': 'And I did my first \"expo de rue,\"'}, {'text': 'which means sidewalk gallery.'}, {'text': 'And I framed it with color'}, {'text': 'so you would not confuse it with advertising.'}, {'text': \"I mean, the city's the best gallery I could imagine.\"}, {'text': 'I would never have to make a book and then present it to a gallery'}, {'text': 'and let them decide'}, {'text': 'if my work was nice enough to show it to people.'}, {'text': 'I would control it directly with the public'}, {'text': 'in the streets.'}, {'text': \"So that's Paris.\"}, {'text': 'I would change --'}, {'text': 'depending on the places I would go --'}, {'text': 'the title of the exhibition.'}, {'text': \"That's on the Champs-Elysees.\"}, {'text': 'I was quite proud of that one.'}, {'text': 'Because I was just 18'}, {'text': 'and I was just up there on the top of the Champs-Elysees.'}, {'text': 'Then when the photo left,'}, {'text': 'the frame was still there.'}, {'text': '(Laughter)'}, {'text': 'November 2005:'}, {'text': 'the streets are burning.'}, {'text': 'A large wave of riots'}, {'text': 'had broken into the first projects of Paris.'}, {'text': 'Everyone was glued to the TV,'}, {'text': 'watching disturbing, frightening images'}, {'text': 'taken from the edge of the neighborhood.'}, {'text': 'I mean, these kids, without control,'}, {'text': 'throwing Molotov cocktails,'}, {'text': 'attacking the cops and the firemen,'}, {'text': 'looting everything they could in the shops.'}, {'text': 'These were criminals, thugs, dangerous,'}, {'text': 'destroying their own environment.'}, {'text': 'And then I saw it -- could it be possible? --'}, {'text': 'my photo on a wall'}, {'text': 'revealed by a burning car --'}, {'text': \"a pasting I'd done a year earlier --\"}, {'text': 'an illegal one -- still there.'}, {'text': 'I mean, these were the faces of my friends.'}, {'text': 'I know those guys.'}, {'text': 'All of them are not angels,'}, {'text': \"but they're not monsters either.\"}, {'text': 'So it was kind of weird to see'}, {'text': 'those images and those eyes stare back at me through a television.'}, {'text': 'So I went back there'}, {'text': 'with a 28 mm lens.'}, {'text': 'It was the only one I had at that time.'}, {'text': 'But with that lens,'}, {'text': 'you have to be as close as 10 inches from the person.'}, {'text': 'So you can do it only with their trust.'}, {'text': 'So I took full portraits of people from Le Bosquet.'}, {'text': 'They were making scary faces'}, {'text': 'to play the caricature of themselves.'}, {'text': 'And then I pasted huge posters everywhere'}, {'text': 'in the bourgeois area of Paris'}, {'text': 'with the name, age, even building number'}, {'text': 'of these guys.'}, {'text': 'A year later,'}, {'text': 'the exhibition was displayed in front of the city hall of Paris.'}, {'text': 'And we go from thug images,'}, {'text': \"who've been stolen and distorted by the media,\"}, {'text': \"who's now proudly taking over his own image.\"}, {'text': \"That's where I realized\"}, {'text': 'the power of paper and glue.'}, {'text': 'So could art change the world?'}, {'text': 'A year later,'}, {'text': 'I was listening to all the noise'}, {'text': 'about the Middle East conflict.'}, {'text': 'I mean, at that time, trust me,'}, {'text': 'they were only referring to the Israeli and Palestinian conflict.'}, {'text': 'So with my friend Marco,'}, {'text': 'we decided to go there'}, {'text': 'and see who are the real Palestinians and who are the real Israelis.'}, {'text': 'Are they so different?'}, {'text': 'When we got there, we just went in the street,'}, {'text': 'started talking with people everywhere,'}, {'text': 'and we realized that things were a bit different'}, {'text': 'from the rhetoric we heard in the media.'}, {'text': 'So we decided to take portraits'}, {'text': 'of Palestinians and Israelis'}, {'text': 'doing the same jobs --'}, {'text': 'taxi-driver, lawyer, cooks.'}, {'text': 'Asked them to make a face as a sign of commitment.'}, {'text': \"Not a smile -- that really doesn't tell\"}, {'text': 'about who you are and what you feel.'}, {'text': 'They all accepted'}, {'text': 'to be pasted next to the other.'}, {'text': 'I decided to paste'}, {'text': 'in eight Israeli and Palestinian cities'}, {'text': 'and on both sides of the wall.'}, {'text': 'We launched the biggest illegal art exhibition ever.'}, {'text': 'We called the project Face 2 Face.'}, {'text': 'The experts said, \"No way.'}, {'text': 'The people will not accept.'}, {'text': 'The army will shoot you, and Hamas will kidnap you.\"'}, {'text': 'We said, \"Okay, let\\'s try and push as far as we can.\"'}, {'text': 'I love the way that people will ask me,'}, {'text': '\"How big will my photo be?\"'}, {'text': '\"It will be as big as your house.\"'}, {'text': 'When we did the wall, we did the Palestinian side.'}, {'text': 'So we arrived with just our ladders'}, {'text': 'and we realized that they were not high enough.'}, {'text': 'And so Palestinians guys say,'}, {'text': '\"Calm down. No wait. I\\'m going to find you a solution.\"'}, {'text': 'So he went to the Church of Nativity'}, {'text': 'and brought back an old ladder'}, {'text': 'that was so old that it could have seen Jesus being born.'}, {'text': '(Laughter)'}, {'text': 'We did Face 2 Face with only six friends,'}, {'text': 'two ladders, two brushes,'}, {'text': 'a rented car, a camera'}, {'text': 'and 20,000 square feet of paper.'}, {'text': 'We had all sorts of help'}, {'text': 'from all walks of life.'}, {'text': \"Okay, for example, that's Palestine.\"}, {'text': \"We're in Ramallah right now.\"}, {'text': \"We're pasting portraits --\"}, {'text': 'so both portraits in the streets in a crowded market.'}, {'text': 'People come around us and start asking,'}, {'text': '\"What are you doing here?\"'}, {'text': '\"Oh, we\\'re actually doing an art project'}, {'text': 'and we are pasting an Israeli and a Palestinian doing the same job.'}, {'text': 'And those ones are actually two taxi-drivers.\"'}, {'text': 'And then there was always a silence.'}, {'text': '\"You mean you\\'re pasting an Israeli face --'}, {'text': 'doing a face -- right here?\"'}, {'text': '\"Well, yeah, yeah, that\\'s part of the project.\"'}, {'text': 'And I would always leave that moment,'}, {'text': 'and we would ask them,'}, {'text': '\"So can you tell me who is who?\"'}, {'text': \"And most of them couldn't say.\"}, {'text': '(Applause)'}, {'text': 'We even pasted on Israeli military towers,'}, {'text': 'and nothing happened.'}, {'text': \"When you paste an image, it's just paper and glue.\"}, {'text': 'People can tear it, tag on it, or even pee on it --'}, {'text': 'some are a bit high for that, I agree --'}, {'text': 'but the people in the street,'}, {'text': 'they are the curator.'}, {'text': 'The rain and the wind will take them off anyway.'}, {'text': 'They are not meant to stay.'}, {'text': 'But exactly four years after,'}, {'text': 'the photos, most of them are still there.'}, {'text': 'Face 2 Face demonstrated'}, {'text': 'that what we thought impossible was possible --'}, {'text': 'and, you know what, even easy.'}, {'text': \"We didn't push the limit;\"}, {'text': 'we just showed that they were further than anyone thought.'}, {'text': 'In the Middle East, I experienced my work'}, {'text': 'in places without [many] museums.'}, {'text': 'So the reactions in the street'}, {'text': 'were kind of interesting.'}, {'text': 'So I decided to go further in this direction'}, {'text': 'and go in places where there were zero museums.'}, {'text': 'When you go in these developing societies,'}, {'text': 'women are the pillars of their community,'}, {'text': 'but the men are still the ones holding the streets.'}, {'text': 'So we were inspired to create a project'}, {'text': 'where men will pay tribute to women'}, {'text': 'by posting their photos.'}, {'text': 'I called that project Women Are Heroes.'}, {'text': 'When I listened to all the stories'}, {'text': 'everywhere I went on the continents,'}, {'text': \"I couldn't always understand\"}, {'text': 'the complicated circumstances of their conflict.'}, {'text': 'I just observed.'}, {'text': 'Sometimes there was no words,'}, {'text': 'no sentence, just tears.'}, {'text': 'I just took their pictures'}, {'text': 'and pasted them.'}, {'text': 'Women Are Heroes took me around the world.'}, {'text': 'Most of the places I went to,'}, {'text': 'I decided to go there'}, {'text': \"because I've heard about it through the media.\"}, {'text': 'So for example, in June 2008,'}, {'text': 'I was watching TV in Paris,'}, {'text': 'and then I heard about this terrible thing'}, {'text': 'that happened in Rio de Janeiro --'}, {'text': 'the first favela of Brazil named Providencia.'}, {'text': 'Three kids -- that was three students --'}, {'text': 'were [detained] by the army'}, {'text': 'because they were not carrying their papers.'}, {'text': 'And the army took them,'}, {'text': 'and instead of bringing them to the police station,'}, {'text': 'they brought them to an enemy favela'}, {'text': 'where they get chopped into pieces.'}, {'text': 'I was shocked.'}, {'text': 'All Brazil was shocked.'}, {'text': 'I heard it was one of the most violent favelas,'}, {'text': 'because the largest drug cartel controls it.'}, {'text': 'So I decided to go there.'}, {'text': 'When I arrived --'}, {'text': \"I mean, I didn't have any contact with any NGO.\"}, {'text': 'There was none in place -- no association, no NGOs, nothing --'}, {'text': 'no eyewitnesses.'}, {'text': 'So we just walked around,'}, {'text': 'and we met a woman,'}, {'text': 'and I showed her my book.'}, {'text': 'And she said, \"You know what?'}, {'text': \"We're hungry for culture.\"}, {'text': 'We need culture out there.\"'}, {'text': 'So I went out and I started with the kids.'}, {'text': 'I just took a few photos of the kids,'}, {'text': 'and the next day I came with the posters and we pasted them.'}, {'text': 'The day after, I came back and they were already scratched.'}, {'text': \"But that's okay.\"}, {'text': 'I wanted them to feel that this art belongs to them.'}, {'text': 'Then the next day, I held a meeting on the main square'}, {'text': 'and some women came.'}, {'text': 'They were all linked to the three kids that got killed.'}, {'text': 'There was the mother, the grandmother, the best friend --'}, {'text': 'they all wanted to shout the story.'}, {'text': 'After that day,'}, {'text': 'everyone in the favela gave me the green light.'}, {'text': 'I took more photos, and we started the project.'}, {'text': 'The drug lords were kind of worried'}, {'text': 'about us filming in the place,'}, {'text': 'so I told them, \"You know what?'}, {'text': \"I'm not interested in filming the violence and the weapons.\"}, {'text': 'You see that enough in the media.'}, {'text': 'What I want to show is the incredible life and energy.'}, {'text': 'I\\'ve been seeing it around me the last few days.\"'}, {'text': \"So that's a really symbolic pasting,\"}, {'text': \"because that's the first one we did that you couldn't see from the city.\"}, {'text': \"And that's where the three kids got arrested,\"}, {'text': \"and that's the grandmother of one of them.\"}, {'text': 'And on that stairs,'}, {'text': \"that's where the traffickers always stand\"}, {'text': \"and there's a lot of exchange of fire.\"}, {'text': 'Everyone there understood the project.'}, {'text': 'And then we pasted everywhere -- the whole hill.'}, {'text': '(Applause)'}, {'text': \"What was interesting is that the media couldn't get in.\"}, {'text': 'I mean, you should see that.'}, {'text': 'They would have to film us from a really long distance by helicopter'}, {'text': 'and then have a really long lens,'}, {'text': 'and we would see ourselves, on TV, pasting.'}, {'text': 'And they would put a number: \"Please call this number'}, {'text': 'if you know what\\'s going on in Providencia.\"'}, {'text': 'We just did a project and then left'}, {'text': \"so the media wouldn't know.\"}, {'text': 'So how can we know about the project?'}, {'text': 'So they had to go and find the women'}, {'text': 'and get an explanation from them.'}, {'text': 'So you create a bridge between the media'}, {'text': 'and the anonymous women.'}, {'text': 'We kept traveling.'}, {'text': 'We went to Africa, Sudan, Sierra Leone,'}, {'text': 'Liberia, Kenya.'}, {'text': 'In war-torn places like Monrovia,'}, {'text': 'people come straight to you.'}, {'text': \"I mean, they want to know what you're up to.\"}, {'text': 'They kept asking me, \"What is the purpose of your project?'}, {'text': 'Are you an NGO? Are you the media?\"'}, {'text': 'Art. Just doing art.'}, {'text': 'Some people question, \"Why is it in black and white?'}, {'text': 'Don\\'t you have color in France?\"'}, {'text': '(Laughter)'}, {'text': 'Or they tell you, \"Are these people all dead?\"'}, {'text': 'Some who understood the project would explain it to others.'}, {'text': 'And to a man who did not understand, I heard someone say,'}, {'text': '\"You know, you\\'ve been here for a few hours'}, {'text': 'trying to understand, discussing with your fellows.'}, {'text': \"During that time, you haven't thought about\"}, {'text': \"what you're going to eat tomorrow.\"}, {'text': 'This is art.\"'}, {'text': \"I think it's people's curiosity\"}, {'text': 'that motivates them'}, {'text': 'to come into the projects.'}, {'text': 'And then it becomes more.'}, {'text': 'It becomes a desire, a need, an armor.'}, {'text': \"On this bridge that's in Monrovia,\"}, {'text': 'ex-rebel soldiers helped us pasting a portrait'}, {'text': 'of a woman that might have been raped during the war.'}, {'text': 'Women are always the first ones targeted'}, {'text': 'during conflict.'}, {'text': 'This is Kibera, Kenya,'}, {'text': 'one of the largest slums of Africa.'}, {'text': 'You might have seen images about the post-election violence'}, {'text': 'that happened there in 2008.'}, {'text': 'This time we covered the roofs of the houses,'}, {'text': \"but we didn't use paper,\"}, {'text': \"because paper doesn't prevent the rain\"}, {'text': 'from leaking inside the house --'}, {'text': 'vinyl does.'}, {'text': 'Then art becomes useful.'}, {'text': 'So the people kept it.'}, {'text': 'You know what I love is, for example, when you see the biggest eye there,'}, {'text': 'there are so [many] houses inside.'}, {'text': 'And I went there a few months ago --'}, {'text': 'photos are still there -- and it was missing a piece of the eye.'}, {'text': 'So I asked the people what happened.'}, {'text': '\"Oh, that guy just moved.\"'}, {'text': '(Laughter)'}, {'text': 'When the roofs were covered, a woman said as a joke,'}, {'text': '\"Now God can see me.\"'}, {'text': 'When you look at Kibera now,'}, {'text': 'they look back.'}, {'text': 'Okay, India.'}, {'text': 'Before I start that, just so you know,'}, {'text': \"each time we go to a place, we don't have authorization,\"}, {'text': 'so we set up like commandos --'}, {'text': \"we're a group of friends who arrive there,\"}, {'text': 'and we try to paste on the walls.'}, {'text': \"But there are places where you just can't paste on a wall.\"}, {'text': 'In India it was just impossible to paste.'}, {'text': 'I heard culturally and because of the law,'}, {'text': 'they would just arrest us at the first pasting.'}, {'text': 'So we decided to paste white,'}, {'text': 'white on the walls.'}, {'text': 'So imagine white guys pasting white papers.'}, {'text': 'So people would come to us and ask us,'}, {'text': '\"Hey, what are you up to?\"'}, {'text': '\"Oh, you know, we\\'re just doing art.\" \"Art?\"'}, {'text': 'Of course, they were confused.'}, {'text': 'But you know how India has a lot of dust in the streets,'}, {'text': 'and the more dust you would have'}, {'text': 'going up in the air,'}, {'text': 'on the white paper you can almost see,'}, {'text': 'but there is this sticky part'}, {'text': 'like when you reverse a sticker.'}, {'text': 'So the more dust you have, the more it will reveal the photo.'}, {'text': 'So we could just walk in the street during the next days'}, {'text': 'and the photos would get revealed by themselves.'}, {'text': '(Applause)'}, {'text': 'Thank you.'}, {'text': \"So we didn't get caught this time.\"}, {'text': \"Each project -- that's a film\"}, {'text': 'from Women Are Heroes.'}, {'text': '(Music)'}, {'text': 'Okay.'}, {'text': 'For each project we do'}, {'text': 'a film.'}, {'text': 'And most of what you see -- that\\'s a trailer from \"Women Are Heroes\" --'}, {'text': 'its images, photography,'}, {'text': 'taken one after the other.'}, {'text': 'And the photos kept traveling even without us.'}, {'text': '(Laughter)'}, {'text': '(Applause)'}, {'text': \"Hopefully, you'll see the film,\"}, {'text': \"and you'll understand the scope of the project\"}, {'text': 'and what the people felt when they saw those photos.'}, {'text': \"Because that's a big part of it. There's layers behind each photo.\"}, {'text': 'Behind each image is a story.'}, {'text': 'Women Are Heroes created a new dynamic'}, {'text': 'in each of the communities,'}, {'text': 'and the women kept that dynamic after we left.'}, {'text': 'For example, we did books -- not for sale --'}, {'text': 'that all the community would get.'}, {'text': 'But to get it, they would have to [get] it signed by one of the women.'}, {'text': 'We did that in most of the places.'}, {'text': 'We go back regularly.'}, {'text': 'And so in Providencia, for example, in the favela,'}, {'text': 'we have a cultural center running there.'}, {'text': 'In Kibera, each year we cover more roofs.'}, {'text': 'Because of course, when we left, the people who were just at the edge of the project'}, {'text': 'said, \"Hey, what about my roof?\"'}, {'text': 'So we decided to come the year after'}, {'text': 'and keep doing the project.'}, {'text': 'A really important point for me'}, {'text': \"is that I don't use any brand or corporate sponsors.\"}, {'text': 'So I have no responsibility'}, {'text': 'to anyone but myself'}, {'text': 'and the subjects.'}, {'text': '(Applause)'}, {'text': 'And that is for me'}, {'text': 'one of the more important things in the work.'}, {'text': 'I think, today,'}, {'text': 'as important as the result is the way you do things.'}, {'text': 'And that has always been a central part of the work.'}, {'text': \"And what's interesting is that fine line that I have\"}, {'text': 'with images and advertising.'}, {'text': 'We just did some pasting in Los Angeles'}, {'text': 'on another project in the last weeks.'}, {'text': 'And I was even invited to cover the MOCA museum.'}, {'text': 'But yesterday the city called them and said,'}, {'text': '\"Look, you\\'re going to have to tear it down.'}, {'text': 'Because this can be taken for advertising,'}, {'text': 'and because of the law,'}, {'text': 'it has to be taken down.\"'}, {'text': 'But tell me, advertising for what?'}, {'text': 'The people I photograph'}, {'text': 'were proud to participate in the project'}, {'text': 'and to have their photo in the community.'}, {'text': 'But they asked me for a promise basically.'}, {'text': 'They asked me, \"Please, make our story travel with you.\"'}, {'text': \"So I did. That's Paris.\"}, {'text': \"That's Rio.\"}, {'text': 'In each place, we built exhibitions with a story, and the story traveled.'}, {'text': 'You understand the full scope of the project.'}, {'text': \"That's London.\"}, {'text': 'New York.'}, {'text': 'And today, they are with you in Long Beach.'}, {'text': 'All right, recently I started a public art project'}, {'text': \"where I don't use my artwork anymore.\"}, {'text': 'I use Man Ray, Helen Levitt,'}, {'text': \"Giacomelli, other people's artwork.\"}, {'text': \"It doesn't matter today if it's your photo or not.\"}, {'text': 'The importance is what you do'}, {'text': 'with the images,'}, {'text': \"the statement it makes where it's pasted.\"}, {'text': 'So for example, I pasted the photo of the minaret'}, {'text': 'in Switzerland'}, {'text': 'a few weeks after they voted the law forbidding minarets in the country.'}, {'text': '(Applause)'}, {'text': 'This image of three men wearing gas masks'}, {'text': 'was taken in Chernobyl originally,'}, {'text': 'and I pasted it in Southern Italy,'}, {'text': 'where the mafia sometimes bury the garbage under the ground.'}, {'text': 'In some ways, art can change the world.'}, {'text': 'Art is not supposed to change the world,'}, {'text': 'to change practical things,'}, {'text': 'but to change perceptions.'}, {'text': 'Art can change'}, {'text': 'the way we see the world.'}, {'text': 'Art can create an analogy.'}, {'text': 'Actually the fact that art cannot change things'}, {'text': 'makes it a neutral place'}, {'text': 'for exchanges and discussions,'}, {'text': 'and then enables you to change the world.'}, {'text': 'When I do my work,'}, {'text': 'I have two kinds of reactions.'}, {'text': 'People say, \"Oh, why don\\'t you go in Iraq or Afghanistan.'}, {'text': 'They would be really useful.\"'}, {'text': 'Or, \"How can we help?\"'}, {'text': 'I presume that you belong to the second category,'}, {'text': \"and that's good,\"}, {'text': 'because for that project,'}, {'text': \"I'm going to ask you to take the photos\"}, {'text': 'and paste them.'}, {'text': 'So now my wish is:'}, {'text': '(mock drum roll)'}, {'text': '(Laughter)'}, {'text': 'I wish for you to stand up'}, {'text': 'for what you care about'}, {'text': 'by participating in a global art project,'}, {'text': \"and together we'll turn the world inside out.\"}, {'text': 'And this starts right now.'}, {'text': 'Yes, everyone in the room.'}, {'text': 'Everyone watching.'}, {'text': 'I wanted that wish'}, {'text': 'to actually start now.'}, {'text': \"So a subject you're passionate about, a person who you want to tell their story\"}, {'text': 'or even your own photos --'}, {'text': 'tell me what you stand for.'}, {'text': 'Take the photos, the portraits,'}, {'text': \"upload it -- I'll give you all the details --\"}, {'text': \"and I'll send you back your poster. Join by groups\"}, {'text': 'and reveal things to the world.'}, {'text': 'The full data is on the website --'}, {'text': 'insideoutproject.net --'}, {'text': 'that is launching today.'}, {'text': 'What we see changes who we are.'}, {'text': 'When we act together,'}, {'text': 'the whole thing is much more than the sum of the parts.'}, {'text': \"So I hope that, together, we'll create something\"}, {'text': 'that the world will remember.'}, {'text': 'And this starts right now and depends on you.'}, {'text': 'Thank you.'}, {'text': '(Applause)'}, {'text': 'Thank you.'}, {'text': '(Applause)'}]"
        ],
        [
         "1",
         "4SCrXqbhmCY",
         "[{'text': \"I'm a therapist whose job it is to help\\npeople create healthier relationships.\"}, {'text': 'And let me tell you,'}, {'text': 'it can be really hard\\nto tell someone what you need.'}, {'text': 'It takes a lot of courage\\nto stand up and say,'}, {'text': '\"This is the way I want to be treated.\"'}, {'text': \"Most of us aren't so great at vocalizing\\nto the people in our lives\"}, {'text': 'what makes us feel respected and valued.'}, {'text': \"It's true with friends, family, partners,\\nand it's also true at work.\"}, {'text': \"You've got to set healthy boundaries.\"}, {'text': '[The Way We Work]'}, {'text': 'Boundaries can be an intimidating term,'}, {'text': \"but they're very simply the expectations\\nand needs that help us feel safe\"}, {'text': 'and comfortable in relationships.'}, {'text': 'Work is the relationship\\nwe spend the most time in,'}, {'text': \"and yet it's also the place where we have\\nthe hardest time setting limits.\"}, {'text': \"We're scared that people\\nwon't see us as a team player.\"}, {'text': 'Our employers have boundaries built in,'}, {'text': 'like the time your workday begins'}, {'text': 'and how many vacation days you can have.'}, {'text': 'But work boundaries\\nneed to be a two-way street:'}, {'text': 'boundaries for your employer\\nand boundaries for you.'}, {'text': 'Setting them can help you feel happier'}, {'text': 'and more fulfilled in your roles,'}, {'text': 'not to mention less exhausted\\nand overwhelmed at work.'}, {'text': 'We often assume that other people\\nhave the same rules for life as we do.'}, {'text': 'We think they can tell our preferences'}, {'text': 'and know our feelings\\nfrom our body language.'}, {'text': \"But no one, not the people\\nyou've known for years\"}, {'text': 'and certainly not your coworkers,\\ncan read your mind.'}, {'text': 'You have to explicitly\\nstate what you need.'}, {'text': 'Communicating what works for us\\nis one of the kindest things we can do.'}, {'text': 'The short-term discomfort is so worth it'}, {'text': 'for the long-term ease of having\\nhealthier boundaries in the workplace.'}, {'text': 'Here are three steps\\nto help you get started.'}, {'text': 'Step one: identify the boundaries\\nyou need to set.'}, {'text': 'There are so many different kinds.'}, {'text': 'For example,'}, {'text': \"you can tell a colleague what hours\\nyou are and aren't available to work.\"}, {'text': 'You can share that you need to leave\\nthe office promptly at five'}, {'text': 'to pick up your children'}, {'text': 'or that you log off fully\\non the weekends to really recharge.'}, {'text': 'You can tell them how you\\nprefer to communicate,'}, {'text': 'that you enjoy talking by phone\\nrather than instant messaging or texting.'}, {'text': 'Especially with your bosses,'}, {'text': 'you can set boundaries\\naround how you like feedback.'}, {'text': 'You can say, \"I work best\\nwith clear deadlines.'}, {'text': 'Can you please set one?\"'}, {'text': 'Or you can tell them you like\\nwritten notes on your work'}, {'text': 'so you have time to digest the feedback.'}, {'text': 'You can set boundaries\\non how you interact with people socially.'}, {'text': 'For example,'}, {'text': '“It makes me feel uncomfortable\\nwhen you share gossip at my desk.”'}, {'text': 'Or “No, I’m not interested\\nin drinks after work,'}, {'text': 'but I\\'d love to go\\nto a yoga class with you.\"'}, {'text': 'You can even set boundaries\\naround your calendar'}, {'text': 'and ask that people ask you\\nbefore throwing a meeting on it'}, {'text': 'as you prefer to be aware\\nof what your day looks like.'}, {'text': 'Step two: think about how and when\\nto make the statement.'}, {'text': 'Boundaries are like classroom rules.'}, {'text': 'You want to set them as early as possible.'}, {'text': 'People do it all the time\\nin the job seeking process.'}, {'text': 'They may say something like,\\n“I have vacation planned for these dates.'}, {'text': 'Will I be able to take my vacation?\"'}, {'text': 'If we can go into a new work environment'}, {'text': \"and with people already knowing\\nwhat we can and can't do,\"}, {'text': \"that's a beautiful way to show up.\"}, {'text': 'If that feels like too much,'}, {'text': 'orientation can be a great time\\nto set boundaries.'}, {'text': 'When your supervisor tells you the workday\\nends at six, just flow it in.'}, {'text': '\"That\\'s perfect.\\nI need to leave work at six.\"'}, {'text': 'One boundary I want you to set right away'}, {'text': 'is to take every single day\\nof paid vacation.'}, {'text': 'You’ve earned it, you need the rest,'}, {'text': 'and recharging is good\\nfor work-life balance.'}, {'text': \"And by the way, it's perfectly acceptable\\nto set boundaries for yourself\"}, {'text': \"when you notice something in the workday\\nisn't making you feel good.\"}, {'text': 'So if you get a headache\\nwhen you have five meetings in a day,'}, {'text': 'tell yourself that four\\nwill be your maximum.'}, {'text': 'If you get anxious'}, {'text': 'trying to respond to 200 emails\\non Monday morning,'}, {'text': \"don't do that first thing.\"}, {'text': 'Break it up in half-hour increments\\nthroughout the day.'}, {'text': 'I have a set of boundaries around my work.'}, {'text': 'For me, I like working\\nin 30-minute chunks.'}, {'text': \"I don't like answering\\nevery email as soon as I get it.\"}, {'text': 'I like sitting with the information\\nbefore I respond.'}, {'text': 'You have to set in motion\\nthose new habits'}, {'text': 'and practices that will\\nmake you feel at ease.'}, {'text': 'And now comes the most important\\npart of the process.'}, {'text': 'Step three: you have to stick\\nto the boundaries you set.'}, {'text': \"If you say you're not available after six,\"}, {'text': \"don't respond to the group chat.\"}, {'text': \"If you say you're not\\navailable on weekends,\"}, {'text': \"don't be available on weekends.\"}, {'text': 'When you respond to emails'}, {'text': 'or agree to look at that proposal\\nout of those bounds,'}, {'text': \"you're teaching people\\nthat the boundary isn't real,\"}, {'text': 'that it’s OK to violate it.'}, {'text': 'Consistency is really key here.'}, {'text': 'That might mean restating\\nthe boundary more than once.'}, {'text': 'That might mean reminding yourself'}, {'text': 'why you set the boundary\\nin the first place.'}, {'text': 'Setting boundaries is hard at first,\\nbut the more you do it,'}, {'text': 'the easier it gets.'}, {'text': 'Boundaries are contagious.'}, {'text': 'Once you start to consistently\\nimplement them, others will, too.'}, {'text': 'You might be the inspiration\\nthat helps them set better boundaries.'}, {'text': \"Even if they don't have\\nthe courage right now,\"}, {'text': \"it's now in the back of their mind.\"}]"
        ],
        [
         "2",
         "vO5Rio_skIU",
         "[{'text': 'So I come from Bosnia.'}, {'text': 'I mean, I live in Sweden now,'}, {'text': \"but you don't need to know\\nmy whole life story.\"}, {'text': 'But the story that I do want to share\\nis from my home country.'}, {'text': 'So close to 50 percent\\nof the land in Bosnia'}, {'text': 'is dedicated to agriculture and farming.'}, {'text': 'So the government\\ndecides to support farmers,'}, {'text': 'to set up a budget,'}, {'text': 'to set up the requirements\\nfor the people to receive the budget,'}, {'text': 'and then to disburse the funds.'}, {'text': 'So they do that, and towards\\nthe end of the process,'}, {'text': 'they decide to analyze\\nwho really received these funds.'}, {'text': 'And they did that,'}, {'text': 'and the Ministry\\nof Agriculture was shocked,'}, {'text': 'because only one group of citizens\\nreceived 90 percent of these funds.'}, {'text': 'And those were men,\\nmen working in agriculture.'}, {'text': 'So where were the women?'}, {'text': \"Why didn't they have access to the funds?\"}, {'text': \"The Minister of Agriculture was surprised,\\nbecause they didn't mean to discriminate.\"}, {'text': 'They knew there were women\\nworking in agriculture, right?'}, {'text': 'So they went back\\nand analyzed the situation.'}, {'text': 'And the problem was --\\nwell, there were three things.'}, {'text': \"The first thing is they didn't even know\\nthe gender of farmers,\"}, {'text': \"because they'd never done\\ngender analysis before.\"}, {'text': 'So actually, they did know\\nthe sex disaggregation of cows,'}, {'text': 'but not of people.'}, {'text': '(Laughter)'}, {'text': 'I will let that sink a bit --'}, {'text': 'because gender is unimportant.'}, {'text': 'The second issue is that the way\\nthey were distributing the funds'}, {'text': 'could not possibly reach women.'}, {'text': 'Why? Because one of the conditions\\nto get this subsidy'}, {'text': 'was to give out\\na land ownership certificate,'}, {'text': 'and we know that traditionally,\\nwomen do not own land.'}, {'text': \"And the second problem\\nwas that women didn't even know.\"}, {'text': 'Why? Because the information was shared\\nat forums that they do not participate in.'}, {'text': 'But the story has a happy end,\\nbecause when the ministry realized this,'}, {'text': 'they changed these provisions.'}, {'text': 'And with the help\\nof gender experts from Bosnia,'}, {'text': 'we now see more and more women\\ngetting funds every year.'}, {'text': 'So what is the point of this story?'}, {'text': 'The point is not only that we should have\\nsex-disaggregated data on people,'}, {'text': 'not only cows.'}, {'text': '(Laughter)'}, {'text': \"But it's also that we can budget\\nfair and equitably,\"}, {'text': \"but we can't just run numbers blindly.\"}, {'text': 'We need to know the faces of the people\\nthat we are serving with public funds.'}, {'text': 'So this is really the heart\\nof gender-responsive budgeting,'}, {'text': 'or as I like to think of it,\\nand maybe you, too,'}, {'text': 'common-sense budgeting.'}, {'text': '(Laughter)'}, {'text': \"So, I'm an economist,\"}, {'text': 'I work with public finance,\\nso public finance and budgets,'}, {'text': 'but my specialty is helping governments\\ninject a gender perspective'}, {'text': 'in their financial decisions and budgets.'}, {'text': 'OK, so budgets are fairly simple,\\nstraightforward,'}, {'text': 'as it was introduced,'}, {'text': 'and now, you are thinking,'}, {'text': '\"Well, that does not look\\nfairly straightforward.\"'}, {'text': \"And it's intentionally done like that,\"}, {'text': 'because this is how we often imagine\\nthe budget to be: so complex,'}, {'text': \"so technocratic, bureaucratic\\nwe don't even want to engage.\"}, {'text': 'But the reality\\nis very different than that.'}, {'text': 'In fact, all our budgets,'}, {'text': 'be it your own budgets\\nor public budgets, or company budgets,'}, {'text': 'go through the four logical steps.'}, {'text': 'The first step is, of course,\\nwe are calculating our revenues.'}, {'text': 'In the sense of the state,\\nit would be taxes and fees, right?'}, {'text': 'The second step is budget approval.'}, {'text': 'After we figure out\\nwhat we will do with the funds,'}, {'text': 'it goes to the approval of the parliament.'}, {'text': 'And then, the third step,\\nmy personal favorite,'}, {'text': 'is spending, or budget execution.'}, {'text': 'Ideally, according to priorities --\\nnot my personal favorite.'}, {'text': 'And then, we go into control\\nand budget oversight.'}, {'text': 'So whether we have actually spent\\nthe money as we planned,'}, {'text': 'and also, whether we have\\nachieved the objectives.'}, {'text': 'So in the sense of the state,'}, {'text': 'it would be an increased\\nlevel of education,'}, {'text': 'decreased level of poverty.'}, {'text': 'In the sense of the companies,\\nit would be profit or income.'}, {'text': \"You see where I'm going.\"}, {'text': 'So what is really wrong with that?'}, {'text': 'It sounds perfectly logical.'}, {'text': 'Well, what is wrong with that'}, {'text': 'is that traditionally, in most countries,\\nif not all around the world,'}, {'text': 'we assume, when we are planning\\nthe budget funds,'}, {'text': 'that we are targeting one universal,\\nhomogenous human'}, {'text': 'that will have the same access to funds,\\nthe same needs, almost.'}, {'text': 'And then, a situation such as this one\\nin the Ministry of Agriculture happens;'}, {'text': \"then, we are surprised that our funds\\ndidn't really reach everybody.\"}, {'text': 'So, what I want to also say here,\\nwhat do we then do about that?'}, {'text': 'In Ukraine, the government has analyzed\\nclose to 300 budget programs.'}, {'text': 'And when I say “budget programs,”'}, {'text': 'these are expenditures\\nin health, education, sports,'}, {'text': 'infrastructure, defense --'}, {'text': 'anything you can think of\\nthat is funded with public funds.'}, {'text': 'And in every single one of these programs,\\nwe have found gender gaps.'}, {'text': 'We have found big gender gaps.'}, {'text': 'And these gender gaps\\nwere usually on account of women --'}, {'text': \"they didn't have access.\"}, {'text': 'And why did this happen?'}, {'text': 'It happened because finance officers\\nwere just doing their jobs,'}, {'text': 'and they were doing it really well.'}, {'text': 'They were planning for economic\\neffectiveness, efficiency,'}, {'text': 'value for money ...'}, {'text': 'We really love value for money.'}, {'text': 'Performance budgeting, medium-term --'}, {'text': 'all of these very valid\\neconomic objectives,'}, {'text': 'very valid goals,'}, {'text': \"but we really didn't account\\nfor the needs of the people\"}, {'text': 'that we are serving with these funds.'}, {'text': 'And let me illustrate that.'}, {'text': 'So we have analyzed\\nthe program for tuberculosis.'}, {'text': 'So, treatment of patients\\nwith tuberculosis.'}, {'text': 'And you may be now asking,'}, {'text': '\"OK, but you know,\\nyou need to treat the patient.'}, {'text': 'Why is gender important here?\"'}, {'text': 'But when we have done the analysis,'}, {'text': 'we have actually seen that 70 percent'}, {'text': 'of the patients\\nwith tuberculosis were men.'}, {'text': 'And tuberculosis\\nis a big issue in Ukraine.'}, {'text': 'And these were men living in remote areas,\\nin rural areas, working in mines.'}, {'text': 'However, the preventive measures\\nand the way they were designed,'}, {'text': \"they didn't account for it.\"}, {'text': 'They were actually targeting\\nthose sectors,'}, {'text': 'such as education and health,'}, {'text': 'where women traditionally dominate.'}, {'text': 'And this is fine,'}, {'text': 'but they really didn’t account\\nfor the needs of the men in these groups.'}, {'text': 'And why?'}, {'text': 'Because gender equality was not important\\nin the budget decision.'}, {'text': \"So what I'm trying to illustrate here\"}, {'text': 'is not only that we need\\nto account for gender equality'}, {'text': 'to achieve our objectives of equality,'}, {'text': 'but we also need to account for it to make\\nmore common-sense budgetary decisions,'}, {'text': 'more effective and efficient budgets.'}, {'text': 'So how do we do that?'}, {'text': 'It looks equally entertaining,'}, {'text': 'but now, we also add gender,'}, {'text': 'so it\\'s a total mess, and we would think,\\n\"How do we even go about that?\"'}, {'text': \"But of course,\\nit's not as complex as that,\"}, {'text': 'because in the heart of this work\\nis gender analysis.'}, {'text': 'And what do I mean by that?'}, {'text': 'So when we are planning,\\nas finance officers,'}, {'text': 'any financial or fiscal decision,'}, {'text': 'meaning when we are planning\\nintroducing a new tax, for example,'}, {'text': 'the core is to analyze\\nhow will that influence'}, {'text': 'different groups in a society?'}, {'text': 'So will we have\\nour gender gaps increased --'}, {'text': 'we don’t want to do that --'}, {'text': 'reduced or leave the status quo?'}, {'text': 'So, of course, we want to reduce them,'}, {'text': 'and I just want to put it here as well,'}, {'text': 'in most countries --\\nnot all, unfortunately,'}, {'text': 'but in a lot of countries\\naround the world,'}, {'text': 'we have a very solid legislative framework\\nfor gender equality.'}, {'text': 'We have commitments.'}, {'text': 'But when it comes to budget and finance,'}, {'text': \"that's where, suddenly,\\nthe story evaporates.\"}, {'text': 'So when it comes to money,'}, {'text': \"it's not really analyzed\\nfor gender impact.\"}, {'text': 'So this is really important,'}, {'text': 'and we do this in, as I said, three steps.'}, {'text': \"I will take you very fast\\nthrough these steps, don't worry.\"}, {'text': 'So the first step is really\\nto do a situation analysis.'}, {'text': 'So in our agriculture example,'}, {'text': 'if we had done a situation analysis,'}, {'text': 'and if we had known\\nthe gender gaps in this sector,'}, {'text': \"we wouldn't have been surprised.\"}, {'text': 'We would have known\\nthat women do not own land,'}, {'text': \"so we wouldn't give this as a requirement,\"}, {'text': 'and we would definitely have known\\nthat we need to inform them'}, {'text': 'in a different way.'}, {'text': 'So this is the first step.'}, {'text': 'The second step is related to my example\\nwith sex disaggregation,'}, {'text': 'you will remember from the beginning.'}, {'text': 'So we really need to know\\nthe beneficiaries'}, {'text': 'that we are trying to serve.'}, {'text': 'And now you are thinking,\\n\"This sounds very obvious,\"'}, {'text': \"but it's not done.\"}, {'text': 'And the third step, of course,\\nis to know the procedures.'}, {'text': 'How will we give this budget out,\\nwho will have access?'}, {'text': 'What will be the excluded groups?'}, {'text': \"And that's it.\"}, {'text': 'And now, I will just share\\nsome good news, I think.'}, {'text': \"It's that around 80 countries\\naround the world\"}, {'text': 'are working with gender budgeting.'}, {'text': 'And please, if you have an interest,'}, {'text': 'just see if your own country\\nis one of them.'}, {'text': 'But when I say they are working\\nwith gender budgeting,'}, {'text': 'that does not mean that their whole budget\\nis gender-responsive.'}, {'text': 'That would be my dream.'}, {'text': 'But my personal hero is Austria. Why?'}, {'text': 'Because they have gender budgeting\\nentrenched in the constitution.'}, {'text': 'So that means that in Austria,'}, {'text': 'it cannot happen that you have\\nan investment project'}, {'text': 'that you are doing\\nwithout considering gender'}, {'text': 'and gender equality.'}, {'text': 'Canada -- feminist government,\\ngender-balanced cabinet --'}, {'text': 'and they are doing gender budgeting,'}, {'text': 'but they are taking into account\\nthe needs of Indigenous groups of people.'}, {'text': 'So this is also something\\nthat we want to do'}, {'text': 'and we have to do.'}, {'text': 'Let me take you to Morocco.'}, {'text': 'Morocco is working with gender\\nbudgeting for 20 years.'}, {'text': 'Indonesia, with the help\\nof the World Bank,'}, {'text': 'has just analyzed\\ntheir whole budget system'}, {'text': 'to make it more gender-responsive.'}, {'text': 'And I need to take you again to Bosnia,'}, {'text': 'because I did start with that example.'}, {'text': 'Balkan countries are doing fantastic work,\\nwith the help of UN Women.'}, {'text': 'So there is a lot of work happening,'}, {'text': 'and I am now coming to an end,'}, {'text': 'because you might now be wondering,'}, {'text': '\"OK, but what is in it\\nfor me?\" in a sense.'}, {'text': '\"You are talking about public budgets,'}, {'text': 'but I work in a company or NGO,\\nor I\\'m self-employed,\" doesn\\'t matter.'}, {'text': 'So what is it? Why is it important for us?'}, {'text': 'Because this is our money.'}, {'text': 'These are our budgets.'}, {'text': 'We are filling these budgets --'}, {'text': \"it's not some abstract money out there,\"}, {'text': 'so we have the right to demand it\\nto be equitable, to be fair.'}, {'text': \"That's one thing.\"}, {'text': \"So it is important for countries,\\nit's important for companies.\"}, {'text': 'Of course, we should ask\\nwho is making decisions,'}, {'text': 'whose needs are being satisfied.'}, {'text': 'And also, maybe, families.'}, {'text': 'But who really has the voice,\\nwho is making decisions?'}, {'text': \"It's interesting just to see,\\nand then, to maybe be surprised,\"}, {'text': 'that these ministries are not.'}, {'text': 'So if you are interested,\\nyou are literally one click away --'}, {'text': \"and I'm aware this sounds\\nlike a sales pitch,\"}, {'text': 'but I am selling you the work of many,\\nmany gender-budgeting experts'}, {'text': 'around the world,'}, {'text': 'who have been, for years,\\nworking with these concepts.'}, {'text': 'So you have such a wealth of material'}, {'text': 'from UN Women, IMF, different scholars,'}, {'text': 'World Bank, Swedish government ...'}, {'text': 'doesn’t matter, I will not go\\ninto all the wealth of materials.'}, {'text': \"So it's all out there.\"}, {'text': 'And if we do that,\\nwe will have the budgets'}, {'text': 'that will not only lead\\nto gender equality,'}, {'text': 'which is an amazing objective in itself,'}, {'text': 'but we will have better, more effective,\\nmore efficient, more fair budgets.'}, {'text': \"What's not to like?\"}, {'text': 'So I hope next time we meet,\\nmaybe here again,'}, {'text': 'this type of gender-responsive budgeting\\nwill be called \"budgeting.\"'}, {'text': 'Thank you.'}, {'text': '(Applause and cheers)'}]"
        ],
        [
         "3",
         "tWZmunAvlMM",
         "[{'text': '(In Swahili: Hello.)'}, {'text': 'Greetings from the heart of Maasai land.'}, {'text': \"My name is Dorcas Naishorua\\nand I'm honored to be here today,\"}, {'text': 'not only as the first\\nMiss Climate in the world,'}, {'text': 'but also a daughter of the savanna,'}, {'text': 'hailing from the vast plains\\nof Kajiado County, Kenya.'}, {'text': 'I bring with me a story of resilience,'}, {'text': 'one shaped by the changing\\npatterns of our land'}, {'text': 'and the challenges we face'}, {'text': 'in a world grappling with climate change.'}, {'text': 'Imagine waking up\\nto the symphony of the savanna,'}, {'text': 'the gentle mooing of cattle,'}, {'text': 'the vibrant calls of birds'}, {'text': 'and the graceful sway of the golden grass'}, {'text': 'and the aesthetic sounds\\nfrom the beautifully beaded clothing.'}, {'text': 'This is the melody of my life,'}, {'text': 'deeply intertwined with the well-being\\nof our environment.'}, {'text': 'Cattle are not only our companions,'}, {'text': 'but also our livelihoods.'}, {'text': 'As the Maasai community,'}, {'text': 'we rely on our cows not just for income\\nor to keep our children in school,'}, {'text': 'but also for sustenance'}, {'text': 'as they form the foundation of our meals'}, {'text': 'and provide the fuel\\nthat keeps our families going.'}, {'text': 'However, this melody is changing.'}, {'text': 'We are witnessing longer droughts\\nand unreliable rains.'}, {'text': 'The signs of climate change\\nare becoming increasingly evident.'}, {'text': 'The land that once\\nsustained us now thirsts.'}, {'text': 'The struggle for limited resources,\\nparticularly food and water,'}, {'text': 'pushes us into dangerous encounters\\nwith wildlife and other people'}, {'text': 'as we fight for survival.'}, {'text': \"It's a competition\"}, {'text': 'where the very ground\\nbeneath our feet seems to shift.'}, {'text': 'This is not just about food insecurity.'}, {'text': \"It's about the erosion of our way of life.\"}, {'text': 'Let me provide a clearer picture\\nof our daily lives.'}, {'text': 'After milking the cows,'}, {'text': 'the sale of the milk\\nbrings in a modest income,'}, {'text': 'allowing us to purchase essentials'}, {'text': 'and have our children go to school.'}, {'text': 'At home,'}, {'text': 'a simple meal of milk and ugali,\\na staple food, sustains us.'}, {'text': 'However, this routine is often disrupted.'}, {'text': 'The dry season presents\\na different reality.'}, {'text': 'The once vibrant plains transform\\ninto graveyards for cattle,'}, {'text': 'with their skulls serving\\nas a haunting reminder'}, {'text': 'of the harshness of climate change.'}, {'text': 'Our crops wither, leaving families\\nwith empty stomachs'}, {'text': 'and schools with empty classrooms.'}, {'text': 'The impact extends beyond hunger.'}, {'text': 'Girls, already vulnerable,'}, {'text': 'are forced to walk for long distances\\nin search of water,'}, {'text': 'and this leads to increased health risks'}, {'text': 'and also compromises their safety.'}, {'text': 'Girls in particular bear the brunt\\nof this harsh reality.'}, {'text': 'Education is often sacrificed'}, {'text': 'as families strive to make ends meet.'}, {'text': 'In desperate attempts to survive,\\nunimaginable things happen.'}, {'text': 'Girls are traded for grass.'}, {'text': 'What goes beyond this harsh reality'}, {'text': 'is the rite of passage\\nfrom childhood to adulthood,'}, {'text': 'which involves a painful circumcision'}, {'text': 'known as female genital mutilation,'}, {'text': 'followed by early marriage.'}, {'text': 'Girls are exchanged for grass\\nto feed the remaining livestock,'}, {'text': 'to sustain the family for some time\\nand see them live miserably'}, {'text': \"for what they didn't choose.\"}, {'text': 'This desperate measure\\nhighlights the depths of our struggle,'}, {'text': 'where girls are married off\\nfor as little as 100 bales of grass'}, {'text': 'to sustain the cattle for some time\\nin times of drought.'}, {'text': 'Livestock have been\\nour sole source of income.'}, {'text': 'Now, due to the actions of others,'}, {'text': 'our way of life must change.'}, {'text': 'This is happening in many other\\npastoral communities as well.'}, {'text': \"Whether it's adapting to climate change\"}, {'text': 'or defending against attempts\\nto seize their land.'}, {'text': 'However, we, the Maasai,'}, {'text': 'are not people who surrender.'}, {'text': 'We are people who adapt.'}, {'text': 'We are planting trees alongside our crops'}, {'text': 'to create a shield\\nagainst the scorching sun'}, {'text': 'and to provide additional food\\nand herbal medicine.'}, {'text': 'We are transforming unused land\\ninto community ranches for beekeeping,'}, {'text': 'and we are dividing our land into paddocks'}, {'text': 'to secure enough pasture\\nfor our livestock.'}, {'text': 'These efforts aim to embrace\\na more sustainable form of pastoralism,'}, {'text': 'enabling us to better withstand\\nthe extreme dry seasons'}, {'text': 'while also utilizing\\nour land for agriculture.'}, {'text': 'Renewable energy projects,\\nsuch as solar power, are also taking root.'}, {'text': 'They allow us to produce water\\nfor nurturing tree seedlings'}, {'text': 'and contribute to combating\\nclimate change.'}, {'text': 'Renewable energy also helps us produce\\nand store food more efficiently,'}, {'text': 'reducing waste and safeguarding\\nour livelihoods.'}, {'text': 'Education is also crucial,'}, {'text': 'and empowering our\\ncommunities with knowledge'}, {'text': 'and skills to adapt to climate change\\nis key to long-term resilience.'}, {'text': 'By fostering climate resilience,'}, {'text': 'livelihoods and diversifying\\nour sources of income,'}, {'text': 'we can provide alternatives\\nduring times of hardships.'}, {'text': 'We are learning,'}, {'text': 'we are evolving and embracing innovation\\nto rewrite the narrative of our struggle.'}, {'text': 'But we cannot walk this journey alone.'}, {'text': 'We need both international\\nand local support,'}, {'text': 'collaborating with organizations\\nthat understand our unique challenges'}, {'text': 'and respect our Indigenous knowledge.'}, {'text': 'We require policies that recognize\\nand protect our land rights,'}, {'text': 'as secure land is the foundation\\nof our food security.'}, {'text': 'Additionally, early-warning systems\\nfor extreme weather'}, {'text': 'will assist us in preparing and responding'}, {'text': 'to climate-related disasters,'}, {'text': 'ensuring the stability of our food supply.'}, {'text': 'As we work towards\\nnourishing 10 billion people,'}, {'text': 'that I believe we can'}, {'text': 'while restoring the Earth,'}, {'text': 'we must prioritize sustainability,'}, {'text': 'equity and respect for the environment.'}, {'text': 'From the heart of the Kenyan savanna,'}, {'text': 'I urge you, let us not only\\nnourish our bodies,'}, {'text': 'but also nurture the spirit of resilience,'}, {'text': 'the power of community'}, {'text': 'and the unwavering hope\\nfor a sustainable future.'}, {'text': 'Together, we can rewrite\\nthe ending of this story,'}, {'text': 'where the Maasai girl not only\\nsurvives but thrives.'}, {'text': 'Her laughter echoing across the plains,'}, {'text': 'a testament to the enduring\\nspirit of our land.'}, {'text': 'Thank you.'}]"
        ],
        [
         "4",
         "ihR9SX7dgRo&pp=0gcJCb8Ag7Wk3p_U",
         "[{'text': \"I'm thrilled to be here tonight\"}, {'text': \"to share with you something\\nwe've been working on\"}, {'text': 'for over two years,'}, {'text': \"and it's in the area\\nof additive manufacturing,\"}, {'text': 'also known as 3D printing.'}, {'text': 'You see this object here.'}, {'text': \"It looks fairly simple,\\nbut it's quite complex at the same time.\"}, {'text': \"It's a set of concentric\\ngeodesic structures\"}, {'text': 'with linkages between each one.'}, {'text': 'In its context, it is not manufacturable\\nby traditional manufacturing techniques.'}, {'text': \"It has a symmetry such\\nthat you can't injection mold it.\"}, {'text': \"You can't even manufacture it\\nthrough milling.\"}, {'text': 'This is a job for a 3D printer,'}, {'text': 'but most 3D printers would take between\\nthree and 10 hours to fabricate it,'}, {'text': \"and we're going to take the risk tonight\\nto try to fabricate it onstage\"}, {'text': 'during this 10-minute talk.'}, {'text': 'Wish us luck.'}, {'text': 'Now, 3D printing is actually a misnomer.'}, {'text': \"It's actually 2D printing\\nover and over again,\"}, {'text': 'and it in fact uses the technologies\\nassociated with 2D printing.'}, {'text': 'Think about inkjet printing where you\\nlay down ink on a page to make letters,'}, {'text': 'and then do that over and over again\\nto build up a three-dimensional object.'}, {'text': 'In microelectronics, they use something'}, {'text': 'called lithography to do\\nthe same sort of thing,'}, {'text': 'to make the transistors\\nand integrated circuits'}, {'text': 'and build up a structure several times.'}, {'text': 'These are all 2D printing technologies.'}, {'text': \"Now, I'm a chemist,\\na material scientist too,\"}, {'text': 'and my co-inventors\\nare also material scientists,'}, {'text': 'one a chemist, one a physicist,'}, {'text': 'and we began to be\\ninterested in 3D printing.'}, {'text': 'And very often, as you know,\\nnew ideas are often simple connections'}, {'text': 'between people with different experiences\\nin different communities,'}, {'text': \"and that's our story.\"}, {'text': 'Now, we were inspired'}, {'text': 'by the \"Terminator 2\" scene for T-1000,'}, {'text': \"and we thought, why couldn't a 3D printer\\noperate in this fashion,\"}, {'text': 'where you have an object\\narise out of a puddle'}, {'text': 'in essentially real time'}, {'text': 'with essentially no waste'}, {'text': 'to make a great object?'}, {'text': 'Okay, just like the movies.'}, {'text': 'And could we be inspired by Hollywood'}, {'text': 'and come up with ways\\nto actually try to get this to work?'}, {'text': 'And that was our challenge.'}, {'text': 'And our approach would be,\\nif we could do this,'}, {'text': 'then we could fundamentally address\\nthe three issues holding back 3D printing'}, {'text': 'from being a manufacturing process.'}, {'text': 'One, 3D printing takes forever.'}, {'text': 'There are mushrooms that grow faster\\nthan 3D printed parts. (Laughter)'}, {'text': 'The layer by layer process'}, {'text': 'leads to defects\\nin mechanical properties,'}, {'text': 'and if we could grow continuously,\\nwe could eliminate those defects.'}, {'text': 'And in fact, if we could grow really fast,\\nwe could also start using materials'}, {'text': 'that are self-curing,\\nand we could have amazing properties.'}, {'text': 'So if we could pull this off,\\nimitate Hollywood,'}, {'text': 'we could in fact address 3D manufacturing.'}, {'text': 'Our approach is to use\\nsome standard knowledge'}, {'text': 'in polymer chemistry'}, {'text': 'to harness light and oxygen\\nto grow parts continuously.'}, {'text': 'Light and oxygen work in different ways.'}, {'text': 'Light can take a resin\\nand convert it to a solid,'}, {'text': 'can convert a liquid to a solid.'}, {'text': 'Oxygen inhibits that process.'}, {'text': 'So light and oxygen\\nare polar opposites from one another'}, {'text': 'from a chemical point of view,'}, {'text': 'and if we can control spatially\\nthe light and oxygen,'}, {'text': 'we could control this process.'}, {'text': 'And we refer to this as CLIP.\\n[Continuous Liquid Interface Production.]'}, {'text': 'It has three functional components.'}, {'text': 'One, it has a reservoir\\nthat holds the puddle,'}, {'text': 'just like the T-1000.'}, {'text': 'At the bottom of the reservoir\\nis a special window.'}, {'text': \"I'll come back to that.\"}, {'text': 'In addition, it has a stage\\nthat will lower into the puddle'}, {'text': 'and pull the object out of the liquid.'}, {'text': 'The third component\\nis a digital light projection system'}, {'text': 'underneath the reservoir,'}, {'text': 'illuminating with light\\nin the ultraviolet region.'}, {'text': 'Now, the key is that this window\\nin the bottom of this reservoir,'}, {'text': \"it's a composite,\\nit's a very special window.\"}, {'text': \"It's not only transparent to light\\nbut it's permeable to oxygen.\"}, {'text': \"It's got characteristics\\nlike a contact lens.\"}, {'text': 'So we can see how the process works.'}, {'text': 'You can start to see that\\nas you lower a stage in there,'}, {'text': 'in a traditional process,\\nwith an oxygen-impermeable window,'}, {'text': 'you make a two-dimensional pattern'}, {'text': 'and you end up gluing that onto the window\\nwith a traditional window,'}, {'text': 'and so in order to introduce\\nthe next layer, you have to separate it,'}, {'text': 'introduce new resin, reposition it,'}, {'text': 'and do this process over and over again.'}, {'text': 'But with our very special window,'}, {'text': \"what we're able to do is,\\nwith oxygen coming through the bottom\"}, {'text': 'as light hits it,'}, {'text': 'that oxygen inhibits the reaction,'}, {'text': 'and we form a dead zone.'}, {'text': 'This dead zone is on the order\\nof tens of microns thick,'}, {'text': \"so that's two or three diameters\\nof a red blood cell,\"}, {'text': 'right at the window interface\\nthat remains a liquid,'}, {'text': 'and we pull this object up,'}, {'text': 'and as we talked about in a Science paper,'}, {'text': 'as we change the oxygen content,\\nwe can change the dead zone thickness.'}, {'text': 'And so we have a number of key variables\\nthat we control: oxygen content,'}, {'text': 'the light, the light intensity,\\nthe dose to cure,'}, {'text': 'the viscosity, the geometry,'}, {'text': 'and we use very sophisticated software\\nto control this process.'}, {'text': 'The result is pretty staggering.'}, {'text': \"It's 25 to 100 times faster\\nthan traditional 3D printers,\"}, {'text': 'which is game-changing.'}, {'text': 'In addition, as our ability\\nto deliver liquid to that interface,'}, {'text': 'we can go 1,000 times faster I believe,'}, {'text': 'and that in fact opens up the opportunity\\nfor generating a lot of heat,'}, {'text': 'and as a chemical engineer,\\nI get very excited at heat transfer'}, {'text': 'and the idea that we might one day\\nhave water-cooled 3D printers,'}, {'text': \"because they're going so fast.\"}, {'text': \"In addition, because we're growing things,\\nwe eliminate the layers,\"}, {'text': 'and the parts are monolithic.'}, {'text': \"You don't see the surface structure.\"}, {'text': 'You have molecularly smooth surfaces.'}, {'text': 'And the mechanical properties\\nof most parts made in a 3D printer'}, {'text': 'are notorious for having properties\\nthat depend on the orientation'}, {'text': 'with which how you printed it,\\nbecause of the layer-like structure.'}, {'text': 'But when you grow objects like this,'}, {'text': 'the properties are invariant\\nwith the print direction.'}, {'text': 'These look like injection-molded parts,'}, {'text': 'which is very different\\nthan traditional 3D manufacturing.'}, {'text': \"In addition, we're able to throw\"}, {'text': 'the entire polymer\\nchemistry textbook at this,'}, {'text': \"and we're able to design chemistries\\nthat can give rise to the properties\"}, {'text': 'you really want in a 3D-printed object.'}, {'text': '(Applause)'}, {'text': \"There it is. That's great.\"}, {'text': \"You always take the risk that something\\nlike this won't work onstage, right?\"}, {'text': 'But we can have materials\\nwith great mechanical properties.'}, {'text': 'For the first time, we can have elastomers'}, {'text': 'that are high elasticity\\nor high dampening.'}, {'text': 'Think about vibration control\\nor great sneakers, for example.'}, {'text': 'We can make materials\\nthat have incredible strength,'}, {'text': 'high strength-to-weight ratio,\\nreally strong materials,'}, {'text': 'really great elastomers,'}, {'text': 'so throw that in the audience there.'}, {'text': 'So great material properties.'}, {'text': 'And so the opportunity now,\\nif you actually make a part'}, {'text': 'that has the properties\\nto be a final part,'}, {'text': 'and you do it in game-changing speeds,'}, {'text': 'you can actually transform manufacturing.'}, {'text': 'Right now, in manufacturing,\\nwhat happens is,'}, {'text': 'the so-called digital thread\\nin digital manufacturing.'}, {'text': 'We go from a CAD drawing, a design,\\nto a prototype to manufacturing.'}, {'text': 'Often, the digital thread is broken\\nright at prototype,'}, {'text': \"because you can't go\\nall the way to manufacturing\"}, {'text': \"because most parts don't have\\nthe properties to be a final part.\"}, {'text': 'We now can connect the digital thread'}, {'text': 'all the way from design\\nto prototyping to manufacturing,'}, {'text': 'and that opportunity\\nreally opens up all sorts of things,'}, {'text': 'from better fuel-efficient cars\\ndealing with great lattice properties'}, {'text': 'with high strength-to-weight ratio,'}, {'text': 'new turbine blades,\\nall sorts of wonderful things.'}, {'text': 'Think about if you need a stent\\nin an emergency situation,'}, {'text': 'instead of the doctor pulling off\\na stent out of the shelf'}, {'text': 'that was just standard sizes,'}, {'text': \"having a stent that's designed\\nfor you, for your own anatomy\"}, {'text': 'with your own tributaries,'}, {'text': 'printed in an emergency situation\\nin real time out of the properties'}, {'text': 'such that the stent could go away\\nafter 18 months: really-game changing.'}, {'text': 'Or digital dentistry, and making\\nthese kinds of structures'}, {'text': \"even while you're in the dentist chair.\"}, {'text': 'And look at the structures\\nthat my students are making'}, {'text': 'at the University of North Carolina.'}, {'text': 'These are amazing microscale structures.'}, {'text': 'You know, the world is really good\\nat nano-fabrication.'}, {'text': \"Moore's Law has driven things\\nfrom 10 microns and below.\"}, {'text': \"We're really good at that,\"}, {'text': \"but it's actually very hard to make things\\nfrom 10 microns to 1,000 microns,\"}, {'text': 'the mesoscale.'}, {'text': 'And subtractive techniques\\nfrom the silicon industry'}, {'text': \"can't do that very well.\"}, {'text': \"They can't etch wafers that well.\"}, {'text': 'But this process is so gentle,'}, {'text': 'we can grow these objects\\nup from the bottom'}, {'text': 'using additive manufacturing'}, {'text': 'and make amazing things\\nin tens of seconds,'}, {'text': 'opening up new sensor technologies,'}, {'text': 'new drug delivery techniques,'}, {'text': 'new lab-on-a-chip applications,\\nreally game-changing stuff.'}, {'text': 'So the opportunity of making\\na part in real time'}, {'text': 'that has the properties to be a final part'}, {'text': 'really opens up 3D manufacturing,'}, {'text': 'and for us, this is very exciting,\\nbecause this really is owning'}, {'text': 'the intersection between hardware,\\nsoftware and molecular science,'}, {'text': \"and I can't wait to see what designers\\nand engineers around the world\"}, {'text': 'are going to be able to do\\nwith this great tool.'}, {'text': 'Thanks for listening.'}, {'text': '(Applause)'}]"
        ]
       ],
       "shape": {
        "columns": 2,
        "rows": 5
       }
      },
      "text/html": [
       "<div>\n",
       "<style scoped>\n",
       "    .dataframe tbody tr th:only-of-type {\n",
       "        vertical-align: middle;\n",
       "    }\n",
       "\n",
       "    .dataframe tbody tr th {\n",
       "        vertical-align: top;\n",
       "    }\n",
       "\n",
       "    .dataframe thead th {\n",
       "        text-align: right;\n",
       "    }\n",
       "</style>\n",
       "<table border=\"1\" class=\"dataframe\">\n",
       "  <thead>\n",
       "    <tr style=\"text-align: right;\">\n",
       "      <th></th>\n",
       "      <th>url</th>\n",
       "      <th>transcript</th>\n",
       "    </tr>\n",
       "  </thead>\n",
       "  <tbody>\n",
       "    <tr>\n",
       "      <th>0</th>\n",
       "      <td>0PAy1zBtTbw</td>\n",
       "      <td>[{'text': 'Two weeks ago I was in my studio in...</td>\n",
       "    </tr>\n",
       "    <tr>\n",
       "      <th>1</th>\n",
       "      <td>4SCrXqbhmCY</td>\n",
       "      <td>[{'text': 'I'm a therapist whose job it is to ...</td>\n",
       "    </tr>\n",
       "    <tr>\n",
       "      <th>2</th>\n",
       "      <td>vO5Rio_skIU</td>\n",
       "      <td>[{'text': 'So I come from Bosnia.'}, {'text': ...</td>\n",
       "    </tr>\n",
       "    <tr>\n",
       "      <th>3</th>\n",
       "      <td>tWZmunAvlMM</td>\n",
       "      <td>[{'text': '(In Swahili: Hello.)'}, {'text': 'G...</td>\n",
       "    </tr>\n",
       "    <tr>\n",
       "      <th>4</th>\n",
       "      <td>ihR9SX7dgRo&amp;pp=0gcJCb8Ag7Wk3p_U</td>\n",
       "      <td>[{'text': 'I'm thrilled to be here tonight'}, ...</td>\n",
       "    </tr>\n",
       "  </tbody>\n",
       "</table>\n",
       "</div>"
      ],
      "text/plain": [
       "                               url  \\\n",
       "0                      0PAy1zBtTbw   \n",
       "1                      4SCrXqbhmCY   \n",
       "2                      vO5Rio_skIU   \n",
       "3                      tWZmunAvlMM   \n",
       "4  ihR9SX7dgRo&pp=0gcJCb8Ag7Wk3p_U   \n",
       "\n",
       "                                          transcript  \n",
       "0  [{'text': 'Two weeks ago I was in my studio in...  \n",
       "1  [{'text': 'I'm a therapist whose job it is to ...  \n",
       "2  [{'text': 'So I come from Bosnia.'}, {'text': ...  \n",
       "3  [{'text': '(In Swahili: Hello.)'}, {'text': 'G...  \n",
       "4  [{'text': 'I'm thrilled to be here tonight'}, ...  "
      ]
     },
     "execution_count": 10,
     "metadata": {},
     "output_type": "execute_result"
    }
   ],
   "source": [
    "\n",
    "df.head()"
   ]
  },
  {
   "cell_type": "code",
   "execution_count": 11,
   "metadata": {},
   "outputs": [],
   "source": [
    "\n",
    "df.set_index('url', inplace=True)"
   ]
  },
  {
   "cell_type": "code",
   "execution_count": 12,
   "metadata": {},
   "outputs": [
    {
     "data": {
      "text/plain": [
       "(3065, 1)"
      ]
     },
     "execution_count": 12,
     "metadata": {},
     "output_type": "execute_result"
    }
   ],
   "source": [
    "\n",
    "df.shape"
   ]
  },
  {
   "cell_type": "code",
   "execution_count": 13,
   "metadata": {},
   "outputs": [],
   "source": [
    "\n",
    "df.reset_index(inplace=True)\n",
    "df.rename(columns={'url': 'video_id'}, inplace=True)"
   ]
  },
  {
   "cell_type": "code",
   "execution_count": 14,
   "metadata": {},
   "outputs": [],
   "source": [
    "\n",
    "with open('ted_video_transcripts_new.pkl', 'wb') as picklefile:\n",
    "    pickle.dump(df, picklefile)\n"
   ]
  },
  {
   "cell_type": "code",
   "execution_count": null,
   "metadata": {},
   "outputs": [],
   "source": []
  }
 ],
 "metadata": {
  "kernelspec": {
   "display_name": "Python 3",
   "language": "python",
   "name": "python3"
  },
  "language_info": {
   "codemirror_mode": {
    "name": "ipython",
    "version": 3
   },
   "file_extension": ".py",
   "mimetype": "text/x-python",
   "name": "python",
   "nbconvert_exporter": "python",
   "pygments_lexer": "ipython3",
   "version": "3.12.4"
  }
 },
 "nbformat": 4,
 "nbformat_minor": 2
}
