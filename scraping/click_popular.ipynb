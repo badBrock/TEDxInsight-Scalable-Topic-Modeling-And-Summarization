{
 "cells": [
  {
   "cell_type": "code",
   "execution_count": 2,
   "metadata": {},
   "outputs": [
    {
     "name": "stdout",
     "output_type": "stream",
     "text": [
      "🔥 Clicked on 'Popular' button successfully!\n"
     ]
    }
   ],
   "source": [
    "import time\n",
    "from selenium import webdriver\n",
    "from selenium.webdriver.common.by import By\n",
    "\n",
    "# Initialize WebDriver\n",
    "options = webdriver.ChromeOptions()\n",
    "options.add_argument(\"--start-maximized\")  \n",
    "driver = webdriver.Chrome(options=options)\n",
    "\n",
    "# Open TED Talks YouTube channel\n",
    "driver.get('https://www.youtube.com/user/TEDtalksDirector/videos')\n",
    "\n",
    "# Wait for page to load\n",
    "time.sleep(3)\n",
    "\n",
    "try:\n",
    "    # Find and click the 'Popular' button\n",
    "    popular_button = driver.find_element(By.CSS_SELECTOR, \n",
    "        \".style-scope.ytd-feed-filter-chip-bar-renderer.iron-selected\")\n",
    "    popular_button.click()\n",
    "    print(\"🔥 Clicked on 'Popular' button successfully!\")\n",
    "except Exception as e:\n",
    "    print(f\"⚠️ Couldn't click on 'Popular' button: {e}\")\n",
    "\n",
    "# Wait a bit to see the effect\n",
    "time.sleep(5)\n",
    "\n",
    "# Close the browser\n",
    "driver.quit()\n"
   ]
  },
  {
   "cell_type": "code",
   "execution_count": 3,
   "metadata": {},
   "outputs": [
    {
     "name": "stdout",
     "output_type": "stream",
     "text": [
      "🔥 Clicked on 'Popular' button successfully!\n"
     ]
    }
   ],
   "source": [
    "import time\n",
    "from selenium import webdriver\n",
    "from selenium.webdriver.common.by import By\n",
    "\n",
    "# Initialize WebDriver\n",
    "options = webdriver.ChromeOptions()\n",
    "options.add_argument(\"--start-maximized\")  \n",
    "driver = webdriver.Chrome(options=options)\n",
    "\n",
    "# Open TED Talks YouTube channel\n",
    "driver.get('https://www.youtube.com/user/TEDtalksDirector/videos')\n",
    "\n",
    "# Wait for page to load\n",
    "time.sleep(3)\n",
    "\n",
    "try:\n",
    "    # Locate the 'Popular' button using its text\n",
    "    popular_button = driver.find_element(By.XPATH, '//yt-formatted-string[@title=\"Popular\"]')\n",
    "    \n",
    "    # Click the button\n",
    "    popular_button.click()\n",
    "    print(\"🔥 Clicked on 'Popular' button successfully!\")\n",
    "except Exception as e:\n",
    "    print(f\"⚠️ Couldn't click on 'Popular' button: {e}\")\n",
    "\n",
    "# Wait a bit to see the effect\n",
    "time.sleep(5)\n",
    "\n",
    "# Close the browser\n",
    "driver.quit()\n"
   ]
  },
  {
   "cell_type": "code",
   "execution_count": null,
   "metadata": {},
   "outputs": [],
   "source": []
  }
 ],
 "metadata": {
  "kernelspec": {
   "display_name": "Python 3",
   "language": "python",
   "name": "python3"
  },
  "language_info": {
   "codemirror_mode": {
    "name": "ipython",
    "version": 3
   },
   "file_extension": ".py",
   "mimetype": "text/x-python",
   "name": "python",
   "nbconvert_exporter": "python",
   "pygments_lexer": "ipython3",
   "version": "3.12.4"
  }
 },
 "nbformat": 4,
 "nbformat_minor": 2
}
