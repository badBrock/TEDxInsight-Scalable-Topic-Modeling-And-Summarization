{
 "cells": [
  {
   "cell_type": "code",
   "execution_count": 1,
   "metadata": {},
   "outputs": [
    {
     "name": "stdout",
     "output_type": "stream",
     "text": [
      "3212\n"
     ]
    }
   ],
   "source": [
    "import pickle\n",
    "\n",
    "def pickle_to_list(file_path):\n",
    "    \"\"\"\n",
    "    Load a pickle file and convert its contents into a list.\n",
    "    \n",
    "    Parameters:\n",
    "        file_path (str): Path to the pickle file.\n",
    "    \n",
    "    Returns:\n",
    "        list: A list containing each element from the pickle file.\n",
    "    \"\"\"\n",
    "    try:\n",
    "        with open(file_path, 'rb') as file:\n",
    "            data = pickle.load(file)\n",
    "            return list(data) if hasattr(data, '__iter__') else [data]\n",
    "    except (FileNotFoundError, pickle.UnpicklingError) as e:\n",
    "        print(f\"Error loading pickle file: {e}\")\n",
    "        return []\n",
    "\n",
    "# Example usage:\n",
    "my_list = pickle_to_list('E:\\\\NLP_Recommender_System\\\\scraping\\\\random_processes\\\\scraped_links_2025.pkl')\n",
    "print(len(my_list))"
   ]
  },
  {
   "cell_type": "code",
   "execution_count": 3,
   "metadata": {},
   "outputs": [
    {
     "data": {
      "text/plain": [
       "'AI7M-JTC6_w'"
      ]
     },
     "execution_count": 3,
     "metadata": {},
     "output_type": "execute_result"
    }
   ],
   "source": [
    "my_list[5]"
   ]
  }
 ],
 "metadata": {
  "kernelspec": {
   "display_name": "Python 3",
   "language": "python",
   "name": "python3"
  },
  "language_info": {
   "codemirror_mode": {
    "name": "ipython",
    "version": 3
   },
   "file_extension": ".py",
   "mimetype": "text/x-python",
   "name": "python",
   "nbconvert_exporter": "python",
   "pygments_lexer": "ipython3",
   "version": "3.12.4"
  }
 },
 "nbformat": 4,
 "nbformat_minor": 2
}
