{
 "cells": [
  {
   "cell_type": "code",
   "execution_count": 1,
   "metadata": {},
   "outputs": [
    {
     "name": "stdout",
     "output_type": "stream",
     "text": [
      "✅ Converted E:\\NLP_Recommender_System\\scraping\\scraped_links.json to scraped_links_2025.pkl successfully!\n"
     ]
    }
   ],
   "source": [
    "import json\n",
    "import pickle\n",
    "\n",
    "# Load JSON data\n",
    "json_file = \"E:\\\\NLP_Recommender_System\\\\scraping\\\\scraped_links.json\"\n",
    "pickle_file = \"scraped_links_2025.pkl\"\n",
    "\n",
    "try:\n",
    "    with open(json_file, \"r\") as file:\n",
    "        data = json.load(file)  # Load JSON as a Python object\n",
    "\n",
    "    # Save as Pickle\n",
    "    with open(pickle_file, \"wb\") as file:\n",
    "        pickle.dump(data, file)\n",
    "\n",
    "    print(f\"✅ Converted {json_file} to {pickle_file} successfully!\")\n",
    "\n",
    "except json.JSONDecodeError:\n",
    "    print(\"⚠️ JSON file is corrupted or empty.\")\n"
   ]
  },
  {
   "cell_type": "code",
   "execution_count": 3,
   "metadata": {},
   "outputs": [],
   "source": [
    "with open(\"E:\\\\NLP_Recommender_System\\\\scraping\\\\random_processes\\\\scraped_links_2025.pkl\", \"rb\") as file:\n",
    "        new = pickle.load(file)"
   ]
  },
  {
   "cell_type": "code",
   "execution_count": 4,
   "metadata": {},
   "outputs": [
    {
     "data": {
      "text/plain": [
       "3212"
      ]
     },
     "execution_count": 4,
     "metadata": {},
     "output_type": "execute_result"
    }
   ],
   "source": [
    "len(new)"
   ]
  },
  {
   "cell_type": "code",
   "execution_count": null,
   "metadata": {},
   "outputs": [],
   "source": []
  }
 ],
 "metadata": {
  "kernelspec": {
   "display_name": "Python 3",
   "language": "python",
   "name": "python3"
  },
  "language_info": {
   "codemirror_mode": {
    "name": "ipython",
    "version": 3
   },
   "file_extension": ".py",
   "mimetype": "text/x-python",
   "name": "python",
   "nbconvert_exporter": "python",
   "pygments_lexer": "ipython3",
   "version": "3.12.4"
  }
 },
 "nbformat": 4,
 "nbformat_minor": 2
}
